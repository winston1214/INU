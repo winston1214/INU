{
 "cells": [
  {
   "cell_type": "code",
   "execution_count": 1,
   "metadata": {},
   "outputs": [],
   "source": [
    "import math\n",
    "import random"
   ]
  },
  {
   "cell_type": "code",
   "execution_count": 2,
   "metadata": {},
   "outputs": [],
   "source": [
    "dataset = [[3.5064385449265267, 2.34547092892632525, 0], [4.384621956392097, 3.4530853889904205, 0], [4.841442919897487, 4.02507852317520154, 0], [3.5985868973088437, 4.1621314217538705, 0], [2.887219775424049, 3.31523082529190005, 0], [9.79822645535526, 1.1052409596099566, 1], [7.8261241795117422, 0.6711054766067182, 1], [2.5026163932400305, 5.800780055043912, 1], [5.032436157202415, 8.650625621472184, 1], [4.095084253434162, 7.69104329159447, 1]]"
   ]
  },
  {
   "cell_type": "code",
   "execution_count": 3,
   "metadata": {},
   "outputs": [],
   "source": [
    "def zeros_matrix(rows, cols):\n",
    "\n",
    "    M = []\n",
    "    while len(M) < rows:\n",
    "        M.append([])\n",
    "        while len(M[-1]) < cols:\n",
    "            M[-1].append(0.0)\n",
    " \n",
    "    return M"
   ]
  },
  {
   "cell_type": "code",
   "execution_count": 4,
   "metadata": {},
   "outputs": [],
   "source": [
    "def matrix_addition(A, B):\n",
    "    rowsA = len(A)\n",
    "    colsA = len(A[0])\n",
    "    rowsB = len(B)\n",
    "    colsB = len(B[0])\n",
    "    if rowsA != rowsB or colsA != colsB:\n",
    "        raise ArithmeticError('Matrices are NOT the same size.')\n",
    " \n",
    "\n",
    "    C = zeros_matrix(rowsA, colsB)\n",
    " \n",
    "\n",
    "    for i in range(rowsA):\n",
    "        for j in range(colsB):\n",
    "            C[i][j] = A[i][j] + B[i][j]\n",
    " \n",
    "    return C\n",
    "def matrix_subtraction(A, B):\n",
    "\n",
    "    rowsA = len(A)\n",
    "    colsA = len(A[0])\n",
    "    rowsB = len(B)\n",
    "    colsB = len(B[0])\n",
    "    if rowsA != rowsB or colsA != colsB:\n",
    "        raise ArithmeticError('Matrices are NOT the same size.')\n",
    " \n",
    "\n",
    "    C = zeros_matrix(rowsA, colsB)\n",
    " \n",
    "    for i in range(rowsA):\n",
    "        for j in range(colsB):\n",
    "            C[i][j] = A[i][j] - B[i][j]\n",
    " \n",
    "    return C"
   ]
  },
  {
   "cell_type": "code",
   "execution_count": 5,
   "metadata": {},
   "outputs": [],
   "source": [
    "def transpose(M):\n",
    "\n",
    "\n",
    "    if not isinstance(M[0],list):\n",
    "        M = [M]\n",
    " \n",
    "\n",
    "    rows = len(M)\n",
    "    cols = len(M[0])\n",
    " \n",
    "\n",
    "    MT = zeros_matrix(cols, rows)\n",
    " \n",
    "\n",
    "    for i in range(rows):\n",
    "        for j in range(cols):\n",
    "            MT[j][i] = M[i][j]\n",
    " \n",
    "    return MT"
   ]
  },
  {
   "cell_type": "code",
   "execution_count": 6,
   "metadata": {},
   "outputs": [],
   "source": [
    "def dot(A, B):\n",
    "\n",
    "    rowsA = len(A)\n",
    "    colsA = len(A[0])\n",
    "    rowsB = len(B)\n",
    "    colsB = len(B[0])\n",
    "    if colsA != rowsB:\n",
    "        raise ArithmeticError('Number of A columns must equal number of B rows.')\n",
    " \n",
    "\n",
    "    C = zeros_matrix(rowsA, colsB)\n",
    "    for i in range(rowsA):\n",
    "        for j in range(colsB):\n",
    "            total = 0\n",
    "            for ii in range(colsA):\n",
    "                total += A[i][ii] * B[ii][j]\n",
    "            C[i][j] = total\n",
    " \n",
    "    return C"
   ]
  },
  {
   "cell_type": "code",
   "execution_count": 7,
   "metadata": {},
   "outputs": [],
   "source": [
    "def matrix_mul(A, B):\n",
    "\n",
    "    rowsA = len(A)\n",
    "    colsA = len(A[0])\n",
    "    rowsB = len(B)\n",
    "    colsB = len(B[0])\n",
    "    if rowsA != rowsB or colsA != colsB:\n",
    "        raise ArithmeticError('Matrices are NOT the same size.')\n",
    " \n",
    "\n",
    "    C = zeros_matrix(rowsA, colsB)\n",
    " \n",
    "\n",
    "    for i in range(rowsA):\n",
    "        for j in range(colsB):\n",
    "            C[i][j] = A[i][j] * B[i][j]\n",
    " \n",
    "    return C"
   ]
  },
  {
   "cell_type": "code",
   "execution_count": 8,
   "metadata": {},
   "outputs": [],
   "source": [
    "def scalar_mul(scal,A):\n",
    "    A1 = A.copy()\n",
    "    for i in range(len(A)):\n",
    "        for j in range(len(A[0])):\n",
    "             A1[i][j] = A[i][j]*scal\n",
    "    return A1"
   ]
  },
  {
   "cell_type": "code",
   "execution_count": 9,
   "metadata": {},
   "outputs": [],
   "source": [
    "def scalar_sub(scal,A):\n",
    "    A1 = A.copy()\n",
    "    for i in range(len(A)):\n",
    "        for j in range(len(A[0])):\n",
    "             A1[i][j] = A[i][j]-scal\n",
    "    return A1"
   ]
  },
  {
   "cell_type": "code",
   "execution_count": 10,
   "metadata": {},
   "outputs": [],
   "source": [
    "def argmax(x):\n",
    "    flatten_x = sum(x,[])\n",
    "    for i,j in enumerate(flatten_x):\n",
    "        if max(flatten_x) == j:\n",
    "            return i"
   ]
  },
  {
   "cell_type": "code",
   "execution_count": 11,
   "metadata": {},
   "outputs": [],
   "source": [
    "def sigmoid(ls):\n",
    "    for i,x in enumerate(ls):\n",
    "        for j,y in enumerate(x):\n",
    "            ls[i][j] = 1/(1+math.exp(-y))\n",
    "    return ls\n",
    "def relu(ls):\n",
    "    for i,x in enumerate(ls):\n",
    "        for j,y in enumerate(x):\n",
    "            if y<=0:\n",
    "                ls[i][j] = 0\n",
    "            else:\n",
    "                ls[i][j] = y\n",
    "    return ls"
   ]
  },
  {
   "cell_type": "code",
   "execution_count": 12,
   "metadata": {},
   "outputs": [],
   "source": [
    "random.seed(1)\n",
    "class neuralNetwork:\n",
    "    \n",
    "    #신경망 초기화하기\n",
    "    def __init__(self,inputnodes,hiddennodes,outputnodes,learningrate):\n",
    "        self.inodes=inputnodes\n",
    "        self.hnodes=hiddennodes\n",
    "        self.onodes=outputnodes\n",
    "        \n",
    "        '''\n",
    "        가중치 행렬 wih와 who\n",
    "        배열 내 가중치는 w_i_j로 표기, 노드 i에서 다음 계층의 노드 j로 연결됨을 의미\n",
    "        w11 w21\n",
    "        w12 w22 등'''\n",
    "        self.wih = [ [random.random() for i in range(self.inodes)] for i in range(self.hnodes)]\n",
    "        self.who=[[random.random() for i in range(self.hnodes)] for i in range(self.onodes)]\n",
    "        \n",
    "        #학습률\n",
    "        self.lr=learningrate\n",
    "        \n",
    "        #활성화 함수\n",
    "#         def sigmoid(ls):\n",
    "#             for i,x in enumerate(ls):\n",
    "#                 for j,y in enumerate(x):\n",
    "#                     ls[i][j] = 1/(1+math.exp(-y))\n",
    "#             return ls\n",
    "#         def relu(ls):\n",
    "#             for i,x in enumerate(ls):\n",
    "#                 for j,y in enumerate(x):\n",
    "#                     if y<=0:\n",
    "#                         ls[i][j] = 0\n",
    "#                     else:\n",
    "#                         ls[i][j] = y\n",
    "#             return ls\n",
    "        self.activation_function = lambda x: sigmoid(x) # sigmoid 사용\n",
    "        # self.activation_function = lambda x: relu(x) # relu 사용\n",
    "            \n",
    "    #신경망 학습시키기\n",
    "    def update(self, inputs_list,targets_list):\n",
    "        #입력 리스트를 2차원의 행렬로 반환\n",
    "        inputs = transpose(inputs_list)\n",
    "        targets= transpose([targets_list])\n",
    "        \n",
    "        #은닉 계층으로 들어오는 신호를 계산\n",
    "        hidden_inputs=dot(self.wih,inputs)\n",
    "\n",
    "        #은닉 계층에서 나가는 신호를 계산\n",
    "        hidden_outputs=self.activation_function(hidden_inputs)\n",
    "\n",
    "        #최종 출력 계층으로 들어오는 신호를 계산\n",
    "\n",
    "        final_inputs=dot(self.who,hidden_outputs)\n",
    "        #최종 출력 계층에서 나가는 신호를 계산\n",
    "        final_outputs=self.activation_function(final_inputs)\n",
    "        \n",
    "        #출력 계층의 오차는(실제값-계산값)\n",
    "        output_errors = matrix_subtraction(targets*len(final_outputs),final_outputs)\n",
    "\n",
    "        #은닉 계층의 오차는 가중치에 의해 나뉜 출력 계층의 오차들을 재조합해서 계산\n",
    "        hidden_errors = dot(transpose(self.who),output_errors)\n",
    "        \n",
    "        #은닉 계층과 출력 계층 간의 가중치 업데이트\n",
    "        \n",
    "        tmp1 = scalar_sub(1.0,final_outputs)\n",
    "        tmp1_result = matrix_mul(matrix_mul(output_errors,final_outputs),tmp1)\n",
    "        \n",
    "        \n",
    "        self.who= matrix_addition(self.who,scalar_mul(self.lr,dot(tmp1_result,transpose(hidden_outputs))))\n",
    "        \n",
    "        #입력 계층과 은닉 계층 간의 가중치 업데이트\n",
    "        tmp2 = scalar_sub(1.0,final_outputs)\n",
    "        tmp2_result = matrix_mul(matrix_mul(hidden_errors,hidden_outputs),tmp2)\n",
    "        self.wih= matrix_addition(self.wih,scalar_mul(self.lr,dot(tmp2_result,transpose(inputs))))\n",
    "#         print('wih',self.wih)\n",
    "        pass\n",
    "    \n",
    "    # test\n",
    "    def test(self, input_list):\n",
    "        \n",
    "        #입력 리스트를 2차원 행렬로 변환\n",
    "        inputs = transpose(input_list)\n",
    "        \n",
    "        #은닉 계층에서 들어오는 신호를 계산\n",
    "        hidden_inputs=dot(self.wih,inputs)\n",
    "        print(self.wih)\n",
    "        #은닉 계층에서 나가는 신호를 계산\n",
    "        hidden_outputs=self.activation_function(hidden_inputs)\n",
    "        #최종 출력 계층으로 들어오는 신호를 계산\n",
    "        print(self.who)\n",
    "        final_inputs=dot(self.who,hidden_outputs)\n",
    "        #최종 출력 계층에서 나가는 신호를 계산\n",
    "        final_outputs=self.activation_function(final_inputs)\n",
    "        \n",
    "        return final_outputs"
   ]
  },
  {
   "cell_type": "code",
   "execution_count": 13,
   "metadata": {},
   "outputs": [],
   "source": [
    "input_nodes = 2\n",
    "hidden_nodes = 2\n",
    "output_nodes = 2\n",
    "learning_rate = 0.001\n",
    "epochs=1"
   ]
  },
  {
   "cell_type": "code",
   "execution_count": 14,
   "metadata": {},
   "outputs": [],
   "source": [
    "n = neuralNetwork(input_nodes,hidden_nodes,output_nodes,learning_rate)"
   ]
  },
  {
   "cell_type": "code",
   "execution_count": 15,
   "metadata": {},
   "outputs": [],
   "source": [
    "def training(n,dataset,epochs): \n",
    "    for e in range(epochs):\n",
    "        for data in dataset:\n",
    "            inputs = data[:2]\n",
    "            targets = data[-1]\n",
    "            n.update(inputs,targets)\n",
    "    return n.wih,n.who"
   ]
  },
  {
   "cell_type": "code",
   "execution_count": 16,
   "metadata": {},
   "outputs": [
    {
     "name": "stdout",
     "output_type": "stream",
     "text": [
      "[[0.13436424411240122, 0.8474337369372327], [0.763774618976614, 0.2550690257394217]]\n",
      "[[0.49543508709194095, 0.4494910647887381], [0.651592972722763, 0.7887233511355132]]\n",
      "[[0.13436424411240122, 0.8474337369372327], [0.763774618976614, 0.2550690257394217]]\n",
      "[[0.49543508709194095, 0.4494910647887381], [0.651592972722763, 0.7887233511355132]]\n",
      "[[0.13436424411240122, 0.8474337369372327], [0.763774618976614, 0.2550690257394217]]\n",
      "[[0.49543508709194095, 0.4494910647887381], [0.651592972722763, 0.7887233511355132]]\n",
      "[[0.13436424411240122, 0.8474337369372327], [0.763774618976614, 0.2550690257394217]]\n",
      "[[0.49543508709194095, 0.4494910647887381], [0.651592972722763, 0.7887233511355132]]\n",
      "[[0.13436424411240122, 0.8474337369372327], [0.763774618976614, 0.2550690257394217]]\n",
      "[[0.49543508709194095, 0.4494910647887381], [0.651592972722763, 0.7887233511355132]]\n",
      "[[0.13436424411240122, 0.8474337369372327], [0.763774618976614, 0.2550690257394217]]\n",
      "[[0.49543508709194095, 0.4494910647887381], [0.651592972722763, 0.7887233511355132]]\n",
      "[[0.13436424411240122, 0.8474337369372327], [0.763774618976614, 0.2550690257394217]]\n",
      "[[0.49543508709194095, 0.4494910647887381], [0.651592972722763, 0.7887233511355132]]\n",
      "[[0.13436424411240122, 0.8474337369372327], [0.763774618976614, 0.2550690257394217]]\n",
      "[[0.49543508709194095, 0.4494910647887381], [0.651592972722763, 0.7887233511355132]]\n",
      "[[0.13436424411240122, 0.8474337369372327], [0.763774618976614, 0.2550690257394217]]\n",
      "[[0.49543508709194095, 0.4494910647887381], [0.651592972722763, 0.7887233511355132]]\n",
      "[[0.13436424411240122, 0.8474337369372327], [0.763774618976614, 0.2550690257394217]]\n",
      "[[0.49543508709194095, 0.4494910647887381], [0.651592972722763, 0.7887233511355132]]\n",
      "0.5\n"
     ]
    }
   ],
   "source": [
    "scorecard = []\n",
    "for data in dataset:\n",
    "    inputs = data[:2]\n",
    "    correct_label = data[-1]\n",
    "    outputs = n.test(inputs)\n",
    "    label=argmax(outputs)\n",
    "    \n",
    "    if label == correct_label:\n",
    "        scorecard.append(1)\n",
    "    else:\n",
    "        scorecard.append(0)\n",
    "print(sum(scorecard)/len(scorecard))"
   ]
  },
  {
   "cell_type": "code",
   "execution_count": 17,
   "metadata": {},
   "outputs": [],
   "source": [
    "# random.seed(1)\n",
    "# def sigmoid(x):\n",
    "#     return 1/(1+math.exp(-x))\n",
    "# def MLP2(input_,hidden,output):\n",
    "#     net = []\n",
    "#     h_layer = [ [random.random() for i in range(input_ + 1)] for j in range(hidden)] # input -> hidden 가중치\n",
    "#     input_list    \n",
    "#     net.append(h_layer)\n",
    "    \n",
    "#     o_layer = [[random.random() for i in range(hidden+1)] for j in range(output)]\n",
    "#     net.append(o_layer)\n",
    "#     return net\n",
    "# MLP2(2,2,2)"
   ]
  },
  {
   "cell_type": "code",
   "execution_count": 18,
   "metadata": {},
   "outputs": [],
   "source": [
    "# dataset[0][0]*random.random() + dataset[0][1].random.random()"
   ]
  },
  {
   "cell_type": "code",
   "execution_count": null,
   "metadata": {},
   "outputs": [],
   "source": []
  }
 ],
 "metadata": {
  "kernelspec": {
   "display_name": "Python 3",
   "language": "python",
   "name": "python3"
  },
  "language_info": {
   "codemirror_mode": {
    "name": "ipython",
    "version": 3
   },
   "file_extension": ".py",
   "mimetype": "text/x-python",
   "name": "python",
   "nbconvert_exporter": "python",
   "pygments_lexer": "ipython3",
   "version": "3.7.1"
  }
 },
 "nbformat": 4,
 "nbformat_minor": 4
}
