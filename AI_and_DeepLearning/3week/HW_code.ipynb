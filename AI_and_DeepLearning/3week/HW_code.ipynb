{
 "cells": [
  {
   "cell_type": "code",
   "execution_count": 1,
   "metadata": {},
   "outputs": [],
   "source": [
    "import torch\n",
    "import torch.nn as nn\n",
    "import numpy as np\n",
    "import matplotlib.pyplot as plt"
   ]
  },
  {
   "cell_type": "markdown",
   "metadata": {},
   "source": [
    "# 8"
   ]
  },
  {
   "cell_type": "code",
   "execution_count": 12,
   "metadata": {},
   "outputs": [],
   "source": [
    "X = torch.FloatTensor([[0,0,0],[0,1,1],[1,1,1],[1,0,1],[0,0,1],[0,1,0]])\n",
    "Y = torch.FloatTensor([[1],[0],[1],[0],[1],[0]]) # cross entropy를 위해 0으로 변경"
   ]
  },
  {
   "cell_type": "code",
   "execution_count": 14,
   "metadata": {},
   "outputs": [],
   "source": [
    "linear = nn.Linear(3,1,bias=True)\n",
    "sigmoid = nn.Sigmoid()\n",
    "model = nn.Sequential(linear,sigmoid)\n",
    "criterion = nn.BCELoss() # Binary Cross Entropy\n",
    "optimizier = torch.optim.SGD(model.parameters(),lr = 0.5)"
   ]
  },
  {
   "cell_type": "code",
   "execution_count": 15,
   "metadata": {},
   "outputs": [
    {
     "name": "stdout",
     "output_type": "stream",
     "text": [
      "0 0.7292872071266174\n",
      "1000 0.6365141272544861\n",
      "2000 0.6365141868591309\n",
      "3000 0.6365141868591309\n",
      "4000 0.6365141868591309\n",
      "5000 0.6365141868591309\n",
      "6000 0.6365141868591309\n",
      "7000 0.6365141868591309\n",
      "8000 0.6365141868591309\n",
      "9000 0.6365141868591309\n"
     ]
    },
    {
     "data": {
      "text/plain": [
       "[<matplotlib.lines.Line2D at 0x26649a49a58>]"
      ]
     },
     "execution_count": 15,
     "metadata": {},
     "output_type": "execute_result"
    },
    {
     "data": {
      "image/png": "[encoded data removed]",
      "text/plain": [
       "<Figure size 432x288 with 1 Axes>"
      ]
     },
     "metadata": {
      "needs_background": "light"
     },
     "output_type": "display_data"
    }
   ],
   "source": [
    "loss_arr = []\n",
    "for step in range(10000):\n",
    "    optimizier.zero_grad()\n",
    "    hypothesis = model(X)\n",
    "    cost = criterion(hypothesis,Y)\n",
    "    cost.backward()\n",
    "    optimizier.step()\n",
    "    loss_arr.append(cost.item())\n",
    "    if step % 1000 == 0:\n",
    "        print(step,cost.item())\n",
    "plt.plot(loss_arr)"
   ]
  },
  {
   "cell_type": "code",
   "execution_count": 16,
   "metadata": {},
   "outputs": [
    {
     "name": "stdout",
     "output_type": "stream",
     "text": [
      "Hypothesis :  tensor([[0.6667],\n",
      "        [0.3333],\n",
      "        [0.3333],\n",
      "        [0.6667],\n",
      "        [0.6667],\n",
      "        [0.3333]]) \n",
      "Correct:  tensor([[1.],\n",
      "        [0.],\n",
      "        [0.],\n",
      "        [1.],\n",
      "        [1.],\n",
      "        [0.]]) \n",
      "Accuracy:  0.6666666865348816\n"
     ]
    }
   ],
   "source": [
    "with torch.no_grad():\n",
    "    hypothesis = model(X)\n",
    "    predicted = (hypothesis>0.5).float()\n",
    "    accuracy = (predicted == Y).float().mean()\n",
    "    print('Hypothesis : ',hypothesis.detach(),'\\nCorrect: ',predicted.detach(),'\\nAccuracy: ',accuracy.item())"
   ]
  },
  {
   "cell_type": "markdown",
   "metadata": {},
   "source": [
    "# 12-1"
   ]
  },
  {
   "cell_type": "code",
   "execution_count": 2,
   "metadata": {},
   "outputs": [],
   "source": [
    "X = torch.FloatTensor([[0,0],[0,1],[1,1],[1,0],[0.5,0.5]])\n",
    "Y = torch.FloatTensor([[0],[0],[0],[0],[1]]) "
   ]
  },
  {
   "cell_type": "code",
   "execution_count": 3,
   "metadata": {},
   "outputs": [],
   "source": [
    "linear = nn.Linear(2,2,bias=True)\n",
    "linear2 = nn.Linear(2,1,bias=True)\n",
    "sigmoid = nn.Sigmoid()\n",
    "model = nn.Sequential(linear,sigmoid,linear2,sigmoid)\n",
    "criterion = nn.BCELoss() # Binary Cross Entropy\n",
    "optimizier = torch.optim.SGD(model.parameters(),lr = 0.5)"
   ]
  },
  {
   "cell_type": "code",
   "execution_count": 4,
   "metadata": {},
   "outputs": [
    {
     "name": "stdout",
     "output_type": "stream",
     "text": [
      "0 0.6084851026535034\n",
      "1000 0.5003818273544312\n",
      "2000 0.5001996755599976\n",
      "3000 0.49721384048461914\n",
      "4000 0.4321187436580658\n",
      "5000 0.05648207664489746\n",
      "6000 0.01654590293765068\n",
      "7000 0.00930034276098013\n",
      "8000 0.006401821970939636\n",
      "9000 0.0048596421256661415\n"
     ]
    },
    {
     "data": {
      "text/plain": [
       "[<matplotlib.lines.Line2D at 0x26646bcfcc0>]"
      ]
     },
     "execution_count": 4,
     "metadata": {},
     "output_type": "execute_result"
    },
    {
     "data": {
      "image/png": "[encoded data removed]",
      "text/plain": [
       "<Figure size 432x288 with 1 Axes>"
      ]
     },
     "metadata": {
      "needs_background": "light"
     },
     "output_type": "display_data"
    }
   ],
   "source": [
    "loss_arr = []\n",
    "for step in range(10000):\n",
    "    optimizier.zero_grad()\n",
    "    hypothesis = model(X)\n",
    "    cost = criterion(hypothesis,Y)\n",
    "    cost.backward()\n",
    "    optimizier.step()\n",
    "    loss_arr.append(cost.item())\n",
    "    if step % 1000 == 0:\n",
    "        print(step,cost.item())\n",
    "plt.plot(loss_arr)"
   ]
  },
  {
   "cell_type": "code",
   "execution_count": 5,
   "metadata": {},
   "outputs": [
    {
     "name": "stdout",
     "output_type": "stream",
     "text": [
      "Hypothesis :  tensor([[0.0022],\n",
      "        [0.0019],\n",
      "        [0.0037],\n",
      "        [0.0028],\n",
      "        [0.9912]]) \n",
      "Correct:  tensor([[0.],\n",
      "        [0.],\n",
      "        [0.],\n",
      "        [0.],\n",
      "        [1.]]) \n",
      "Accuracy:  1.0\n"
     ]
    }
   ],
   "source": [
    "with torch.no_grad():\n",
    "    hypothesis = model(X)\n",
    "    predicted = (hypothesis>0.5).float()\n",
    "    accuracy = (predicted == Y).float().mean()\n",
    "    print('Hypothesis : ',hypothesis.detach(),'\\nCorrect: ',predicted.detach(),'\\nAccuracy: ',accuracy.item())"
   ]
  },
  {
   "cell_type": "code",
   "execution_count": null,
   "metadata": {},
   "outputs": [],
   "source": []
  }
 ],
 "metadata": {
  "kernelspec": {
   "display_name": "Python 3",
   "language": "python",
   "name": "python3"
  },
  "language_info": {
   "codemirror_mode": {
    "name": "ipython",
    "version": 3
   },
   "file_extension": ".py",
   "mimetype": "text/x-python",
   "name": "python",
   "nbconvert_exporter": "python",
   "pygments_lexer": "ipython3",
   "version": "3.7.1"
  }
 },
 "nbformat": 4,
 "nbformat_minor": 4
}
