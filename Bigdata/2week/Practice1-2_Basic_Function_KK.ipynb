{
 "cells": [
  {
   "cell_type": "markdown",
   "metadata": {},
   "source": [
    "# 파이썬함수: 사람의 생각을 정교하게 구현하다\n",
    "\n",
    "- **목적:** 사람의 생각(f)을 컴퓨터로 구현하여 입력에 대응되는 출력을 만든다\n",
    "\n",
    "<center><img src='Image/Basic_InputOutput.PNG' width='700'></center>\n",
    "\n",
    "- 사람의 생각과정을 \"함수\"로 관리하면 효율적이고 편리하게 반복사용 가능하다\n",
    "- 입력(X)을 받아 생각과정(함수)를 거쳐 출력(Y) 된다: Y = f(X)\n",
    "- 복잡한 것들도 큰 함수로 작성할 수 있고, 결국 사람이 수작업으로 해야할 것들이 줄어들고 자동화(인공지능)와 이어진다"
   ]
  },
  {
   "cell_type": "markdown",
   "metadata": {},
   "source": [
    "# 파이썬함수의 모양과 종류\n",
    "\n",
    "- def 키워드를 사용하여 정의한다\n",
    "- 함수에는 입력값과 출력값이 있으며 없을 수도 있다\n",
    "- 입력은 매개변수라고도 하고 출력은 반환값이라고도 한다\n",
    "- 함수 선언시 마지막에 콜론을 입력한다\n",
    "\n",
    "<center><img src='Image/Basic_Function.PNG' width='500'></center>"
   ]
  },
  {
   "cell_type": "code",
   "execution_count": 1,
   "metadata": {
    "ExecuteTime": {
     "end_time": "2021-03-09T14:07:26.156821Z",
     "start_time": "2021-03-09T14:07:26.137901Z"
    }
   },
   "outputs": [
    {
     "data": {
      "text/plain": [
       "1"
      ]
     },
     "execution_count": 1,
     "metadata": {},
     "output_type": "execute_result"
    }
   ],
   "source": [
    "# 함수정의\n",
    "def func_name(a, b):\n",
    "    return a % b\n",
    "\n",
    "# 함수호출\n",
    "func_name(5,2)"
   ]
  },
  {
   "cell_type": "code",
   "execution_count": 2,
   "metadata": {
    "ExecuteTime": {
     "end_time": "2021-03-09T14:07:26.171806Z",
     "start_time": "2021-03-09T14:07:26.161810Z"
    }
   },
   "outputs": [
    {
     "data": {
      "text/plain": [
       "1"
      ]
     },
     "execution_count": 2,
     "metadata": {},
     "output_type": "execute_result"
    }
   ],
   "source": [
    "def func_name(a, b):\n",
    "    result = a % b\n",
    "    return result\n",
    "\n",
    "func_name(5,2)"
   ]
  },
  {
   "cell_type": "code",
   "execution_count": 3,
   "metadata": {
    "ExecuteTime": {
     "end_time": "2021-03-09T14:07:26.186741Z",
     "start_time": "2021-03-09T14:07:26.173776Z"
    }
   },
   "outputs": [
    {
     "data": {
      "text/plain": [
       "1"
      ]
     },
     "execution_count": 3,
     "metadata": {},
     "output_type": "execute_result"
    }
   ],
   "source": [
    "def func_name(a, b):\n",
    "    result = a % b\n",
    "    return result\n",
    "\n",
    "y = func_name(5,2)\n",
    "y"
   ]
  },
  {
   "cell_type": "code",
   "execution_count": 4,
   "metadata": {
    "ExecuteTime": {
     "end_time": "2021-03-09T14:07:26.201728Z",
     "start_time": "2021-03-09T14:07:26.188768Z"
    }
   },
   "outputs": [
    {
     "data": {
      "text/plain": [
       "1"
      ]
     },
     "execution_count": 4,
     "metadata": {},
     "output_type": "execute_result"
    }
   ],
   "source": [
    "func_name(1,3)"
   ]
  },
  {
   "cell_type": "code",
   "execution_count": 5,
   "metadata": {
    "ExecuteTime": {
     "end_time": "2021-03-09T14:07:26.216690Z",
     "start_time": "2021-03-09T14:07:26.202698Z"
    }
   },
   "outputs": [
    {
     "data": {
      "text/plain": [
       "2"
      ]
     },
     "execution_count": 5,
     "metadata": {},
     "output_type": "execute_result"
    }
   ],
   "source": [
    "func_name(50,4)"
   ]
  },
  {
   "cell_type": "code",
   "execution_count": 6,
   "metadata": {
    "ExecuteTime": {
     "end_time": "2021-03-09T14:07:26.231621Z",
     "start_time": "2021-03-09T14:07:26.217659Z"
    }
   },
   "outputs": [],
   "source": [
    "# print(a)\n",
    "# print(b)"
   ]
  },
  {
   "cell_type": "markdown",
   "metadata": {},
   "source": [
    "## 입력도 없고 출력도 없는 함수"
   ]
  },
  {
   "cell_type": "code",
   "execution_count": 7,
   "metadata": {
    "ExecuteTime": {
     "end_time": "2021-03-09T14:07:26.246612Z",
     "start_time": "2021-03-09T14:07:26.232618Z"
    }
   },
   "outputs": [
    {
     "name": "stdout",
     "output_type": "stream",
     "text": [
      "My name is KK\n",
      "My name is KK\n"
     ]
    }
   ],
   "source": [
    "def func1():\n",
    "    print('My name is KK')\n",
    "    \n",
    "func1()\n",
    "func1()"
   ]
  },
  {
   "cell_type": "markdown",
   "metadata": {},
   "source": [
    "## 입력만 있는 함수"
   ]
  },
  {
   "cell_type": "code",
   "execution_count": 8,
   "metadata": {
    "ExecuteTime": {
     "end_time": "2021-03-09T14:07:26.261573Z",
     "start_time": "2021-03-09T14:07:26.248576Z"
    }
   },
   "outputs": [
    {
     "name": "stdout",
     "output_type": "stream",
     "text": [
      "2 곱하기 4 = 8\n"
     ]
    }
   ],
   "source": [
    "def func2(a, b):\n",
    "    print(f'{a} 곱하기 {b} = {a*b}')\n",
    "    \n",
    "func2(2,4)"
   ]
  },
  {
   "cell_type": "code",
   "execution_count": 9,
   "metadata": {
    "ExecuteTime": {
     "end_time": "2021-03-09T14:07:26.276538Z",
     "start_time": "2021-03-09T14:07:26.264568Z"
    }
   },
   "outputs": [
    {
     "name": "stdout",
     "output_type": "stream",
     "text": [
      "5 곱하기 4 = 20\n"
     ]
    }
   ],
   "source": [
    "func2(5,4)"
   ]
  },
  {
   "cell_type": "markdown",
   "metadata": {},
   "source": [
    "## 출력만 있는 함수"
   ]
  },
  {
   "cell_type": "code",
   "execution_count": 10,
   "metadata": {
    "ExecuteTime": {
     "end_time": "2021-03-09T14:07:26.291462Z",
     "start_time": "2021-03-09T14:07:26.280528Z"
    }
   },
   "outputs": [
    {
     "data": {
      "text/plain": [
       "'What is your name? '"
      ]
     },
     "execution_count": 10,
     "metadata": {},
     "output_type": "execute_result"
    }
   ],
   "source": [
    "def func3():\n",
    "    return 'What is your name? '\n",
    "\n",
    "func3()"
   ]
  },
  {
   "cell_type": "code",
   "execution_count": 11,
   "metadata": {
    "ExecuteTime": {
     "end_time": "2021-03-09T14:07:26.306449Z",
     "start_time": "2021-03-09T14:07:26.293463Z"
    }
   },
   "outputs": [
    {
     "data": {
      "text/plain": [
       "'What is your name? KK'"
      ]
     },
     "execution_count": 11,
     "metadata": {},
     "output_type": "execute_result"
    }
   ],
   "source": [
    "y = func3()\n",
    "y + 'KK'"
   ]
  },
  {
   "cell_type": "markdown",
   "metadata": {},
   "source": [
    "## 입력이 고정된 함수\n",
    "\n",
    "- 여러개의 입력 중 특정 입력값이 입력되지 않으면 함수내부에서 지정한 값으로 사용\n",
    "- 고정하고자 하는 입력은 함수입력 표현에서 뒤에 배치해야 함"
   ]
  },
  {
   "cell_type": "code",
   "execution_count": 12,
   "metadata": {
    "ExecuteTime": {
     "end_time": "2021-03-09T14:07:26.321382Z",
     "start_time": "2021-03-09T14:07:26.307418Z"
    }
   },
   "outputs": [
    {
     "data": {
      "text/plain": [
       "6"
      ]
     },
     "execution_count": 12,
     "metadata": {},
     "output_type": "execute_result"
    }
   ],
   "source": [
    "def func4(a,b,c):\n",
    "    return a+b+c\n",
    "\n",
    "func4(1,2,3)"
   ]
  },
  {
   "cell_type": "code",
   "execution_count": 13,
   "metadata": {
    "ExecuteTime": {
     "end_time": "2021-03-09T14:07:26.336341Z",
     "start_time": "2021-03-09T14:07:26.323375Z"
    }
   },
   "outputs": [
    {
     "data": {
      "text/plain": [
       "6"
      ]
     },
     "execution_count": 13,
     "metadata": {},
     "output_type": "execute_result"
    }
   ],
   "source": [
    "def func_fix(a, b=5, c=10):\n",
    "    return a+b+c\n",
    "\n",
    "func_fix(1,2,3)"
   ]
  },
  {
   "cell_type": "code",
   "execution_count": 14,
   "metadata": {
    "ExecuteTime": {
     "end_time": "2021-03-09T14:07:26.351301Z",
     "start_time": "2021-03-09T14:07:26.337338Z"
    }
   },
   "outputs": [
    {
     "data": {
      "text/plain": [
       "13"
      ]
     },
     "execution_count": 14,
     "metadata": {},
     "output_type": "execute_result"
    }
   ],
   "source": [
    "func_fix(1,2)"
   ]
  },
  {
   "cell_type": "code",
   "execution_count": 15,
   "metadata": {
    "ExecuteTime": {
     "end_time": "2021-03-09T14:07:26.366260Z",
     "start_time": "2021-03-09T14:07:26.353297Z"
    }
   },
   "outputs": [
    {
     "data": {
      "text/plain": [
       "16"
      ]
     },
     "execution_count": 15,
     "metadata": {},
     "output_type": "execute_result"
    }
   ],
   "source": [
    "func_fix(1)"
   ]
  },
  {
   "cell_type": "code",
   "execution_count": 16,
   "metadata": {
    "ExecuteTime": {
     "end_time": "2021-03-09T14:07:26.381221Z",
     "start_time": "2021-03-09T14:07:26.367259Z"
    }
   },
   "outputs": [],
   "source": [
    "# func_fix()"
   ]
  },
  {
   "cell_type": "markdown",
   "metadata": {},
   "source": [
    "## 입력이 몇개일지 모르는 함수\n",
    "\n",
    "- ***args:** \"arguments\"의 약자로 함수를 호출할 때 입력의 갯수가 여러개여도 상관없이 받음\n",
    "- args로 입력된 값들을 튜플 타입으로 변환하여 함수 내부로 모두 전달"
   ]
  },
  {
   "cell_type": "code",
   "execution_count": 17,
   "metadata": {
    "ExecuteTime": {
     "end_time": "2021-03-09T14:07:26.396208Z",
     "start_time": "2021-03-09T14:07:26.383217Z"
    }
   },
   "outputs": [
    {
     "data": {
      "text/plain": [
       "3"
      ]
     },
     "execution_count": 17,
     "metadata": {},
     "output_type": "execute_result"
    }
   ],
   "source": [
    "def func_free(*args):\n",
    "    a = 0\n",
    "    for i in args:\n",
    "        a = a + i\n",
    "    return a\n",
    "\n",
    "func_free(1,2)"
   ]
  },
  {
   "cell_type": "code",
   "execution_count": 18,
   "metadata": {
    "ExecuteTime": {
     "end_time": "2021-03-09T14:07:26.411168Z",
     "start_time": "2021-03-09T14:07:26.397178Z"
    }
   },
   "outputs": [
    {
     "data": {
      "text/plain": [
       "14"
      ]
     },
     "execution_count": 18,
     "metadata": {},
     "output_type": "execute_result"
    }
   ],
   "source": [
    "func_free(2,3,4,5)"
   ]
  },
  {
   "cell_type": "code",
   "execution_count": 19,
   "metadata": {
    "ExecuteTime": {
     "end_time": "2021-03-09T14:07:26.426104Z",
     "start_time": "2021-03-09T14:07:26.412138Z"
    }
   },
   "outputs": [
    {
     "data": {
      "text/plain": [
       "0"
      ]
     },
     "execution_count": 19,
     "metadata": {},
     "output_type": "execute_result"
    }
   ],
   "source": [
    "func_free()"
   ]
  },
  {
   "cell_type": "markdown",
   "metadata": {},
   "source": [
    "# 파이썬함수 응용"
   ]
  },
  {
   "cell_type": "markdown",
   "metadata": {},
   "source": [
    "## 조건문(if) 결합: 특정 조건을 만족하는 상황 반영\n",
    "\n",
    "- 생각하는 조건이 참(True)이면 명령을 실행하고 거짓(False)이면 명령을 실행하지 않음"
   ]
  },
  {
   "cell_type": "code",
   "execution_count": 20,
   "metadata": {
    "ExecuteTime": {
     "end_time": "2021-03-09T14:07:26.457027Z",
     "start_time": "2021-03-09T14:07:26.443056Z"
    }
   },
   "outputs": [
    {
     "name": "stdout",
     "output_type": "stream",
     "text": [
      "짝수입니다!\n",
      "2의 배수입니다!\n"
     ]
    }
   ],
   "source": [
    "# if ~: 특정 조건을 만족하는 상황 반영\n",
    "a = 4\n",
    "\n",
    "if a % 2 == 0:\n",
    "    print('짝수입니다!')\n",
    "    print('2의 배수입니다!')"
   ]
  },
  {
   "cell_type": "code",
   "execution_count": 21,
   "metadata": {
    "ExecuteTime": {
     "end_time": "2021-03-09T14:07:26.472976Z",
     "start_time": "2021-03-09T14:07:26.463005Z"
    }
   },
   "outputs": [],
   "source": [
    "a = 5\n",
    "\n",
    "if a % 2 == 0:\n",
    "    print('짝수입니다!')\n",
    "    print('2의 배수입니다!')"
   ]
  },
  {
   "cell_type": "code",
   "execution_count": 22,
   "metadata": {
    "ExecuteTime": {
     "end_time": "2021-03-09T14:07:26.487936Z",
     "start_time": "2021-03-09T14:07:26.474971Z"
    }
   },
   "outputs": [
    {
     "name": "stdout",
     "output_type": "stream",
     "text": [
      "홀수입니다!\n"
     ]
    }
   ],
   "source": [
    "# if ~ else: 특정 조건을 만족하는 경우와 그렇지 않은 경우를 모두 반영\n",
    "a = 5\n",
    "\n",
    "if a % 2 == 0:\n",
    "    print('짝수입니다!')\n",
    "else:\n",
    "    print('홀수입니다!')"
   ]
  },
  {
   "cell_type": "code",
   "execution_count": 23,
   "metadata": {
    "ExecuteTime": {
     "end_time": "2021-03-09T14:07:26.503893Z",
     "start_time": "2021-03-09T14:07:26.493924Z"
    }
   },
   "outputs": [
    {
     "name": "stdout",
     "output_type": "stream",
     "text": [
      "짝수입니다!\n"
     ]
    }
   ],
   "source": [
    "a = 4\n",
    "\n",
    "if a % 2 == 0:\n",
    "    print('짝수입니다!')\n",
    "else:\n",
    "    print('홀수입니다!')"
   ]
  },
  {
   "cell_type": "code",
   "execution_count": 24,
   "metadata": {
    "ExecuteTime": {
     "end_time": "2021-03-09T14:07:26.518854Z",
     "start_time": "2021-03-09T14:07:26.505888Z"
    }
   },
   "outputs": [
    {
     "name": "stdout",
     "output_type": "stream",
     "text": [
      "적당한 양수\n"
     ]
    }
   ],
   "source": [
    "# if ~ elif ~ else: 여러가지 조건을 중첩하는 경우 반영\n",
    "a = 10\n",
    "\n",
    "if a >= 100:\n",
    "    print('큰 양수')\n",
    "elif a >= 10:\n",
    "    print('적당한 양수')\n",
    "elif a < 0:\n",
    "    print('음수')\n",
    "else:\n",
    "    print('0에 가깝구만유!')"
   ]
  },
  {
   "cell_type": "code",
   "execution_count": 25,
   "metadata": {
    "ExecuteTime": {
     "end_time": "2021-03-09T14:07:26.533819Z",
     "start_time": "2021-03-09T14:07:26.522843Z"
    }
   },
   "outputs": [
    {
     "name": "stdout",
     "output_type": "stream",
     "text": [
      "큰 양수\n"
     ]
    }
   ],
   "source": [
    "a = 1000\n",
    "\n",
    "if a >= 100:\n",
    "    print('큰 양수')\n",
    "elif a >= 10:\n",
    "    print('적당한 양수')\n",
    "elif a < 0:\n",
    "    print('음수')\n",
    "else:\n",
    "    print('0에 가깝구만유!')"
   ]
  },
  {
   "cell_type": "code",
   "execution_count": 26,
   "metadata": {
    "ExecuteTime": {
     "end_time": "2021-03-09T14:07:26.548776Z",
     "start_time": "2021-03-09T14:07:26.536807Z"
    }
   },
   "outputs": [
    {
     "name": "stdout",
     "output_type": "stream",
     "text": [
      "음수\n"
     ]
    }
   ],
   "source": [
    "a = -1000\n",
    "\n",
    "if a >= 100:\n",
    "    print('큰 양수')\n",
    "elif a >= 10:\n",
    "    print('적당한 양수')\n",
    "elif a < 0:\n",
    "    print('음수')\n",
    "else:\n",
    "    print('0에 가깝구만유!')"
   ]
  },
  {
   "cell_type": "code",
   "execution_count": 27,
   "metadata": {
    "ExecuteTime": {
     "end_time": "2021-03-09T14:07:26.563732Z",
     "start_time": "2021-03-09T14:07:26.552777Z"
    }
   },
   "outputs": [
    {
     "name": "stdout",
     "output_type": "stream",
     "text": [
      "0에 가깝구만유!\n"
     ]
    }
   ],
   "source": [
    "a = 5\n",
    "\n",
    "if a >= 100:\n",
    "    print('큰 양수')\n",
    "elif a >= 10:\n",
    "    print('적당한 양수')\n",
    "elif a < 0:\n",
    "    print('음수')\n",
    "else:\n",
    "    print('0에 가깝구만유!')"
   ]
  },
  {
   "cell_type": "code",
   "execution_count": 28,
   "metadata": {
    "ExecuteTime": {
     "end_time": "2021-03-09T14:07:26.578693Z",
     "start_time": "2021-03-09T14:07:26.564730Z"
    }
   },
   "outputs": [
    {
     "name": "stdout",
     "output_type": "stream",
     "text": [
      "적당한 양수\n"
     ]
    }
   ],
   "source": [
    "# 함수와 결합\n",
    "def num_spec(a):\n",
    "    if a >= 100:\n",
    "        print('큰 양수')\n",
    "    elif a >= 10:\n",
    "        print('적당한 양수')\n",
    "    elif a < 0:\n",
    "        print('음수')\n",
    "    else:\n",
    "        print('0에 가깝구만유!')\n",
    "        \n",
    "num_spec(10)"
   ]
  },
  {
   "cell_type": "code",
   "execution_count": 29,
   "metadata": {
    "ExecuteTime": {
     "end_time": "2021-03-09T14:07:26.593654Z",
     "start_time": "2021-03-09T14:07:26.579690Z"
    }
   },
   "outputs": [
    {
     "name": "stdout",
     "output_type": "stream",
     "text": [
      "큰 양수\n"
     ]
    }
   ],
   "source": [
    "num_spec(1000)"
   ]
  },
  {
   "cell_type": "code",
   "execution_count": 30,
   "metadata": {
    "ExecuteTime": {
     "end_time": "2021-03-09T14:07:26.609612Z",
     "start_time": "2021-03-09T14:07:26.595649Z"
    }
   },
   "outputs": [
    {
     "name": "stdout",
     "output_type": "stream",
     "text": [
      "음수\n"
     ]
    }
   ],
   "source": [
    "num_spec(-1000)"
   ]
  },
  {
   "cell_type": "code",
   "execution_count": 31,
   "metadata": {
    "ExecuteTime": {
     "end_time": "2021-03-09T14:07:26.623572Z",
     "start_time": "2021-03-09T14:07:26.613601Z"
    }
   },
   "outputs": [
    {
     "name": "stdout",
     "output_type": "stream",
     "text": [
      "0에 가깝구만유!\n"
     ]
    }
   ],
   "source": [
    "num_spec(5)"
   ]
  },
  {
   "cell_type": "markdown",
   "metadata": {},
   "source": [
    "## 반복문(for) 결합: 반복적으로 실행하는 상황 반영\n",
    "\n",
    "- 반복 횟수는 입력된 항목의 원소 개수만큼으로 보통 유한개"
   ]
  },
  {
   "cell_type": "code",
   "execution_count": 32,
   "metadata": {
    "ExecuteTime": {
     "end_time": "2021-03-09T14:07:26.638533Z",
     "start_time": "2021-03-09T14:07:26.625567Z"
    }
   },
   "outputs": [
    {
     "name": "stdout",
     "output_type": "stream",
     "text": [
      "1\n",
      "2\n",
      "3\n",
      "5\n",
      "7\n",
      "10\n"
     ]
    }
   ],
   "source": [
    "# for문\n",
    "num_list = [1,2,3,5,7,10]\n",
    "\n",
    "for num in num_list:\n",
    "    print(num)"
   ]
  },
  {
   "cell_type": "code",
   "execution_count": 33,
   "metadata": {
    "ExecuteTime": {
     "end_time": "2021-03-09T14:07:26.653493Z",
     "start_time": "2021-03-09T14:07:26.640528Z"
    }
   },
   "outputs": [
    {
     "name": "stdout",
     "output_type": "stream",
     "text": [
      "5\n",
      "7\n",
      "10\n"
     ]
    }
   ],
   "source": [
    "# if문과의 결합\n",
    "num_list = [1,2,3,5,7,10]\n",
    "\n",
    "for num in num_list:\n",
    "    if num >= 5:\n",
    "        print(num)"
   ]
  },
  {
   "cell_type": "code",
   "execution_count": 34,
   "metadata": {
    "ExecuteTime": {
     "end_time": "2021-03-09T14:07:26.668459Z",
     "start_time": "2021-03-09T14:07:26.654491Z"
    }
   },
   "outputs": [
    {
     "name": "stdout",
     "output_type": "stream",
     "text": [
      "5\n",
      "10\n",
      "125\n",
      "\n",
      "\n",
      "7\n",
      "14\n",
      "343\n",
      "\n",
      "\n",
      "10\n",
      "20\n",
      "1000\n",
      "\n",
      "\n"
     ]
    }
   ],
   "source": [
    "# if문과의 결합\n",
    "num_list = [1,2,3,5,7,10]\n",
    "\n",
    "for num in num_list:\n",
    "    if num >= 5:\n",
    "        print(num)\n",
    "        print(num*2)\n",
    "        print(num**3)\n",
    "        print('\\n')"
   ]
  },
  {
   "cell_type": "code",
   "execution_count": 35,
   "metadata": {
    "ExecuteTime": {
     "end_time": "2021-03-09T14:07:26.698373Z",
     "start_time": "2021-03-09T14:07:26.674448Z"
    }
   },
   "outputs": [
    {
     "name": "stdout",
     "output_type": "stream",
     "text": [
      "5\n",
      "7\n",
      "10\n"
     ]
    },
    {
     "data": {
      "text/plain": [
       "[10, 14, 20]"
      ]
     },
     "execution_count": 35,
     "metadata": {},
     "output_type": "execute_result"
    }
   ],
   "source": [
    "# 값의 저장\n",
    "blank = []\n",
    "for num in num_list:\n",
    "    if num >= 5:\n",
    "        print(num)\n",
    "        blank.append(num*2) \n",
    "\n",
    "blank"
   ]
  },
  {
   "cell_type": "code",
   "execution_count": 36,
   "metadata": {
    "ExecuteTime": {
     "end_time": "2021-03-09T14:07:26.713336Z",
     "start_time": "2021-03-09T14:07:26.700369Z"
    }
   },
   "outputs": [
    {
     "data": {
      "text/plain": [
       "[6, 10, 14, 18, 22]"
      ]
     },
     "execution_count": 36,
     "metadata": {},
     "output_type": "execute_result"
    }
   ],
   "source": [
    "# 함수와 결합\n",
    "def multiple_list(num_list, criteria):\n",
    "    blank = []\n",
    "    for num in num_list:\n",
    "        if num >= criteria:\n",
    "            blank.append(num*2)\n",
    "    return blank\n",
    "\n",
    "multiple_list([1,3,5,7,9,11], 3)"
   ]
  },
  {
   "cell_type": "code",
   "execution_count": 37,
   "metadata": {
    "ExecuteTime": {
     "end_time": "2021-03-09T14:07:26.728295Z",
     "start_time": "2021-03-09T14:07:26.717325Z"
    }
   },
   "outputs": [
    {
     "data": {
      "text/plain": [
       "[22]"
      ]
     },
     "execution_count": 37,
     "metadata": {},
     "output_type": "execute_result"
    }
   ],
   "source": [
    "multiple_list([1,3,5,7,9,11], 10)"
   ]
  },
  {
   "cell_type": "markdown",
   "metadata": {},
   "source": [
    "## 반복문(while) 결합: 반복적으로 실행하는 상황 반영\n",
    "\n",
    "- 조건식이 반영된 for문의 특성\n",
    "- 조건이 만족할 경우 무한 반복할 수 있음"
   ]
  },
  {
   "cell_type": "code",
   "execution_count": 38,
   "metadata": {
    "ExecuteTime": {
     "end_time": "2021-03-09T14:07:26.743252Z",
     "start_time": "2021-03-09T14:07:26.732285Z"
    }
   },
   "outputs": [
    {
     "name": "stdout",
     "output_type": "stream",
     "text": [
      "1\n",
      "2\n",
      "3\n",
      "4\n"
     ]
    }
   ],
   "source": [
    "# while ~\n",
    "num = 1\n",
    "\n",
    "while num < 5:\n",
    "    print(num)\n",
    "    num = num + 1\n",
    "    "
   ]
  },
  {
   "cell_type": "code",
   "execution_count": 39,
   "metadata": {
    "ExecuteTime": {
     "end_time": "2021-03-09T14:07:26.758217Z",
     "start_time": "2021-03-09T14:07:26.744251Z"
    }
   },
   "outputs": [
    {
     "name": "stdout",
     "output_type": "stream",
     "text": [
      "1\n",
      "2\n",
      "3\n",
      "4\n"
     ]
    }
   ],
   "source": [
    "# for + if 와의 비교\n",
    "for num in [1,2,3,4,5,6,7,8,9]:\n",
    "    if num < 5:\n",
    "        print(num)"
   ]
  },
  {
   "cell_type": "code",
   "execution_count": 40,
   "metadata": {
    "ExecuteTime": {
     "end_time": "2021-03-09T14:07:26.774170Z",
     "start_time": "2021-03-09T14:07:26.761206Z"
    }
   },
   "outputs": [
    {
     "name": "stdout",
     "output_type": "stream",
     "text": [
      "before:  1\n",
      "after:  2\n",
      "\n",
      "\n",
      "before:  2\n",
      "after:  4\n",
      "\n",
      "\n",
      "before:  3\n",
      "after:  6\n",
      "\n",
      "\n",
      "before:  4\n",
      "after:  8\n",
      "\n",
      "\n"
     ]
    }
   ],
   "source": [
    "num = 1\n",
    "\n",
    "while num < 5:\n",
    "    print('before: ', num)\n",
    "    print('after: ', num*2)\n",
    "    print('\\n')\n",
    "    num = num + 1"
   ]
  },
  {
   "cell_type": "code",
   "execution_count": 41,
   "metadata": {
    "ExecuteTime": {
     "end_time": "2021-03-09T14:07:26.789130Z",
     "start_time": "2021-03-09T14:07:26.775167Z"
    }
   },
   "outputs": [
    {
     "name": "stdout",
     "output_type": "stream",
     "text": [
      "before:  1\n",
      "after:  2\n",
      "\n",
      "\n",
      "before:  2\n",
      "after:  4\n",
      "\n",
      "\n",
      "before:  3\n",
      "after:  6\n",
      "\n",
      "\n",
      "before:  4\n",
      "after:  8\n",
      "\n",
      "\n"
     ]
    }
   ],
   "source": [
    "# 함수와의 결합\n",
    "def num2(num):\n",
    "    while num < 5:\n",
    "        print('before: ', num)\n",
    "        print('after: ', num*2)\n",
    "        print('\\n')\n",
    "        num = num + 1\n",
    "\n",
    "num2(1)"
   ]
  },
  {
   "cell_type": "code",
   "execution_count": 42,
   "metadata": {
    "ExecuteTime": {
     "end_time": "2021-03-09T14:07:26.804092Z",
     "start_time": "2021-03-09T14:07:26.793122Z"
    }
   },
   "outputs": [
    {
     "name": "stdout",
     "output_type": "stream",
     "text": [
      "before:  2\n",
      "after:  4\n",
      "\n",
      "\n",
      "before:  3\n",
      "after:  6\n",
      "\n",
      "\n",
      "before:  4\n",
      "after:  8\n",
      "\n",
      "\n"
     ]
    }
   ],
   "source": [
    "num2(2)"
   ]
  },
  {
   "cell_type": "code",
   "execution_count": 43,
   "metadata": {
    "ExecuteTime": {
     "end_time": "2021-03-09T14:07:26.820053Z",
     "start_time": "2021-03-09T14:07:26.807083Z"
    }
   },
   "outputs": [
    {
     "name": "stdout",
     "output_type": "stream",
     "text": [
      "[2]\n",
      "[2, 4]\n",
      "[2, 4, 6]\n",
      "[2, 4, 6, 8]\n",
      "[2, 4, 6, 8, 10]\n"
     ]
    }
   ],
   "source": [
    "# while ~ break: 특정 상황에서 조건문을 빠져나오기 위해 break 명령을 사용\n",
    "num = 1\n",
    "\n",
    "blank = []\n",
    "while True:\n",
    "    blank.append(num*2)\n",
    "    print(blank)\n",
    "    if len(blank) == 5:\n",
    "        break\n",
    "    num = num + 1"
   ]
  },
  {
   "cell_type": "code",
   "execution_count": 44,
   "metadata": {
    "ExecuteTime": {
     "end_time": "2021-03-09T14:07:26.835011Z",
     "start_time": "2021-03-09T14:07:26.823044Z"
    }
   },
   "outputs": [
    {
     "name": "stdout",
     "output_type": "stream",
     "text": [
      "[2]\n",
      "[2, 4]\n",
      "[2, 4, 6]\n",
      "[2, 4, 6, 8]\n",
      "[2, 4, 6, 8, 10]\n"
     ]
    }
   ],
   "source": [
    "# 함수와의 결합\n",
    "def numseq2(num):\n",
    "    blank = []\n",
    "    while True:\n",
    "        blank.append(num*2)\n",
    "        print(blank)\n",
    "        if len(blank) == 5:\n",
    "            break\n",
    "        num = num + 1    \n",
    "        \n",
    "numseq2(1)"
   ]
  },
  {
   "cell_type": "code",
   "execution_count": 45,
   "metadata": {
    "ExecuteTime": {
     "end_time": "2021-03-09T14:07:26.849968Z",
     "start_time": "2021-03-09T14:07:26.838005Z"
    }
   },
   "outputs": [
    {
     "name": "stdout",
     "output_type": "stream",
     "text": [
      "[6]\n",
      "[6, 8]\n",
      "[6, 8, 10]\n",
      "[6, 8, 10, 12]\n",
      "[6, 8, 10, 12, 14]\n"
     ]
    }
   ],
   "source": [
    "numseq2(3)"
   ]
  },
  {
   "cell_type": "code",
   "execution_count": 46,
   "metadata": {
    "ExecuteTime": {
     "end_time": "2021-03-09T14:07:26.864927Z",
     "start_time": "2021-03-09T14:07:26.855957Z"
    }
   },
   "outputs": [
    {
     "data": {
      "text/plain": [
       "[1,\n",
       " 2,\n",
       " 3,\n",
       " 4,\n",
       " 5,\n",
       " 6,\n",
       " 7,\n",
       " 8,\n",
       " 9,\n",
       " 10,\n",
       " 11,\n",
       " 12,\n",
       " 13,\n",
       " 14,\n",
       " 15,\n",
       " 16,\n",
       " 17,\n",
       " 18,\n",
       " 19,\n",
       " 20,\n",
       " 21,\n",
       " 22,\n",
       " 23,\n",
       " 24,\n",
       " 25,\n",
       " 26,\n",
       " 27,\n",
       " 28,\n",
       " 29,\n",
       " 30,\n",
       " 31,\n",
       " 32,\n",
       " 33,\n",
       " 34,\n",
       " 35,\n",
       " 36,\n",
       " 37,\n",
       " 38,\n",
       " 39,\n",
       " 40,\n",
       " 41,\n",
       " 42,\n",
       " 43,\n",
       " 44,\n",
       " 45]"
      ]
     },
     "execution_count": 46,
     "metadata": {},
     "output_type": "execute_result"
    }
   ],
   "source": [
    "# while ~ continue: 참인 조건문 내에서 특정 상황일 때만 실행을 피하기 위해서 사용\n",
    "list(range(1,46))"
   ]
  },
  {
   "cell_type": "code",
   "execution_count": 47,
   "metadata": {
    "ExecuteTime": {
     "end_time": "2021-03-09T14:07:26.879887Z",
     "start_time": "2021-03-09T14:07:26.865925Z"
    }
   },
   "outputs": [
    {
     "name": "stdout",
     "output_type": "stream",
     "text": [
      "[1, 2, 3, 4, 5, 6, 7, 8, 9, 10, 11, 12, 13, 14, 15, 16, 17, 18, 19, 20, 21, 22, 23, 24, 25, 26, 27, 28, 29, 30, 31, 32, 33, 34, 35, 36, 37, 38, 39, 40, 41, 42, 43, 44, 45]\n",
      "[31, 3, 34, 27, 21, 1, 25, 19, 22, 15, 16, 36, 6, 24, 33, 11, 37, 14, 32, 42, 2, 39, 26, 18, 23, 35, 9, 29, 20, 41, 28, 44, 43, 10, 40, 12, 17, 38, 13, 45, 8, 4, 7, 5, 30]\n"
     ]
    }
   ],
   "source": [
    "import random\n",
    "\n",
    "samples = list(range(1,46))\n",
    "print(samples)\n",
    "random.shuffle(samples)\n",
    "print(samples)"
   ]
  },
  {
   "cell_type": "code",
   "execution_count": 48,
   "metadata": {
    "ExecuteTime": {
     "end_time": "2021-03-09T14:07:26.894846Z",
     "start_time": "2021-03-09T14:07:26.880885Z"
    }
   },
   "outputs": [
    {
     "name": "stdout",
     "output_type": "stream",
     "text": [
      "None\n"
     ]
    }
   ],
   "source": [
    "samples_test = random.shuffle(list(range(1,46)))\n",
    "print(samples_test)"
   ]
  },
  {
   "cell_type": "code",
   "execution_count": 49,
   "metadata": {
    "ExecuteTime": {
     "end_time": "2021-03-09T14:07:26.909807Z",
     "start_time": "2021-03-09T14:07:26.895845Z"
    }
   },
   "outputs": [
    {
     "name": "stdout",
     "output_type": "stream",
     "text": [
      "8\n",
      "7\n",
      "7\n",
      "5\n",
      "1\n",
      "4\n",
      "[8, 7, 7, 5, 1, 4]\n"
     ]
    }
   ],
   "source": [
    "samples = list(range(1,10))\n",
    "\n",
    "lotto = []\n",
    "while len(lotto) < 6:\n",
    "    random.shuffle(samples)\n",
    "    num_selected = samples[0]\n",
    "    lotto.append(num_selected)\n",
    "    print(num_selected)\n",
    "print(lotto)"
   ]
  },
  {
   "cell_type": "code",
   "execution_count": 50,
   "metadata": {
    "ExecuteTime": {
     "end_time": "2021-03-09T14:07:26.924771Z",
     "start_time": "2021-03-09T14:07:26.910804Z"
    }
   },
   "outputs": [
    {
     "name": "stdout",
     "output_type": "stream",
     "text": [
      "5\n",
      "4\n",
      "6\n",
      "7\n",
      "8\n",
      "1\n",
      "[5, 4, 6, 7, 8, 1]\n"
     ]
    }
   ],
   "source": [
    "samples = list(range(1,10))\n",
    "\n",
    "lotto = []\n",
    "while len(lotto) < 6:\n",
    "    random.shuffle(samples)\n",
    "    num_selected = samples[0]\n",
    "    if num_selected in lotto:\n",
    "        continue\n",
    "#         break\n",
    "    lotto.append(num_selected)\n",
    "    print(num_selected)\n",
    "print(lotto)"
   ]
  },
  {
   "cell_type": "code",
   "execution_count": 51,
   "metadata": {
    "ExecuteTime": {
     "end_time": "2021-03-09T14:07:26.939728Z",
     "start_time": "2021-03-09T14:07:26.927760Z"
    }
   },
   "outputs": [
    {
     "name": "stdout",
     "output_type": "stream",
     "text": [
      "1\n",
      "7\n",
      "4\n",
      "6\n",
      "8\n",
      "3\n",
      "[1, 7, 4, 6, 8, 3]\n"
     ]
    }
   ],
   "source": [
    "# 함수와 결합\n",
    "def lotto(final_range):\n",
    "    samples = list(range(1,final_range))\n",
    "    \n",
    "    lotto = []\n",
    "    while len(lotto) < 6:\n",
    "        random.shuffle(samples)\n",
    "        num_selected = samples[0]\n",
    "        if num_selected in lotto:\n",
    "            continue\n",
    "        lotto.append(num_selected)\n",
    "        print(num_selected)\n",
    "    print(lotto)\n",
    "    \n",
    "lotto(10)"
   ]
  },
  {
   "cell_type": "code",
   "execution_count": 52,
   "metadata": {
    "ExecuteTime": {
     "end_time": "2021-03-09T14:07:26.954689Z",
     "start_time": "2021-03-09T14:07:26.941723Z"
    }
   },
   "outputs": [
    {
     "name": "stdout",
     "output_type": "stream",
     "text": [
      "3\n",
      "11\n",
      "10\n",
      "4\n",
      "8\n",
      "7\n",
      "[3, 11, 10, 4, 8, 7]\n"
     ]
    }
   ],
   "source": [
    "lotto(15)"
   ]
  },
  {
   "cell_type": "markdown",
   "metadata": {},
   "source": [
    "## 파이썬 내장함수 활용\n",
    "\n",
    "- def를 사용해서 python언어로 이미 anaconda에 만들어진 함수"
   ]
  },
  {
   "cell_type": "code",
   "execution_count": 53,
   "metadata": {
    "ExecuteTime": {
     "end_time": "2021-03-09T14:07:26.969653Z",
     "start_time": "2021-03-09T14:07:26.957681Z"
    }
   },
   "outputs": [
    {
     "data": {
      "text/plain": [
       "55"
      ]
     },
     "execution_count": 53,
     "metadata": {},
     "output_type": "execute_result"
    }
   ],
   "source": [
    "# 합계\n",
    "samples = [1,2,3,4,5,6,7,8,9,10]\n",
    "sum(samples)"
   ]
  },
  {
   "cell_type": "code",
   "execution_count": 54,
   "metadata": {
    "ExecuteTime": {
     "end_time": "2021-03-09T14:07:26.984608Z",
     "start_time": "2021-03-09T14:07:26.971643Z"
    }
   },
   "outputs": [
    {
     "name": "stdout",
     "output_type": "stream",
     "text": [
      "[1, 2, 3, 4, 5, 6, 7, 8, 9, 10]\n",
      "55\n"
     ]
    }
   ],
   "source": [
    "samples = list(range(1,11))\n",
    "print(samples)\n",
    "\n",
    "num_sum = 0\n",
    "for i in samples:\n",
    "    num_sum = num_sum + i\n",
    "print(num_sum)"
   ]
  },
  {
   "cell_type": "code",
   "execution_count": 55,
   "metadata": {
    "ExecuteTime": {
     "end_time": "2021-03-09T14:07:26.999571Z",
     "start_time": "2021-03-09T14:07:26.989599Z"
    }
   },
   "outputs": [
    {
     "data": {
      "text/plain": [
       "10"
      ]
     },
     "execution_count": 55,
     "metadata": {},
     "output_type": "execute_result"
    }
   ],
   "source": [
    "# 최대값\n",
    "max(samples)"
   ]
  },
  {
   "cell_type": "code",
   "execution_count": 56,
   "metadata": {
    "ExecuteTime": {
     "end_time": "2021-03-09T14:07:27.014540Z",
     "start_time": "2021-03-09T14:07:27.003559Z"
    }
   },
   "outputs": [
    {
     "data": {
      "text/plain": [
       "1"
      ]
     },
     "execution_count": 56,
     "metadata": {},
     "output_type": "execute_result"
    }
   ],
   "source": [
    "# 최소값\n",
    "min(samples)"
   ]
  },
  {
   "cell_type": "code",
   "execution_count": 57,
   "metadata": {
    "ExecuteTime": {
     "end_time": "2021-03-09T14:07:27.029487Z",
     "start_time": "2021-03-09T14:07:27.020525Z"
    }
   },
   "outputs": [
    {
     "data": {
      "text/plain": [
       "10"
      ]
     },
     "execution_count": 57,
     "metadata": {},
     "output_type": "execute_result"
    }
   ],
   "source": [
    "# 길이\n",
    "len(samples)"
   ]
  },
  {
   "cell_type": "code",
   "execution_count": 58,
   "metadata": {
    "ExecuteTime": {
     "end_time": "2021-03-09T14:07:27.044446Z",
     "start_time": "2021-03-09T14:07:27.030484Z"
    }
   },
   "outputs": [
    {
     "name": "stdout",
     "output_type": "stream",
     "text": [
      "0 1\n",
      "1 2\n",
      "2 3\n",
      "3 4\n",
      "4 5\n",
      "5 6\n",
      "6 7\n",
      "7 8\n",
      "8 9\n",
      "9 10\n"
     ]
    }
   ],
   "source": [
    "# 개별 순서와 값을 반환하는 함수\n",
    "\n",
    "for i, num in enumerate(samples):\n",
    "    print(i, num)"
   ]
  },
  {
   "cell_type": "code",
   "execution_count": 59,
   "metadata": {
    "ExecuteTime": {
     "end_time": "2021-03-09T14:07:27.059412Z",
     "start_time": "2021-03-09T14:07:27.045445Z"
    }
   },
   "outputs": [
    {
     "data": {
      "text/plain": [
       "range(0, 10)"
      ]
     },
     "execution_count": 59,
     "metadata": {},
     "output_type": "execute_result"
    }
   ],
   "source": [
    "# 특정 범위의 배열을 만드는 함수: range(시작, 끝)\n",
    "\n",
    "range(0,10)"
   ]
  },
  {
   "cell_type": "code",
   "execution_count": 60,
   "metadata": {
    "ExecuteTime": {
     "end_time": "2021-03-09T14:07:27.074367Z",
     "start_time": "2021-03-09T14:07:27.061402Z"
    }
   },
   "outputs": [
    {
     "name": "stdout",
     "output_type": "stream",
     "text": [
      "0\n",
      "1\n",
      "2\n",
      "3\n",
      "4\n",
      "5\n",
      "6\n",
      "7\n",
      "8\n",
      "9\n"
     ]
    }
   ],
   "source": [
    "for i in range(0,10):\n",
    "    print(i)"
   ]
  },
  {
   "cell_type": "code",
   "execution_count": 61,
   "metadata": {
    "ExecuteTime": {
     "end_time": "2021-03-09T14:07:27.089327Z",
     "start_time": "2021-03-09T14:07:27.075365Z"
    }
   },
   "outputs": [
    {
     "data": {
      "text/plain": [
       "3"
      ]
     },
     "execution_count": 61,
     "metadata": {},
     "output_type": "execute_result"
    }
   ],
   "source": [
    "# 정수형으로 변환\n",
    "int(3.14)"
   ]
  },
  {
   "cell_type": "code",
   "execution_count": 62,
   "metadata": {
    "ExecuteTime": {
     "end_time": "2021-03-09T14:07:27.104287Z",
     "start_time": "2021-03-09T14:07:27.094315Z"
    }
   },
   "outputs": [
    {
     "data": {
      "text/plain": [
       "'3.14'"
      ]
     },
     "execution_count": 62,
     "metadata": {},
     "output_type": "execute_result"
    }
   ],
   "source": [
    "# 문자열로 변환\n",
    "str(3.14)"
   ]
  },
  {
   "cell_type": "code",
   "execution_count": 63,
   "metadata": {
    "ExecuteTime": {
     "end_time": "2021-03-09T14:07:27.119246Z",
     "start_time": "2021-03-09T14:07:27.105284Z"
    }
   },
   "outputs": [
    {
     "data": {
      "text/plain": [
       "3"
      ]
     },
     "execution_count": 63,
     "metadata": {},
     "output_type": "execute_result"
    }
   ],
   "source": [
    "# 반올림\n",
    "round(3.14)"
   ]
  },
  {
   "cell_type": "code",
   "execution_count": 64,
   "metadata": {
    "ExecuteTime": {
     "end_time": "2021-03-09T14:07:27.134207Z",
     "start_time": "2021-03-09T14:07:27.120244Z"
    }
   },
   "outputs": [
    {
     "name": "stdout",
     "output_type": "stream",
     "text": [
      "[1, 2, 3, 4, 5, 6, 7, 8, 9]\n",
      "[9, 8, 7, 6, 5, 4, 3, 2, 1]\n"
     ]
    }
   ],
   "source": [
    "# 값들의 순서를 바꿈\n",
    "samples = list(range(1,10))\n",
    "print(samples)\n",
    "reverse_samples = list(reversed(samples))\n",
    "print(reverse_samples)"
   ]
  },
  {
   "cell_type": "code",
   "execution_count": 65,
   "metadata": {
    "ExecuteTime": {
     "end_time": "2021-03-09T14:07:27.149171Z",
     "start_time": "2021-03-09T14:07:27.136202Z"
    }
   },
   "outputs": [
    {
     "data": {
      "text/plain": [
       "[1, 2, 3, 4, 5, 6, 7, 8, 9]"
      ]
     },
     "execution_count": 65,
     "metadata": {},
     "output_type": "execute_result"
    }
   ],
   "source": [
    "# 오름차순\n",
    "sorted(reverse_samples)"
   ]
  },
  {
   "cell_type": "code",
   "execution_count": 66,
   "metadata": {
    "ExecuteTime": {
     "end_time": "2021-03-09T14:07:27.164128Z",
     "start_time": "2021-03-09T14:07:27.152163Z"
    }
   },
   "outputs": [
    {
     "data": {
      "text/plain": [
       "[('a', 1), ('b', 2), ('c', 3)]"
      ]
     },
     "execution_count": 66,
     "metadata": {},
     "output_type": "execute_result"
    }
   ],
   "source": [
    "# 값들의 짝을 이루게하여 반복문에 많이 사용됨\n",
    "# 짝을 이룰 값들의 길이는 서로 같아야 함\n",
    "chars = ['a','b','c']\n",
    "nums = [1,2,3]\n",
    "list(zip(chars, nums))"
   ]
  },
  {
   "cell_type": "markdown",
   "metadata": {},
   "source": [
    "## 내장함수처럼 활용하기"
   ]
  },
  {
   "cell_type": "code",
   "execution_count": 67,
   "metadata": {
    "ExecuteTime": {
     "end_time": "2021-03-09T14:07:27.179087Z",
     "start_time": "2021-03-09T14:07:27.167122Z"
    }
   },
   "outputs": [
    {
     "data": {
      "text/plain": [
       "2"
      ]
     },
     "execution_count": 67,
     "metadata": {},
     "output_type": "execute_result"
    }
   ],
   "source": [
    "def calculator(a, b):\n",
    "    result = a % b\n",
    "    return result\n",
    "\n",
    "calculator(5,3)"
   ]
  },
  {
   "cell_type": "code",
   "execution_count": 68,
   "metadata": {
    "ExecuteTime": {
     "end_time": "2021-03-09T14:07:27.209016Z",
     "start_time": "2021-03-09T14:07:27.189063Z"
    }
   },
   "outputs": [
    {
     "data": {
      "text/plain": [
       "0"
      ]
     },
     "execution_count": 68,
     "metadata": {},
     "output_type": "execute_result"
    }
   ],
   "source": [
    "calculator(2,2)"
   ]
  },
  {
   "cell_type": "code",
   "execution_count": 69,
   "metadata": {
    "ExecuteTime": {
     "end_time": "2021-03-09T14:07:27.238927Z",
     "start_time": "2021-03-09T14:07:27.218984Z"
    }
   },
   "outputs": [
    {
     "data": {
      "text/plain": [
       "1"
      ]
     },
     "execution_count": 69,
     "metadata": {},
     "output_type": "execute_result"
    }
   ],
   "source": [
    "calculator(10,3)"
   ]
  },
  {
   "cell_type": "code",
   "execution_count": 70,
   "metadata": {
    "ExecuteTime": {
     "end_time": "2021-03-09T14:07:27.253889Z",
     "start_time": "2021-03-09T14:07:27.239925Z"
    },
    "scrolled": true
   },
   "outputs": [
    {
     "name": "stdout",
     "output_type": "stream",
     "text": [
      "2\n",
      "0\n",
      "1\n"
     ]
    }
   ],
   "source": [
    "pairs = [(5,3), (2,2), (10,3)]\n",
    "for a, b in pairs:\n",
    "    modulo = calculator(a,b)\n",
    "    print(modulo)"
   ]
  },
  {
   "cell_type": "code",
   "execution_count": 71,
   "metadata": {
    "ExecuteTime": {
     "end_time": "2021-03-09T14:07:27.268853Z",
     "start_time": "2021-03-09T14:07:27.255882Z"
    }
   },
   "outputs": [
    {
     "data": {
      "text/plain": [
       "{(5, 3): 2, (2, 2): 0, (10, 3): 1}"
      ]
     },
     "execution_count": 71,
     "metadata": {},
     "output_type": "execute_result"
    }
   ],
   "source": [
    "# 함수의 중첩\n",
    "def calculator(a, b):\n",
    "    result = a % b\n",
    "    return result\n",
    "\n",
    "def calculator_final(pairs):\n",
    "    result = dict()\n",
    "    for a, b in pairs:\n",
    "        modulo = calculator(a,b)\n",
    "        result[(a,b)] = modulo\n",
    "    return result\n",
    "\n",
    "pairs = [(5,3), (2,2), (10,3)]\n",
    "calculator_final(pairs)"
   ]
  },
  {
   "cell_type": "markdown",
   "metadata": {},
   "source": [
    "## Others"
   ]
  },
  {
   "cell_type": "markdown",
   "metadata": {},
   "source": [
    "### 경제적인 코드작성: lambda\n",
    "\n",
    "- lambda 입력:출력\n",
    "- 익명함수라서 사용후 메모리에서 사라지므로 경제적"
   ]
  },
  {
   "cell_type": "code",
   "execution_count": 72,
   "metadata": {
    "ExecuteTime": {
     "end_time": "2021-03-09T14:07:27.283807Z",
     "start_time": "2021-03-09T14:07:27.271840Z"
    }
   },
   "outputs": [
    {
     "data": {
      "text/plain": [
       "3"
      ]
     },
     "execution_count": 72,
     "metadata": {},
     "output_type": "execute_result"
    }
   ],
   "source": [
    "def add(a,b):\n",
    "    return a+b\n",
    "\n",
    "add(1,2)"
   ]
  },
  {
   "cell_type": "code",
   "execution_count": 73,
   "metadata": {
    "ExecuteTime": {
     "end_time": "2021-03-09T14:07:27.298773Z",
     "start_time": "2021-03-09T14:07:27.285804Z"
    }
   },
   "outputs": [
    {
     "data": {
      "text/plain": [
       "3"
      ]
     },
     "execution_count": 73,
     "metadata": {},
     "output_type": "execute_result"
    }
   ],
   "source": [
    "add_ld = lambda a,b:a+b\n",
    "\n",
    "add_ld(1,2)"
   ]
  },
  {
   "cell_type": "code",
   "execution_count": 74,
   "metadata": {
    "ExecuteTime": {
     "end_time": "2021-03-09T14:07:27.313732Z",
     "start_time": "2021-03-09T14:07:27.303759Z"
    }
   },
   "outputs": [
    {
     "data": {
      "text/plain": [
       "[2]"
      ]
     },
     "execution_count": 74,
     "metadata": {},
     "output_type": "execute_result"
    }
   ],
   "source": [
    "result = []\n",
    "add_func = lambda x:result.append(x+1)\n",
    "\n",
    "add_func(1)\n",
    "result"
   ]
  },
  {
   "cell_type": "code",
   "execution_count": 75,
   "metadata": {
    "ExecuteTime": {
     "end_time": "2021-03-09T14:07:27.328691Z",
     "start_time": "2021-03-09T14:07:27.315723Z"
    }
   },
   "outputs": [
    {
     "name": "stdout",
     "output_type": "stream",
     "text": [
      "[2]\n",
      "[2, 3]\n",
      "[2, 3, 4]\n",
      "[2, 3, 4, 5]\n",
      "[2, 3, 4, 5, 6]\n"
     ]
    }
   ],
   "source": [
    "result = []\n",
    "for x in [1,2,3,4,5]:\n",
    "    add_func(x)\n",
    "    print(result)"
   ]
  },
  {
   "cell_type": "markdown",
   "metadata": {},
   "source": [
    "### 경제적인 중첩함수: map\n",
    "\n",
    "- map(function, input)\n",
    "- 함수를 입력으로 받을 수 있으며, 입력된 값이 함수에 적용된 값들이 출력"
   ]
  },
  {
   "cell_type": "code",
   "execution_count": 76,
   "metadata": {
    "ExecuteTime": {
     "end_time": "2021-03-09T14:07:27.343647Z",
     "start_time": "2021-03-09T14:07:27.330682Z"
    }
   },
   "outputs": [
    {
     "data": {
      "text/plain": [
       "[1, 2, 3, 4, 5, 6, 7, 8, 9, 10]"
      ]
     },
     "execution_count": 76,
     "metadata": {},
     "output_type": "execute_result"
    }
   ],
   "source": [
    "add_one = lambda x:x+1\n",
    "data = list(range(0,10))\n",
    "\n",
    "list(map(add_one, data))"
   ]
  },
  {
   "cell_type": "code",
   "execution_count": 77,
   "metadata": {
    "ExecuteTime": {
     "end_time": "2021-03-09T14:07:27.358608Z",
     "start_time": "2021-03-09T14:07:27.344645Z"
    }
   },
   "outputs": [
    {
     "data": {
      "text/plain": [
       "[6, 6, 6, 6, 6]"
      ]
     },
     "execution_count": 77,
     "metadata": {},
     "output_type": "execute_result"
    }
   ],
   "source": [
    "add = lambda x,y:x+y\n",
    "a = [1,2,3,4,5]\n",
    "b = [5,4,3,2,1]\n",
    "\n",
    "list(map(add, a,b))"
   ]
  },
  {
   "cell_type": "markdown",
   "metadata": {},
   "source": [
    "### 경제적인 조건반영 중첩함수: filter\n",
    "\n",
    "- filter(function, input)\n",
    "- map과 동일한 구조지만 조건식이 참인경우만 연산되어 출력"
   ]
  },
  {
   "cell_type": "code",
   "execution_count": 78,
   "metadata": {
    "ExecuteTime": {
     "end_time": "2021-03-09T14:07:27.373572Z",
     "start_time": "2021-03-09T14:07:27.361601Z"
    }
   },
   "outputs": [
    {
     "data": {
      "text/plain": [
       "[0, 2, 4, 6, 8]"
      ]
     },
     "execution_count": 78,
     "metadata": {},
     "output_type": "execute_result"
    }
   ],
   "source": [
    "even_num = lambda x:x%2==0\n",
    "data = list(range(0,10))\n",
    "\n",
    "list(filter(even_num, data))"
   ]
  },
  {
   "cell_type": "code",
   "execution_count": 79,
   "metadata": {
    "ExecuteTime": {
     "end_time": "2021-03-09T14:07:27.403516Z",
     "start_time": "2021-03-09T14:07:27.377606Z"
    }
   },
   "outputs": [
    {
     "data": {
      "text/plain": [
       "[True, False, True, False, True, False, True, False, True, False]"
      ]
     },
     "execution_count": 79,
     "metadata": {},
     "output_type": "execute_result"
    }
   ],
   "source": [
    "# map 함수에서는 참/거짓의 로직만 출력됨\n",
    "list(map(even_num, data))"
   ]
  },
  {
   "cell_type": "markdown",
   "metadata": {},
   "source": [
    "### 경제적인 반복값 생성함수: Comprehension\n",
    "\n",
    "- 반복값을 생성하는 방법중 간편하고 유용한 기능"
   ]
  },
  {
   "cell_type": "code",
   "execution_count": 80,
   "metadata": {
    "ExecuteTime": {
     "end_time": "2021-03-09T14:07:27.418450Z",
     "start_time": "2021-03-09T14:07:27.404485Z"
    }
   },
   "outputs": [
    {
     "data": {
      "text/plain": [
       "[0, 2, 4, 6, 8, 10, 12, 14, 16, 18, 20]"
      ]
     },
     "execution_count": 80,
     "metadata": {},
     "output_type": "execute_result"
    }
   ],
   "source": [
    "# List Type\n",
    "result = []\n",
    "for x in range(11):\n",
    "    result.append(x*2)\n",
    "result"
   ]
  },
  {
   "cell_type": "code",
   "execution_count": 81,
   "metadata": {
    "ExecuteTime": {
     "end_time": "2021-03-09T14:07:27.433437Z",
     "start_time": "2021-03-09T14:07:27.420443Z"
    }
   },
   "outputs": [
    {
     "data": {
      "text/plain": [
       "[0, 2, 4, 6, 8, 10, 12, 14, 16, 18, 20]"
      ]
     },
     "execution_count": 81,
     "metadata": {},
     "output_type": "execute_result"
    }
   ],
   "source": [
    "# Comprehension\n",
    "[x*2 for x in range(11)]"
   ]
  },
  {
   "cell_type": "code",
   "execution_count": 82,
   "metadata": {
    "ExecuteTime": {
     "end_time": "2021-03-09T14:07:27.448367Z",
     "start_time": "2021-03-09T14:07:27.434405Z"
    }
   },
   "outputs": [
    {
     "name": "stdout",
     "output_type": "stream",
     "text": [
      "75 [4, 6, 8, 10, 12, 14, 16, 18, 20, 22, 24, 26, 28, 30, 32, 34, 36, 38, 40, 42, 44, 46, 48, 6, 9, 12, 15, 18, 21, 24, 27, 30, 33, 36, 39, 42, 45, 48, 8, 12, 16, 20, 24, 28, 32, 36, 40, 44, 48, 10, 15, 20, 25, 30, 35, 40, 45, 12, 18, 24, 30, 36, 42, 48, 14, 21, 28, 35, 42, 49, 16, 24, 32, 40, 48]\n"
     ]
    }
   ],
   "source": [
    "# Set Type\n",
    "result = []\n",
    "for i in range(2,9):\n",
    "    for j in range(i*2, 50, i):\n",
    "        result.append(j)\n",
    "print(len(result), result)"
   ]
  },
  {
   "cell_type": "code",
   "execution_count": 83,
   "metadata": {
    "ExecuteTime": {
     "end_time": "2021-03-09T14:07:27.463359Z",
     "start_time": "2021-03-09T14:07:27.449366Z"
    }
   },
   "outputs": [
    {
     "name": "stdout",
     "output_type": "stream",
     "text": [
      "75 [4, 6, 8, 10, 12, 14, 16, 18, 20, 22, 24, 26, 28, 30, 32, 34, 36, 38, 40, 42, 44, 46, 48, 6, 9, 12, 15, 18, 21, 24, 27, 30, 33, 36, 39, 42, 45, 48, 8, 12, 16, 20, 24, 28, 32, 36, 40, 44, 48, 10, 15, 20, 25, 30, 35, 40, 45, 12, 18, 24, 30, 36, 42, 48, 14, 21, 28, 35, 42, 49, 16, 24, 32, 40, 48]\n"
     ]
    }
   ],
   "source": [
    "# Comprehension\n",
    "result = [j for i in range(2,9) for j in range(i*2, 50, i)]\n",
    "print(len(result), result)"
   ]
  },
  {
   "cell_type": "code",
   "execution_count": 84,
   "metadata": {
    "ExecuteTime": {
     "end_time": "2021-03-09T14:07:27.478315Z",
     "start_time": "2021-03-09T14:07:27.464326Z"
    }
   },
   "outputs": [
    {
     "name": "stdout",
     "output_type": "stream",
     "text": [
      "33 {4, 6, 8, 9, 10, 12, 14, 15, 16, 18, 20, 21, 22, 24, 25, 26, 27, 28, 30, 32, 33, 34, 35, 36, 38, 39, 40, 42, 44, 45, 46, 48, 49}\n"
     ]
    }
   ],
   "source": [
    "# 집합으로 값을 정리하면 중복값들은 사라짐\n",
    "result = {j for i in range(2,9) for j in range(i*2, 50, i)}\n",
    "print(len(result), result)"
   ]
  },
  {
   "cell_type": "code",
   "execution_count": 85,
   "metadata": {
    "ExecuteTime": {
     "end_time": "2021-03-09T14:07:27.493293Z",
     "start_time": "2021-03-09T14:07:27.479284Z"
    }
   },
   "outputs": [
    {
     "data": {
      "text/plain": [
       "{'math': 90, 'history': 80, 'english': 95, 'computer engineering': 100}"
      ]
     },
     "execution_count": 85,
     "metadata": {},
     "output_type": "execute_result"
    }
   ],
   "source": [
    "# Dict Type\n",
    "subjects = ['math', 'history', 'english', 'computer engineering']\n",
    "scores = [90, 80, 95, 100]\n",
    "\n",
    "result = dict()\n",
    "for key, value in zip(subjects, scores):\n",
    "    result[key] = value\n",
    "result"
   ]
  },
  {
   "cell_type": "code",
   "execution_count": 86,
   "metadata": {
    "ExecuteTime": {
     "end_time": "2021-03-09T14:07:27.508242Z",
     "start_time": "2021-03-09T14:07:27.495243Z"
    }
   },
   "outputs": [
    {
     "data": {
      "text/plain": [
       "{'math': 90, 'history': 80, 'english': 95, 'computer engineering': 100}"
      ]
     },
     "execution_count": 86,
     "metadata": {},
     "output_type": "execute_result"
    }
   ],
   "source": [
    "# Comprehension\n",
    "{key:value for key, value in zip(subjects, scores)}"
   ]
  },
  {
   "cell_type": "code",
   "execution_count": 87,
   "metadata": {
    "ExecuteTime": {
     "end_time": "2021-03-09T14:07:27.523201Z",
     "start_time": "2021-03-09T14:07:27.509205Z"
    }
   },
   "outputs": [
    {
     "data": {
      "text/plain": [
       "{'math': 90, 'history': 80, 'english': 95, 'computer engineering': 100}"
      ]
     },
     "execution_count": 87,
     "metadata": {},
     "output_type": "execute_result"
    }
   ],
   "source": [
    "# Comprehension\n",
    "score_tuples = [('math', 90), ('history', 80), ('english', 95), ('computer engineering', 100)]\n",
    "{t[0]: t[1] for t in score_tuples}"
   ]
  },
  {
   "cell_type": "code",
   "execution_count": 88,
   "metadata": {
    "ExecuteTime": {
     "end_time": "2021-03-09T14:07:27.538127Z",
     "start_time": "2021-03-09T14:07:27.526164Z"
    }
   },
   "outputs": [
    {
     "name": "stdout",
     "output_type": "stream",
     "text": [
      "('math', 90)\n",
      "('history', 80)\n",
      "('english', 95)\n",
      "('computer engineering', 100)\n"
     ]
    }
   ],
   "source": [
    "score_tuples = [('math', 90), ('history', 80), ('english', 95), ('computer engineering', 100)]\n",
    "for t in score_tuples:\n",
    "    print(t)"
   ]
  }
 ],
 "metadata": {
  "hide_input": false,
  "kernelspec": {
   "display_name": "Python 3",
   "language": "python",
   "name": "python3"
  },
  "language_info": {
   "codemirror_mode": {
    "name": "ipython",
    "version": 3
   },
   "file_extension": ".py",
   "mimetype": "text/x-python",
   "name": "python",
   "nbconvert_exporter": "python",
   "pygments_lexer": "ipython3",
   "version": "3.8.5"
  },
  "toc": {
   "base_numbering": 1,
   "nav_menu": {},
   "number_sections": true,
   "sideBar": true,
   "skip_h1_title": false,
   "title_cell": "Table of Contents",
   "title_sidebar": "Contents",
   "toc_cell": false,
   "toc_position": {
    "height": "calc(100% - 180px)",
    "left": "10px",
    "top": "150px",
    "width": "375.326px"
   },
   "toc_section_display": true,
   "toc_window_display": true
  },
  "varInspector": {
   "cols": {
    "lenName": 16,
    "lenType": 16,
    "lenVar": 40
   },
   "kernels_config": {
    "python": {
     "delete_cmd_postfix": "",
     "delete_cmd_prefix": "del ",
     "library": "var_list.py",
     "varRefreshCmd": "print(var_dic_list())"
    },
    "r": {
     "delete_cmd_postfix": ") ",
     "delete_cmd_prefix": "rm(",
     "library": "var_list.r",
     "varRefreshCmd": "cat(var_dic_list()) "
    }
   },
   "position": {
    "height": "144.667px",
    "left": "1346.67px",
    "right": "20px",
    "top": "141px",
    "width": "350px"
   },
   "types_to_exclude": [
    "module",
    "function",
    "builtin_function_or_method",
    "instance",
    "_Feature"
   ],
   "window_display": false
  }
 },
 "nbformat": 4,
 "nbformat_minor": 4
}
