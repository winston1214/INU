{
 "cells": [
  {
   "cell_type": "markdown",
   "metadata": {},
   "source": [
    "**Table of Contents**\n",
    "\n",
    "1. [Opening](#Opening)\n",
    "2. [Array](#Array)\n",
    "3. [Array Math](#Array-Math)\n",
    "4. [Array Indexing](#Array-Indexing)\n",
    "5. [Numpy Data Handling](#Numpy-Data-Handling)\n",
    "6. [Matrix Algebra with Numpy](#Matrix-Algebra-with-Numpy)"
   ]
  },
  {
   "cell_type": "markdown",
   "metadata": {},
   "source": [
    "# Opening\n",
    "(https://docs.scipy.org/doc/numpy/index.html)  \n",
    "Numpy is the core library for scientific computing in Python, especially \"Array\" generator.  \n",
    "It provides a high-performance multidimensional array object, and tools for working with these arrays.  \n",
    "If you are already familiar with MATLAB, you might find this tutorial useful to get started with Numpy.  "
   ]
  },
  {
   "cell_type": "markdown",
   "metadata": {},
   "source": [
    "# Array\n",
    "- A numpy array is a grid of values, all of the same type, and is indexed by a tuple of nonnegative integers.  \n",
    "- Rank of the array: the number of dimensions  \n",
    "- Shape of an array: a tuple of integers giving the size of the array along each dimension."
   ]
  },
  {
   "cell_type": "code",
   "execution_count": 1,
   "metadata": {
    "ExecuteTime": {
     "end_time": "2019-02-22T16:09:51.420268Z",
     "start_time": "2019-02-22T16:09:51.412288Z"
    }
   },
   "outputs": [
    {
     "name": "stdout",
     "output_type": "stream",
     "text": [
      "[1 2 3]\n",
      "<class 'numpy.ndarray'>\n",
      "(3,)\n",
      "[5 2 3]\n",
      "1\n",
      "(3,) \n",
      "\n",
      "[[1 2 3]\n",
      " [4 5 6]]\n",
      "<class 'numpy.ndarray'>\n",
      "2\n",
      "(2, 3)\n"
     ]
    },
    {
     "name": "stderr",
     "output_type": "stream",
     "text": [
      "C:\\ProgramData\\Anaconda3\\lib\\site-packages\\ipykernel_launcher.py:9: VisibleDeprecationWarning: `rank` is deprecated; use the `ndim` attribute or function instead. To find the rank of a matrix see `numpy.linalg.matrix_rank`.\n",
      "  if __name__ == '__main__':\n",
      "C:\\ProgramData\\Anaconda3\\lib\\site-packages\\ipykernel_launcher.py:15: VisibleDeprecationWarning: `rank` is deprecated; use the `ndim` attribute or function instead. To find the rank of a matrix see `numpy.linalg.matrix_rank`.\n",
      "  from ipykernel import kernelapp as app\n"
     ]
    }
   ],
   "source": [
    "# Functions for generating scalar, vector, and matrix\n",
    "import numpy as np\n",
    "a = np.array([1,2,3])\n",
    "print(a)\n",
    "print(type(a))\n",
    "print(a.shape)\n",
    "a[0] = 5\n",
    "print(a)\n",
    "print(np.rank(a))\n",
    "print(a.shape, '\\n')\n",
    "\n",
    "b = np.array([[1,2,3], [4,5,6]])\n",
    "print(b)\n",
    "print(type(b))\n",
    "print(np.rank(b))\n",
    "print(b.shape)"
   ]
  },
  {
   "cell_type": "markdown",
   "metadata": {},
   "source": [
    "| 함수 | 내용 |\n",
    "|------------|-----------------------------------------------------------------------------------------------------|\n",
    "| np.array | 입력된 데이터를 ndarray로 변환. dtype을 명시하면 자료형을 설정할 수 있다 |\n",
    "| np.asarray | 입력 데이터를 ndarray로 변환하나 이미 ndarray일 경우에는 새로 메모리에 ndarray가 생성되지는 않는다 |\n",
    "| np.arange | range 함수와 유사하나 ndarray를 반환 |\n",
    "| np.ones | 전달인자로 전달한 dtype과 모양(행,렬)으로 배열을 생성하고 모든 내용을 1로 초기화하여 ndarray를 반환 |\n",
    "| np.zeros | ones와 같으나 초기값이 0이다 |\n",
    "| np.empty | ones와 zeros와 비슷하나 값을 초기화하지는 않는다 |"
   ]
  },
  {
   "cell_type": "code",
   "execution_count": 2,
   "metadata": {
    "ExecuteTime": {
     "end_time": "2019-02-22T16:09:53.514646Z",
     "start_time": "2019-02-22T16:09:53.508662Z"
    }
   },
   "outputs": [
    {
     "name": "stdout",
     "output_type": "stream",
     "text": [
      "[[0. 0. 0.]\n",
      " [0. 0. 0.]\n",
      " [0. 0. 0.]]\n",
      "[[1. 1. 1.]]\n",
      "[[7 7 7]\n",
      " [7 7 7]\n",
      " [7 7 7]]\n",
      "[[1. 0. 0.]\n",
      " [0. 1. 0.]\n",
      " [0. 0. 1.]]\n",
      "[[0.15184718 0.54838015]\n",
      " [0.75311903 0.32889525]]\n"
     ]
    }
   ],
   "source": [
    "# Functions for generating data\n",
    "a = np.zeros((3,3))\n",
    "print(a)\n",
    "\n",
    "b = np.ones((1,3))\n",
    "print(b)\n",
    "\n",
    "c = np.full((3,3), 7)\n",
    "print(c)\n",
    "\n",
    "d = np.eye(3)\n",
    "print(d)\n",
    "\n",
    "e = np.random.random((2,2))\n",
    "print(e)\n"
   ]
  },
  {
   "cell_type": "code",
   "execution_count": 3,
   "metadata": {
    "ExecuteTime": {
     "end_time": "2019-02-22T16:09:54.882963Z",
     "start_time": "2019-02-22T16:09:54.875982Z"
    }
   },
   "outputs": [
    {
     "name": "stdout",
     "output_type": "stream",
     "text": [
      "[[0.72038126 0.13581294]\n",
      " [0.7290755  0.89247687]]\n",
      "[[0.88379784+0.j 0.32741343+0.j]\n",
      " [0.26558431+0.j 0.8743355 +0.j]]\n",
      "[[0 0]\n",
      " [0 0]]\n",
      "[[ True  True]\n",
      " [ True  True]]\n",
      "[[0.91699367500707 0.6695660621906848]\n",
      " [0.1841214730339662 0.0931911999371059]]\n"
     ]
    }
   ],
   "source": [
    "print(np.array(np.random.random((2,2)), dtype=np.float64))\n",
    "print(np.array(np.random.random((2,2)), dtype=np.complex))\n",
    "print(np.array(np.random.random((2,2)), dtype=np.int))\n",
    "print(np.array(np.random.random((2,2)), dtype=np.bool))\n",
    "print(np.array(np.random.random((2,2)), dtype=np.object))"
   ]
  },
  {
   "cell_type": "markdown",
   "metadata": {},
   "source": [
    "# Array Math\n",
    "Basic mathematical functions operate elementwise on arrays, and are available both as operator overloads and as functions in the numpy built-in function module(Numpy Universal Functions):\n",
    "- A universal function (or ufunc for short) is a function that operates on ndarrays in an element-by-element fashion, supporting array broadcasting, type casting, and several other standard features.  \n",
    "\n",
    "| 함수 | 설명 |\n",
    "|------------------------|--------------------------------------------------------------------------|\n",
    "| abs, fabs | 각 원소의 절대값을 구한다. 복소수가 아닌 경우에는 fabs로 빠르게 연산가능 |\n",
    "| sqrt | 제곱근을 계산 arr ** 0.5와 동일 |\n",
    "| square | 제곱을 계산 arr ** 2와 동일 |\n",
    "| Exp | 각 원소에 지수 ex를 계산 |\n",
    "| Log, log10, log2, logp | 각각 자연로그, 로그10, 로그2, 로그(1+x) |\n",
    "| sign | 각 원소의 부호를 계산 |\n",
    "| ceil | 각 원소의 소수자리 올림 |\n",
    "| floor | 각 원소의 소수자리 버림 |\n",
    "| rint | 각 원소의 소수자리 반올림. dtype 유지 |\n",
    "| modf | 원소의 몫과 나머지를 각각 배열로 반환 |\n",
    "\n",
    "| 함수 | 설명 |\n",
    "|------------------------------------------------------------|----------------------------------------------------------------------|\n",
    "| add | 두 배열에서 같은 위치의 원소끼리 덧셈 |\n",
    "| subtract | 첫번째 배열 원소 - 두번째 배열 원소 |\n",
    "| multiply | 배열의 원소끼리 곱셈 |\n",
    "| divide | 첫번째 배열의 원소에서 두번째 배열의 원소를 나눗셈 |\n",
    "| power | 첫번째 배열의 원소에 두번째 배열의 원소만큼 제곱 |\n",
    "| maximum, fmax | 두 원소 중 큰 값을 반환. fmax는 NaN 무시 |\n",
    "| minimum, fmin | 두 원소 중 작은 값 반환. fmin는 NaN 무시 |\n",
    "| mod | 첫번째 배열의 원소에 두번째 배열의 원소를 나눈 나머지 |\n",
    "| greater, greater_equal, less, less_equal, equal, not_equal | 두 원소 간의 >, >=, <, <=, ==, != 비교연산 결과를 불리언 배열로 반환 |\n",
    "| logical_and, logical_or, logical_xor | 각각 두 원소 간의 논리연산 결과를 반환 |"
   ]
  },
  {
   "cell_type": "code",
   "execution_count": 4,
   "metadata": {
    "ExecuteTime": {
     "end_time": "2019-02-22T16:09:56.917629Z",
     "start_time": "2019-02-22T16:09:56.907653Z"
    }
   },
   "outputs": [
    {
     "name": "stdout",
     "output_type": "stream",
     "text": [
      "[[1. 2.]\n",
      " [3. 4.]]\n",
      "[[5. 6.]\n",
      " [7. 8.]]\n",
      "\n",
      "\n",
      "[[ 6.  8.]\n",
      " [10. 12.]]\n",
      "[[ 6.  8.]\n",
      " [10. 12.]]\n",
      "\n",
      "\n",
      "[[-4. -4.]\n",
      " [-4. -4.]]\n",
      "[[-4. -4.]\n",
      " [-4. -4.]]\n",
      "\n",
      "\n",
      "[[ 5. 12.]\n",
      " [21. 32.]]\n",
      "[[ 5. 12.]\n",
      " [21. 32.]]\n",
      "\n",
      "\n",
      "[[0.2        0.33333333]\n",
      " [0.42857143 0.5       ]]\n",
      "[[0.2        0.33333333]\n",
      " [0.42857143 0.5       ]]\n",
      "\n",
      "\n",
      "[[1.         1.41421356]\n",
      " [1.73205081 2.        ]]\n"
     ]
    }
   ],
   "source": [
    "a2d = np.array([[1,2],[3,4]], dtype=np.float64)\n",
    "b2d = np.array([[5,6],[7,8]], dtype=np.float64)\n",
    "print(a2d)\n",
    "print(b2d)\n",
    "print('\\n')\n",
    "\n",
    "# Elementwise sum; both produce the array\n",
    "print(a2d + b2d)\n",
    "print(np.add(a2d, b2d))\n",
    "print('\\n')\n",
    "\n",
    "# Elementwise difference; both produce the array\n",
    "print(a2d - b2d)\n",
    "print(np.subtract(a2d, b2d))\n",
    "print('\\n')\n",
    "\n",
    "# Elementwise product; both produce the array\n",
    "print(a2d * b2d)\n",
    "print(np.multiply(a2d, b2d))\n",
    "print('\\n')\n",
    "\n",
    "# Elementwise division; both produce the array\n",
    "print(a2d / b2d)\n",
    "print(np.divide(a2d, b2d))\n",
    "print('\\n')\n",
    "\n",
    "# Elementwise square root; produces the array\n",
    "print(np.sqrt(a2d))"
   ]
  },
  {
   "cell_type": "code",
   "execution_count": 5,
   "metadata": {
    "ExecuteTime": {
     "end_time": "2019-02-22T16:10:00.991780Z",
     "start_time": "2019-02-22T16:10:00.982804Z"
    }
   },
   "outputs": [
    {
     "name": "stdout",
     "output_type": "stream",
     "text": [
      "[[-1  2  3]\n",
      " [-4  5  6]\n",
      " [ 7  8 -9]]\n",
      "[[1 2 3]\n",
      " [4 5 6]\n",
      " [7 8 9]]\n",
      "[[1. 2. 3.]\n",
      " [4. 5. 6.]\n",
      " [7. 8. 9.]]\n",
      "[[       nan 1.41421356 1.73205081]\n",
      " [       nan 2.23606798 2.44948974]\n",
      " [2.64575131 2.82842712        nan]]\n",
      "[[       nan 1.41421356 1.73205081]\n",
      " [       nan 2.23606798 2.44948974]\n",
      " [2.64575131 2.82842712        nan]]\n",
      "[[-1  1  1]\n",
      " [-1  1  1]\n",
      " [ 1  1 -1]]\n",
      "[[-1.  2.  3.]\n",
      " [-4.  5.  6.]\n",
      " [ 7.  8. -9.]]\n",
      "\n",
      "\n",
      "[[1 2 3]\n",
      " [4 5 6]\n",
      " [7 8 9]]\n",
      "[[ 0  4  6]\n",
      " [ 0 10 12]\n",
      " [14 16  0]]\n",
      "[[ -1   4   9]\n",
      " [-16  25  36]\n",
      " [ 49  64 -81]]\n",
      "[[        -1          4         27]\n",
      " [       256       3125      46656]\n",
      " [    823543   16777216 -387420489]]\n",
      "[[ True False False]\n",
      " [ True False False]\n",
      " [False False  True]]\n",
      "[[False  True  True]\n",
      " [False  True  True]\n",
      " [ True  True False]]\n"
     ]
    },
    {
     "name": "stderr",
     "output_type": "stream",
     "text": [
      "C:\\ProgramData\\Anaconda3\\lib\\site-packages\\ipykernel_launcher.py:5: RuntimeWarning: invalid value encountered in sqrt\n",
      "  \"\"\"\n",
      "C:\\ProgramData\\Anaconda3\\lib\\site-packages\\ipykernel_launcher.py:7: RuntimeWarning: invalid value encountered in power\n",
      "  import sys\n"
     ]
    }
   ],
   "source": [
    "a2d = np.array([[-1,2,3],[-4,5,6],[7,8,-9]])\n",
    "print(a2d)\n",
    "print(np.abs(a2d))\n",
    "print(np.fabs(a2d))\n",
    "print(np.sqrt(a2d))\n",
    "# is same as\n",
    "print(a2d**0.5)\n",
    "print(np.sign(a2d))\n",
    "print(np.ceil(a2d))\n",
    "print('\\n')\n",
    "\n",
    "b2d = np.array([[1,2,3],[4,5,6],[7,8,9]])\n",
    "print(b2d)\n",
    "print(np.add(a2d, b2d))\n",
    "print(np.multiply(a2d, b2d))\n",
    "print(np.power(a2d, b2d))\n",
    "print(np.greater(b2d, a2d))\n",
    "print(np.logical_and(a2d, a2d+b2d))"
   ]
  },
  {
   "cell_type": "markdown",
   "metadata": {},
   "source": [
    "# Array Indexing\n",
    "Numpy offers several ways to index into arrays.  \n",
    "(http://cs231n.github.io/python-numpy-tutorial/#scipy-image)\n",
    "- **Slicing:** Similar to Python lists, numpy arrays can be sliced. Since arrays may be multidimensional, you must specify a slice for each dimension of the array.  \n",
    "- **Integer array indexing:** When you index into numpy arrays using slicing, the resulting array view will always be a subarray of the original array. In contrast, integer array indexing allows you to construct arbitrary arrays using the data from another array.  \n",
    "- **Boolean array indexing:** Boolean array indexing lets you pick out arbitrary elements of an array. Frequently this type of indexing is used to select the elements of an array that satisfy some condition.  \n"
   ]
  },
  {
   "cell_type": "code",
   "execution_count": 6,
   "metadata": {
    "ExecuteTime": {
     "end_time": "2019-02-22T16:10:05.542907Z",
     "start_time": "2019-02-22T16:10:05.532919Z"
    }
   },
   "outputs": [
    {
     "name": "stdout",
     "output_type": "stream",
     "text": [
      "[0 1 2 3 4 5 6 7 8 9]\n",
      "5\n",
      "[5 6 7]\n",
      "\n",
      "\n",
      "[[ 1  2  3  4]\n",
      " [ 5  6  7  8]\n",
      " [ 9 10 11 12]]\n",
      "[5 6 7 8]\n",
      "[[5 6 7 8]]\n",
      "[[ 5  6  7  8]\n",
      " [ 9 10 11 12]]\n",
      "[[ 2  3]\n",
      " [ 6  7]\n",
      " [10 11]]\n",
      "\n",
      "\n",
      "[[1 2]\n",
      " [3 4]\n",
      " [5 6]]\n",
      "[1 4 5]\n",
      "[1 4 5]\n",
      "\n",
      "\n",
      "[[ 1  2  3]\n",
      " [ 4  5  6]\n",
      " [ 7  8  9]\n",
      " [10 11 12]]\n",
      "[ 1  6  7 11]\n",
      "[11 16 17 21]\n",
      "\n",
      "\n",
      "[[1 2]\n",
      " [3 4]\n",
      " [5 6]]\n",
      "[[False False]\n",
      " [ True  True]\n",
      " [ True  True]]\n",
      "[3 4 5 6]\n"
     ]
    }
   ],
   "source": [
    "a = np.arange(10)\n",
    "print(a)\n",
    "print(a[5])\n",
    "print(a[5:8])\n",
    "print('\\n')\n",
    "\n",
    "a = np.array([[1,2,3,4], [5,6,7,8], [9,10,11,12]])\n",
    "print(a)\n",
    "print(a[1,:])\n",
    "print(a[1:2,:])\n",
    "print(a[1:3,:])\n",
    "print(a[:,1:3])\n",
    "print('\\n')\n",
    "\n",
    "a = np.array([[1,2], [3, 4], [5, 6]])\n",
    "print(a)\n",
    "print(a[[0, 1, 2], [0, 1, 0]])\n",
    "print(np.array([a[0, 0], a[1, 1], a[2, 0]]))\n",
    "print('\\n')\n",
    "\n",
    "a = np.array([[1,2,3], [4,5,6], [7,8,9], [10, 11, 12]])\n",
    "print(a)\n",
    "b = np.array([0, 2, 0, 1])\n",
    "print(a[np.arange(4), b])\n",
    "print(a[np.arange(4), b] + 10)\n",
    "print('\\n')\n",
    "\n",
    "a = np.array([[1,2], [3, 4], [5, 6]])\n",
    "print(a)\n",
    "print(a>2)\n",
    "print(a[a>2])"
   ]
  },
  {
   "cell_type": "code",
   "execution_count": 7,
   "metadata": {
    "ExecuteTime": {
     "end_time": "2019-02-22T16:10:08.535666Z",
     "start_time": "2019-02-22T16:10:08.445870Z"
    }
   },
   "outputs": [
    {
     "name": "stdout",
     "output_type": "stream",
     "text": [
      "[0, 1, 2, 3, 4, 5, 6, 7, 8, 9]\n",
      "[5, 6, 7]\n",
      "[[1 2]\n",
      " [3 4]\n",
      " [5 6]]\n"
     ]
    },
    {
     "ename": "TypeError",
     "evalue": "can only assign an iterable",
     "output_type": "error",
     "traceback": [
      "\u001b[1;31m---------------------------------------------------------------------------\u001b[0m",
      "\u001b[1;31mTypeError\u001b[0m                                 Traceback (most recent call last)",
      "\u001b[1;32m<ipython-input-7-2deac86225b3>\u001b[0m in \u001b[0;36m<module>\u001b[1;34m\u001b[0m\n\u001b[0;32m      6\u001b[0m \u001b[0ma\u001b[0m\u001b[1;33m[\u001b[0m\u001b[1;36m5\u001b[0m\u001b[1;33m:\u001b[0m\u001b[1;36m8\u001b[0m\u001b[1;33m]\u001b[0m \u001b[1;33m=\u001b[0m \u001b[1;36m100\u001b[0m\u001b[1;33m\u001b[0m\u001b[1;33m\u001b[0m\u001b[0m\n\u001b[0;32m      7\u001b[0m \u001b[0mprint\u001b[0m\u001b[1;33m(\u001b[0m\u001b[0ma\u001b[0m\u001b[1;33m)\u001b[0m\u001b[1;33m\u001b[0m\u001b[1;33m\u001b[0m\u001b[0m\n\u001b[1;32m----> 8\u001b[1;33m \u001b[0mb\u001b[0m\u001b[1;33m[\u001b[0m\u001b[1;36m5\u001b[0m\u001b[1;33m:\u001b[0m\u001b[1;36m8\u001b[0m\u001b[1;33m]\u001b[0m \u001b[1;33m=\u001b[0m \u001b[1;36m100\u001b[0m\u001b[1;33m\u001b[0m\u001b[1;33m\u001b[0m\u001b[0m\n\u001b[0m\u001b[0;32m      9\u001b[0m \u001b[0mprint\u001b[0m\u001b[1;33m(\u001b[0m\u001b[0mb\u001b[0m\u001b[1;33m)\u001b[0m\u001b[1;33m\u001b[0m\u001b[1;33m\u001b[0m\u001b[0m\n",
      "\u001b[1;31mTypeError\u001b[0m: can only assign an iterable"
     ]
    }
   ],
   "source": [
    "# is similar as \"Python List\", but..\n",
    "b = list(range(10))\n",
    "print(b)\n",
    "print(b[5:8])\n",
    "\n",
    "a[5:8] = 100\n",
    "print(a)\n",
    "b[5:8] = 100\n",
    "print(b)"
   ]
  },
  {
   "cell_type": "code",
   "execution_count": 8,
   "metadata": {
    "ExecuteTime": {
     "end_time": "2019-02-22T16:10:13.018565Z",
     "start_time": "2019-02-22T16:10:13.007594Z"
    }
   },
   "outputs": [
    {
     "name": "stdout",
     "output_type": "stream",
     "text": [
      "['철수' '영희' '말자' '숙자']\n"
     ]
    },
    {
     "data": {
      "text/plain": [
       "array([ True, False, False, False])"
      ]
     },
     "execution_count": 8,
     "metadata": {},
     "output_type": "execute_result"
    }
   ],
   "source": [
    "names = np.array(['철수', '영희', '말자', '숙자'])\n",
    "print(names)\n",
    "names == '철수'"
   ]
  },
  {
   "cell_type": "code",
   "execution_count": 9,
   "metadata": {
    "ExecuteTime": {
     "end_time": "2019-02-22T16:10:14.409890Z",
     "start_time": "2019-02-22T16:10:14.402908Z"
    }
   },
   "outputs": [
    {
     "name": "stdout",
     "output_type": "stream",
     "text": [
      "[[ 1.57285632 -0.74975911  1.01052522 -0.11128709]\n",
      " [-1.59985091 -0.92836754  0.81365947 -0.62043759]\n",
      " [-1.32212764 -2.13044909  0.40301989  0.38829275]\n",
      " [-2.19182118  0.09649667 -1.16889098 -1.4226416 ]]\n",
      "[[1.57285632 0.         1.01052522 0.        ]\n",
      " [0.         0.         0.81365947 0.        ]\n",
      " [0.         0.         0.40301989 0.38829275]\n",
      " [0.         0.09649667 0.         0.        ]]\n"
     ]
    },
    {
     "data": {
      "text/plain": [
       "array([[1.57285632, 0.        , 1.01052522, 0.        ]])"
      ]
     },
     "execution_count": 9,
     "metadata": {},
     "output_type": "execute_result"
    }
   ],
   "source": [
    "data = np.random.randn(4,4)\n",
    "print(data)\n",
    "data[data<0] = 0\n",
    "print(data)\n",
    "data[names == '철수']"
   ]
  },
  {
   "cell_type": "markdown",
   "metadata": {
    "ExecuteTime": {
     "end_time": "2019-02-22T08:46:44.847002Z",
     "start_time": "2019-02-22T08:46:44.843004Z"
    }
   },
   "source": [
    "# Numpy Data Handling"
   ]
  },
  {
   "cell_type": "code",
   "execution_count": 10,
   "metadata": {
    "ExecuteTime": {
     "end_time": "2019-02-22T16:10:17.526973Z",
     "start_time": "2019-02-22T16:10:17.516999Z"
    }
   },
   "outputs": [
    {
     "name": "stdout",
     "output_type": "stream",
     "text": [
      "[[-1  2  3]\n",
      " [-4  5  6]\n",
      " [ 7  8 -9]]\n",
      "[[ 1  4  5]\n",
      " [-2  7  8]\n",
      " [ 9 10 -7]]\n",
      "[[ -2   4   6]\n",
      " [ -8  10  12]\n",
      " [ 14  16 -18]]\n",
      "[ 2 15  0]\n",
      "[4 7 6]\n",
      "[0.66666667 5.         0.        ]\n",
      "[4.64279609 2.44948974 6.4807407 ]\n",
      "[21.55555556  6.         42.        ]\n",
      "[-4  2 -9]\n",
      "[7 8 6]\n",
      "[1 0 2]\n",
      "[2 2 1]\n",
      "[[-1  2  3]\n",
      " [-5  7  9]\n",
      " [ 2 15  0]]\n",
      "[[  -1    2    3]\n",
      " [   4   10   18]\n",
      " [  28   80 -162]]\n"
     ]
    }
   ],
   "source": [
    "# Statistics\n",
    "a2d = np.array([[-1,2,3],[-4,5,6],[7,8,-9]])\n",
    "print(a2d)\n",
    "print(a2d + 2)\n",
    "print(a2d * 2)\n",
    "print(np.sum(a2d, axis=0))\n",
    "print(np.sum(a2d, axis=1))\n",
    "print(np.mean(a2d, axis=0))\n",
    "print(np.std(a2d, axis=0))\n",
    "print(np.var(a2d, axis=0))\n",
    "print(np.min(a2d, axis=0))\n",
    "print(np.max(a2d, axis=0))\n",
    "print(np.argmin(a2d, axis=0))\n",
    "print(np.argmax(a2d, axis=0))\n",
    "print(np.cumsum(a2d, axis=0))\n",
    "print(np.cumprod(a2d, axis=0))"
   ]
  },
  {
   "cell_type": "code",
   "execution_count": 11,
   "metadata": {
    "ExecuteTime": {
     "end_time": "2019-02-22T16:10:18.916292Z",
     "start_time": "2019-02-22T16:10:18.909310Z"
    }
   },
   "outputs": [
    {
     "name": "stdout",
     "output_type": "stream",
     "text": [
      "[[-1  2  3]\n",
      " [-4  5  6]\n",
      " [ 7  8 -9]\n",
      " [ 1  2  3]\n",
      " [ 4  5  6]\n",
      " [ 7  8  9]]\n",
      "[[-1  2  3  1  2  3]\n",
      " [-4  5  6  4  5  6]\n",
      " [ 7  8 -9  7  8  9]]\n"
     ]
    },
    {
     "data": {
      "text/plain": [
       "array([[-1,  2],\n",
       "       [ 3,  1],\n",
       "       [ 2,  3],\n",
       "       [-4,  5],\n",
       "       [ 6,  4],\n",
       "       [ 5,  6],\n",
       "       [ 7,  8],\n",
       "       [-9,  7],\n",
       "       [ 8,  9]])"
      ]
     },
     "execution_count": 11,
     "metadata": {},
     "output_type": "execute_result"
    }
   ],
   "source": [
    "a2d = np.array([[-1,2,3],[-4,5,6],[7,8,-9]])\n",
    "b2d = np.array([[1,2,3],[4,5,6],[7,8,9]])\n",
    "\n",
    "c2d = np.concatenate((a2d, b2d), axis=0)\n",
    "print(c2d)\n",
    "c2d = np.concatenate((a2d, b2d), axis=1)\n",
    "print(c2d)\n",
    "\n",
    "c2d.reshape((9,2))"
   ]
  },
  {
   "cell_type": "code",
   "execution_count": 12,
   "metadata": {
    "ExecuteTime": {
     "end_time": "2019-02-22T16:10:20.302550Z",
     "start_time": "2019-02-22T16:10:20.295579Z"
    }
   },
   "outputs": [
    {
     "name": "stdout",
     "output_type": "stream",
     "text": [
      "[[ 1  2  3  4]\n",
      " [ 5  6  7  8]\n",
      " [ 9 10 11 12]\n",
      " [13 14 15 16]]\n",
      "[array([[1, 2, 3, 4],\n",
      "       [5, 6, 7, 8]]), array([[ 9, 10, 11, 12],\n",
      "       [13, 14, 15, 16]])]\n",
      "[array([[ 1,  2],\n",
      "       [ 5,  6],\n",
      "       [ 9, 10],\n",
      "       [13, 14]]), array([[ 3,  4],\n",
      "       [ 7,  8],\n",
      "       [11, 12],\n",
      "       [15, 16]])]\n",
      "[array([[1, 2, 3, 4],\n",
      "       [5, 6, 7, 8]]), array([[ 9, 10, 11, 12]]), array([[13, 14, 15, 16]])]\n",
      "[array([[ 1,  2],\n",
      "       [ 5,  6],\n",
      "       [ 9, 10],\n",
      "       [13, 14]]), array([[ 3],\n",
      "       [ 7],\n",
      "       [11],\n",
      "       [15]]), array([[ 4],\n",
      "       [ 8],\n",
      "       [12],\n",
      "       [16]])]\n"
     ]
    }
   ],
   "source": [
    "a2d = np.array([[1, 2, 3, 4], [5, 6, 7, 8], [9, 10, 11, 12], [13 ,14 ,15, 16]])\n",
    "print(a2d)\n",
    "print(np.split(a2d, 2, axis=0))\n",
    "print(np.split(a2d, 2, axis=1))\n",
    "print(np.split(a2d, [2,3], axis=0))\n",
    "print(np.split(a2d, [2,3], axis=1))"
   ]
  },
  {
   "cell_type": "markdown",
   "metadata": {},
   "source": [
    "# Matrix Algebra with Numpy\n",
    "- Note that unlike MATLAB, * is elementwise multiplication, not matrix multiplication. We instead use the dot function to compute inner products of vectors, to multiply a vector by a matrix, and to multiply matrices. dot is available both as a function in the numpy module and as an instance method of array objects."
   ]
  },
  {
   "cell_type": "code",
   "execution_count": 13,
   "metadata": {
    "ExecuteTime": {
     "end_time": "2019-02-22T16:10:23.166216Z",
     "start_time": "2019-02-22T16:10:23.033547Z"
    }
   },
   "outputs": [
    {
     "name": "stdout",
     "output_type": "stream",
     "text": [
      "[[1 2]\n",
      " [3 4]]\n",
      "[[5 6]\n",
      " [7 8]]\n",
      "[ 9 10]\n",
      "[11 12]\n",
      "\n",
      "\n",
      "219\n",
      "219\n",
      "\n",
      "\n",
      "[29 67]\n",
      "[29 67]\n",
      "\n",
      "\n",
      "[[19 22]\n",
      " [43 50]]\n",
      "[[19 22]\n",
      " [43 50]]\n",
      "\n",
      "\n",
      "[[1 2 3]\n",
      " [4 5 6]]\n",
      "[[1 4]\n",
      " [2 5]\n",
      " [3 6]]\n",
      "[[14 32]\n",
      " [32 77]]\n",
      "[[14 32]\n",
      " [32 77]]\n",
      "[[ 1.42592593 -0.59259259]\n",
      " [-0.59259259  0.25925926]]\n"
     ]
    }
   ],
   "source": [
    "a = np.array([[1,2],[3,4]])\n",
    "b = np.array([[5,6],[7,8]])\n",
    "v = np.array([9,10])\n",
    "w = np.array([11,12])\n",
    "print(a)\n",
    "print(b)\n",
    "print(v)\n",
    "print(w)\n",
    "print('\\n')\n",
    "\n",
    "# Inner product of vectors; both produce 219\n",
    "print(v.dot(w))\n",
    "print(np.dot(v, w))\n",
    "print('\\n')\n",
    "\n",
    "# Matrix / vector product; both produce the rank 1 array [29 67]\n",
    "print(a.dot(v))\n",
    "print(np.dot(a, v))\n",
    "print('\\n')\n",
    "\n",
    "# Matrix / matrix product; both produce the rank 2 array\n",
    "print(a.dot(b))\n",
    "print(np.dot(a, b))\n",
    "print('\\n')\n",
    "\n",
    "a2d = np.array([[1, 2, 3], [4, 5, 6]])\n",
    "print(a2d)\n",
    "print(a2d.transpose())\n",
    "print(np.dot(a2d, a2d.transpose()))\n",
    "print(np.dot(a2d, a2d.T))\n",
    "print(np.linalg.inv(np.dot(a2d, a2d.T)))"
   ]
  },
  {
   "cell_type": "markdown",
   "metadata": {},
   "source": [
    "- Broadcasting two arrays together follows these rules:  \n",
    "    - If the arrays do not have the same rank, prepend the shape of the lower rank array with 1s until both shapes have the same length.\n",
    "    - The two arrays are said to be compatible in a dimension if they have the same size in the dimension, or if one of the arrays has size 1 in that dimension.\n",
    "    - The arrays can be broadcast together if they are compatible in all dimensions.\n",
    "    - After broadcasting, each array behaves as if it had shape equal to the elementwise maximum of shapes of the two input arrays.\n",
    "    - In any dimension where one array had size 1 and the other array had size greater than 1, the first array behaves as if it were copied along that dimension"
   ]
  },
  {
   "cell_type": "code",
   "execution_count": 14,
   "metadata": {
    "ExecuteTime": {
     "end_time": "2019-02-22T16:29:52.617728Z",
     "start_time": "2019-02-22T16:29:52.613729Z"
    }
   },
   "outputs": [
    {
     "name": "stdout",
     "output_type": "stream",
     "text": [
      "[[ 1  2  3]\n",
      " [ 4  5  6]\n",
      " [ 7  8  9]\n",
      " [10 11 12]]\n",
      "[1 0 1]\n",
      "[[ 2  2  4]\n",
      " [ 5  5  7]\n",
      " [ 8  8 10]\n",
      " [11 11 13]]\n"
     ]
    }
   ],
   "source": [
    "a2d = np.array([[1,2,3], [4,5,6], [7,8,9], [10,11,12]])\n",
    "b1d = np.array([1,0,1])\n",
    "print(a2d)\n",
    "print(b1d)\n",
    "c2d = np.empty_like(a2d)\n",
    "for i in range(4):\n",
    "    c2d[i, :] = a2d[i, :] + b1d\n",
    "print(c2d)"
   ]
  },
  {
   "cell_type": "code",
   "execution_count": 15,
   "metadata": {
    "ExecuteTime": {
     "end_time": "2019-02-22T16:29:53.418464Z",
     "start_time": "2019-02-22T16:29:53.413466Z"
    }
   },
   "outputs": [
    {
     "name": "stdout",
     "output_type": "stream",
     "text": [
      "[[1 0 1]\n",
      " [1 0 1]\n",
      " [1 0 1]\n",
      " [1 0 1]]\n",
      "[[ 2  2  4]\n",
      " [ 5  5  7]\n",
      " [ 8  8 10]\n",
      " [11 11 13]]\n"
     ]
    }
   ],
   "source": [
    "# When the matrix a2d is very large, computing an explicit loop in Python could be slow\n",
    "bb = np.tile(b1d, (4, 1))\n",
    "print(bb)\n",
    "c2d = a2d + bb\n",
    "print(c2d)"
   ]
  },
  {
   "cell_type": "code",
   "execution_count": 16,
   "metadata": {
    "ExecuteTime": {
     "end_time": "2019-02-22T16:30:09.379206Z",
     "start_time": "2019-02-22T16:30:09.376208Z"
    }
   },
   "outputs": [
    {
     "name": "stdout",
     "output_type": "stream",
     "text": [
      "[[ 2  2  4]\n",
      " [ 5  5  7]\n",
      " [ 8  8 10]\n",
      " [11 11 13]]\n"
     ]
    }
   ],
   "source": [
    "c2d = a2d + b1d\n",
    "print(c2d)"
   ]
  },
  {
   "cell_type": "code",
   "execution_count": 17,
   "metadata": {
    "ExecuteTime": {
     "end_time": "2019-02-22T16:30:10.429860Z",
     "start_time": "2019-02-22T16:30:10.423862Z"
    }
   },
   "outputs": [
    {
     "name": "stdout",
     "output_type": "stream",
     "text": [
      "[1 2 3]\n",
      "[4 5]\n",
      "[[ 4  5]\n",
      " [ 8 10]\n",
      " [12 15]]\n",
      "\n",
      "\n",
      "[[1 2 3]\n",
      " [4 5 6]]\n",
      "[[2 4 6]\n",
      " [5 7 9]]\n",
      "\n",
      "\n",
      "[[1 2 3]\n",
      " [4 5 6]]\n",
      "[[ 5  6  7]\n",
      " [ 9 10 11]]\n",
      "[[ 5  6  7]\n",
      " [ 9 10 11]]\n"
     ]
    }
   ],
   "source": [
    "# Compute outer product of vectors\n",
    "v = np.array([1,2,3])\n",
    "w = np.array([4,5])\n",
    "print(v)\n",
    "print(w)\n",
    "# To compute an outer product, we first reshape v to be a column vector of shape (3, 1); \n",
    "# we can then broadcast it against w to yield an output of shape (3, 2), which is the outer product of v and w:\n",
    "print(np.reshape(v, (3,1)) * w)\n",
    "print('\\n')\n",
    "\n",
    "# Add a vector v to each row of a matrix x\n",
    "x = np.array([[1,2,3], [4,5,6]])\n",
    "print(x)\n",
    "print(x + v)\n",
    "print('\\n')\n",
    "\n",
    "# Add a vector w to each column of a matrix x\n",
    "print(x)\n",
    "print((x.T + w).T)\n",
    "print(x + np.reshape(w, (2, 1)))"
   ]
  },
  {
   "cell_type": "code",
   "execution_count": null,
   "metadata": {},
   "outputs": [],
   "source": []
  }
 ],
 "metadata": {
  "hide_input": false,
  "kernelspec": {
   "display_name": "Python 3",
   "language": "python",
   "name": "python3"
  },
  "language_info": {
   "codemirror_mode": {
    "name": "ipython",
    "version": 3
   },
   "file_extension": ".py",
   "mimetype": "text/x-python",
   "name": "python",
   "nbconvert_exporter": "python",
   "pygments_lexer": "ipython3",
   "version": "3.7.4"
  },
  "toc": {
   "base_numbering": 1,
   "nav_menu": {},
   "number_sections": true,
   "sideBar": true,
   "skip_h1_title": false,
   "title_cell": "Table of Contents",
   "title_sidebar": "Contents",
   "toc_cell": false,
   "toc_position": {
    "height": "calc(100% - 180px)",
    "left": "10px",
    "top": "150px",
    "width": "256px"
   },
   "toc_section_display": true,
   "toc_window_display": true
  },
  "varInspector": {
   "cols": {
    "lenName": 16,
    "lenType": 16,
    "lenVar": 40
   },
   "kernels_config": {
    "python": {
     "delete_cmd_postfix": "",
     "delete_cmd_prefix": "del ",
     "library": "var_list.py",
     "varRefreshCmd": "print(var_dic_list())"
    },
    "r": {
     "delete_cmd_postfix": ") ",
     "delete_cmd_prefix": "rm(",
     "library": "var_list.r",
     "varRefreshCmd": "cat(var_dic_list()) "
    }
   },
   "types_to_exclude": [
    "module",
    "function",
    "builtin_function_or_method",
    "instance",
    "_Feature"
   ],
   "window_display": false
  }
 },
 "nbformat": 4,
 "nbformat_minor": 4
}
