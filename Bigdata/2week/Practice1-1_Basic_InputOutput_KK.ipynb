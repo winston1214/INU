{
 "cells": [
  {
   "cell_type": "markdown",
   "metadata": {},
   "source": [
    "# 프로그래밍 사고\n",
    "\n",
    "- **목적:** 사람마다 생각하는 방식이 다르듯 컴퓨터 프로그래밍의 사고방식도 사람과 차이가 있다"
   ]
  },
  {
   "cell_type": "markdown",
   "metadata": {},
   "source": [
    "## Y = f(X)\n",
    "\n",
    "- **세상의 모든 로직은 입력(X), 생각(f), 그리고 출력(Y)으로 최적화되어 표현될 수 있다**\n",
    "> - 나의 말(X)은 다른 사람에게 전달되고 상대방의 생각과 결합되어(f) 새로운 말로 전달(Y)된다.\n",
    "> - 나의 말(X)은 번역기라는 로직(f)을 통해 상대방이 알아들을 수 있는 언어로 변환(Y)된다.\n",
    "> - 나의 생각(X)은 Python 지식과 결합(f)되어 코드로 표현될수 있고(Y), 이것은 컴퓨터의 키보드로 입력(X)되어 컴퓨터가 해석(f)을 한 후 모니터로 출력(Y)된다.\n",
    "\n",
    "<center><img src='Image/Basic_InputOutput.PNG' width='700'></center>"
   ]
  },
  {
   "cell_type": "markdown",
   "metadata": {},
   "source": [
    "## 같다 vs 할당한다\n",
    "\n",
    "- **사람의 사고:** \"나\"와 \"KK\"는 같다\n",
    "- **프로그래밍 사고:** \"나\"는 \"KK\"라고 할당한다(반영한다)\n",
    "\n",
    "```python\n",
    "I = \"KK\"\n",
    "print(I)\n",
    "KK\n",
    "```\n",
    "\n",
    "- **프로그래밍 사고:** \"나\"는 \"KK\"로 할당하고, \"너\"는 \"Korea\"로 할당하고, \"나\"는 \"너\"로 할당했다.\n",
    "- **사람의 사고:** \"나\"와 \"KK\"는 같고, \"너\"는 \"Korea\"와 같고, \"나\"는 \"너\"와 같다. Why Korea?\n",
    "\n",
    "```python\n",
    "I = \"KK\"\n",
    "You = \"Korea\"\n",
    "I = You\n",
    "print(I)\n",
    "Korea\n",
    "```"
   ]
  },
  {
   "cell_type": "code",
   "execution_count": 1,
   "metadata": {
    "ExecuteTime": {
     "end_time": "2021-03-09T08:21:46.464971Z",
     "start_time": "2021-03-09T08:21:46.452979Z"
    }
   },
   "outputs": [
    {
     "name": "stdout",
     "output_type": "stream",
     "text": [
      "KK\n"
     ]
    }
   ],
   "source": [
    "# Test\n",
    "I = \"KK\"\n",
    "print(I)"
   ]
  },
  {
   "cell_type": "code",
   "execution_count": 2,
   "metadata": {
    "ExecuteTime": {
     "end_time": "2021-03-09T08:21:46.480354Z",
     "start_time": "2021-03-09T08:21:46.465968Z"
    }
   },
   "outputs": [
    {
     "name": "stdout",
     "output_type": "stream",
     "text": [
      "Korea\n"
     ]
    }
   ],
   "source": [
    "# Test\n",
    "I = \"KK\"\n",
    "You = \"Korea\"\n",
    "I = You\n",
    "print(I)"
   ]
  },
  {
   "cell_type": "code",
   "execution_count": 3,
   "metadata": {
    "ExecuteTime": {
     "end_time": "2021-03-09T08:21:46.495281Z",
     "start_time": "2021-03-09T08:21:46.483336Z"
    }
   },
   "outputs": [
    {
     "name": "stdout",
     "output_type": "stream",
     "text": [
      "Korea Korea\n"
     ]
    }
   ],
   "source": [
    "print(I, You)"
   ]
  },
  {
   "cell_type": "markdown",
   "metadata": {},
   "source": [
    "# 파이썬이 이해하는 데이터 형태\n",
    "\n",
    "- **목적:** 데이터분석과 프로그래밍 과정에서 파이썬이 이해할 수 있는 데이터의 형태로 입력하고 출력됨\n",
    "- Y = f(X)에서 입력(X)과 그리고 출력(Y)의 형태를 이해한다\n",
    "- 자료형을 확인할 때는 type 함수를 이용함\n",
    "\n",
    "<center><img src='Image/Basic_DataType.PNG' width='1000'></center>"
   ]
  },
  {
   "cell_type": "markdown",
   "metadata": {},
   "source": [
    "## 숫자형(Numbers): 숫자의 특성을 갖는 것"
   ]
  },
  {
   "cell_type": "code",
   "execution_count": 4,
   "metadata": {
    "ExecuteTime": {
     "end_time": "2021-03-09T08:21:46.510262Z",
     "start_time": "2021-03-09T08:21:46.496297Z"
    }
   },
   "outputs": [
    {
     "name": "stdout",
     "output_type": "stream",
     "text": [
      "10\n"
     ]
    }
   ],
   "source": [
    "A = 10\n",
    "print(A)"
   ]
  },
  {
   "cell_type": "code",
   "execution_count": 5,
   "metadata": {
    "ExecuteTime": {
     "end_time": "2021-03-09T08:21:46.525220Z",
     "start_time": "2021-03-09T08:21:46.511229Z"
    }
   },
   "outputs": [
    {
     "data": {
      "text/plain": [
       "int"
      ]
     },
     "execution_count": 5,
     "metadata": {},
     "output_type": "execute_result"
    }
   ],
   "source": [
    "type(A)"
   ]
  },
  {
   "cell_type": "code",
   "execution_count": 6,
   "metadata": {
    "ExecuteTime": {
     "end_time": "2021-03-09T08:21:46.540175Z",
     "start_time": "2021-03-09T08:21:46.526188Z"
    }
   },
   "outputs": [
    {
     "name": "stdout",
     "output_type": "stream",
     "text": [
      "110\n"
     ]
    }
   ],
   "source": [
    "A = A + 100\n",
    "print(A)"
   ]
  },
  {
   "cell_type": "code",
   "execution_count": 7,
   "metadata": {
    "ExecuteTime": {
     "end_time": "2021-03-09T08:21:46.555111Z",
     "start_time": "2021-03-09T08:21:46.541161Z"
    }
   },
   "outputs": [
    {
     "name": "stdout",
     "output_type": "stream",
     "text": [
      "1110\n"
     ]
    }
   ],
   "source": [
    "print(A + 1000)"
   ]
  },
  {
   "cell_type": "code",
   "execution_count": 8,
   "metadata": {
    "ExecuteTime": {
     "end_time": "2021-03-09T08:21:46.570107Z",
     "start_time": "2021-03-09T08:21:46.557106Z"
    }
   },
   "outputs": [
    {
     "name": "stdout",
     "output_type": "stream",
     "text": [
      "Final A is  110\n"
     ]
    }
   ],
   "source": [
    "print('Final A is ', A)"
   ]
  },
  {
   "cell_type": "code",
   "execution_count": 9,
   "metadata": {
    "ExecuteTime": {
     "end_time": "2021-03-09T08:21:46.585066Z",
     "start_time": "2021-03-09T08:21:46.573095Z"
    }
   },
   "outputs": [
    {
     "data": {
      "text/plain": [
       "float"
      ]
     },
     "execution_count": 9,
     "metadata": {},
     "output_type": "execute_result"
    }
   ],
   "source": [
    "B = 3.14\n",
    "type(B)"
   ]
  },
  {
   "cell_type": "code",
   "execution_count": 10,
   "metadata": {
    "ExecuteTime": {
     "end_time": "2021-03-09T08:21:46.599995Z",
     "start_time": "2021-03-09T08:21:46.587060Z"
    }
   },
   "outputs": [
    {
     "data": {
      "text/plain": [
       "(int, float)"
      ]
     },
     "execution_count": 10,
     "metadata": {},
     "output_type": "execute_result"
    }
   ],
   "source": [
    "type(A), type(B)"
   ]
  },
  {
   "cell_type": "code",
   "execution_count": 11,
   "metadata": {
    "ExecuteTime": {
     "end_time": "2021-03-09T08:21:46.614979Z",
     "start_time": "2021-03-09T08:21:46.603018Z"
    }
   },
   "outputs": [
    {
     "data": {
      "text/plain": [
       "float"
      ]
     },
     "execution_count": 11,
     "metadata": {},
     "output_type": "execute_result"
    }
   ],
   "source": [
    "type(A + B)"
   ]
  },
  {
   "cell_type": "markdown",
   "metadata": {},
   "source": [
    "## 불리언(Boolean): 참과 거짓으로 표현하는 것"
   ]
  },
  {
   "cell_type": "code",
   "execution_count": 12,
   "metadata": {
    "ExecuteTime": {
     "end_time": "2021-03-09T08:21:46.629945Z",
     "start_time": "2021-03-09T08:21:46.615983Z"
    }
   },
   "outputs": [
    {
     "data": {
      "text/plain": [
       "True"
      ]
     },
     "execution_count": 12,
     "metadata": {},
     "output_type": "execute_result"
    }
   ],
   "source": [
    "bool(A)"
   ]
  },
  {
   "cell_type": "code",
   "execution_count": 13,
   "metadata": {
    "ExecuteTime": {
     "end_time": "2021-03-09T08:21:46.644900Z",
     "start_time": "2021-03-09T08:21:46.630937Z"
    }
   },
   "outputs": [
    {
     "data": {
      "text/plain": [
       "False"
      ]
     },
     "execution_count": 13,
     "metadata": {},
     "output_type": "execute_result"
    }
   ],
   "source": [
    "bool('')"
   ]
  },
  {
   "cell_type": "code",
   "execution_count": 14,
   "metadata": {
    "ExecuteTime": {
     "end_time": "2021-03-09T08:21:46.659832Z",
     "start_time": "2021-03-09T08:21:46.645868Z"
    }
   },
   "outputs": [
    {
     "data": {
      "text/plain": [
       "True"
      ]
     },
     "execution_count": 14,
     "metadata": {},
     "output_type": "execute_result"
    }
   ],
   "source": [
    "bool(' ')"
   ]
  },
  {
   "cell_type": "code",
   "execution_count": 15,
   "metadata": {
    "ExecuteTime": {
     "end_time": "2021-03-09T08:21:46.674791Z",
     "start_time": "2021-03-09T08:21:46.660852Z"
    }
   },
   "outputs": [
    {
     "data": {
      "text/plain": [
       "True"
      ]
     },
     "execution_count": 15,
     "metadata": {},
     "output_type": "execute_result"
    }
   ],
   "source": [
    "bool('python')"
   ]
  },
  {
   "cell_type": "code",
   "execution_count": 16,
   "metadata": {
    "ExecuteTime": {
     "end_time": "2021-03-09T08:21:46.690749Z",
     "start_time": "2021-03-09T08:21:46.677783Z"
    }
   },
   "outputs": [
    {
     "data": {
      "text/plain": [
       "False"
      ]
     },
     "execution_count": 16,
     "metadata": {},
     "output_type": "execute_result"
    }
   ],
   "source": [
    "bool(0)"
   ]
  },
  {
   "cell_type": "code",
   "execution_count": 17,
   "metadata": {
    "ExecuteTime": {
     "end_time": "2021-03-09T08:21:46.705709Z",
     "start_time": "2021-03-09T08:21:46.691746Z"
    }
   },
   "outputs": [
    {
     "data": {
      "text/plain": [
       "True"
      ]
     },
     "execution_count": 17,
     "metadata": {},
     "output_type": "execute_result"
    }
   ],
   "source": [
    "bool(1)"
   ]
  },
  {
   "cell_type": "code",
   "execution_count": 18,
   "metadata": {
    "ExecuteTime": {
     "end_time": "2021-03-09T08:21:46.720698Z",
     "start_time": "2021-03-09T08:21:46.706706Z"
    }
   },
   "outputs": [
    {
     "data": {
      "text/plain": [
       "True"
      ]
     },
     "execution_count": 18,
     "metadata": {},
     "output_type": "execute_result"
    }
   ],
   "source": [
    "bool(100)"
   ]
  },
  {
   "cell_type": "code",
   "execution_count": 19,
   "metadata": {
    "ExecuteTime": {
     "end_time": "2021-03-09T08:21:46.735628Z",
     "start_time": "2021-03-09T08:21:46.721666Z"
    }
   },
   "outputs": [
    {
     "data": {
      "text/plain": [
       "False"
      ]
     },
     "execution_count": 19,
     "metadata": {},
     "output_type": "execute_result"
    }
   ],
   "source": [
    "bool(False)"
   ]
  },
  {
   "cell_type": "code",
   "execution_count": 20,
   "metadata": {
    "ExecuteTime": {
     "end_time": "2021-03-09T08:21:46.750618Z",
     "start_time": "2021-03-09T08:21:46.736653Z"
    }
   },
   "outputs": [
    {
     "data": {
      "text/plain": [
       "True"
      ]
     },
     "execution_count": 20,
     "metadata": {},
     "output_type": "execute_result"
    }
   ],
   "source": [
    "bool(True)"
   ]
  },
  {
   "cell_type": "code",
   "execution_count": 21,
   "metadata": {
    "ExecuteTime": {
     "end_time": "2021-03-09T08:21:46.765575Z",
     "start_time": "2021-03-09T08:21:46.752585Z"
    }
   },
   "outputs": [
    {
     "data": {
      "text/plain": [
       "False"
      ]
     },
     "execution_count": 21,
     "metadata": {},
     "output_type": "execute_result"
    }
   ],
   "source": [
    "I = 'KK'\n",
    "You = 'Korea'\n",
    "I is You"
   ]
  },
  {
   "cell_type": "code",
   "execution_count": 22,
   "metadata": {
    "ExecuteTime": {
     "end_time": "2021-03-09T08:21:46.780543Z",
     "start_time": "2021-03-09T08:21:46.766574Z"
    }
   },
   "outputs": [
    {
     "data": {
      "text/plain": [
       "True"
      ]
     },
     "execution_count": 22,
     "metadata": {},
     "output_type": "execute_result"
    }
   ],
   "source": [
    "I = You\n",
    "I is You"
   ]
  },
  {
   "cell_type": "markdown",
   "metadata": {},
   "source": [
    "## 문자열(Strings): 따옴표 안에 입력된 것"
   ]
  },
  {
   "cell_type": "code",
   "execution_count": 23,
   "metadata": {
    "ExecuteTime": {
     "end_time": "2021-03-09T08:21:46.795467Z",
     "start_time": "2021-03-09T08:21:46.785498Z"
    }
   },
   "outputs": [
    {
     "data": {
      "text/plain": [
       "str"
      ]
     },
     "execution_count": 23,
     "metadata": {},
     "output_type": "execute_result"
    }
   ],
   "source": [
    "I = 'KK'\n",
    "You = 'Korea'\n",
    "type(I)"
   ]
  },
  {
   "cell_type": "code",
   "execution_count": 24,
   "metadata": {
    "ExecuteTime": {
     "end_time": "2021-03-09T08:21:46.810428Z",
     "start_time": "2021-03-09T08:21:46.797491Z"
    }
   },
   "outputs": [
    {
     "data": {
      "text/plain": [
       "'My name is KK'"
      ]
     },
     "execution_count": 24,
     "metadata": {},
     "output_type": "execute_result"
    }
   ],
   "source": [
    "Intro = 'My name is KK'\n",
    "Intro"
   ]
  },
  {
   "cell_type": "code",
   "execution_count": 25,
   "metadata": {
    "ExecuteTime": {
     "end_time": "2021-03-09T08:21:46.825421Z",
     "start_time": "2021-03-09T08:21:46.811426Z"
    }
   },
   "outputs": [
    {
     "data": {
      "text/plain": [
       "str"
      ]
     },
     "execution_count": 25,
     "metadata": {},
     "output_type": "execute_result"
    }
   ],
   "source": [
    "type(Intro)"
   ]
  },
  {
   "cell_type": "code",
   "execution_count": 26,
   "metadata": {
    "ExecuteTime": {
     "end_time": "2021-03-09T08:21:46.840375Z",
     "start_time": "2021-03-09T08:21:46.826413Z"
    }
   },
   "outputs": [
    {
     "data": {
      "text/plain": [
       "str"
      ]
     },
     "execution_count": 26,
     "metadata": {},
     "output_type": "execute_result"
    }
   ],
   "source": [
    "Intro = 'My name is KK & 1.0'\n",
    "type(Intro)"
   ]
  },
  {
   "cell_type": "code",
   "execution_count": 27,
   "metadata": {
    "ExecuteTime": {
     "end_time": "2021-03-09T08:21:46.855335Z",
     "start_time": "2021-03-09T08:21:46.841346Z"
    }
   },
   "outputs": [
    {
     "data": {
      "text/plain": [
       "19"
      ]
     },
     "execution_count": 27,
     "metadata": {},
     "output_type": "execute_result"
    }
   ],
   "source": [
    "# 문자열의 길이 또는 갯수\n",
    "len(Intro)"
   ]
  },
  {
   "cell_type": "code",
   "execution_count": 28,
   "metadata": {
    "ExecuteTime": {
     "end_time": "2021-03-09T08:21:46.870267Z",
     "start_time": "2021-03-09T08:21:46.856333Z"
    }
   },
   "outputs": [
    {
     "data": {
      "text/plain": [
       "'M'"
      ]
     },
     "execution_count": 28,
     "metadata": {},
     "output_type": "execute_result"
    }
   ],
   "source": [
    "# 문자열의 원소를 선택할 때는 대괄호안에 순서를 나타내는 인덱스를 입력\n",
    "# 파이썬의 순서는 \"0\"부터 시작함\n",
    "Intro[0]"
   ]
  },
  {
   "cell_type": "code",
   "execution_count": 29,
   "metadata": {
    "ExecuteTime": {
     "end_time": "2021-03-09T08:21:46.885258Z",
     "start_time": "2021-03-09T08:21:46.871265Z"
    }
   },
   "outputs": [
    {
     "data": {
      "text/plain": [
       "'y'"
      ]
     },
     "execution_count": 29,
     "metadata": {},
     "output_type": "execute_result"
    }
   ],
   "source": [
    "Intro[1]"
   ]
  },
  {
   "cell_type": "code",
   "execution_count": 30,
   "metadata": {
    "ExecuteTime": {
     "end_time": "2021-03-09T08:21:46.915185Z",
     "start_time": "2021-03-09T08:21:46.886225Z"
    },
    "slideshow": {
     "slide_type": "slide"
    }
   },
   "outputs": [
    {
     "data": {
      "text/plain": [
       "'0'"
      ]
     },
     "execution_count": 30,
     "metadata": {},
     "output_type": "execute_result"
    }
   ],
   "source": [
    "Intro[18]"
   ]
  },
  {
   "cell_type": "code",
   "execution_count": 31,
   "metadata": {
    "ExecuteTime": {
     "end_time": "2021-03-09T08:21:46.930138Z",
     "start_time": "2021-03-09T08:21:46.917144Z"
    },
    "slideshow": {
     "slide_type": "slide"
    }
   },
   "outputs": [],
   "source": [
    "# Intro[19]"
   ]
  },
  {
   "cell_type": "code",
   "execution_count": 32,
   "metadata": {
    "ExecuteTime": {
     "end_time": "2021-03-09T08:21:46.945095Z",
     "start_time": "2021-03-09T08:21:46.931132Z"
    }
   },
   "outputs": [
    {
     "data": {
      "text/plain": [
       "'0'"
      ]
     },
     "execution_count": 32,
     "metadata": {},
     "output_type": "execute_result"
    }
   ],
   "source": [
    "Intro[-1]"
   ]
  },
  {
   "cell_type": "code",
   "execution_count": 33,
   "metadata": {
    "ExecuteTime": {
     "end_time": "2021-03-09T08:21:46.960027Z",
     "start_time": "2021-03-09T08:21:46.946093Z"
    }
   },
   "outputs": [
    {
     "data": {
      "text/plain": [
       "'.'"
      ]
     },
     "execution_count": 33,
     "metadata": {},
     "output_type": "execute_result"
    }
   ],
   "source": [
    "Intro[-2]"
   ]
  },
  {
   "cell_type": "code",
   "execution_count": 34,
   "metadata": {
    "ExecuteTime": {
     "end_time": "2021-03-09T08:21:46.974988Z",
     "start_time": "2021-03-09T08:21:46.961025Z"
    }
   },
   "outputs": [
    {
     "data": {
      "text/plain": [
       "'My n'"
      ]
     },
     "execution_count": 34,
     "metadata": {},
     "output_type": "execute_result"
    }
   ],
   "source": [
    "# 여러개의 문자열을 선택할 때는 범위로 입력하되 [시작인텍스:끝인덱스] 형식\n",
    "# 끝인덱스는 포함되지 않음\n",
    "Intro[0:4]"
   ]
  },
  {
   "cell_type": "code",
   "execution_count": 35,
   "metadata": {
    "ExecuteTime": {
     "end_time": "2021-03-09T08:21:46.989948Z",
     "start_time": "2021-03-09T08:21:46.976984Z"
    }
   },
   "outputs": [
    {
     "data": {
      "text/plain": [
       "'& 1.'"
      ]
     },
     "execution_count": 35,
     "metadata": {},
     "output_type": "execute_result"
    }
   ],
   "source": [
    "Intro[-5:-1]"
   ]
  },
  {
   "cell_type": "code",
   "execution_count": 36,
   "metadata": {
    "ExecuteTime": {
     "end_time": "2021-03-09T08:21:47.004936Z",
     "start_time": "2021-03-09T08:21:46.990946Z"
    }
   },
   "outputs": [],
   "source": [
    "# 시작인텍스와 끝인텍스를 생략하면 자동으로 시작이나 끝까지 임을 인식함"
   ]
  },
  {
   "cell_type": "code",
   "execution_count": 37,
   "metadata": {
    "ExecuteTime": {
     "end_time": "2021-03-09T08:21:47.019905Z",
     "start_time": "2021-03-09T08:21:47.005905Z"
    }
   },
   "outputs": [
    {
     "data": {
      "text/plain": [
       "'My n'"
      ]
     },
     "execution_count": 37,
     "metadata": {},
     "output_type": "execute_result"
    }
   ],
   "source": [
    "Intro[:4]"
   ]
  },
  {
   "cell_type": "code",
   "execution_count": 38,
   "metadata": {
    "ExecuteTime": {
     "end_time": "2021-03-09T08:21:47.034828Z",
     "start_time": "2021-03-09T08:21:47.022864Z"
    }
   },
   "outputs": [
    {
     "data": {
      "text/plain": [
       "'& 1.0'"
      ]
     },
     "execution_count": 38,
     "metadata": {},
     "output_type": "execute_result"
    }
   ],
   "source": [
    "Intro[-5:]"
   ]
  },
  {
   "cell_type": "code",
   "execution_count": 39,
   "metadata": {
    "ExecuteTime": {
     "end_time": "2021-03-09T08:21:47.049788Z",
     "start_time": "2021-03-09T08:21:47.035826Z"
    }
   },
   "outputs": [
    {
     "data": {
      "text/plain": [
       "'My name is KK & 1.0 Haha'"
      ]
     },
     "execution_count": 39,
     "metadata": {},
     "output_type": "execute_result"
    }
   ],
   "source": [
    "# 더하기로 쉽게 문자열을 붙일 수 있음\n",
    "Intro + ' Haha'"
   ]
  },
  {
   "cell_type": "code",
   "execution_count": 40,
   "metadata": {
    "ExecuteTime": {
     "end_time": "2021-03-09T08:21:47.064748Z",
     "start_time": "2021-03-09T08:21:47.051784Z"
    }
   },
   "outputs": [
    {
     "data": {
      "text/plain": [
       "'110 is your age'"
      ]
     },
     "execution_count": 40,
     "metadata": {},
     "output_type": "execute_result"
    }
   ],
   "source": [
    "# 숫자를 문자로 바꾸기 위해서 str 함수를 사용\n",
    "'%s is your age' % str(A)"
   ]
  },
  {
   "cell_type": "code",
   "execution_count": 41,
   "metadata": {
    "ExecuteTime": {
     "end_time": "2021-03-09T08:21:47.079709Z",
     "start_time": "2021-03-09T08:21:47.066742Z"
    }
   },
   "outputs": [
    {
     "data": {
      "text/plain": [
       "'110 is your age'"
      ]
     },
     "execution_count": 41,
     "metadata": {},
     "output_type": "execute_result"
    }
   ],
   "source": [
    "str(A) + ' is your age'"
   ]
  },
  {
   "cell_type": "code",
   "execution_count": 42,
   "metadata": {
    "ExecuteTime": {
     "end_time": "2021-03-09T08:21:47.094667Z",
     "start_time": "2021-03-09T08:21:47.082702Z"
    }
   },
   "outputs": [
    {
     "data": {
      "text/plain": [
       "'I ate 10 apples. So I was sick for three days.'"
      ]
     },
     "execution_count": 42,
     "metadata": {},
     "output_type": "execute_result"
    }
   ],
   "source": [
    "# % 기호로 여러개의 문자열 배치 가능\n",
    "number = 10\n",
    "day = 'three'\n",
    "'I ate %d apples. So I was sick for %s days.' % (number, day)"
   ]
  },
  {
   "cell_type": "code",
   "execution_count": 43,
   "metadata": {
    "ExecuteTime": {
     "end_time": "2021-03-09T08:21:47.109626Z",
     "start_time": "2021-03-09T08:21:47.095665Z"
    }
   },
   "outputs": [
    {
     "data": {
      "text/plain": [
       "'I ate 10 apples. So I was sick for three days.'"
      ]
     },
     "execution_count": 43,
     "metadata": {},
     "output_type": "execute_result"
    }
   ],
   "source": [
    "'I ate {0} apples. So I was sick for {1} days.'.format(10, 'three')"
   ]
  },
  {
   "cell_type": "code",
   "execution_count": 44,
   "metadata": {
    "ExecuteTime": {
     "end_time": "2021-03-09T08:21:47.124588Z",
     "start_time": "2021-03-09T08:21:47.111623Z"
    }
   },
   "outputs": [
    {
     "data": {
      "text/plain": [
       "'I ate {number} apples. So I was sick for {day} days.'"
      ]
     },
     "execution_count": 44,
     "metadata": {},
     "output_type": "execute_result"
    }
   ],
   "source": [
    "'I ate {number} apples. So I was sick for {day} days.'"
   ]
  },
  {
   "cell_type": "code",
   "execution_count": 45,
   "metadata": {
    "ExecuteTime": {
     "end_time": "2021-03-09T08:21:47.139550Z",
     "start_time": "2021-03-09T08:21:47.127581Z"
    }
   },
   "outputs": [
    {
     "data": {
      "text/plain": [
       "'I ate 10 apples. So I was sick for three days.'"
      ]
     },
     "execution_count": 45,
     "metadata": {},
     "output_type": "execute_result"
    }
   ],
   "source": [
    "f'I ate {number} apples. So I was sick for {day} days.'"
   ]
  },
  {
   "cell_type": "code",
   "execution_count": 46,
   "metadata": {
    "ExecuteTime": {
     "end_time": "2021-03-09T08:21:47.154507Z",
     "start_time": "2021-03-09T08:21:47.142543Z"
    }
   },
   "outputs": [
    {
     "data": {
      "text/plain": [
       "'M,y, ,n,a,m,e, ,i,s, ,K,K, ,&, ,1,.,0'"
      ]
     },
     "execution_count": 46,
     "metadata": {},
     "output_type": "execute_result"
    }
   ],
   "source": [
    "# join 함수로 반복적으로 값을 사이에 붙일 수 있음\n",
    "','.join(Intro)"
   ]
  },
  {
   "cell_type": "code",
   "execution_count": 47,
   "metadata": {
    "ExecuteTime": {
     "end_time": "2021-03-09T08:21:47.169467Z",
     "start_time": "2021-03-09T08:21:47.156501Z"
    }
   },
   "outputs": [
    {
     "data": {
      "text/plain": [
       "'M y   n a m e   i s   K K   &   1 . 0'"
      ]
     },
     "execution_count": 47,
     "metadata": {},
     "output_type": "execute_result"
    }
   ],
   "source": [
    "' '.join(Intro)"
   ]
  },
  {
   "cell_type": "code",
   "execution_count": 48,
   "metadata": {
    "ExecuteTime": {
     "end_time": "2021-03-09T08:21:47.184962Z",
     "start_time": "2021-03-09T08:21:47.171461Z"
    }
   },
   "outputs": [
    {
     "data": {
      "text/plain": [
       "'0.1 & KK si eman yM'"
      ]
     },
     "execution_count": 48,
     "metadata": {},
     "output_type": "execute_result"
    }
   ],
   "source": [
    "''.join(reversed(Intro))"
   ]
  },
  {
   "cell_type": "code",
   "execution_count": 49,
   "metadata": {
    "ExecuteTime": {
     "end_time": "2021-03-09T08:21:47.199921Z",
     "start_time": "2021-03-09T08:21:47.186957Z"
    }
   },
   "outputs": [
    {
     "data": {
      "text/plain": [
       "'0.1 & KK si eman yM'"
      ]
     },
     "execution_count": 49,
     "metadata": {},
     "output_type": "execute_result"
    }
   ],
   "source": [
    "Intro[::-1]"
   ]
  },
  {
   "cell_type": "code",
   "execution_count": 50,
   "metadata": {
    "ExecuteTime": {
     "end_time": "2021-03-09T08:21:47.214885Z",
     "start_time": "2021-03-09T08:21:47.201917Z"
    }
   },
   "outputs": [
    {
     "data": {
      "text/plain": [
       "['My', 'name', 'is', 'KK', '&', '1.0']"
      ]
     },
     "execution_count": 50,
     "metadata": {},
     "output_type": "execute_result"
    }
   ],
   "source": [
    "# split 함수로 문자열 나누기\n",
    "Intro.split(' ')"
   ]
  },
  {
   "cell_type": "code",
   "execution_count": 51,
   "metadata": {
    "ExecuteTime": {
     "end_time": "2021-03-09T08:21:47.229841Z",
     "start_time": "2021-03-09T08:21:47.217877Z"
    }
   },
   "outputs": [
    {
     "data": {
      "text/plain": [
       "2"
      ]
     },
     "execution_count": 51,
     "metadata": {},
     "output_type": "execute_result"
    }
   ],
   "source": [
    "# count 함수로 문자 개수 세기\n",
    "Intro.count('K')"
   ]
  },
  {
   "cell_type": "code",
   "execution_count": 52,
   "metadata": {
    "ExecuteTime": {
     "end_time": "2021-03-09T08:21:47.244801Z",
     "start_time": "2021-03-09T08:21:47.231837Z"
    }
   },
   "outputs": [
    {
     "data": {
      "text/plain": [
       "16"
      ]
     },
     "execution_count": 52,
     "metadata": {},
     "output_type": "execute_result"
    }
   ],
   "source": [
    "# find 함수로 위치 알 수 있음\n",
    "# Intro.find(1)\n",
    "Intro.find('1')"
   ]
  },
  {
   "cell_type": "code",
   "execution_count": 53,
   "metadata": {
    "ExecuteTime": {
     "end_time": "2021-03-09T08:21:47.259762Z",
     "start_time": "2021-03-09T08:21:47.245801Z"
    }
   },
   "outputs": [
    {
     "data": {
      "text/plain": [
       "-1"
      ]
     },
     "execution_count": 53,
     "metadata": {},
     "output_type": "execute_result"
    }
   ],
   "source": [
    "Intro.find('2')"
   ]
  },
  {
   "cell_type": "code",
   "execution_count": 54,
   "metadata": {
    "ExecuteTime": {
     "end_time": "2021-03-09T08:21:47.274727Z",
     "start_time": "2021-03-09T08:21:47.261756Z"
    }
   },
   "outputs": [
    {
     "data": {
      "text/plain": [
       "'MY NAME IS KK & 1.0'"
      ]
     },
     "execution_count": 54,
     "metadata": {},
     "output_type": "execute_result"
    }
   ],
   "source": [
    "# Upper / Lower 함수로 대소문자 변경 가능\n",
    "Intro.upper()"
   ]
  },
  {
   "cell_type": "code",
   "execution_count": 55,
   "metadata": {
    "ExecuteTime": {
     "end_time": "2021-03-09T08:21:47.289687Z",
     "start_time": "2021-03-09T08:21:47.276718Z"
    }
   },
   "outputs": [
    {
     "data": {
      "text/plain": [
       "'my name is kk & 1.0'"
      ]
     },
     "execution_count": 55,
     "metadata": {},
     "output_type": "execute_result"
    }
   ],
   "source": [
    "Intro.lower()"
   ]
  },
  {
   "cell_type": "code",
   "execution_count": 56,
   "metadata": {
    "ExecuteTime": {
     "end_time": "2021-03-09T08:21:47.304645Z",
     "start_time": "2021-03-09T08:21:47.291678Z"
    }
   },
   "outputs": [
    {
     "data": {
      "text/plain": [
       "'Your name is KK & 1.0'"
      ]
     },
     "execution_count": 56,
     "metadata": {},
     "output_type": "execute_result"
    }
   ],
   "source": [
    "# replace 함수로 문자열 바꾸기\n",
    "Intro.replace('My', 'Your')"
   ]
  },
  {
   "cell_type": "markdown",
   "metadata": {},
   "source": [
    "## 리스트(Lists): 여러개의 값을 하나로 모아서 다룰 때 사용"
   ]
  },
  {
   "cell_type": "code",
   "execution_count": 57,
   "metadata": {
    "ExecuteTime": {
     "end_time": "2021-03-09T08:21:47.319606Z",
     "start_time": "2021-03-09T08:21:47.306640Z"
    }
   },
   "outputs": [
    {
     "data": {
      "text/plain": [
       "[1, 2, 3, 4, 5]"
      ]
     },
     "execution_count": 57,
     "metadata": {},
     "output_type": "execute_result"
    }
   ],
   "source": [
    "Collection = [1,2,3,4,5]\n",
    "Collection"
   ]
  },
  {
   "cell_type": "code",
   "execution_count": 58,
   "metadata": {
    "ExecuteTime": {
     "end_time": "2021-03-09T08:21:47.334562Z",
     "start_time": "2021-03-09T08:21:47.321599Z"
    }
   },
   "outputs": [
    {
     "data": {
      "text/plain": [
       "list"
      ]
     },
     "execution_count": 58,
     "metadata": {},
     "output_type": "execute_result"
    }
   ],
   "source": [
    "type(Collection)"
   ]
  },
  {
   "cell_type": "code",
   "execution_count": 59,
   "metadata": {
    "ExecuteTime": {
     "end_time": "2021-03-09T08:21:47.349525Z",
     "start_time": "2021-03-09T08:21:47.336560Z"
    }
   },
   "outputs": [
    {
     "name": "stdout",
     "output_type": "stream",
     "text": [
      "[10]\n"
     ]
    },
    {
     "data": {
      "text/plain": [
       "list"
      ]
     },
     "execution_count": 59,
     "metadata": {},
     "output_type": "execute_result"
    }
   ],
   "source": [
    "List1 = [10]\n",
    "print(List1)\n",
    "type(List1)"
   ]
  },
  {
   "cell_type": "code",
   "execution_count": 60,
   "metadata": {
    "ExecuteTime": {
     "end_time": "2021-03-09T08:21:47.364482Z",
     "start_time": "2021-03-09T08:21:47.351520Z"
    }
   },
   "outputs": [
    {
     "name": "stdout",
     "output_type": "stream",
     "text": [
      "[]\n"
     ]
    },
    {
     "data": {
      "text/plain": [
       "list"
      ]
     },
     "execution_count": 60,
     "metadata": {},
     "output_type": "execute_result"
    }
   ],
   "source": [
    "List2 = []\n",
    "print(List2)\n",
    "type(List2)"
   ]
  },
  {
   "cell_type": "code",
   "execution_count": 61,
   "metadata": {
    "ExecuteTime": {
     "end_time": "2021-03-09T08:21:47.379441Z",
     "start_time": "2021-03-09T08:21:47.367478Z"
    }
   },
   "outputs": [
    {
     "data": {
      "text/plain": [
       "[[10], [], [1, 2, 3, 4, 5]]"
      ]
     },
     "execution_count": 61,
     "metadata": {},
     "output_type": "execute_result"
    }
   ],
   "source": [
    "# 리스트끼리 묶어서 차원을 늘릴 수도 있음\n",
    "Final = [List1, List2, Collection]\n",
    "Final"
   ]
  },
  {
   "cell_type": "code",
   "execution_count": 62,
   "metadata": {
    "ExecuteTime": {
     "end_time": "2021-03-09T08:21:47.394305Z",
     "start_time": "2021-03-09T08:21:47.381340Z"
    }
   },
   "outputs": [
    {
     "data": {
      "text/plain": [
       "list"
      ]
     },
     "execution_count": 62,
     "metadata": {},
     "output_type": "execute_result"
    }
   ],
   "source": [
    "type(Final)"
   ]
  },
  {
   "cell_type": "code",
   "execution_count": 63,
   "metadata": {
    "ExecuteTime": {
     "end_time": "2021-03-09T08:21:47.409265Z",
     "start_time": "2021-03-09T08:21:47.395302Z"
    }
   },
   "outputs": [
    {
     "data": {
      "text/plain": [
       "[10]"
      ]
     },
     "execution_count": 63,
     "metadata": {},
     "output_type": "execute_result"
    }
   ],
   "source": [
    "Final[0]"
   ]
  },
  {
   "cell_type": "code",
   "execution_count": 64,
   "metadata": {
    "ExecuteTime": {
     "end_time": "2021-03-09T08:21:47.424225Z",
     "start_time": "2021-03-09T08:21:47.410262Z"
    }
   },
   "outputs": [
    {
     "data": {
      "text/plain": [
       "[]"
      ]
     },
     "execution_count": 64,
     "metadata": {},
     "output_type": "execute_result"
    }
   ],
   "source": [
    "Final[1]"
   ]
  },
  {
   "cell_type": "code",
   "execution_count": 65,
   "metadata": {
    "ExecuteTime": {
     "end_time": "2021-03-09T08:21:47.439186Z",
     "start_time": "2021-03-09T08:21:47.425222Z"
    }
   },
   "outputs": [
    {
     "data": {
      "text/plain": [
       "2"
      ]
     },
     "execution_count": 65,
     "metadata": {},
     "output_type": "execute_result"
    }
   ],
   "source": [
    "Final[2][1]"
   ]
  },
  {
   "cell_type": "code",
   "execution_count": 66,
   "metadata": {
    "ExecuteTime": {
     "end_time": "2021-03-09T08:21:47.454186Z",
     "start_time": "2021-03-09T08:21:47.443176Z"
    }
   },
   "outputs": [
    {
     "data": {
      "text/plain": [
       "5"
      ]
     },
     "execution_count": 66,
     "metadata": {},
     "output_type": "execute_result"
    }
   ],
   "source": [
    "Final[2][-1]"
   ]
  },
  {
   "cell_type": "code",
   "execution_count": 67,
   "metadata": {
    "ExecuteTime": {
     "end_time": "2021-03-09T08:21:47.469144Z",
     "start_time": "2021-03-09T08:21:47.457141Z"
    }
   },
   "outputs": [
    {
     "data": {
      "text/plain": [
       "[[10]]"
      ]
     },
     "execution_count": 67,
     "metadata": {},
     "output_type": "execute_result"
    }
   ],
   "source": [
    "Final[:1]"
   ]
  },
  {
   "cell_type": "code",
   "execution_count": 68,
   "metadata": {
    "ExecuteTime": {
     "end_time": "2021-03-09T08:21:47.484097Z",
     "start_time": "2021-03-09T08:21:47.478105Z"
    }
   },
   "outputs": [
    {
     "data": {
      "text/plain": [
       "[[10], [], [1, 2, 3, 4, 5]]"
      ]
     },
     "execution_count": 68,
     "metadata": {},
     "output_type": "execute_result"
    }
   ],
   "source": [
    "Final[:3]"
   ]
  },
  {
   "cell_type": "code",
   "execution_count": 69,
   "metadata": {
    "ExecuteTime": {
     "end_time": "2021-03-09T08:21:47.499024Z",
     "start_time": "2021-03-09T08:21:47.489075Z"
    }
   },
   "outputs": [
    {
     "data": {
      "text/plain": [
       "[[10], [], [1, 2, 3, 4, 5]]"
      ]
     },
     "execution_count": 69,
     "metadata": {},
     "output_type": "execute_result"
    }
   ],
   "source": [
    "Final[:5]"
   ]
  },
  {
   "cell_type": "code",
   "execution_count": 70,
   "metadata": {
    "ExecuteTime": {
     "end_time": "2021-03-09T08:21:47.513990Z",
     "start_time": "2021-03-09T08:21:47.500023Z"
    }
   },
   "outputs": [
    {
     "data": {
      "text/plain": [
       "[1, 2, 3]"
      ]
     },
     "execution_count": 70,
     "metadata": {},
     "output_type": "execute_result"
    }
   ],
   "source": [
    "Final[2][:3]"
   ]
  },
  {
   "cell_type": "code",
   "execution_count": 71,
   "metadata": {
    "ExecuteTime": {
     "end_time": "2021-03-09T08:21:47.529944Z",
     "start_time": "2021-03-09T08:21:47.516979Z"
    }
   },
   "outputs": [],
   "source": [
    "Final[2].append(100)"
   ]
  },
  {
   "cell_type": "code",
   "execution_count": 72,
   "metadata": {
    "ExecuteTime": {
     "end_time": "2021-03-09T08:21:47.544902Z",
     "start_time": "2021-03-09T08:21:47.533934Z"
    }
   },
   "outputs": [
    {
     "data": {
      "text/plain": [
       "[1, 2, 3, 4, 5, 100]"
      ]
     },
     "execution_count": 72,
     "metadata": {},
     "output_type": "execute_result"
    }
   ],
   "source": [
    "Final[2]"
   ]
  },
  {
   "cell_type": "code",
   "execution_count": 73,
   "metadata": {
    "ExecuteTime": {
     "end_time": "2021-03-09T08:21:47.559861Z",
     "start_time": "2021-03-09T08:21:47.546897Z"
    }
   },
   "outputs": [
    {
     "data": {
      "text/plain": [
       "[[10], [], [1, 2, 3, 4, 5, 100]]"
      ]
     },
     "execution_count": 73,
     "metadata": {},
     "output_type": "execute_result"
    }
   ],
   "source": [
    "Final"
   ]
  },
  {
   "cell_type": "code",
   "execution_count": 74,
   "metadata": {
    "ExecuteTime": {
     "end_time": "2021-03-09T08:21:47.574822Z",
     "start_time": "2021-03-09T08:21:47.560859Z"
    }
   },
   "outputs": [
    {
     "data": {
      "text/plain": [
       "[1, 2, 3, 4, 5, 100, 1, 2, 3, 4, 5, 100]"
      ]
     },
     "execution_count": 74,
     "metadata": {},
     "output_type": "execute_result"
    }
   ],
   "source": [
    "# 더하기와 반복으로 쉽게 확장가능\n",
    "Final[2] + Final[2]"
   ]
  },
  {
   "cell_type": "code",
   "execution_count": 75,
   "metadata": {
    "ExecuteTime": {
     "end_time": "2021-03-09T08:21:47.589781Z",
     "start_time": "2021-03-09T08:21:47.575819Z"
    }
   },
   "outputs": [
    {
     "data": {
      "text/plain": [
       "[1, 2, 3, 4, 5, 100, 1, 2, 3, 4, 5, 100, 1, 2, 3, 4, 5, 100]"
      ]
     },
     "execution_count": 75,
     "metadata": {},
     "output_type": "execute_result"
    }
   ],
   "source": [
    "Final[2] * 3"
   ]
  },
  {
   "cell_type": "code",
   "execution_count": 76,
   "metadata": {
    "ExecuteTime": {
     "end_time": "2021-03-09T08:21:47.604742Z",
     "start_time": "2021-03-09T08:21:47.590779Z"
    }
   },
   "outputs": [
    {
     "data": {
      "text/plain": [
       "3"
      ]
     },
     "execution_count": 76,
     "metadata": {},
     "output_type": "execute_result"
    }
   ],
   "source": [
    "# 길이를 구할때는 len 함수사용\n",
    "len(Final)"
   ]
  },
  {
   "cell_type": "code",
   "execution_count": 77,
   "metadata": {
    "ExecuteTime": {
     "end_time": "2021-03-09T08:21:47.619702Z",
     "start_time": "2021-03-09T08:21:47.605739Z"
    }
   },
   "outputs": [
    {
     "data": {
      "text/plain": [
       "6"
      ]
     },
     "execution_count": 77,
     "metadata": {},
     "output_type": "execute_result"
    }
   ],
   "source": [
    "len(Final[2])"
   ]
  },
  {
   "cell_type": "code",
   "execution_count": 78,
   "metadata": {
    "ExecuteTime": {
     "end_time": "2021-03-09T08:21:47.634661Z",
     "start_time": "2021-03-09T08:21:47.621698Z"
    }
   },
   "outputs": [
    {
     "data": {
      "text/plain": [
       "'1 First'"
      ]
     },
     "execution_count": 78,
     "metadata": {},
     "output_type": "execute_result"
    }
   ],
   "source": [
    "# 숫자를 문자와 붙이려면 형태를 문자로 맞춰야 함\n",
    "# Final[2][0] + ' First'\n",
    "str(Final[2][0]) + ' First'"
   ]
  },
  {
   "cell_type": "code",
   "execution_count": 79,
   "metadata": {
    "ExecuteTime": {
     "end_time": "2021-03-09T08:21:47.650620Z",
     "start_time": "2021-03-09T08:21:47.636659Z"
    }
   },
   "outputs": [
    {
     "data": {
      "text/plain": [
       "[[10], [], [100, 2, 3, 4, 5, 100]]"
      ]
     },
     "execution_count": 79,
     "metadata": {},
     "output_type": "execute_result"
    }
   ],
   "source": [
    "# 값의 수정은 대입으로 가능\n",
    "Final[2][0] = 100\n",
    "Final"
   ]
  },
  {
   "cell_type": "code",
   "execution_count": 80,
   "metadata": {
    "ExecuteTime": {
     "end_time": "2021-03-09T08:21:47.665579Z",
     "start_time": "2021-03-09T08:21:47.652615Z"
    }
   },
   "outputs": [
    {
     "data": {
      "text/plain": [
       "[[10], [], [100, 2, 3, 4, 5]]"
      ]
     },
     "execution_count": 80,
     "metadata": {},
     "output_type": "execute_result"
    }
   ],
   "source": [
    "# 값의 삭제는 del 함수 사용\n",
    "del Final[2][-1]\n",
    "Final"
   ]
  },
  {
   "cell_type": "code",
   "execution_count": 81,
   "metadata": {
    "ExecuteTime": {
     "end_time": "2021-03-09T08:21:47.680541Z",
     "start_time": "2021-03-09T08:21:47.666577Z"
    }
   },
   "outputs": [],
   "source": [
    "# 값의 추가\n",
    "Final.append(111)"
   ]
  },
  {
   "cell_type": "code",
   "execution_count": 82,
   "metadata": {
    "ExecuteTime": {
     "end_time": "2021-03-09T08:21:47.696497Z",
     "start_time": "2021-03-09T08:21:47.683533Z"
    }
   },
   "outputs": [
    {
     "data": {
      "text/plain": [
       "[[10], [], [100, 2, 3, 4, 5], 111]"
      ]
     },
     "execution_count": 82,
     "metadata": {},
     "output_type": "execute_result"
    }
   ],
   "source": [
    "Final"
   ]
  },
  {
   "cell_type": "code",
   "execution_count": 83,
   "metadata": {
    "ExecuteTime": {
     "end_time": "2021-03-09T08:21:47.711456Z",
     "start_time": "2021-03-09T08:21:47.698492Z"
    }
   },
   "outputs": [
    {
     "data": {
      "text/plain": [
       "[[10], [], [2, 3, 4, 5, 100], 111]"
      ]
     },
     "execution_count": 83,
     "metadata": {},
     "output_type": "execute_result"
    }
   ],
   "source": [
    "# 정렬하기\n",
    "Final[2].sort()\n",
    "Final"
   ]
  },
  {
   "cell_type": "code",
   "execution_count": 84,
   "metadata": {
    "ExecuteTime": {
     "end_time": "2021-03-09T08:21:47.726416Z",
     "start_time": "2021-03-09T08:21:47.712454Z"
    }
   },
   "outputs": [
    {
     "data": {
      "text/plain": [
       "[[10], [], [100, 5, 4, 3, 2], 111]"
      ]
     },
     "execution_count": 84,
     "metadata": {},
     "output_type": "execute_result"
    }
   ],
   "source": [
    "Final[2].reverse()\n",
    "Final"
   ]
  },
  {
   "cell_type": "code",
   "execution_count": 85,
   "metadata": {
    "ExecuteTime": {
     "end_time": "2021-03-09T08:21:47.741376Z",
     "start_time": "2021-03-09T08:21:47.727413Z"
    }
   },
   "outputs": [
    {
     "data": {
      "text/plain": [
       "3"
      ]
     },
     "execution_count": 85,
     "metadata": {},
     "output_type": "execute_result"
    }
   ],
   "source": [
    "# 위치 반환\n",
    "Final.index(111)"
   ]
  },
  {
   "cell_type": "code",
   "execution_count": 86,
   "metadata": {
    "ExecuteTime": {
     "end_time": "2021-03-09T08:21:47.756336Z",
     "start_time": "2021-03-09T08:21:47.742373Z"
    }
   },
   "outputs": [
    {
     "data": {
      "text/plain": [
       "0"
      ]
     },
     "execution_count": 86,
     "metadata": {},
     "output_type": "execute_result"
    }
   ],
   "source": [
    "Final.index([10])"
   ]
  },
  {
   "cell_type": "code",
   "execution_count": 87,
   "metadata": {
    "ExecuteTime": {
     "end_time": "2021-03-09T08:21:47.771296Z",
     "start_time": "2021-03-09T08:21:47.757334Z"
    }
   },
   "outputs": [
    {
     "data": {
      "text/plain": [
       "[[10], [], [100, 6, 5, 4, 3, 2], 111]"
      ]
     },
     "execution_count": 87,
     "metadata": {},
     "output_type": "execute_result"
    }
   ],
   "source": [
    "# a번째 위치에 b를 추가하는건 insert(a,b) 사용\n",
    "Final[2].insert(1,6)\n",
    "Final"
   ]
  },
  {
   "cell_type": "code",
   "execution_count": 88,
   "metadata": {
    "ExecuteTime": {
     "end_time": "2021-03-09T08:21:47.786257Z",
     "start_time": "2021-03-09T08:21:47.772293Z"
    }
   },
   "outputs": [
    {
     "data": {
      "text/plain": [
       "[[10], [], [100, 6, 6, 5, 4, 3, 2], 111]"
      ]
     },
     "execution_count": 88,
     "metadata": {},
     "output_type": "execute_result"
    }
   ],
   "source": [
    "Final[2].insert(1,6)\n",
    "Final"
   ]
  },
  {
   "cell_type": "code",
   "execution_count": 89,
   "metadata": {
    "ExecuteTime": {
     "end_time": "2021-03-09T08:21:47.801216Z",
     "start_time": "2021-03-09T08:21:47.788252Z"
    }
   },
   "outputs": [
    {
     "data": {
      "text/plain": [
       "[[10], [], [6, 6, 5, 4, 3, 2], 111]"
      ]
     },
     "execution_count": 89,
     "metadata": {},
     "output_type": "execute_result"
    }
   ],
   "source": [
    "# 값의 삭제\n",
    "Final[2].remove(100)\n",
    "Final"
   ]
  },
  {
   "cell_type": "code",
   "execution_count": 90,
   "metadata": {
    "ExecuteTime": {
     "end_time": "2021-03-09T08:21:47.816205Z",
     "start_time": "2021-03-09T08:21:47.803214Z"
    }
   },
   "outputs": [
    {
     "data": {
      "text/plain": [
       "2"
      ]
     },
     "execution_count": 90,
     "metadata": {},
     "output_type": "execute_result"
    }
   ],
   "source": [
    "# 특정 값의 개수 세기\n",
    "Final[2].count(6)"
   ]
  },
  {
   "cell_type": "code",
   "execution_count": 91,
   "metadata": {
    "ExecuteTime": {
     "end_time": "2021-03-09T08:21:47.831136Z",
     "start_time": "2021-03-09T08:21:47.818172Z"
    }
   },
   "outputs": [
    {
     "data": {
      "text/plain": [
       "[[10], [], [6, 6, 5, 4, 3, 2, 1, 2, 3], 111]"
      ]
     },
     "execution_count": 91,
     "metadata": {},
     "output_type": "execute_result"
    }
   ],
   "source": [
    "# append는 값의 추가이며 extend는 리스트 확장\n",
    "Final[2].extend([1,2,3])\n",
    "Final"
   ]
  },
  {
   "cell_type": "code",
   "execution_count": 92,
   "metadata": {
    "ExecuteTime": {
     "end_time": "2021-03-09T08:21:47.846096Z",
     "start_time": "2021-03-09T08:21:47.833132Z"
    }
   },
   "outputs": [
    {
     "data": {
      "text/plain": [
       "[[10], [], [6, 6, 5, 4, 3, 2, 1, 2, 3, [1, 2, 3]], 111]"
      ]
     },
     "execution_count": 92,
     "metadata": {},
     "output_type": "execute_result"
    }
   ],
   "source": [
    "Final[2].append([1,2,3])\n",
    "Final"
   ]
  },
  {
   "cell_type": "code",
   "execution_count": 93,
   "metadata": {
    "ExecuteTime": {
     "end_time": "2021-03-09T08:21:47.861056Z",
     "start_time": "2021-03-09T08:21:47.847094Z"
    }
   },
   "outputs": [
    {
     "data": {
      "text/plain": [
       "[[10], [], [6, 6, 5, 4, 3, 2, 1, 2, 3, [1, 2, 3], 1], 111]"
      ]
     },
     "execution_count": 93,
     "metadata": {},
     "output_type": "execute_result"
    }
   ],
   "source": [
    "Final[2].append(1)\n",
    "Final"
   ]
  },
  {
   "cell_type": "code",
   "execution_count": 94,
   "metadata": {
    "ExecuteTime": {
     "end_time": "2021-03-09T08:21:47.876016Z",
     "start_time": "2021-03-09T08:21:47.863052Z"
    }
   },
   "outputs": [],
   "source": [
    "# Final[2].append(1,2)"
   ]
  },
  {
   "cell_type": "markdown",
   "metadata": {},
   "source": [
    "## 튜플(Tuples): 리스트와 유사하나 순서와 값의 변경 불가\n",
    "\n",
    "- 리스트는 [ ], 튜플은 ( )\n",
    "- 리스트는 값의 생성/삭세/수정이 가능하지만 튜플은 불가능\n",
    "- 튜플은 값을 변화시킬 수 없다는 점을 제외하면 리스트와 동일"
   ]
  },
  {
   "cell_type": "code",
   "execution_count": 95,
   "metadata": {
    "ExecuteTime": {
     "end_time": "2021-03-09T08:21:47.890977Z",
     "start_time": "2021-03-09T08:21:47.878011Z"
    }
   },
   "outputs": [
    {
     "data": {
      "text/plain": [
       "list"
      ]
     },
     "execution_count": 95,
     "metadata": {},
     "output_type": "execute_result"
    }
   ],
   "source": [
    "KK = [1,2]\n",
    "type(KK)"
   ]
  },
  {
   "cell_type": "code",
   "execution_count": 96,
   "metadata": {
    "ExecuteTime": {
     "end_time": "2021-03-09T08:21:47.905938Z",
     "start_time": "2021-03-09T08:21:47.893972Z"
    }
   },
   "outputs": [
    {
     "data": {
      "text/plain": [
       "tuple"
      ]
     },
     "execution_count": 96,
     "metadata": {},
     "output_type": "execute_result"
    }
   ],
   "source": [
    "KK = (1,2)\n",
    "type(KK)"
   ]
  },
  {
   "cell_type": "code",
   "execution_count": 97,
   "metadata": {
    "ExecuteTime": {
     "end_time": "2021-03-09T08:21:47.920898Z",
     "start_time": "2021-03-09T08:21:47.907934Z"
    }
   },
   "outputs": [
    {
     "data": {
      "text/plain": [
       "tuple"
      ]
     },
     "execution_count": 97,
     "metadata": {},
     "output_type": "execute_result"
    }
   ],
   "source": [
    "KK = ('a', 'b', 100)\n",
    "type(KK)"
   ]
  },
  {
   "cell_type": "code",
   "execution_count": 98,
   "metadata": {
    "ExecuteTime": {
     "end_time": "2021-03-09T08:21:47.935858Z",
     "start_time": "2021-03-09T08:21:47.921895Z"
    }
   },
   "outputs": [
    {
     "data": {
      "text/plain": [
       "('a', 'b', 100)"
      ]
     },
     "execution_count": 98,
     "metadata": {},
     "output_type": "execute_result"
    }
   ],
   "source": [
    "KK"
   ]
  },
  {
   "cell_type": "code",
   "execution_count": 99,
   "metadata": {
    "ExecuteTime": {
     "end_time": "2021-03-09T08:21:47.950816Z",
     "start_time": "2021-03-09T08:21:47.937852Z"
    }
   },
   "outputs": [
    {
     "data": {
      "text/plain": [
       "tuple"
      ]
     },
     "execution_count": 99,
     "metadata": {},
     "output_type": "execute_result"
    }
   ],
   "source": [
    "KK_test = ()\n",
    "type(KK_test)"
   ]
  },
  {
   "cell_type": "code",
   "execution_count": 100,
   "metadata": {
    "ExecuteTime": {
     "end_time": "2021-03-09T08:21:47.965775Z",
     "start_time": "2021-03-09T08:21:47.951813Z"
    }
   },
   "outputs": [
    {
     "data": {
      "text/plain": [
       "()"
      ]
     },
     "execution_count": 100,
     "metadata": {},
     "output_type": "execute_result"
    }
   ],
   "source": [
    "KK_test"
   ]
  },
  {
   "cell_type": "code",
   "execution_count": 101,
   "metadata": {
    "ExecuteTime": {
     "end_time": "2021-03-09T08:21:47.980736Z",
     "start_time": "2021-03-09T08:21:47.966772Z"
    }
   },
   "outputs": [
    {
     "data": {
      "text/plain": [
       "('a', 'b')"
      ]
     },
     "execution_count": 101,
     "metadata": {},
     "output_type": "execute_result"
    }
   ],
   "source": [
    "KK[:2]"
   ]
  },
  {
   "cell_type": "code",
   "execution_count": 102,
   "metadata": {
    "ExecuteTime": {
     "end_time": "2021-03-09T08:21:47.995885Z",
     "start_time": "2021-03-09T08:21:47.982762Z"
    }
   },
   "outputs": [
    {
     "data": {
      "text/plain": [
       "('b', 100)"
      ]
     },
     "execution_count": 102,
     "metadata": {},
     "output_type": "execute_result"
    }
   ],
   "source": [
    "KK[1:]"
   ]
  },
  {
   "cell_type": "markdown",
   "metadata": {},
   "source": [
    "## 집합(Sets): 중복없는 값이나 값을 비교할 떄 사용"
   ]
  },
  {
   "cell_type": "code",
   "execution_count": 103,
   "metadata": {
    "ExecuteTime": {
     "end_time": "2021-03-09T08:21:48.010819Z",
     "start_time": "2021-03-09T08:21:47.996856Z"
    }
   },
   "outputs": [
    {
     "data": {
      "text/plain": [
       "{1, 2, 3, 4, 5}"
      ]
     },
     "execution_count": 103,
     "metadata": {},
     "output_type": "execute_result"
    }
   ],
   "source": [
    "# 중복되지 않은 값들을 추출\n",
    "left = set([1,2,3,5,4,3,2,1])\n",
    "left"
   ]
  },
  {
   "cell_type": "code",
   "execution_count": 104,
   "metadata": {
    "ExecuteTime": {
     "end_time": "2021-03-09T08:21:48.025804Z",
     "start_time": "2021-03-09T08:21:48.012814Z"
    }
   },
   "outputs": [
    {
     "data": {
      "text/plain": [
       "set"
      ]
     },
     "execution_count": 104,
     "metadata": {},
     "output_type": "execute_result"
    }
   ],
   "source": [
    "type(left)"
   ]
  },
  {
   "cell_type": "code",
   "execution_count": 105,
   "metadata": {
    "ExecuteTime": {
     "end_time": "2021-03-09T08:21:48.040757Z",
     "start_time": "2021-03-09T08:21:48.026776Z"
    }
   },
   "outputs": [
    {
     "data": {
      "text/plain": [
       "{4, 5, 6, 7}"
      ]
     },
     "execution_count": 105,
     "metadata": {},
     "output_type": "execute_result"
    }
   ],
   "source": [
    "right = set([4,5,6,7,6,5,4])\n",
    "right"
   ]
  },
  {
   "cell_type": "code",
   "execution_count": 106,
   "metadata": {
    "ExecuteTime": {
     "end_time": "2021-03-09T08:21:48.055725Z",
     "start_time": "2021-03-09T08:21:48.041736Z"
    }
   },
   "outputs": [
    {
     "data": {
      "text/plain": [
       "{4, 5}"
      ]
     },
     "execution_count": 106,
     "metadata": {},
     "output_type": "execute_result"
    }
   ],
   "source": [
    "# 교집합, 합집합, 차집합 계산 가능\n",
    "left & right"
   ]
  },
  {
   "cell_type": "code",
   "execution_count": 107,
   "metadata": {
    "ExecuteTime": {
     "end_time": "2021-03-09T08:21:48.070693Z",
     "start_time": "2021-03-09T08:21:48.056695Z"
    }
   },
   "outputs": [
    {
     "data": {
      "text/plain": [
       "{4, 5}"
      ]
     },
     "execution_count": 107,
     "metadata": {},
     "output_type": "execute_result"
    }
   ],
   "source": [
    "left.intersection(right)"
   ]
  },
  {
   "cell_type": "code",
   "execution_count": 108,
   "metadata": {
    "ExecuteTime": {
     "end_time": "2021-03-09T08:21:48.085692Z",
     "start_time": "2021-03-09T08:21:48.073651Z"
    }
   },
   "outputs": [
    {
     "data": {
      "text/plain": [
       "{1, 2, 3, 4, 5, 6, 7}"
      ]
     },
     "execution_count": 108,
     "metadata": {},
     "output_type": "execute_result"
    }
   ],
   "source": [
    "left | right"
   ]
  },
  {
   "cell_type": "code",
   "execution_count": 109,
   "metadata": {
    "ExecuteTime": {
     "end_time": "2021-03-09T08:21:48.100645Z",
     "start_time": "2021-03-09T08:21:48.087680Z"
    }
   },
   "outputs": [
    {
     "data": {
      "text/plain": [
       "{1, 2, 3, 4, 5, 6, 7}"
      ]
     },
     "execution_count": 109,
     "metadata": {},
     "output_type": "execute_result"
    }
   ],
   "source": [
    "left.union(right)"
   ]
  },
  {
   "cell_type": "code",
   "execution_count": 110,
   "metadata": {
    "ExecuteTime": {
     "end_time": "2021-03-09T08:21:48.115608Z",
     "start_time": "2021-03-09T08:21:48.102614Z"
    }
   },
   "outputs": [
    {
     "data": {
      "text/plain": [
       "{1, 2, 3}"
      ]
     },
     "execution_count": 110,
     "metadata": {},
     "output_type": "execute_result"
    }
   ],
   "source": [
    "left - right"
   ]
  },
  {
   "cell_type": "code",
   "execution_count": 111,
   "metadata": {
    "ExecuteTime": {
     "end_time": "2021-03-09T08:21:48.130536Z",
     "start_time": "2021-03-09T08:21:48.117573Z"
    }
   },
   "outputs": [
    {
     "data": {
      "text/plain": [
       "{6, 7}"
      ]
     },
     "execution_count": 111,
     "metadata": {},
     "output_type": "execute_result"
    }
   ],
   "source": [
    "right - left"
   ]
  },
  {
   "cell_type": "code",
   "execution_count": 112,
   "metadata": {
    "ExecuteTime": {
     "end_time": "2021-03-09T08:21:48.145530Z",
     "start_time": "2021-03-09T08:21:48.131534Z"
    }
   },
   "outputs": [
    {
     "data": {
      "text/plain": [
       "{1, 2, 3}"
      ]
     },
     "execution_count": 112,
     "metadata": {},
     "output_type": "execute_result"
    }
   ],
   "source": [
    "left.difference(right)"
   ]
  },
  {
   "cell_type": "code",
   "execution_count": 113,
   "metadata": {
    "ExecuteTime": {
     "end_time": "2021-03-09T08:21:48.160492Z",
     "start_time": "2021-03-09T08:21:48.146522Z"
    }
   },
   "outputs": [
    {
     "data": {
      "text/plain": [
       "{6, 7}"
      ]
     },
     "execution_count": 113,
     "metadata": {},
     "output_type": "execute_result"
    }
   ],
   "source": [
    "right.difference(left)"
   ]
  },
  {
   "cell_type": "code",
   "execution_count": 114,
   "metadata": {
    "ExecuteTime": {
     "end_time": "2021-03-09T08:21:48.175454Z",
     "start_time": "2021-03-09T08:21:48.161483Z"
    }
   },
   "outputs": [
    {
     "data": {
      "text/plain": [
       "{1, 2, 3, 4, 5}"
      ]
     },
     "execution_count": 114,
     "metadata": {},
     "output_type": "execute_result"
    }
   ],
   "source": [
    "left"
   ]
  },
  {
   "cell_type": "code",
   "execution_count": 115,
   "metadata": {
    "ExecuteTime": {
     "end_time": "2021-03-09T08:21:48.190410Z",
     "start_time": "2021-03-09T08:21:48.177413Z"
    }
   },
   "outputs": [
    {
     "data": {
      "text/plain": [
       "{1, 2, 3, 4, 5, 6}"
      ]
     },
     "execution_count": 115,
     "metadata": {},
     "output_type": "execute_result"
    }
   ],
   "source": [
    "left.add(6)\n",
    "left"
   ]
  },
  {
   "cell_type": "code",
   "execution_count": 116,
   "metadata": {
    "ExecuteTime": {
     "end_time": "2021-03-09T08:21:48.205366Z",
     "start_time": "2021-03-09T08:21:48.192375Z"
    }
   },
   "outputs": [
    {
     "data": {
      "text/plain": [
       "{2, 3, 4, 5, 6}"
      ]
     },
     "execution_count": 116,
     "metadata": {},
     "output_type": "execute_result"
    }
   ],
   "source": [
    "left.remove(1)\n",
    "left"
   ]
  },
  {
   "cell_type": "code",
   "execution_count": 117,
   "metadata": {
    "ExecuteTime": {
     "end_time": "2021-03-09T08:21:48.220298Z",
     "start_time": "2021-03-09T08:21:48.207332Z"
    }
   },
   "outputs": [
    {
     "data": {
      "text/plain": [
       "{1, 2, 3, 4, 5, 6, 7}"
      ]
     },
     "execution_count": 117,
     "metadata": {},
     "output_type": "execute_result"
    }
   ],
   "source": [
    "left.update([1,7])\n",
    "left"
   ]
  },
  {
   "cell_type": "code",
   "execution_count": 118,
   "metadata": {
    "ExecuteTime": {
     "end_time": "2021-03-09T08:21:48.235256Z",
     "start_time": "2021-03-09T08:21:48.221294Z"
    }
   },
   "outputs": [],
   "source": [
    "# 값의 순서가 없는 자료형태이기 때문에 인덱싱으로 값에 접근하려면 리스트나 튜플로 변환해야 함\n",
    "# left[0]"
   ]
  },
  {
   "cell_type": "code",
   "execution_count": 119,
   "metadata": {
    "ExecuteTime": {
     "end_time": "2021-03-09T08:21:48.250252Z",
     "start_time": "2021-03-09T08:21:48.237253Z"
    }
   },
   "outputs": [
    {
     "data": {
      "text/plain": [
       "[3, 4, 5, 6, 7]"
      ]
     },
     "execution_count": 119,
     "metadata": {},
     "output_type": "execute_result"
    }
   ],
   "source": [
    "list(left)[2:]"
   ]
  },
  {
   "cell_type": "code",
   "execution_count": 120,
   "metadata": {
    "ExecuteTime": {
     "end_time": "2021-03-09T08:21:48.265203Z",
     "start_time": "2021-03-09T08:21:48.252211Z"
    }
   },
   "outputs": [
    {
     "data": {
      "text/plain": [
       "(3, 4, 5, 6, 7)"
      ]
     },
     "execution_count": 120,
     "metadata": {},
     "output_type": "execute_result"
    }
   ],
   "source": [
    "tuple(left)[2:]"
   ]
  },
  {
   "cell_type": "markdown",
   "metadata": {},
   "source": [
    "## 딕셔너리(Dictionaries): 짝으로 이루어진 값을 표현할 때 사용"
   ]
  },
  {
   "cell_type": "code",
   "execution_count": 121,
   "metadata": {
    "ExecuteTime": {
     "end_time": "2021-03-09T08:21:48.280167Z",
     "start_time": "2021-03-09T08:21:48.266203Z"
    }
   },
   "outputs": [
    {
     "data": {
      "text/plain": [
       "{'Name': 'KK',\n",
       " 'Age': 100,\n",
       " 'Birth': '1104',\n",
       " 'Phone': '010-0000-0000',\n",
       " 1: 'test'}"
      ]
     },
     "execution_count": 121,
     "metadata": {},
     "output_type": "execute_result"
    }
   ],
   "source": [
    "# {키1:값1, 키2:값2, 키3:값3, ...}\n",
    "Teacher = {'Name':'KK', 'Age':100, 'Birth':'1104', 'Phone':'010-0000-0000', 1:'test'}\n",
    "Teacher"
   ]
  },
  {
   "cell_type": "code",
   "execution_count": 122,
   "metadata": {
    "ExecuteTime": {
     "end_time": "2021-03-09T08:21:48.295127Z",
     "start_time": "2021-03-09T08:21:48.282134Z"
    }
   },
   "outputs": [
    {
     "data": {
      "text/plain": [
       "{'Name': 'KK',\n",
       " 'Age': 100,\n",
       " 'Birth': '1104',\n",
       " 'Phone': '010-0000-0000',\n",
       " 1: 'test2'}"
      ]
     },
     "execution_count": 122,
     "metadata": {},
     "output_type": "execute_result"
    }
   ],
   "source": [
    "# 동일한 key가 2개 존재할 경우 이전 입력값은 무시됨\n",
    "Teacher = {'Name':'KK', 'Age':100, 'Birth':'1104', 'Phone':'010-0000-0000', 1:'test', 1:'test2'}\n",
    "Teacher"
   ]
  },
  {
   "cell_type": "code",
   "execution_count": 123,
   "metadata": {
    "ExecuteTime": {
     "end_time": "2021-03-09T08:21:48.310057Z",
     "start_time": "2021-03-09T08:21:48.296123Z"
    }
   },
   "outputs": [],
   "source": [
    "# Teacher = {'Name':'KK', 'Age':100, 'Birth':'1104', 'Phone':'010-0000-0000', 1:'test', [1]:'test2'}\n",
    "# Teacher"
   ]
  },
  {
   "cell_type": "code",
   "execution_count": 124,
   "metadata": {
    "ExecuteTime": {
     "end_time": "2021-03-09T08:21:48.325044Z",
     "start_time": "2021-03-09T08:21:48.311082Z"
    }
   },
   "outputs": [
    {
     "data": {
      "text/plain": [
       "{'Name': 'KK',\n",
       " 'Age': 100,\n",
       " 'Birth': '1104',\n",
       " 'Phone': '010-0000-0000',\n",
       " 1: 'test2',\n",
       " 'Hobby': None}"
      ]
     },
     "execution_count": 124,
     "metadata": {},
     "output_type": "execute_result"
    }
   ],
   "source": [
    "# key 값을 추가하면 쉽게 데이터 반영\n",
    "Teacher['Hobby'] = None\n",
    "Teacher"
   ]
  },
  {
   "cell_type": "code",
   "execution_count": 125,
   "metadata": {
    "ExecuteTime": {
     "end_time": "2021-03-09T08:21:48.340007Z",
     "start_time": "2021-03-09T08:21:48.326044Z"
    }
   },
   "outputs": [
    {
     "data": {
      "text/plain": [
       "dict"
      ]
     },
     "execution_count": 125,
     "metadata": {},
     "output_type": "execute_result"
    }
   ],
   "source": [
    "type(Teacher)"
   ]
  },
  {
   "cell_type": "code",
   "execution_count": 126,
   "metadata": {
    "ExecuteTime": {
     "end_time": "2021-03-09T08:21:48.354968Z",
     "start_time": "2021-03-09T08:21:48.341002Z"
    }
   },
   "outputs": [
    {
     "data": {
      "text/plain": [
       "'KK'"
      ]
     },
     "execution_count": 126,
     "metadata": {},
     "output_type": "execute_result"
    }
   ],
   "source": [
    "Teacher['Name']"
   ]
  },
  {
   "cell_type": "code",
   "execution_count": 127,
   "metadata": {
    "ExecuteTime": {
     "end_time": "2021-03-09T08:21:48.369925Z",
     "start_time": "2021-03-09T08:21:48.355961Z"
    }
   },
   "outputs": [
    {
     "data": {
      "text/plain": [
       "'test2'"
      ]
     },
     "execution_count": 127,
     "metadata": {},
     "output_type": "execute_result"
    }
   ],
   "source": [
    "Teacher[1]"
   ]
  },
  {
   "cell_type": "code",
   "execution_count": 128,
   "metadata": {
    "ExecuteTime": {
     "end_time": "2021-03-09T08:21:48.384858Z",
     "start_time": "2021-03-09T08:21:48.370893Z"
    }
   },
   "outputs": [
    {
     "data": {
      "text/plain": [
       "dict_keys(['Name', 'Age', 'Birth', 'Phone', 1, 'Hobby'])"
      ]
     },
     "execution_count": 128,
     "metadata": {},
     "output_type": "execute_result"
    }
   ],
   "source": [
    "# key, value 값만 추출하기\n",
    "Teacher.keys()"
   ]
  },
  {
   "cell_type": "code",
   "execution_count": 129,
   "metadata": {
    "ExecuteTime": {
     "end_time": "2021-03-09T08:21:48.399844Z",
     "start_time": "2021-03-09T08:21:48.387853Z"
    }
   },
   "outputs": [
    {
     "data": {
      "text/plain": [
       "dict_values(['KK', 100, '1104', '010-0000-0000', 'test2', None])"
      ]
     },
     "execution_count": 129,
     "metadata": {},
     "output_type": "execute_result"
    }
   ],
   "source": [
    "Teacher.values()"
   ]
  },
  {
   "cell_type": "code",
   "execution_count": 130,
   "metadata": {
    "ExecuteTime": {
     "end_time": "2021-03-09T08:21:48.414777Z",
     "start_time": "2021-03-09T08:21:48.400813Z"
    }
   },
   "outputs": [
    {
     "data": {
      "text/plain": [
       "dict_items([('Name', 'KK'), ('Age', 100), ('Birth', '1104'), ('Phone', '010-0000-0000'), (1, 'test2'), ('Hobby', None)])"
      ]
     },
     "execution_count": 130,
     "metadata": {},
     "output_type": "execute_result"
    }
   ],
   "source": [
    "Teacher.items()"
   ]
  },
  {
   "cell_type": "code",
   "execution_count": 131,
   "metadata": {
    "ExecuteTime": {
     "end_time": "2021-03-09T08:21:48.429736Z",
     "start_time": "2021-03-09T08:21:48.416773Z"
    }
   },
   "outputs": [
    {
     "data": {
      "text/plain": [
       "['Name', 'Age', 'Birth', 'Phone', 1, 'Hobby']"
      ]
     },
     "execution_count": 131,
     "metadata": {},
     "output_type": "execute_result"
    }
   ],
   "source": [
    "list(Teacher.keys())"
   ]
  },
  {
   "cell_type": "code",
   "execution_count": 132,
   "metadata": {
    "ExecuteTime": {
     "end_time": "2021-03-09T08:21:48.444695Z",
     "start_time": "2021-03-09T08:21:48.430734Z"
    }
   },
   "outputs": [
    {
     "data": {
      "text/plain": [
       "True"
      ]
     },
     "execution_count": 132,
     "metadata": {},
     "output_type": "execute_result"
    }
   ],
   "source": [
    "# key 존재여부 확인\n",
    "'Name' in Teacher"
   ]
  },
  {
   "cell_type": "code",
   "execution_count": 133,
   "metadata": {
    "ExecuteTime": {
     "end_time": "2021-03-09T08:21:48.459656Z",
     "start_time": "2021-03-09T08:21:48.445694Z"
    }
   },
   "outputs": [
    {
     "data": {
      "text/plain": [
       "False"
      ]
     },
     "execution_count": 133,
     "metadata": {},
     "output_type": "execute_result"
    }
   ],
   "source": [
    "'Email' in Teacher"
   ]
  },
  {
   "cell_type": "markdown",
   "metadata": {},
   "source": [
    "# 파이썬이 사용하는 연산의 형태\n",
    "\n",
    "- **목적:** 실제 생활에서 사람이 생각(f)하는 사칙연산과 수리적 로직을 파이썬 방식으로 이해\n",
    "> - **산술연산자(Arithmetic Operator)**\n",
    "> - **할당연산자(Assignment Operator)**\n",
    "> - **비교연산자(Comparison Operator)**\n",
    "> - **논리연산자(Logical Operator)**\n",
    "> - **식별연산자(Identity Operator)**\n",
    "> - **멤버연산자(Menbership Operator)**"
   ]
  },
  {
   "cell_type": "markdown",
   "metadata": {},
   "source": [
    "## 산술연산자(Arithmetic Operator): 수학 연산을 위해 사용\n",
    "\n",
    "| 산술연산자 |  기능  |\n",
    "|:----------:|:------:|\n",
    "|      +     | 더하기 |\n",
    "|      -     |  빼기  |\n",
    "|      *     | 곱하기 |\n",
    "|      /     | 나누기 |\n",
    "|      %     | 나머지 |\n",
    "|     **     |  제곱  |\n",
    "|     //     |   몫   |"
   ]
  },
  {
   "cell_type": "code",
   "execution_count": 134,
   "metadata": {
    "ExecuteTime": {
     "end_time": "2021-03-09T08:21:48.474616Z",
     "start_time": "2021-03-09T08:21:48.460653Z"
    }
   },
   "outputs": [
    {
     "data": {
      "text/plain": [
       "2"
      ]
     },
     "execution_count": 134,
     "metadata": {},
     "output_type": "execute_result"
    }
   ],
   "source": [
    "1 + 1"
   ]
  },
  {
   "cell_type": "code",
   "execution_count": 135,
   "metadata": {
    "ExecuteTime": {
     "end_time": "2021-03-09T08:21:48.489576Z",
     "start_time": "2021-03-09T08:21:48.475613Z"
    }
   },
   "outputs": [
    {
     "data": {
      "text/plain": [
       "1"
      ]
     },
     "execution_count": 135,
     "metadata": {},
     "output_type": "execute_result"
    }
   ],
   "source": [
    "3 - 2"
   ]
  },
  {
   "cell_type": "code",
   "execution_count": 136,
   "metadata": {
    "ExecuteTime": {
     "end_time": "2021-03-09T08:21:48.504536Z",
     "start_time": "2021-03-09T08:21:48.490573Z"
    }
   },
   "outputs": [
    {
     "data": {
      "text/plain": [
       "4"
      ]
     },
     "execution_count": 136,
     "metadata": {},
     "output_type": "execute_result"
    }
   ],
   "source": [
    "2 * 2"
   ]
  },
  {
   "cell_type": "code",
   "execution_count": 137,
   "metadata": {
    "ExecuteTime": {
     "end_time": "2021-03-09T08:21:48.519497Z",
     "start_time": "2021-03-09T08:21:48.505533Z"
    }
   },
   "outputs": [
    {
     "data": {
      "text/plain": [
       "2.0"
      ]
     },
     "execution_count": 137,
     "metadata": {},
     "output_type": "execute_result"
    }
   ],
   "source": [
    "4 / 2"
   ]
  },
  {
   "cell_type": "code",
   "execution_count": 138,
   "metadata": {
    "ExecuteTime": {
     "end_time": "2021-03-09T08:21:48.534483Z",
     "start_time": "2021-03-09T08:21:48.521490Z"
    }
   },
   "outputs": [
    {
     "data": {
      "text/plain": [
       "1"
      ]
     },
     "execution_count": 138,
     "metadata": {},
     "output_type": "execute_result"
    }
   ],
   "source": [
    "5 % 2"
   ]
  },
  {
   "cell_type": "code",
   "execution_count": 139,
   "metadata": {
    "ExecuteTime": {
     "end_time": "2021-03-09T08:21:48.549454Z",
     "start_time": "2021-03-09T08:21:48.535452Z"
    }
   },
   "outputs": [
    {
     "data": {
      "text/plain": [
       "27"
      ]
     },
     "execution_count": 139,
     "metadata": {},
     "output_type": "execute_result"
    }
   ],
   "source": [
    "3 ** 3"
   ]
  },
  {
   "cell_type": "code",
   "execution_count": 140,
   "metadata": {
    "ExecuteTime": {
     "end_time": "2021-03-09T08:21:48.564375Z",
     "start_time": "2021-03-09T08:21:48.551410Z"
    }
   },
   "outputs": [
    {
     "data": {
      "text/plain": [
       "3"
      ]
     },
     "execution_count": 140,
     "metadata": {},
     "output_type": "execute_result"
    }
   ],
   "source": [
    "7 // 2"
   ]
  },
  {
   "cell_type": "markdown",
   "metadata": {},
   "source": [
    "## 할당연산자(Assignment Operator): 값을 반영하기 위해 사용\n",
    "\n",
    "| 할당연산자 |                        기능                        |\n",
    "|:----------:|:--------------------------------------------------:|\n",
    "|      =     |             왼쪽 값에 오른쪽 값을 할당             |\n",
    "|     +=     |       왼쪽 값을 오른쪽에 더한 후, 왼쪽에 할당      |\n",
    "|     -=     |        왼쪽 값을 오른쪽에 뺀 후, 왼쪽에 할당       |\n",
    "|     *=     |       왼쪽 값을 오른쪽에 곱한 후, 왼쪽에 할당      |\n",
    "|     /=     |       왼쪽 값을 오른쪽에 나눈 후, 왼쪽에 할당      |\n",
    "|     %=     | 왼쪽 값을 오른쪽에 나눈 후, 나머지값을 왼쪽에 할당 |"
   ]
  },
  {
   "cell_type": "code",
   "execution_count": 141,
   "metadata": {
    "ExecuteTime": {
     "end_time": "2021-03-09T08:21:48.579363Z",
     "start_time": "2021-03-09T08:21:48.565373Z"
    }
   },
   "outputs": [
    {
     "data": {
      "text/plain": [
       "5"
      ]
     },
     "execution_count": 141,
     "metadata": {},
     "output_type": "execute_result"
    }
   ],
   "source": [
    "x = 5\n",
    "x"
   ]
  },
  {
   "cell_type": "code",
   "execution_count": 142,
   "metadata": {
    "ExecuteTime": {
     "end_time": "2021-03-09T08:21:48.594327Z",
     "start_time": "2021-03-09T08:21:48.580332Z"
    }
   },
   "outputs": [
    {
     "data": {
      "text/plain": [
       "8"
      ]
     },
     "execution_count": 142,
     "metadata": {},
     "output_type": "execute_result"
    }
   ],
   "source": [
    "x = 5\n",
    "# x = x + 3\n",
    "x += 3\n",
    "x"
   ]
  },
  {
   "cell_type": "code",
   "execution_count": 143,
   "metadata": {
    "ExecuteTime": {
     "end_time": "2021-03-09T08:21:48.609283Z",
     "start_time": "2021-03-09T08:21:48.595293Z"
    }
   },
   "outputs": [
    {
     "data": {
      "text/plain": [
       "2"
      ]
     },
     "execution_count": 143,
     "metadata": {},
     "output_type": "execute_result"
    }
   ],
   "source": [
    "x = 5\n",
    "# x = x - 3\n",
    "x -= 3\n",
    "x"
   ]
  },
  {
   "cell_type": "code",
   "execution_count": 144,
   "metadata": {
    "ExecuteTime": {
     "end_time": "2021-03-09T08:21:48.624216Z",
     "start_time": "2021-03-09T08:21:48.610280Z"
    }
   },
   "outputs": [
    {
     "data": {
      "text/plain": [
       "15"
      ]
     },
     "execution_count": 144,
     "metadata": {},
     "output_type": "execute_result"
    }
   ],
   "source": [
    "x = 5\n",
    "# x = x * 3\n",
    "x *= 3\n",
    "x"
   ]
  },
  {
   "cell_type": "code",
   "execution_count": 145,
   "metadata": {
    "ExecuteTime": {
     "end_time": "2021-03-09T08:21:48.639175Z",
     "start_time": "2021-03-09T08:21:48.625245Z"
    }
   },
   "outputs": [
    {
     "data": {
      "text/plain": [
       "1.6666666666666667"
      ]
     },
     "execution_count": 145,
     "metadata": {},
     "output_type": "execute_result"
    }
   ],
   "source": [
    "x = 5\n",
    "# x = x / 3\n",
    "x /= 3\n",
    "x"
   ]
  },
  {
   "cell_type": "code",
   "execution_count": 146,
   "metadata": {
    "ExecuteTime": {
     "end_time": "2021-03-09T08:21:48.655133Z",
     "start_time": "2021-03-09T08:21:48.641170Z"
    }
   },
   "outputs": [
    {
     "data": {
      "text/plain": [
       "2"
      ]
     },
     "execution_count": 146,
     "metadata": {},
     "output_type": "execute_result"
    }
   ],
   "source": [
    "x = 5\n",
    "# x = x % 3\n",
    "x %= 3\n",
    "x"
   ]
  },
  {
   "cell_type": "markdown",
   "metadata": {},
   "source": [
    "## 비교연산자(Comparison Operator): 두 값을 비교하기 위해 사용\n",
    "\n",
    "| 비교연산자 |              기능             |\n",
    "|:----------:|:-----------------------------:|\n",
    "|     ==     |              같음             |\n",
    "|     !=     |           같지 않음           |\n",
    "|      >     |      왼쪽이 오른쪽보다 큼     |\n",
    "|      <     |      오른쪽이 왼쪽보다 큼     |\n",
    "|     >=     | 왼쪽이 오른쪽보다 크거나 같음 |\n",
    "|     <=     | 오른쪽이 왼쪽보다 크거나 같음 |"
   ]
  },
  {
   "cell_type": "code",
   "execution_count": 147,
   "metadata": {
    "ExecuteTime": {
     "end_time": "2021-03-09T08:21:48.670127Z",
     "start_time": "2021-03-09T08:21:48.657130Z"
    }
   },
   "outputs": [
    {
     "data": {
      "text/plain": [
       "False"
      ]
     },
     "execution_count": 147,
     "metadata": {},
     "output_type": "execute_result"
    }
   ],
   "source": [
    "5 == 3"
   ]
  },
  {
   "cell_type": "code",
   "execution_count": 148,
   "metadata": {
    "ExecuteTime": {
     "end_time": "2021-03-09T08:21:48.686053Z",
     "start_time": "2021-03-09T08:21:48.673116Z"
    }
   },
   "outputs": [
    {
     "data": {
      "text/plain": [
       "True"
      ]
     },
     "execution_count": 148,
     "metadata": {},
     "output_type": "execute_result"
    }
   ],
   "source": [
    "5 != 3"
   ]
  },
  {
   "cell_type": "code",
   "execution_count": 149,
   "metadata": {
    "ExecuteTime": {
     "end_time": "2021-03-09T08:21:48.701011Z",
     "start_time": "2021-03-09T08:21:48.688048Z"
    }
   },
   "outputs": [
    {
     "data": {
      "text/plain": [
       "True"
      ]
     },
     "execution_count": 149,
     "metadata": {},
     "output_type": "execute_result"
    }
   ],
   "source": [
    "4 > 3"
   ]
  },
  {
   "cell_type": "code",
   "execution_count": 150,
   "metadata": {
    "ExecuteTime": {
     "end_time": "2021-03-09T08:21:48.715972Z",
     "start_time": "2021-03-09T08:21:48.704006Z"
    }
   },
   "outputs": [
    {
     "data": {
      "text/plain": [
       "False"
      ]
     },
     "execution_count": 150,
     "metadata": {},
     "output_type": "execute_result"
    }
   ],
   "source": [
    "3 < 3"
   ]
  },
  {
   "cell_type": "code",
   "execution_count": 151,
   "metadata": {
    "ExecuteTime": {
     "end_time": "2021-03-09T08:21:48.730930Z",
     "start_time": "2021-03-09T08:21:48.717967Z"
    }
   },
   "outputs": [
    {
     "data": {
      "text/plain": [
       "True"
      ]
     },
     "execution_count": 151,
     "metadata": {},
     "output_type": "execute_result"
    }
   ],
   "source": [
    "6 >= 6"
   ]
  },
  {
   "cell_type": "code",
   "execution_count": 152,
   "metadata": {
    "ExecuteTime": {
     "end_time": "2021-03-09T08:21:48.745890Z",
     "start_time": "2021-03-09T08:21:48.731927Z"
    }
   },
   "outputs": [
    {
     "data": {
      "text/plain": [
       "True"
      ]
     },
     "execution_count": 152,
     "metadata": {},
     "output_type": "execute_result"
    }
   ],
   "source": [
    "7 <= 8"
   ]
  },
  {
   "cell_type": "markdown",
   "metadata": {},
   "source": [
    "## 논리연산자(Logical Operator): 조건을 반영하기 위해 사용\n",
    "\n",
    "| 논리연산자 |             기능             |\n",
    "|:----------:|:----------------------------:|\n",
    "|     and    |    양쪽이 모두 참이면 True   |\n",
    "|     or     | 양쪽 중 하나라도 참이면 True |\n",
    "|     not    |     오른쪽이 False면 True    |"
   ]
  },
  {
   "cell_type": "code",
   "execution_count": 153,
   "metadata": {
    "ExecuteTime": {
     "end_time": "2021-03-09T08:21:48.760850Z",
     "start_time": "2021-03-09T08:21:48.746887Z"
    }
   },
   "outputs": [
    {
     "data": {
      "text/plain": [
       "True"
      ]
     },
     "execution_count": 153,
     "metadata": {},
     "output_type": "execute_result"
    }
   ],
   "source": [
    "# (2 < 5) & (3 < 10)\n",
    "2 < 5 and 3 < 10"
   ]
  },
  {
   "cell_type": "code",
   "execution_count": 154,
   "metadata": {
    "ExecuteTime": {
     "end_time": "2021-03-09T08:21:48.775809Z",
     "start_time": "2021-03-09T08:21:48.761847Z"
    }
   },
   "outputs": [
    {
     "data": {
      "text/plain": [
       "True"
      ]
     },
     "execution_count": 154,
     "metadata": {},
     "output_type": "execute_result"
    }
   ],
   "source": [
    "# (2 < 4) | (7 < 5)\n",
    "2 < 4 or 7 < 5"
   ]
  },
  {
   "cell_type": "code",
   "execution_count": 155,
   "metadata": {
    "ExecuteTime": {
     "end_time": "2021-03-09T08:21:48.790800Z",
     "start_time": "2021-03-09T08:21:48.776807Z"
    }
   },
   "outputs": [
    {
     "data": {
      "text/plain": [
       "True"
      ]
     },
     "execution_count": 155,
     "metadata": {},
     "output_type": "execute_result"
    }
   ],
   "source": [
    "not (3 < 4 and 5 < 2)"
   ]
  },
  {
   "cell_type": "markdown",
   "metadata": {},
   "source": [
    "## 식별연산자(Identity Operator): 동일여부 비교하기 위해 사용\n",
    "\n",
    "| 식별연산자 |        기능        |\n",
    "|:----------:|:------------------:|\n",
    "|     is     | 양쪽이 같으면 True |\n",
    "|   is not   | 양쪽이 다르면 True |"
   ]
  },
  {
   "cell_type": "code",
   "execution_count": 156,
   "metadata": {
    "ExecuteTime": {
     "end_time": "2021-03-09T08:21:48.805730Z",
     "start_time": "2021-03-09T08:21:48.791767Z"
    }
   },
   "outputs": [
    {
     "data": {
      "text/plain": [
       "True"
      ]
     },
     "execution_count": 156,
     "metadata": {},
     "output_type": "execute_result"
    }
   ],
   "source": [
    "x = 'KK'\n",
    "y = 'KK'\n",
    "x is y"
   ]
  },
  {
   "cell_type": "code",
   "execution_count": 157,
   "metadata": {
    "ExecuteTime": {
     "end_time": "2021-03-09T08:21:48.820720Z",
     "start_time": "2021-03-09T08:21:48.806727Z"
    }
   },
   "outputs": [
    {
     "data": {
      "text/plain": [
       "False"
      ]
     },
     "execution_count": 157,
     "metadata": {},
     "output_type": "execute_result"
    }
   ],
   "source": [
    "x = 'KK'\n",
    "y = 'Korea'\n",
    "x is y"
   ]
  },
  {
   "cell_type": "code",
   "execution_count": 158,
   "metadata": {
    "ExecuteTime": {
     "end_time": "2021-03-09T08:21:48.835650Z",
     "start_time": "2021-03-09T08:21:48.822684Z"
    }
   },
   "outputs": [
    {
     "data": {
      "text/plain": [
       "True"
      ]
     },
     "execution_count": 158,
     "metadata": {},
     "output_type": "execute_result"
    }
   ],
   "source": [
    "x = 'KK'\n",
    "y = 'Korea'\n",
    "x is not y"
   ]
  },
  {
   "cell_type": "markdown",
   "metadata": {},
   "source": [
    "## 멤버연산자(Menbership Operator): 포함여부 확인하기 위해 사용\n",
    "\n",
    "| 멤버연산자 |                기능                |\n",
    "|:----------:|:----------------------------------:|\n",
    "|     in     |     값이 오른쪽에 포함되면 True    |\n",
    "|   not in   | 값이 오른쪽에 포함되지 않으면 True |"
   ]
  },
  {
   "cell_type": "code",
   "execution_count": 159,
   "metadata": {
    "ExecuteTime": {
     "end_time": "2021-03-09T08:21:48.852610Z",
     "start_time": "2021-03-09T08:21:48.839682Z"
    }
   },
   "outputs": [
    {
     "data": {
      "text/plain": [
       "True"
      ]
     },
     "execution_count": 159,
     "metadata": {},
     "output_type": "execute_result"
    }
   ],
   "source": [
    "list_test = ['KK', 'Korea']\n",
    "'KK' in list_test"
   ]
  },
  {
   "cell_type": "code",
   "execution_count": 160,
   "metadata": {
    "ExecuteTime": {
     "end_time": "2021-03-09T08:21:48.867598Z",
     "start_time": "2021-03-09T08:21:48.855599Z"
    }
   },
   "outputs": [
    {
     "data": {
      "text/plain": [
       "False"
      ]
     },
     "execution_count": 160,
     "metadata": {},
     "output_type": "execute_result"
    }
   ],
   "source": [
    "'KKK' in list_test"
   ]
  },
  {
   "cell_type": "code",
   "execution_count": 161,
   "metadata": {
    "ExecuteTime": {
     "end_time": "2021-03-09T08:21:48.882561Z",
     "start_time": "2021-03-09T08:21:48.870560Z"
    }
   },
   "outputs": [
    {
     "data": {
      "text/plain": [
       "True"
      ]
     },
     "execution_count": 161,
     "metadata": {},
     "output_type": "execute_result"
    }
   ],
   "source": [
    "'KKK' not in list_test"
   ]
  }
 ],
 "metadata": {
  "hide_input": false,
  "kernelspec": {
   "display_name": "Python 3",
   "language": "python",
   "name": "python3"
  },
  "language_info": {
   "codemirror_mode": {
    "name": "ipython",
    "version": 3
   },
   "file_extension": ".py",
   "mimetype": "text/x-python",
   "name": "python",
   "nbconvert_exporter": "python",
   "pygments_lexer": "ipython3",
   "version": "3.8.5"
  },
  "toc": {
   "base_numbering": 1,
   "nav_menu": {},
   "number_sections": true,
   "sideBar": true,
   "skip_h1_title": false,
   "title_cell": "Table of Contents",
   "title_sidebar": "Contents",
   "toc_cell": false,
   "toc_position": {
    "height": "calc(100% - 180px)",
    "left": "10px",
    "top": "150px",
    "width": "391.854px"
   },
   "toc_section_display": true,
   "toc_window_display": true
  },
  "varInspector": {
   "cols": {
    "lenName": 16,
    "lenType": 16,
    "lenVar": 40
   },
   "kernels_config": {
    "python": {
     "delete_cmd_postfix": "",
     "delete_cmd_prefix": "del ",
     "library": "var_list.py",
     "varRefreshCmd": "print(var_dic_list())"
    },
    "r": {
     "delete_cmd_postfix": ") ",
     "delete_cmd_prefix": "rm(",
     "library": "var_list.r",
     "varRefreshCmd": "cat(var_dic_list()) "
    }
   },
   "types_to_exclude": [
    "module",
    "function",
    "builtin_function_or_method",
    "instance",
    "_Feature"
   ],
   "window_display": false
  }
 },
 "nbformat": 4,
 "nbformat_minor": 4
}
