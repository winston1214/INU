{
  "nbformat": 4,
  "nbformat_minor": 0,
  "metadata": {
    "colab": {
      "name": "Generate1010.ipynb",
      "provenance": []
    },
    "kernelspec": {
      "name": "python3",
      "display_name": "Python 3"
    },
    "language_info": {
      "name": "python"
    }
  },
  "cells": [
    {
      "cell_type": "code",
      "metadata": {
        "id": "tyXW-XLyJPd0"
      },
      "source": [
        "import torch\n",
        "import torch.nn as nn\n",
        "\n",
        "import pandas as pd\n",
        "import matplotlib.pyplot as plt\n",
        "import random"
      ],
      "execution_count": null,
      "outputs": []
    },
    {
      "cell_type": "code",
      "metadata": {
        "id": "rQmg9BKMJlzk"
      },
      "source": [
        "random.seed(42)"
      ],
      "execution_count": null,
      "outputs": []
    },
    {
      "cell_type": "markdown",
      "metadata": {
        "id": "JEnT3hOLKDK5"
      },
      "source": [
        "## Real Data Generate"
      ]
    },
    {
      "cell_type": "code",
      "metadata": {
        "id": "vE6Erz9FJUKO"
      },
      "source": [
        "def generate_real():\n",
        "    real_data = torch.FloatTensor(\n",
        "        [random.uniform(0.8,1.0),\n",
        "         random.uniform(0.0,0.2),\n",
        "         random.uniform(0.8,1.0),\n",
        "         random.uniform(0.0,0.2)]\n",
        "    )\n",
        "    return real_data"
      ],
      "execution_count": null,
      "outputs": []
    },
    {
      "cell_type": "code",
      "metadata": {
        "colab": {
          "base_uri": "https://localhost:8080/"
        },
        "id": "AKwApVPlJ8jo",
        "outputId": "10231d27-f027-4a30-f2fd-8d3a9ffc5d3f"
      },
      "source": [
        "generate_real()"
      ],
      "execution_count": null,
      "outputs": [
        {
          "output_type": "execute_result",
          "data": {
            "text/plain": [
              "tensor([0.9279, 0.0050, 0.8550, 0.0446])"
            ]
          },
          "metadata": {},
          "execution_count": 72
        }
      ]
    },
    {
      "cell_type": "markdown",
      "metadata": {
        "id": "mK0m9sGaKVS5"
      },
      "source": [
        "## Discriminator"
      ]
    },
    {
      "cell_type": "code",
      "metadata": {
        "id": "0cVP6eX2KANf"
      },
      "source": [
        "class Discriminator(nn.Module):\n",
        "    def __init__(self):\n",
        "        super().__init__()\n",
        "        self.model = nn.Sequential(\n",
        "            nn.Linear(4,3),\n",
        "            nn.Sigmoid(),\n",
        "            nn.Linear(3,1),\n",
        "            nn.Sigmoid()\n",
        "        )    \n",
        "        self.loss = nn.MSELoss()\n",
        "\n",
        "        self.optimizer = torch.optim.SGD(self.parameters(),lr= 1e-3)\n",
        "\n",
        "        self.counter = 0\n",
        "        self.progress = []\n",
        "    def forward(self,x):\n",
        "        return self.model(x)\n",
        "\n",
        "    def train(self,inputs,targets):\n",
        "        outputs = self.forward(inputs)\n",
        "        loss = self.loss(outputs,targets)\n",
        "        self.counter += 1\n",
        "        if self.counter % 10 == 0:\n",
        "            self.progress.append(loss.item())\n",
        "        if self.counter % 10000 == 0:\n",
        "            print('counter = ',self.counter)\n",
        "        self.optimizer.zero_grad()\n",
        "        loss.backward()\n",
        "        self.optimizer.step()\n",
        "    def plot_progress(self):\n",
        "        # print(self.progress)\n",
        "        df = pd.DataFrame(self.progress,columns = ['loss'])\n",
        "        df.plot(ylim = (0,1.0), figsize = (16,8),alpha = 0.1,marker = '.',grid = True,yticks = (0,0.25,0.5))"
      ],
      "execution_count": null,
      "outputs": []
    },
    {
      "cell_type": "code",
      "metadata": {
        "id": "841NGprOMsYg"
      },
      "source": [
        "def generate_random(size):\n",
        "    random_data = torch.rand(size)\n",
        "    return random_data"
      ],
      "execution_count": null,
      "outputs": []
    },
    {
      "cell_type": "code",
      "metadata": {
        "id": "SE81bhmBMnuz"
      },
      "source": [
        "D = Discriminator()"
      ],
      "execution_count": null,
      "outputs": []
    },
    {
      "cell_type": "code",
      "metadata": {
        "colab": {
          "base_uri": "https://localhost:8080/"
        },
        "id": "rw0d9__fOjxg",
        "outputId": "a1dc7b69-6303-41ff-d276-13b8c61dfedd"
      },
      "source": [
        "for i in range(10000):\n",
        "    D.train(generate_real(),torch.FloatTensor([1,0]))\n",
        "    D.train(generate_random(4),torch.FloatTensor([0,0]))"
      ],
      "execution_count": null,
      "outputs": [
        {
          "output_type": "stream",
          "name": "stderr",
          "text": [
            "/usr/local/lib/python3.7/dist-packages/torch/nn/modules/loss.py:520: UserWarning: Using a target size (torch.Size([2])) that is different to the input size (torch.Size([1])). This will likely lead to incorrect results due to broadcasting. Please ensure they have the same size.\n",
            "  return F.mse_loss(input, target, reduction=self.reduction)\n"
          ]
        },
        {
          "output_type": "stream",
          "name": "stdout",
          "text": [
            "counter =  10000\n",
            "counter =  20000\n"
          ]
        }
      ]
    },
    {
      "cell_type": "code",
      "metadata": {
        "colab": {
          "base_uri": "https://localhost:8080/",
          "height": 483
        },
        "id": "u6ptrcAUOx8i",
        "outputId": "64d31052-4696-4ccf-dc9b-06b8dd4f1d65"
      },
      "source": [
        "D.plot_progress()"
      ],
      "execution_count": null,
      "outputs": [
        {
          "output_type": "display_data",
          "data": {
            "image/png": "[encoded data removed]",
            "text/plain": [
              "<Figure size 1152x576 with 1 Axes>"
            ]
          },
          "metadata": {
            "needs_background": "light"
          }
        }
      ]
    },
    {
      "cell_type": "code",
      "metadata": {
        "colab": {
          "base_uri": "https://localhost:8080/"
        },
        "id": "UZ1Kz7NPPsYj",
        "outputId": "d6acbdb6-b469-4ef0-95d8-3e427d2de3fe"
      },
      "source": [
        "print(D.forward(generate_real()).item())"
      ],
      "execution_count": null,
      "outputs": [
        {
          "output_type": "stream",
          "name": "stdout",
          "text": [
            "0.2605503797531128\n"
          ]
        }
      ]
    },
    {
      "cell_type": "code",
      "metadata": {
        "colab": {
          "base_uri": "https://localhost:8080/"
        },
        "id": "NUeEDjnBdcXC",
        "outputId": "cf9c2f47-9c04-4b1d-e24e-25e21724f238"
      },
      "source": [
        "print(D.forward(generate_random(4)).item())"
      ],
      "execution_count": null,
      "outputs": [
        {
          "output_type": "stream",
          "name": "stdout",
          "text": [
            "0.2623172700405121\n"
          ]
        }
      ]
    },
    {
      "cell_type": "code",
      "metadata": {
        "id": "BJNIf8_9djQL"
      },
      "source": [
        "class Generator(nn.Module):\n",
        "    def __init__(self):\n",
        "        super().__init__()\n",
        "        self.model = nn.Sequential(\n",
        "            nn.Linear(1,3),\n",
        "            nn.Sigmoid(),\n",
        "            nn.Linear(3,4),\n",
        "            nn.Sigmoid()\n",
        "        )\n",
        "        self.optimizer = torch.optim.SGD(self.parameters(),lr = 1e-3)\n",
        "\n",
        "        self.counter = 0\n",
        "        self.progress = []\n",
        "    def forward(self,x):\n",
        "        return self.model(x)\n",
        "    \n",
        "    def train(self,D,inputs,targets):\n",
        "        g_output = self.forward(inputs) # generator 훈련\n",
        "        d_output = D.forward(g_output) # 판별기에 전달\n",
        "        loss = D.loss(d_output,targets) # 실제값과 판별기에서 나온 값 비교 loss\n",
        "        self.counter += 1\n",
        "        if self.counter % 10 == 0:\n",
        "            self.progress.append(loss.item())\n",
        "        self.optimizer.zero_grad()\n",
        "        loss.backward()\n",
        "        self.optimizer.step()\n",
        "    def plot_progress(self):\n",
        "        # print(self.progress)\n",
        "        df = pd.DataFrame(self.progress,columns = ['loss'])\n",
        "        df.plot(ylim = (0,1.0), figsize = (16,8),alpha = 0.1,marker = '.',grid = True,yticks = (0,0.25,0.5))    "
      ],
      "execution_count": null,
      "outputs": []
    },
    {
      "cell_type": "code",
      "metadata": {
        "colab": {
          "base_uri": "https://localhost:8080/"
        },
        "id": "cg_ogz4ffyHw",
        "outputId": "20a68ec4-9858-410e-e785-0e3ba20025f4"
      },
      "source": [
        "G = Generator()\n",
        "G.forward(torch.FloatTensor([0.5]))"
      ],
      "execution_count": null,
      "outputs": [
        {
          "output_type": "execute_result",
          "data": {
            "text/plain": [
              "tensor([0.5560, 0.2605, 0.4940, 0.5815], grad_fn=<SigmoidBackward0>)"
            ]
          },
          "metadata": {},
          "execution_count": 83
        }
      ]
    },
    {
      "cell_type": "code",
      "metadata": {
        "id": "XPVZo8_1gJnq"
      },
      "source": [
        "## GAN 훈련"
      ],
      "execution_count": null,
      "outputs": []
    },
    {
      "cell_type": "code",
      "metadata": {
        "colab": {
          "base_uri": "https://localhost:8080/"
        },
        "id": "S8AgiQEzgUTN",
        "outputId": "6ed2f8e7-1c6f-4d09-8209-2c328722f7f4"
      },
      "source": [
        "D = Discriminator()\n",
        "G = Generator()\n",
        "\n",
        "for i in range(10000):\n",
        "    D.train(generate_real(),torch.FloatTensor([1.0])) # 판별기 훈련\n",
        "    D.train(G.forward(torch.FloatTensor([0.5]).detach()),torch.FloatTensor([0,0]))\n",
        "    G.train(D,torch.FloatTensor([0.5]),torch.FloatTensor([1.0]))"
      ],
      "execution_count": null,
      "outputs": [
        {
          "output_type": "stream",
          "name": "stderr",
          "text": [
            "/usr/local/lib/python3.7/dist-packages/torch/nn/modules/loss.py:520: UserWarning: Using a target size (torch.Size([2])) that is different to the input size (torch.Size([1])). This will likely lead to incorrect results due to broadcasting. Please ensure they have the same size.\n",
            "  return F.mse_loss(input, target, reduction=self.reduction)\n"
          ]
        },
        {
          "output_type": "stream",
          "name": "stdout",
          "text": [
            "counter =  10000\n",
            "counter =  20000\n"
          ]
        }
      ]
    },
    {
      "cell_type": "code",
      "metadata": {
        "colab": {
          "base_uri": "https://localhost:8080/",
          "height": 483
        },
        "id": "tLXAuH2Cg1CK",
        "outputId": "f78f1730-2669-4061-ff45-9c0ded42af48"
      },
      "source": [
        "D.plot_progress()"
      ],
      "execution_count": null,
      "outputs": [
        {
          "output_type": "display_data",
          "data": {
            "image/png": "[encoded data removed]",
            "text/plain": [
              "<Figure size 1152x576 with 1 Axes>"
            ]
          },
          "metadata": {
            "needs_background": "light"
          }
        }
      ]
    },
    {
      "cell_type": "code",
      "metadata": {
        "colab": {
          "base_uri": "https://localhost:8080/",
          "height": 483
        },
        "id": "QJJmDjMGh2dh",
        "outputId": "2ec1c214-7e34-4cda-d048-dae9b2bc8b8d"
      },
      "source": [
        "G.plot_progress()"
      ],
      "execution_count": null,
      "outputs": [
        {
          "output_type": "display_data",
          "data": {
            "image/png": "[encoded data removed]",
            "text/plain": [
              "<Figure size 1152x576 with 1 Axes>"
            ]
          },
          "metadata": {
            "needs_background": "light"
          }
        }
      ]
    },
    {
      "cell_type": "code",
      "metadata": {
        "colab": {
          "base_uri": "https://localhost:8080/"
        },
        "id": "KEqV2nfsiHzV",
        "outputId": "a8d09852-93af-4f1e-969e-df1ccc035aa9"
      },
      "source": [
        "G.forward(torch.FloatTensor([0.5]))"
      ],
      "execution_count": null,
      "outputs": [
        {
          "output_type": "execute_result",
          "data": {
            "text/plain": [
              "tensor([0.4117, 0.2849, 0.5480, 0.5428], grad_fn=<SigmoidBackward0>)"
            ]
          },
          "metadata": {},
          "execution_count": 88
        }
      ]
    }
  ]
}