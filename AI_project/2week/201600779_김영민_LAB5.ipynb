{
 "cells": [
  {
   "cell_type": "markdown",
   "id": "ee9394b6",
   "metadata": {},
   "source": [
    "# 201600779 김영민"
   ]
  },
  {
   "cell_type": "code",
   "execution_count": 1,
   "id": "8d099548",
   "metadata": {},
   "outputs": [
    {
     "data": {
      "text/plain": [
       "[12, 16, 20, 24, 28]"
      ]
     },
     "execution_count": 1,
     "metadata": {},
     "output_type": "execute_result"
    }
   ],
   "source": [
    "import re, math, random # regexes, math functions, random numbers\n",
    "import matplotlib.pyplot as plt # pyplot\n",
    "from collections import defaultdict, Counter\n",
    "from functools import partial, reduce # For python3, \"reduce\" function is added\n",
    "\n",
    "import numpy as np\n",
    "\n",
    "def vector_add(v, w):\n",
    "    \"\"\"adds two vectors componentwise\"\"\"\n",
    "    return [v_i + w_i for v_i, w_i in zip(v,w)]\n",
    "\n",
    "v = [x for x in range(1, 11, 2)]\n",
    "w = [y for y in range(11, 21, 2)]\n",
    "\n",
    "vector_add(v, w)\n"
   ]
  },
  {
   "cell_type": "code",
   "execution_count": 2,
   "id": "d2915f01",
   "metadata": {},
   "outputs": [
    {
     "data": {
      "text/plain": [
       "array([12, 16, 20, 24, 28])"
      ]
     },
     "execution_count": 2,
     "metadata": {},
     "output_type": "execute_result"
    }
   ],
   "source": [
    "np.array(v) + np.array(w)\n"
   ]
  },
  {
   "cell_type": "code",
   "execution_count": 3,
   "id": "c623296c",
   "metadata": {},
   "outputs": [
    {
     "data": {
      "text/plain": [
       "[-10, -10, -10, -10, -10]"
      ]
     },
     "execution_count": 3,
     "metadata": {},
     "output_type": "execute_result"
    }
   ],
   "source": [
    "def vector_subtract(v, w):\n",
    "    \"\"\"subtracts two vectors componentwise\"\"\"\n",
    "    return [v_i - w_i for v_i, w_i in zip(v,w)]\n",
    "\n",
    "vector_subtract(v, w)\n"
   ]
  },
  {
   "cell_type": "code",
   "execution_count": 4,
   "id": "91131a5b",
   "metadata": {},
   "outputs": [
    {
     "data": {
      "text/plain": [
       "array([-10, -10, -10, -10, -10])"
      ]
     },
     "execution_count": 4,
     "metadata": {},
     "output_type": "execute_result"
    }
   ],
   "source": [
    "np.array(v) - np.array(w)\n"
   ]
  },
  {
   "cell_type": "code",
   "execution_count": 5,
   "id": "7e709d94",
   "metadata": {},
   "outputs": [
    {
     "data": {
      "text/plain": [
       "[36, 48, 60, 72, 84]"
      ]
     },
     "execution_count": 5,
     "metadata": {},
     "output_type": "execute_result"
    }
   ],
   "source": [
    "v = [x for x in range(1, 11, 2)]\n",
    "w = [y for y in range(11, 21, 2)]\n",
    "\n",
    "# Version1\n",
    "def vector_sum(vectors):\n",
    "    return reduce(vector_add, vectors)\n",
    "\n",
    "vectors = [v,w,v,w,v,w]\n",
    "vector_sum(vectors)\n",
    "\n",
    "# Version2\n",
    "def vector_sum_modified(vectors):\n",
    "    return [sum(value) for value in zip(*vectors)]\n",
    "\n",
    "vectors = [v,w,v,w,v,w]\n",
    "vector_sum_modified(vectors)"
   ]
  },
  {
   "cell_type": "code",
   "execution_count": 6,
   "id": "cee20c32",
   "metadata": {},
   "outputs": [
    {
     "data": {
      "text/plain": [
       "array([36, 48, 60, 72, 84])"
      ]
     },
     "execution_count": 6,
     "metadata": {},
     "output_type": "execute_result"
    }
   ],
   "source": [
    "np.sum([v,w,v,w,v,w], axis=0) \n"
   ]
  },
  {
   "cell_type": "code",
   "execution_count": 7,
   "id": "4b3d719e",
   "metadata": {},
   "outputs": [
    {
     "data": {
      "text/plain": [
       "[3, 9, 15, 21, 27]"
      ]
     },
     "execution_count": 7,
     "metadata": {},
     "output_type": "execute_result"
    }
   ],
   "source": [
    "def scalar_multiply(c, v):\n",
    "    return [c * v_i for v_i in v]\n",
    "\n",
    "scalar = 3\n",
    "scalar_multiply(scalar, v)\n"
   ]
  },
  {
   "cell_type": "code",
   "execution_count": 8,
   "id": "577ba7e4",
   "metadata": {},
   "outputs": [
    {
     "data": {
      "text/plain": [
       "array([ 3,  9, 15, 21, 27])"
      ]
     },
     "execution_count": 8,
     "metadata": {},
     "output_type": "execute_result"
    }
   ],
   "source": [
    "scalar * np.array(v)\n"
   ]
  },
  {
   "cell_type": "code",
   "execution_count": 9,
   "id": "9d8d96fb",
   "metadata": {},
   "outputs": [
    {
     "data": {
      "text/plain": [
       "[1.0, 2.0, 3.0, 4.0]"
      ]
     },
     "execution_count": 9,
     "metadata": {},
     "output_type": "execute_result"
    }
   ],
   "source": [
    "def vector_mean(vectors):\n",
    "    \"\"\"compute the vector whose i-th element is the mean of the\n",
    "    i-th elements of the input vectors\"\"\"\n",
    "    n = len(vectors)\n",
    "    return scalar_multiply(1/n, vector_sum(vectors))\n",
    "\n",
    "v = [1,2,3,4]\n",
    "w = [-4,-3,-2,-1]\n",
    "\n",
    "vector_mean([v,v,v,v])\n"
   ]
  },
  {
   "cell_type": "code",
   "execution_count": 10,
   "id": "2d9b0008",
   "metadata": {},
   "outputs": [
    {
     "data": {
      "text/plain": [
       "array([1., 2., 3., 4.])"
      ]
     },
     "execution_count": 10,
     "metadata": {},
     "output_type": "execute_result"
    }
   ],
   "source": [
    "# Numpy version\n",
    "np.mean([v,v,v,v], axis=0)\n"
   ]
  },
  {
   "cell_type": "code",
   "execution_count": 11,
   "id": "c1e5c8d3",
   "metadata": {},
   "outputs": [
    {
     "data": {
      "text/plain": [
       "-20"
      ]
     },
     "execution_count": 11,
     "metadata": {},
     "output_type": "execute_result"
    }
   ],
   "source": [
    "def dot(v, w):\n",
    "    \"\"\"v_1 * w_1 + ... + v_n * w_n\"\"\"\n",
    "    return sum(v_i * w_i for v_i, w_i in zip(v, w))\n",
    "\n",
    "v = [1,2,3,4]\n",
    "w = [-4,-3,-2,-1]\n",
    "\n",
    "dot(v, w)\n"
   ]
  },
  {
   "cell_type": "code",
   "execution_count": 12,
   "id": "d1519446",
   "metadata": {},
   "outputs": [
    {
     "data": {
      "text/plain": [
       "-20"
      ]
     },
     "execution_count": 12,
     "metadata": {},
     "output_type": "execute_result"
    }
   ],
   "source": [
    "np.dot(v,w)"
   ]
  },
  {
   "cell_type": "code",
   "execution_count": 13,
   "id": "3cf62765",
   "metadata": {},
   "outputs": [
    {
     "data": {
      "text/plain": [
       "30"
      ]
     },
     "execution_count": 13,
     "metadata": {},
     "output_type": "execute_result"
    }
   ],
   "source": [
    "def sum_of_squares(v):\n",
    "    \"\"\"v_1 * v_1 + ... + v_n * v_n\"\"\"\n",
    "    return dot(v, v)\n",
    "\n",
    "v = [1,2,3,4]\n",
    "sum_of_squares(v) # v * v = [1,4,9,16]\n"
   ]
  },
  {
   "cell_type": "code",
   "execution_count": 14,
   "id": "6d89df58",
   "metadata": {},
   "outputs": [
    {
     "data": {
      "text/plain": [
       "5.477225575051661"
      ]
     },
     "execution_count": 14,
     "metadata": {},
     "output_type": "execute_result"
    }
   ],
   "source": [
    "# Magnitude (or length)\n",
    "def magnitude(v):\n",
    "    return math.sqrt(sum_of_squares(v))\n",
    "\n",
    "magnitude(v)\n"
   ]
  },
  {
   "cell_type": "code",
   "execution_count": 15,
   "id": "231f1fae",
   "metadata": {},
   "outputs": [
    {
     "data": {
      "text/plain": [
       "5.477225575051661"
      ]
     },
     "execution_count": 15,
     "metadata": {},
     "output_type": "execute_result"
    }
   ],
   "source": [
    "# Numpy version\n",
    "np.linalg.norm(v)\n"
   ]
  },
  {
   "cell_type": "code",
   "execution_count": 17,
   "id": "94a2e950",
   "metadata": {},
   "outputs": [
    {
     "name": "stdout",
     "output_type": "stream",
     "text": [
      "100\n",
      "10.0\n"
     ]
    }
   ],
   "source": [
    "#original version\n",
    "def squared_distance(v, w):\n",
    "    return sum_of_squares(vector_subtract(v, w))\n",
    "\n",
    "def distance(v, w):\n",
    "    return math.sqrt(squared_distance(v, w))\n",
    "\n",
    "v = [1,2,3,4]\n",
    "w = [-4,-3,-2,-1]\n",
    "\n",
    "print(squared_distance(v,w))\n",
    "print(distance(v,w))"
   ]
  },
  {
   "cell_type": "code",
   "execution_count": 18,
   "id": "45775d8a",
   "metadata": {},
   "outputs": [
    {
     "data": {
      "text/plain": [
       "10.0"
      ]
     },
     "execution_count": 18,
     "metadata": {},
     "output_type": "execute_result"
    }
   ],
   "source": [
    "# Numpy version\n",
    "np.linalg.norm(np.subtract(v,w)) # or np.sqrt(np.sum(np.subtract(v,w)**2))\n"
   ]
  },
  {
   "cell_type": "code",
   "execution_count": 19,
   "id": "3b9e42dc",
   "metadata": {},
   "outputs": [
    {
     "data": {
      "text/plain": [
       "[4, 14, 24]"
      ]
     },
     "execution_count": 19,
     "metadata": {},
     "output_type": "execute_result"
    }
   ],
   "source": [
    "def shape(A):\n",
    "    num_rows = len(A)\n",
    "    num_cols = len(A[0]) if A else 0\n",
    "    return num_rows, num_cols\n",
    "\n",
    "def get_row(A, i):\n",
    "    return A[i]\n",
    "\n",
    "def get_column(A, j):\n",
    "    return [A_i[j] for A_i in A]\n",
    "\n",
    "example_matrix = [[1,2,3,4,5], [11,12,13,14,15], [21,22,23,24,25]]\n",
    "\n",
    "shape(example_matrix)\n",
    "get_row(example_matrix, 0)\n",
    "get_column(example_matrix,3)\n"
   ]
  },
  {
   "cell_type": "code",
   "execution_count": 20,
   "id": "38742f28",
   "metadata": {},
   "outputs": [
    {
     "data": {
      "text/plain": [
       "array([ 4, 14, 24])"
      ]
     },
     "execution_count": 20,
     "metadata": {},
     "output_type": "execute_result"
    }
   ],
   "source": [
    "# Numpy version \n",
    "np.shape(example_matrix)\n",
    "example_matrix = np.array(example_matrix)\n",
    "example_matrix[0] #row slicing\n",
    "example_matrix[:,3] #row slicing\n"
   ]
  },
  {
   "cell_type": "code",
   "execution_count": 21,
   "id": "2379bc26",
   "metadata": {},
   "outputs": [
    {
     "data": {
      "text/plain": [
       "[[1, 0, 0, 0, 0],\n",
       " [0, 1, 0, 0, 0],\n",
       " [0, 0, 1, 0, 0],\n",
       " [0, 0, 0, 1, 0],\n",
       " [0, 0, 0, 0, 1]]"
      ]
     },
     "execution_count": 21,
     "metadata": {},
     "output_type": "execute_result"
    }
   ],
   "source": [
    "def make_matrix(num_rows, num_cols, entry_fn):\n",
    "    \"\"\"returns a num_rows x num_cols matrix \n",
    "    whose (i,j)-th entry is entry_fn(i, j)\"\"\"\n",
    "    return [[entry_fn(i, j) for j in range(num_cols)]\n",
    "            for i in range(num_rows)] \n",
    "\n",
    "def is_diagonal(i, j):\n",
    "    \"\"\"1's on the 'diagonal', 0's everywhere else\"\"\"\n",
    "    return 1 if i == j else 0\n",
    "\n",
    "identity_matrix = make_matrix(5, 5, is_diagonal)\n",
    "\n",
    "identity_matrix\n"
   ]
  },
  {
   "cell_type": "code",
   "execution_count": 22,
   "id": "c9388884",
   "metadata": {},
   "outputs": [
    {
     "data": {
      "text/plain": [
       "array([[1., 0., 0., 0., 0.],\n",
       "       [0., 1., 0., 0., 0.],\n",
       "       [0., 0., 1., 0., 0.],\n",
       "       [0., 0., 0., 1., 0.],\n",
       "       [0., 0., 0., 0., 1.]])"
      ]
     },
     "execution_count": 22,
     "metadata": {},
     "output_type": "execute_result"
    }
   ],
   "source": [
    "# Numpy version\n",
    "np.identity(5)\n"
   ]
  },
  {
   "cell_type": "code",
   "execution_count": 23,
   "id": "c03e568f",
   "metadata": {},
   "outputs": [
    {
     "name": "stdout",
     "output_type": "stream",
     "text": [
      "[4, 6, 7]\n"
     ]
    }
   ],
   "source": [
    "friendships = [(0, 1), (0, 2), (1, 2), (1, 3), (2, 3), (3, 4), (4, 5), (5, 6), (5, 7), (6, 8), (7, 8), (8, 9)]\n",
    "\n",
    "friendships = [[0, 1, 1, 0, 0, 0, 0, 0, 0, 0], \t# user 0\n",
    "                      [1, 0, 1, 1, 0, 0, 0, 0, 0, 0], \t# user 1\n",
    "                      [1, 1, 0, 1, 0, 0, 0, 0, 0, 0], \t# user 2\n",
    "                      [0, 1, 1, 0, 1, 0, 0, 0, 0, 0], \t# user 3\n",
    "                      [0, 0, 0, 1, 0, 1, 0, 0, 0, 0], \t# user 4\n",
    "                      [0, 0, 0, 0, 1, 0, 1, 1, 0, 0], \t# user 5\n",
    "                      [0, 0, 0, 0, 0, 1, 0, 0, 1, 0], \t# user 6\n",
    "                      [0, 0, 0, 0, 0, 1, 0, 0, 1, 0], \t# user 7\n",
    "                      [0, 0, 0, 0, 0, 0, 1, 1, 0, 1], \t# user 8\n",
    "                      [0, 0, 0, 0, 0, 0, 0, 0, 1, 0]] \t# user 9\n",
    "\n",
    "friendships[0][2] == 1 # True, user 0과 2는 친구이다 \n",
    "friendships[0][8] == 1 # False, user 0과 8은 친구가 아니다\n",
    "\n",
    "# only need # to look at # one row\n",
    "friends_of_five = [i for i, is_friend in enumerate(friendships[5]) if is_friend]\n",
    "print(friends_of_five)\n"
   ]
  },
  {
   "cell_type": "code",
   "execution_count": 24,
   "id": "33e002c9",
   "metadata": {},
   "outputs": [
    {
     "data": {
      "text/plain": [
       "[[6.0, 4.0, 3.0], [2.0, 3.0, 4.0]]"
      ]
     },
     "execution_count": 24,
     "metadata": {},
     "output_type": "execute_result"
    }
   ],
   "source": [
    "def matrix_add(A, B):\n",
    "    if shape(A) != shape(B):\n",
    "        raise ArithmeticError(\"cannot add matrices with different shapes\")\n",
    "        \n",
    "    num_rows, num_cols = shape(A)\n",
    "    def entry_fn(i, j): return A[i][j] + B[i][j]\n",
    "        \n",
    "    return make_matrix(num_rows, num_cols, entry_fn)\n",
    "\n",
    "A = [[ 1., 0., 0.], [ 0., 1., 2.]]\n",
    "B = [[ 5., 4., 3.], [ 2., 2., 2.]]\n",
    "\n",
    "matrix_add(A,B)\n",
    "\n"
   ]
  },
  {
   "cell_type": "code",
   "execution_count": 25,
   "id": "e726860e",
   "metadata": {},
   "outputs": [
    {
     "data": {
      "text/plain": [
       "array([[6., 4., 3.],\n",
       "       [2., 3., 4.]])"
      ]
     },
     "execution_count": 25,
     "metadata": {},
     "output_type": "execute_result"
    }
   ],
   "source": [
    "# Numpy version\n",
    "np.add(A,B) # vector 마찬가지로 크기 같은 matrix 형태의 list가 돌아오면 자동으로 변환함\n"
   ]
  },
  {
   "cell_type": "code",
   "execution_count": 26,
   "id": "48fd1456",
   "metadata": {},
   "outputs": [
    {
     "data": {
      "image/png": "[encoded data removed]",
      "text/plain": [
       "<Figure size 432x288 with 1 Axes>"
      ]
     },
     "metadata": {
      "needs_background": "light"
     },
     "output_type": "display_data"
    }
   ],
   "source": [
    "def make_graph_dot_product_as_vector_projection(plt):\n",
    "    v = [2, 1]\n",
    "    w = [math.sqrt(.25), math.sqrt(.75)]\n",
    "    c = dot(v, w)\n",
    "    vonw = scalar_multiply(c, w)\n",
    "    o = [0,0]\n",
    "\n",
    "    plt.arrow(0, 0, v[0], v[1], \n",
    "              width=0.002, head_width=.1, length_includes_head=True)\n",
    "    plt.annotate(\"v\", v, xytext=[v[0] + 0.1, v[1]])\n",
    "    plt.arrow(0 ,0, w[0], w[1], \n",
    "              width=0.002, head_width=.1, length_includes_head=True)\n",
    "    plt.annotate(\"w\", w, xytext=[w[0] - 0.1, w[1]])\n",
    "    plt.arrow(0, 0, vonw[0], vonw[1], length_includes_head=True)\n",
    "    plt.annotate(u\"(v•w)w\", vonw, xytext=[vonw[0] - 0.1, vonw[1] + 0.1])\n",
    "    plt.arrow(v[0], v[1], vonw[0] - v[0], vonw[1] - v[1], \n",
    "              linestyle='dotted', length_includes_head=True)\n",
    "    plt.scatter(*zip(v,w,o),marker='.')\n",
    "    plt.axis([0,2,0,2]) # 잘리는 부분이 있어서 변경\n",
    "    plt.show()\n",
    "\n",
    "%matplotlib inline\n",
    "make_graph_dot_product_as_vector_projection(plt)\n"
   ]
  },
  {
   "cell_type": "markdown",
   "id": "a855b4b6",
   "metadata": {},
   "source": [
    "# DOT"
   ]
  },
  {
   "cell_type": "markdown",
   "id": "eb2458a0",
   "metadata": {},
   "source": [
    "## Real Coding"
   ]
  },
  {
   "cell_type": "code",
   "execution_count": 27,
   "id": "f5b56844",
   "metadata": {},
   "outputs": [],
   "source": [
    "A = [[1,2,3],[4,5,6]]\n",
    "B = [[1,2],[3,4],[5,6]]"
   ]
  },
  {
   "cell_type": "code",
   "execution_count": 29,
   "id": "a6a93e97",
   "metadata": {},
   "outputs": [],
   "source": [
    "def zeros_matrix(rows, cols):\n",
    "\n",
    "    M = []\n",
    "    while len(M) < rows:\n",
    "        M.append([])\n",
    "        while len(M[-1]) < cols:\n",
    "            M[-1].append(0.0)\n",
    " \n",
    "    return M"
   ]
  },
  {
   "cell_type": "code",
   "execution_count": 30,
   "id": "2e6e36ee",
   "metadata": {},
   "outputs": [],
   "source": [
    "def dot(A, B):\n",
    "\n",
    "    rowsA = len(A)\n",
    "    colsA = len(A[0])\n",
    "    rowsB = len(B)\n",
    "    colsB = len(B[0])\n",
    "    if colsA != rowsB:\n",
    "        raise ArithmeticError('Number of A columns must equal number of B rows.')\n",
    " \n",
    "\n",
    "    C = zeros_matrix(rowsA, colsB)\n",
    "    for i in range(rowsA):\n",
    "        for j in range(colsB):\n",
    "            total = 0\n",
    "            for ii in range(colsA):\n",
    "                total += A[i][ii] * B[ii][j]\n",
    "            C[i][j] = total\n",
    " \n",
    "    return C"
   ]
  },
  {
   "cell_type": "code",
   "execution_count": 31,
   "id": "22b86f13",
   "metadata": {},
   "outputs": [
    {
     "data": {
      "text/plain": [
       "[[22, 28], [49, 64]]"
      ]
     },
     "execution_count": 31,
     "metadata": {},
     "output_type": "execute_result"
    }
   ],
   "source": [
    "dot(A,B)"
   ]
  },
  {
   "cell_type": "markdown",
   "id": "7fcc0d92",
   "metadata": {},
   "source": [
    "## Numpy Version"
   ]
  },
  {
   "cell_type": "code",
   "execution_count": 32,
   "id": "4738a9eb",
   "metadata": {},
   "outputs": [
    {
     "data": {
      "text/plain": [
       "array([[22, 28],\n",
       "       [49, 64]])"
      ]
     },
     "execution_count": 32,
     "metadata": {},
     "output_type": "execute_result"
    }
   ],
   "source": [
    "np.dot(A,B)"
   ]
  },
  {
   "cell_type": "markdown",
   "id": "329f517f",
   "metadata": {},
   "source": [
    "# Transpose"
   ]
  },
  {
   "cell_type": "markdown",
   "id": "0e275246",
   "metadata": {},
   "source": [
    "## Real Code"
   ]
  },
  {
   "cell_type": "code",
   "execution_count": 33,
   "id": "5de226d2",
   "metadata": {},
   "outputs": [],
   "source": [
    "def transpose(M):\n",
    "\n",
    "\n",
    "    if not isinstance(M[0],list):\n",
    "        M = [M]\n",
    " \n",
    "\n",
    "    rows = len(M)\n",
    "    cols = len(M[0])\n",
    " \n",
    "\n",
    "    MT = zeros_matrix(cols, rows)\n",
    " \n",
    "\n",
    "    for i in range(rows):\n",
    "        for j in range(cols):\n",
    "            MT[j][i] = M[i][j]\n",
    " \n",
    "    return MT"
   ]
  },
  {
   "cell_type": "code",
   "execution_count": 34,
   "id": "d4a9504c",
   "metadata": {},
   "outputs": [
    {
     "data": {
      "text/plain": [
       "[[1, 4], [2, 5], [3, 6]]"
      ]
     },
     "execution_count": 34,
     "metadata": {},
     "output_type": "execute_result"
    }
   ],
   "source": [
    "transpose(A)"
   ]
  },
  {
   "cell_type": "code",
   "execution_count": 35,
   "id": "b8277109",
   "metadata": {},
   "outputs": [
    {
     "data": {
      "text/plain": [
       "[[1, 3, 5], [2, 4, 6]]"
      ]
     },
     "execution_count": 35,
     "metadata": {},
     "output_type": "execute_result"
    }
   ],
   "source": [
    "transpose(B)"
   ]
  },
  {
   "cell_type": "markdown",
   "id": "5ebaa30e",
   "metadata": {},
   "source": [
    "## Numpy version"
   ]
  },
  {
   "cell_type": "code",
   "execution_count": 37,
   "id": "e86e0143",
   "metadata": {},
   "outputs": [
    {
     "data": {
      "text/plain": [
       "array([[1, 4],\n",
       "       [2, 5],\n",
       "       [3, 6]])"
      ]
     },
     "execution_count": 37,
     "metadata": {},
     "output_type": "execute_result"
    }
   ],
   "source": [
    "np.array(A).T"
   ]
  },
  {
   "cell_type": "code",
   "execution_count": 38,
   "id": "8d88a293",
   "metadata": {},
   "outputs": [
    {
     "data": {
      "text/plain": [
       "array([[1, 3, 5],\n",
       "       [2, 4, 6]])"
      ]
     },
     "execution_count": 38,
     "metadata": {},
     "output_type": "execute_result"
    }
   ],
   "source": [
    "np.array(B).T"
   ]
  },
  {
   "cell_type": "markdown",
   "id": "948f9ee1",
   "metadata": {},
   "source": [
    "# 201600779 김영민"
   ]
  }
 ],
 "metadata": {
  "kernelspec": {
   "display_name": "Python 3",
   "language": "python",
   "name": "python3"
  },
  "language_info": {
   "codemirror_mode": {
    "name": "ipython",
    "version": 3
   },
   "file_extension": ".py",
   "mimetype": "text/x-python",
   "name": "python",
   "nbconvert_exporter": "python",
   "pygments_lexer": "ipython3",
   "version": "3.8.8"
  }
 },
 "nbformat": 4,
 "nbformat_minor": 5
}
