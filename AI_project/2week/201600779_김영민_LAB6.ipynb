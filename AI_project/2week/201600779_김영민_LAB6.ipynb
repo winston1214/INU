{
 "cells": [
  {
   "cell_type": "markdown",
   "id": "5b8e224e",
   "metadata": {},
   "source": [
    "# 201600779 김영민"
   ]
  },
  {
   "cell_type": "code",
   "execution_count": 1,
   "id": "26abfe3a",
   "metadata": {},
   "outputs": [],
   "source": [
    "import warnings\n",
    "warnings.filterwarnings('ignore')"
   ]
  },
  {
   "cell_type": "code",
   "execution_count": 2,
   "id": "64a7952d",
   "metadata": {},
   "outputs": [
    {
     "name": "stdout",
     "output_type": "stream",
     "text": [
      "Populating the interactive namespace from numpy and matplotlib\n"
     ]
    },
    {
     "data": {
      "image/png": "[encoded data removed]",
      "text/plain": [
       "<Figure size 432x288 with 1 Axes>"
      ]
     },
     "metadata": {
      "needs_background": "light"
     },
     "output_type": "display_data"
    }
   ],
   "source": [
    "def sum_of_squares(v):\t# linear_algebra.py 코드에서 임포트 하는 대신 여기에 코딩\n",
    "    \n",
    "    return dot(v, v)\n",
    "\n",
    "def dot(v, w):\t\t # linear_algebra.py 코드에서 임포트 하는 대신 여기에 코딩\n",
    "\n",
    "    return sum(v_i * w_i for v_i, w_i in zip(v, w))\n",
    "\n",
    "from IPython.core.interactiveshell import InteractiveShell \n",
    "InteractiveShell.ast_node_interactivity = \"all\"\n",
    "\n",
    "from collections import Counter\n",
    "#from linear_algebra import sum_of_squares, dot # linear_algebra.py 코드에서 임포트\n",
    "import math\n",
    "import numpy as np\n",
    "\n",
    "num_friends = [100,49,41,40,25,21,21,19,19,18,18,16,15,15,15,15,14,14,13,13,13,13,12,12,11,10,10,10,10,10,10,10,10,10,10,10,10,10,10,10,9,9,9,9,9,9,9,9,9,9,9,9,9,9,9,9,9,9,8,8,8,8,8,8,8,8,8,8,8,8,8,7,7,7,7,7,7,7,7,7,7,7,7,7,7,7,6,6,6,6,6,6,6,6,6,6,6,6,6,6,6,6,6,6,6,6,6,6,5,5,5,5,5,5,5,5,5,5,5,5,5,5,5,5,5,4,4,4,4,4,4,4,4,4,4,4,4,4,4,4,4,4,4,4,4,3,3,3,3,3,3,3,3,3,3,3,3,3,3,3,3,3,3,3,3,2,2,2,2,2,2,2,2,2,2,2,2,2,2,2,2,2,1,1,1,1,1,1,1,1,1,1,1,1,1,1,1,1,1,1,1,1,1,1]\n",
    "\n",
    "def make_friend_counts_histogram(plt):\n",
    "    friend_counts = Counter(num_friends)\n",
    "    xs = range(101)\n",
    "    ys = [friend_counts[x] for x in xs]\n",
    "    plt.bar(xs, ys)\n",
    "    plt.axis([0,101,0,25])\n",
    "    plt.title(\"Histogram of Friend Counts\")\n",
    "    plt.xlabel(\"# of friends\")\n",
    "    plt.ylabel(\"# of people\")\n",
    "    plt.show()\n",
    "\n",
    "import matplotlib as plt\n",
    "%pylab inline\n",
    "\n",
    "make_friend_counts_histogram(plt)\n"
   ]
  },
  {
   "cell_type": "code",
   "execution_count": 3,
   "id": "fe2be4a7",
   "metadata": {},
   "outputs": [
    {
     "name": "stdout",
     "output_type": "stream",
     "text": [
      "204\n",
      "100\n",
      "1\n",
      "[1, 1, 1, 1, 1, 1, 1, 1, 1, 1, 1, 1, 1, 1, 1, 1, 1, 1, 1, 1, 1, 1, 2, 2, 2, 2, 2, 2, 2, 2, 2, 2, 2, 2, 2, 2, 2, 2, 2, 3, 3, 3, 3, 3, 3, 3, 3, 3, 3, 3, 3, 3, 3, 3, 3, 3, 3, 3, 3, 4, 4, 4, 4, 4, 4, 4, 4, 4, 4, 4, 4, 4, 4, 4, 4, 4, 4, 4, 4, 5, 5, 5, 5, 5, 5, 5, 5, 5, 5, 5, 5, 5, 5, 5, 5, 5, 6, 6, 6, 6, 6, 6, 6, 6, 6, 6, 6, 6, 6, 6, 6, 6, 6, 6, 6, 6, 6, 6, 7, 7, 7, 7, 7, 7, 7, 7, 7, 7, 7, 7, 7, 7, 7, 8, 8, 8, 8, 8, 8, 8, 8, 8, 8, 8, 8, 8, 9, 9, 9, 9, 9, 9, 9, 9, 9, 9, 9, 9, 9, 9, 9, 9, 9, 9, 10, 10, 10, 10, 10, 10, 10, 10, 10, 10, 10, 10, 10, 10, 10, 11, 12, 12, 13, 13, 13, 13, 14, 14, 15, 15, 15, 15, 16, 18, 18, 19, 19, 21, 21, 25, 40, 41, 49, 100]\n",
      "1\n",
      "1\n",
      "49\n"
     ]
    }
   ],
   "source": [
    "num_points = len(num_friends)                   # 204\n",
    "largest_value = max(num_friends)               # 100\n",
    "smallest_value = min(num_friends)              # 1\n",
    "sorted_values = sorted(num_friends)\n",
    "smallest_value = sorted_values[0]                # 1\n",
    "second_smallest_value = sorted_values[1]    # 1\n",
    "second_largest_value = sorted_values[-2]    # 49\n",
    "\n",
    "print(num_points)\n",
    "print(largest_value)\n",
    "print(smallest_value)\n",
    "print(sorted_values)\n",
    "print(smallest_value)\n",
    "print(second_smallest_value)\n",
    "print(second_largest_value)\n"
   ]
  },
  {
   "cell_type": "code",
   "execution_count": 4,
   "id": "5b4d59b0",
   "metadata": {},
   "outputs": [
    {
     "data": {
      "text/plain": [
       "7.333333333333333"
      ]
     },
     "execution_count": 4,
     "metadata": {},
     "output_type": "execute_result"
    },
    {
     "data": {
      "text/plain": [
       "7.333333333333333"
      ]
     },
     "execution_count": 4,
     "metadata": {},
     "output_type": "execute_result"
    }
   ],
   "source": [
    "def mean(x): \n",
    "    return sum(x) / len(x)\n",
    "\n",
    "mean(num_friends)\n",
    "\n",
    "# Numpy version\n",
    "np.mean(num_friends)\n"
   ]
  },
  {
   "cell_type": "code",
   "execution_count": 5,
   "id": "c9ae21c3",
   "metadata": {},
   "outputs": [
    {
     "data": {
      "text/plain": [
       "6.0"
      ]
     },
     "execution_count": 5,
     "metadata": {},
     "output_type": "execute_result"
    },
    {
     "data": {
      "text/plain": [
       "6.0"
      ]
     },
     "execution_count": 5,
     "metadata": {},
     "output_type": "execute_result"
    }
   ],
   "source": [
    "# 데이터의 중앙에 있는 값(홀수) 또는 중앙에 있는 두 값의 평균(짝수)\n",
    "def median(v):\n",
    "    \"\"\"finds the 'middle-most' value of v\"\"\"\n",
    "    n = len(v)\n",
    "    sorted_v = sorted(v)\n",
    "    midpoint = n // 2\n",
    "    \n",
    "    if n % 2 == 1:\n",
    "        # if odd, return the middle value\n",
    "        return sorted_v[midpoint]\n",
    "    else:\n",
    "        # if even, return the average of the middle values\n",
    "        lo = midpoint - 1\n",
    "        hi = midpoint\n",
    "        return (sorted_v[lo] + sorted_v[hi]) / 2\n",
    "    \n",
    "median(num_friends)\n",
    "\n",
    "# Numpy version\n",
    "np.median(num_friends)\n"
   ]
  },
  {
   "cell_type": "code",
   "execution_count": 6,
   "id": "30c2d66c",
   "metadata": {},
   "outputs": [
    {
     "name": "stdout",
     "output_type": "stream",
     "text": [
      "0.00 Percentage value 1\n",
      "0.25 Percentage value 3\n",
      "0.50 Percentage value 6\n",
      "0.75 Percentage value 9\n"
     ]
    },
    {
     "data": {
      "text/plain": [
       "array([1., 3., 6., 9.])"
      ]
     },
     "execution_count": 6,
     "metadata": {},
     "output_type": "execute_result"
    }
   ],
   "source": [
    "def quantile(x, p):\n",
    "    \"\"\"returns the pth-percentile value in x\"\"\"\n",
    "    p_index = int(p * len(x))\n",
    "    return sorted(x)[p_index]\n",
    "\n",
    "for i in range(0, 100, 25):\n",
    "    print(\"%.2f Percentage value\" % (i*0.01) , quantile(num_friends, i * 0.01))\n",
    "\n",
    "# Numpy version\n",
    "np.percentile(num_friends, [i for i in range(0,100,25)])\n"
   ]
  },
  {
   "cell_type": "code",
   "execution_count": 7,
   "id": "318759fa",
   "metadata": {},
   "outputs": [
    {
     "data": {
      "text/plain": [
       "[6, 1]"
      ]
     },
     "execution_count": 7,
     "metadata": {},
     "output_type": "execute_result"
    }
   ],
   "source": [
    "def mode(x):\n",
    "    \"\"\"returns a list, might be more than one mode\"\"\"\n",
    "    counts = Counter(x)\n",
    "    max_count = max(counts.values())\n",
    "    return [x_i for x_i, count in counts.items()\n",
    "            if count == max_count]\n",
    "\n",
    "mode(num_friends)\n"
   ]
  },
  {
   "cell_type": "code",
   "execution_count": 8,
   "id": "46dd8f6e",
   "metadata": {},
   "outputs": [
    {
     "data": {
      "text/plain": [
       "99"
      ]
     },
     "execution_count": 8,
     "metadata": {},
     "output_type": "execute_result"
    },
    {
     "data": {
      "text/plain": [
       "99"
      ]
     },
     "execution_count": 8,
     "metadata": {},
     "output_type": "execute_result"
    }
   ],
   "source": [
    "# \"range\" already means something in Python, so we'll use a different name\n",
    "def data_range(x):\n",
    "    return max(x) - min(x)\n",
    "\n",
    "data_range(num_friends)\n",
    "\n",
    "np.max(num_friends) - np.min(num_friends)\n"
   ]
  },
  {
   "cell_type": "code",
   "execution_count": 9,
   "id": "268e2159",
   "metadata": {},
   "outputs": [
    {
     "data": {
      "text/plain": [
       "81.54351395730706"
      ]
     },
     "execution_count": 9,
     "metadata": {},
     "output_type": "execute_result"
    },
    {
     "name": "stdout",
     "output_type": "stream",
     "text": [
      "58.3 µs ± 2.01 µs per loop (mean ± std. dev. of 7 runs, 10000 loops each)\n",
      "The slowest run took 4.50 times longer than the fastest. This could mean that an intermediate result is being cached.\n",
      "65.4 µs ± 38 µs per loop (mean ± std. dev. of 7 runs, 10000 loops each)\n"
     ]
    }
   ],
   "source": [
    "# Mean - value\n",
    "\n",
    "def de_mean(x):\n",
    "    \"\"\"translate x by subtracting its mean (so the result has mean 0)\"\"\"\n",
    "    x_bar = mean(x)\n",
    "    return [x_i - x_bar for x_i in x]\n",
    "\n",
    "def variance(x):\n",
    "    \"\"\"assumes x has at least two elements\"\"\"\n",
    "    n = len(x)\n",
    "    deviations = de_mean(x)\n",
    "    return sum_of_squares(deviations) / (n - 1)\n",
    "\n",
    "variance(num_friends)\n",
    "\n",
    "%timeit variance(num_friends) \n",
    "%timeit np.var(num_friends) # 일반적인 분산 연산도 numpy가 빠름\n"
   ]
  },
  {
   "cell_type": "code",
   "execution_count": 10,
   "id": "64fb7df2",
   "metadata": {},
   "outputs": [
    {
     "data": {
      "text/plain": [
       "9.030144736232474"
      ]
     },
     "execution_count": 10,
     "metadata": {},
     "output_type": "execute_result"
    },
    {
     "data": {
      "text/plain": [
       "9.007984838446012"
      ]
     },
     "execution_count": 10,
     "metadata": {},
     "output_type": "execute_result"
    },
    {
     "data": {
      "text/plain": [
       "6"
      ]
     },
     "execution_count": 10,
     "metadata": {},
     "output_type": "execute_result"
    }
   ],
   "source": [
    "def standard_deviation(x):\n",
    "    return math.sqrt(variance(x))\n",
    "\n",
    "standard_deviation(num_friends)\n",
    "\n",
    "np.std(num_friends, dtype=np.float64) \n",
    "\n",
    "def interquartile_range(x):\n",
    "    return quantile(x, 0.75) - quantile(x, 0.25)\n",
    "\n",
    "interquartile_range(num_friends)\n"
   ]
  },
  {
   "cell_type": "code",
   "execution_count": 11,
   "id": "02ffa949",
   "metadata": {},
   "outputs": [
    {
     "data": {
      "text/plain": [
       "22.42543513957307"
      ]
     },
     "execution_count": 11,
     "metadata": {},
     "output_type": "execute_result"
    },
    {
     "data": {
      "text/plain": [
       "array([[ 81.54351396,  22.42543514],\n",
       "       [ 22.42543514, 100.78589895]])"
      ]
     },
     "execution_count": 11,
     "metadata": {},
     "output_type": "execute_result"
    }
   ],
   "source": [
    "daily_minutes = [1,68.77,51.25,52.08,38.36,44.54,57.13,51.4,41.42,31.22,34.76,54.01,38.79,47.59,49.1,27.66,41.03,36.73,48.65,28.12,46.62,35.57,32.98,35,26.07,23.77,39.73,40.57,31.65,31.21,36.32,20.45,21.93,26.02,27.34,23.49,46.94,30.5,33.8,24.23,21.4,27.94,32.24,40.57,25.07,19.42,22.39,18.42,46.96,23.72,26.41,26.97,36.76,40.32,35.02,29.47,30.2,31,38.11,38.18,36.31,21.03,30.86,36.07,28.66,29.08,37.28,15.28,24.17,22.31,30.17,25.53,19.85,35.37,44.6,17.23,13.47,26.33,35.02,32.09,24.81,19.33,28.77,24.26,31.98,25.73,24.86,16.28,34.51,15.23,39.72,40.8,26.06,35.76,34.76,16.13,44.04,18.03,19.65,32.62,35.59,39.43,14.18,35.24,40.13,41.82,35.45,36.07,43.67,24.61,20.9,21.9,18.79,27.61,27.21,26.61,29.77,20.59,27.53,13.82,33.2,25,33.1,36.65,18.63,14.87,22.2,36.81,25.53,24.62,26.25,18.21,28.08,19.42,29.79,32.8,35.99,28.32,27.79,35.88,29.06,36.28,14.1,36.63,37.49,26.9,18.58,38.48,24.48,18.95,33.55,14.24,29.04,32.51,25.63,22.22,19,32.73,15.16,13.9,27.2,32.01,29.27,33,13.74,20.42,27.32,18.23,35.35,28.48,9.08,24.62,20.12,35.26,19.92,31.02,16.49,12.16,30.7,31.22,34.65,13.13,27.51,33.2,31.57,14.1,33.42,17.44,10.12,24.42,9.82,23.39,30.93,15.03,21.67,31.09,33.29,22.61,26.89,23.48,8.38,27.81,32.35,23.84]\n",
    "\n",
    "def covariance(x, y):\n",
    "    n = len(x)\n",
    "    return dot(de_mean(x), de_mean(y)) / (n - 1)\n",
    "\n",
    "covariance(num_friends, daily_minutes)\n",
    "\n",
    "np.cov(num_friends,daily_minutes)\n"
   ]
  },
  {
   "cell_type": "code",
   "execution_count": 12,
   "id": "c78a6c69",
   "metadata": {},
   "outputs": [
    {
     "data": {
      "text/plain": [
       "0.2473695736647823"
      ]
     },
     "execution_count": 12,
     "metadata": {},
     "output_type": "execute_result"
    },
    {
     "data": {
      "text/plain": [
       "array([[1.        , 0.24736957],\n",
       "       [0.24736957, 1.        ]])"
      ]
     },
     "execution_count": 12,
     "metadata": {},
     "output_type": "execute_result"
    },
    {
     "data": {
      "text/plain": [
       "[<matplotlib.lines.Line2D at 0x1fde0ffb790>]"
      ]
     },
     "execution_count": 12,
     "metadata": {},
     "output_type": "execute_result"
    },
    {
     "data": {
      "text/plain": [
       "(0.0, 110.0, 0.0, 78.77)"
      ]
     },
     "execution_count": 12,
     "metadata": {},
     "output_type": "execute_result"
    },
    {
     "data": {
      "image/png": "[encoded data removed]",
      "text/plain": [
       "<Figure size 432x288 with 1 Axes>"
      ]
     },
     "metadata": {
      "needs_background": "light"
     },
     "output_type": "display_data"
    }
   ],
   "source": [
    "def correlation(x, y):\n",
    "    stdev_x = standard_deviation(x)\n",
    "    stdev_y = standard_deviation(y)\n",
    "    if stdev_x > 0 and stdev_y > 0:\n",
    "        return covariance(x, y) / stdev_x / stdev_y\n",
    "    else:\n",
    "        return 0 # if no variation, correlation is zero\n",
    "    \n",
    "correlation(num_friends, daily_minutes)\n",
    "\n",
    "np.corrcoef(num_friends, daily_minutes)\n",
    "\n",
    "plt.plot(num_friends, daily_minutes, 'ro')\n",
    "plt.axis([0,max(num_friends)+10,0,max(daily_minutes) +10 ])\n",
    "plt.show()\n"
   ]
  },
  {
   "cell_type": "code",
   "execution_count": 13,
   "id": "0d66e292",
   "metadata": {},
   "outputs": [
    {
     "data": {
      "text/plain": [
       "[<matplotlib.lines.Line2D at 0x1fde14c7b80>]"
      ]
     },
     "execution_count": 13,
     "metadata": {},
     "output_type": "execute_result"
    },
    {
     "data": {
      "text/plain": [
       "(0.0, 59.0, 0.0, 78.77)"
      ]
     },
     "execution_count": 13,
     "metadata": {},
     "output_type": "execute_result"
    },
    {
     "data": {
      "image/png": "[encoded data removed]",
      "text/plain": [
       "<Figure size 432x288 with 1 Axes>"
      ]
     },
     "metadata": {
      "needs_background": "light"
     },
     "output_type": "display_data"
    }
   ],
   "source": [
    "outlier = num_friends.index(100) # index of outlier\n",
    "\n",
    "num_friends_good = [x \n",
    "                    for i, x in enumerate(num_friends) \n",
    "                    if i != outlier]\n",
    "\n",
    "daily_minutes_good = [x \n",
    "                      for i, x in enumerate(daily_minutes) \n",
    "                      if i != outlier]\n",
    "\n",
    "plt.plot(num_friends_good, daily_minutes_good, 'ro')\n",
    "plt.axis([0,max(num_friends_good)+10,0,max(daily_minutes_good) +10 ])\n",
    "plt.show()\n"
   ]
  },
  {
   "cell_type": "markdown",
   "id": "6cb05fb7",
   "metadata": {},
   "source": [
    "## Apply Data"
   ]
  },
  {
   "cell_type": "code",
   "execution_count": 14,
   "id": "f0b9a040",
   "metadata": {},
   "outputs": [
    {
     "data": {
      "text/html": [
       "<div>\n",
       "<style scoped>\n",
       "    .dataframe tbody tr th:only-of-type {\n",
       "        vertical-align: middle;\n",
       "    }\n",
       "\n",
       "    .dataframe tbody tr th {\n",
       "        vertical-align: top;\n",
       "    }\n",
       "\n",
       "    .dataframe thead th {\n",
       "        text-align: right;\n",
       "    }\n",
       "</style>\n",
       "<table border=\"1\" class=\"dataframe\">\n",
       "  <thead>\n",
       "    <tr style=\"text-align: right;\">\n",
       "      <th></th>\n",
       "      <th>Gender</th>\n",
       "      <th>Height</th>\n",
       "      <th>Weight</th>\n",
       "    </tr>\n",
       "  </thead>\n",
       "  <tbody>\n",
       "    <tr>\n",
       "      <th>0</th>\n",
       "      <td>Male</td>\n",
       "      <td>73.847017</td>\n",
       "      <td>241.893563</td>\n",
       "    </tr>\n",
       "    <tr>\n",
       "      <th>1</th>\n",
       "      <td>Male</td>\n",
       "      <td>68.781904</td>\n",
       "      <td>162.310473</td>\n",
       "    </tr>\n",
       "    <tr>\n",
       "      <th>2</th>\n",
       "      <td>Male</td>\n",
       "      <td>74.110105</td>\n",
       "      <td>212.740856</td>\n",
       "    </tr>\n",
       "    <tr>\n",
       "      <th>3</th>\n",
       "      <td>Male</td>\n",
       "      <td>71.730978</td>\n",
       "      <td>220.042470</td>\n",
       "    </tr>\n",
       "    <tr>\n",
       "      <th>4</th>\n",
       "      <td>Male</td>\n",
       "      <td>69.881796</td>\n",
       "      <td>206.349801</td>\n",
       "    </tr>\n",
       "  </tbody>\n",
       "</table>\n",
       "</div>"
      ],
      "text/plain": [
       "  Gender     Height      Weight\n",
       "0   Male  73.847017  241.893563\n",
       "1   Male  68.781904  162.310473\n",
       "2   Male  74.110105  212.740856\n",
       "3   Male  71.730978  220.042470\n",
       "4   Male  69.881796  206.349801"
      ]
     },
     "execution_count": 14,
     "metadata": {},
     "output_type": "execute_result"
    }
   ],
   "source": [
    "import pandas as pd\n",
    "data = pd.read_csv('height-weight.csv')\n",
    "data.head()"
   ]
  },
  {
   "cell_type": "code",
   "execution_count": 15,
   "id": "ba3b606b",
   "metadata": {},
   "outputs": [
    {
     "data": {
      "text/plain": [
       "<AxesSubplot:xlabel='Height', ylabel='Weight'>"
      ]
     },
     "execution_count": 15,
     "metadata": {},
     "output_type": "execute_result"
    },
    {
     "data": {
      "image/png": "[encoded data removed]",
      "text/plain": [
       "<Figure size 432x288 with 1 Axes>"
      ]
     },
     "metadata": {
      "needs_background": "light"
     },
     "output_type": "display_data"
    }
   ],
   "source": [
    "import seaborn as sns\n",
    "sns.scatterplot(data=data,x = 'Height',y='Weight',hue='Gender')"
   ]
  },
  {
   "cell_type": "code",
   "execution_count": 16,
   "id": "0ede45a2",
   "metadata": {},
   "outputs": [],
   "source": [
    "man = data[data['Gender'] == 'Male']\n",
    "woman = data[data['Gender'] == 'Female']"
   ]
  },
  {
   "cell_type": "code",
   "execution_count": 17,
   "id": "19bce84a",
   "metadata": {},
   "outputs": [
    {
     "data": {
      "text/html": [
       "<div>\n",
       "<style scoped>\n",
       "    .dataframe tbody tr th:only-of-type {\n",
       "        vertical-align: middle;\n",
       "    }\n",
       "\n",
       "    .dataframe tbody tr th {\n",
       "        vertical-align: top;\n",
       "    }\n",
       "\n",
       "    .dataframe thead th {\n",
       "        text-align: right;\n",
       "    }\n",
       "</style>\n",
       "<table border=\"1\" class=\"dataframe\">\n",
       "  <thead>\n",
       "    <tr style=\"text-align: right;\">\n",
       "      <th></th>\n",
       "      <th>Height</th>\n",
       "      <th>Weight</th>\n",
       "    </tr>\n",
       "  </thead>\n",
       "  <tbody>\n",
       "    <tr>\n",
       "      <th>count</th>\n",
       "      <td>5000.000000</td>\n",
       "      <td>5000.000000</td>\n",
       "    </tr>\n",
       "    <tr>\n",
       "      <th>mean</th>\n",
       "      <td>69.026346</td>\n",
       "      <td>187.020621</td>\n",
       "    </tr>\n",
       "    <tr>\n",
       "      <th>std</th>\n",
       "      <td>2.863362</td>\n",
       "      <td>19.781155</td>\n",
       "    </tr>\n",
       "    <tr>\n",
       "      <th>min</th>\n",
       "      <td>58.406905</td>\n",
       "      <td>112.902939</td>\n",
       "    </tr>\n",
       "    <tr>\n",
       "      <th>25%</th>\n",
       "      <td>67.174679</td>\n",
       "      <td>173.887767</td>\n",
       "    </tr>\n",
       "    <tr>\n",
       "      <th>50%</th>\n",
       "      <td>69.027709</td>\n",
       "      <td>187.033546</td>\n",
       "    </tr>\n",
       "    <tr>\n",
       "      <th>75%</th>\n",
       "      <td>70.988744</td>\n",
       "      <td>200.357802</td>\n",
       "    </tr>\n",
       "    <tr>\n",
       "      <th>max</th>\n",
       "      <td>78.998742</td>\n",
       "      <td>269.989699</td>\n",
       "    </tr>\n",
       "  </tbody>\n",
       "</table>\n",
       "</div>"
      ],
      "text/plain": [
       "            Height       Weight\n",
       "count  5000.000000  5000.000000\n",
       "mean     69.026346   187.020621\n",
       "std       2.863362    19.781155\n",
       "min      58.406905   112.902939\n",
       "25%      67.174679   173.887767\n",
       "50%      69.027709   187.033546\n",
       "75%      70.988744   200.357802\n",
       "max      78.998742   269.989699"
      ]
     },
     "execution_count": 17,
     "metadata": {},
     "output_type": "execute_result"
    }
   ],
   "source": [
    "man.describe()"
   ]
  },
  {
   "cell_type": "code",
   "execution_count": 18,
   "id": "e5d42422",
   "metadata": {},
   "outputs": [
    {
     "data": {
      "text/html": [
       "<div>\n",
       "<style scoped>\n",
       "    .dataframe tbody tr th:only-of-type {\n",
       "        vertical-align: middle;\n",
       "    }\n",
       "\n",
       "    .dataframe tbody tr th {\n",
       "        vertical-align: top;\n",
       "    }\n",
       "\n",
       "    .dataframe thead th {\n",
       "        text-align: right;\n",
       "    }\n",
       "</style>\n",
       "<table border=\"1\" class=\"dataframe\">\n",
       "  <thead>\n",
       "    <tr style=\"text-align: right;\">\n",
       "      <th></th>\n",
       "      <th>Height</th>\n",
       "      <th>Weight</th>\n",
       "    </tr>\n",
       "  </thead>\n",
       "  <tbody>\n",
       "    <tr>\n",
       "      <th>count</th>\n",
       "      <td>5000.000000</td>\n",
       "      <td>5000.000000</td>\n",
       "    </tr>\n",
       "    <tr>\n",
       "      <th>mean</th>\n",
       "      <td>63.708774</td>\n",
       "      <td>135.860093</td>\n",
       "    </tr>\n",
       "    <tr>\n",
       "      <th>std</th>\n",
       "      <td>2.696284</td>\n",
       "      <td>19.022468</td>\n",
       "    </tr>\n",
       "    <tr>\n",
       "      <th>min</th>\n",
       "      <td>54.263133</td>\n",
       "      <td>64.700127</td>\n",
       "    </tr>\n",
       "    <tr>\n",
       "      <th>25%</th>\n",
       "      <td>61.894441</td>\n",
       "      <td>122.934096</td>\n",
       "    </tr>\n",
       "    <tr>\n",
       "      <th>50%</th>\n",
       "      <td>63.730924</td>\n",
       "      <td>136.117583</td>\n",
       "    </tr>\n",
       "    <tr>\n",
       "      <th>75%</th>\n",
       "      <td>65.563565</td>\n",
       "      <td>148.810926</td>\n",
       "    </tr>\n",
       "    <tr>\n",
       "      <th>max</th>\n",
       "      <td>73.389586</td>\n",
       "      <td>202.237214</td>\n",
       "    </tr>\n",
       "  </tbody>\n",
       "</table>\n",
       "</div>"
      ],
      "text/plain": [
       "            Height       Weight\n",
       "count  5000.000000  5000.000000\n",
       "mean     63.708774   135.860093\n",
       "std       2.696284    19.022468\n",
       "min      54.263133    64.700127\n",
       "25%      61.894441   122.934096\n",
       "50%      63.730924   136.117583\n",
       "75%      65.563565   148.810926\n",
       "max      73.389586   202.237214"
      ]
     },
     "execution_count": 18,
     "metadata": {},
     "output_type": "execute_result"
    }
   ],
   "source": [
    "woman.describe()"
   ]
  },
  {
   "cell_type": "code",
   "execution_count": 19,
   "id": "1a03a37e",
   "metadata": {},
   "outputs": [
    {
     "name": "stdout",
     "output_type": "stream",
     "text": [
      "Mean\n",
      "\n",
      "Man Average Height= 69.03 Woman Average Height= 69.03\n",
      "Man Average Weight= 187.02 , Woman Average Weight= 187.02\n"
     ]
    }
   ],
   "source": [
    "print('Mean')\n",
    "print()\n",
    "print('Man Average Height= {0:0.2f} Woman Average Height= {0:0.2f}'.format(np.mean(man['Height']),np.mean(woman)['Height']))\n",
    "print('Man Average Weight= {0:0.2f} , Woman Average Weight= {0:0.2f}'.format(np.mean(man['Weight']),np.mean(woman['Weight'])))"
   ]
  },
  {
   "cell_type": "code",
   "execution_count": 20,
   "id": "083e049c",
   "metadata": {},
   "outputs": [
    {
     "name": "stdout",
     "output_type": "stream",
     "text": [
      "Median\n",
      "\n",
      "Man Median Height= 69.03, Woman Median Height= 69.03\n",
      "Man Median Weight= 187.03, Woman Median Weight= 187.03\n"
     ]
    }
   ],
   "source": [
    "print('Median')\n",
    "print()\n",
    "print('Man Median Height= {0:0.2f}, Woman Median Height= {0:0.2f}'.format(np.median(man['Height']),np.median(woman['Height'])))\n",
    "print('Man Median Weight= {0:0.2f}, Woman Median Weight= {0:0.2f}'.format(np.median(man['Weight']),np.median(woman['Weight'])))"
   ]
  },
  {
   "cell_type": "code",
   "execution_count": 21,
   "id": "4f29d10a",
   "metadata": {},
   "outputs": [
    {
     "name": "stdout",
     "output_type": "stream",
     "text": [
      "Quantile\n",
      "\n",
      "Man Quantile Height= 67.17, Woman Median Height= 67.17\n",
      "Man Quantile Weight= 173.89, Woman Median Weight= 173.89\n"
     ]
    }
   ],
   "source": [
    "print('Quantile')\n",
    "print()\n",
    "print('Man Quantile Height= {0:0.2f}, Woman Median Height= {0:0.2f}'.format(np.quantile(man['Height'],.25),np.quantile(woman['Height'],.25)))\n",
    "print('Man Quantile Weight= {0:0.2f}, Woman Median Weight= {0:0.2f}'.format(np.quantile(man['Weight'],.25),np.quantile(woman['Weight'],.25)))"
   ]
  },
  {
   "cell_type": "code",
   "execution_count": 22,
   "id": "82126dc7",
   "metadata": {},
   "outputs": [
    {
     "name": "stdout",
     "output_type": "stream",
     "text": [
      "Mode\n",
      "\n",
      "Man Mode Height= 69, Woman Mode Height = 63\n",
      "Man Mode Weight= 192, Woman Mode Weight = 137\n"
     ]
    }
   ],
   "source": [
    "print('Mode')\n",
    "print()\n",
    "print('Man Mode Height= {}, Woman Mode Height = {}'.format(man['Height'].astype(int).mode()[0],woman['Height'].astype(int).mode()[0]))\n",
    "print('Man Mode Weight= {}, Woman Mode Weight = {}'.format(man['Weight'].astype(int).mode()[0],woman['Weight'].astype(int).mode()[0]))"
   ]
  },
  {
   "cell_type": "code",
   "execution_count": 24,
   "id": "96ef0bb6",
   "metadata": {},
   "outputs": [
    {
     "name": "stdout",
     "output_type": "stream",
     "text": [
      "Range\n",
      "\n",
      "Man Range Height = 20.59, Woman Range Height = 20.59\n",
      "Man Range Weight = 157.09, Woman Range Weight = 157.09\n"
     ]
    }
   ],
   "source": [
    "print('Range')\n",
    "print()\n",
    "man_h_range = np.max(man['Height']) - np.min(man['Height'])\n",
    "man_w_range = np.max(man['Weight']) - np.min(man['Weight'])\n",
    "woman_h_range = np.max(woman['Height']) - np.min(woman['Height'])\n",
    "woman_w_range = np.max(woman['Weight']) - np.min(woman['Weight'])\n",
    "print('Man Range Height = {0:0.2f}, Woman Range Height = {0:0.2f}'.format(man_h_range,woman_h_range))\n",
    "print('Man Range Weight = {0:0.2f}, Woman Range Weight = {0:0.2f}'.format(man_w_range,woman_w_range))"
   ]
  },
  {
   "cell_type": "code",
   "execution_count": 25,
   "id": "fbcaec2c",
   "metadata": {},
   "outputs": [
    {
     "name": "stdout",
     "output_type": "stream",
     "text": [
      "Variance\n",
      "\n",
      "Man Variance Height = 8.20, Woman Variance Height = 8.20\n",
      "Man Variance Weight = 391.29, Woman Variance Weight = 391.29\n"
     ]
    }
   ],
   "source": [
    "print('Variance')\n",
    "print()\n",
    "print('Man Variance Height = {0:0.2f}, Woman Variance Height = {0:0.2f}'.format(man['Height'].var(),woman['Height'].var()))\n",
    "print('Man Variance Weight = {0:0.2f}, Woman Variance Weight = {0:0.2f}'.format(man['Weight'].var(),woman['Weight'].var()))"
   ]
  },
  {
   "cell_type": "code",
   "execution_count": 26,
   "id": "a10cdbaa",
   "metadata": {},
   "outputs": [
    {
     "name": "stdout",
     "output_type": "stream",
     "text": [
      "Std\n",
      "\n",
      "Man Std Height = 2.86, Woman Std Height = 2.86\n",
      "Man Std Weight = 19.78, Woman Std Weight = 19.78\n"
     ]
    }
   ],
   "source": [
    "print('Std')\n",
    "print()\n",
    "print('Man Std Height = {0:0.2f}, Woman Std Height = {0:0.2f}'.format(man['Height'].std(),woman['Height'].std()))\n",
    "print('Man Std Weight = {0:0.2f}, Woman Std Weight = {0:0.2f}'.format(man['Weight'].std(),woman['Weight'].std()))"
   ]
  },
  {
   "cell_type": "code",
   "execution_count": 27,
   "id": "22ac9290",
   "metadata": {},
   "outputs": [
    {
     "name": "stdout",
     "output_type": "stream",
     "text": [
      "Covariance\n",
      "\n",
      "Man Covariance Height-Weight = \n",
      "[[  8.19884325  48.87964899]\n",
      " [ 48.87964899 391.29407402]]\n",
      "Woman Covariance Height-Weight = \n",
      "[[  7.26994749  43.57640416]\n",
      " [ 43.57640416 361.8542814 ]]\n"
     ]
    }
   ],
   "source": [
    "print('Covariance')\n",
    "print()\n",
    "man_cov = np.cov(man['Height'],man['Weight'])\n",
    "woman_cov = np.cov(woman['Height'],woman['Weight'])\n",
    "\n",
    "print('Man Covariance Height-Weight = \\n{}'.format(man_cov))\n",
    "print('Woman Covariance Height-Weight = \\n{}'.format(woman_cov))"
   ]
  },
  {
   "cell_type": "code",
   "execution_count": 28,
   "id": "a45cf712",
   "metadata": {},
   "outputs": [
    {
     "name": "stdout",
     "output_type": "stream",
     "text": [
      "Correlation\n",
      "\n",
      "Man Correlation Height-Weight = \n",
      "[[1.         0.86297885]\n",
      " [0.86297885 1.        ]]\n",
      "Woman Correlation Height-Weight = \n",
      "[[1.         0.84960859]\n",
      " [0.84960859 1.        ]]\n"
     ]
    }
   ],
   "source": [
    "print('Correlation')\n",
    "print()\n",
    "man_corr = np.corrcoef(man['Height'],man['Weight'])\n",
    "woman_corr = np.corrcoef(woman['Height'],woman['Weight'])\n",
    "\n",
    "print('Man Correlation Height-Weight = \\n{}'.format(man_corr))\n",
    "print('Woman Correlation Height-Weight = \\n{}'.format(woman_corr))"
   ]
  },
  {
   "cell_type": "markdown",
   "id": "18dd9687",
   "metadata": {},
   "source": [
    "# 201600779 김영민"
   ]
  }
 ],
 "metadata": {
  "kernelspec": {
   "display_name": "Python 3",
   "language": "python",
   "name": "python3"
  },
  "language_info": {
   "codemirror_mode": {
    "name": "ipython",
    "version": 3
   },
   "file_extension": ".py",
   "mimetype": "text/x-python",
   "name": "python",
   "nbconvert_exporter": "python",
   "pygments_lexer": "ipython3",
   "version": "3.8.8"
  }
 },
 "nbformat": 4,
 "nbformat_minor": 5
}
