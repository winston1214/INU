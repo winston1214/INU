{
 "cells": [
  {
   "cell_type": "markdown",
   "id": "f25c9875",
   "metadata": {},
   "source": [
    "# 201600779 김영민"
   ]
  },
  {
   "cell_type": "code",
   "execution_count": 3,
   "id": "2dda775c",
   "metadata": {},
   "outputs": [
    {
     "name": "stdout",
     "output_type": "stream",
     "text": [
      "dfdx :  -3\n",
      "dfdy :  4\n"
     ]
    }
   ],
   "source": [
    "# set some inputs\n",
    "x =4 ; y = -3;\n",
    "f = x*y\n",
    "dfdx = y\n",
    "dfdy = x\n",
    "print('dfdx : ',dfdx)\n",
    "print('dfdy : ',dfdy)"
   ]
  },
  {
   "cell_type": "code",
   "execution_count": 4,
   "id": "2fda0f05",
   "metadata": {},
   "outputs": [
    {
     "name": "stdout",
     "output_type": "stream",
     "text": [
      "dfdx :  1\n",
      "dfdy :  1\n"
     ]
    }
   ],
   "source": [
    "# set some inputs\n",
    "x =4 ; y = -3;\n",
    "f = x+y\n",
    "dfdx = 1\n",
    "dfdy = 1\n",
    "print('dfdx : ',dfdx)\n",
    "print('dfdy : ',dfdy)"
   ]
  },
  {
   "cell_type": "code",
   "execution_count": 6,
   "id": "aaa327ec",
   "metadata": {},
   "outputs": [
    {
     "name": "stdout",
     "output_type": "stream",
     "text": [
      "dfdx :  1\n",
      "dfdy :  1\n"
     ]
    }
   ],
   "source": [
    "# set some inputs\n",
    "x =4 ; y = -3;\n",
    "f = max(x,y)\n",
    "dfdx = 1\n",
    "dfdy = 1\n",
    "print('dfdx : ',dfdx)\n",
    "print('dfdy : ',dfdy)"
   ]
  },
  {
   "cell_type": "code",
   "execution_count": 9,
   "id": "4cfc7953",
   "metadata": {},
   "outputs": [
    {
     "name": "stdout",
     "output_type": "stream",
     "text": [
      "dfdx :  -4.0\n",
      "dfdy :  -4.0\n"
     ]
    }
   ],
   "source": [
    "# perform the forward pass\n",
    "x =4 ; y = -3; z= -4;\n",
    "q = x + y # q becomes 3\n",
    "f = q * z # f becomes -12\n",
    "\n",
    "# perform the backward pass (backpropagation) in reverse order:\n",
    "# first backprop through f = q * z\n",
    "dfdz = q # df/dz = q, so gradient on z becomes 3\n",
    "dfdq = z # df/dq = z, so gradient on q becomes -4\n",
    "dqdx = 1.0\n",
    "dqdy = 1.0\n",
    "# now backprop through q = x + y\n",
    "dfdx = dfdq * dqdx  # The multiplication here is the chain rule!\n",
    "dfdy = dfdq * dqdy\n",
    "print('dfdx : ',dfdx)\n",
    "print('dfdy : ',dfdy)"
   ]
  },
  {
   "cell_type": "code",
   "execution_count": 14,
   "id": "e923adc5",
   "metadata": {},
   "outputs": [
    {
     "name": "stdout",
     "output_type": "stream",
     "text": [
      "dx :  [0.3932238664829637, -0.5898357997244456]\n",
      "dw :  [-0.19661193324148185, -0.3932238664829637, 0.19661193324148185]\n"
     ]
    }
   ],
   "source": [
    "import math\n",
    "w = [2,-3,-3] # assume some random weights and data\n",
    "x = [-1, -2]\n",
    "\n",
    "# forward pass\n",
    "dot = w[0]*x[0] + w[1]*x[1] + w[2]\n",
    "f = 1.0 / (1 + math.exp(-dot)) # sigmoid function\n",
    "\n",
    "# backward pass through the neuron (backpropagation)\n",
    "ddot = (1 - f) * f # gradient on dot variable, using the sigmoid gradient derivation\n",
    "dx = [w[0] * ddot, w[1] * ddot] # backprop into x\n",
    "dw = [x[0] * ddot, x[1] * ddot, 1.0 * ddot] # backprop into w\n",
    "# we're done! we have the gradients on the inputs to the circuit\n",
    "print('dx : ',dx)\n",
    "print('dw : ',dw)"
   ]
  },
  {
   "cell_type": "markdown",
   "id": "8af1cf09",
   "metadata": {},
   "source": [
    "# 201600779 김영민"
   ]
  }
 ],
 "metadata": {
  "kernelspec": {
   "display_name": "Python 3",
   "language": "python",
   "name": "python3"
  },
  "language_info": {
   "codemirror_mode": {
    "name": "ipython",
    "version": 3
   },
   "file_extension": ".py",
   "mimetype": "text/x-python",
   "name": "python",
   "nbconvert_exporter": "python",
   "pygments_lexer": "ipython3",
   "version": "3.8.8"
  }
 },
 "nbformat": 4,
 "nbformat_minor": 5
}
