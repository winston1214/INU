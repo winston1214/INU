{
 "cells": [
  {
   "cell_type": "markdown",
   "metadata": {
    "id": "N6emLOpXUU-U"
   },
   "source": [
    "# 201600779 김영민 colab"
   ]
  },
  {
   "cell_type": "code",
   "execution_count": 1,
   "metadata": {
    "colab": {
     "base_uri": "https://localhost:8080/"
    },
    "id": "p8iD-zo1Tlb9",
    "outputId": "4eaa6c17-9796-4dc8-9755-eaa9d5ba31bc"
   },
   "outputs": [
    {
     "name": "stdout",
     "output_type": "stream",
     "text": [
      "Mounted at /content/drvie\n"
     ]
    }
   ],
   "source": [
    "from google.colab import drive\n",
    "drive.mount('/content/drvie')"
   ]
  },
  {
   "cell_type": "code",
   "execution_count": 3,
   "metadata": {
    "colab": {
     "base_uri": "https://localhost:8080/"
    },
    "id": "JS5lfiqsTwsB",
    "outputId": "02bd5afd-4b28-4a40-9413-edfd476c7ccf"
   },
   "outputs": [
    {
     "name": "stdout",
     "output_type": "stream",
     "text": [
      "축하합니다! 3분 딥러닝 파이토치맛 예제 실행을 위한 환경설정이 끝났습니다.\n",
      "설치된 라이브러리 정보:\n",
      " * 파이토치(torch) 버전:1.9.0+cu111\n",
      " * 토치비전(torchvision) 버전:0.10.0+cu111\n",
      " * 토치텍스트(torchtext) 버전:0.10.0\n",
      " * 넘파이(numpy) 버전:1.19.5\n",
      " * 맷플롯립(matplotlib) 버전:3.2.2\n",
      " * 사이킷런(sklearn) 버전:0.22.2.post1\n"
     ]
    }
   ],
   "source": [
    "from importlib import import_module\n",
    "\n",
    " \n",
    "\n",
    "required_packages = [\n",
    "\n",
    "    (\"torch\", \"파이토치\"),\n",
    "\n",
    "    (\"torchvision\", \"토치비전\"),\n",
    "\n",
    "    (\"torchtext\", \"토치텍스트\"),\n",
    "\n",
    "    (\"numpy\", \"넘파이\"),\n",
    "\n",
    "    (\"matplotlib\", \"맷플롯립\"),\n",
    "\n",
    "    (\"sklearn\", \"사이킷런\"),\n",
    "\n",
    "]\n",
    "\n",
    "installed_packages = []\n",
    "\n",
    "uninstalled_packages = []\n",
    "\n",
    " \n",
    "\n",
    "def run():\n",
    "\n",
    "    is_ready = True\n",
    "\n",
    "    for package_name, korean_name in required_packages:\n",
    "\n",
    "        printed_name = \"%s(%s)\" % (korean_name, package_name)\n",
    "\n",
    "        try:\n",
    "\n",
    "            imported_package = import_module(package_name)\n",
    "\n",
    "            installed_packages.append(\"%s 버전:%s\" % (printed_name, imported_package.__version__))\n",
    "\n",
    "        except:\n",
    "\n",
    "            is_ready = False\n",
    "\n",
    "            uninstalled_packages.append(printed_name)\n",
    "\n",
    " \n",
    "\n",
    "    if is_ready:\n",
    "\n",
    "        print(\"축하합니다! 3분 딥러닝 파이토치맛 예제 실행을 위한 환경설정이 끝났습니다.\")\n",
    "\n",
    "        print(\"설치된 라이브러리 정보:\")\n",
    "\n",
    "        for pkg in installed_packages:\n",
    "\n",
    "            print(\" * \" + pkg)\n",
    "\n",
    "    else:\n",
    "\n",
    "        print(\"미설치된 라이브러리가 있습니다.\")\n",
    "\n",
    "        print(\"설치된 라이브러리 정보:\")\n",
    "\n",
    "        for pkg in installed_packages:\n",
    "\n",
    "            print(\" * \" + pkg)\n",
    "\n",
    "        print(\"미설치된 라이브러리 정보:\")\n",
    "\n",
    "        for pkg in uninstalled_packages:\n",
    "\n",
    "            print(\" * \" + pkg)\n",
    "\n",
    "    return is_ready \n",
    "if __name__ == '__main__':\n",
    "    run()\n",
    " "
   ]
  },
  {
   "cell_type": "code",
   "execution_count": 4,
   "metadata": {
    "colab": {
     "base_uri": "https://localhost:8080/"
    },
    "id": "S1HzaWXdUAsL",
    "outputId": "2f87e62c-edad-4746-b5a0-df0070f31a0d"
   },
   "outputs": [
    {
     "name": "stdout",
     "output_type": "stream",
     "text": [
      "nvcc: NVIDIA (R) Cuda compiler driver\n",
      "Copyright (c) 2005-2020 NVIDIA Corporation\n",
      "Built on Mon_Oct_12_20:09:46_PDT_2020\n",
      "Cuda compilation tools, release 11.1, V11.1.105\n",
      "Build cuda_11.1.TC455_06.29190527_0\n"
     ]
    }
   ],
   "source": [
    "!nvcc -V"
   ]
  },
  {
   "cell_type": "code",
   "execution_count": 5,
   "metadata": {
    "colab": {
     "base_uri": "https://localhost:8080/"
    },
    "id": "9uTA52I3UZJ7",
    "outputId": "7c2b1377-cd7b-4b23-9fd4-96145dbae960"
   },
   "outputs": [
    {
     "name": "stdout",
     "output_type": "stream",
     "text": [
      "Tue Nov  2 11:03:39 2021       \n",
      "+-----------------------------------------------------------------------------+\n",
      "| NVIDIA-SMI 495.29.05    Driver Version: 460.32.03    CUDA Version: 11.2     |\n",
      "|-------------------------------+----------------------+----------------------+\n",
      "| GPU  Name        Persistence-M| Bus-Id        Disp.A | Volatile Uncorr. ECC |\n",
      "| Fan  Temp  Perf  Pwr:Usage/Cap|         Memory-Usage | GPU-Util  Compute M. |\n",
      "|                               |                      |               MIG M. |\n",
      "|===============================+======================+======================|\n",
      "|   0  Tesla K80           Off  | 00000000:00:04.0 Off |                    0 |\n",
      "| N/A   54C    P8    31W / 149W |      0MiB / 11441MiB |      0%      Default |\n",
      "|                               |                      |                  N/A |\n",
      "+-------------------------------+----------------------+----------------------+\n",
      "                                                                               \n",
      "+-----------------------------------------------------------------------------+\n",
      "| Processes:                                                                  |\n",
      "|  GPU   GI   CI        PID   Type   Process name                  GPU Memory |\n",
      "|        ID   ID                                                   Usage      |\n",
      "|=============================================================================|\n",
      "|  No running processes found                                                 |\n",
      "+-----------------------------------------------------------------------------+\n"
     ]
    }
   ],
   "source": [
    "!nvidia-smi"
   ]
  },
  {
   "cell_type": "code",
   "execution_count": null,
   "metadata": {
    "id": "CEsh6reFUaKl"
   },
   "outputs": [],
   "source": []
  }
 ],
 "metadata": {
  "accelerator": "GPU",
  "colab": {
   "collapsed_sections": [],
   "name": "201600779_김영민_colab.ipynb",
   "provenance": []
  },
  "kernelspec": {
   "display_name": "Python 3",
   "language": "python",
   "name": "python3"
  },
  "language_info": {
   "codemirror_mode": {
    "name": "ipython",
    "version": 3
   },
   "file_extension": ".py",
   "mimetype": "text/x-python",
   "name": "python",
   "nbconvert_exporter": "python",
   "pygments_lexer": "ipython3",
   "version": "3.8.8"
  }
 },
 "nbformat": 4,
 "nbformat_minor": 1
}
