{
 "cells": [
  {
   "cell_type": "markdown",
   "id": "0d1d25c4",
   "metadata": {},
   "source": [
    "# 201600779 김영민 Local"
   ]
  },
  {
   "cell_type": "code",
   "execution_count": 1,
   "id": "e60b653c",
   "metadata": {},
   "outputs": [],
   "source": [
    "from importlib import import_module\n",
    "\n",
    " \n",
    "\n",
    "required_packages = [\n",
    "\n",
    "    (\"torch\", \"파이토치\"),\n",
    "\n",
    "    (\"torchvision\", \"토치비전\"),\n",
    "\n",
    "    (\"torchtext\", \"토치텍스트\"),\n",
    "\n",
    "    (\"numpy\", \"넘파이\"),\n",
    "\n",
    "    (\"matplotlib\", \"맷플롯립\"),\n",
    "\n",
    "    (\"sklearn\", \"사이킷런\"),\n",
    "\n",
    "]\n",
    "\n",
    "installed_packages = []\n",
    "\n",
    "uninstalled_packages = []\n",
    "\n",
    " \n",
    "\n",
    "def run():\n",
    "\n",
    "    is_ready = True\n",
    "\n",
    "    for package_name, korean_name in required_packages:\n",
    "\n",
    "        printed_name = \"%s(%s)\" % (korean_name, package_name)\n",
    "\n",
    "        try:\n",
    "\n",
    "            imported_package = import_module(package_name)\n",
    "\n",
    "            installed_packages.append(\"%s 버전:%s\" % (printed_name, imported_package.__version__))\n",
    "\n",
    "        except:\n",
    "\n",
    "            is_ready = False\n",
    "\n",
    "            uninstalled_packages.append(printed_name)\n",
    "\n",
    " \n",
    "\n",
    "    if is_ready:\n",
    "\n",
    "        print(\"축하합니다! 3분 딥러닝 파이토치맛 예제 실행을 위한 환경설정이 끝났습니다.\")\n",
    "\n",
    "        print(\"설치된 라이브러리 정보:\")\n",
    "\n",
    "        for pkg in installed_packages:\n",
    "\n",
    "            print(\" * \" + pkg)\n",
    "\n",
    "    else:\n",
    "\n",
    "        print(\"미설치된 라이브러리가 있습니다.\")\n",
    "\n",
    "        print(\"설치된 라이브러리 정보:\")\n",
    "\n",
    "        for pkg in installed_packages:\n",
    "\n",
    "            print(\" * \" + pkg)\n",
    "\n",
    "        print(\"미설치된 라이브러리 정보:\")\n",
    "\n",
    "        for pkg in uninstalled_packages:\n",
    "\n",
    "            print(\" * \" + pkg)\n",
    "\n",
    "    return is_ready \n",
    "\n",
    " "
   ]
  },
  {
   "cell_type": "code",
   "execution_count": 3,
   "id": "45e71674",
   "metadata": {},
   "outputs": [],
   "source": [
    "import torchtext"
   ]
  },
  {
   "cell_type": "code",
   "execution_count": 4,
   "id": "6136d064",
   "metadata": {},
   "outputs": [],
   "source": [
    "import torchvision"
   ]
  },
  {
   "cell_type": "markdown",
   "id": "e8209ded",
   "metadata": {},
   "source": [
    "201600779 김영민"
   ]
  }
 ],
 "metadata": {
  "kernelspec": {
   "display_name": "Python 3",
   "language": "python",
   "name": "python3"
  },
  "language_info": {
   "codemirror_mode": {
    "name": "ipython",
    "version": 3
   },
   "file_extension": ".py",
   "mimetype": "text/x-python",
   "name": "python",
   "nbconvert_exporter": "python",
   "pygments_lexer": "ipython3",
   "version": "3.8.8"
  }
 },
 "nbformat": 4,
 "nbformat_minor": 5
}
