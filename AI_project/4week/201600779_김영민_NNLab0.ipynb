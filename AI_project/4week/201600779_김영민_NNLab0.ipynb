{
 "cells": [
  {
   "cell_type": "markdown",
   "id": "a4d8c77b",
   "metadata": {},
   "source": [
    "# 201600779 김영민"
   ]
  },
  {
   "cell_type": "code",
   "execution_count": 3,
   "id": "a67a1742",
   "metadata": {},
   "outputs": [],
   "source": [
    "import numpy as np\n",
    "def sigmoid(x):\n",
    "    return 1/(1+np.exp(-x))"
   ]
  },
  {
   "cell_type": "code",
   "execution_count": 4,
   "id": "f9080225",
   "metadata": {},
   "outputs": [
    {
     "name": "stdout",
     "output_type": "stream",
     "text": [
      "[[1. ]\n",
      " [0.5]]\n",
      "\n",
      "[[0.9 0.3]\n",
      " [0.2 0.8]]\n",
      "\n",
      "[[1.05]\n",
      " [0.6 ]]\n",
      "\n",
      "[[0.7407749 ]\n",
      " [0.64565631]]\n"
     ]
    }
   ],
   "source": [
    "\n",
    "input_ = np.array([1,0.5],ndmin=2).T\n",
    "print(input_)\n",
    "print()\n",
    "weight = np.array([[0.9,0.3],[0.2,0.8]])\n",
    "print(weight)\n",
    "print()\n",
    "output = np.dot(weight,input_)\n",
    "print(output)\n",
    "print()\n",
    "result = sigmoid(output)\n",
    "print(result)"
   ]
  },
  {
   "cell_type": "markdown",
   "id": "928b2c0f",
   "metadata": {},
   "source": [
    "# 201600779 김영민"
   ]
  }
 ],
 "metadata": {
  "kernelspec": {
   "display_name": "Python 3",
   "language": "python",
   "name": "python3"
  },
  "language_info": {
   "codemirror_mode": {
    "name": "ipython",
    "version": 3
   },
   "file_extension": ".py",
   "mimetype": "text/x-python",
   "name": "python",
   "nbconvert_exporter": "python",
   "pygments_lexer": "ipython3",
   "version": "3.8.8"
  }
 },
 "nbformat": 4,
 "nbformat_minor": 5
}
