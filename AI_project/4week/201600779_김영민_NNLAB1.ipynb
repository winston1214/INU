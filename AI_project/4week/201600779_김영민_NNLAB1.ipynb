{
 "cells": [
  {
   "cell_type": "code",
   "execution_count": 1,
   "metadata": {},
   "outputs": [],
   "source": [
    "import pandas as pd\n",
    "import numpy as np"
   ]
  },
  {
   "cell_type": "code",
   "execution_count": 2,
   "metadata": {},
   "outputs": [],
   "source": [
    "def sigmoid(x):\n",
    "    return 1/(1+np.exp(-x))"
   ]
  },
  {
   "cell_type": "markdown",
   "metadata": {},
   "source": [
    "# 1번"
   ]
  },
  {
   "cell_type": "code",
   "execution_count": 3,
   "metadata": {},
   "outputs": [
    {
     "data": {
      "text/plain": [
       "array([0.76133271, 0.60348325, 0.65021855])"
      ]
     },
     "execution_count": 3,
     "metadata": {},
     "output_type": "execute_result"
    }
   ],
   "source": [
    "input_x = np.array([0.9,0.1,0.8])\n",
    "input_w=np.array([[0.9,0.3,0.4],[0.2,0.8,0.2],[0.1,0.5,0.6]])\n",
    "hidden_w = np.dot(input_w,input_x)\n",
    "hidden_o = sigmoid(hidden_w)\n",
    "hidden_o"
   ]
  },
  {
   "cell_type": "code",
   "execution_count": 4,
   "metadata": {},
   "outputs": [
    {
     "data": {
      "text/plain": [
       "array([0.97594736, 0.88858496, 1.25461119])"
      ]
     },
     "execution_count": 4,
     "metadata": {},
     "output_type": "execute_result"
    }
   ],
   "source": [
    "hidden_w2 = np.array([[0.3,0.7,0.5],[0.6,0.5,0.2],[0.8,0.1,0.9]])\n",
    "output_x = np.dot(hidden_w2,hidden_o)\n",
    "output_x"
   ]
  },
  {
   "cell_type": "code",
   "execution_count": 5,
   "metadata": {},
   "outputs": [
    {
     "data": {
      "text/plain": [
       "array([0.72630335, 0.70859807, 0.77809706])"
      ]
     },
     "execution_count": 5,
     "metadata": {},
     "output_type": "execute_result"
    }
   ],
   "source": [
    "result = sigmoid(output_x)\n",
    "result"
   ]
  },
  {
   "cell_type": "markdown",
   "metadata": {},
   "source": [
    "# 2번"
   ]
  },
  {
   "cell_type": "code",
   "execution_count": 6,
   "metadata": {},
   "outputs": [
    {
     "data": {
      "text/plain": [
       "array([0.42, 0.88])"
      ]
     },
     "execution_count": 6,
     "metadata": {},
     "output_type": "execute_result"
    }
   ],
   "source": [
    "e_output = np.array([0.8,0.5])\n",
    "w_ho = np.array([[2/(2+3),3/(2+3)],[1/(1+4),4/(1+4)]])\n",
    "e_hidden = np.dot(w_ho.T,e_output)\n",
    "e_hidden"
   ]
  },
  {
   "cell_type": "code",
   "execution_count": 7,
   "metadata": {},
   "outputs": [
    {
     "data": {
      "text/plain": [
       "array([0.362, 0.938])"
      ]
     },
     "execution_count": 7,
     "metadata": {},
     "output_type": "execute_result"
    }
   ],
   "source": [
    "w_hi = np.array([[3/(2+3),2/(2+3)],[1/(1+7),7/(1+7)]])\n",
    "e_input = np.dot(w_hi.T,e_hidden)\n",
    "e_input"
   ]
  },
  {
   "cell_type": "markdown",
   "metadata": {},
   "source": [
    "# 3번"
   ]
  },
  {
   "cell_type": "code",
   "execution_count": 8,
   "metadata": {},
   "outputs": [],
   "source": [
    "result = np.array([0.4,0.5])\n",
    "e_output = np.array([0.8,0.5])\n",
    "w_output = np.array([[2.0,3.0],[1.0,4.0]])\n",
    "learning_rate = 0.1"
   ]
  },
  {
   "cell_type": "code",
   "execution_count": 9,
   "metadata": {},
   "outputs": [],
   "source": [
    "x=sigmoid(np.dot(w_output,result))\n",
    "x1 = x*(1-x)"
   ]
  },
  {
   "cell_type": "code",
   "execution_count": 10,
   "metadata": {},
   "outputs": [],
   "source": [
    "a= -learning_rate*np.dot(np.matrix(e_output*x1).T,np.matrix(result)) "
   ]
  },
  {
   "cell_type": "code",
   "execution_count": 11,
   "metadata": {},
   "outputs": [
    {
     "data": {
      "text/plain": [
       "matrix([[2.00265023, 3.00331278],\n",
       "        [1.0015251 , 4.00190637]])"
      ]
     },
     "execution_count": 11,
     "metadata": {},
     "output_type": "execute_result"
    }
   ],
   "source": [
    "w_output-a # 그대로 w_output-= ~~ 할 때 값이 끝가지 안나옴"
   ]
  },
  {
   "cell_type": "markdown",
   "metadata": {},
   "source": [
    "# 4번"
   ]
  },
  {
   "cell_type": "code",
   "execution_count": 15,
   "metadata": {},
   "outputs": [],
   "source": [
    "output = np.array([0.72630335, 0.70859807, 0.77809706]) # 1번의 output\n",
    "target = np.array([0.01,0.01,0.99])\n",
    "w_output = np.array([[0.3,0.7,0.5],[0.6,0.5,0.2],[0.8,0.1,0.9]])\n",
    "hidden_output=np.array([0.76133271, 0.60348325, 0.65021855])\n",
    "input_x = np.array([0.9,0.1,0.8])\n",
    "input_w=np.array([[0.9,0.3,0.4],[0.2,0.8,0.2],[0.1,0.5,0.6]])\n",
    "output_error = target - output\n",
    "learning_rate=0.1"
   ]
  },
  {
   "cell_type": "code",
   "execution_count": 16,
   "metadata": {},
   "outputs": [],
   "source": [
    "x=sigmoid(np.dot(w_output,hidden_output))\n",
    "x1=x*(1-x)"
   ]
  },
  {
   "cell_type": "code",
   "execution_count": 17,
   "metadata": {},
   "outputs": [],
   "source": [
    "w_output+=learning_rate*np.dot(np.matrix(output_error*x1).T,np.matrix(output))"
   ]
  },
  {
   "cell_type": "code",
   "execution_count": 18,
   "metadata": {},
   "outputs": [
    {
     "data": {
      "text/plain": [
       "array([[0.28965805, 0.68991016, 0.48892055],\n",
       "       [0.58952298, 0.48977838, 0.18877585],\n",
       "       [0.80265737, 0.10259259, 0.90284687]])"
      ]
     },
     "execution_count": 18,
     "metadata": {},
     "output_type": "execute_result"
    }
   ],
   "source": [
    "w_output"
   ]
  },
  {
   "cell_type": "code",
   "execution_count": 19,
   "metadata": {},
   "outputs": [],
   "source": [
    "w=w_output"
   ]
  },
  {
   "cell_type": "code",
   "execution_count": 20,
   "metadata": {},
   "outputs": [],
   "source": [
    "w_output = np.array([[w[0][0]/(w[0][0]+w[1][0]+w[2][0]),w[1][0]/(w[0][0]+w[1][0]+w[2][0]),w[2][0]/(w[0][0]+w[1][0]+w[2][0])],\n",
    "                   [w[0][1]/(w[0][1]+w[1][1]+w[2][1]),w[1][1]/(w[0][1]+w[1][1]+w[2][1]),w[2][1]/(w[0][1]+w[1][1]+w[2][1])],\n",
    "                   [w[0][2]/(w[0][2]+w[1][2]+w[2][2]),w[1][2]/(w[0][2]+w[1][2]+w[2][2]),w[2][2]/(w[0][2]+w[1][2]+w[2][2])]])\n",
    "# 가중치 설정"
   ]
  },
  {
   "cell_type": "code",
   "execution_count": 21,
   "metadata": {},
   "outputs": [],
   "source": [
    "hidden_errors = np.dot(w_output.T,output_error)"
   ]
  },
  {
   "cell_type": "code",
   "execution_count": 22,
   "metadata": {},
   "outputs": [],
   "source": [
    "x=sigmoid(np.dot(input_w,input_x))\n",
    "x1=x*(1-x)"
   ]
  },
  {
   "cell_type": "code",
   "execution_count": 23,
   "metadata": {},
   "outputs": [],
   "source": [
    "input_w+=learning_rate*np.dot(np.matrix(hidden_errors*x1).T,np.matrix(hidden_output))"
   ]
  },
  {
   "cell_type": "code",
   "execution_count": 24,
   "metadata": {},
   "outputs": [
    {
     "data": {
      "text/plain": [
       "array([[0.89400046, 0.29524436, 0.39487608],\n",
       "       [0.19102567, 0.79288635, 0.19233545],\n",
       "       [0.09520877, 0.49620215, 0.59590803]])"
      ]
     },
     "execution_count": 24,
     "metadata": {},
     "output_type": "execute_result"
    }
   ],
   "source": [
    "input_w"
   ]
  },
  {
   "cell_type": "markdown",
   "metadata": {},
   "source": [
    "# 201600779 김영민"
   ]
  }
 ],
 "metadata": {
  "kernelspec": {
   "display_name": "Python 3",
   "language": "python",
   "name": "python3"
  },
  "language_info": {
   "codemirror_mode": {
    "name": "ipython",
    "version": 3
   },
   "file_extension": ".py",
   "mimetype": "text/x-python",
   "name": "python",
   "nbconvert_exporter": "python",
   "pygments_lexer": "ipython3",
   "version": "3.8.8"
  }
 },
 "nbformat": 4,
 "nbformat_minor": 2
}
