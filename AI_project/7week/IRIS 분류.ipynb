{
 "cells": [
  {
   "cell_type": "code",
   "execution_count": 1,
   "id": "39cfc700",
   "metadata": {},
   "outputs": [],
   "source": [
    "import pandas as pd\n",
    "import numpy as np\n",
    "import matplotlib.pyplot as plt\n",
    "import seaborn as sns\n",
    "plt.style.use('ggplot')\n",
    "from tqdm import tqdm\n",
    "from sklearn.datasets import load_iris"
   ]
  },
  {
   "cell_type": "code",
   "execution_count": 5,
   "id": "929ade72",
   "metadata": {},
   "outputs": [],
   "source": [
    "iris = load_iris()\n",
    "input_data = iris.data\n",
    "target = iris.target"
   ]
  },
  {
   "cell_type": "code",
   "execution_count": 7,
   "id": "6928ae4f",
   "metadata": {},
   "outputs": [],
   "source": [
    "class neuralNetwork:\n",
    "    \n",
    "    #신경망 초기화하기\n",
    "    def __init__(self,inputnodes,hiddennodes,outputnodes,learningrate):\n",
    "        self.inodes=inputnodes\n",
    "        self.hnodes=hiddennodes\n",
    "        self.onodes=outputnodes\n",
    "        \n",
    "        '''\n",
    "        가중치 행렬 wih와 who\n",
    "        배열 내 가중치는 w_i_j로 표기, 노드 i에서 다음 계층의 노드 j로 연결됨을 의미\n",
    "        w11 w21\n",
    "        w12 w22 등'''\n",
    "        self.wih=np.random.normal(0.0,pow(self.hnodes,-0.5),(self.hnodes,self.inodes))   #정규분포로 더욱 정교한 가중치 설정\n",
    "        self.who=np.random.normal(0.0,pow(self.onodes,-0.5),(self.onodes,self.hnodes))\n",
    "        \n",
    "        #학습률\n",
    "        self.lr=learningrate\n",
    "        \n",
    "        #활성화 함수로 시그모이드 함수를 이용\n",
    "        def sigmoid(x):\n",
    "            return 1/(1+np.exp(-x))\n",
    "        \n",
    "        \n",
    "        \n",
    "        self.activation_function = lambda x: sigmoid(x)\n",
    "            \n",
    "        pass\n",
    "    #신경망 학습시키기\n",
    "    def train(self, inputs_list,targets_list):\n",
    "        #입력 리스트를 2차원의 행렬로 반환\n",
    "        inputs=np.array(inputs_list,ndmin=2).T\n",
    "        targets=np.array(targets_list,ndmin=2).T\n",
    "        \n",
    "        #은닉 계층으로 들어오는 신호를 계산\n",
    "        hidden_inputs=np.dot(self.wih,inputs)\n",
    "        #은닉 계층에서 나가는 신호를 계산\n",
    "        hidden_outputs=self.activation_function(hidden_inputs)\n",
    "        #최종 출력 계층으로 들어오는 신호를 계산\n",
    "        final_inputs=np.dot(self.who,hidden_outputs)\n",
    "        #최종 출력 계층에서 나가는 신호를 계산\n",
    "        final_outputs=self.activation_function(final_inputs)\n",
    "        \n",
    "        #출력 계층의 오차는(실제값-계산값)\n",
    "        output_errors = targets-final_outputs\n",
    "        #은닉 계층의 오차는 가중치에 의해 나뉜 출력 계층의 오차들을 재조합해서 계산\n",
    "        hidden_errors = np.dot(self.who.T,output_errors)\n",
    "        \n",
    "        #은닉 계층과 출력 계층 간의 가중치 업데이트\n",
    "        self.who+= self.lr*np.dot((output_errors*final_outputs*(1.0-final_outputs)),np.transpose(hidden_outputs))\n",
    "        \n",
    "        #입력 계층과 은닉 계층 간의 가중치 업데이트\n",
    "        self.wih+= self.lr*np.dot((hidden_errors*hidden_outputs*(1.0-hidden_outputs)),np.transpose(inputs))\n",
    "        \n",
    "        pass\n",
    "    \n",
    "    #신경망 질의하기\n",
    "    def query(self, input_list):\n",
    "        \n",
    "        #입력 리스트를 2차원 행렬로 변환\n",
    "        inputs=np.array(input_list, ndmin=2).T\n",
    "        \n",
    "        #은닉 계층에서 들어오는 신호를 계산\n",
    "        hidden_inputs=np.dot(self.wih,inputs)\n",
    "        #은닉 계층에서 나가는 신호를 계산\n",
    "        hidden_outputs=self.activation_function(hidden_inputs)\n",
    "        #최종 출력 계층으로 들어오는 신호를 계산\n",
    "        final_inputs=np.dot(self.who,hidden_outputs)\n",
    "        #최종 출력 계층에서 나가는 신호를 계산\n",
    "        final_outputs=self.activation_function(final_inputs)\n",
    "        \n",
    "        return final_outputs"
   ]
  },
  {
   "cell_type": "code",
   "execution_count": 8,
   "id": "80beff4b",
   "metadata": {},
   "outputs": [],
   "source": [
    "input_layer = 150\n",
    "hidden_layer = 50\n",
    "outuput_layer = 3\n",
    "lr = 0.01"
   ]
  },
  {
   "cell_type": "code",
   "execution_count": 10,
   "id": "f38de0c7",
   "metadata": {},
   "outputs": [],
   "source": [
    "n = neuralNetwork(input_layer,hidden_layer,outuput_layer,lr)"
   ]
  },
  {
   "cell_type": "code",
   "execution_count": null,
   "id": "9d02d95b",
   "metadata": {},
   "outputs": [],
   "source": []
  }
 ],
 "metadata": {
  "kernelspec": {
   "display_name": "Python 3",
   "language": "python",
   "name": "python3"
  },
  "language_info": {
   "codemirror_mode": {
    "name": "ipython",
    "version": 3
   },
   "file_extension": ".py",
   "mimetype": "text/x-python",
   "name": "python",
   "nbconvert_exporter": "python",
   "pygments_lexer": "ipython3",
   "version": "3.8.8"
  }
 },
 "nbformat": 4,
 "nbformat_minor": 5
}
