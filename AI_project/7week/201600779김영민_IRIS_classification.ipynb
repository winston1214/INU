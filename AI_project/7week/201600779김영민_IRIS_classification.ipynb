{
 "cells": [
  {
   "cell_type": "markdown",
   "id": "3b781c09",
   "metadata": {},
   "source": [
    "# 201600779 김영민"
   ]
  },
  {
   "cell_type": "code",
   "execution_count": 1,
   "id": "39cfc700",
   "metadata": {},
   "outputs": [],
   "source": [
    "import pandas as pd\n",
    "import numpy as np\n",
    "import matplotlib.pyplot as plt\n",
    "import seaborn as sns\n",
    "plt.style.use('ggplot')\n",
    "from tqdm import tqdm\n",
    "from sklearn.datasets import load_iris\n",
    "# import random\n",
    "import warnings\n",
    "warnings.filterwarnings('ignore')"
   ]
  },
  {
   "cell_type": "code",
   "execution_count": 2,
   "id": "929ade72",
   "metadata": {},
   "outputs": [],
   "source": [
    "iris = load_iris()\n",
    "input_data = iris.data\n",
    "target = iris.target\n",
    "df = pd.DataFrame(input_data,columns = iris.feature_names)\n",
    "df['Target'] = target"
   ]
  },
  {
   "cell_type": "code",
   "execution_count": 3,
   "id": "e9e28184",
   "metadata": {},
   "outputs": [],
   "source": [
    "np.random.seed(42)\n",
    "# random.seed(42)"
   ]
  },
  {
   "cell_type": "code",
   "execution_count": 4,
   "id": "6928ae4f",
   "metadata": {},
   "outputs": [],
   "source": [
    "\n",
    "class neuralNetwork:\n",
    "    \n",
    "    #신경망 초기화하기\n",
    "    def __init__(self,inputnodes,hiddennodes,outputnodes,learningrate):\n",
    "        self.inodes=inputnodes\n",
    "        self.hnodes=hiddennodes\n",
    "        self.onodes=outputnodes\n",
    "        \n",
    "        '''\n",
    "        가중치 행렬 wih와 who\n",
    "        배열 내 가중치는 w_i_j로 표기, 노드 i에서 다음 계층의 노드 j로 연결됨을 의미\n",
    "        w11 w21\n",
    "        w12 w22 등'''\n",
    "        self.wih=np.random.normal(0.0,pow(self.hnodes,-0.5),(self.hnodes,self.inodes))   #정규분포로 더욱 정교한 가중치 설정\n",
    "        self.who=np.random.normal(0.0,pow(self.onodes,-0.5),(self.onodes,self.hnodes))\n",
    "        \n",
    "        #학습률\n",
    "        self.lr=learningrate\n",
    "        \n",
    "        #활성화 함수로 시그모이드 함수를 이용\n",
    "        def sigmoid(x):\n",
    "            return 1/(1+np.exp(-x))\n",
    "        \n",
    "        \n",
    "        \n",
    "        self.activation_function = lambda x: sigmoid(x)\n",
    "            \n",
    "        pass\n",
    "    #신경망 학습시키기\n",
    "    def train(self, inputs_list,targets_list):\n",
    "        #입력 리스트를 2차원의 행렬로 반환\n",
    "        inputs=np.array(inputs_list,ndmin=2).T\n",
    "        targets=np.array(targets_list,ndmin=2).T\n",
    "        \n",
    "        #은닉 계층으로 들어오는 신호를 계산\n",
    "        hidden_inputs=np.dot(self.wih,inputs)\n",
    "        #은닉 계층에서 나가는 신호를 계산\n",
    "        hidden_outputs=self.activation_function(hidden_inputs)\n",
    "        #최종 출력 계층으로 들어오는 신호를 계산\n",
    "        final_inputs=np.dot(self.who,hidden_outputs)\n",
    "        #최종 출력 계층에서 나가는 신호를 계산\n",
    "        final_outputs=self.activation_function(final_inputs)\n",
    "        \n",
    "        #출력 계층의 오차는(실제값-계산값)\n",
    "        output_errors = targets-final_outputs\n",
    "        #은닉 계층의 오차는 가중치에 의해 나뉜 출력 계층의 오차들을 재조합해서 계산\n",
    "        hidden_errors = np.dot(self.who.T,output_errors)\n",
    "        \n",
    "        #은닉 계층과 출력 계층 간의 가중치 업데이트\n",
    "        self.who+= self.lr*np.dot((output_errors*final_outputs*(1.0-final_outputs)),np.transpose(hidden_outputs))\n",
    "        \n",
    "        #입력 계층과 은닉 계층 간의 가중치 업데이트\n",
    "        self.wih+= self.lr*np.dot((hidden_errors*hidden_outputs*(1.0-hidden_outputs)),np.transpose(inputs))\n",
    "        \n",
    "        pass\n",
    "    \n",
    "    #신경망 질의하기\n",
    "    def query(self, input_list):\n",
    "        \n",
    "        #입력 리스트를 2차원 행렬로 변환\n",
    "        inputs=np.array(input_list, ndmin=2).T\n",
    "        \n",
    "        #은닉 계층에서 들어오는 신호를 계산\n",
    "        hidden_inputs=np.dot(self.wih,inputs)\n",
    "        #은닉 계층에서 나가는 신호를 계산\n",
    "        hidden_outputs=self.activation_function(hidden_inputs)\n",
    "        #최종 출력 계층으로 들어오는 신호를 계산\n",
    "        final_inputs=np.dot(self.who,hidden_outputs)\n",
    "        #최종 출력 계층에서 나가는 신호를 계산\n",
    "        final_outputs=self.activation_function(final_inputs)\n",
    "        \n",
    "        return final_outputs"
   ]
  },
  {
   "cell_type": "markdown",
   "id": "b1d63e09",
   "metadata": {},
   "source": [
    "### 자동 추출"
   ]
  },
  {
   "cell_type": "code",
   "execution_count": 5,
   "id": "f0c9f6cd",
   "metadata": {},
   "outputs": [],
   "source": [
    "from sklearn.model_selection import train_test_split\n",
    "train,test = train_test_split(df,test_size = .2,random_state = 42)"
   ]
  },
  {
   "cell_type": "code",
   "execution_count": 6,
   "id": "a4a28b9b",
   "metadata": {},
   "outputs": [],
   "source": [
    "train_x = train.drop('Target',axis=1).values\n",
    "train_y = train.Target.values\n",
    "test_x = test.drop('Target',axis = 1).values\n",
    "test_y = test.Target.values"
   ]
  },
  {
   "cell_type": "code",
   "execution_count": 7,
   "id": "80beff4b",
   "metadata": {},
   "outputs": [],
   "source": [
    "input_layer = 4\n",
    "hidden_layer = 10\n",
    "outuput_layer = 3\n",
    "lr = 0.1"
   ]
  },
  {
   "cell_type": "code",
   "execution_count": 8,
   "id": "0e34bad0",
   "metadata": {},
   "outputs": [
    {
     "name": "stderr",
     "output_type": "stream",
     "text": [
      "100%|███████████████████████████████████████████████████████████████████████████████| 300/300 [00:00<00:00, 336.09it/s]"
     ]
    },
    {
     "name": "stdout",
     "output_type": "stream",
     "text": [
      "Performance : 0.63\n"
     ]
    },
    {
     "name": "stderr",
     "output_type": "stream",
     "text": [
      "\n"
     ]
    }
   ],
   "source": [
    "n = neuralNetwork(input_layer,hidden_layer,outuput_layer,lr)\n",
    "epochs = 300\n",
    "for e in tqdm(range(epochs)):\n",
    "    for i in range(len(train_x)):\n",
    "        inp = train_x[i]\n",
    "        tar = train_y[i]\n",
    "        n.train(inp,tar)\n",
    "scorecard = []\n",
    "for i in range(len(test_x)):\n",
    "    q = test_x[i]\n",
    "    a = test_y[i]\n",
    "    outputs = n.query(q)\n",
    "    label=np.argmax(outputs)\n",
    "    if label == a:\n",
    "        scorecard.append(1)\n",
    "    else:\n",
    "        scorecard.append(0)\n",
    "score = np.sum(scorecard)/len(scorecard)\n",
    "print('Performance : %.2f'%score)"
   ]
  },
  {
   "cell_type": "markdown",
   "id": "349489aa",
   "metadata": {},
   "source": [
    "### 수동 추출"
   ]
  },
  {
   "cell_type": "code",
   "execution_count": 9,
   "id": "495aca7c",
   "metadata": {},
   "outputs": [],
   "source": [
    "zero = df[df['Target'] == 0][:40]\n",
    "one = df[df['Target'] == 1][:40]\n",
    "two = df[df['Target'] == 2][:40]\n",
    "\n",
    "train_df = []\n",
    "train_df.append(zero)\n",
    "train_df.append(one)\n",
    "train_df.append(two)\n",
    "train = pd.concat(train_df)"
   ]
  },
  {
   "cell_type": "code",
   "execution_count": 10,
   "id": "10643389",
   "metadata": {},
   "outputs": [],
   "source": [
    "zero = df[df['Target'] == 0][40:]\n",
    "one = df[df['Target'] == 1][40:]\n",
    "two = df[df['Target'] == 2][40:]\n",
    "\n",
    "test_df = []\n",
    "test_df.append(zero)\n",
    "test_df.append(one)\n",
    "test_df.append(two)\n",
    "test = pd.concat(test_df)"
   ]
  },
  {
   "cell_type": "code",
   "execution_count": 11,
   "id": "9e8f2311",
   "metadata": {},
   "outputs": [],
   "source": [
    "train_x = train.drop('Target',axis=1).values\n",
    "train_y = train.Target.values\n",
    "test_x = test.drop('Target',axis=1).values\n",
    "test_y = test.Target.values"
   ]
  },
  {
   "cell_type": "code",
   "execution_count": 12,
   "id": "9d02d95b",
   "metadata": {},
   "outputs": [
    {
     "name": "stderr",
     "output_type": "stream",
     "text": [
      "100%|███████████████████████████████████████████████████████████████████████████████| 300/300 [00:00<00:00, 321.84it/s]"
     ]
    },
    {
     "name": "stdout",
     "output_type": "stream",
     "text": [
      "Performance : 0.60\n"
     ]
    },
    {
     "name": "stderr",
     "output_type": "stream",
     "text": [
      "\n"
     ]
    }
   ],
   "source": [
    "n = neuralNetwork(input_layer,hidden_layer,outuput_layer,lr)\n",
    "epochs = 300\n",
    "for e in tqdm(range(epochs)):\n",
    "    for i in range(len(train_x)):\n",
    "        inp = train_x[i]\n",
    "        tar = train_y[i]\n",
    "        n.train(inp,tar)\n",
    "scorecard = []\n",
    "for i in range(len(test_x)):\n",
    "    q = test_x[i]\n",
    "    a = test_y[i]\n",
    "    outputs = n.query(q)\n",
    "    label=np.argmax(outputs)\n",
    "    if label == a:\n",
    "        scorecard.append(1)\n",
    "    else:\n",
    "        scorecard.append(0)\n",
    "score = np.sum(scorecard)/len(scorecard)\n",
    "print('Performance : %.2f'%score)"
   ]
  },
  {
   "cell_type": "code",
   "execution_count": 13,
   "id": "f38de0c7",
   "metadata": {},
   "outputs": [],
   "source": [
    "from sklearn.ensemble import RandomForestClassifier\n",
    "from xgboost import XGBClassifier\n",
    "from sklearn.metrics import accuracy_score"
   ]
  },
  {
   "cell_type": "code",
   "execution_count": 14,
   "id": "71a3e47e",
   "metadata": {},
   "outputs": [
    {
     "name": "stdout",
     "output_type": "stream",
     "text": [
      "[19:10:53] WARNING: C:/Users/Administrator/workspace/xgboost-win64_release_1.5.0/src/learner.cc:1115: Starting in XGBoost 1.3.0, the default evaluation metric used with the objective 'multi:softprob' was changed from 'merror' to 'mlogloss'. Explicitly set eval_metric if you'd like to restore the old behavior.\n",
      "================================================================================================================================\n",
      "RF score 1.00\n",
      "XGB score 1.00\n"
     ]
    }
   ],
   "source": [
    "rf = RandomForestClassifier(random_state = 42)\n",
    "xgb = XGBClassifier(random_state=42)\n",
    "rf.fit(train_x,train_y)\n",
    "rf_pred = rf.predict(test_x)\n",
    "rf_acc = accuracy_score(rf_pred,test_y)\n",
    "xgb.fit(train_x,train_y)\n",
    "xgb_pred = xgb.predict(test_x)\n",
    "xgb_acc = accuracy_score(xgb_pred,test_y)\n",
    "print('================'*8)\n",
    "print('RF score %.2f'%rf_acc)\n",
    "print('XGB score %.2f'%xgb_acc)"
   ]
  },
  {
   "cell_type": "markdown",
   "id": "376e4cda",
   "metadata": {},
   "source": [
    "# 201600779 김영민"
   ]
  }
 ],
 "metadata": {
  "kernelspec": {
   "display_name": "Python 3",
   "language": "python",
   "name": "python3"
  },
  "language_info": {
   "codemirror_mode": {
    "name": "ipython",
    "version": 3
   },
   "file_extension": ".py",
   "mimetype": "text/x-python",
   "name": "python",
   "nbconvert_exporter": "python",
   "pygments_lexer": "ipython3",
   "version": "3.8.8"
  }
 },
 "nbformat": 4,
 "nbformat_minor": 5
}
