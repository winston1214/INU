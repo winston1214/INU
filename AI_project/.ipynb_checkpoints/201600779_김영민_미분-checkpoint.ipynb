{
 "cells": [
  {
   "cell_type": "markdown",
   "id": "df7c4dc1",
   "metadata": {},
   "source": [
    "# 201600779 김영민"
   ]
  },
  {
   "cell_type": "code",
   "execution_count": 2,
   "id": "5c696ab6",
   "metadata": {},
   "outputs": [
    {
     "data": {
      "text/plain": [
       "array([ 260, 1680])"
      ]
     },
     "execution_count": 2,
     "metadata": {},
     "output_type": "execute_result"
    }
   ],
   "source": [
    "import numpy as np\n",
    "x = np.array([2,3])\n",
    "y = x**3+x\n",
    "f = 2*y\n",
    "dfdy = 2*y\n",
    "dydx = 3*x**2 +1\n",
    "dfdx = dfdy*dydx\n",
    "dfdx"
   ]
  },
  {
   "cell_type": "markdown",
   "id": "e91cefee",
   "metadata": {},
   "source": [
    "# 201600779 김영민"
   ]
  }
 ],
 "metadata": {
  "kernelspec": {
   "display_name": "Python 3",
   "language": "python",
   "name": "python3"
  },
  "language_info": {
   "codemirror_mode": {
    "name": "ipython",
    "version": 3
   },
   "file_extension": ".py",
   "mimetype": "text/x-python",
   "name": "python",
   "nbconvert_exporter": "python",
   "pygments_lexer": "ipython3",
   "version": "3.8.8"
  }
 },
 "nbformat": 4,
 "nbformat_minor": 5
}
