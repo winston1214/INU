{
 "cells": [
  {
   "cell_type": "markdown",
   "id": "c5f0a49f",
   "metadata": {},
   "source": [
    "# 201600779 김영민"
   ]
  },
  {
   "cell_type": "markdown",
   "id": "74cbb844",
   "metadata": {},
   "source": [
    "## Lab1.1"
   ]
  },
  {
   "cell_type": "code",
   "execution_count": 1,
   "id": "0f4e3f42",
   "metadata": {},
   "outputs": [],
   "source": [
    "import pandas as pd"
   ]
  },
  {
   "cell_type": "code",
   "execution_count": 2,
   "id": "3f964280",
   "metadata": {},
   "outputs": [
    {
     "name": "stdout",
     "output_type": "stream",
     "text": [
      "0:apple\n",
      "1:orange\n",
      "2:banana\n",
      "3:jo\n",
      "4:kim\n",
      "5:lee\n",
      "6:a\n",
      "7:b\n",
      "8:c\n"
     ]
    },
    {
     "data": {
      "text/html": [
       "<div>\n",
       "<style scoped>\n",
       "    .dataframe tbody tr th:only-of-type {\n",
       "        vertical-align: middle;\n",
       "    }\n",
       "\n",
       "    .dataframe tbody tr th {\n",
       "        vertical-align: top;\n",
       "    }\n",
       "\n",
       "    .dataframe thead th {\n",
       "        text-align: right;\n",
       "    }\n",
       "</style>\n",
       "<table border=\"1\" class=\"dataframe\">\n",
       "  <thead>\n",
       "    <tr style=\"text-align: right;\">\n",
       "      <th></th>\n",
       "      <th>values</th>\n",
       "    </tr>\n",
       "  </thead>\n",
       "  <tbody>\n",
       "    <tr>\n",
       "      <th>0</th>\n",
       "      <td>apple</td>\n",
       "    </tr>\n",
       "    <tr>\n",
       "      <th>1</th>\n",
       "      <td>orange</td>\n",
       "    </tr>\n",
       "    <tr>\n",
       "      <th>2</th>\n",
       "      <td>banana</td>\n",
       "    </tr>\n",
       "    <tr>\n",
       "      <th>3</th>\n",
       "      <td>jo</td>\n",
       "    </tr>\n",
       "    <tr>\n",
       "      <th>4</th>\n",
       "      <td>kim</td>\n",
       "    </tr>\n",
       "    <tr>\n",
       "      <th>5</th>\n",
       "      <td>lee</td>\n",
       "    </tr>\n",
       "    <tr>\n",
       "      <th>6</th>\n",
       "      <td>a</td>\n",
       "    </tr>\n",
       "    <tr>\n",
       "      <th>7</th>\n",
       "      <td>b</td>\n",
       "    </tr>\n",
       "    <tr>\n",
       "      <th>8</th>\n",
       "      <td>c</td>\n",
       "    </tr>\n",
       "  </tbody>\n",
       "</table>\n",
       "</div>"
      ],
      "text/plain": [
       "   values\n",
       "0   apple\n",
       "1  orange\n",
       "2  banana\n",
       "3      jo\n",
       "4     kim\n",
       "5     lee\n",
       "6       a\n",
       "7       b\n",
       "8       c"
      ]
     },
     "execution_count": 2,
     "metadata": {},
     "output_type": "execute_result"
    }
   ],
   "source": [
    "fruit = ['apple','orange','banana']\n",
    "name = ['jo','kim','lee']\n",
    "alpha = ['a','b','c']\n",
    "final_ls = fruit + name + alpha\n",
    "for i,j in enumerate(final_ls):\n",
    "    print(f'{i}:{j}')\n",
    "df = pd.DataFrame()\n",
    "df['values'] = final_ls\n",
    "df.to_csv('lab1_1.csv',index=False)\n",
    "pd.read_csv('l')"
   ]
  },
  {
   "cell_type": "markdown",
   "id": "1c5ec16d",
   "metadata": {},
   "source": [
    "## Lab1.2"
   ]
  },
  {
   "cell_type": "code",
   "execution_count": 3,
   "id": "34ef5b21",
   "metadata": {},
   "outputs": [
    {
     "name": "stdout",
     "output_type": "stream",
     "text": [
      "{'a': 1, 'b': 2, 'c': 3}\n"
     ]
    }
   ],
   "source": [
    "ls1 = ['a','b','c']\n",
    "ls2 = [1,2,3]\n",
    "dic = {}\n",
    "for k,v in zip(ls1,ls2):\n",
    "    if k not in dic.keys():\n",
    "        dic[k] = v\n",
    "    else:\n",
    "        print('In already')\n",
    "print(dic)"
   ]
  },
  {
   "cell_type": "markdown",
   "id": "5a2e3786",
   "metadata": {},
   "source": [
    "# 201600779 김영민"
   ]
  }
 ],
 "metadata": {
  "kernelspec": {
   "display_name": "Python 3",
   "language": "python",
   "name": "python3"
  },
  "language_info": {
   "codemirror_mode": {
    "name": "ipython",
    "version": 3
   },
   "file_extension": ".py",
   "mimetype": "text/x-python",
   "name": "python",
   "nbconvert_exporter": "python",
   "pygments_lexer": "ipython3",
   "version": "3.8.8"
  }
 },
 "nbformat": 4,
 "nbformat_minor": 5
}
