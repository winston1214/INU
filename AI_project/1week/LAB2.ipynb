{
 "cells": [
  {
   "cell_type": "code",
   "execution_count": 1,
   "id": "2c593ee0",
   "metadata": {},
   "outputs": [],
   "source": [
    "import numpy as np"
   ]
  },
  {
   "cell_type": "code",
   "execution_count": 13,
   "id": "2d74cbec",
   "metadata": {},
   "outputs": [],
   "source": [
    "def devirate(f,a):\n",
    "    h = 1e-9\n",
    "    return (f(a+h) - f(a)) / h"
   ]
  },
  {
   "cell_type": "code",
   "execution_count": 14,
   "id": "0f88806f",
   "metadata": {},
   "outputs": [],
   "source": [
    "def f1(x):\n",
    "    return x**2\n",
    "# def f2(x):\n",
    "    "
   ]
  }
 ],
 "metadata": {
  "kernelspec": {
   "display_name": "Python 3",
   "language": "python",
   "name": "python3"
  },
  "language_info": {
   "codemirror_mode": {
    "name": "ipython",
    "version": 3
   },
   "file_extension": ".py",
   "mimetype": "text/x-python",
   "name": "python",
   "nbconvert_exporter": "python",
   "pygments_lexer": "ipython3",
   "version": "3.8.8"
  }
 },
 "nbformat": 4,
 "nbformat_minor": 5
}
