{
 "cells": [
  {
   "cell_type": "code",
   "execution_count": 1,
   "id": "612862d1",
   "metadata": {},
   "outputs": [],
   "source": [
    "import pandas as pd\n",
    "import torch\n",
    "import numpy as np\n",
    "import matplotlib.pyplot as plt\n",
    "import seaborn as sns\n",
    "import warnings\n",
    "warnings.filterwarnings('ignore')"
   ]
  },
  {
   "cell_type": "code",
   "execution_count": 2,
   "id": "256dec4d",
   "metadata": {},
   "outputs": [],
   "source": [
    "data = pd.read_csv('armybody.csv',encoding='cp949')"
   ]
  },
  {
   "cell_type": "code",
   "execution_count": 4,
   "id": "3d55b286",
   "metadata": {},
   "outputs": [],
   "source": [
    "data = data.iloc[:10000]"
   ]
  },
  {
   "cell_type": "code",
   "execution_count": 5,
   "id": "1ef9b291",
   "metadata": {},
   "outputs": [
    {
     "data": {
      "text/plain": [
       "(10000, 10)"
      ]
     },
     "execution_count": 5,
     "metadata": {},
     "output_type": "execute_result"
    }
   ],
   "source": [
    "data.shape"
   ]
  },
  {
   "cell_type": "code",
   "execution_count": null,
   "id": "487c609e",
   "metadata": {},
   "outputs": [],
   "source": [
    "sns.scatterplot(data['신장 센티미터'],data['몸무게 킬로그램'])"
   ]
  },
  {
   "cell_type": "code",
   "execution_count": null,
   "id": "da180677",
   "metadata": {},
   "outputs": [],
   "source": [
    "x=[2,4,6,8]\n",
    "y=[81,93,91,97]\n",
    "\n",
    "mean_x = np.mean(x)\n",
    "mean_y = np.mean(y)\n",
    "print(\"x의 평균값:\",mean_x)\n",
    "print(\"y의 평균값:\",mean_y)\n",
    "\n",
    "divisor = sum([(mean_x - i)**2 for i in x])\n",
    "\n",
    "def top(x,mean_x, y, mean_y):\n",
    "  d = 0\n",
    "  for i in range (len(x)):\n",
    "    d += (x[i] - mean_x) * (y[i] - mean_y)\n",
    "  return d\n",
    "dividend = top (x,mean_x, y, mean_y)\n",
    "\n",
    "print(\"분모: \", divisor)\n",
    "print(\"분자: \", dividend)\n",
    "\n",
    "a = dividend / divisor\n",
    "b = mean_y - (mean_x*a)\n",
    "\n",
    "print(\"기울기 a = \", a)\n",
    "print(\"y 절편b = \", b)\n",
    "\n",
    "plt.scatter(x,y)\n",
    "\n",
    "xx = np.arange(0,10)\n",
    "yy = a*xx + b\n",
    "plt.plot(xx,yy,color='r',marker='o',linestyle='solid')"
   ]
  }
 ],
 "metadata": {
  "kernelspec": {
   "display_name": "Python 3",
   "language": "python",
   "name": "python3"
  },
  "language_info": {
   "codemirror_mode": {
    "name": "ipython",
    "version": 3
   },
   "file_extension": ".py",
   "mimetype": "text/x-python",
   "name": "python",
   "nbconvert_exporter": "python",
   "pygments_lexer": "ipython3",
   "version": "3.8.8"
  }
 },
 "nbformat": 4,
 "nbformat_minor": 5
}
