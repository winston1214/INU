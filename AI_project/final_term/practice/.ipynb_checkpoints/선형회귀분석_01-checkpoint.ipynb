{
 "cells": [
  {
   "cell_type": "code",
   "execution_count": 4,
   "metadata": {
    "executionInfo": {
     "elapsed": 311,
     "status": "ok",
     "timestamp": 1638261163646,
     "user": {
      "displayName": "강다영",
      "photoUrl": "https://lh3.googleusercontent.com/a-/AOh14GjBsO69h_bpJa_gf_THml0v31qvmIrlMAA3u_f3fQ=s64",
      "userId": "00619940896506672408"
     },
     "user_tz": -540
    },
    "id": "K1wU6cPM9ldW"
   },
   "outputs": [],
   "source": [
    "from IPython.core.interactiveshell import InteractiveShell\n",
    "InteractiveShell.ast_node_interactivity=\"all\""
   ]
  },
  {
   "cell_type": "code",
   "execution_count": 16,
   "metadata": {
    "executionInfo": {
     "elapsed": 309,
     "status": "ok",
     "timestamp": 1638262677585,
     "user": {
      "displayName": "강다영",
      "photoUrl": "https://lh3.googleusercontent.com/a-/AOh14GjBsO69h_bpJa_gf_THml0v31qvmIrlMAA3u_f3fQ=s64",
      "userId": "00619940896506672408"
     },
     "user_tz": -540
    },
    "id": "Mvmo4MWE-TS2"
   },
   "outputs": [],
   "source": [
    "import numpy as np\n",
    "import matplotlib.pyplot as plt"
   ]
  },
  {
   "cell_type": "code",
   "execution_count": 18,
   "metadata": {
    "colab": {
     "base_uri": "https://localhost:8080/",
     "height": 394
    },
    "executionInfo": {
     "elapsed": 354,
     "status": "ok",
     "timestamp": 1638263284661,
     "user": {
      "displayName": "강다영",
      "photoUrl": "https://lh3.googleusercontent.com/a-/AOh14GjBsO69h_bpJa_gf_THml0v31qvmIrlMAA3u_f3fQ=s64",
      "userId": "00619940896506672408"
     },
     "user_tz": -540
    },
    "id": "xgxmWye7-eQ-",
    "outputId": "2fb171ca-826d-44e6-ef87-b05cd19fd2c5"
   },
   "outputs": [
    {
     "name": "stdout",
     "output_type": "stream",
     "text": [
      "x의 평균값: 5.0\n",
      "y의 평균값: 90.5\n",
      "분모:  20.0\n",
      "분자:  46.0\n",
      "기울기 a =  2.3\n",
      "y 절편b =  79.0\n"
     ]
    },
    {
     "data": {
      "text/plain": [
       "<matplotlib.collections.PathCollection at 0x7f6dc1b0b390>"
      ]
     },
     "execution_count": 18,
     "metadata": {},
     "output_type": "execute_result"
    },
    {
     "data": {
      "text/plain": [
       "[<matplotlib.lines.Line2D at 0x7f6dc1a7f490>]"
      ]
     },
     "execution_count": 18,
     "metadata": {},
     "output_type": "execute_result"
    },
    {
     "data": {
      "image/png": "[encoded data removed]",
      "text/plain": [
       "<Figure size 432x288 with 1 Axes>"
      ]
     },
     "metadata": {
      "needs_background": "light"
     },
     "output_type": "display_data"
    }
   ],
   "source": [
    "x=[2,4,6,8]\n",
    "y=[81,93,91,97]\n",
    "\n",
    "mean_x = np.mean(x)\n",
    "mean_y = np.mean(y)\n",
    "print(\"x의 평균값:\",mean_x)\n",
    "print(\"y의 평균값:\",mean_y)\n",
    "\n",
    "divisor = sum([(mean_x - i)**2 for i in x])\n",
    "\n",
    "def top(x,mean_x, y, mean_y):\n",
    "  d = 0\n",
    "  for i in range (len(x)):\n",
    "    d += (x[i] - mean_x) * (y[i] - mean_y)\n",
    "  return d\n",
    "dividend = top (x,mean_x, y, mean_y)\n",
    "\n",
    "print(\"분모: \", divisor)\n",
    "print(\"분자: \", dividend)\n",
    "\n",
    "a = dividend / divisor\n",
    "b = mean_y - (mean_x*a)\n",
    "\n",
    "print(\"기울기 a = \", a)\n",
    "print(\"y 절편b = \", b)\n",
    "\n",
    "plt.scatter(x,y)\n",
    "\n",
    "xx = np.arange(0,10)\n",
    "yy = a*xx + b\n",
    "plt.plot(xx,yy,color='r',marker='o',linestyle='solid')"
   ]
  }
 ],
 "metadata": {
  "colab": {
   "authorship_tag": "ABX9TyOGt+aop44zZGsLhn5S0UNB",
   "name": "선형회귀분석_01.ipynb",
   "provenance": []
  },
  "kernelspec": {
   "display_name": "Python 3",
   "language": "python",
   "name": "python3"
  },
  "language_info": {
   "codemirror_mode": {
    "name": "ipython",
    "version": 3
   },
   "file_extension": ".py",
   "mimetype": "text/x-python",
   "name": "python",
   "nbconvert_exporter": "python",
   "pygments_lexer": "ipython3",
   "version": "3.8.8"
  }
 },
 "nbformat": 4,
 "nbformat_minor": 1
}
