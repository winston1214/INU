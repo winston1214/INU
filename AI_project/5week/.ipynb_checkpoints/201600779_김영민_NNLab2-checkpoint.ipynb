{
 "cells": [
  {
   "cell_type": "markdown",
   "metadata": {},
   "source": [
    "# 201600779 김영민"
   ]
  },
  {
   "cell_type": "code",
   "execution_count": 1,
   "metadata": {},
   "outputs": [],
   "source": [
    "import pandas as pd\n",
    "import numpy as np\n",
    "import matplotlib.pyplot as plt\n",
    "import seaborn as sns\n",
    "plt.style.use('ggplot')"
   ]
  },
  {
   "cell_type": "code",
   "execution_count": 2,
   "metadata": {},
   "outputs": [],
   "source": [
    "np.random.seed(42)"
   ]
  },
  {
   "cell_type": "markdown",
   "metadata": {},
   "source": [
    "# 신경망 클래스의 정의(은닉계층 하나)"
   ]
  },
  {
   "cell_type": "code",
   "execution_count": 2,
   "metadata": {},
   "outputs": [],
   "source": [
    "\n",
    "class neuralNetwork:\n",
    "    \n",
    "    #신경망 초기화하기\n",
    "    def __init__(self,inputnodes,hiddennodes,outputnodes,learningrate):\n",
    "        self.inodes=inputnodes\n",
    "        self.hnodes=hiddennodes\n",
    "        self.onodes=outputnodes\n",
    "        \n",
    "        '''\n",
    "        가중치 행렬 wih와 who\n",
    "        배열 내 가중치는 w_i_j로 표기, 노드 i에서 다음 계층의 노드 j로 연결됨을 의미\n",
    "        w11 w21\n",
    "        w12 w22 등'''\n",
    "        self.wih=np.random.normal(0.0,pow(self.hnodes,-0.5),(self.hnodes,self.inodes))   #정규분포로 더욱 정교한 가중치 설정\n",
    "        self.who=np.random.normal(0.0,pow(self.onodes,-0.5),(self.onodes,self.hnodes))\n",
    "        \n",
    "        #학습률\n",
    "        self.lr=learningrate\n",
    "        \n",
    "        #활성화 함수로 시그모이드 함수를 이용\n",
    "        def sigmoid(x):\n",
    "            return 1/(1+np.exp(-x))\n",
    "        \n",
    "        \n",
    "        \n",
    "        self.activation_function = lambda x: sigmoid(x)\n",
    "            \n",
    "        pass\n",
    "    #신경망 학습시키기\n",
    "    def train(self, inputs_list,targets_list):\n",
    "        #입력 리스트를 2차원의 행렬로 반환\n",
    "        inputs=np.array(inputs_list,ndmin=2).T\n",
    "        targets=np.array(targets_list,ndmin=2).T\n",
    "        \n",
    "        #은닉 계층으로 들어오는 신호를 계산\n",
    "        hidden_inputs=np.dot(self.wih,inputs)\n",
    "        #은닉 계층에서 나가는 신호를 계산\n",
    "        hidden_outputs=self.activation_function(hidden_inputs)\n",
    "        #최종 출력 계층으로 들어오는 신호를 계산\n",
    "        final_inputs=np.dot(self.who,hidden_outputs)\n",
    "        #최종 출력 계층에서 나가는 신호를 계산\n",
    "        final_outputs=self.activation_function(final_inputs)\n",
    "        \n",
    "        #출력 계층의 오차는(실제값-계산값)\n",
    "        output_errors = targets-final_outputs\n",
    "        #은닉 계층의 오차는 가중치에 의해 나뉜 출력 계층의 오차들을 재조합해서 계산\n",
    "        hidden_errors = np.dot(self.who.T,output_errors)\n",
    "        \n",
    "        #은닉 계층과 출력 계층 간의 가중치 업데이트\n",
    "        self.who+= self.lr*np.dot((output_errors*final_outputs*(1.0-final_outputs)),np.transpose(hidden_outputs))\n",
    "        \n",
    "        #입력 계층과 은닉 계층 간의 가중치 업데이트\n",
    "        self.wih+= self.lr*np.dot((hidden_errors*hidden_outputs*(1.0-hidden_outputs)),np.transpose(inputs))\n",
    "        \n",
    "        pass\n",
    "    \n",
    "    #신경망 질의하기\n",
    "    def query(self, input_list):\n",
    "        \n",
    "        #입력 리스트를 2차원 행렬로 변환\n",
    "        inputs=np.array(input_list, ndmin=2).T\n",
    "        \n",
    "        #은닉 계층에서 들어오는 신호를 계산\n",
    "        hidden_inputs=np.dot(self.wih,inputs)\n",
    "        #은닉 계층에서 나가는 신호를 계산\n",
    "        hidden_outputs=self.activation_function(hidden_inputs)\n",
    "        #최종 출력 계층으로 들어오는 신호를 계산\n",
    "        final_inputs=np.dot(self.who,hidden_outputs)\n",
    "        #최종 출력 계층에서 나가는 신호를 계산\n",
    "        final_outputs=self.activation_function(final_inputs)\n",
    "        \n",
    "        return final_outputs"
   ]
  },
  {
   "cell_type": "markdown",
   "metadata": {},
   "source": [
    "# 신경망 클래스의 정의(은닉계층2개)"
   ]
  },
  {
   "cell_type": "code",
   "execution_count": 3,
   "metadata": {},
   "outputs": [],
   "source": [
    "\n",
    "class neuralNetwork2:\n",
    "    \n",
    "    #신경망 초기화하기\n",
    "    def __init__(self,inputnodes,hiddennodes,hiddennodes2,outputnodes,learningrate):\n",
    "        self.inodes=inputnodes\n",
    "        self.hnodes=hiddennodes\n",
    "        self.hnodes2=hiddennodes2\n",
    "        self.onodes=outputnodes\n",
    "        \n",
    "        '''\n",
    "        가중치 행렬 wih와 who\n",
    "        배열 내 가중치는 w_i_j로 표기, 노드 i에서 다음 계층의 노드 j로 연결됨을 의미\n",
    "        w11 w21\n",
    "        w12 w22 등'''\n",
    "        self.wih=np.random.normal(0.0,pow(self.hnodes,-0.5),(self.hnodes,self.inodes))   #정규분포로 더욱 정교한 가중치 설정\n",
    "        self.who=np.random.normal(0.0,pow(self.hnodes2,-0.5),(self.hnodes2,self.hnodes))\n",
    "        self.who2=np.random.normal(0.0,pow(self.onodes,-0.5),(self.onodes,self.hnodes2))\n",
    "        \n",
    "        #학습률\n",
    "        self.lr=learningrate\n",
    "        \n",
    "        #활성화 함수로 시그모이드 함수를 이용\n",
    "        def sigmoid(x):\n",
    "            return 1/(1+np.exp(-x))\n",
    "        \n",
    "        \n",
    "        \n",
    "        self.activation_function = lambda x: sigmoid(x)\n",
    "            \n",
    "        pass\n",
    "    #신경망 학습시키기\n",
    "    def train(self, inputs_list,targets_list):\n",
    "        #입력 리스트를 2차원의 행렬로 반환\n",
    "        inputs=np.array(inputs_list,ndmin=2).T\n",
    "        targets=np.array(targets_list,ndmin=2).T\n",
    "        \n",
    "        #은닉 계층으로 들어오는 신호를 계산\n",
    "        hidden_inputs=np.dot(self.wih,inputs)\n",
    "        #은닉 계층에서 나가는 신호를 계산\n",
    "        hidden_outputs=self.activation_function(hidden_inputs)\n",
    "        \n",
    "        # 은닉 계층2로 받는 신호 계산\n",
    "        hidden_inputs2 = np.dot(self.who,hidden_outputs)\n",
    "        #은닉 계층2에서 나가는 신호 계산\n",
    "        hidden_outputs2 = self.activation_function(hidden_inputs2)\n",
    "        \n",
    "        #최종 출력 계층으로 들어오는 신호를 계산\n",
    "        final_inputs=np.dot(self.who2,hidden_outputs2)\n",
    "        #최종 출력 계층에서 나가는 신호를 계산\n",
    "        final_outputs=self.activation_function(final_inputs)\n",
    "        \n",
    "        #출력 계층의 오차는(실제값-계산값)\n",
    "        output_errors = targets-final_outputs\n",
    "        #은닉 계층의 오차는 가중치에 의해 나뉜 출력 계층의 오차들을 재조합해서 계산\n",
    "        hidden_errors2 = np.dot(self.who2.T,output_errors)\n",
    "        hidden_errors = np.dot(self.who.T,hidden_errors2)\n",
    "        \n",
    "        \n",
    "        #은닉 계층과 출력 계층 간의 가중치 업데이트\n",
    "        self.who2+= self.lr*np.dot((output_errors*final_outputs*(1.0-final_outputs)),np.transpose(hidden_outputs2))\n",
    "        \n",
    "        #은닉 계층2와 은닉 계층 간의  가중치 업데이트\n",
    "        self.who += self.lr*np.dot((hidden_errors2*hidden_outputs2*(1.0-hidden_outputs2)),np.transpose(hidden_outputs))\n",
    "        \n",
    "        #입력 계층과 은닉 계층 간의 가중치 업데이트\n",
    "        self.wih+= self.lr*np.dot((hidden_errors*hidden_outputs*(1.0-hidden_outputs)),np.transpose(inputs))\n",
    "        \n",
    "        pass\n",
    "    \n",
    "    #신경망 질의하기\n",
    "    def query(self, input_list):\n",
    "        \n",
    "        #입력 리스트를 2차원 행렬로 변환\n",
    "        inputs=np.array(input_list, ndmin=2).T\n",
    "        \n",
    "        #은닉 계층에서 들어오는 신호를 계산\n",
    "        hidden_inputs=np.dot(self.wih,inputs)\n",
    "        #은닉 계층에서 나가는 신호를 계산\n",
    "        hidden_outputs=self.activation_function(hidden_inputs)\n",
    "        \n",
    "        # 은닉 계층2로 받는 신호 계산\n",
    "        hidden_inputs2 = np.dot(self.who,hidden_outputs)\n",
    "        #은닉 계층2에서 나가는 신호 계산\n",
    "        hidden_outputs2 = self.activation_function(hidden_inputs2)\n",
    "        \n",
    "        #최종 출력 계층으로 들어오는 신호를 계산\n",
    "        final_inputs=np.dot(self.who2,hidden_outputs2)\n",
    "        #최종 출력 계층에서 나가는 신호를 계산\n",
    "        final_outputs=self.activation_function(final_inputs)\n",
    "        \n",
    "        return final_outputs"
   ]
  },
  {
   "cell_type": "code",
   "execution_count": 6,
   "metadata": {},
   "outputs": [],
   "source": [
    "training_data_file = open(\"mnist_dataset/mnist_train.csv\",'r')\n",
    "training_data_list = training_data_file.readlines()\n",
    "training_data_file.close()"
   ]
  },
  {
   "cell_type": "code",
   "execution_count": 7,
   "metadata": {},
   "outputs": [],
   "source": [
    "test_data_file = open(\"mnist_dataset/mnist_test.csv\",'r')\n",
    "test_data_list = test_data_file.readlines()\n",
    "test_data_file.close()"
   ]
  },
  {
   "cell_type": "code",
   "execution_count": 8,
   "metadata": {},
   "outputs": [],
   "source": [
    "input_nodes = 784\n",
    "hidden_nodes = [100,200,300,400,500]\n",
    "output_nodes = 10\n",
    "learning_rate=[0.01,0.05,0.1,0.15,0.2]"
   ]
  },
  {
   "cell_type": "code",
   "execution_count": 9,
   "metadata": {},
   "outputs": [],
   "source": [
    "for i in range(5):\n",
    "    globals()['n{}'.format(i)] = neuralNetwork(input_nodes,hidden_nodes[i],output_nodes,learning_rate[0])\n",
    "# hidden_nodes, learning_rate 의 개수가 다른 신경망 구성"
   ]
  },
  {
   "cell_type": "code",
   "execution_count": 11,
   "metadata": {},
   "outputs": [
    {
     "name": "stderr",
     "output_type": "stream",
     "text": [
      "100%|█████████████████████████████████████████████████████████████████████████████████| 5/5 [1:04:30<00:00, 774.04s/it]\n"
     ]
    },
    {
     "data": {
      "text/html": [
       "<div>\n",
       "<style scoped>\n",
       "    .dataframe tbody tr th:only-of-type {\n",
       "        vertical-align: middle;\n",
       "    }\n",
       "\n",
       "    .dataframe tbody tr th {\n",
       "        vertical-align: top;\n",
       "    }\n",
       "\n",
       "    .dataframe thead th {\n",
       "        text-align: right;\n",
       "    }\n",
       "</style>\n",
       "<table border=\"1\" class=\"dataframe\">\n",
       "  <thead>\n",
       "    <tr style=\"text-align: right;\">\n",
       "      <th></th>\n",
       "      <th>learning_rate</th>\n",
       "      <th>hidden_nodes</th>\n",
       "      <th>score</th>\n",
       "    </tr>\n",
       "  </thead>\n",
       "  <tbody>\n",
       "    <tr>\n",
       "      <th>0</th>\n",
       "      <td>0.01</td>\n",
       "      <td>100</td>\n",
       "      <td>0.9561</td>\n",
       "    </tr>\n",
       "    <tr>\n",
       "      <th>1</th>\n",
       "      <td>0.05</td>\n",
       "      <td>200</td>\n",
       "      <td>0.9588</td>\n",
       "    </tr>\n",
       "    <tr>\n",
       "      <th>2</th>\n",
       "      <td>0.1</td>\n",
       "      <td>300</td>\n",
       "      <td>0.960533</td>\n",
       "    </tr>\n",
       "    <tr>\n",
       "      <th>3</th>\n",
       "      <td>0.15</td>\n",
       "      <td>400</td>\n",
       "      <td>0.96125</td>\n",
       "    </tr>\n",
       "    <tr>\n",
       "      <th>4</th>\n",
       "      <td>0.2</td>\n",
       "      <td>500</td>\n",
       "      <td>0.96242</td>\n",
       "    </tr>\n",
       "  </tbody>\n",
       "</table>\n",
       "</div>"
      ],
      "text/plain": [
       "  learning_rate hidden_nodes     score\n",
       "0          0.01          100    0.9561\n",
       "1          0.05          200    0.9588\n",
       "2           0.1          300  0.960533\n",
       "3          0.15          400   0.96125\n",
       "4           0.2          500   0.96242"
      ]
     },
     "execution_count": 11,
     "metadata": {},
     "output_type": "execute_result"
    }
   ],
   "source": [
    "from tqdm import tqdm\n",
    "epochs=5\n",
    "scorecard=[]\n",
    "df=pd.DataFrame(columns=['learning_rate','hidden_nodes','score'])\n",
    "idx=0\n",
    "for n in tqdm([n0,n1,n2,n3,n4]):\n",
    "    for e in range(epochs):\n",
    "        for record in training_data_list:\n",
    "            all_values = record.split(',')\n",
    "            inputs = (np.asfarray(all_values[1:])/255.0*0.99)+0.01\n",
    "            targets=np.zeros(output_nodes)+0.01\n",
    "            targets[int(all_values[0])] = 0.99\n",
    "            n.train(inputs,targets)\n",
    "            pass\n",
    "    \n",
    "    for record in test_data_list:\n",
    "        all_values = record.split(',')\n",
    "        correct_label = int(all_values[0])\n",
    "        inputs = (np.asfarray(all_values[1:])/255.0*0.99)+0.01\n",
    "        outputs = n.query(inputs) # 신경망에 물어보는 것 train 값에 기초해서 얘 뭐나와? 이런거\n",
    "        label=np.argmax(outputs)\n",
    "        if label == correct_label:\n",
    "            scorecard.append(1)\n",
    "        else:\n",
    "            scorecard.append(0)\n",
    "    scorecard_array=np.asarray(scorecard)\n",
    "       \n",
    "    df.loc[idx,'learning_rate'] = learning_rate[idx]\n",
    "    df.loc[idx,'hidden_nodes'] = hidden_nodes[idx]\n",
    "    df.loc[idx,'score'] = scorecard_array.sum()/scorecard_array.size\n",
    "    idx+=1\n",
    "df"
   ]
  },
  {
   "cell_type": "code",
   "execution_count": 12,
   "metadata": {},
   "outputs": [],
   "source": [
    "df['lr+hn'] = df['learning_rate'].astype(str)+'-'+df['hidden_nodes'].astype(str)"
   ]
  },
  {
   "cell_type": "code",
   "execution_count": 13,
   "metadata": {},
   "outputs": [],
   "source": [
    "from matplotlib import font_manager, rc\n",
    "font_name = font_manager.FontProperties(fname=\"c:/Windows/Fonts/malgun.ttf\").get_name()\n",
    "rc('font', family=font_name)"
   ]
  },
  {
   "cell_type": "code",
   "execution_count": 14,
   "metadata": {},
   "outputs": [
    {
     "data": {
      "text/plain": [
       "Text(0.5, 1.0, 'learning_rate,hidden_nodes에 따른 정확도 차이')"
      ]
     },
     "execution_count": 14,
     "metadata": {},
     "output_type": "execute_result"
    },
    {
     "data": {
      "image/png": "[encoded data removed]",
      "text/plain": [
       "<Figure size 864x576 with 1 Axes>"
      ]
     },
     "metadata": {},
     "output_type": "display_data"
    }
   ],
   "source": [
    "plt.figure(figsize=(12,8))\n",
    "sns.pointplot(data=df,x='lr+hn',y='score')\n",
    "plt.title(\"learning_rate,hidden_nodes에 따른 정확도 차이\")"
   ]
  },
  {
   "cell_type": "markdown",
   "metadata": {},
   "source": [
    "- learning_rate=0.01, hidden_layer=100 조합이 best\n",
    "    - learning_rate 따로 hidden_layer 따로 했어야하는데 시간이 너무 많이 걸리므로 이 조합으로 결정"
   ]
  },
  {
   "cell_type": "code",
   "execution_count": 15,
   "metadata": {},
   "outputs": [],
   "source": [
    "input_nodes = 784\n",
    "hidden_nodes = 100\n",
    "hidden_nodes2 = 100\n",
    "output_nodes = 10\n",
    "learning_rate=0.01\n",
    "n=neuralNetwork2(input_nodes,hidden_nodes,hidden_nodes2,output_nodes,learning_rate)"
   ]
  },
  {
   "cell_type": "code",
   "execution_count": 16,
   "metadata": {},
   "outputs": [],
   "source": [
    "epochs=5\n",
    "for e in range(epochs):\n",
    "    for record in training_data_list:\n",
    "        all_values = record.split(',')\n",
    "        inputs = (np.asfarray(all_values[1:])/255.0*0.99)+0.01\n",
    "        targets=np.zeros(output_nodes)+0.01\n",
    "        targets[int(all_values[0])] = 0.99\n",
    "        n.train(inputs,targets)\n",
    "        pass\n",
    "    pass"
   ]
  },
  {
   "cell_type": "code",
   "execution_count": 17,
   "metadata": {},
   "outputs": [],
   "source": [
    "scorecard=[]\n",
    "for record in test_data_list:\n",
    "    all_values = record.split(',')\n",
    "    correct_label = int(all_values[0])\n",
    "    inputs = (np.asfarray(all_values[1:])/255.0*0.99)+0.01\n",
    "    outputs = n.query(inputs) # 신경망에 물어보는 것 train 값에 기초해서 얘 뭐나와? 이런거\n",
    "    label=np.argmax(outputs)\n",
    "    if label == correct_label:\n",
    "        scorecard.append(1)\n",
    "    else:\n",
    "        scorecard.append(0)"
   ]
  },
  {
   "cell_type": "code",
   "execution_count": 18,
   "metadata": {},
   "outputs": [
    {
     "name": "stdout",
     "output_type": "stream",
     "text": [
      "performance =  0.9684\n"
     ]
    }
   ],
   "source": [
    "scorecard_array=np.asarray(scorecard)\n",
    "print(\"performance = \",scorecard_array.sum()/scorecard_array.size)"
   ]
  },
  {
   "cell_type": "markdown",
   "metadata": {},
   "source": [
    "- 더 높아질 가능성을 봄..\n",
    "- hidden node2만 node의 개수를 다르게 해서 도전"
   ]
  },
  {
   "cell_type": "code",
   "execution_count": 19,
   "metadata": {},
   "outputs": [],
   "source": [
    "input_nodes = 784\n",
    "hidden_nodes = 100\n",
    "hidden_nodes2 = [100,200,300,400]\n",
    "output_nodes = 10\n",
    "learning_rate=0.01"
   ]
  },
  {
   "cell_type": "code",
   "execution_count": 20,
   "metadata": {},
   "outputs": [],
   "source": [
    "for i in range(4):\n",
    "    globals()['n_{}'.format(i)] = neuralNetwork2(input_nodes,hidden_nodes,hidden_nodes2[i],output_nodes,learning_rate)\n",
    "# hidden_nodes, learning_rate 의 개수가 다른 신경망 구성"
   ]
  },
  {
   "cell_type": "code",
   "execution_count": 22,
   "metadata": {},
   "outputs": [
    {
     "name": "stderr",
     "output_type": "stream",
     "text": [
      "100%|███████████████████████████████████████████████████████████████████████████████████| 4/4 [16:06<00:00, 241.59s/it]\n"
     ]
    },
    {
     "data": {
      "text/html": [
       "<div>\n",
       "<style scoped>\n",
       "    .dataframe tbody tr th:only-of-type {\n",
       "        vertical-align: middle;\n",
       "    }\n",
       "\n",
       "    .dataframe tbody tr th {\n",
       "        vertical-align: top;\n",
       "    }\n",
       "\n",
       "    .dataframe thead th {\n",
       "        text-align: right;\n",
       "    }\n",
       "</style>\n",
       "<table border=\"1\" class=\"dataframe\">\n",
       "  <thead>\n",
       "    <tr style=\"text-align: right;\">\n",
       "      <th></th>\n",
       "      <th>learning_rate</th>\n",
       "      <th>hidden_nodes</th>\n",
       "      <th>score</th>\n",
       "      <th>hidden_nodes2</th>\n",
       "    </tr>\n",
       "  </thead>\n",
       "  <tbody>\n",
       "    <tr>\n",
       "      <th>0</th>\n",
       "      <td>0.01</td>\n",
       "      <td>NaN</td>\n",
       "      <td>0.9672</td>\n",
       "      <td>100.0</td>\n",
       "    </tr>\n",
       "    <tr>\n",
       "      <th>1</th>\n",
       "      <td>0.01</td>\n",
       "      <td>NaN</td>\n",
       "      <td>0.9678</td>\n",
       "      <td>200.0</td>\n",
       "    </tr>\n",
       "    <tr>\n",
       "      <th>2</th>\n",
       "      <td>0.01</td>\n",
       "      <td>NaN</td>\n",
       "      <td>0.9666</td>\n",
       "      <td>300.0</td>\n",
       "    </tr>\n",
       "    <tr>\n",
       "      <th>3</th>\n",
       "      <td>0.01</td>\n",
       "      <td>NaN</td>\n",
       "      <td>0.9657</td>\n",
       "      <td>400.0</td>\n",
       "    </tr>\n",
       "  </tbody>\n",
       "</table>\n",
       "</div>"
      ],
      "text/plain": [
       "  learning_rate hidden_nodes   score  hidden_nodes2\n",
       "0          0.01          NaN  0.9672          100.0\n",
       "1          0.01          NaN  0.9678          200.0\n",
       "2          0.01          NaN  0.9666          300.0\n",
       "3          0.01          NaN  0.9657          400.0"
      ]
     },
     "execution_count": 22,
     "metadata": {},
     "output_type": "execute_result"
    }
   ],
   "source": [
    "epochs=5\n",
    "scorecard=[]\n",
    "df2=pd.DataFrame(columns=['learning_rate','hidden_nodes','score'])\n",
    "idx=0\n",
    "for n in tqdm([n_0,n_1,n_2,n_3]):\n",
    "    for e in range(epochs):\n",
    "        for record in training_data_list:\n",
    "            all_values = record.split(',')\n",
    "            inputs = (np.asfarray(all_values[1:])/255.0*0.99)+0.01\n",
    "            targets=np.zeros(output_nodes)+0.01\n",
    "            targets[int(all_values[0])] = 0.99\n",
    "            n.train(inputs,targets)\n",
    "            pass\n",
    "    \n",
    "    for record in test_data_list:\n",
    "        all_values = record.split(',')\n",
    "        correct_label = int(all_values[0])\n",
    "        inputs = (np.asfarray(all_values[1:])/255.0*0.99)+0.01\n",
    "        outputs = n.query(inputs)\n",
    "        label=np.argmax(outputs)\n",
    "        if label == correct_label:\n",
    "            scorecard.append(1)\n",
    "        else:\n",
    "            scorecard.append(0)\n",
    "    scorecard_array=np.asarray(scorecard)\n",
    "       \n",
    "    df2.loc[idx,'learning_rate'] = 0.01\n",
    "    df2.loc[idx,'hidden_nodes2'] = hidden_nodes2[idx]\n",
    "    df2.loc[idx,'score'] = scorecard_array.sum()/scorecard_array.size\n",
    "    idx+=1\n",
    "df2"
   ]
  },
  {
   "cell_type": "code",
   "execution_count": 23,
   "metadata": {},
   "outputs": [],
   "source": [
    "df2.drop(['hidden_nodes'],axis=1,inplace=True)\n",
    "df2['lr+hn'] = df2['learning_rate'].astype(str)+'-'+df2['hidden_nodes2'].astype(str)"
   ]
  },
  {
   "cell_type": "code",
   "execution_count": 24,
   "metadata": {},
   "outputs": [
    {
     "data": {
      "text/plain": [
       "<matplotlib.axes._subplots.AxesSubplot at 0x22195d20940>"
      ]
     },
     "execution_count": 24,
     "metadata": {},
     "output_type": "execute_result"
    },
    {
     "data": {
      "image/png": "[encoded data removed]",
      "text/plain": [
       "<Figure size 864x576 with 1 Axes>"
      ]
     },
     "metadata": {},
     "output_type": "display_data"
    }
   ],
   "source": [
    "plt.figure(figsize=(12,8))\n",
    "sns.pointplot(x=df2['hidden_nodes2'],y=df2['score'])"
   ]
  },
  {
   "cell_type": "code",
   "execution_count": 25,
   "metadata": {},
   "outputs": [],
   "source": [
    "final_df = pd.concat([df,df2])\n",
    "final_df['hidden_nodes'].fillna(100,inplace=True)\n",
    "final_df['hidden_nodes2'].fillna(0,inplace=True)"
   ]
  },
  {
   "cell_type": "code",
   "execution_count": 26,
   "metadata": {},
   "outputs": [
    {
     "data": {
      "text/html": [
       "<div>\n",
       "<style scoped>\n",
       "    .dataframe tbody tr th:only-of-type {\n",
       "        vertical-align: middle;\n",
       "    }\n",
       "\n",
       "    .dataframe tbody tr th {\n",
       "        vertical-align: top;\n",
       "    }\n",
       "\n",
       "    .dataframe thead th {\n",
       "        text-align: right;\n",
       "    }\n",
       "</style>\n",
       "<table border=\"1\" class=\"dataframe\">\n",
       "  <thead>\n",
       "    <tr style=\"text-align: right;\">\n",
       "      <th></th>\n",
       "      <th>learning_rate</th>\n",
       "      <th>hidden_nodes</th>\n",
       "      <th>score</th>\n",
       "      <th>lr+hn</th>\n",
       "      <th>hidden_nodes2</th>\n",
       "    </tr>\n",
       "  </thead>\n",
       "  <tbody>\n",
       "    <tr>\n",
       "      <th>0</th>\n",
       "      <td>0.01</td>\n",
       "      <td>100</td>\n",
       "      <td>0.9561</td>\n",
       "      <td>0.01-100</td>\n",
       "      <td>0.0</td>\n",
       "    </tr>\n",
       "    <tr>\n",
       "      <th>1</th>\n",
       "      <td>0.05</td>\n",
       "      <td>200</td>\n",
       "      <td>0.9588</td>\n",
       "      <td>0.05-200</td>\n",
       "      <td>0.0</td>\n",
       "    </tr>\n",
       "    <tr>\n",
       "      <th>2</th>\n",
       "      <td>0.1</td>\n",
       "      <td>300</td>\n",
       "      <td>0.960533</td>\n",
       "      <td>0.1-300</td>\n",
       "      <td>0.0</td>\n",
       "    </tr>\n",
       "    <tr>\n",
       "      <th>3</th>\n",
       "      <td>0.15</td>\n",
       "      <td>400</td>\n",
       "      <td>0.96125</td>\n",
       "      <td>0.15-400</td>\n",
       "      <td>0.0</td>\n",
       "    </tr>\n",
       "    <tr>\n",
       "      <th>4</th>\n",
       "      <td>0.2</td>\n",
       "      <td>500</td>\n",
       "      <td>0.96242</td>\n",
       "      <td>0.2-500</td>\n",
       "      <td>0.0</td>\n",
       "    </tr>\n",
       "    <tr>\n",
       "      <th>0</th>\n",
       "      <td>0.01</td>\n",
       "      <td>100</td>\n",
       "      <td>0.9672</td>\n",
       "      <td>0.01-100.0</td>\n",
       "      <td>100.0</td>\n",
       "    </tr>\n",
       "    <tr>\n",
       "      <th>1</th>\n",
       "      <td>0.01</td>\n",
       "      <td>100</td>\n",
       "      <td>0.9678</td>\n",
       "      <td>0.01-200.0</td>\n",
       "      <td>200.0</td>\n",
       "    </tr>\n",
       "    <tr>\n",
       "      <th>2</th>\n",
       "      <td>0.01</td>\n",
       "      <td>100</td>\n",
       "      <td>0.9666</td>\n",
       "      <td>0.01-300.0</td>\n",
       "      <td>300.0</td>\n",
       "    </tr>\n",
       "    <tr>\n",
       "      <th>3</th>\n",
       "      <td>0.01</td>\n",
       "      <td>100</td>\n",
       "      <td>0.9657</td>\n",
       "      <td>0.01-400.0</td>\n",
       "      <td>400.0</td>\n",
       "    </tr>\n",
       "  </tbody>\n",
       "</table>\n",
       "</div>"
      ],
      "text/plain": [
       "  learning_rate  hidden_nodes     score       lr+hn  hidden_nodes2\n",
       "0          0.01           100    0.9561    0.01-100            0.0\n",
       "1          0.05           200    0.9588    0.05-200            0.0\n",
       "2           0.1           300  0.960533     0.1-300            0.0\n",
       "3          0.15           400   0.96125    0.15-400            0.0\n",
       "4           0.2           500   0.96242     0.2-500            0.0\n",
       "0          0.01           100    0.9672  0.01-100.0          100.0\n",
       "1          0.01           100    0.9678  0.01-200.0          200.0\n",
       "2          0.01           100    0.9666  0.01-300.0          300.0\n",
       "3          0.01           100    0.9657  0.01-400.0          400.0"
      ]
     },
     "execution_count": 26,
     "metadata": {},
     "output_type": "execute_result"
    }
   ],
   "source": [
    "final_df"
   ]
  },
  {
   "cell_type": "code",
   "execution_count": 27,
   "metadata": {},
   "outputs": [
    {
     "data": {
      "text/plain": [
       "Text(0.5, 1.0, 'learning_rate와 hidden_nodes의 개수에 따른 score 변화 추이(epochs=5 고정)')"
      ]
     },
     "execution_count": 27,
     "metadata": {},
     "output_type": "execute_result"
    },
    {
     "data": {
      "image/png": "[encoded data removed]",
      "text/plain": [
       "<Figure size 864x576 with 1 Axes>"
      ]
     },
     "metadata": {},
     "output_type": "display_data"
    }
   ],
   "source": [
    "plt.figure(figsize=(12,8))\n",
    "sns.pointplot(data=final_df,x='lr+hn',y='score',color='black')\n",
    "plt.title(\"learning_rate와 hidden_nodes의 개수에 따른 score 변화 추이(epochs=5 고정)\")"
   ]
  },
  {
   "cell_type": "markdown",
   "metadata": {},
   "source": [
    "### hidden_layer 두개, learning_rate = 0.01, hidden_node 100, hidden_node2 200이 가장 score가 높았다"
   ]
  },
  {
   "cell_type": "markdown",
   "metadata": {},
   "source": [
    "# 201600779 김영민"
   ]
  }
 ],
 "metadata": {
  "kernelspec": {
   "display_name": "Python 3",
   "language": "python",
   "name": "python3"
  },
  "language_info": {
   "codemirror_mode": {
    "name": "ipython",
    "version": 3
   },
   "file_extension": ".py",
   "mimetype": "text/x-python",
   "name": "python",
   "nbconvert_exporter": "python",
   "pygments_lexer": "ipython3",
   "version": "3.8.8"
  }
 },
 "nbformat": 4,
 "nbformat_minor": 2
}
