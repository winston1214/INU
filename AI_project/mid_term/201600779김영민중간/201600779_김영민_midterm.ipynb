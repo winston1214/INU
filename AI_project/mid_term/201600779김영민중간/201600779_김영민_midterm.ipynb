{
 "cells": [
  {
   "cell_type": "code",
   "execution_count": 1,
   "id": "b90d99a6",
   "metadata": {},
   "outputs": [],
   "source": [
    "from IPython.core.interactiveshell import InteractiveShell\n",
    "\n",
    "InteractiveShell.ast_node_interactivity = \"all\""
   ]
  },
  {
   "cell_type": "code",
   "execution_count": 2,
   "id": "556b88a1",
   "metadata": {},
   "outputs": [],
   "source": [
    "import numpy as np"
   ]
  },
  {
   "cell_type": "markdown",
   "id": "fd125ad5",
   "metadata": {},
   "source": [
    "# 2-1"
   ]
  },
  {
   "cell_type": "markdown",
   "id": "6c3e437f",
   "metadata": {},
   "source": [
    "![2-1](2_1.jpg)"
   ]
  },
  {
   "cell_type": "markdown",
   "id": "e0bd2690",
   "metadata": {},
   "source": [
    "# 2-2"
   ]
  },
  {
   "cell_type": "code",
   "execution_count": 3,
   "id": "4867c8fd",
   "metadata": {},
   "outputs": [
    {
     "name": "stdout",
     "output_type": "stream",
     "text": [
      "28\n"
     ]
    }
   ],
   "source": [
    "x , y, z = 2, 2, 2\n",
    "f = 2*x*y + 3*(x**2)*z + 4*z # f 식\n",
    "\n",
    "dfdx = 2*y + 6*x*z\n",
    "\n",
    "print(dfdx)"
   ]
  },
  {
   "cell_type": "markdown",
   "id": "86fed5fe",
   "metadata": {},
   "source": [
    "## 3-1"
   ]
  },
  {
   "cell_type": "markdown",
   "id": "35a0b54d",
   "metadata": {},
   "source": [
    "![3-1](3번.jpg)"
   ]
  },
  {
   "cell_type": "markdown",
   "id": "2e058ecf",
   "metadata": {},
   "source": [
    "# 3-2"
   ]
  },
  {
   "cell_type": "code",
   "execution_count": 4,
   "id": "9a5ae50d",
   "metadata": {},
   "outputs": [
    {
     "name": "stdout",
     "output_type": "stream",
     "text": [
      "p = -10, f = -4\n",
      "dfdx : 0, dfdy : 0, dfdz = -4\n"
     ]
    }
   ],
   "source": [
    "x = -2; y = 5; z = -4;\n",
    "p = x*y\n",
    "f = max(p,z)\n",
    "print(f'p = {p}, f = {f}')\n",
    "\n",
    "dfdp = 0\n",
    "dfdz = f\n",
    "\n",
    "dpdx = y\n",
    "dpdy = x\n",
    "\n",
    "dfdx = dfdp * dpdx\n",
    "dfdy = dfdp * dpdy\n",
    "print(f'dfdx : {dfdx}, dfdy : {dfdy}, dfdz = {dfdz}')"
   ]
  },
  {
   "cell_type": "markdown",
   "id": "85001d6e",
   "metadata": {},
   "source": [
    "# 4번"
   ]
  },
  {
   "cell_type": "markdown",
   "id": "63a4a03b",
   "metadata": {},
   "source": [
    "## 4-1"
   ]
  },
  {
   "cell_type": "code",
   "execution_count": 5,
   "id": "e60175f2",
   "metadata": {},
   "outputs": [],
   "source": [
    "def sigmoid(x):\n",
    "    return 1/(1+np.exp(-x))"
   ]
  },
  {
   "cell_type": "code",
   "execution_count": 6,
   "id": "0dae41d3",
   "metadata": {},
   "outputs": [
    {
     "name": "stdout",
     "output_type": "stream",
     "text": [
      "[0.78583498 0.96083428]\n"
     ]
    }
   ],
   "source": [
    "input_ = np.array([0.4,0.5])\n",
    "input_w = np.array([[2.0,3.0],[1,4]])\n",
    "output = np.dot(input_,input_w)\n",
    "final = sigmoid(output)\n",
    "print(final)"
   ]
  },
  {
   "cell_type": "markdown",
   "id": "16367694",
   "metadata": {},
   "source": [
    "## 4-2"
   ]
  },
  {
   "cell_type": "code",
   "execution_count": 7,
   "id": "1d50e7f8",
   "metadata": {},
   "outputs": [
    {
     "name": "stdout",
     "output_type": "stream",
     "text": [
      "[1.03680156 1.15524818]\n"
     ]
    }
   ],
   "source": [
    "target=np.array([1.70887704,1.4168273]) # 목표값\n",
    "error = abs(target-output) # error의 절대값\n",
    "w = input_w.copy()\n",
    "normalize = np.array([[w[0,0]/(w[0,0]+w[1,0]),w[0,1]/(w[0,1]+w[1,1])],\n",
    "                 [w[1,0]/(w[1,0]+w[0,0]),w[1,1]/(w[0,1]+w[1,1])]]) # 정규화\n",
    "hidden_error = np.dot(normalize,error)\n",
    "print(hidden_error)"
   ]
  },
  {
   "cell_type": "markdown",
   "id": "bb7157fe",
   "metadata": {},
   "source": [
    "## 4-3"
   ]
  },
  {
   "cell_type": "code",
   "execution_count": 8,
   "id": "0d2ef1a7",
   "metadata": {},
   "outputs": [
    {
     "data": {
      "text/plain": [
       "array([[-1.79795315, -2.03736053],\n",
       "       [-2.79795315, -1.03736053]])"
      ]
     },
     "execution_count": 8,
     "metadata": {},
     "output_type": "execute_result"
    }
   ],
   "source": [
    "learning_rate=0.1\n",
    "input_w -= learning_rate*np.dot(-error* output* (1-output),input_w.T) \n",
    "input_w"
   ]
  },
  {
   "cell_type": "markdown",
   "id": "8b3872fd",
   "metadata": {},
   "source": [
    "# 5번"
   ]
  },
  {
   "cell_type": "markdown",
   "id": "4055a20f",
   "metadata": {},
   "source": [
    "![5번](5번.jpg)"
   ]
  }
 ],
 "metadata": {
  "kernelspec": {
   "display_name": "Python 3",
   "language": "python",
   "name": "python3"
  },
  "language_info": {
   "codemirror_mode": {
    "name": "ipython",
    "version": 3
   },
   "file_extension": ".py",
   "mimetype": "text/x-python",
   "name": "python",
   "nbconvert_exporter": "python",
   "pygments_lexer": "ipython3",
   "version": "3.8.8"
  }
 },
 "nbformat": 4,
 "nbformat_minor": 5
}
