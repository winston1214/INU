{
 "cells": [
  {
   "cell_type": "code",
   "execution_count": 4,
   "id": "37f37fd1",
   "metadata": {},
   "outputs": [],
   "source": [
    "import numpy as np"
   ]
  },
  {
   "cell_type": "markdown",
   "id": "a885bd47",
   "metadata": {},
   "source": [
    "# 1번"
   ]
  },
  {
   "cell_type": "code",
   "execution_count": 5,
   "id": "d35ed5c3",
   "metadata": {},
   "outputs": [
    {
     "data": {
      "text/plain": [
       "260"
      ]
     },
     "execution_count": 5,
     "metadata": {},
     "output_type": "execute_result"
    }
   ],
   "source": [
    "x = 2\n",
    "y = x**3 + x\n",
    "dfdx = 2*y\n",
    "dydx = 3*x**2 + 1\n",
    "\n",
    "dfdx * dydx"
   ]
  },
  {
   "cell_type": "code",
   "execution_count": 6,
   "id": "11f62a83",
   "metadata": {},
   "outputs": [
    {
     "name": "stdout",
     "output_type": "stream",
     "text": [
      "p : -12, q : 3,f : -36\n",
      "dfdx : -12, dfdy : 9\n",
      "dfdz : -12, dfdw : -12\n"
     ]
    }
   ],
   "source": [
    "x = 3; y= -4; z = 2; w = 1;\n",
    "p = x*y\n",
    "q = z+w\n",
    "f = p * q\n",
    "print(f'p : {p}, q : {q},f : {f}')\n",
    "\n",
    "dfdp = q\n",
    "dfdq = p\n",
    "\n",
    "dpdx = y\n",
    "dpdy = x\n",
    "dqdz = 1\n",
    "dqdw = 1\n",
    "\n",
    "dfdx = dfdp * dpdx\n",
    "dfdy = dfdp * dpdy\n",
    "dfdz = dfdq * dqdz\n",
    "dfdw = dfdq * dqdw\n",
    "print(f'dfdx : {dfdx}, dfdy : {dfdy}')\n",
    "print(f'dfdz : {dfdz}, dfdw : {dfdw}')"
   ]
  },
  {
   "cell_type": "code",
   "execution_count": 7,
   "id": "da257777",
   "metadata": {},
   "outputs": [],
   "source": [
    "def relu(x):\n",
    "    return (x>0)*x"
   ]
  },
  {
   "cell_type": "code",
   "execution_count": 11,
   "id": "612d1a9b",
   "metadata": {},
   "outputs": [
    {
     "name": "stdout",
     "output_type": "stream",
     "text": [
      "[1.  0.7]\n"
     ]
    }
   ],
   "source": [
    "input_ = np.array([1.0,0.5])\n",
    "input_w = np.array([[0.9,0.3],[0.2,0.8]])\n",
    "output = np.dot(input_,input_w)\n",
    "final = relu(output)\n",
    "print(final)"
   ]
  },
  {
   "cell_type": "code",
   "execution_count": 12,
   "id": "4f836d41",
   "metadata": {},
   "outputs": [
    {
     "data": {
      "text/plain": [
       "array([0.85909091, 0.59090909])"
      ]
     },
     "execution_count": 12,
     "metadata": {},
     "output_type": "execute_result"
    }
   ],
   "source": [
    "target=np.array([1.85,0.1]) # 목표값\n",
    "error = abs(target-output) # error의 절대값\n",
    "w = input_w.copy()\n",
    "normalize = np.array([[w[0,0]/(w[0,0]+w[1,0]),w[0,1]/(w[0,1]+w[1,1])],\n",
    "                 [w[1,0]/(w[1,0]+w[0,0]),w[1,1]/(w[0,1]+w[1,1])]]) # 정규화\n",
    "hidden_error = np.dot(normalize,error)\n",
    "hidden_error"
   ]
  },
  {
   "cell_type": "code",
   "execution_count": 13,
   "id": "168ae62b",
   "metadata": {},
   "outputs": [
    {
     "data": {
      "text/plain": [
       "array([[0.998595, 0.35535 ],\n",
       "       [0.298595, 0.85535 ]])"
      ]
     },
     "execution_count": 13,
     "metadata": {},
     "output_type": "execute_result"
    }
   ],
   "source": [
    "# tmp\n",
    "learning_rate=0.1\n",
    "act_func_div = 1 # activation function 미분\n",
    "input_w -= learning_rate*np.dot(-error*act_func_div * np.dot(w,output),input_w.T) \n",
    "input_w"
   ]
  },
  {
   "cell_type": "code",
   "execution_count": null,
   "id": "98b6c671",
   "metadata": {},
   "outputs": [],
   "source": [
    "# y=2x 미분하면 2가 됨, 속미분으로 input값 곱해주기"
   ]
  }
 ],
 "metadata": {
  "kernelspec": {
   "display_name": "Python 3",
   "language": "python",
   "name": "python3"
  },
  "language_info": {
   "codemirror_mode": {
    "name": "ipython",
    "version": 3
   },
   "file_extension": ".py",
   "mimetype": "text/x-python",
   "name": "python",
   "nbconvert_exporter": "python",
   "pygments_lexer": "ipython3",
   "version": "3.8.8"
  }
 },
 "nbformat": 4,
 "nbformat_minor": 5
}
