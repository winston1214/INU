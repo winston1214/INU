{
 "cells": [
  {
   "cell_type": "markdown",
   "metadata": {},
   "source": [
    "# 201600779 김영민"
   ]
  },
  {
   "cell_type": "code",
   "execution_count": 1,
   "metadata": {},
   "outputs": [],
   "source": [
    "import pandas as pd\n",
    "import numpy as np\n",
    "import matplotlib.pyplot as plt\n",
    "import seaborn as sns\n",
    "plt.style.use('ggplot')\n",
    "from tqdm import tqdm\n",
    "import cv2\n",
    "import os"
   ]
  },
  {
   "cell_type": "code",
   "execution_count": 2,
   "metadata": {},
   "outputs": [],
   "source": [
    "np.random.seed(42)"
   ]
  },
  {
   "cell_type": "markdown",
   "metadata": {},
   "source": [
    "# 신경망 클래스의 정의(은닉계층 하나)"
   ]
  },
  {
   "cell_type": "code",
   "execution_count": 3,
   "metadata": {},
   "outputs": [],
   "source": [
    "\n",
    "class neuralNetwork:\n",
    "    \n",
    "    #신경망 초기화하기\n",
    "    def __init__(self,inputnodes,hiddennodes,outputnodes,learningrate):\n",
    "        self.inodes=inputnodes\n",
    "        self.hnodes=hiddennodes\n",
    "        self.onodes=outputnodes\n",
    "        \n",
    "        '''\n",
    "        가중치 행렬 wih와 who\n",
    "        배열 내 가중치는 w_i_j로 표기, 노드 i에서 다음 계층의 노드 j로 연결됨을 의미\n",
    "        w11 w21\n",
    "        w12 w22 등'''\n",
    "        self.wih=np.random.normal(0.0,pow(self.hnodes,-0.5),(self.hnodes,self.inodes))   #정규분포로 더욱 정교한 가중치 설정\n",
    "        self.who=np.random.normal(0.0,pow(self.onodes,-0.5),(self.onodes,self.hnodes))\n",
    "        \n",
    "        #학습률\n",
    "        self.lr=learningrate\n",
    "        \n",
    "        #활성화 함수로 시그모이드 함수를 이용\n",
    "        def sigmoid(x):\n",
    "            return 1/(1+np.exp(-x))\n",
    "        \n",
    "        \n",
    "        \n",
    "        self.activation_function = lambda x: sigmoid(x)\n",
    "            \n",
    "        pass\n",
    "    #신경망 학습시키기\n",
    "    def train(self, inputs_list,targets_list):\n",
    "        #입력 리스트를 2차원의 행렬로 반환\n",
    "        inputs=np.array(inputs_list,ndmin=2).T\n",
    "        targets=np.array(targets_list,ndmin=2).T\n",
    "        \n",
    "        #은닉 계층으로 들어오는 신호를 계산\n",
    "        hidden_inputs=np.dot(self.wih,inputs)\n",
    "        #은닉 계층에서 나가는 신호를 계산\n",
    "        hidden_outputs=self.activation_function(hidden_inputs)\n",
    "        #최종 출력 계층으로 들어오는 신호를 계산\n",
    "        final_inputs=np.dot(self.who,hidden_outputs)\n",
    "        #최종 출력 계층에서 나가는 신호를 계산\n",
    "        final_outputs=self.activation_function(final_inputs)\n",
    "        \n",
    "        #출력 계층의 오차는(실제값-계산값)\n",
    "        output_errors = targets-final_outputs\n",
    "        #은닉 계층의 오차는 가중치에 의해 나뉜 출력 계층의 오차들을 재조합해서 계산\n",
    "        hidden_errors = np.dot(self.who.T,output_errors)\n",
    "        \n",
    "        #은닉 계층과 출력 계층 간의 가중치 업데이트\n",
    "        self.who+= self.lr*np.dot((output_errors*final_outputs*(1.0-final_outputs)),np.transpose(hidden_outputs))\n",
    "        \n",
    "        #입력 계층과 은닉 계층 간의 가중치 업데이트\n",
    "        self.wih+= self.lr*np.dot((hidden_errors*hidden_outputs*(1.0-hidden_outputs)),np.transpose(inputs))\n",
    "        \n",
    "        pass\n",
    "    \n",
    "    #신경망 질의하기\n",
    "    def query(self, input_list):\n",
    "        \n",
    "        #입력 리스트를 2차원 행렬로 변환\n",
    "        inputs=np.array(input_list, ndmin=2).T\n",
    "        \n",
    "        #은닉 계층에서 들어오는 신호를 계산\n",
    "        hidden_inputs=np.dot(self.wih,inputs)\n",
    "        #은닉 계층에서 나가는 신호를 계산\n",
    "        hidden_outputs=self.activation_function(hidden_inputs)\n",
    "        #최종 출력 계층으로 들어오는 신호를 계산\n",
    "        final_inputs=np.dot(self.who,hidden_outputs)\n",
    "        #최종 출력 계층에서 나가는 신호를 계산\n",
    "        final_outputs=self.activation_function(final_inputs)\n",
    "        \n",
    "        return final_outputs"
   ]
  },
  {
   "cell_type": "markdown",
   "metadata": {},
   "source": [
    "# 신경망 클래스의 정의(은닉계층2개)"
   ]
  },
  {
   "cell_type": "code",
   "execution_count": 4,
   "metadata": {},
   "outputs": [],
   "source": [
    "\n",
    "class neuralNetwork2:\n",
    "    \n",
    "    #신경망 초기화하기\n",
    "    def __init__(self,inputnodes,hiddennodes,hiddennodes2,outputnodes,learningrate):\n",
    "        self.inodes=inputnodes\n",
    "        self.hnodes=hiddennodes\n",
    "        self.hnodes2=hiddennodes2\n",
    "        self.onodes=outputnodes\n",
    "        \n",
    "        '''\n",
    "        가중치 행렬 wih와 who\n",
    "        배열 내 가중치는 w_i_j로 표기, 노드 i에서 다음 계층의 노드 j로 연결됨을 의미\n",
    "        w11 w21\n",
    "        w12 w22 등'''\n",
    "        self.wih=np.random.normal(0.0,pow(self.hnodes,-0.5),(self.hnodes,self.inodes))   #정규분포로 더욱 정교한 가중치 설정\n",
    "        self.who=np.random.normal(0.0,pow(self.hnodes2,-0.5),(self.hnodes2,self.hnodes))\n",
    "        self.who2=np.random.normal(0.0,pow(self.onodes,-0.5),(self.onodes,self.hnodes2))\n",
    "        \n",
    "        #학습률\n",
    "        self.lr=learningrate\n",
    "        \n",
    "        #활성화 함수로 시그모이드 함수를 이용\n",
    "        def sigmoid(x):\n",
    "            return 1/(1+np.exp(-x))\n",
    "        \n",
    "        \n",
    "        \n",
    "        self.activation_function = lambda x: sigmoid(x)\n",
    "            \n",
    "        pass\n",
    "    #신경망 학습시키기\n",
    "    def train(self, inputs_list,targets_list):\n",
    "        #입력 리스트를 2차원의 행렬로 반환\n",
    "        inputs=np.array(inputs_list,ndmin=2).T\n",
    "        targets=np.array(targets_list,ndmin=2).T\n",
    "        \n",
    "        #은닉 계층으로 들어오는 신호를 계산\n",
    "        hidden_inputs=np.dot(self.wih,inputs)\n",
    "        #은닉 계층에서 나가는 신호를 계산\n",
    "        hidden_outputs=self.activation_function(hidden_inputs)\n",
    "        \n",
    "        # 은닉 계층2로 받는 신호 계산\n",
    "        hidden_inputs2 = np.dot(self.who,hidden_outputs)\n",
    "        #은닉 계층2에서 나가는 신호 계산\n",
    "        hidden_outputs2 = self.activation_function(hidden_inputs2)\n",
    "        \n",
    "        #최종 출력 계층으로 들어오는 신호를 계산\n",
    "        final_inputs=np.dot(self.who2,hidden_outputs2)\n",
    "        #최종 출력 계층에서 나가는 신호를 계산\n",
    "        final_outputs=self.activation_function(final_inputs)\n",
    "        \n",
    "        #출력 계층의 오차는(실제값-계산값)\n",
    "        output_errors = targets-final_outputs\n",
    "        #은닉 계층의 오차는 가중치에 의해 나뉜 출력 계층의 오차들을 재조합해서 계산\n",
    "        hidden_errors2 = np.dot(self.who2.T,output_errors)\n",
    "        hidden_errors = np.dot(self.who.T,hidden_errors2)\n",
    "        \n",
    "        \n",
    "        #은닉 계층과 출력 계층 간의 가중치 업데이트\n",
    "        self.who2+= self.lr*np.dot((output_errors*final_outputs*(1.0-final_outputs)),np.transpose(hidden_outputs2))\n",
    "        \n",
    "        #은닉 계층2와 은닉 계층 간의  가중치 업데이트\n",
    "        self.who += self.lr*np.dot((hidden_errors2*hidden_outputs2*(1.0-hidden_outputs2)),np.transpose(hidden_outputs))\n",
    "        \n",
    "        #입력 계층과 은닉 계층 간의 가중치 업데이트\n",
    "        self.wih+= self.lr*np.dot((hidden_errors*hidden_outputs*(1.0-hidden_outputs)),np.transpose(inputs))\n",
    "        \n",
    "        pass\n",
    "    \n",
    "    #신경망 질의하기\n",
    "    def query(self, input_list):\n",
    "        \n",
    "        #입력 리스트를 2차원 행렬로 변환\n",
    "        inputs=np.array(input_list, ndmin=2).T\n",
    "        \n",
    "        #은닉 계층에서 들어오는 신호를 계산\n",
    "        hidden_inputs=np.dot(self.wih,inputs)\n",
    "        #은닉 계층에서 나가는 신호를 계산\n",
    "        hidden_outputs=self.activation_function(hidden_inputs)\n",
    "        \n",
    "        # 은닉 계층2로 받는 신호 계산\n",
    "        hidden_inputs2 = np.dot(self.who,hidden_outputs)\n",
    "        #은닉 계층2에서 나가는 신호 계산\n",
    "        hidden_outputs2 = self.activation_function(hidden_inputs2)\n",
    "        \n",
    "        #최종 출력 계층으로 들어오는 신호를 계산\n",
    "        final_inputs=np.dot(self.who2,hidden_outputs2)\n",
    "        #최종 출력 계층에서 나가는 신호를 계산\n",
    "        final_outputs=self.activation_function(final_inputs)\n",
    "        \n",
    "        return final_outputs"
   ]
  },
  {
   "cell_type": "code",
   "execution_count": 5,
   "metadata": {},
   "outputs": [],
   "source": [
    "training_data_file = open(\"mnist_dataset/mnist_train.csv\",'r')\n",
    "training_data_list = training_data_file.readlines()\n",
    "training_data_file.close()"
   ]
  },
  {
   "cell_type": "code",
   "execution_count": 6,
   "metadata": {},
   "outputs": [
    {
     "data": {
      "text/plain": [
       "[2, 3, 4, 5, 6, 3, 6]"
      ]
     },
     "execution_count": 6,
     "metadata": {},
     "output_type": "execute_result"
    }
   ],
   "source": [
    "ls = os.listdir('my_own_images')\n",
    "test_data_list = []\n",
    "label = []\n",
    "for i in ls:\n",
    "    label.append(i.split('.')[0][-1])\n",
    "    img = cv2.imread('my_own_images/'+i,cv2.IMREAD_GRAYSCALE)\n",
    "    img = img.reshape(-1)\n",
    "    test_data_list.append(img)\n",
    "labels = list(map(lambda x: int(x),label))\n",
    "labels"
   ]
  },
  {
   "cell_type": "code",
   "execution_count": 7,
   "metadata": {
    "scrolled": false
   },
   "outputs": [
    {
     "data": {
      "image/png": "[encoded data removed]",
      "text/plain": [
       "<Figure size 432x288 with 1 Axes>"
      ]
     },
     "metadata": {},
     "output_type": "display_data"
    },
    {
     "data": {
      "image/png": "[encoded data removed]",
      "text/plain": [
       "<Figure size 432x288 with 1 Axes>"
      ]
     },
     "metadata": {},
     "output_type": "display_data"
    },
    {
     "data": {
      "image/png": "[encoded data removed]",
      "text/plain": [
       "<Figure size 432x288 with 1 Axes>"
      ]
     },
     "metadata": {},
     "output_type": "display_data"
    },
    {
     "data": {
      "image/png": "[encoded data removed]",
      "text/plain": [
       "<Figure size 432x288 with 1 Axes>"
      ]
     },
     "metadata": {},
     "output_type": "display_data"
    },
    {
     "data": {
      "image/png": "[encoded data removed]",
      "text/plain": [
       "<Figure size 432x288 with 1 Axes>"
      ]
     },
     "metadata": {},
     "output_type": "display_data"
    },
    {
     "data": {
      "image/png": "[encoded data removed]",
      "text/plain": [
       "<Figure size 432x288 with 1 Axes>"
      ]
     },
     "metadata": {},
     "output_type": "display_data"
    },
    {
     "data": {
      "image/png": "[encoded data removed]",
      "text/plain": [
       "<Figure size 432x288 with 1 Axes>"
      ]
     },
     "metadata": {},
     "output_type": "display_data"
    }
   ],
   "source": [
    "import matplotlib.pyplot as plt\n",
    "def show_img(img):\n",
    "    plt.imshow(cv2.cvtColor(img,cv2.COLOR_BGR2RGB))\n",
    "#     plt.imshow(img)\n",
    "    plt.show()\n",
    "for i ,l in zip(ls,labels):\n",
    "    img = cv2.imread('my_own_images/'+i)\n",
    "    plt.title(str(l))\n",
    "    show_img(img)"
   ]
  },
  {
   "cell_type": "markdown",
   "metadata": {},
   "source": [
    "# jupyter Version"
   ]
  },
  {
   "cell_type": "code",
   "execution_count": 10,
   "metadata": {},
   "outputs": [],
   "source": [
    "input_nodes = 784\n",
    "hidden_nodes = 100\n",
    "hidden_nodes2 = 200\n",
    "output_nodes = 10\n",
    "learning_rate = 0.01\n",
    "epochs = 5"
   ]
  },
  {
   "cell_type": "code",
   "execution_count": 11,
   "metadata": {},
   "outputs": [
    {
     "name": "stderr",
     "output_type": "stream",
     "text": [
      "100%|████████████████████████████████████████████████████████████████████████████████████| 5/5 [01:22<00:00, 16.50s/it]\n",
      "100%|████████████████████████████████████████████████████████████████████████████████████| 5/5 [01:45<00:00, 21.03s/it]"
     ]
    },
    {
     "name": "stdout",
     "output_type": "stream",
     "text": [
      "1 Hidden Layer Acc : Accuracy : 0.00%\n",
      "2 Hidden Layer Acc : Accuracy : 14.29%\n"
     ]
    },
    {
     "name": "stderr",
     "output_type": "stream",
     "text": [
      "\n"
     ]
    }
   ],
   "source": [
    "def my_own_image(model,input_nodes,hidden_nodes,hidden_nodes2,output_nodes,learning_rate,epochs):\n",
    "    \n",
    "    if model == 'n2':\n",
    "        n=neuralNetwork2(input_nodes,hidden_nodes,hidden_nodes2,output_nodes,learning_rate)\n",
    "    if model == 'n1':\n",
    "        n=neuralNetwork(input_nodes,hidden_nodes,output_nodes,learning_rate)\n",
    "    for e in tqdm(range(epochs)):\n",
    "        for record in training_data_list:\n",
    "            all_values = record.split(',')\n",
    "            inputs = (np.asfarray(all_values[1:])/255.0*0.99)+0.01\n",
    "            targets=np.zeros(output_nodes)+0.01\n",
    "            targets[int(all_values[0])] = 0.99\n",
    "            n.train(inputs,targets)\n",
    "            pass\n",
    "    scorecard = []\n",
    "\n",
    "    for record,lab in zip(test_data_list,labels):\n",
    "        correct_label = lab\n",
    "        inputs = (np.asfarray(record)/255.0*0.99)+0.01\n",
    "        outputs = n.query(inputs) # 신경망에 물어보는 것 train 값에 기초해서 얘 뭐나와? 이런거\n",
    "\n",
    "        label=np.argmax(outputs)\n",
    "        if label == correct_label:\n",
    "            scorecard.append(1)\n",
    "        else:\n",
    "            scorecard.append(0)\n",
    "    scorecard_array=np.asarray(scorecard)\n",
    "    acc = sum(scorecard_array)/len(scorecard_array) * 100\n",
    "    return 'Accuracy : %.2f%%'%acc\n",
    "n1_acc = my_own_image('n1',input_nodes,hidden_nodes,hidden_nodes2,output_nodes,learning_rate,epochs)\n",
    "n2_acc = my_own_image('n2',input_nodes,hidden_nodes,hidden_nodes2,output_nodes,learning_rate,epochs)\n",
    "print(f'1 Hidden Layer Acc : {n1_acc}')\n",
    "print(f'2 Hidden Layer Acc : {n2_acc}')"
   ]
  },
  {
   "cell_type": "markdown",
   "metadata": {},
   "source": [
    "---------------"
   ]
  },
  {
   "cell_type": "markdown",
   "metadata": {},
   "source": [
    "# Python Version"
   ]
  },
  {
   "cell_type": "code",
   "execution_count": null,
   "metadata": {},
   "outputs": [],
   "source": [
    "# import argparse\n",
    "# def my_own_image(opt):\n",
    "#     model,input_nodes,hidden_nodes,hidden_nodes2,output_nodes,learning_rate,epoch = opt.model,opt.input,opt.h1,opt.h2,opt.output,opt.lr,opt.epohcs\n",
    "#     if model == 'n2':\n",
    "#         n=neuralNetwork2(input_nodes,hidden_nodes,hidden_nodes2,output_nodes,learning_rate)\n",
    "#     if model == 'n1':\n",
    "#         n=neuralNetwork(input_nodes,hidden_nodes,output_nodes,learning_rate)\n",
    "#     for e in tqdm(range(epochs)):\n",
    "#         for record in training_data_list:\n",
    "#             all_values = record.split(',')\n",
    "#             inputs = (np.asfarray(all_values[1:])/255.0*0.99)+0.01\n",
    "#             targets=np.zeros(output_nodes)+0.01\n",
    "#             targets[int(all_values[0])] = 0.99\n",
    "#             n.train(inputs,targets)\n",
    "#             pass\n",
    "#     scorecard = []\n",
    "\n",
    "#     for record,lab in zip(test_data_list,labels):\n",
    "#         correct_label = lab\n",
    "#         inputs = (np.asfarray(record)/255.0*0.99)+0.01\n",
    "#         outputs = n.query(inputs) # 신경망에 물어보는 것 train 값에 기초해서 얘 뭐나와? 이런거\n",
    "\n",
    "#         label=np.argmax(outputs)\n",
    "#         if label == correct_label:\n",
    "#             scorecard.append(1)\n",
    "#         else:\n",
    "#             scorecard.append(0)\n",
    "#     scorecard_array=np.asarray(scorecard)\n",
    "#     acc = sum(scorecard_array)/len(scorecard_array) * 100\n",
    "#     print('Accuracy : %.2f%%'%acc)\n",
    "# if __name__ == '__main__':\n",
    "#     parser = argparse.ArgumentParser()\n",
    "#     parser.add_argument('--model', type=str, default='n2')\n",
    "#     parser.add_argument('--input', type=int, default=784)\n",
    "#     parser.add_argument('--h1', type=int,default = 100)\n",
    "#     parser.add_argument('--h2', type=int,default = 100)\n",
    "#     parser.add_argument('--output',type=int,default=10)\n",
    "#     parser.add_argument('--lr',type=float,default=0.01)\n",
    "#     parser.add_argument('--epochs',type=int,default = 10)\n",
    "#     opt = parser.parse_args()\n",
    "#     my_own_image(opt)"
   ]
  },
  {
   "cell_type": "markdown",
   "metadata": {},
   "source": [
    "# 201600779 김영민"
   ]
  }
 ],
 "metadata": {
  "kernelspec": {
   "display_name": "Python 3",
   "language": "python",
   "name": "python3"
  },
  "language_info": {
   "codemirror_mode": {
    "name": "ipython",
    "version": 3
   },
   "file_extension": ".py",
   "mimetype": "text/x-python",
   "name": "python",
   "nbconvert_exporter": "python",
   "pygments_lexer": "ipython3",
   "version": "3.8.8"
  }
 },
 "nbformat": 4,
 "nbformat_minor": 2
}
