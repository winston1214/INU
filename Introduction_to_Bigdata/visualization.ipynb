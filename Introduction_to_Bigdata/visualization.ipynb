{
 "cells": [
  {
   "cell_type": "code",
   "execution_count": 1,
   "id": "b096726f",
   "metadata": {},
   "outputs": [],
   "source": [
    "import seaborn as sns\n",
    "import matplotlib.pyplot as plt\n",
    "import pandas as pd\n",
    "import numpy as np\n",
    "import warnings\n",
    "warnings.filterwarnings('ignore')\n",
    "import re\n",
    "import datetime\n",
    "import os"
   ]
  },
  {
   "cell_type": "code",
   "execution_count": 2,
   "id": "0c691e41",
   "metadata": {},
   "outputs": [],
   "source": [
    "data = pd.read_excel('naver_news/naver_삼성전자_result.xlsx')"
   ]
  },
  {
   "cell_type": "code",
   "execution_count": 3,
   "id": "5600678b",
   "metadata": {},
   "outputs": [
    {
     "data": {
      "text/html": [
       "<div>\n",
       "<style scoped>\n",
       "    .dataframe tbody tr th:only-of-type {\n",
       "        vertical-align: middle;\n",
       "    }\n",
       "\n",
       "    .dataframe tbody tr th {\n",
       "        vertical-align: top;\n",
       "    }\n",
       "\n",
       "    .dataframe thead th {\n",
       "        text-align: right;\n",
       "    }\n",
       "</style>\n",
       "<table border=\"1\" class=\"dataframe\">\n",
       "  <thead>\n",
       "    <tr style=\"text-align: right;\">\n",
       "      <th></th>\n",
       "      <th>단어</th>\n",
       "    </tr>\n",
       "  </thead>\n",
       "  <tbody>\n",
       "    <tr>\n",
       "      <th>0</th>\n",
       "      <td>전자</td>\n",
       "    </tr>\n",
       "    <tr>\n",
       "      <th>1</th>\n",
       "      <td>개미</td>\n",
       "    </tr>\n",
       "    <tr>\n",
       "      <th>2</th>\n",
       "      <td>지금</td>\n",
       "    </tr>\n",
       "  </tbody>\n",
       "</table>\n",
       "</div>"
      ],
      "text/plain": [
       "   단어\n",
       "0  전자\n",
       "1  개미\n",
       "2  지금"
      ]
     },
     "execution_count": 3,
     "metadata": {},
     "output_type": "execute_result"
    }
   ],
   "source": [
    "word = pd.DataFrame({'단어':['전자','개미','지금']})\n",
    "word"
   ]
  },
  {
   "cell_type": "code",
   "execution_count": 4,
   "id": "eb57bb2c",
   "metadata": {},
   "outputs": [
    {
     "data": {
      "text/html": [
       "<div>\n",
       "<style scoped>\n",
       "    .dataframe tbody tr th:only-of-type {\n",
       "        vertical-align: middle;\n",
       "    }\n",
       "\n",
       "    .dataframe tbody tr th {\n",
       "        vertical-align: top;\n",
       "    }\n",
       "\n",
       "    .dataframe thead th {\n",
       "        text-align: right;\n",
       "    }\n",
       "</style>\n",
       "<table border=\"1\" class=\"dataframe\">\n",
       "  <thead>\n",
       "    <tr style=\"text-align: right;\">\n",
       "      <th></th>\n",
       "      <th>단어</th>\n",
       "      <th>word_list</th>\n",
       "    </tr>\n",
       "  </thead>\n",
       "  <tbody>\n",
       "    <tr>\n",
       "      <th>0</th>\n",
       "      <td>전자</td>\n",
       "      <td>None</td>\n",
       "    </tr>\n",
       "    <tr>\n",
       "      <th>1</th>\n",
       "      <td>개미</td>\n",
       "      <td>None</td>\n",
       "    </tr>\n",
       "    <tr>\n",
       "      <th>2</th>\n",
       "      <td>지금</td>\n",
       "      <td>None</td>\n",
       "    </tr>\n",
       "  </tbody>\n",
       "</table>\n",
       "</div>"
      ],
      "text/plain": [
       "   단어 word_list\n",
       "0  전자      None\n",
       "1  개미      None\n",
       "2  지금      None"
      ]
     },
     "execution_count": 4,
     "metadata": {},
     "output_type": "execute_result"
    }
   ],
   "source": [
    "word['word_list'] = [None]*len(word)\n",
    "word"
   ]
  },
  {
   "cell_type": "code",
   "execution_count": 5,
   "id": "2e3da28f",
   "metadata": {},
   "outputs": [
    {
     "data": {
      "text/html": [
       "<div>\n",
       "<style scoped>\n",
       "    .dataframe tbody tr th:only-of-type {\n",
       "        vertical-align: middle;\n",
       "    }\n",
       "\n",
       "    .dataframe tbody tr th {\n",
       "        vertical-align: top;\n",
       "    }\n",
       "\n",
       "    .dataframe thead th {\n",
       "        text-align: right;\n",
       "    }\n",
       "</style>\n",
       "<table border=\"1\" class=\"dataframe\">\n",
       "  <thead>\n",
       "    <tr style=\"text-align: right;\">\n",
       "      <th></th>\n",
       "      <th>단어</th>\n",
       "      <th>word_list</th>\n",
       "    </tr>\n",
       "  </thead>\n",
       "  <tbody>\n",
       "    <tr>\n",
       "      <th>0</th>\n",
       "      <td>전자</td>\n",
       "      <td>[0, 1, 2, 3, 4, 5, 6, 7, 8, 9, 10, 11, 12, 13,...</td>\n",
       "    </tr>\n",
       "    <tr>\n",
       "      <th>1</th>\n",
       "      <td>개미</td>\n",
       "      <td>[1, 2, 14, 26, 32, 49, 50, 64, 100, 102, 106, ...</td>\n",
       "    </tr>\n",
       "    <tr>\n",
       "      <th>2</th>\n",
       "      <td>지금</td>\n",
       "      <td>[1, 233, 471, 830, 832, 1746, 2055, 2056, 2132]</td>\n",
       "    </tr>\n",
       "  </tbody>\n",
       "</table>\n",
       "</div>"
      ],
      "text/plain": [
       "   단어                                          word_list\n",
       "0  전자  [0, 1, 2, 3, 4, 5, 6, 7, 8, 9, 10, 11, 12, 13,...\n",
       "1  개미  [1, 2, 14, 26, 32, 49, 50, 64, 100, 102, 106, ...\n",
       "2  지금    [1, 233, 471, 830, 832, 1746, 2055, 2056, 2132]"
      ]
     },
     "execution_count": 5,
     "metadata": {},
     "output_type": "execute_result"
    }
   ],
   "source": [
    "ls = []\n",
    "for idx,w in enumerate(word['단어']): \n",
    "    ls = data.index[data['title'].str.contains(w) == True].tolist()\n",
    "    word['word_list'].iloc[idx] = ls\n",
    "word"
   ]
  },
  {
   "cell_type": "code",
   "execution_count": 6,
   "id": "532a9f62",
   "metadata": {},
   "outputs": [
    {
     "data": {
      "text/html": [
       "<div>\n",
       "<style scoped>\n",
       "    .dataframe tbody tr th:only-of-type {\n",
       "        vertical-align: middle;\n",
       "    }\n",
       "\n",
       "    .dataframe tbody tr th {\n",
       "        vertical-align: top;\n",
       "    }\n",
       "\n",
       "    .dataframe thead th {\n",
       "        text-align: right;\n",
       "    }\n",
       "</style>\n",
       "<table border=\"1\" class=\"dataframe\">\n",
       "  <thead>\n",
       "    <tr style=\"text-align: right;\">\n",
       "      <th></th>\n",
       "      <th>title</th>\n",
       "      <th>abstract</th>\n",
       "      <th>url</th>\n",
       "      <th>date</th>\n",
       "      <th>engine</th>\n",
       "    </tr>\n",
       "  </thead>\n",
       "  <tbody>\n",
       "    <tr>\n",
       "      <th>0</th>\n",
       "      <td>\"20일 삼성전자 언팩, '이것' 공개된다\"</td>\n",
       "      <td>삼성전자의 갤럭시S21 FE(팬에디션)가 이번 달 출시될 것이라는 전망이 나왔다. ...</td>\n",
       "      <td>http://moneys.mt.co.kr/news/mwView.php?no=2021...</td>\n",
       "      <td>2021.10.15</td>\n",
       "      <td>naver</td>\n",
       "    </tr>\n",
       "    <tr>\n",
       "      <th>1</th>\n",
       "      <td>\"삼성전자 지금 사야 돈 번다\"…개미들 2조 '줍줍'한 이유</td>\n",
       "      <td>개미(개인투자자)들의 삼성전자 사랑이 여전하다. 삼성전자가 3거래일 만에 '7만전자...</td>\n",
       "      <td>https://www.hankyung.com/finance/article/20211...</td>\n",
       "      <td>2021.10.16</td>\n",
       "      <td>naver</td>\n",
       "    </tr>\n",
       "    <tr>\n",
       "      <th>2</th>\n",
       "      <td>떨어지는 삼성전자 잡는 개미들…열흘간 3조원 넘게 순매수</td>\n",
       "      <td>주가, 연고점 대비 29% 하락…10개월 만에 '6만전자' 증권가, 반도체 업황 우...</td>\n",
       "      <td>http://yna.kr/AKR20211013173100002?did=1195m</td>\n",
       "      <td>2021.10.14</td>\n",
       "      <td>naver</td>\n",
       "    </tr>\n",
       "    <tr>\n",
       "      <th>3</th>\n",
       "      <td>삼성전자가 미국기업도 아닌데…또 호출한 바이든, 왜?</td>\n",
       "      <td>조 바이든 미국 대통령이 미국 내 물류대란을 해결하기 위해 민간기업의 협조를 요청하...</td>\n",
       "      <td>http://news.mt.co.kr/mtview.php?no=20211015154...</td>\n",
       "      <td>2021.10.16</td>\n",
       "      <td>naver</td>\n",
       "    </tr>\n",
       "    <tr>\n",
       "      <th>4</th>\n",
       "      <td>삼성전자, 5G 업로드 세계 신기록 달성…비결은?</td>\n",
       "      <td>삼성전자는 5G 이동통신 업로드 속도에서 세계 최고 기록을 달성했다고 15일 밝혔다...</td>\n",
       "      <td>http://www.sisaon.co.kr/news/articleView.html?...</td>\n",
       "      <td>2021.10.15</td>\n",
       "      <td>naver</td>\n",
       "    </tr>\n",
       "  </tbody>\n",
       "</table>\n",
       "</div>"
      ],
      "text/plain": [
       "                               title  \\\n",
       "0           \"20일 삼성전자 언팩, '이것' 공개된다\"   \n",
       "1  \"삼성전자 지금 사야 돈 번다\"…개미들 2조 '줍줍'한 이유   \n",
       "2    떨어지는 삼성전자 잡는 개미들…열흘간 3조원 넘게 순매수   \n",
       "3      삼성전자가 미국기업도 아닌데…또 호출한 바이든, 왜?   \n",
       "4        삼성전자, 5G 업로드 세계 신기록 달성…비결은?   \n",
       "\n",
       "                                            abstract  \\\n",
       "0  삼성전자의 갤럭시S21 FE(팬에디션)가 이번 달 출시될 것이라는 전망이 나왔다. ...   \n",
       "1  개미(개인투자자)들의 삼성전자 사랑이 여전하다. 삼성전자가 3거래일 만에 '7만전자...   \n",
       "2  주가, 연고점 대비 29% 하락…10개월 만에 '6만전자' 증권가, 반도체 업황 우...   \n",
       "3  조 바이든 미국 대통령이 미국 내 물류대란을 해결하기 위해 민간기업의 협조를 요청하...   \n",
       "4  삼성전자는 5G 이동통신 업로드 속도에서 세계 최고 기록을 달성했다고 15일 밝혔다...   \n",
       "\n",
       "                                                 url        date engine  \n",
       "0  http://moneys.mt.co.kr/news/mwView.php?no=2021...  2021.10.15  naver  \n",
       "1  https://www.hankyung.com/finance/article/20211...  2021.10.16  naver  \n",
       "2       http://yna.kr/AKR20211013173100002?did=1195m  2021.10.14  naver  \n",
       "3  http://news.mt.co.kr/mtview.php?no=20211015154...  2021.10.16  naver  \n",
       "4  http://www.sisaon.co.kr/news/articleView.html?...  2021.10.15  naver  "
      ]
     },
     "execution_count": 6,
     "metadata": {},
     "output_type": "execute_result"
    }
   ],
   "source": [
    "data.head()"
   ]
  },
  {
   "cell_type": "code",
   "execution_count": 7,
   "id": "c4c6ed53",
   "metadata": {},
   "outputs": [
    {
     "data": {
      "text/html": [
       "<div>\n",
       "<style scoped>\n",
       "    .dataframe tbody tr th:only-of-type {\n",
       "        vertical-align: middle;\n",
       "    }\n",
       "\n",
       "    .dataframe tbody tr th {\n",
       "        vertical-align: top;\n",
       "    }\n",
       "\n",
       "    .dataframe thead th {\n",
       "        text-align: right;\n",
       "    }\n",
       "</style>\n",
       "<table border=\"1\" class=\"dataframe\">\n",
       "  <thead>\n",
       "    <tr style=\"text-align: right;\">\n",
       "      <th></th>\n",
       "      <th>단어</th>\n",
       "      <th>word_list</th>\n",
       "    </tr>\n",
       "  </thead>\n",
       "  <tbody>\n",
       "    <tr>\n",
       "      <th>0</th>\n",
       "      <td>전자</td>\n",
       "      <td>[0, 1, 2, 3, 4, 5, 6, 7, 8, 9, 10, 11, 12, 13,...</td>\n",
       "    </tr>\n",
       "    <tr>\n",
       "      <th>1</th>\n",
       "      <td>개미</td>\n",
       "      <td>[1, 2, 14, 26, 32, 49, 50, 64, 100, 102, 106, ...</td>\n",
       "    </tr>\n",
       "    <tr>\n",
       "      <th>2</th>\n",
       "      <td>지금</td>\n",
       "      <td>[1, 233, 471, 830, 832, 1746, 2055, 2056, 2132]</td>\n",
       "    </tr>\n",
       "  </tbody>\n",
       "</table>\n",
       "</div>"
      ],
      "text/plain": [
       "   단어                                          word_list\n",
       "0  전자  [0, 1, 2, 3, 4, 5, 6, 7, 8, 9, 10, 11, 12, 13,...\n",
       "1  개미  [1, 2, 14, 26, 32, 49, 50, 64, 100, 102, 106, ...\n",
       "2  지금    [1, 233, 471, 830, 832, 1746, 2055, 2056, 2132]"
      ]
     },
     "execution_count": 7,
     "metadata": {},
     "output_type": "execute_result"
    }
   ],
   "source": [
    "word"
   ]
  },
  {
   "cell_type": "code",
   "execution_count": 8,
   "id": "64588860",
   "metadata": {},
   "outputs": [
    {
     "data": {
      "text/html": [
       "<div>\n",
       "<style scoped>\n",
       "    .dataframe tbody tr th:only-of-type {\n",
       "        vertical-align: middle;\n",
       "    }\n",
       "\n",
       "    .dataframe tbody tr th {\n",
       "        vertical-align: top;\n",
       "    }\n",
       "\n",
       "    .dataframe thead th {\n",
       "        text-align: right;\n",
       "    }\n",
       "</style>\n",
       "<table border=\"1\" class=\"dataframe\">\n",
       "  <thead>\n",
       "    <tr style=\"text-align: right;\">\n",
       "      <th></th>\n",
       "      <th>단어</th>\n",
       "      <th>word_list</th>\n",
       "    </tr>\n",
       "  </thead>\n",
       "  <tbody>\n",
       "    <tr>\n",
       "      <th>0</th>\n",
       "      <td>전자</td>\n",
       "      <td>[0, 1, 2, 3, 4, 5, 6, 7, 8, 9, 10, 11, 12, 13,...</td>\n",
       "    </tr>\n",
       "    <tr>\n",
       "      <th>1</th>\n",
       "      <td>개미</td>\n",
       "      <td>[1, 2, 14, 26, 32, 49, 50, 64, 100, 102, 106, ...</td>\n",
       "    </tr>\n",
       "    <tr>\n",
       "      <th>2</th>\n",
       "      <td>지금</td>\n",
       "      <td>[1, 233, 471, 830, 832, 1746, 2055, 2056, 2132]</td>\n",
       "    </tr>\n",
       "  </tbody>\n",
       "</table>\n",
       "</div>"
      ],
      "text/plain": [
       "   단어                                          word_list\n",
       "0  전자  [0, 1, 2, 3, 4, 5, 6, 7, 8, 9, 10, 11, 12, 13,...\n",
       "1  개미  [1, 2, 14, 26, 32, 49, 50, 64, 100, 102, 106, ...\n",
       "2  지금    [1, 233, 471, 830, 832, 1746, 2055, 2056, 2132]"
      ]
     },
     "execution_count": 8,
     "metadata": {},
     "output_type": "execute_result"
    }
   ],
   "source": [
    "def matching_word(crawling_data,word_data,crawling_col,word_col): \n",
    "    '''\n",
    "    crawling col = 크롤링 데이터 column, word_col = 연관단어 데이터 컬럼\n",
    "    crawling_data = 크롤링 데이터, word_data = 단어 데이터\n",
    "    '''\n",
    "    word['word_list'] = [None]*len(word)\n",
    "    for idx,w in enumerate(word[word_col]): \n",
    "        ls = data.index[data[crawling_col].str.contains(w) == True].tolist()\n",
    "        word['word_list'].iloc[idx] = ls\n",
    "    return word\n",
    "matching_word(data,word,'title','단어')"
   ]
  },
  {
   "cell_type": "code",
   "execution_count": 9,
   "id": "6e3f465b",
   "metadata": {},
   "outputs": [
    {
     "ename": "OSError",
     "evalue": "",
     "output_type": "error",
     "traceback": [
      "\u001b[1;31m---------------------------------------------------------------------------\u001b[0m",
      "\u001b[1;31mOSError\u001b[0m                                   Traceback (most recent call last)",
      "\u001b[1;32m<ipython-input-9-fe7707a9b957>\u001b[0m in \u001b[0;36m<module>\u001b[1;34m\u001b[0m\n\u001b[1;32m----> 1\u001b[1;33m \u001b[1;32mraise\u001b[0m \u001b[0mIOError\u001b[0m\u001b[1;33m\u001b[0m\u001b[1;33m\u001b[0m\u001b[0m\n\u001b[0m",
      "\u001b[1;31mOSError\u001b[0m: "
     ]
    }
   ],
   "source": [
    "raise IOError"
   ]
  },
  {
   "cell_type": "code",
   "execution_count": null,
   "id": "3a19ee70",
   "metadata": {},
   "outputs": [],
   "source": [
    "label = []\n",
    "label2 = []\n",
    "for idx,ti in enumerate(data['title']):\n",
    "    if '지금' in ti or '개미' in ti:\n",
    "        label.append(idx)\n",
    "    if word['단어'].str in ti:\n",
    "        label2.append(idx)"
   ]
  },
  {
   "cell_type": "code",
   "execution_count": null,
   "id": "4ed75bbb",
   "metadata": {},
   "outputs": [],
   "source": [
    "label"
   ]
  },
  {
   "cell_type": "code",
   "execution_count": null,
   "id": "16607dd8",
   "metadata": {},
   "outputs": [],
   "source": [
    "data['title']"
   ]
  },
  {
   "cell_type": "code",
   "execution_count": null,
   "id": "0868ef2b",
   "metadata": {},
   "outputs": [],
   "source": []
  },
  {
   "cell_type": "code",
   "execution_count": null,
   "id": "44c690dc",
   "metadata": {},
   "outputs": [],
   "source": []
  },
  {
   "cell_type": "code",
   "execution_count": null,
   "id": "d538c87f",
   "metadata": {},
   "outputs": [],
   "source": []
  },
  {
   "cell_type": "code",
   "execution_count": null,
   "id": "fbecae5c",
   "metadata": {},
   "outputs": [],
   "source": []
  },
  {
   "cell_type": "code",
   "execution_count": null,
   "id": "6172f94e",
   "metadata": {},
   "outputs": [],
   "source": [
    "samsung = pd.read_csv('stock_price/samsung_1_10.csv')"
   ]
  },
  {
   "cell_type": "code",
   "execution_count": null,
   "id": "e20a43ca",
   "metadata": {},
   "outputs": [],
   "source": [
    "def korean2date(data,col):\n",
    "    korean = re.compile('[\\u3131-\\u3163\\uac00-\\ud7a3]+')\n",
    "    data[col] = data[col].apply(lambda x: re.sub(korean,'-',x.strip())[:-1])\n",
    "    data[col] = data[col].apply(lambda x: x.replace(' ',''))\n",
    "    data[col] = data[col].apply(lambda x: datetime.datetime.strptime(x,'%Y-%m-%d'))\n",
    "    return data    "
   ]
  },
  {
   "cell_type": "code",
   "execution_count": null,
   "id": "3daa3f94",
   "metadata": {},
   "outputs": [],
   "source": [
    "samsung = korean2date(samsung,'날짜')"
   ]
  },
  {
   "cell_type": "code",
   "execution_count": null,
   "id": "15b0d34a",
   "metadata": {},
   "outputs": [],
   "source": [
    "plt.figure(figsize=(20,12))\n",
    "sns.lineplot(data = samsung,x = '날짜',y='종가')\n",
    "sns.lineplot(data = samsung,x = '날짜',y='오픈')"
   ]
  }
 ],
 "metadata": {
  "kernelspec": {
   "display_name": "Python 3",
   "language": "python",
   "name": "python3"
  },
  "language_info": {
   "codemirror_mode": {
    "name": "ipython",
    "version": 3
   },
   "file_extension": ".py",
   "mimetype": "text/x-python",
   "name": "python",
   "nbconvert_exporter": "python",
   "pygments_lexer": "ipython3",
   "version": "3.8.8"
  }
 },
 "nbformat": 4,
 "nbformat_minor": 5
}
