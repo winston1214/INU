{
 "cells": [
  {
   "cell_type": "code",
   "execution_count": 1,
   "id": "53bb1165",
   "metadata": {},
   "outputs": [],
   "source": [
    "import pandas as pd\n",
    "import numpy as np\n",
    "import matplotlib.pyplot as plt\n",
    "import seaborn as sns\n",
    "import warnings\n",
    "warnings.filterwarnings('ignore')\n",
    "from sklearn.metrics import accuracy_score"
   ]
  },
  {
   "cell_type": "markdown",
   "id": "109c387d",
   "metadata": {},
   "source": [
    "# Samsung"
   ]
  },
  {
   "cell_type": "code",
   "execution_count": 17,
   "id": "aac1bd03",
   "metadata": {},
   "outputs": [],
   "source": [
    "samsung1 = pd.read_csv('merge_data/samsung_merge1.csv',parse_dates = ['date'])"
   ]
  },
  {
   "cell_type": "code",
   "execution_count": 18,
   "id": "87be8cb4",
   "metadata": {},
   "outputs": [],
   "source": [
    "samsung1 = samsung1.drop(0,axis=0).reset_index(drop=True) # 10월 31일 제외"
   ]
  },
  {
   "cell_type": "code",
   "execution_count": 21,
   "id": "fa8b1132",
   "metadata": {},
   "outputs": [],
   "source": [
    "remove_idx = []\n",
    "for idx,(c,u,d) in enumerate(zip(samsung1['samsung_change'],samsung1['up_count'],samsung1['down_count'])):\n",
    "    if c == '0.00%':\n",
    "        samsung1['up_count'][idx-1] += u\n",
    "        samsung1['down_count'][idx-1] += d\n",
    "        remove_idx.append(idx)\n",
    "samsung1 = samsung1.drop(remove_idx,axis=0)"
   ]
  },
  {
   "cell_type": "code",
   "execution_count": 24,
   "id": "d83a541e",
   "metadata": {},
   "outputs": [
    {
     "data": {
      "text/html": [
       "<div>\n",
       "<style scoped>\n",
       "    .dataframe tbody tr th:only-of-type {\n",
       "        vertical-align: middle;\n",
       "    }\n",
       "\n",
       "    .dataframe tbody tr th {\n",
       "        vertical-align: top;\n",
       "    }\n",
       "\n",
       "    .dataframe thead th {\n",
       "        text-align: right;\n",
       "    }\n",
       "</style>\n",
       "<table border=\"1\" class=\"dataframe\">\n",
       "  <thead>\n",
       "    <tr style=\"text-align: right;\">\n",
       "      <th></th>\n",
       "      <th>date</th>\n",
       "      <th>samsung_price</th>\n",
       "      <th>samsung_change</th>\n",
       "      <th>up_count</th>\n",
       "      <th>down_count</th>\n",
       "    </tr>\n",
       "  </thead>\n",
       "  <tbody>\n",
       "    <tr>\n",
       "      <th>0</th>\n",
       "      <td>2021-10-29</td>\n",
       "      <td>69800</td>\n",
       "      <td>0</td>\n",
       "      <td>1</td>\n",
       "      <td>3</td>\n",
       "    </tr>\n",
       "    <tr>\n",
       "      <th>1</th>\n",
       "      <td>2021-10-28</td>\n",
       "      <td>70700</td>\n",
       "      <td>1</td>\n",
       "      <td>7</td>\n",
       "      <td>0</td>\n",
       "    </tr>\n",
       "    <tr>\n",
       "      <th>2</th>\n",
       "      <td>2021-10-27</td>\n",
       "      <td>70100</td>\n",
       "      <td>0</td>\n",
       "      <td>1</td>\n",
       "      <td>2</td>\n",
       "    </tr>\n",
       "    <tr>\n",
       "      <th>3</th>\n",
       "      <td>2021-10-26</td>\n",
       "      <td>71100</td>\n",
       "      <td>1</td>\n",
       "      <td>0</td>\n",
       "      <td>1</td>\n",
       "    </tr>\n",
       "    <tr>\n",
       "      <th>4</th>\n",
       "      <td>2021-10-25</td>\n",
       "      <td>70200</td>\n",
       "      <td>0</td>\n",
       "      <td>5</td>\n",
       "      <td>6</td>\n",
       "    </tr>\n",
       "    <tr>\n",
       "      <th>...</th>\n",
       "      <td>...</td>\n",
       "      <td>...</td>\n",
       "      <td>...</td>\n",
       "      <td>...</td>\n",
       "      <td>...</td>\n",
       "    </tr>\n",
       "    <tr>\n",
       "      <th>243</th>\n",
       "      <td>2021-01-08</td>\n",
       "      <td>88800</td>\n",
       "      <td>1</td>\n",
       "      <td>20</td>\n",
       "      <td>9</td>\n",
       "    </tr>\n",
       "    <tr>\n",
       "      <th>244</th>\n",
       "      <td>2021-01-07</td>\n",
       "      <td>82900</td>\n",
       "      <td>1</td>\n",
       "      <td>13</td>\n",
       "      <td>13</td>\n",
       "    </tr>\n",
       "    <tr>\n",
       "      <th>245</th>\n",
       "      <td>2021-01-06</td>\n",
       "      <td>82200</td>\n",
       "      <td>0</td>\n",
       "      <td>15</td>\n",
       "      <td>9</td>\n",
       "    </tr>\n",
       "    <tr>\n",
       "      <th>246</th>\n",
       "      <td>2021-01-05</td>\n",
       "      <td>83900</td>\n",
       "      <td>1</td>\n",
       "      <td>22</td>\n",
       "      <td>5</td>\n",
       "    </tr>\n",
       "    <tr>\n",
       "      <th>247</th>\n",
       "      <td>2021-01-04</td>\n",
       "      <td>83000</td>\n",
       "      <td>1</td>\n",
       "      <td>19</td>\n",
       "      <td>10</td>\n",
       "    </tr>\n",
       "  </tbody>\n",
       "</table>\n",
       "<p>194 rows × 5 columns</p>\n",
       "</div>"
      ],
      "text/plain": [
       "          date  samsung_price  samsung_change  up_count  down_count\n",
       "0   2021-10-29          69800               0         1           3\n",
       "1   2021-10-28          70700               1         7           0\n",
       "2   2021-10-27          70100               0         1           2\n",
       "3   2021-10-26          71100               1         0           1\n",
       "4   2021-10-25          70200               0         5           6\n",
       "..         ...            ...             ...       ...         ...\n",
       "243 2021-01-08          88800               1        20           9\n",
       "244 2021-01-07          82900               1        13          13\n",
       "245 2021-01-06          82200               0        15           9\n",
       "246 2021-01-05          83900               1        22           5\n",
       "247 2021-01-04          83000               1        19          10\n",
       "\n",
       "[194 rows x 5 columns]"
      ]
     },
     "execution_count": 24,
     "metadata": {},
     "output_type": "execute_result"
    }
   ],
   "source": [
    "samsung1['samsung_change'] = samsung1['samsung_change'].apply(lambda x: 1 if float(x[:-1]) > 0 else 0)\n",
    "samsung1"
   ]
  },
  {
   "cell_type": "code",
   "execution_count": 162,
   "id": "cdeb3257",
   "metadata": {},
   "outputs": [],
   "source": [
    "train_x = samsung1[['samsung_price','up_count','down_count']]\n",
    "train_y = samsung1[['samsung_change']]"
   ]
  },
  {
   "cell_type": "code",
   "execution_count": 163,
   "id": "c7bdd5a5",
   "metadata": {},
   "outputs": [
    {
     "data": {
      "text/html": [
       "<div>\n",
       "<style scoped>\n",
       "    .dataframe tbody tr th:only-of-type {\n",
       "        vertical-align: middle;\n",
       "    }\n",
       "\n",
       "    .dataframe tbody tr th {\n",
       "        vertical-align: top;\n",
       "    }\n",
       "\n",
       "    .dataframe thead th {\n",
       "        text-align: right;\n",
       "    }\n",
       "</style>\n",
       "<table border=\"1\" class=\"dataframe\">\n",
       "  <thead>\n",
       "    <tr style=\"text-align: right;\">\n",
       "      <th></th>\n",
       "      <th>samsung_price</th>\n",
       "      <th>up_count</th>\n",
       "      <th>down_count</th>\n",
       "    </tr>\n",
       "  </thead>\n",
       "  <tbody>\n",
       "    <tr>\n",
       "      <th>0</th>\n",
       "      <td>69800</td>\n",
       "      <td>1</td>\n",
       "      <td>3</td>\n",
       "    </tr>\n",
       "    <tr>\n",
       "      <th>1</th>\n",
       "      <td>70700</td>\n",
       "      <td>7</td>\n",
       "      <td>0</td>\n",
       "    </tr>\n",
       "    <tr>\n",
       "      <th>2</th>\n",
       "      <td>70100</td>\n",
       "      <td>1</td>\n",
       "      <td>2</td>\n",
       "    </tr>\n",
       "    <tr>\n",
       "      <th>3</th>\n",
       "      <td>71100</td>\n",
       "      <td>0</td>\n",
       "      <td>1</td>\n",
       "    </tr>\n",
       "    <tr>\n",
       "      <th>4</th>\n",
       "      <td>70200</td>\n",
       "      <td>5</td>\n",
       "      <td>6</td>\n",
       "    </tr>\n",
       "    <tr>\n",
       "      <th>...</th>\n",
       "      <td>...</td>\n",
       "      <td>...</td>\n",
       "      <td>...</td>\n",
       "    </tr>\n",
       "    <tr>\n",
       "      <th>243</th>\n",
       "      <td>88800</td>\n",
       "      <td>20</td>\n",
       "      <td>9</td>\n",
       "    </tr>\n",
       "    <tr>\n",
       "      <th>244</th>\n",
       "      <td>82900</td>\n",
       "      <td>13</td>\n",
       "      <td>13</td>\n",
       "    </tr>\n",
       "    <tr>\n",
       "      <th>245</th>\n",
       "      <td>82200</td>\n",
       "      <td>15</td>\n",
       "      <td>9</td>\n",
       "    </tr>\n",
       "    <tr>\n",
       "      <th>246</th>\n",
       "      <td>83900</td>\n",
       "      <td>22</td>\n",
       "      <td>5</td>\n",
       "    </tr>\n",
       "    <tr>\n",
       "      <th>247</th>\n",
       "      <td>83000</td>\n",
       "      <td>19</td>\n",
       "      <td>10</td>\n",
       "    </tr>\n",
       "  </tbody>\n",
       "</table>\n",
       "<p>194 rows × 3 columns</p>\n",
       "</div>"
      ],
      "text/plain": [
       "     samsung_price  up_count  down_count\n",
       "0            69800         1           3\n",
       "1            70700         7           0\n",
       "2            70100         1           2\n",
       "3            71100         0           1\n",
       "4            70200         5           6\n",
       "..             ...       ...         ...\n",
       "243          88800        20           9\n",
       "244          82900        13          13\n",
       "245          82200        15           9\n",
       "246          83900        22           5\n",
       "247          83000        19          10\n",
       "\n",
       "[194 rows x 3 columns]"
      ]
     },
     "execution_count": 163,
     "metadata": {},
     "output_type": "execute_result"
    }
   ],
   "source": [
    "train_x"
   ]
  },
  {
   "cell_type": "code",
   "execution_count": 362,
   "id": "e2d191a3",
   "metadata": {},
   "outputs": [],
   "source": [
    "test = pd.read_csv('test_data/samsung_11.csv')\n",
    "test_investing = pd.read_excel('test_data/samsung_investing_test.xlsx')"
   ]
  },
  {
   "cell_type": "code",
   "execution_count": 363,
   "id": "b9d3da70",
   "metadata": {},
   "outputs": [],
   "source": [
    "from datetime import datetime"
   ]
  },
  {
   "cell_type": "code",
   "execution_count": 364,
   "id": "aedade28",
   "metadata": {},
   "outputs": [],
   "source": [
    "test['날짜'] = test['날짜'].apply(lambda x: datetime.strptime(x,'%Y년 %m월 %d일'))\n",
    "test_investing['date'] = pd.to_datetime(test_investing['date'])"
   ]
  },
  {
   "cell_type": "code",
   "execution_count": 365,
   "id": "e1cc249c",
   "metadata": {},
   "outputs": [],
   "source": [
    "test = test[['날짜','종가','변동 %']]\n",
    "test.columns = ['date','price','change']"
   ]
  },
  {
   "cell_type": "code",
   "execution_count": 368,
   "id": "5201905d",
   "metadata": {},
   "outputs": [],
   "source": [
    "test = pd.merge(test,test_investing,on='date')"
   ]
  },
  {
   "cell_type": "code",
   "execution_count": 51,
   "id": "4a9b1ef3",
   "metadata": {},
   "outputs": [],
   "source": [
    "train_x['react_score'] = train_x['up_count'] - train_x.down_count"
   ]
  },
  {
   "cell_type": "code",
   "execution_count": 54,
   "id": "897329a1",
   "metadata": {},
   "outputs": [],
   "source": [
    "train_x.drop(['up_count','down_count'],axis=1,inplace = True)"
   ]
  },
  {
   "cell_type": "code",
   "execution_count": 56,
   "id": "d6fe4a5c",
   "metadata": {},
   "outputs": [],
   "source": [
    "remove_idx = []\n",
    "for idx,(c,u,d) in enumerate(zip(test['change'],test['up_count'],test['down_count'])):\n",
    "    if c == '0.00%':\n",
    "        test['up_count'][idx-1] += u\n",
    "        test['down_count'][idx-1] += d\n",
    "        remove_idx.append(idx)\n",
    "test = test.drop(remove_idx,axis=0)"
   ]
  },
  {
   "cell_type": "code",
   "execution_count": 58,
   "id": "69ad559a",
   "metadata": {},
   "outputs": [],
   "source": [
    "test['change'] = test['change'].apply(lambda x: 1 if float(x[:-1])>0 else 0)"
   ]
  },
  {
   "cell_type": "code",
   "execution_count": 124,
   "id": "a2df6492",
   "metadata": {},
   "outputs": [],
   "source": [
    "test['react_score'] = test.up_count - test.down_count"
   ]
  },
  {
   "cell_type": "code",
   "execution_count": 129,
   "id": "77e38527",
   "metadata": {},
   "outputs": [
    {
     "data": {
      "text/html": [
       "<div>\n",
       "<style scoped>\n",
       "    .dataframe tbody tr th:only-of-type {\n",
       "        vertical-align: middle;\n",
       "    }\n",
       "\n",
       "    .dataframe tbody tr th {\n",
       "        vertical-align: top;\n",
       "    }\n",
       "\n",
       "    .dataframe thead th {\n",
       "        text-align: right;\n",
       "    }\n",
       "</style>\n",
       "<table border=\"1\" class=\"dataframe\">\n",
       "  <thead>\n",
       "    <tr style=\"text-align: right;\">\n",
       "      <th></th>\n",
       "      <th>price</th>\n",
       "      <th>react_score</th>\n",
       "    </tr>\n",
       "  </thead>\n",
       "  <tbody>\n",
       "    <tr>\n",
       "      <th>0</th>\n",
       "      <td>71,400</td>\n",
       "      <td>6</td>\n",
       "    </tr>\n",
       "    <tr>\n",
       "      <th>2</th>\n",
       "      <td>70,600</td>\n",
       "      <td>-1</td>\n",
       "    </tr>\n",
       "    <tr>\n",
       "      <th>3</th>\n",
       "      <td>69,900</td>\n",
       "      <td>1</td>\n",
       "    </tr>\n",
       "    <tr>\n",
       "      <th>4</th>\n",
       "      <td>70,200</td>\n",
       "      <td>0</td>\n",
       "    </tr>\n",
       "    <tr>\n",
       "      <th>5</th>\n",
       "      <td>70,500</td>\n",
       "      <td>0</td>\n",
       "    </tr>\n",
       "    <tr>\n",
       "      <th>6</th>\n",
       "      <td>70,600</td>\n",
       "      <td>3</td>\n",
       "    </tr>\n",
       "    <tr>\n",
       "      <th>8</th>\n",
       "      <td>70,200</td>\n",
       "      <td>-2</td>\n",
       "    </tr>\n",
       "    <tr>\n",
       "      <th>9</th>\n",
       "      <td>70,600</td>\n",
       "      <td>1</td>\n",
       "    </tr>\n",
       "    <tr>\n",
       "      <th>10</th>\n",
       "      <td>70,400</td>\n",
       "      <td>-2</td>\n",
       "    </tr>\n",
       "    <tr>\n",
       "      <th>11</th>\n",
       "      <td>71,500</td>\n",
       "      <td>3</td>\n",
       "    </tr>\n",
       "    <tr>\n",
       "      <th>12</th>\n",
       "      <td>69,900</td>\n",
       "      <td>4</td>\n",
       "    </tr>\n",
       "  </tbody>\n",
       "</table>\n",
       "</div>"
      ],
      "text/plain": [
       "     price  react_score\n",
       "0   71,400            6\n",
       "2   70,600           -1\n",
       "3   69,900            1\n",
       "4   70,200            0\n",
       "5   70,500            0\n",
       "6   70,600            3\n",
       "8   70,200           -2\n",
       "9   70,600            1\n",
       "10  70,400           -2\n",
       "11  71,500            3\n",
       "12  69,900            4"
      ]
     },
     "execution_count": 129,
     "metadata": {},
     "output_type": "execute_result"
    }
   ],
   "source": [
    "test[['price','react_score']]"
   ]
  },
  {
   "cell_type": "code",
   "execution_count": 137,
   "id": "ecc2496a",
   "metadata": {},
   "outputs": [],
   "source": [
    "test['price'] = test['price'].apply(lambda x: float(x.replace(',','')))"
   ]
  },
  {
   "cell_type": "code",
   "execution_count": 172,
   "id": "01aeddcd",
   "metadata": {},
   "outputs": [],
   "source": [
    "test_x = test[['price','up_count','down_count']]\n",
    "test_y = test[['change']]"
   ]
  },
  {
   "cell_type": "code",
   "execution_count": null,
   "id": "4f2a2edb",
   "metadata": {},
   "outputs": [],
   "source": [
    "# train_x : price,up_cnt,-down_cnt"
   ]
  },
  {
   "cell_type": "code",
   "execution_count": 214,
   "id": "851a357f",
   "metadata": {},
   "outputs": [
    {
     "name": "stdout",
     "output_type": "stream",
     "text": [
      "0.6363636363636364\n",
      "[1 0 0 0 0 0 0 0 0 0 1]\n"
     ]
    }
   ],
   "source": [
    "from sklearn.ensemble import RandomForestClassifier\n",
    "rf = RandomForestClassifier(random_state = 42)\n",
    "rf.fit(train_x,train_y)\n",
    "pred = rf.predict(test_x)\n",
    "print(accuracy_score(test_y,pred))"
   ]
  },
  {
   "cell_type": "code",
   "execution_count": 217,
   "id": "9c3c164c",
   "metadata": {},
   "outputs": [
    {
     "data": {
      "text/plain": [
       "Text(0.5, 1.0, 'Smasung predict(RandomForest)')"
      ]
     },
     "execution_count": 217,
     "metadata": {},
     "output_type": "execute_result"
    },
    {
     "data": {
      "text/plain": [
       "<Figure size 864x576 with 0 Axes>"
      ]
     },
     "metadata": {},
     "output_type": "display_data"
    },
    {
     "data": {
      "image/png": "[encoded data removed]",
      "text/plain": [
       "<Figure size 432x288 with 2 Axes>"
      ]
     },
     "metadata": {
      "needs_background": "light"
     },
     "output_type": "display_data"
    }
   ],
   "source": [
    "from sklearn.metrics import plot_confusion_matrix\n",
    "label = ['up','down']\n",
    "\n",
    "\n",
    "plt.figure(figsize = (12,8))\n",
    "plot = plot_confusion_matrix(rf, # 분류 모델\n",
    "                             test_x, test_y, # 예측 데이터와 예측값의 정답(y_true)\n",
    "                             display_labels=label,cmap = plt.get_cmap('Blues'))\n",
    "plt.title('Smasung predict(RandomForest)')\n"
   ]
  },
  {
   "cell_type": "code",
   "execution_count": 216,
   "id": "c5d485ce",
   "metadata": {},
   "outputs": [
    {
     "name": "stdout",
     "output_type": "stream",
     "text": [
      "0.45454545454545453\n"
     ]
    }
   ],
   "source": [
    "from lightgbm import LGBMClassifier\n",
    "lgbm = LGBMClassifier(random_state = 42)\n",
    "lgbm.fit(train_x,train_y)\n",
    "pred = lgbm.predict(test_x)\n",
    "print(accuracy_score(test_y,pred))\n"
   ]
  },
  {
   "cell_type": "code",
   "execution_count": 219,
   "id": "cedc5853",
   "metadata": {},
   "outputs": [
    {
     "data": {
      "text/plain": [
       "Text(0.5, 1.0, 'Smasung predict(LGBM)')"
      ]
     },
     "execution_count": 219,
     "metadata": {},
     "output_type": "execute_result"
    },
    {
     "data": {
      "text/plain": [
       "<Figure size 864x576 with 0 Axes>"
      ]
     },
     "metadata": {},
     "output_type": "display_data"
    },
    {
     "data": {
      "image/png": "[encoded data removed]",
      "text/plain": [
       "<Figure size 432x288 with 2 Axes>"
      ]
     },
     "metadata": {
      "needs_background": "light"
     },
     "output_type": "display_data"
    }
   ],
   "source": [
    "from sklearn.metrics import plot_confusion_matrix\n",
    "label = ['up','down']\n",
    "\n",
    "\n",
    "plt.figure(figsize = (12,8))\n",
    "plot = plot_confusion_matrix(lgbm, # 분류 모델\n",
    "                             test_x, test_y, # 예측 데이터와 예측값의 정답(y_true)\n",
    "                             display_labels=label,cmap = plt.get_cmap('Blues'))\n",
    "plt.title('Smasung predict(LGBM)')\n"
   ]
  },
  {
   "cell_type": "code",
   "execution_count": 184,
   "id": "86932fb0",
   "metadata": {},
   "outputs": [],
   "source": [
    "samsung1['react_score'] = samsung1['up_count'] - samsung1['down_count']"
   ]
  },
  {
   "cell_type": "code",
   "execution_count": 157,
   "id": "9a1f4f1f",
   "metadata": {},
   "outputs": [
    {
     "data": {
      "text/plain": [
       "Text(0.5, 1.0, 'Smasung predict(RandomForest)')"
      ]
     },
     "execution_count": 157,
     "metadata": {},
     "output_type": "execute_result"
    },
    {
     "data": {
      "text/plain": [
       "<Figure size 864x576 with 0 Axes>"
      ]
     },
     "metadata": {},
     "output_type": "display_data"
    },
    {
     "data": {
      "image/png": "[encoded data removed]",
      "text/plain": [
       "<Figure size 432x288 with 2 Axes>"
      ]
     },
     "metadata": {
      "needs_background": "light"
     },
     "output_type": "display_data"
    }
   ],
   "source": [
    "from sklearn.metrics import plot_confusion_matrix\n",
    "label = ['up','down']\n",
    "\n",
    "\n",
    "plt.figure(figsize = (12,8))\n",
    "plot = plot_confusion_matrix(rf, # 분류 모델\n",
    "                             test_x, test_y, # 예측 데이터와 예측값의 정답(y_true)\n",
    "                             display_labels=label,cmap = plt.get_cmap('Blues'))\n",
    "plt.title('Smasung predict(RandomForest)')"
   ]
  },
  {
   "cell_type": "markdown",
   "id": "91234ad5",
   "metadata": {},
   "source": [
    "## 점수로"
   ]
  },
  {
   "cell_type": "code",
   "execution_count": 221,
   "id": "efb832da",
   "metadata": {},
   "outputs": [],
   "source": [
    "train_x = samsung1[['samsung_price','react_score']]\n",
    "test_x = test[['price','react_score']]"
   ]
  },
  {
   "cell_type": "code",
   "execution_count": 223,
   "id": "79034868",
   "metadata": {},
   "outputs": [
    {
     "name": "stdout",
     "output_type": "stream",
     "text": [
      "0.2727272727272727\n"
     ]
    }
   ],
   "source": [
    "rf = RandomForestClassifier(random_state = 42)\n",
    "rf.fit(train_x,train_y)\n",
    "pred = rf.predict(test_x)\n",
    "print(accuracy_score(test_y,pred))"
   ]
  },
  {
   "cell_type": "code",
   "execution_count": 224,
   "id": "acd7f93a",
   "metadata": {},
   "outputs": [
    {
     "name": "stdout",
     "output_type": "stream",
     "text": [
      "0.5454545454545454\n"
     ]
    }
   ],
   "source": [
    "lgbm = LGBMClassifier(random_state = 42)\n",
    "lgbm.fit(train_x,train_y)\n",
    "pred = lgbm.predict(test_x)\n",
    "print(accuracy_score(test_y,pred))"
   ]
  },
  {
   "cell_type": "code",
   "execution_count": 192,
   "id": "e35fa023",
   "metadata": {},
   "outputs": [],
   "source": [
    "from sklearn.preprocessing import StandardScaler\n",
    "samsung2 = samsung1.copy()\n",
    "scaler = StandardScaler()\n",
    "samsung2['samsung_price'] = scaler.fit_transform(samsung1['samsung_price'].values.reshape(-1,1))"
   ]
  },
  {
   "cell_type": "code",
   "execution_count": 195,
   "id": "746dc86a",
   "metadata": {},
   "outputs": [],
   "source": [
    "test2 = test.copy()\n",
    "test2['price'] = scaler.fit_transform(test['price'].values.reshape(-1,1))"
   ]
  },
  {
   "cell_type": "code",
   "execution_count": 200,
   "id": "c5a7974f",
   "metadata": {},
   "outputs": [],
   "source": [
    "train_x3 = samsung2[['samsung_price','up_count','down_count']]\n",
    "test_x3 = test2[['price','up_count','down_count']]"
   ]
  },
  {
   "cell_type": "code",
   "execution_count": 201,
   "id": "c680a7cc",
   "metadata": {},
   "outputs": [
    {
     "data": {
      "text/plain": [
       "0.7272727272727273"
      ]
     },
     "execution_count": 201,
     "metadata": {},
     "output_type": "execute_result"
    }
   ],
   "source": [
    "rf.fit(train_x3,train_y)\n",
    "accuracy_score(test_y,rf.predict(test_x3))"
   ]
  },
  {
   "cell_type": "code",
   "execution_count": 225,
   "id": "1e247811",
   "metadata": {},
   "outputs": [
    {
     "data": {
      "text/plain": [
       "0.5454545454545454"
      ]
     },
     "execution_count": 225,
     "metadata": {},
     "output_type": "execute_result"
    }
   ],
   "source": [
    "lgbm.fit(train_x3,train_y)\n",
    "accuracy_score(test_y,lgbm.predict(test_x3))"
   ]
  },
  {
   "cell_type": "code",
   "execution_count": 206,
   "id": "5166c908",
   "metadata": {},
   "outputs": [],
   "source": [
    "x_train = samsung2['samsung_price'].values.reshape(-1,1)\n",
    "x_test = test2['price'].values.reshape(-1,1)"
   ]
  },
  {
   "cell_type": "code",
   "execution_count": 226,
   "id": "a78a0093",
   "metadata": {},
   "outputs": [
    {
     "data": {
      "text/plain": [
       "0.36363636363636365"
      ]
     },
     "execution_count": 226,
     "metadata": {},
     "output_type": "execute_result"
    }
   ],
   "source": [
    "rf.fit(x_train,train_y)\n",
    "accuracy_score(test_y,rf.predict(x_test))"
   ]
  },
  {
   "cell_type": "code",
   "execution_count": 227,
   "id": "62ec21c5",
   "metadata": {},
   "outputs": [
    {
     "data": {
      "text/plain": [
       "0.7272727272727273"
      ]
     },
     "execution_count": 227,
     "metadata": {},
     "output_type": "execute_result"
    }
   ],
   "source": [
    "lgbm.fit(x_train,train_y)\n",
    "accuracy_score(test_y,lgbm.predict(x_test))"
   ]
  },
  {
   "cell_type": "code",
   "execution_count": 228,
   "id": "164b06b1",
   "metadata": {},
   "outputs": [],
   "source": [
    "x_train2 = samsung2[['samsung_price','react_score']]\n",
    "x_test2 = test2[['price','react_score']]"
   ]
  },
  {
   "cell_type": "code",
   "execution_count": 230,
   "id": "1e1fb4d0",
   "metadata": {},
   "outputs": [
    {
     "data": {
      "text/plain": [
       "0.6363636363636364"
      ]
     },
     "execution_count": 230,
     "metadata": {},
     "output_type": "execute_result"
    }
   ],
   "source": [
    "rf.fit(x_train2,train_y)\n",
    "accuracy_score(test_y,rf.predict(x_test2))"
   ]
  },
  {
   "cell_type": "code",
   "execution_count": 232,
   "id": "1760474c",
   "metadata": {},
   "outputs": [
    {
     "data": {
      "text/plain": [
       "0.7272727272727273"
      ]
     },
     "execution_count": 232,
     "metadata": {},
     "output_type": "execute_result"
    }
   ],
   "source": [
    "lgbm.fit(x_train2,train_y)\n",
    "accuracy_score(test_y,lgbm.predict(x_test2))"
   ]
  },
  {
   "cell_type": "code",
   "execution_count": 233,
   "id": "b66fcbcb",
   "metadata": {},
   "outputs": [],
   "source": [
    "x_train3 = samsung2[['samsung_price','up_count','down_count']]\n",
    "x_test3 = test2[['price','up_count','down_count']]"
   ]
  },
  {
   "cell_type": "code",
   "execution_count": 235,
   "id": "b5f330b1",
   "metadata": {},
   "outputs": [],
   "source": [
    "x_train3['down_count'] = -x_train3['down_count']\n",
    "x_test3['down_count'] = x_test3['down_count']"
   ]
  },
  {
   "cell_type": "code",
   "execution_count": 236,
   "id": "50119eb4",
   "metadata": {},
   "outputs": [
    {
     "data": {
      "text/plain": [
       "0.7272727272727273"
      ]
     },
     "execution_count": 236,
     "metadata": {},
     "output_type": "execute_result"
    }
   ],
   "source": [
    "rf.fit(x_train3,train_y)\n",
    "accuracy_score(test_y,rf.predict(x_test3))"
   ]
  },
  {
   "cell_type": "code",
   "execution_count": 237,
   "id": "583b45bb",
   "metadata": {},
   "outputs": [
    {
     "data": {
      "text/plain": [
       "0.6363636363636364"
      ]
     },
     "execution_count": 237,
     "metadata": {},
     "output_type": "execute_result"
    }
   ],
   "source": [
    "lgbm.fit(x_train3,train_y)\n",
    "accuracy_score(test_y,lgbm.predict(x_test3))"
   ]
  },
  {
   "cell_type": "markdown",
   "id": "18c45de5",
   "metadata": {},
   "source": [
    "### 뉴스 반응 추가"
   ]
  },
  {
   "cell_type": "code",
   "execution_count": 348,
   "id": "73749714",
   "metadata": {},
   "outputs": [],
   "source": [
    "news_react = pd.read_csv('bert_data/final_bert_samsung.csv',parse_dates=['date'])"
   ]
  },
  {
   "cell_type": "code",
   "execution_count": 349,
   "id": "e7f963dc",
   "metadata": {},
   "outputs": [],
   "source": [
    "news_react.columns = ['date','news_up','news_down']"
   ]
  },
  {
   "cell_type": "code",
   "execution_count": 341,
   "id": "65da009e",
   "metadata": {},
   "outputs": [],
   "source": [
    "news_react_test = pd.read_csv('bert_data/test/final_samsung_bert_test.csv')"
   ]
  },
  {
   "cell_type": "code",
   "execution_count": 356,
   "id": "7723c540",
   "metadata": {},
   "outputs": [],
   "source": [
    "samsung_merge = pd.read_csv('merge_data/samsung_merge1.csv',parse_dates = ['date'])"
   ]
  },
  {
   "cell_type": "code",
   "execution_count": 360,
   "id": "a0072433",
   "metadata": {},
   "outputs": [],
   "source": [
    "samsung = pd.merge(samsung_merge,news_react,on='date')\n"
   ]
  },
  {
   "cell_type": "code",
   "execution_count": 372,
   "id": "54568e6b",
   "metadata": {},
   "outputs": [],
   "source": [
    "samsung['samsung_change'] = samsung['samsung_change'].apply(lambda x: float(x[:-1]))\n",
    "samsung.to_csv('final_data/samsung_train.csv',index=False)"
   ]
  },
  {
   "cell_type": "code",
   "execution_count": 375,
   "id": "67e215b6",
   "metadata": {},
   "outputs": [],
   "source": [
    "news_react_test.columns = ['date','news_up_count','news_down_count']"
   ]
  },
  {
   "cell_type": "code",
   "execution_count": 377,
   "id": "19825ec0",
   "metadata": {},
   "outputs": [],
   "source": [
    "test['date'] = pd.to_datetime(test['date'])"
   ]
  },
  {
   "cell_type": "code",
   "execution_count": 381,
   "id": "19fb9e4a",
   "metadata": {},
   "outputs": [],
   "source": [
    "news_react_test['date'] = pd.to_datetime(news_react_test['date'])"
   ]
  },
  {
   "cell_type": "code",
   "execution_count": null,
   "id": "6ec356f5",
   "metadata": {},
   "outputs": [],
   "source": [
    "samsung_test = pd.merge(test,news_react_test,on='date',how='left')\n",
    "samsung_test['change'] = samsung_test['change'].apply(lambda x: float(x[:-1]))"
   ]
  },
  {
   "cell_type": "code",
   "execution_count": 388,
   "id": "2769e225",
   "metadata": {},
   "outputs": [],
   "source": [
    "samsung_test['price'] = samsung_test['price'].apply(lambda x: float(x.replace(',','')))"
   ]
  },
  {
   "cell_type": "code",
   "execution_count": 390,
   "id": "b2f90f06",
   "metadata": {},
   "outputs": [],
   "source": [
    "samsung_test.to_csv('final_data/samsung_test.csv',index=False)"
   ]
  },
  {
   "cell_type": "markdown",
   "id": "5cfa846d",
   "metadata": {},
   "source": [
    "## Naver"
   ]
  },
  {
   "cell_type": "code",
   "execution_count": 240,
   "id": "993c3577",
   "metadata": {},
   "outputs": [],
   "source": [
    "naver_stock = pd.read_csv('stock_price/pre_naver_1_10.csv',parse_dates = ['date'])\n",
    "naver_stock['naver_change'] = naver_stock['naver_change'].apply(lambda x: float(x[:-1]))\n",
    "remove_idx = []\n",
    "for idx,i in enumerate(naver_stock['naver_change']):\n",
    "    if i == 0:\n",
    "        remove_idx.append(idx)\n",
    "naver_stock.drop(remove_idx,axis=0,inplace=True)"
   ]
  },
  {
   "cell_type": "code",
   "execution_count": 242,
   "id": "a6281e38",
   "metadata": {},
   "outputs": [],
   "source": [
    "naver_stock['naver_change'] = naver_stock['naver_change'].apply(lambda x: 1 if x>0 else 0)"
   ]
  },
  {
   "cell_type": "code",
   "execution_count": 265,
   "id": "916935a6",
   "metadata": {},
   "outputs": [],
   "source": [
    "test_naver_stock = pd.read_csv('test_data/pre_naver_11.csv',parse_dates=['date'])"
   ]
  },
  {
   "cell_type": "code",
   "execution_count": 268,
   "id": "caa814a1",
   "metadata": {},
   "outputs": [
    {
     "data": {
      "text/plain": [
       "<AxesSubplot:xlabel='date', ylabel='price'>"
      ]
     },
     "execution_count": 268,
     "metadata": {},
     "output_type": "execute_result"
    },
    {
     "data": {
      "image/png": "[encoded data removed]",
      "text/plain": [
       "<Figure size 864x576 with 1 Axes>"
      ]
     },
     "metadata": {
      "needs_background": "light"
     },
     "output_type": "display_data"
    }
   ],
   "source": [
    "plt.figure(figsize=(12,8))\n",
    "sns.lineplot(test_naver_stock['date'],test_naver_stock['price'])"
   ]
  },
  {
   "cell_type": "code",
   "execution_count": 250,
   "id": "351b5a00",
   "metadata": {},
   "outputs": [],
   "source": [
    "test_naver_stock['change'] = test_naver_stock['change'].apply(lambda x: float(x[:-1]))\n",
    "remove_idx = []\n",
    "for idx,i in enumerate(test_naver_stock['change']):\n",
    "    if i == 0:\n",
    "        remove_idx.append(idx)\n",
    "test_naver_stock.drop(remove_idx,axis=0,inplace=True)"
   ]
  },
  {
   "cell_type": "code",
   "execution_count": 252,
   "id": "cdc8163d",
   "metadata": {},
   "outputs": [],
   "source": [
    "test_naver_stock['change'] = test_naver_stock['change'].apply(lambda x: 1 if x>0 else 0)"
   ]
  },
  {
   "cell_type": "code",
   "execution_count": 266,
   "id": "1794da64",
   "metadata": {},
   "outputs": [],
   "source": [
    "test_naver_stock['price'] = test_naver_stock['price'].apply(lambda x: float(x.replace(',','')))"
   ]
  },
  {
   "cell_type": "code",
   "execution_count": 253,
   "id": "9f996186",
   "metadata": {},
   "outputs": [],
   "source": [
    "# 가격만"
   ]
  },
  {
   "cell_type": "code",
   "execution_count": 262,
   "id": "05b69e5b",
   "metadata": {},
   "outputs": [],
   "source": [
    "train_x = naver_stock['naver_price'].values.reshape(-1,1)\n",
    "train_y = naver_stock['naver_change']\n",
    "test_x = test_naver_stock['price'].values.reshape(-1,1)\n",
    "test_y = test_naver_stock['change']"
   ]
  },
  {
   "cell_type": "code",
   "execution_count": 263,
   "id": "4c19c211",
   "metadata": {},
   "outputs": [
    {
     "data": {
      "text/plain": [
       "0.5454545454545454"
      ]
     },
     "execution_count": 263,
     "metadata": {},
     "output_type": "execute_result"
    }
   ],
   "source": [
    "rf = RandomForestClassifier(random_state = 42)\n",
    "rf.fit(train_x,train_y)\n",
    "accuracy_score(test_y,rf.predict(test_x))"
   ]
  },
  {
   "cell_type": "code",
   "execution_count": 264,
   "id": "5aa73067",
   "metadata": {},
   "outputs": [
    {
     "data": {
      "text/plain": [
       "0.5454545454545454"
      ]
     },
     "execution_count": 264,
     "metadata": {},
     "output_type": "execute_result"
    }
   ],
   "source": [
    "lgbm = LGBMClassifier(random_state = 42)\n",
    "lgbm.fit(train_x,train_y)\n",
    "accuracy_score(test_y,lgbm.predict(test_x))"
   ]
  },
  {
   "cell_type": "code",
   "execution_count": 269,
   "id": "4c377574",
   "metadata": {},
   "outputs": [],
   "source": [
    "scale_train_x = StandardScaler().fit_transform(train_x)\n",
    "scale_test_x = StandardScaler().fit_transform(test_x)"
   ]
  },
  {
   "cell_type": "code",
   "execution_count": 270,
   "id": "e7295789",
   "metadata": {},
   "outputs": [
    {
     "data": {
      "text/plain": [
       "0.7272727272727273"
      ]
     },
     "execution_count": 270,
     "metadata": {},
     "output_type": "execute_result"
    }
   ],
   "source": [
    "rf = RandomForestClassifier(random_state = 42)\n",
    "rf.fit(scale_train_x,train_y)\n",
    "accuracy_score(test_y,rf.predict(scale_test_x))"
   ]
  },
  {
   "cell_type": "code",
   "execution_count": 271,
   "id": "73176105",
   "metadata": {},
   "outputs": [
    {
     "data": {
      "text/plain": [
       "0.9090909090909091"
      ]
     },
     "execution_count": 271,
     "metadata": {},
     "output_type": "execute_result"
    }
   ],
   "source": [
    "lgbm = LGBMClassifier(random_state = 42)\n",
    "lgbm.fit(scale_train_x,train_y)\n",
    "accuracy_score(test_y,lgbm.predict(scale_test_x))"
   ]
  },
  {
   "cell_type": "code",
   "execution_count": 275,
   "id": "d908f46b",
   "metadata": {},
   "outputs": [
    {
     "data": {
      "text/plain": [
       "229"
      ]
     },
     "execution_count": 275,
     "metadata": {},
     "output_type": "execute_result"
    }
   ],
   "source": [
    "naver_investing = pd.read_csv('investing/nhn-corp_investing.csv')\n",
    "naver_investing.up_count.sum()"
   ]
  },
  {
   "cell_type": "code",
   "execution_count": 276,
   "id": "b24ae115",
   "metadata": {},
   "outputs": [
    {
     "data": {
      "text/plain": [
       "77"
      ]
     },
     "execution_count": 276,
     "metadata": {},
     "output_type": "execute_result"
    }
   ],
   "source": [
    "naver_investing.down_count.sum()"
   ]
  },
  {
   "cell_type": "code",
   "execution_count": 279,
   "id": "428b2752",
   "metadata": {},
   "outputs": [],
   "source": [
    "def show_height(ax,fontsize=20):\n",
    "    for p in ax.patches:\n",
    "        height = p.get_height()\n",
    "        ax.text(p.get_x()+p.get_width()/2., height + 0.1,height ,ha=\"center\",fontsize=fontsize)"
   ]
  },
  {
   "cell_type": "code",
   "execution_count": 281,
   "id": "8d9d02a6",
   "metadata": {},
   "outputs": [
    {
     "data": {
      "image/png": "[encoded data removed]",
      "text/plain": [
       "<Figure size 864x576 with 1 Axes>"
      ]
     },
     "metadata": {
      "needs_background": "light"
     },
     "output_type": "display_data"
    }
   ],
   "source": [
    "plt.figure(figsize=(12,8))\n",
    "ax = sns.barplot(['up','down'],[naver_investing.up_count.sum(),naver_investing.down_count.sum()])\n",
    "show_height(ax)"
   ]
  },
  {
   "cell_type": "code",
   "execution_count": 286,
   "id": "1d495dcb",
   "metadata": {},
   "outputs": [],
   "source": [
    "naver_investing['date'] = pd.to_datetime(naver_investing['date'])"
   ]
  },
  {
   "cell_type": "code",
   "execution_count": 393,
   "id": "805c3058",
   "metadata": {},
   "outputs": [],
   "source": [
    "naver_stock = pd.read_csv('stock_price/pre_naver_1_10.csv',parse_dates = ['date'])\n",
    "merge_naver = pd.merge(naver_stock,naver_investing,on='date',how='left')"
   ]
  },
  {
   "cell_type": "code",
   "execution_count": 305,
   "id": "410db8cb",
   "metadata": {},
   "outputs": [],
   "source": [
    "merge_naver['down_count'] = -merge_naver['down_count']"
   ]
  },
  {
   "cell_type": "code",
   "execution_count": 308,
   "id": "d8028209",
   "metadata": {},
   "outputs": [],
   "source": [
    "remove_idx = []\n",
    "for idx,i in enumerate(merge_naver['naver_change']):\n",
    "    if float(i[:-1]) == 0:\n",
    "        remove_idx.append(idx)\n",
    "merge_naver.drop(remove_idx,axis=0,inplace=True)"
   ]
  },
  {
   "cell_type": "code",
   "execution_count": 311,
   "id": "065dd231",
   "metadata": {},
   "outputs": [
    {
     "data": {
      "text/plain": [
       "True"
      ]
     },
     "execution_count": 311,
     "metadata": {},
     "output_type": "execute_result"
    }
   ],
   "source": [
    "train_x = merge_naver[['naver_price','up_count','down_count']]\n",
    "len(train_x) == len(train_y)"
   ]
  },
  {
   "cell_type": "code",
   "execution_count": 312,
   "id": "cc7ca145",
   "metadata": {},
   "outputs": [],
   "source": [
    "test_investing = pd.read_excel('test_data/naver_investing_test.xlsx',parse_dates = ['date'])"
   ]
  },
  {
   "cell_type": "code",
   "execution_count": 316,
   "id": "a171a3c5",
   "metadata": {},
   "outputs": [],
   "source": [
    "test_naver = pd.merge(test_naver_stock,test_investing,on='date')"
   ]
  },
  {
   "cell_type": "code",
   "execution_count": 318,
   "id": "6f9b19da",
   "metadata": {},
   "outputs": [],
   "source": [
    "remove_idx = []\n",
    "for idx,i in enumerate(test_naver['change']):\n",
    "    if float(i[:-1]) == 0:\n",
    "        remove_idx.append(idx)\n",
    "test_naver.drop(remove_idx,axis=0,inplace=True)"
   ]
  },
  {
   "cell_type": "code",
   "execution_count": 321,
   "id": "eea34fe8",
   "metadata": {},
   "outputs": [],
   "source": [
    "test_x = test_naver[['price','up_count','down_count']]"
   ]
  },
  {
   "cell_type": "code",
   "execution_count": 322,
   "id": "eda06004",
   "metadata": {},
   "outputs": [
    {
     "data": {
      "text/plain": [
       "0.6363636363636364"
      ]
     },
     "execution_count": 322,
     "metadata": {},
     "output_type": "execute_result"
    }
   ],
   "source": [
    "rf.fit(train_x,train_y)\n",
    "accuracy_score(test_y,rf.predict(test_x))"
   ]
  },
  {
   "cell_type": "code",
   "execution_count": 323,
   "id": "2b9b4438",
   "metadata": {},
   "outputs": [
    {
     "data": {
      "text/plain": [
       "0.5454545454545454"
      ]
     },
     "execution_count": 323,
     "metadata": {},
     "output_type": "execute_result"
    }
   ],
   "source": [
    "lgbm.fit(train_x,train_y)\n",
    "accuracy_score(test_y,lgbm.predict(test_x))"
   ]
  },
  {
   "cell_type": "code",
   "execution_count": 325,
   "id": "9fd402b4",
   "metadata": {},
   "outputs": [],
   "source": [
    "scale_train_x = StandardScaler().fit_transform(train_x)\n",
    "scale_test_x = StandardScaler().fit_transform(test_x)"
   ]
  },
  {
   "cell_type": "code",
   "execution_count": 326,
   "id": "7d742c70",
   "metadata": {},
   "outputs": [
    {
     "data": {
      "text/plain": [
       "0.5454545454545454"
      ]
     },
     "execution_count": 326,
     "metadata": {},
     "output_type": "execute_result"
    }
   ],
   "source": [
    "rf.fit(scale_train_x,train_y)\n",
    "accuracy_score(test_y,rf.predict(scale_test_x))"
   ]
  },
  {
   "cell_type": "code",
   "execution_count": 327,
   "id": "571a00ab",
   "metadata": {},
   "outputs": [
    {
     "data": {
      "text/plain": [
       "0.5454545454545454"
      ]
     },
     "execution_count": 327,
     "metadata": {},
     "output_type": "execute_result"
    }
   ],
   "source": [
    "lgbm.fit(scale_train_x,train_y)\n",
    "accuracy_score(test_y,lgbm.predict(scale_test_x))"
   ]
  },
  {
   "cell_type": "code",
   "execution_count": 329,
   "id": "49a7ded3",
   "metadata": {},
   "outputs": [
    {
     "data": {
      "text/html": [
       "<div>\n",
       "<style scoped>\n",
       "    .dataframe tbody tr th:only-of-type {\n",
       "        vertical-align: middle;\n",
       "    }\n",
       "\n",
       "    .dataframe tbody tr th {\n",
       "        vertical-align: top;\n",
       "    }\n",
       "\n",
       "    .dataframe thead th {\n",
       "        text-align: right;\n",
       "    }\n",
       "</style>\n",
       "<table border=\"1\" class=\"dataframe\">\n",
       "  <thead>\n",
       "    <tr style=\"text-align: right;\">\n",
       "      <th></th>\n",
       "      <th>price</th>\n",
       "      <th>up_count</th>\n",
       "      <th>down_count</th>\n",
       "    </tr>\n",
       "  </thead>\n",
       "  <tbody>\n",
       "    <tr>\n",
       "      <th>0</th>\n",
       "      <td>411000.0</td>\n",
       "      <td>0</td>\n",
       "      <td>0</td>\n",
       "    </tr>\n",
       "    <tr>\n",
       "      <th>2</th>\n",
       "      <td>409000.0</td>\n",
       "      <td>0</td>\n",
       "      <td>0</td>\n",
       "    </tr>\n",
       "    <tr>\n",
       "      <th>3</th>\n",
       "      <td>407000.0</td>\n",
       "      <td>0</td>\n",
       "      <td>0</td>\n",
       "    </tr>\n",
       "    <tr>\n",
       "      <th>4</th>\n",
       "      <td>414500.0</td>\n",
       "      <td>0</td>\n",
       "      <td>0</td>\n",
       "    </tr>\n",
       "    <tr>\n",
       "      <th>5</th>\n",
       "      <td>417500.0</td>\n",
       "      <td>0</td>\n",
       "      <td>0</td>\n",
       "    </tr>\n",
       "    <tr>\n",
       "      <th>6</th>\n",
       "      <td>408000.0</td>\n",
       "      <td>1</td>\n",
       "      <td>0</td>\n",
       "    </tr>\n",
       "    <tr>\n",
       "      <th>8</th>\n",
       "      <td>410500.0</td>\n",
       "      <td>0</td>\n",
       "      <td>0</td>\n",
       "    </tr>\n",
       "    <tr>\n",
       "      <th>9</th>\n",
       "      <td>411500.0</td>\n",
       "      <td>1</td>\n",
       "      <td>0</td>\n",
       "    </tr>\n",
       "    <tr>\n",
       "      <th>10</th>\n",
       "      <td>402500.0</td>\n",
       "      <td>0</td>\n",
       "      <td>0</td>\n",
       "    </tr>\n",
       "    <tr>\n",
       "      <th>11</th>\n",
       "      <td>410000.0</td>\n",
       "      <td>0</td>\n",
       "      <td>0</td>\n",
       "    </tr>\n",
       "    <tr>\n",
       "      <th>12</th>\n",
       "      <td>408500.0</td>\n",
       "      <td>0</td>\n",
       "      <td>0</td>\n",
       "    </tr>\n",
       "  </tbody>\n",
       "</table>\n",
       "</div>"
      ],
      "text/plain": [
       "       price  up_count  down_count\n",
       "0   411000.0         0           0\n",
       "2   409000.0         0           0\n",
       "3   407000.0         0           0\n",
       "4   414500.0         0           0\n",
       "5   417500.0         0           0\n",
       "6   408000.0         1           0\n",
       "8   410500.0         0           0\n",
       "9   411500.0         1           0\n",
       "10  402500.0         0           0\n",
       "11  410000.0         0           0\n",
       "12  408500.0         0           0"
      ]
     },
     "execution_count": 329,
     "metadata": {},
     "output_type": "execute_result"
    }
   ],
   "source": [
    "test_x"
   ]
  },
  {
   "cell_type": "code",
   "execution_count": 407,
   "id": "96f943ad",
   "metadata": {},
   "outputs": [],
   "source": [
    "bert_naver = pd.read_csv('bert_data/final_bert_naver.csv',parse_dates = ['date'])"
   ]
  },
  {
   "cell_type": "code",
   "execution_count": 408,
   "id": "cc785ccc",
   "metadata": {},
   "outputs": [],
   "source": [
    "bert_naver = bert_naver.sort_values('date').reset_index(drop=True)"
   ]
  },
  {
   "cell_type": "code",
   "execution_count": 414,
   "id": "a0e211f1",
   "metadata": {},
   "outputs": [],
   "source": [
    "bert_naver.columns = ['date','news_up_count','news_down_count']"
   ]
  },
  {
   "cell_type": "code",
   "execution_count": 416,
   "id": "1a1f89a4",
   "metadata": {},
   "outputs": [],
   "source": [
    "naver=pd.merge(merge_naver,bert_naver,on='date',how = 'left')"
   ]
  },
  {
   "cell_type": "code",
   "execution_count": 418,
   "id": "51497412",
   "metadata": {},
   "outputs": [],
   "source": [
    "naver['naver_change'] = naver['naver_change'].apply(lambda x: float(x[:-1]))"
   ]
  },
  {
   "cell_type": "code",
   "execution_count": 420,
   "id": "a88d979f",
   "metadata": {},
   "outputs": [],
   "source": [
    "naver.to_csv('final_data/naver_train.csv',index=False)"
   ]
  },
  {
   "cell_type": "code",
   "execution_count": 423,
   "id": "53648b94",
   "metadata": {},
   "outputs": [],
   "source": [
    "bert_naver_test = pd.read_csv('bert_data/test/final_naver_bert_test.csv',parse_dates = ['date'])"
   ]
  },
  {
   "cell_type": "code",
   "execution_count": 431,
   "id": "437a7ed3",
   "metadata": {},
   "outputs": [],
   "source": [
    "bert_naver_test.columns = ['date','news_up_count','news_down_count']"
   ]
  },
  {
   "cell_type": "code",
   "execution_count": 436,
   "id": "9d30ca36",
   "metadata": {},
   "outputs": [],
   "source": [
    "naver_test = pd.merge(test_naver,bert_naver_test,on='date',how='left')\n",
    "naver_test['change'] = naver_test['change'].apply(lambda x: float(x[:-1]))\n",
    "naver_test.to_csv('final_data/naver_test.csv',index=False)"
   ]
  },
  {
   "cell_type": "code",
   "execution_count": 441,
   "id": "16c46ec8",
   "metadata": {},
   "outputs": [],
   "source": [
    "## 셀트리온"
   ]
  },
  {
   "cell_type": "code",
   "execution_count": 444,
   "id": "31e2308e",
   "metadata": {},
   "outputs": [],
   "source": [
    "celltrion_price = pd.read_csv('stock_price/pre_celltrion_1_10.csv',parse_dates = ['date'])\n"
   ]
  },
  {
   "cell_type": "code",
   "execution_count": 445,
   "id": "c43cb796",
   "metadata": {},
   "outputs": [],
   "source": [
    "celltrion_bert = pd.read_csv('bert_data/celltrion_news1.csv')"
   ]
  },
  {
   "cell_type": "code",
   "execution_count": 446,
   "id": "fe01e43b",
   "metadata": {},
   "outputs": [
    {
     "data": {
      "text/html": [
       "<div>\n",
       "<style scoped>\n",
       "    .dataframe tbody tr th:only-of-type {\n",
       "        vertical-align: middle;\n",
       "    }\n",
       "\n",
       "    .dataframe tbody tr th {\n",
       "        vertical-align: top;\n",
       "    }\n",
       "\n",
       "    .dataframe thead th {\n",
       "        text-align: right;\n",
       "    }\n",
       "</style>\n",
       "<table border=\"1\" class=\"dataframe\">\n",
       "  <thead>\n",
       "    <tr style=\"text-align: right;\">\n",
       "      <th></th>\n",
       "      <th>pred</th>\n",
       "      <th>label</th>\n",
       "    </tr>\n",
       "  </thead>\n",
       "  <tbody>\n",
       "    <tr>\n",
       "      <th>0</th>\n",
       "      <td>0.0</td>\n",
       "      <td>NaN</td>\n",
       "    </tr>\n",
       "    <tr>\n",
       "      <th>1</th>\n",
       "      <td>0.0</td>\n",
       "      <td>NaN</td>\n",
       "    </tr>\n",
       "    <tr>\n",
       "      <th>2</th>\n",
       "      <td>1.0</td>\n",
       "      <td>NaN</td>\n",
       "    </tr>\n",
       "    <tr>\n",
       "      <th>3</th>\n",
       "      <td>1.0</td>\n",
       "      <td>NaN</td>\n",
       "    </tr>\n",
       "    <tr>\n",
       "      <th>4</th>\n",
       "      <td>0.0</td>\n",
       "      <td>NaN</td>\n",
       "    </tr>\n",
       "    <tr>\n",
       "      <th>5</th>\n",
       "      <td>0.0</td>\n",
       "      <td>NaN</td>\n",
       "    </tr>\n",
       "    <tr>\n",
       "      <th>6</th>\n",
       "      <td>1.0</td>\n",
       "      <td>NaN</td>\n",
       "    </tr>\n",
       "    <tr>\n",
       "      <th>7</th>\n",
       "      <td>1.0</td>\n",
       "      <td>NaN</td>\n",
       "    </tr>\n",
       "    <tr>\n",
       "      <th>8</th>\n",
       "      <td>0.0</td>\n",
       "      <td>NaN</td>\n",
       "    </tr>\n",
       "  </tbody>\n",
       "</table>\n",
       "</div>"
      ],
      "text/plain": [
       "   pred  label\n",
       "0   0.0    NaN\n",
       "1   0.0    NaN\n",
       "2   1.0    NaN\n",
       "3   1.0    NaN\n",
       "4   0.0    NaN\n",
       "5   0.0    NaN\n",
       "6   1.0    NaN\n",
       "7   1.0    NaN\n",
       "8   0.0    NaN"
      ]
     },
     "execution_count": 446,
     "metadata": {},
     "output_type": "execute_result"
    }
   ],
   "source": []
  }
 ],
 "metadata": {
  "kernelspec": {
   "display_name": "Python 3",
   "language": "python",
   "name": "python3"
  },
  "language_info": {
   "codemirror_mode": {
    "name": "ipython",
    "version": 3
   },
   "file_extension": ".py",
   "mimetype": "text/x-python",
   "name": "python",
   "nbconvert_exporter": "python",
   "pygments_lexer": "ipython3",
   "version": "3.8.8"
  }
 },
 "nbformat": 4,
 "nbformat_minor": 5
}
