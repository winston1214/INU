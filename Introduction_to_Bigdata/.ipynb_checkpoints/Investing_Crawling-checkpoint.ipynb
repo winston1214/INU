{
 "cells": [
  {
   "cell_type": "code",
   "execution_count": 47,
   "id": "ed0e4f90",
   "metadata": {},
   "outputs": [],
   "source": [
    "import bs4\n",
    "from urllib.request import urlopen,Request\n",
    "import urllib\n",
    "from selenium.webdriver import Chrome\n",
    "from selenium import webdriver\n",
    "import warnings\n",
    "warnings.filterwarnings('ignore')\n",
    "import numpy as np\n",
    "import pandas as pd"
   ]
  },
  {
   "cell_type": "code",
   "execution_count": 2,
   "id": "91268f2f",
   "metadata": {},
   "outputs": [],
   "source": [
    "options = webdriver.ChromeOptions()\n",
    "options.add_argument(\"--start-maximized\"); # 시작할때 최대창을 띄워라\n",
    "browser = webdriver.Chrome('chromedriver', options=options)"
   ]
  },
  {
   "cell_type": "code",
   "execution_count": 95,
   "id": "cf9123b5",
   "metadata": {},
   "outputs": [],
   "source": [
    "browser.quit()"
   ]
  },
  {
   "cell_type": "markdown",
   "id": "e89c360c",
   "metadata": {},
   "source": [
    "# 코로나 시작일 1월 23일"
   ]
  },
  {
   "cell_type": "markdown",
   "id": "5b7c538b",
   "metadata": {},
   "source": [
    "# 삼전"
   ]
  },
  {
   "cell_type": "code",
   "execution_count": 3,
   "id": "c134b0c7",
   "metadata": {},
   "outputs": [],
   "source": [
    "url = 'https://kr.investing.com/equities/samsung-electronics-co-ltd-scoreboard'\n",
    "browser.get(url) # 사이트 접속"
   ]
  },
  {
   "cell_type": "code",
   "execution_count": null,
   "id": "e5ffd676",
   "metadata": {},
   "outputs": [],
   "source": [
    "html = browser.page_source\n",
    "\n",
    "soup = bs4.BeautifulSoup(html, 'lxml')\n"
   ]
  },
  {
   "cell_type": "code",
   "execution_count": 90,
   "id": "03827b68",
   "metadata": {},
   "outputs": [],
   "source": [
    "import lxml.html\n",
    "root = lxml.html.fromstring(html)"
   ]
  },
  {
   "cell_type": "code",
   "execution_count": 94,
   "id": "06babf30",
   "metadata": {},
   "outputs": [],
   "source": [
    "for i in root.xpath('//*[@id=\"sentiments_table\"]/tbody/tr[53]'):\n",
    "    p"
   ]
  },
  {
   "cell_type": "code",
   "execution_count": 69,
   "id": "48d479d9",
   "metadata": {
    "scrolled": true
   },
   "outputs": [],
   "source": [
    "# updown\n",
    "ls = soup.find_all('td',attrs={'class':'center'})\n",
    "up_string = 'newSiteIconsSprite newSmallBullIcon2 inlineblock middle'\n",
    "down_string = 'newSiteIconsSprite newSmallBearIcon2 inlineblock middle'\n",
    "updown = np.array([None for i in range(len(ls))])\n",
    "for i,data in enumerate(ls):\n",
    "    if data.find_all('span',attrs={'class':up_string}):\n",
    "        updown[i] = '100'\n",
    "    elif data.find_all('span',attrs={'class':down_string}):\n",
    "        updown[i] = '-1'\n",
    "# dic = {'100':'up','-1':'down'}\n",
    "updown = updown[np.where(updown != None)]"
   ]
  },
  {
   "cell_type": "code",
   "execution_count": 72,
   "id": "bbf3bb63",
   "metadata": {},
   "outputs": [],
   "source": [
    "# 날짜\n",
    "day = soup.find_all('td',attrs={'class':'first left'})\n",
    "day = [i.text for i in day]"
   ]
  },
  {
   "cell_type": "code",
   "execution_count": 75,
   "id": "8f792492",
   "metadata": {},
   "outputs": [
    {
     "data": {
      "text/plain": [
       "'2021년 10월 05일'"
      ]
     },
     "execution_count": 75,
     "metadata": {},
     "output_type": "execute_result"
    }
   ],
   "source": [
    "day[-1]"
   ]
  },
  {
   "cell_type": "code",
   "execution_count": 77,
   "id": "8986b969",
   "metadata": {},
   "outputs": [],
   "source": [
    "//*[@id=\"sentiments_table\"]/tbody/tr[49]/td[3]/span # 여기 숫자 조정\n",
    "//*[@id=\"sentiments_table\"]/tbody/tr[53]/td[3]/span"
   ]
  },
  {
   "cell_type": "code",
   "execution_count": null,
   "id": "6071d987",
   "metadata": {},
   "outputs": [],
   "source": [
    "soup.find_all('td',attrs={'class':'center'})\n",
    "soup."
   ]
  },
  {
   "cell_type": "code",
   "execution_count": 80,
   "id": "bf273ba9",
   "metadata": {},
   "outputs": [
    {
     "data": {
      "text/plain": [
       "[             date updown\n",
       " 0   2021년 10월 08일    100\n",
       " 1   2021년 10월 08일    100\n",
       " 2   2021년 10월 08일    100\n",
       " 3   2021년 10월 08일     -1\n",
       " 4   2021년 10월 08일     -1\n",
       " 5   2021년 10월 08일    100\n",
       " 6   2021년 10월 08일    100\n",
       " 7   2021년 10월 08일    100\n",
       " 8   2021년 10월 08일    100\n",
       " 9   2021년 10월 07일     -1\n",
       " 10  2021년 10월 07일     -1\n",
       " 11  2021년 10월 07일     -1\n",
       " 12  2021년 10월 07일     -1\n",
       " 13  2021년 10월 07일     -1\n",
       " 14  2021년 10월 07일     -1\n",
       " 15  2021년 10월 07일    100\n",
       " 16  2021년 10월 07일     -1\n",
       " 17  2021년 10월 06일    100\n",
       " 18  2021년 10월 06일    100\n",
       " 19  2021년 10월 06일     -1\n",
       " 20  2021년 10월 06일     -1\n",
       " 21  2021년 10월 06일    100\n",
       " 22  2021년 10월 06일    100\n",
       " 23  2021년 10월 06일    100\n",
       " 24  2021년 10월 06일     -1\n",
       " 25  2021년 10월 06일     -1\n",
       " 26  2021년 10월 06일    100\n",
       " 27  2021년 10월 06일     -1\n",
       " 28  2021년 10월 06일    100\n",
       " 29  2021년 10월 06일    100\n",
       " 30  2021년 10월 06일     -1\n",
       " 31  2021년 10월 06일     -1\n",
       " 32  2021년 10월 06일     -1\n",
       " 33  2021년 10월 05일     -1\n",
       " 34  2021년 10월 05일     -1\n",
       " 35  2021년 10월 05일     -1\n",
       " 36  2021년 10월 05일    100\n",
       " 37  2021년 10월 05일     -1\n",
       " 38  2021년 10월 05일     -1\n",
       " 39  2021년 10월 05일    100\n",
       " 40  2021년 10월 05일    100\n",
       " 41  2021년 10월 05일     -1\n",
       " 42  2021년 10월 05일     -1\n",
       " 43  2021년 10월 05일     -1\n",
       " 44  2021년 10월 05일     -1\n",
       " 45  2021년 10월 05일     -1\n",
       " 46  2021년 10월 05일     -1\n",
       " 47  2021년 10월 05일     -1\n",
       " 48  2021년 10월 05일    100\n",
       " 49  2021년 10월 05일    100,\n",
       "              date updown\n",
       " 0   2021년 10월 08일    100\n",
       " 1   2021년 10월 08일    100\n",
       " 2   2021년 10월 08일    100\n",
       " 3   2021년 10월 08일     -1\n",
       " 4   2021년 10월 08일     -1\n",
       " 5   2021년 10월 08일    100\n",
       " 6   2021년 10월 08일    100\n",
       " 7   2021년 10월 08일    100\n",
       " 8   2021년 10월 08일    100\n",
       " 9   2021년 10월 07일     -1\n",
       " 10  2021년 10월 07일     -1\n",
       " 11  2021년 10월 07일     -1\n",
       " 12  2021년 10월 07일     -1\n",
       " 13  2021년 10월 07일     -1\n",
       " 14  2021년 10월 07일     -1\n",
       " 15  2021년 10월 07일    100\n",
       " 16  2021년 10월 07일     -1\n",
       " 17  2021년 10월 06일    100\n",
       " 18  2021년 10월 06일    100\n",
       " 19  2021년 10월 06일     -1\n",
       " 20  2021년 10월 06일     -1\n",
       " 21  2021년 10월 06일    100\n",
       " 22  2021년 10월 06일    100\n",
       " 23  2021년 10월 06일    100\n",
       " 24  2021년 10월 06일     -1\n",
       " 25  2021년 10월 06일     -1\n",
       " 26  2021년 10월 06일    100\n",
       " 27  2021년 10월 06일     -1\n",
       " 28  2021년 10월 06일    100\n",
       " 29  2021년 10월 06일    100\n",
       " 30  2021년 10월 06일     -1\n",
       " 31  2021년 10월 06일     -1\n",
       " 32  2021년 10월 06일     -1\n",
       " 33  2021년 10월 05일     -1\n",
       " 34  2021년 10월 05일     -1\n",
       " 35  2021년 10월 05일     -1\n",
       " 36  2021년 10월 05일    100\n",
       " 37  2021년 10월 05일     -1\n",
       " 38  2021년 10월 05일     -1\n",
       " 39  2021년 10월 05일    100\n",
       " 40  2021년 10월 05일    100\n",
       " 41  2021년 10월 05일     -1\n",
       " 42  2021년 10월 05일     -1\n",
       " 43  2021년 10월 05일     -1\n",
       " 44  2021년 10월 05일     -1\n",
       " 45  2021년 10월 05일     -1\n",
       " 46  2021년 10월 05일     -1\n",
       " 47  2021년 10월 05일     -1\n",
       " 48  2021년 10월 05일    100\n",
       " 49  2021년 10월 05일    100]"
      ]
     },
     "execution_count": 80,
     "metadata": {},
     "output_type": "execute_result"
    }
   ],
   "source": [
    "df_list = []\n",
    "\n",
    "while True:\n",
    "    ls = soup.find_all('td',attrs={'class':'center'})\n",
    "    up_string = 'newSiteIconsSprite newSmallBullIcon2 inlineblock middle'\n",
    "    down_string = 'newSiteIconsSprite newSmallBearIcon2 inlineblock middle'\n",
    "    updown = np.array([None for i in range(len(ls))])\n",
    "    for i,data in enumerate(ls):\n",
    "        if data.find_all('span',attrs={'class':up_string}):\n",
    "            updown[i] = '100'\n",
    "        elif data.find_all('span',attrs={'class':down_string}):\n",
    "            updown[i] = '-1'\n",
    "    updown = updown[np.where(updown != None)]\n",
    "    day = soup.find_all('td',attrs={'class':'first left'})\n",
    "    day = [i.text for i in day]\n",
    "    df = pd.DataFrame({'date':day,'updown':updown})\n",
    "    df_list.append(df)\n",
    "    browser.find_element_by_xpath('//*[@id=\"moreLink\"]').click() # 더보기 클릭\n",
    "    \n",
    "df_list"
   ]
  },
  {
   "cell_type": "code",
   "execution_count": 5,
   "id": "0123df85",
   "metadata": {},
   "outputs": [],
   "source": [
    "# browser.quit()"
   ]
  },
  {
   "cell_type": "code",
   "execution_count": 7,
   "id": "d3b5e1c2",
   "metadata": {},
   "outputs": [],
   "source": [
    "# <span class=\"newSiteIconsSprite newSmallBullIcon2 inlineblock middle\" alt=\"\">&nbsp;</span>"
   ]
  },
  {
   "cell_type": "code",
   "execution_count": 8,
   "id": "c3c607c0",
   "metadata": {},
   "outputs": [
    {
     "data": {
      "text/plain": [
       "'newSiteIconsSprite newSmallBullIcon2 inlineblock middle'"
      ]
     },
     "execution_count": 8,
     "metadata": {},
     "output_type": "execute_result"
    }
   ],
   "source": [
    "# # 상승\n",
    "# tr = browser.find_element_by_xpath('//*[@id=\"sentiments_table\"]/tbody/tr[1]/td[3]/span')\n",
    "# tr.get_attribute('class')"
   ]
  },
  {
   "cell_type": "code",
   "execution_count": 97,
   "id": "40f4a30c",
   "metadata": {},
   "outputs": [],
   "source": [
    "driver.quit()"
   ]
  },
  {
   "cell_type": "code",
   "execution_count": 99,
   "id": "b3620ec1",
   "metadata": {},
   "outputs": [
    {
     "name": "stdout",
     "output_type": "stream",
     "text": [
      "------ TSLA crawling ------\n",
      "..start\n"
     ]
    },
    {
     "ename": "ElementClickInterceptedException",
     "evalue": "Message: element click intercepted: Element <a href=\"javascript:void(0);\" id=\"moreLink\" onclick=\"get_sentiments_rows('Tesla Motors','785.49','2','2','2','pairs','13994','1','1')\" class=\"arial_12 bold blueFont\">...</a> is not clickable at point (627, 858). Other element would receive the click: <h3>...</h3>\n  (Session info: chrome=94.0.4606.71)\n",
     "output_type": "error",
     "traceback": [
      "\u001b[1;31m---------------------------------------------------------------------------\u001b[0m",
      "\u001b[1;31mElementClickInterceptedException\u001b[0m          Traceback (most recent call last)",
      "\u001b[1;32m<ipython-input-99-324c1cc8528f>\u001b[0m in \u001b[0;36m<module>\u001b[1;34m\u001b[0m\n\u001b[0;32m     86\u001b[0m         \u001b[0mstart\u001b[0m \u001b[1;33m=\u001b[0m \u001b[0mlast\u001b[0m\u001b[1;33m\u001b[0m\u001b[1;33m\u001b[0m\u001b[0m\n\u001b[0;32m     87\u001b[0m \u001b[1;33m\u001b[0m\u001b[0m\n\u001b[1;32m---> 88\u001b[1;33m     \u001b[0mdriver\u001b[0m\u001b[1;33m.\u001b[0m\u001b[0mfind_element_by_css_selector\u001b[0m\u001b[1;33m(\u001b[0m\u001b[1;34m\"#moreLink\"\u001b[0m\u001b[1;33m)\u001b[0m\u001b[1;33m.\u001b[0m\u001b[0mclick\u001b[0m\u001b[1;33m(\u001b[0m\u001b[1;33m)\u001b[0m\u001b[1;33m\u001b[0m\u001b[1;33m\u001b[0m\u001b[0m\n\u001b[0m\u001b[0;32m     89\u001b[0m     \u001b[0mprint\u001b[0m\u001b[1;33m(\u001b[0m\u001b[1;34m\"%d click %s\"\u001b[0m \u001b[1;33m%\u001b[0m\u001b[1;33m(\u001b[0m\u001b[0mc\u001b[0m\u001b[1;33m,\u001b[0m \u001b[0md\u001b[0m\u001b[1;33m)\u001b[0m\u001b[1;33m)\u001b[0m\u001b[1;33m\u001b[0m\u001b[1;33m\u001b[0m\u001b[0m\n\u001b[0;32m     90\u001b[0m     \u001b[0mc\u001b[0m \u001b[1;33m+=\u001b[0m \u001b[1;36m1\u001b[0m\u001b[1;33m\u001b[0m\u001b[1;33m\u001b[0m\u001b[0m\n",
      "\u001b[1;32m~\\Anaconda3\\lib\\site-packages\\selenium\\webdriver\\remote\\webelement.py\u001b[0m in \u001b[0;36mclick\u001b[1;34m(self)\u001b[0m\n\u001b[0;32m     78\u001b[0m     \u001b[1;32mdef\u001b[0m \u001b[0mclick\u001b[0m\u001b[1;33m(\u001b[0m\u001b[0mself\u001b[0m\u001b[1;33m)\u001b[0m\u001b[1;33m:\u001b[0m\u001b[1;33m\u001b[0m\u001b[1;33m\u001b[0m\u001b[0m\n\u001b[0;32m     79\u001b[0m         \u001b[1;34m\"\"\"Clicks the element.\"\"\"\u001b[0m\u001b[1;33m\u001b[0m\u001b[1;33m\u001b[0m\u001b[0m\n\u001b[1;32m---> 80\u001b[1;33m         \u001b[0mself\u001b[0m\u001b[1;33m.\u001b[0m\u001b[0m_execute\u001b[0m\u001b[1;33m(\u001b[0m\u001b[0mCommand\u001b[0m\u001b[1;33m.\u001b[0m\u001b[0mCLICK_ELEMENT\u001b[0m\u001b[1;33m)\u001b[0m\u001b[1;33m\u001b[0m\u001b[1;33m\u001b[0m\u001b[0m\n\u001b[0m\u001b[0;32m     81\u001b[0m \u001b[1;33m\u001b[0m\u001b[0m\n\u001b[0;32m     82\u001b[0m     \u001b[1;32mdef\u001b[0m \u001b[0msubmit\u001b[0m\u001b[1;33m(\u001b[0m\u001b[0mself\u001b[0m\u001b[1;33m)\u001b[0m\u001b[1;33m:\u001b[0m\u001b[1;33m\u001b[0m\u001b[1;33m\u001b[0m\u001b[0m\n",
      "\u001b[1;32m~\\Anaconda3\\lib\\site-packages\\selenium\\webdriver\\remote\\webelement.py\u001b[0m in \u001b[0;36m_execute\u001b[1;34m(self, command, params)\u001b[0m\n\u001b[0;32m    631\u001b[0m             \u001b[0mparams\u001b[0m \u001b[1;33m=\u001b[0m \u001b[1;33m{\u001b[0m\u001b[1;33m}\u001b[0m\u001b[1;33m\u001b[0m\u001b[1;33m\u001b[0m\u001b[0m\n\u001b[0;32m    632\u001b[0m         \u001b[0mparams\u001b[0m\u001b[1;33m[\u001b[0m\u001b[1;34m'id'\u001b[0m\u001b[1;33m]\u001b[0m \u001b[1;33m=\u001b[0m \u001b[0mself\u001b[0m\u001b[1;33m.\u001b[0m\u001b[0m_id\u001b[0m\u001b[1;33m\u001b[0m\u001b[1;33m\u001b[0m\u001b[0m\n\u001b[1;32m--> 633\u001b[1;33m         \u001b[1;32mreturn\u001b[0m \u001b[0mself\u001b[0m\u001b[1;33m.\u001b[0m\u001b[0m_parent\u001b[0m\u001b[1;33m.\u001b[0m\u001b[0mexecute\u001b[0m\u001b[1;33m(\u001b[0m\u001b[0mcommand\u001b[0m\u001b[1;33m,\u001b[0m \u001b[0mparams\u001b[0m\u001b[1;33m)\u001b[0m\u001b[1;33m\u001b[0m\u001b[1;33m\u001b[0m\u001b[0m\n\u001b[0m\u001b[0;32m    634\u001b[0m \u001b[1;33m\u001b[0m\u001b[0m\n\u001b[0;32m    635\u001b[0m     \u001b[1;32mdef\u001b[0m \u001b[0mfind_element\u001b[0m\u001b[1;33m(\u001b[0m\u001b[0mself\u001b[0m\u001b[1;33m,\u001b[0m \u001b[0mby\u001b[0m\u001b[1;33m=\u001b[0m\u001b[0mBy\u001b[0m\u001b[1;33m.\u001b[0m\u001b[0mID\u001b[0m\u001b[1;33m,\u001b[0m \u001b[0mvalue\u001b[0m\u001b[1;33m=\u001b[0m\u001b[1;32mNone\u001b[0m\u001b[1;33m)\u001b[0m\u001b[1;33m:\u001b[0m\u001b[1;33m\u001b[0m\u001b[1;33m\u001b[0m\u001b[0m\n",
      "\u001b[1;32m~\\Anaconda3\\lib\\site-packages\\selenium\\webdriver\\remote\\webdriver.py\u001b[0m in \u001b[0;36mexecute\u001b[1;34m(self, driver_command, params)\u001b[0m\n\u001b[0;32m    319\u001b[0m         \u001b[0mresponse\u001b[0m \u001b[1;33m=\u001b[0m \u001b[0mself\u001b[0m\u001b[1;33m.\u001b[0m\u001b[0mcommand_executor\u001b[0m\u001b[1;33m.\u001b[0m\u001b[0mexecute\u001b[0m\u001b[1;33m(\u001b[0m\u001b[0mdriver_command\u001b[0m\u001b[1;33m,\u001b[0m \u001b[0mparams\u001b[0m\u001b[1;33m)\u001b[0m\u001b[1;33m\u001b[0m\u001b[1;33m\u001b[0m\u001b[0m\n\u001b[0;32m    320\u001b[0m         \u001b[1;32mif\u001b[0m \u001b[0mresponse\u001b[0m\u001b[1;33m:\u001b[0m\u001b[1;33m\u001b[0m\u001b[1;33m\u001b[0m\u001b[0m\n\u001b[1;32m--> 321\u001b[1;33m             \u001b[0mself\u001b[0m\u001b[1;33m.\u001b[0m\u001b[0merror_handler\u001b[0m\u001b[1;33m.\u001b[0m\u001b[0mcheck_response\u001b[0m\u001b[1;33m(\u001b[0m\u001b[0mresponse\u001b[0m\u001b[1;33m)\u001b[0m\u001b[1;33m\u001b[0m\u001b[1;33m\u001b[0m\u001b[0m\n\u001b[0m\u001b[0;32m    322\u001b[0m             response['value'] = self._unwrap_value(\n\u001b[0;32m    323\u001b[0m                 response.get('value', None))\n",
      "\u001b[1;32m~\\Anaconda3\\lib\\site-packages\\selenium\\webdriver\\remote\\errorhandler.py\u001b[0m in \u001b[0;36mcheck_response\u001b[1;34m(self, response)\u001b[0m\n\u001b[0;32m    240\u001b[0m                 \u001b[0malert_text\u001b[0m \u001b[1;33m=\u001b[0m \u001b[0mvalue\u001b[0m\u001b[1;33m[\u001b[0m\u001b[1;34m'alert'\u001b[0m\u001b[1;33m]\u001b[0m\u001b[1;33m.\u001b[0m\u001b[0mget\u001b[0m\u001b[1;33m(\u001b[0m\u001b[1;34m'text'\u001b[0m\u001b[1;33m)\u001b[0m\u001b[1;33m\u001b[0m\u001b[1;33m\u001b[0m\u001b[0m\n\u001b[0;32m    241\u001b[0m             \u001b[1;32mraise\u001b[0m \u001b[0mexception_class\u001b[0m\u001b[1;33m(\u001b[0m\u001b[0mmessage\u001b[0m\u001b[1;33m,\u001b[0m \u001b[0mscreen\u001b[0m\u001b[1;33m,\u001b[0m \u001b[0mstacktrace\u001b[0m\u001b[1;33m,\u001b[0m \u001b[0malert_text\u001b[0m\u001b[1;33m)\u001b[0m\u001b[1;33m\u001b[0m\u001b[1;33m\u001b[0m\u001b[0m\n\u001b[1;32m--> 242\u001b[1;33m         \u001b[1;32mraise\u001b[0m \u001b[0mexception_class\u001b[0m\u001b[1;33m(\u001b[0m\u001b[0mmessage\u001b[0m\u001b[1;33m,\u001b[0m \u001b[0mscreen\u001b[0m\u001b[1;33m,\u001b[0m \u001b[0mstacktrace\u001b[0m\u001b[1;33m)\u001b[0m\u001b[1;33m\u001b[0m\u001b[1;33m\u001b[0m\u001b[0m\n\u001b[0m\u001b[0;32m    243\u001b[0m \u001b[1;33m\u001b[0m\u001b[0m\n\u001b[0;32m    244\u001b[0m     \u001b[1;32mdef\u001b[0m \u001b[0m_value_or_default\u001b[0m\u001b[1;33m(\u001b[0m\u001b[0mself\u001b[0m\u001b[1;33m,\u001b[0m \u001b[0mobj\u001b[0m\u001b[1;33m,\u001b[0m \u001b[0mkey\u001b[0m\u001b[1;33m,\u001b[0m \u001b[0mdefault\u001b[0m\u001b[1;33m)\u001b[0m\u001b[1;33m:\u001b[0m\u001b[1;33m\u001b[0m\u001b[1;33m\u001b[0m\u001b[0m\n",
      "\u001b[1;31mElementClickInterceptedException\u001b[0m: Message: element click intercepted: Element <a href=\"javascript:void(0);\" id=\"moreLink\" onclick=\"get_sentiments_rows('Tesla Motors','785.49','2','2','2','pairs','13994','1','1')\" class=\"arial_12 bold blueFont\">...</a> is not clickable at point (627, 858). Other element would receive the click: <h3>...</h3>\n  (Session info: chrome=94.0.4606.71)\n"
     ]
    }
   ],
   "source": [
    "# -*- coding: utf-8 -*-\n",
    "\"\"\"\n",
    "Created on Wed Oct 28 15:43:56 2020\n",
    "\n",
    "@author: Jayleen\n",
    "\n",
    "for faster crawling\n",
    "\"\"\"\n",
    "\n",
    "from selenium import webdriver\n",
    "import time\n",
    "import datetime as dt\n",
    "from datetime import timedelta\n",
    "from bs4 import BeautifulSoup\n",
    "\n",
    "import pandas as pd\n",
    "# import numpy as np\n",
    "import os\n",
    "\n",
    "\n",
    "invesco = [\"AAPL\", \"AMZN\", \"MSFT\", \"FB\", \"GOOGL\", \"TSLA\", \"GOOG\", \"NVDA\", \"ADBE\", \"NFLX\"]\n",
    "# START_DATE = '2019-12-01'\n",
    "START_DATE = \"2019-12-01\"\n",
    "# END_DATE = '2020-09-01'\n",
    "END_DATE = '2020-01-26'\n",
    "site = [\"apple-computer-inc\", \"amazon-com-inc\", \"microsoft-corp\", \"facebook-inc\", \"google-inc\",\n",
    "         \"tesla-motors\", \"google-inc-c\", \"nvidia-corp\", \"adobe-sys-inc\", \"netflix,-inc.\"]\n",
    "\n",
    "# tick\n",
    "k = 5\n",
    "\n",
    "# basic Date Dataframe\n",
    "date_index = []\n",
    "bd = dt.datetime.strptime(END_DATE, '%Y-%m-%d')\n",
    "\n",
    "while (bd >= dt.datetime.strptime(START_DATE, \"%Y-%m-%d\")):\n",
    "    date_index.append(bd.strftime(\"%Y-%m-%d\"))\n",
    "    bd = bd - timedelta(days = 1)\n",
    "\n",
    "DATE = pd.DataFrame({\"date\": date_index})\n",
    "\n",
    "#%%\n",
    "bullbear = pd.DataFrame({\"Date\": date_index, '%s_Bullish' %invesco[k]: 0, '%s_Bearish' %invesco[k]: 0})\n",
    "\n",
    "# def FasterInvesting(url, qqq):\n",
    "driver = webdriver.Chrome(\"./chromedriver\")\n",
    "driver.get(\"https://www.investing.com/equities/%s-scoreboard\" %site[k]) #헤더 필요없음\n",
    "time.sleep(1)\n",
    "print(\"------ %s crawling ------\" %invesco[k])\n",
    "\n",
    "\n",
    "d = END_DATE\n",
    "start = 1\n",
    "c = 1\n",
    "\n",
    "print(\"..start\")\n",
    "# try:\n",
    "    \n",
    "while (dt.datetime.strptime(d, \"%Y-%m-%d\") >= dt.datetime.strptime(START_DATE, \"%Y-%m-%d\")):\n",
    "\n",
    "    html = driver.page_source\n",
    "    soup = BeautifulSoup(html, 'html.parser')\n",
    "\n",
    "    last = len(soup.select(\"#sentiments_table > tbody > tr\"))\n",
    "\n",
    "    for i in range(start, last + 1):\n",
    "        \n",
    "        counting = 1\n",
    "        d = driver.find_element_by_css_selector(\"#sentiments_table > tbody > tr:nth-child(%d) > td.first.left\" %i).text.strip()\n",
    "        d = dt.datetime.strptime(d, \"%b %d, %Y\").strftime(\"%Y-%m-%d\")\n",
    "        \n",
    "        if dt.datetime.strptime(d, \"%Y-%m-%d\") > dt.datetime.strptime(END_DATE, \"%Y-%m-%d\"):\n",
    "            start = last\n",
    "            break\n",
    "        # r = driver.find_element_by_css_selector(\"#sentiments_table > tbody > tr:nth-child(%d) > td:nth-child(4)\" %i).text.strip()\n",
    "        # openRate.append(r)\n",
    "\n",
    "        icon = driver.find_element_by_css_selector(\"#sentiments_table > tbody > tr:nth-child(%d) > td.center\" %i)\n",
    "        try :\n",
    "            icon.find_element_by_class_name(\"newSiteIconsSprite.newSmallBullIcon2.inlineblock.middle\")\n",
    "            bullbear.loc[bullbear.Date == d, '%s_Bullish' %invesco[k]] += counting\n",
    "        except :\n",
    "            icon.find_element_by_class_name(\"newSiteIconsSprite.newSmallBearIcon2.inlineblock.middle\")\n",
    "            bullbear.loc[bullbear.Date == d, '%s_Bearish' %invesco[k]] += counting\n",
    "            \n",
    "        start = last\n",
    "\n",
    "    driver.find_element_by_css_selector(\"#moreLink\").click()\n",
    "    print(\"%d click %s\" %(c, d))\n",
    "    c += 1\n",
    "    time.sleep(2)\n",
    "\n",
    "#%%    \n",
    "if os.path.exists('BullBear_%s.csv' %invesco[k]):\n",
    "    bullbear.to_csv('BullBear_%s.csv' %invesco[k], index = False, mode = 'a', encoding = 'utf-8', header = False) #utf-8-sig: 한글\n",
    "else:\n",
    "    bullbear.to_csv('BullBear_%s.csv' %invesco[k], index = False, mode = 'w', encoding = 'utf-8')\n",
    "    \n",
    "print(\"load data: 총 %d개\" %last)\n",
    "    \n",
    "# df = pd.DataFrame({\"date\" : date, \"Bullish\": bullish, \"Bearish\": bearish})\n",
    "driver.close()\n",
    "    \n",
    "    # return df\n",
    "\n"
   ]
  },
  {
   "cell_type": "code",
   "execution_count": 100,
   "id": "63c4471d",
   "metadata": {},
   "outputs": [],
   "source": [
    "driver.quit()"
   ]
  }
 ],
 "metadata": {
  "kernelspec": {
   "display_name": "Python 3",
   "language": "python",
   "name": "python3"
  },
  "language_info": {
   "codemirror_mode": {
    "name": "ipython",
    "version": 3
   },
   "file_extension": ".py",
   "mimetype": "text/x-python",
   "name": "python",
   "nbconvert_exporter": "python",
   "pygments_lexer": "ipython3",
   "version": "3.8.8"
  }
 },
 "nbformat": 4,
 "nbformat_minor": 5
}
