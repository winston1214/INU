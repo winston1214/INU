{
 "cells": [
  {
   "cell_type": "code",
   "execution_count": 2,
   "id": "b096726f",
   "metadata": {},
   "outputs": [],
   "source": [
    "import seaborn as sns\n",
    "import matplotlib.pyplot as plt\n",
    "import pandas as pd\n",
    "import numpy as np\n",
    "import warnings\n",
    "warnings.filterwarnings('ignore')\n",
    "import re\n",
    "import datetime\n",
    "import os"
   ]
  },
  {
   "cell_type": "code",
   "execution_count": 31,
   "id": "a0446c69",
   "metadata": {},
   "outputs": [],
   "source": [
    "ls = os.listdir('stock_price')"
   ]
  },
  {
   "cell_type": "code",
   "execution_count": 13,
   "id": "d565a73b",
   "metadata": {},
   "outputs": [],
   "source": [
    "samsung = pd.read_csv('stock_price/samsung_1_10.csv',parse_dates=['날짜'])"
   ]
  },
  {
   "cell_type": "code",
   "execution_count": 25,
   "id": "2a9737b3",
   "metadata": {},
   "outputs": [
    {
     "data": {
      "text/plain": [
       "datetime.datetime(2021, 10, 31, 0, 0)"
      ]
     },
     "execution_count": 25,
     "metadata": {},
     "output_type": "execute_result"
    }
   ],
   "source": [
    "def kor_datetime(x):\n",
    "    korean = re.compile('[\\u3131-\\u3163\\uac00-\\ud7a3]+')\n",
    "    x = re.sub(korean, '', x)\n",
    "    x = x.replace(' ','-')\n",
    "    x = datetime.datetime.strptime(x,\"%Y-%m-%d\")\n",
    "    return x"
   ]
  },
  {
   "cell_type": "code",
   "execution_count": 48,
   "id": "612c7680",
   "metadata": {},
   "outputs": [],
   "source": [
    "stock_df = pd.DataFrame()\n",
    "for idx,i in enumerate(ls):\n",
    "    data = pd.read_csv('stock_price/'+i)\n",
    "    data2 = data[['날짜','종가','변동 %']]\n",
    "    data2['날짜'] = data2['날짜'].apply(lambda x: kor_datetime(x))\n",
    "    data2['종가'] = data2['종가'].apply(lambda x: int(x.replace(',','')))\n",
    "    \n",
    "    file_name = i.split('_')[0]\n",
    "    data2.columns = ['date',f'{file_name}_price',f'{file_name}_change']\n",
    "#     data2.to_csv('stock_price/'+'pre_'+i,index=False)\n",
    "    if idx == 0:\n",
    "        stock_df = data2.copy()\n",
    "    else:\n",
    "        stock_df = pd.merge(stock_df,data2,on='date')"
   ]
  },
  {
   "cell_type": "code",
   "execution_count": 49,
   "id": "ff49fd7e",
   "metadata": {},
   "outputs": [
    {
     "data": {
      "text/html": [
       "<div>\n",
       "<style scoped>\n",
       "    .dataframe tbody tr th:only-of-type {\n",
       "        vertical-align: middle;\n",
       "    }\n",
       "\n",
       "    .dataframe tbody tr th {\n",
       "        vertical-align: top;\n",
       "    }\n",
       "\n",
       "    .dataframe thead th {\n",
       "        text-align: right;\n",
       "    }\n",
       "</style>\n",
       "<table border=\"1\" class=\"dataframe\">\n",
       "  <thead>\n",
       "    <tr style=\"text-align: right;\">\n",
       "      <th></th>\n",
       "      <th>date</th>\n",
       "      <th>bank_price</th>\n",
       "      <th>bank_change</th>\n",
       "      <th>celltrion_price</th>\n",
       "      <th>celltrion_change</th>\n",
       "      <th>naver_price</th>\n",
       "      <th>naver_change</th>\n",
       "      <th>samsung_price</th>\n",
       "      <th>samsung_change</th>\n",
       "    </tr>\n",
       "  </thead>\n",
       "  <tbody>\n",
       "    <tr>\n",
       "      <th>0</th>\n",
       "      <td>2021-10-29</td>\n",
       "      <td>11050</td>\n",
       "      <td>-0.90%</td>\n",
       "      <td>200500</td>\n",
       "      <td>-6.96%</td>\n",
       "      <td>407000</td>\n",
       "      <td>-1.45%</td>\n",
       "      <td>69800</td>\n",
       "      <td>-1.27%</td>\n",
       "    </tr>\n",
       "    <tr>\n",
       "      <th>1</th>\n",
       "      <td>2021-10-28</td>\n",
       "      <td>11150</td>\n",
       "      <td>-2.19%</td>\n",
       "      <td>215500</td>\n",
       "      <td>-1.60%</td>\n",
       "      <td>413000</td>\n",
       "      <td>-0.36%</td>\n",
       "      <td>70700</td>\n",
       "      <td>0.86%</td>\n",
       "    </tr>\n",
       "    <tr>\n",
       "      <th>2</th>\n",
       "      <td>2021-10-27</td>\n",
       "      <td>11400</td>\n",
       "      <td>-0.87%</td>\n",
       "      <td>219000</td>\n",
       "      <td>-1.57%</td>\n",
       "      <td>414500</td>\n",
       "      <td>0.48%</td>\n",
       "      <td>70100</td>\n",
       "      <td>-1.41%</td>\n",
       "    </tr>\n",
       "    <tr>\n",
       "      <th>3</th>\n",
       "      <td>2021-10-26</td>\n",
       "      <td>11500</td>\n",
       "      <td>0.00%</td>\n",
       "      <td>222500</td>\n",
       "      <td>2.77%</td>\n",
       "      <td>412500</td>\n",
       "      <td>2.48%</td>\n",
       "      <td>71100</td>\n",
       "      <td>1.28%</td>\n",
       "    </tr>\n",
       "    <tr>\n",
       "      <th>4</th>\n",
       "      <td>2021-10-25</td>\n",
       "      <td>11500</td>\n",
       "      <td>2.22%</td>\n",
       "      <td>216500</td>\n",
       "      <td>-1.37%</td>\n",
       "      <td>402500</td>\n",
       "      <td>-1.23%</td>\n",
       "      <td>70200</td>\n",
       "      <td>-0.28%</td>\n",
       "    </tr>\n",
       "    <tr>\n",
       "      <th>...</th>\n",
       "      <td>...</td>\n",
       "      <td>...</td>\n",
       "      <td>...</td>\n",
       "      <td>...</td>\n",
       "      <td>...</td>\n",
       "      <td>...</td>\n",
       "      <td>...</td>\n",
       "      <td>...</td>\n",
       "      <td>...</td>\n",
       "    </tr>\n",
       "    <tr>\n",
       "      <th>236</th>\n",
       "      <td>2021-01-08</td>\n",
       "      <td>8830</td>\n",
       "      <td>-0.45%</td>\n",
       "      <td>367000</td>\n",
       "      <td>2.66%</td>\n",
       "      <td>312000</td>\n",
       "      <td>7.77%</td>\n",
       "      <td>88800</td>\n",
       "      <td>7.12%</td>\n",
       "    </tr>\n",
       "    <tr>\n",
       "      <th>237</th>\n",
       "      <td>2021-01-07</td>\n",
       "      <td>8870</td>\n",
       "      <td>1.95%</td>\n",
       "      <td>357500</td>\n",
       "      <td>1.13%</td>\n",
       "      <td>289500</td>\n",
       "      <td>-0.17%</td>\n",
       "      <td>82900</td>\n",
       "      <td>0.85%</td>\n",
       "    </tr>\n",
       "    <tr>\n",
       "      <th>238</th>\n",
       "      <td>2021-01-06</td>\n",
       "      <td>8700</td>\n",
       "      <td>-0.11%</td>\n",
       "      <td>353500</td>\n",
       "      <td>-0.28%</td>\n",
       "      <td>290000</td>\n",
       "      <td>-0.85%</td>\n",
       "      <td>82200</td>\n",
       "      <td>-2.03%</td>\n",
       "    </tr>\n",
       "    <tr>\n",
       "      <th>239</th>\n",
       "      <td>2021-01-05</td>\n",
       "      <td>8710</td>\n",
       "      <td>1.04%</td>\n",
       "      <td>354500</td>\n",
       "      <td>2.01%</td>\n",
       "      <td>292500</td>\n",
       "      <td>-0.17%</td>\n",
       "      <td>83900</td>\n",
       "      <td>1.08%</td>\n",
       "    </tr>\n",
       "    <tr>\n",
       "      <th>240</th>\n",
       "      <td>2021-01-04</td>\n",
       "      <td>8620</td>\n",
       "      <td>-2.49%</td>\n",
       "      <td>347500</td>\n",
       "      <td>-3.20%</td>\n",
       "      <td>293000</td>\n",
       "      <td>0.17%</td>\n",
       "      <td>83000</td>\n",
       "      <td>2.47%</td>\n",
       "    </tr>\n",
       "  </tbody>\n",
       "</table>\n",
       "<p>241 rows × 9 columns</p>\n",
       "</div>"
      ],
      "text/plain": [
       "          date  bank_price bank_change  celltrion_price celltrion_change  \\\n",
       "0   2021-10-29       11050      -0.90%           200500           -6.96%   \n",
       "1   2021-10-28       11150      -2.19%           215500           -1.60%   \n",
       "2   2021-10-27       11400      -0.87%           219000           -1.57%   \n",
       "3   2021-10-26       11500       0.00%           222500            2.77%   \n",
       "4   2021-10-25       11500       2.22%           216500           -1.37%   \n",
       "..         ...         ...         ...              ...              ...   \n",
       "236 2021-01-08        8830      -0.45%           367000            2.66%   \n",
       "237 2021-01-07        8870       1.95%           357500            1.13%   \n",
       "238 2021-01-06        8700      -0.11%           353500           -0.28%   \n",
       "239 2021-01-05        8710       1.04%           354500            2.01%   \n",
       "240 2021-01-04        8620      -2.49%           347500           -3.20%   \n",
       "\n",
       "     naver_price naver_change  samsung_price samsung_change  \n",
       "0         407000       -1.45%          69800         -1.27%  \n",
       "1         413000       -0.36%          70700          0.86%  \n",
       "2         414500        0.48%          70100         -1.41%  \n",
       "3         412500        2.48%          71100          1.28%  \n",
       "4         402500       -1.23%          70200         -0.28%  \n",
       "..           ...          ...            ...            ...  \n",
       "236       312000        7.77%          88800          7.12%  \n",
       "237       289500       -0.17%          82900          0.85%  \n",
       "238       290000       -0.85%          82200         -2.03%  \n",
       "239       292500       -0.17%          83900          1.08%  \n",
       "240       293000        0.17%          83000          2.47%  \n",
       "\n",
       "[241 rows x 9 columns]"
      ]
     },
     "execution_count": 49,
     "metadata": {},
     "output_type": "execute_result"
    }
   ],
   "source": [
    "stock_df"
   ]
  },
  {
   "cell_type": "code",
   "execution_count": 56,
   "id": "47ae03a2",
   "metadata": {},
   "outputs": [
    {
     "data": {
      "text/plain": [
       "['naver_기업은행_result.xlsx',\n",
       " 'naver_네이버_result.xlsx',\n",
       " 'naver_삼성전자_result.xlsx',\n",
       " 'naver_셀트리온_result.xlsx']"
      ]
     },
     "execution_count": 56,
     "metadata": {},
     "output_type": "execute_result"
    }
   ],
   "source": [
    "os.listdir('naver_news')"
   ]
  },
  {
   "cell_type": "code",
   "execution_count": 65,
   "id": "4285fc83",
   "metadata": {},
   "outputs": [],
   "source": [
    "data = pd.read_excel('naver_기업은행_result.xlsx')"
   ]
  },
  {
   "cell_type": "code",
   "execution_count": 66,
   "id": "db871603",
   "metadata": {},
   "outputs": [
    {
     "data": {
      "text/plain": [
       "array(['2021.10.31.', '2021.10.29.', '2021.10.30.', '2021.10.26.',\n",
       "       '2021.10.28.', '2021.10.27.', '2021.10.20.', '2021.10.19.',\n",
       "       '2021.10.18.', '2021.10.21.', '2021.10.12.', '2021.10.15.',\n",
       "       '2021.10.13.', '2021.10.24.', '2021.10.25.', '2021.10.17.',\n",
       "       '2021.10.22.', '2021.10.16.', '2021.10.14.', '2021.10.04.',\n",
       "       '2021.10.08.', '2021.10.07.', '2021.10.03.', '2021.10.06.',\n",
       "       '2021.10.10.', '2021.10.01.', '2021.10.09.', '2021.10.05.',\n",
       "       '2021.10.11.', '2021.09.30.', '2021.09.29.', '2021.09.28.',\n",
       "       '2021.09.27.', '2021.09.26.', '2021.09.24.', '2021.09.25.',\n",
       "       '2021.09.23.', '2021.09.22.', '2021.09.20.', '2021.09.16.',\n",
       "       '2021.09.15.', '2021.09.14.', '2021.09.13.', '2021.09.12.',\n",
       "       '2021.09.11.', '2021.09.10.', '2021.09.09.', '2021.09.08.',\n",
       "       '2021.09.07.', '2021.09.17.', '2021.09.06.', '2021.09.04.',\n",
       "       '2021.09.03.', '2021.09.02.', '2021.09.01.', '2021.08.31.',\n",
       "       '2021.08.30.', '2021.08.29.', '2021.08.28.', '2021.08.27.',\n",
       "       '2021.08.26.', '2021.08.25.', '2021.08.24.', '2021.08.23.',\n",
       "       '2021.08.20.', '2021.08.19.', '2021.08.18.', '2021.08.21.',\n",
       "       '2021.08.17.', '2021.08.16.', '2021.08.14.', '2021.08.15.',\n",
       "       '2021.08.13.', '2021.08.12.', '2021.08.11.', '2021.08.10.',\n",
       "       '2021.08.09.', '2021.08.08.', '2021.08.07.', '2021.08.06.',\n",
       "       '2021.08.05.', '2021.08.04.', '2021.08.03.', '2021.08.02.',\n",
       "       '2021.08.01.', '2021.07.30.', '2021.07.29.', '2021.07.28.',\n",
       "       '2021.07.27.', '2021.07.26.', '2021.07.25.', '2021.07.23.',\n",
       "       '2021.07.22.', '2021.07.21.', '2021.07.19.', '2021.07.20.',\n",
       "       '2021.07.17.', '2021.07.16.', '2021.07.15.', '2021.07.14.',\n",
       "       '2021.07.13.', '2021.07.12.', '2021.07.11.', '2021.07.10.',\n",
       "       '2021.07.09.', '2021.07.08.', '2021.07.07.', '2021.07.06.',\n",
       "       '2021.07.05.', '2021.07.02.', '2021.07.01.', '2021.07.04.',\n",
       "       '2021.06.30.', '2021.06.29.', '2021.06.28.', '2021.06.25.',\n",
       "       '2021.06.24.', '2021.06.23.', '2021.06.22.', '2021.06.21.',\n",
       "       '2021.06.19.', '2021.06.20.', '2021.06.18.', '2021.06.17.',\n",
       "       '2021.06.16.', '2021.06.15.', '2021.06.14.', '2021.06.13.',\n",
       "       '2021.06.12.', '2021.06.11.', '2021.06.10.', '2021.06.09.',\n",
       "       '2021.06.07.'], dtype=object)"
      ]
     },
     "execution_count": 66,
     "metadata": {},
     "output_type": "execute_result"
    }
   ],
   "source": [
    "data['date'].unique()"
   ]
  }
 ],
 "metadata": {
  "kernelspec": {
   "display_name": "Python 3",
   "language": "python",
   "name": "python3"
  },
  "language_info": {
   "codemirror_mode": {
    "name": "ipython",
    "version": 3
   },
   "file_extension": ".py",
   "mimetype": "text/x-python",
   "name": "python",
   "nbconvert_exporter": "python",
   "pygments_lexer": "ipython3",
   "version": "3.8.8"
  }
 },
 "nbformat": 4,
 "nbformat_minor": 5
}
