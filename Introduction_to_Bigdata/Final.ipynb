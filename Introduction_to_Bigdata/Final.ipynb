{
 "cells": [
  {
   "cell_type": "code",
   "execution_count": 129,
   "id": "5f60f8cd",
   "metadata": {},
   "outputs": [],
   "source": [
    "import pandas as pd\n",
    "import numpy as np\n",
    "import matplotlib.pyplot as plt\n",
    "import seaborn as sns\n",
    "import warnings\n",
    "warnings.filterwarnings('ignore')\n",
    "from sklearn.ensemble import RandomForestClassifier\n",
    "from lightgbm import LGBMClassifier\n",
    "from sklearn.metrics import accuracy_score\n",
    "from sklearn.preprocessing import StandardScaler,MinMaxScaler"
   ]
  },
  {
   "cell_type": "code",
   "execution_count": 64,
   "id": "c8b0a63e",
   "metadata": {},
   "outputs": [],
   "source": [
    "## Samsung"
   ]
  },
  {
   "cell_type": "code",
   "execution_count": 5,
   "id": "a7eacb7e",
   "metadata": {},
   "outputs": [],
   "source": [
    "samsung_train = pd.read_csv('final_data/samsung_train.csv',parse_dates = ['date'])\n",
    "samsung_test = pd.read_csv('final_data/samsung_test.csv',parse_dates = ['date'])"
   ]
  },
  {
   "cell_type": "code",
   "execution_count": 6,
   "id": "b4f8a5ee",
   "metadata": {},
   "outputs": [],
   "source": [
    "samsung_train.drop(0,axis=0,inplace = True)"
   ]
  },
  {
   "cell_type": "code",
   "execution_count": 7,
   "id": "d68b0fd4",
   "metadata": {},
   "outputs": [],
   "source": [
    "samsung_train = samsung_train.reset_index(drop=True)"
   ]
  },
  {
   "cell_type": "code",
   "execution_count": 9,
   "id": "c4579a17",
   "metadata": {},
   "outputs": [],
   "source": [
    "remove_idx = []\n",
    "for idx,i in enumerate(samsung_train['samsung_change']):\n",
    "    if i == 0:\n",
    "        samsung_train['up_count'][idx-1] += samsung_train['up_count'][idx]\n",
    "        samsung_train['down_count'][idx-1] += samsung_train['down_count'][idx]\n",
    "        samsung_train['news_up'][idx-1] += samsung_train['news_up'][idx]\n",
    "        samsung_train['news_down'][idx-1] += samsung_train['news_down'][idx]\n",
    "        remove_idx.append(idx)\n",
    "samsung_train.drop(remove_idx,axis=0,inplace = True)"
   ]
  },
  {
   "cell_type": "code",
   "execution_count": 14,
   "id": "cfee1286",
   "metadata": {},
   "outputs": [],
   "source": [
    "remove_idx = []\n",
    "for idx,i in enumerate(samsung_test['change']):\n",
    "    if i == 0:\n",
    "        samsung_test['up_count'][idx-1] += samsung_test['up_count'][idx]\n",
    "        samsung_test['down_count'][idx-1] += samsung_test['down_count'][idx]\n",
    "        samsung_test['news_up_count'][idx-1] += samsung_test['news_up_count'][idx]\n",
    "        samsung_test['news_down_count'][idx-1] += samsung_test['news_down_count'][idx]\n",
    "        remove_idx.append(idx)\n",
    "samsung_test.drop(remove_idx,axis=0,inplace = True)"
   ]
  },
  {
   "cell_type": "code",
   "execution_count": 32,
   "id": "daa3527c",
   "metadata": {},
   "outputs": [],
   "source": [
    "samsung_train['down_count'] = -samsung_train['down_count']\n",
    "samsung_train['news_down'] = -samsung_train['news_down']"
   ]
  },
  {
   "cell_type": "code",
   "execution_count": 33,
   "id": "3348f5d9",
   "metadata": {},
   "outputs": [],
   "source": [
    "samsung_test['down_count'] = -samsung_test['down_count']\n",
    "samsung_test['news_down_count'] = -samsung_test['news_down_count']"
   ]
  },
  {
   "cell_type": "code",
   "execution_count": null,
   "id": "5e9f17f7",
   "metadata": {},
   "outputs": [],
   "source": [
    "## 뉴스와 investing 반응 구분"
   ]
  },
  {
   "cell_type": "code",
   "execution_count": 34,
   "id": "8cde7519",
   "metadata": {},
   "outputs": [],
   "source": [
    "train_x = samsung_train.drop(['date','samsung_change'],axis=1)\n",
    "train_y = samsung_train['samsung_change'].apply(lambda x: 1 if x>0 else 0)"
   ]
  },
  {
   "cell_type": "code",
   "execution_count": 35,
   "id": "cf826521",
   "metadata": {},
   "outputs": [],
   "source": [
    "test_x = samsung_test.drop(['date','change'],axis=1)\n",
    "test_y = samsung_test['change'].apply(lambda x: 1 if x > 0 else 0)"
   ]
  },
  {
   "cell_type": "code",
   "execution_count": 36,
   "id": "33499d3b",
   "metadata": {},
   "outputs": [
    {
     "data": {
      "text/plain": [
       "0.45454545454545453"
      ]
     },
     "execution_count": 36,
     "metadata": {},
     "output_type": "execute_result"
    }
   ],
   "source": [
    "rf = RandomForestClassifier(random_state = 42)\n",
    "rf.fit(train_x,train_y)\n",
    "accuracy_score(test_y,rf.predict(test_x))"
   ]
  },
  {
   "cell_type": "code",
   "execution_count": 37,
   "id": "2e416859",
   "metadata": {},
   "outputs": [
    {
     "data": {
      "text/plain": [
       "0.45454545454545453"
      ]
     },
     "execution_count": 37,
     "metadata": {},
     "output_type": "execute_result"
    }
   ],
   "source": [
    "lgbm = LGBMClassifier(random_state = 42)\n",
    "lgbm.fit(train_x,train_y)\n",
    "accuracy_score(test_y,lgbm.predict(test_x))"
   ]
  },
  {
   "cell_type": "code",
   "execution_count": 39,
   "id": "82f2fb7d",
   "metadata": {},
   "outputs": [],
   "source": [
    "## 뉴스와 investing 반응 구분 X"
   ]
  },
  {
   "cell_type": "code",
   "execution_count": 41,
   "id": "bbbdc22e",
   "metadata": {},
   "outputs": [],
   "source": [
    "samsung_train2 = samsung_train.copy()\n",
    "samsung_test2 = samsung_test.copy()\n",
    "samsung_train2['up'] = samsung_train2['up_count'] + samsung_train2['news_up']\n",
    "samsung_test2['up'] = samsung_test2['up_count'] + samsung_test2['news_up_count']\n",
    "samsung_train2['down'] = samsung_train2['down_count'] + samsung_train2['news_down']\n",
    "samsung_test2['down'] = samsung_test2['down_count'] + samsung_test2['news_down_count']"
   ]
  },
  {
   "cell_type": "code",
   "execution_count": 48,
   "id": "cbfa000b",
   "metadata": {},
   "outputs": [],
   "source": [
    "train_x2 = samsung_train2[['samsung_price','up','down']]\n",
    "test_x2 = samsung_test2[['price','up','down']]"
   ]
  },
  {
   "cell_type": "code",
   "execution_count": 44,
   "id": "9c340ab0",
   "metadata": {},
   "outputs": [
    {
     "data": {
      "text/plain": [
       "0.36363636363636365"
      ]
     },
     "execution_count": 44,
     "metadata": {},
     "output_type": "execute_result"
    }
   ],
   "source": [
    "rf = RandomForestClassifier(random_state = 42)\n",
    "rf.fit(train_x2,train_y)\n",
    "accuracy_score(test_y,rf.predict(test_x2))"
   ]
  },
  {
   "cell_type": "code",
   "execution_count": 49,
   "id": "c1557ebd",
   "metadata": {},
   "outputs": [
    {
     "data": {
      "text/plain": [
       "0.45454545454545453"
      ]
     },
     "execution_count": 49,
     "metadata": {},
     "output_type": "execute_result"
    }
   ],
   "source": [
    "lgbm = LGBMClassifier(random_state = 42)\n",
    "lgbm.fit(train_x2,train_y)\n",
    "accuracy_score(test_y,lgbm.predict(test_x2))"
   ]
  },
  {
   "cell_type": "code",
   "execution_count": 55,
   "id": "3ed5bda8",
   "metadata": {},
   "outputs": [],
   "source": [
    "train_x['samsung_price'] = StandardScaler().fit_transform(train_x['samsung_price'].values.reshape(-1,1))"
   ]
  },
  {
   "cell_type": "code",
   "execution_count": 56,
   "id": "08f7871a",
   "metadata": {},
   "outputs": [],
   "source": [
    "train_x2['samsung_price'] = StandardScaler().fit_transform(train_x2['samsung_price'].values.reshape(-1,1))"
   ]
  },
  {
   "cell_type": "code",
   "execution_count": 60,
   "id": "3d71111b",
   "metadata": {},
   "outputs": [
    {
     "data": {
      "text/plain": [
       "1.0"
      ]
     },
     "execution_count": 60,
     "metadata": {},
     "output_type": "execute_result"
    }
   ],
   "source": [
    "rf.fit(train_x,train_y)\n",
    "accuracy_score(train_y,rf.predict(train_x))"
   ]
  },
  {
   "cell_type": "code",
   "execution_count": 61,
   "id": "4e53b54b",
   "metadata": {},
   "outputs": [
    {
     "data": {
      "text/plain": [
       "0.8609625668449198"
      ]
     },
     "execution_count": 61,
     "metadata": {},
     "output_type": "execute_result"
    }
   ],
   "source": [
    "lgbm.fit(train_x,train_y)\n",
    "accuracy_score(train_y,lgbm.predict(train_x))"
   ]
  },
  {
   "cell_type": "code",
   "execution_count": 62,
   "id": "87b49a40",
   "metadata": {},
   "outputs": [
    {
     "data": {
      "text/plain": [
       "1.0"
      ]
     },
     "execution_count": 62,
     "metadata": {},
     "output_type": "execute_result"
    }
   ],
   "source": [
    "rf.fit(train_x2,train_y)\n",
    "accuracy_score(train_y,rf.predict(train_x2))"
   ]
  },
  {
   "cell_type": "code",
   "execution_count": 63,
   "id": "c4f41909",
   "metadata": {},
   "outputs": [
    {
     "data": {
      "text/plain": [
       "0.8609625668449198"
      ]
     },
     "execution_count": 63,
     "metadata": {},
     "output_type": "execute_result"
    }
   ],
   "source": [
    "lgbm.fit(train_x2,train_y)\n",
    "accuracy_score(train_y,lgbm.predict(train_x2))"
   ]
  },
  {
   "cell_type": "code",
   "execution_count": 152,
   "id": "899c4338",
   "metadata": {},
   "outputs": [],
   "source": [
    "naver_train = pd.read_csv('final_data/naver_train.csv',parse_dates = ['date'])\n",
    "naver_test = pd.read_csv('final_data/naver_test.csv',parse_dates = ['date'])"
   ]
  },
  {
   "cell_type": "code",
   "execution_count": 153,
   "id": "c145686f",
   "metadata": {},
   "outputs": [],
   "source": [
    "naver_train['naver_price'] = MinMaxScaler().fit_transform(naver_train['naver_price'].values.reshape(-1,1))"
   ]
  },
  {
   "cell_type": "code",
   "execution_count": 154,
   "id": "2614dd22",
   "metadata": {},
   "outputs": [],
   "source": [
    "naver_test['price'] = MinMaxScaler().fit_transform(naver_test['price'].values.reshape(-1,1))"
   ]
  },
  {
   "cell_type": "code",
   "execution_count": 155,
   "id": "7d77fab8",
   "metadata": {},
   "outputs": [],
   "source": [
    "naver_train.fillna(0,inplace=True)"
   ]
  },
  {
   "cell_type": "code",
   "execution_count": 156,
   "id": "1acc55ee",
   "metadata": {},
   "outputs": [],
   "source": [
    "naver_train.drop(0,axis=0,inplace = True)\n",
    "naver_train = naver_train.reset_index(drop=True)"
   ]
  },
  {
   "cell_type": "code",
   "execution_count": 157,
   "id": "2934d4e4",
   "metadata": {},
   "outputs": [],
   "source": [
    "remove_idx = []\n",
    "for idx,i in enumerate(naver_train['naver_change']):\n",
    "    if i == 0:\n",
    "        naver_train['up_count'][idx-1] += naver_train['up_count'][idx]\n",
    "        naver_train['down_count'][idx-1] += naver_train['down_count'][idx]\n",
    "        naver_train['news_up_count'][idx-1] += naver_train['news_up_count'][idx]\n",
    "        naver_train['news_down_count'][idx-1] += naver_train['news_down_count'][idx]\n",
    "        remove_idx.append(idx)\n",
    "naver_train.drop(remove_idx,axis=0,inplace = True)"
   ]
  },
  {
   "cell_type": "code",
   "execution_count": 158,
   "id": "99fd97d0",
   "metadata": {},
   "outputs": [],
   "source": [
    "remove_idx = []\n",
    "for idx,i in enumerate(naver_test['change']):\n",
    "    if i == 0:\n",
    "        naver_test['up_count'][idx-1] += naver_test['up_count'][idx]\n",
    "        naver_test['down_count'][idx-1] += naver_test['down_count'][idx]\n",
    "        naver_test['news_up_count'][idx-1] += naver_test['news_up_count'][idx]\n",
    "        naver_test['news_down_count'][idx-1] += naver_test['news_down_count'][idx]\n",
    "        remove_idx.append(idx)\n",
    "naver_test.drop(remove_idx,axis=0,inplace = True)"
   ]
  },
  {
   "cell_type": "code",
   "execution_count": 159,
   "id": "23d40166",
   "metadata": {},
   "outputs": [],
   "source": [
    "naver_train['down_count'] = -naver_train['down_count']\n",
    "naver_train['news_down_count'] = -naver_train['news_down_count']"
   ]
  },
  {
   "cell_type": "code",
   "execution_count": 160,
   "id": "cf1fb9f3",
   "metadata": {},
   "outputs": [],
   "source": [
    "naver_test['down_count'] = -naver_test['down_count']\n",
    "naver_test['news_down_count'] = -naver_test['news_down_count']"
   ]
  },
  {
   "cell_type": "code",
   "execution_count": 161,
   "id": "f9f76b10",
   "metadata": {},
   "outputs": [],
   "source": [
    "## 컬럼 구분"
   ]
  },
  {
   "cell_type": "code",
   "execution_count": 162,
   "id": "af55cc85",
   "metadata": {},
   "outputs": [],
   "source": [
    "train_x = naver_train.drop(['date','naver_change'],axis=1)\n",
    "train_y = naver_train['naver_change'].apply(lambda x: 1 if x>0 else 0)\n",
    "test_x = naver_test.drop(['date','change'],axis=1)\n",
    "test_y = naver_test['change'].apply(lambda x: 1 if x>0 else 0)"
   ]
  },
  {
   "cell_type": "code",
   "execution_count": 163,
   "id": "1739a5f2",
   "metadata": {},
   "outputs": [
    {
     "data": {
      "text/plain": [
       "0.5454545454545454"
      ]
     },
     "execution_count": 163,
     "metadata": {},
     "output_type": "execute_result"
    }
   ],
   "source": [
    "rf.fit(train_x,train_y)\n",
    "accuracy_score(test_y,rf.predict(test_x))"
   ]
  },
  {
   "cell_type": "code",
   "execution_count": 164,
   "id": "6dde4e21",
   "metadata": {},
   "outputs": [
    {
     "data": {
      "text/plain": [
       "0.6363636363636364"
      ]
     },
     "execution_count": 164,
     "metadata": {},
     "output_type": "execute_result"
    }
   ],
   "source": [
    "lgbm.fit(train_x,train_y)\n",
    "accuracy_score(test_y,lgbm.predict(test_x))"
   ]
  },
  {
   "cell_type": "code",
   "execution_count": 165,
   "id": "dcf3d323",
   "metadata": {},
   "outputs": [],
   "source": [
    "## 컬럼 구분 X"
   ]
  },
  {
   "cell_type": "code",
   "execution_count": 166,
   "id": "3ca222aa",
   "metadata": {},
   "outputs": [],
   "source": [
    "naver_train['up'] = naver_train['up_count'] + naver_train['news_up_count']\n",
    "naver_train['down'] = naver_train['down_count'] + naver_train['news_down_count']\n",
    "\n",
    "naver_test['up'] = naver_test['up_count'] + naver_test['news_up_count']\n",
    "naver_test['down'] = naver_test['down_count'] + naver_test['news_down_count']"
   ]
  },
  {
   "cell_type": "code",
   "execution_count": 167,
   "id": "1ad93b00",
   "metadata": {},
   "outputs": [],
   "source": [
    "train_x = naver_train[['naver_price','up','down']]\n",
    "test_x = naver_test[['price','up','down']]"
   ]
  },
  {
   "cell_type": "code",
   "execution_count": 168,
   "id": "fff59c5d",
   "metadata": {},
   "outputs": [
    {
     "data": {
      "text/plain": [
       "0.7272727272727273"
      ]
     },
     "execution_count": 168,
     "metadata": {},
     "output_type": "execute_result"
    }
   ],
   "source": [
    "rf.fit(train_x,train_y)\n",
    "accuracy_score(test_y,rf.predict(test_x))"
   ]
  },
  {
   "cell_type": "code",
   "execution_count": 169,
   "id": "5c991fe4",
   "metadata": {},
   "outputs": [
    {
     "data": {
      "text/plain": [
       "0.8181818181818182"
      ]
     },
     "execution_count": 169,
     "metadata": {},
     "output_type": "execute_result"
    }
   ],
   "source": [
    "lgbm.fit(train_x,train_y)\n",
    "accuracy_score(test_y,lgbm.predict(test_x))"
   ]
  },
  {
   "cell_type": "markdown",
   "id": "f214f965",
   "metadata": {},
   "source": [
    "## 셀트리온"
   ]
  },
  {
   "cell_type": "code",
   "execution_count": 172,
   "id": "f663beef",
   "metadata": {},
   "outputs": [],
   "source": [
    "cell_bert = pd.read_csv('bert_data/final_bert_celltrion.csv',parse_dates = ['date'])\n",
    "cell_stock = pd.read_csv('stock_price/pre_celltrion_1_10.csv',parse_dates = ['date'])"
   ]
  },
  {
   "cell_type": "code",
   "execution_count": 177,
   "id": "2c28c97a",
   "metadata": {},
   "outputs": [],
   "source": [
    "cell_merge = pd.merge(cell_stock,cell_bert,on='date',how='left').fillna(0)\n",
    "cell_merge.columns = ['date','celltrion_price','celltrion_change','news_up_count','news_down_count']"
   ]
  },
  {
   "cell_type": "code",
   "execution_count": 180,
   "id": "e6ecf743",
   "metadata": {},
   "outputs": [],
   "source": [
    "cell_investing = pd.read_csv('investing/celltrion-inc_investing.csv',parse_dates = ['date'])"
   ]
  },
  {
   "cell_type": "code",
   "execution_count": 207,
   "id": "bd038994",
   "metadata": {},
   "outputs": [],
   "source": [
    "celltrion_train = pd.merge(cell_investing,cell_merge,on='date',how='right')"
   ]
  },
  {
   "cell_type": "code",
   "execution_count": 209,
   "id": "9c9867de",
   "metadata": {},
   "outputs": [],
   "source": [
    "celltrion_train['celltrion_change'] = celltrion_train['celltrion_change'].apply(lambda x: float(x[:-1]))\n",
    "celltrion_train.to_csv('final_data/celltrion_train.csv',index=False)"
   ]
  },
  {
   "cell_type": "code",
   "execution_count": 210,
   "id": "35392ec0",
   "metadata": {},
   "outputs": [],
   "source": [
    "cell_test_bert = pd.read_csv('bert_data/test/final_bank_bert_test.csv',parse_dates = ['date'])"
   ]
  },
  {
   "cell_type": "code",
   "execution_count": 214,
   "id": "721e9517",
   "metadata": {},
   "outputs": [],
   "source": [
    "cell_test_price = pd.read_csv('test_data/pre_celltrion_11.csv',parse_dates = ['date'])\n",
    "cell_test_price['price'] = cell_test_price['price'].apply(lambda x: float(x.replace(',','')))\n",
    "cell_test_price['change'] = cell_test_price['change'].apply(lambda x: float(x[:-1]))"
   ]
  },
  {
   "cell_type": "code",
   "execution_count": 216,
   "id": "fa35a6aa",
   "metadata": {},
   "outputs": [],
   "source": [
    "cell_test_investing = pd.read_excel('test_data/celltrion_investing_test.xlsx')"
   ]
  },
  {
   "cell_type": "code",
   "execution_count": 219,
   "id": "2a7aab9c",
   "metadata": {},
   "outputs": [],
   "source": [
    "cell_test_investing['date'] = pd.to_datetime(cell_test_investing['date'])"
   ]
  },
  {
   "cell_type": "code",
   "execution_count": 221,
   "id": "da82540a",
   "metadata": {},
   "outputs": [],
   "source": [
    "cell_test_bert.columns= ['date','news_up_count','news_down_count']"
   ]
  },
  {
   "cell_type": "code",
   "execution_count": 225,
   "id": "d3715689",
   "metadata": {},
   "outputs": [],
   "source": [
    "cell_test = pd.merge(cell_test_investing,cell_test_price,on='date')"
   ]
  },
  {
   "cell_type": "code",
   "execution_count": 229,
   "id": "11c3f6d4",
   "metadata": {},
   "outputs": [],
   "source": [
    "cell_test = pd.merge(cell_test,cell_test_bert,on='date',how='left').fillna(0)"
   ]
  },
  {
   "cell_type": "code",
   "execution_count": 231,
   "id": "c17a768f",
   "metadata": {},
   "outputs": [],
   "source": [
    "cell_test.to_csv('final_data/celltrion_test.csv',index=False)"
   ]
  },
  {
   "cell_type": "code",
   "execution_count": 233,
   "id": "2c1bb785",
   "metadata": {},
   "outputs": [
    {
     "data": {
      "text/plain": [
       "<AxesSubplot:xlabel='date', ylabel='price'>"
      ]
     },
     "execution_count": 233,
     "metadata": {},
     "output_type": "execute_result"
    },
    {
     "data": {
      "image/png": "[encoded data removed]",
      "text/plain": [
       "<Figure size 864x576 with 1 Axes>"
      ]
     },
     "metadata": {
      "needs_background": "light"
     },
     "output_type": "display_data"
    }
   ],
   "source": [
    "plt.figure(figsize=(12,8))\n",
    "plt.title('celltrion test')\n",
    "sns.lineplot(cell_test['date'],cell_test['price'])"
   ]
  },
  {
   "cell_type": "code",
   "execution_count": 242,
   "id": "efa19fa5",
   "metadata": {},
   "outputs": [],
   "source": [
    "celltrion_train.drop(0,axis=0,inplace = True)"
   ]
  },
  {
   "cell_type": "code",
   "execution_count": 243,
   "id": "d13b78cf",
   "metadata": {},
   "outputs": [],
   "source": [
    "remove_idx = []\n",
    "for idx,i in enumerate(celltrion_train['celltrion_change']):\n",
    "    if i == 0:\n",
    "        celltrion_train['up_count'][idx-1] += celltrion_train['up_count'][idx]\n",
    "        celltrion_train['down_count'][idx-1] += celltrion_train['down_count'][idx]\n",
    "        celltrion_train['news_up_count'][idx-1] += celltrion_train['news_up_count'][idx]\n",
    "        celltrion_train['news_down_count'][idx-1] += celltrion_train['news_down_count'][idx]\n",
    "        remove_idx.append(idx)\n",
    "celltrion_train.drop(remove_idx,axis=0,inplace = True)"
   ]
  },
  {
   "cell_type": "code",
   "execution_count": 246,
   "id": "2c3c162f",
   "metadata": {},
   "outputs": [],
   "source": [
    "celltrion_train = celltrion_train.reset_index(drop=True)"
   ]
  },
  {
   "cell_type": "code",
   "execution_count": 251,
   "id": "3da402c7",
   "metadata": {},
   "outputs": [],
   "source": [
    "remove_idx = []\n",
    "for idx,i in enumerate(cell_test['change']):\n",
    "    if i == 0:\n",
    "        cell_test['up_count'][idx-1] += cell_test['up_count'][idx]\n",
    "        cell_test['down_count'][idx-1] += cell_test['down_count'][idx]\n",
    "        cell_test['news_up_count'][idx-1] += cell_test['news_up_count'][idx]\n",
    "        cell_test['news_down_count'][idx-1] += cell_test['news_down_count'][idx]\n",
    "        remove_idx.append(idx)\n",
    "cell_test.drop(remove_idx,axis=0,inplace = True)"
   ]
  },
  {
   "cell_type": "code",
   "execution_count": 252,
   "id": "ef957700",
   "metadata": {},
   "outputs": [],
   "source": [
    "cell_test = cell_test.reset_index(drop=True)"
   ]
  },
  {
   "cell_type": "code",
   "execution_count": 257,
   "id": "dce4ca3c",
   "metadata": {},
   "outputs": [],
   "source": [
    "celltrion_train = celltrion_train.sort_values('date').reset_index(drop=True)"
   ]
  },
  {
   "cell_type": "code",
   "execution_count": 264,
   "id": "c5770860",
   "metadata": {},
   "outputs": [],
   "source": [
    "train_x = celltrion_train['celltrion_price'].values.reshape(-1,1)\n",
    "train_y = celltrion_train['celltrion_change'].apply(lambda x: 1 if x>0 else 0)\n",
    "test_x = cell_test['price'].values.reshape(-1,1)\n",
    "test_y = cell_test['change'].apply(lambda x: 1 if x>0 else 0)"
   ]
  },
  {
   "cell_type": "code",
   "execution_count": 267,
   "id": "fbfb263a",
   "metadata": {},
   "outputs": [],
   "source": [
    "train_x = StandardScaler().fit_transform(train_x)\n",
    "test_x = StandardScaler().fit_transform(test_x)"
   ]
  },
  {
   "cell_type": "code",
   "execution_count": 268,
   "id": "8a28e4d0",
   "metadata": {},
   "outputs": [
    {
     "data": {
      "text/plain": [
       "0.18181818181818182"
      ]
     },
     "execution_count": 268,
     "metadata": {},
     "output_type": "execute_result"
    }
   ],
   "source": [
    "rf.fit(train_x,train_y)\n",
    "accuracy_score(test_y,rf.predict(test_x))"
   ]
  },
  {
   "cell_type": "code",
   "execution_count": 269,
   "id": "c56b520f",
   "metadata": {},
   "outputs": [
    {
     "data": {
      "text/plain": [
       "0.2727272727272727"
      ]
     },
     "execution_count": 269,
     "metadata": {},
     "output_type": "execute_result"
    }
   ],
   "source": [
    "lgbm.fit(train_x,train_y)\n",
    "accuracy_score(test_y,lgbm.predict(test_x))"
   ]
  },
  {
   "cell_type": "code",
   "execution_count": 285,
   "id": "958978a9",
   "metadata": {},
   "outputs": [],
   "source": [
    "celltrion_train['down_count'] = -celltrion_train['down_count']\n",
    "cell_test['down_count'] = -cell_test['down_count']"
   ]
  },
  {
   "cell_type": "code",
   "execution_count": 275,
   "id": "aa23961a",
   "metadata": {},
   "outputs": [],
   "source": [
    "train_x = celltrion_train[['celltrion_price','up_count','down_count']]\n",
    "test_x = cell_test[['price','up_count','down_count']]"
   ]
  },
  {
   "cell_type": "code",
   "execution_count": 287,
   "id": "440a4fba",
   "metadata": {},
   "outputs": [],
   "source": [
    "train_x['celltrion_price'] = StandardScaler().fit_transform(train_x['celltrion_price'].values.reshape(-1,1))\n",
    "test_x['price'] = StandardScaler().fit_transform(test_x['price'].values.reshape(-1,1))"
   ]
  },
  {
   "cell_type": "code",
   "execution_count": 288,
   "id": "ff6d1229",
   "metadata": {},
   "outputs": [
    {
     "data": {
      "text/plain": [
       "0.36363636363636365"
      ]
     },
     "execution_count": 288,
     "metadata": {},
     "output_type": "execute_result"
    }
   ],
   "source": [
    "rf.fit(train_x,train_y)\n",
    "accuracy_score(test_y,rf.predict(test_x))"
   ]
  },
  {
   "cell_type": "code",
   "execution_count": 289,
   "id": "24bae10b",
   "metadata": {},
   "outputs": [
    {
     "data": {
      "text/plain": [
       "0.2727272727272727"
      ]
     },
     "execution_count": 289,
     "metadata": {},
     "output_type": "execute_result"
    }
   ],
   "source": [
    "lgbm.fit(train_x,train_y)\n",
    "accuracy_score(test_y,lgbm.predict(test_x))"
   ]
  },
  {
   "cell_type": "code",
   "execution_count": 290,
   "id": "2fb4a67b",
   "metadata": {},
   "outputs": [],
   "source": [
    "celltrion_train['news_down_count'] = - celltrion_train['news_down_count']\n",
    "cell_test['news_down_count'] = -cell_test['news_down_count']"
   ]
  },
  {
   "cell_type": "code",
   "execution_count": 291,
   "id": "b9fbcd77",
   "metadata": {},
   "outputs": [],
   "source": [
    "train_x = celltrion_train[['celltrion_price','up_count','down_count','news_up_count','news_down_count']]\n",
    "test_x = cell_test[['price','up_count','down_count','news_up_count','news_down_count']]"
   ]
  },
  {
   "cell_type": "code",
   "execution_count": 294,
   "id": "61c52311",
   "metadata": {},
   "outputs": [],
   "source": [
    "train_x['celltrion_price'] = StandardScaler().fit_transform(train_x['celltrion_price'].values.reshape(-1,1))\n",
    "test_x['price'] = StandardScaler().fit_transform(test_x['price'].values.reshape(-1,1))"
   ]
  },
  {
   "cell_type": "code",
   "execution_count": 295,
   "id": "7885a071",
   "metadata": {},
   "outputs": [
    {
     "data": {
      "text/plain": [
       "0.36363636363636365"
      ]
     },
     "execution_count": 295,
     "metadata": {},
     "output_type": "execute_result"
    }
   ],
   "source": [
    "rf.fit(train_x,train_y)\n",
    "accuracy_score(test_y,rf.predict(test_x))"
   ]
  },
  {
   "cell_type": "code",
   "execution_count": 296,
   "id": "5ae61579",
   "metadata": {},
   "outputs": [
    {
     "data": {
      "text/plain": [
       "0.36363636363636365"
      ]
     },
     "execution_count": 296,
     "metadata": {},
     "output_type": "execute_result"
    }
   ],
   "source": [
    "lgbm.fit(train_x,train_y)\n",
    "accuracy_score(test_y,lgbm.predict(test_x))"
   ]
  },
  {
   "cell_type": "code",
   "execution_count": 298,
   "id": "cc86d88c",
   "metadata": {},
   "outputs": [],
   "source": [
    "train_x['up'] = train_x['up_count'] + train_x['news_up_count']\n",
    "train_x['down'] = train_x['down_count'] + train_x['news_down_count']"
   ]
  },
  {
   "cell_type": "code",
   "execution_count": 299,
   "id": "dfb1ceca",
   "metadata": {},
   "outputs": [],
   "source": [
    "test_x['up'] = test_x['up_count'] + test_x['news_up_count']\n",
    "test_x['down'] = test_x['down_count'] + test_x['news_down_count']"
   ]
  },
  {
   "cell_type": "code",
   "execution_count": 300,
   "id": "b72cc150",
   "metadata": {},
   "outputs": [],
   "source": [
    "train_x.drop(['up_count','news_up_count','down_count','news_down_count'],axis=1,inplace = True)\n",
    "test_x.drop(['up_count','news_up_count','down_count','news_down_count'],axis=1,inplace = True)"
   ]
  },
  {
   "cell_type": "code",
   "execution_count": 302,
   "id": "b1b2a828",
   "metadata": {},
   "outputs": [
    {
     "data": {
      "text/plain": [
       "0.36363636363636365"
      ]
     },
     "execution_count": 302,
     "metadata": {},
     "output_type": "execute_result"
    }
   ],
   "source": [
    "rf.fit(train_x,train_y)\n",
    "accuracy_score(test_y,rf.predict(test_x))"
   ]
  },
  {
   "cell_type": "code",
   "execution_count": 303,
   "id": "7bc3c7a8",
   "metadata": {},
   "outputs": [
    {
     "data": {
      "text/plain": [
       "0.45454545454545453"
      ]
     },
     "execution_count": 303,
     "metadata": {},
     "output_type": "execute_result"
    }
   ],
   "source": [
    "lgbm.fit(train_x,train_y)\n",
    "accuracy_score(test_y,lgbm.predict(test_x))"
   ]
  }
 ],
 "metadata": {
  "kernelspec": {
   "display_name": "Python 3",
   "language": "python",
   "name": "python3"
  },
  "language_info": {
   "codemirror_mode": {
    "name": "ipython",
    "version": 3
   },
   "file_extension": ".py",
   "mimetype": "text/x-python",
   "name": "python",
   "nbconvert_exporter": "python",
   "pygments_lexer": "ipython3",
   "version": "3.8.8"
  }
 },
 "nbformat": 4,
 "nbformat_minor": 5
}
