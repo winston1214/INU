{
 "cells": [
  {
   "cell_type": "markdown",
   "metadata": {},
   "source": [
    "# 구문 분석: Part I - formal grammar "
   ]
  },
  {
   "cell_type": "markdown",
   "metadata": {},
   "source": [
    "All rights reserved, 2021, By Youn-Sik Hong. 수업 목적으로만 활용 가능."
   ]
  },
  {
   "cell_type": "markdown",
   "metadata": {},
   "source": [
    "- 참고 사이트 \n",
    "    - nltk book 8.Analyzing sentence structure(https://www.nltk.org/book/ch08.html) 내용을 참고해서 자료를 만듦. \n",
    "    - nltk book의 8장 예제 인용.\n",
    "- 참고 서적\n",
    "    - Natural Language Processing with Python Cookbook, Krishna Bhavsar, Naresh Kumar, Pratap Dangeti, Packt Publishing, 2017.\n",
    "    - Chapter 6, Chapter 7의 예제 일부 사용."
   ]
  },
  {
   "cell_type": "markdown",
   "metadata": {},
   "source": [
    "여기서 다룰 내용은 아래 질문에 대한 답입니다.\n",
    "- 다양한 문장 구조를 표현하려면 형식 문법을 어떻게 정의하면 될까? \n",
    "- 문장 분석 과정을 구문 트리에서 어떻게 보여줄 수 있을까?\n",
    "- 파서(parser)가 문장을 어떻게 분석하고, 구문 트리를 자동으로 만들 수 있을까?"
   ]
  },
  {
   "cell_type": "code",
   "execution_count": null,
   "metadata": {},
   "outputs": [],
   "source": [
    "import nltk, re\n",
    "import string"
   ]
  },
  {
   "cell_type": "markdown",
   "metadata": {},
   "source": [
    "# 1.   형식 문법(formal grammar)"
   ]
  },
  {
   "cell_type": "markdown",
   "metadata": {},
   "source": [
    "## 1.1  문법과 생성 규칙"
   ]
  },
  {
   "cell_type": "markdown",
   "metadata": {},
   "source": [
    "언어란 (문법에 맞는) 문장의 방대한 집합입니다. \n",
    "- **형식 문법**은 언어 집합의 원소인 문장을 **생성(generate)** 하기 위한 형식을 갖춘 표기법입니다.\n",
    "- 문법은 **S → S and S** 와 같은 순환 생성 규칙을 포함하고 있습니다.\n",
    "    - 순환 생성 규칙을 통해 문장 길이에 제한을 받지 않는 문장을 생성할 수 있습니다.\n",
    "- 문법에 속한 각 부분의 의미 분석을 통해 문장의 의미를 유추할 수 있습니다."
   ]
  },
  {
   "cell_type": "markdown",
   "metadata": {},
   "source": [
    "### (1) 문법 정의\n",
    "간단한 문법을 정의하고, 이 문법이 문장을 어떻게 생성할 수 있는지 알아보겠습니다.\n",
    "- 생성 규칙(production)은 문자열(*str*) 리스트로 표현. \n",
    "- ' '은 빈 문자열(empty string)을 가리킴. 빈 문자열은 길이가 0인 문자열로, 생략 가능함을 나타냄."
   ]
  },
  {
   "cell_type": "code",
   "execution_count": null,
   "metadata": {},
   "outputs": [],
   "source": [
    "productions = [\n",
    "    \"ROOT -> WORD\",\n",
    "    \"WORD -> ' '\",  #empty string. 따옴표 사이에 space가 있어야 함.\n",
    "    \"WORD -> NUMBER LETTER\",\n",
    "    \"WORD -> LETTER\"\n",
    "]"
   ]
  },
  {
   "cell_type": "markdown",
   "metadata": {},
   "source": [
    "- join 메소드를 사용하여 모든 생성 규칙을 하나의 문자열(*grammarRules*)로 합칩니다.\n",
    "    - '\\n'은 문자열을 합칠 때 구분기호(separator)로 사용. 즉, 생성 규칙과 생성 규칙은 newline으로 구분됨.\n",
    "- 문법(*gr*)을 생성하기 위해 **nltk.CFG.fromstring()** 메소드를 호출.\n",
    "    - 여기서 문법은 CFG(context free grammar)"
   ]
  },
  {
   "cell_type": "code",
   "execution_count": null,
   "metadata": {},
   "outputs": [],
   "source": [
    "grammarRules = \"\\n\".join(productions)\n",
    "\n",
    "gr = nltk.CFG.fromstring(grammarRules)\n",
    "print(type(productions), type(grammarRules), type(gr))"
   ]
  },
  {
   "cell_type": "code",
   "execution_count": null,
   "metadata": {},
   "outputs": [],
   "source": [
    "print(gr) "
   ]
  },
  {
   "cell_type": "code",
   "execution_count": null,
   "metadata": {},
   "outputs": [],
   "source": [
    "print(gr.start()) #start symbol of the grammar\n",
    "print(gr.productions()[1].lhs()) #lhs-left hand side of the 2nd production\n",
    "print(gr.productions()[2].rhs()) #rhs-right hand side of the 3rd production"
   ]
  },
  {
   "cell_type": "markdown",
   "metadata": {},
   "source": [
    "### (2) 문법 추가: NUMBER, LETTER 정의\n",
    "**NUMBER, LETTER**는 입력에 나타날 기호, 즉 terminal에 관한 정의가 필요합니다. terminal에 해당하는 문자열을 생성 규칙에 추가하겠습니다."
   ]
  },
  {
   "cell_type": "markdown",
   "metadata": {},
   "source": [
    "- 문자 상수, 숫자 상수는 따옴표(apstrophe)로 묶어야 합니다.\n",
    "    - 이를 *literal* 이라고 부릅니다.\n",
    "- 먼저 NUMBER에 관한 규칙을 추가하겠습니다. 간단히 숫자 0, 1, 2만 추가합니다."
   ]
  },
  {
   "cell_type": "code",
   "execution_count": null,
   "metadata": {},
   "outputs": [],
   "source": [
    "digits = list(string.digits)\n",
    "for digit in digits[:3]:\n",
    "    productions.append(\"NUMBER -> '{w}'\".format(w=digit)) \n",
    "productions    "
   ]
  },
  {
   "cell_type": "markdown",
   "metadata": {},
   "source": [
    "- 이번에는 LETTER에 관한 규칙을 추가하겠습니다.\n",
    "- 알파벳 소문자 a, b, c 만 추가하지만, 생성규칙의 lhs 기호가 같기 때문에 '|'(vertical bar)로 묶겠습니다."
   ]
  },
  {
   "cell_type": "code",
   "execution_count": null,
   "metadata": {},
   "outputs": [],
   "source": [
    "letters = \"' | '\".join(list(string.ascii_lowercase[:3]))    \n",
    "productions.append(\"LETTER -> '{w}'\".format(w=letters)) \n",
    "productions"
   ]
  },
  {
   "cell_type": "markdown",
   "metadata": {},
   "source": [
    "### (3) 문법 완성 \n",
    "- 처음에 4개의 규칙만 있었지만, **NUMBER**와 **LETTER**에 관한 규칙을 추가해 모두 10개의 규칙을 갖게 되었습니다.\n",
    "- 앞에서도 확인해겠지만, 이 문법의 start 기호는 **ROOT** 입니다.\n",
    "    - 첫 번째 규칙의 lhs가 바로 **ROOT**이기 때문입니다.\n",
    "    - 문법은 구문 분석 과정에서 구문 트리로 나타낼 때, start 기호가 구문 트리의 루트가 됩니다. "
   ]
  },
  {
   "cell_type": "code",
   "execution_count": null,
   "metadata": {},
   "outputs": [],
   "source": [
    "grammarRules = \"\\n\".join(productions)\n",
    "gr = nltk.CFG.fromstring(grammarRules)\n",
    "print(gr)"
   ]
  },
  {
   "cell_type": "markdown",
   "metadata": {},
   "source": [
    "### (4) 구문 분석\n",
    "- 여러분도 조금 익숙한 **RecursiveDescentParser** 를 파서로 사용합니다.\n",
    "- 구문 분석기(syntax analyzer), 즉 파서를 실행하면 구문 트리가 만들어집니다."
   ]
  },
  {
   "cell_type": "code",
   "execution_count": null,
   "metadata": {},
   "outputs": [],
   "source": [
    "parser = nltk.RecursiveDescentParser(gr)"
   ]
  },
  {
   "cell_type": "markdown",
   "metadata": {},
   "source": [
    "- 구문 분석을 하기 위한 입력으로 ['0', 'a']를 전달합니다.\n",
    "    - '0', 'a'는 문법에서 정의한 **terminal, 즉 token**입니다.\n",
    "    - '0, a'와 같이 하나의 문자열로 입력하면 syntax error가 발생합니다. 왜 그럴까요?\n",
    "- **tree.draw()**는 새 창(window)에 구문 트리를 출력합니다.\n",
    "    - 트리의 길이(depth)는 4입니다. 왜 그럴까요?\n",
    "    - tree를 print하면 중첩된 괄호 표기법으로 트리의 내용을 출력합니다.\n",
    "    - 창을 보고 나서 닫아야만 셀의 \\*(실행 중) 표시가 없어지고 셀 번호가 표시됩니다.\n",
    "- 트리에 관한 상세한 설명은 1.3절을 참고하세요."
   ]
  },
  {
   "cell_type": "code",
   "execution_count": null,
   "metadata": {},
   "outputs": [],
   "source": [
    "for tree in parser.parse(['0', 'a']):\n",
    "    print(tree)\n",
    "    tree.draw()\n",
    "print('depth of tree =', tree.height())    "
   ]
  },
  {
   "cell_type": "markdown",
   "metadata": {},
   "source": [
    "### (5) 문법이 생성 가능한 문장 확인\n",
    "주어진 문법이 어떤 문장을 생성하는지 아주 조금만(?) 찾아보겠습니다. \n",
    "- 생성 범위를 제한하기 위해 depth와 n을 지정합니다.\n",
    "    - **depth**는 구문 트리의 depth, **n**은 생성할 문장의 최대 갯수입니다.\n",
    "    - n을 15로 지정했지만, 생성 가능한 문장 개수는 13개이며, 구문트리의 depth는 4입니다."
   ]
  },
  {
   "cell_type": "code",
   "execution_count": null,
   "metadata": {},
   "outputs": [],
   "source": [
    "from nltk.parse.generate import generate\n",
    "\n",
    "for i, sent in enumerate(generate(gr, n=15, depth=4)):  \n",
    "    sents = \"\".join(sent)\n",
    "    print(\"{} >>> generated word: {}, size: {}\".format(i, sents, len(sents)))   "
   ]
  },
  {
   "cell_type": "markdown",
   "metadata": {},
   "source": [
    "## 1.2   모호(Ambiguity) \n",
    "\n",
    "형식 문법에서 가장 다루기 힘든 것은 모호한 문장을 분석할 때입니다. 문장이 모호(ambiguity)하다는 게 뭘까요? 형식 언어는 dangling-else 문제처럼 제한된 경우에만 모호함이 발생하지만, 자연 언어는 언제든 다양한 형태로 모호함이 발생할 수 있습니다. 문장 구조를 제대로 파악하지 못하면 문장 의미도 엉뚱하게 해석될 수 밖에 없습니다. \n",
    "\n",
    "- \"I shot an elephant in my pajamas.\" 이 문장의 모호함에 대해 자세히 살펴볼까요?\n",
    "    - 나는 파자마에 있는 코끼리를 (카메라로) 찍었다. (또는 코끼리를 (총으로) 쐈다. 코미디 영화이기 때문에 가능한 해석일 듯...)\n",
    "    - 나는 파자마를 입은 채 코끼리를 (카메라로) 찍었다.\n",
    "- 위 문장은 Groucho Mark가 주인공으로 나온 영화 'Animal Cracker'(1930)에서 나온 대사입니다. 그래서, 문법 이름이 grocho_grammar입니다 ^^."
   ]
  },
  {
   "cell_type": "code",
   "execution_count": null,
   "metadata": {},
   "outputs": [],
   "source": [
    "groucho_grammar = nltk.CFG.fromstring(\"\"\"\n",
    "S -> NP VP\n",
    "PP -> P NP\n",
    "NP -> Det N | Det N PP | 'I'\n",
    "VP -> V NP | VP PP\n",
    "Det -> 'an' | 'my'\n",
    "N -> 'elephant' | 'pajamas'\n",
    "V -> 'shot'\n",
    "P -> 'in'\n",
    "\"\"\")"
   ]
  },
  {
   "cell_type": "markdown",
   "metadata": {},
   "source": [
    "### 문법이 모호하면 2개의 구문 트리 생성\n",
    "구문 분석하면 2개 구문 트리를 출력합니다. 어떤 문장에 대해 2개 구문 트리를 생성하는 것은 문법이 모호함을 의미합니다.\n",
    "- \"in my pajamas\"란 전치사구가 사진 찍는 상태를 설명(첫 번째 트리) \n",
    "- \"in my pajamas\"란 전치사구가 코끼리를 수식하기 위해 사용(두 번째 트리)"
   ]
  },
  {
   "cell_type": "code",
   "execution_count": null,
   "metadata": {},
   "outputs": [],
   "source": [
    "sent = ['I', 'shot', 'an', 'elephant', 'in', 'my', 'pajamas']\n",
    "parser = nltk.ChartParser(groucho_grammar)\n",
    "for tree in parser.parse(sent):\n",
    "    print(tree)\n",
    "    #tree.draw()"
   ]
  },
  {
   "cell_type": "markdown",
   "metadata": {},
   "source": [
    "### 문장이 모호한 이유 : 모호한 어휘와 모호한 수식 범위\n",
    "문장이 모호한 사례를 조금 더 구체적으로 알아보자.\n",
    "- **어휘 모호성(lexical ambiguity)** - 단어가 중의적 의미(double meaning)를 갖고 있는 경우\n",
    "    - *I went to the bank.* 단어 **bank**는 강둑(river bank) 또는 은행 중 어떤 의미인지는 이어지는 문장을 살펴봐야 하겠죠."
   ]
  },
  {
   "cell_type": "code",
   "execution_count": null,
   "metadata": {},
   "outputs": [],
   "source": [
    "from nltk import Tree"
   ]
  },
  {
   "cell_type": "markdown",
   "metadata": {},
   "source": [
    "- 문장이 모호한 또 다른 예는 형용사의 수식 범위가 어디까지인지 명확하지 않은 경우입니다. \n",
    "- **old men and women**은 아래처럼 다르게 해석할 수 있기 때문입니다.\n",
    "    - a. old (men and women)\n",
    "    - b. (old men) and women\n",
    "- 아래 예제에서    \n",
    "    - *NP*(명사구), *Adj*(형용사, adjective), *Conj*(접속사, conjuction)\n",
    "    - *N*(명사, noun), *PP*(부사구), *V*(동사, verb)"
   ]
  },
  {
   "cell_type": "markdown",
   "metadata": {},
   "source": [
    "각각에 대해 구문 트리를 출력하면 보다 명확히 확인할 수 있습니다."
   ]
  },
  {
   "cell_type": "code",
   "execution_count": null,
   "metadata": {},
   "outputs": [],
   "source": [
    "s11 = '(NP (Adj old) (NP (N men) (Conj and) (N women)))'\n",
    "tree11 = Tree.fromstring(s11)\n",
    "tree11.draw()  "
   ]
  },
  {
   "cell_type": "code",
   "execution_count": null,
   "metadata": {},
   "outputs": [],
   "source": [
    "s12 = '(NP (NP (Adj old) (N men)) (Conj and) (NP (N women)))'\n",
    "tree12 = Tree.fromstring(s12)\n",
    "tree12.draw()  "
   ]
  },
  {
   "cell_type": "markdown",
   "metadata": {},
   "source": [
    "문장이 모호한 또 다른 예는 전치사구(prepositional phrases)와 관련이 있습니다.\n",
    "- **I saw the man with a telescope.** \n",
    "    - 누가 망원경을 갖고 있을까요? 날까요 그 사람인가요?\n",
    "- 조금 더 분명히 하기 위해 아래 2개의 문장을 살펴봅시다(괄호 안 내용은 문장을 부연 설명).\n",
    "    - a.The policeman saw a burglar with a gun. (not some other burglar)\n",
    "    - b.The policeman saw a burglar with a telescope. (not with his naked eye)\n",
    "- 2개 문장 모두 전치사구(**PP**)가 있으며, 이 전치사구에 주목하기 바랍니다.\n",
    "    - 위에 주석대로 문장을 해석한다면 \n",
    "        - (a)에서는 PP가 명사 burglar를 수식하며, \n",
    "        - (b)에서는 PP가 동사 saw를 수식합니다."
   ]
  },
  {
   "cell_type": "code",
   "execution_count": null,
   "metadata": {},
   "outputs": [],
   "source": [
    "s21 = '(S (NP the policeman) (VP (V saw) (NP (NP the burglar) (PP with a gun))))'\n",
    "s22 = '(S (NP the policeman) (VP (V saw) (NP the burglar) (PP with a telescope)))'\n",
    "tree21 = Tree.fromstring(s21)\n",
    "tree21.draw()\n",
    "tree22 = Tree.fromstring(s22)\n",
    "tree22.draw()"
   ]
  },
  {
   "cell_type": "code",
   "execution_count": null,
   "metadata": {},
   "outputs": [],
   "source": [
    "tree21.leaves()"
   ]
  },
  {
   "cell_type": "markdown",
   "metadata": {},
   "source": [
    "- tree의 leaf 노드는 왼쪽에서 오른쪽 방향으로 순서대로 리스트에 저장되어 있습니다. \n",
    "- 위 2개 문장은 마지막 단어(gun, telescope)만 다릅니다. \n",
    "    - leaves()[-1] 에서 -1은 마지막 원소를 가리킵니다."
   ]
  },
  {
   "cell_type": "code",
   "execution_count": null,
   "metadata": {},
   "outputs": [],
   "source": [
    "print(tree21.leaves()[-1], tree22.leaves()[-1])\n",
    "tree21.leaves()[:-1] == tree22.leaves()[:-1]"
   ]
  },
  {
   "cell_type": "markdown",
   "metadata": {},
   "source": [
    "2개 문장은 **전치사구(PP)** 가 수식하는 대상이 다르기 때문에, 문장 구조가 다르며, 따라서 구문 트리도 다릅니다."
   ]
  },
  {
   "cell_type": "code",
   "execution_count": null,
   "metadata": {},
   "outputs": [],
   "source": [
    "print(tree21.height(), tree22.height())\n",
    "tree21.height() == tree22.height()"
   ]
  },
  {
   "cell_type": "markdown",
   "metadata": {},
   "source": [
    "## 1.3 nltk에서 Tree 사용"
   ]
  },
  {
   "cell_type": "markdown",
   "metadata": {},
   "source": [
    "구문 분석 과정은 구문 트리로 시각화해서 나타낼 수 있습니다. \n",
    "- Tree를 사용하려면 **from nltk import Tree** 문장을 선언해야 합니다.\n",
    "- 괄호 표현에서 왼쪽 기호는 parent, 오른쪽 리스트는 child 입니다.\n",
    "- 이미 만들어진 tree를 새롭게 만드는 tree의 child로 포함시킬 수 있습니다."
   ]
  },
  {
   "cell_type": "code",
   "execution_count": null,
   "metadata": {},
   "outputs": [],
   "source": [
    "tree = nltk.Tree('NP', ['John'])\n",
    "print(\"height={}, leaves={}\".format(tree.height(), tree.leaves()))\n",
    "print(tree)\n",
    "#tree.draw()"
   ]
  },
  {
   "cell_type": "code",
   "execution_count": null,
   "metadata": {},
   "outputs": [],
   "source": [
    "tree2 = nltk.Tree('NP', ['the', 'man'])\n",
    "print(tree2)\n",
    "#tree2.draw()"
   ]
  },
  {
   "cell_type": "code",
   "execution_count": null,
   "metadata": {},
   "outputs": [],
   "source": [
    "tree3 = nltk.Tree('VP', ['saw', tree2])\n",
    "print(tree3)\n",
    "tree3.draw()"
   ]
  },
  {
   "cell_type": "code",
   "execution_count": null,
   "metadata": {},
   "outputs": [],
   "source": [
    "tree4 = nltk.Tree('S', [tree, tree3])\n",
    "print(tree4)\n",
    "tree4.draw()"
   ]
  },
  {
   "cell_type": "markdown",
   "metadata": {},
   "source": [
    "root 노드의 2번째 child를 출력해 볼까요."
   ]
  },
  {
   "cell_type": "code",
   "execution_count": null,
   "metadata": {},
   "outputs": [],
   "source": [
    "print(tree4[1]) \n",
    "print(tree4[1].label) "
   ]
  },
  {
   "cell_type": "markdown",
   "metadata": {},
   "source": [
    "tree4의 모든 leaf node를 출력해 봅시다."
   ]
  },
  {
   "cell_type": "code",
   "execution_count": null,
   "metadata": {},
   "outputs": [],
   "source": [
    "tree4.leaves() "
   ]
  },
  {
   "cell_type": "markdown",
   "metadata": {},
   "source": [
    "root의 2번째(오른쪽) child의 2번째(오른쪽 child)의 첫 번째 child를 출력해 봅시다."
   ]
  },
  {
   "cell_type": "code",
   "execution_count": null,
   "metadata": {},
   "outputs": [],
   "source": [
    "tree4[1,1,0] "
   ]
  },
  {
   "cell_type": "markdown",
   "metadata": {},
   "source": [
    "아래는 어떤 노드를 출력하는 걸까요?"
   ]
  },
  {
   "cell_type": "code",
   "execution_count": null,
   "metadata": {},
   "outputs": [],
   "source": [
    "#tree4[0,0]\n",
    "tree4[1,0]"
   ]
  },
  {
   "cell_type": "code",
   "execution_count": null,
   "metadata": {},
   "outputs": [],
   "source": []
  }
 ],
 "metadata": {
  "kernelspec": {
   "display_name": "Python 3",
   "language": "python",
   "name": "python3"
  },
  "language_info": {
   "codemirror_mode": {
    "name": "ipython",
    "version": 3
   },
   "file_extension": ".py",
   "mimetype": "text/x-python",
   "name": "python",
   "nbconvert_exporter": "python",
   "pygments_lexer": "ipython3",
   "version": "3.7.1"
  }
 },
 "nbformat": 4,
 "nbformat_minor": 2
}
