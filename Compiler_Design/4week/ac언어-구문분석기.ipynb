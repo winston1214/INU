{
 "cells": [
  {
   "cell_type": "markdown",
   "metadata": {},
   "source": [
    "# ac(adding calculator) 구문 분석기 "
   ]
  },
  {
   "cell_type": "markdown",
   "metadata": {},
   "source": [
    "All rights reserved, 2021, By Youn-Sik Hong. 수업 목적으로만 활용 가능."
   ]
  },
  {
   "cell_type": "markdown",
   "metadata": {},
   "source": [
    "- 강의 노트 **ch2-1, ch2-2** 내용을 충분히 들여다 보기 바랍니다.\n",
    "- 구체적인 코드를 이해할 필요는 없습니다. 나무를 보려는 게 아니라 숲을 보려고 하기 때문이죠.\n",
    "    - Not see the forest for the trees!\n",
    "- 컴파일러 전반부(front-end)의 구현 과정에 대한 감(sense)을 잡기위한 것입니다.\n",
    "    - nltk에서 제공하는 라이브러리를 사용하면 훨씬 간단하게 구현할 수 있습니다.\n",
    "        - 그런데, 그건 구현이 아니라 라이브러리 사용 방법을 익히는 것뿐이죠.\n",
    "        - 이 과목을 수강하지 않더라도 누구나 그 정도는 할 수 있습니다.\n",
    "- 여러분은 nltk에서 제공하는 라이브러리 정도는 직접 만들어, github에서 제공하고 싶지 않나요?"
   ]
  },
  {
   "cell_type": "markdown",
   "metadata": {},
   "source": [
    "- 코드를 단순화하려면 import문을 사용하여 어휘분석기를 포함하면 됩니다.\n",
    "    - 어휘분석기 코드를 다시 한 번 들여다 보는 것이 전체적인 이해에 도움이 될 것 같아 다시 포함했습니다. \n",
    "    - 어휘분석기 코드에서 테스트용으로 사용한 코드는 제외했습니다."
   ]
  },
  {
   "cell_type": "code",
   "execution_count": 1,
   "metadata": {},
   "outputs": [],
   "source": [
    "class Token:\n",
    "    def __init__(self, typ, val):\n",
    "        self.type = typ\n",
    "        self.value = val  "
   ]
  },
  {
   "cell_type": "code",
   "execution_count": 2,
   "metadata": {},
   "outputs": [],
   "source": [
    "def peek(i):\n",
    "    return istream[i] "
   ]
  },
  {
   "cell_type": "code",
   "execution_count": 3,
   "metadata": {},
   "outputs": [],
   "source": [
    "def advance(i, lim):\n",
    "    i += 1\n",
    "    if (i < lim):\n",
    "        s = istream[i]  \n",
    "    else: \n",
    "        s = None\n",
    "    return i, s"
   ]
  },
  {
   "cell_type": "code",
   "execution_count": 4,
   "metadata": {},
   "outputs": [],
   "source": [
    "def ScanDigit(idx):\n",
    "    val = \"\"  #빈 문자열(str), 초기화.     \n",
    "    s = peek(idx)\n",
    "    limit = len(istream)\n",
    "    \n",
    "    while s.isdigit():\n",
    "        val += s\n",
    "        idx, s = advance(idx, limit)\n",
    "        if s == None:\n",
    "            return idx, Token('INUM', val)\n",
    "    \n",
    "    if (idx < limit and s != '.'):\n",
    "        type = 'INUM'\n",
    "    else:    \n",
    "        type = 'FNUM'\n",
    "        val += s     \n",
    "        idx, s = advance(idx, limit)     \n",
    "        if s == None:\n",
    "            return idx, Token(type, val)            \n",
    "        \n",
    "        while s.isdigit():\n",
    "            val += s  \n",
    "            idx, s = advance(idx, limit)                     \n",
    "            if s == None:\n",
    "                break   \n",
    "                    \n",
    "    return idx, Token(type, val)   "
   ]
  },
  {
   "cell_type": "code",
   "execution_count": 5,
   "metadata": {},
   "outputs": [],
   "source": [
    "def representativeChar(c):\n",
    "    if c.isalpha():\n",
    "        if c not in ['f', 'i', 'p']:\n",
    "            return True\n",
    "    return False"
   ]
  },
  {
   "cell_type": "code",
   "execution_count": 6,
   "metadata": {},
   "outputs": [],
   "source": [
    "def Scanner(idx):\n",
    "    limit = len(istream)  \n",
    "    val = \"\"    \n",
    "    ans = Token('EOF', None)\n",
    "    \n",
    "    if idx >= limit-1:\n",
    "        return idx, ans\n",
    "    \n",
    "    s = peek(idx)    \n",
    "    while s == ' ':\n",
    "        idx, s = advance(idx, limit)     \n",
    "    \n",
    "    if s != None:\n",
    "        if s.isdigit():\n",
    "            idx, ans = ScanDigit(idx)\n",
    "        else:\n",
    "            if representativeChar(s):\n",
    "                ans = Token('ID', s)            \n",
    "            elif s == 'f':\n",
    "                ans = Token('FLTDCL', None)\n",
    "            elif s == 'i':\n",
    "                ans = Token('INTDCL', None)\n",
    "            elif s == 'p':\n",
    "                ans = Token('PRINT', None)\n",
    "            elif s == '=':\n",
    "                ans = Token('ASSIGN', None)\n",
    "            elif s == '+':\n",
    "                ans = Token('PLUS', None)\n",
    "            elif s == '-':\n",
    "                ans = Token('MINUS', None)   \n",
    "            else:\n",
    "                ans = Token('ERROR', s)\n",
    "    \n",
    "    return idx, ans"
   ]
  },
  {
   "cell_type": "code",
   "execution_count": 7,
   "metadata": {},
   "outputs": [
    {
     "name": "stdout",
     "output_type": "stream",
     "text": [
      "2 ID b\n"
     ]
    }
   ],
   "source": [
    "istream = \"f b   i a   a = 5   b = a + 3.2   p b\"\n",
    "index, tok = Scanner(2)\n",
    "limit = len(istream)  \n",
    "\n",
    "idx, tok = Scanner(index) \n",
    "print(idx, tok.type, tok.value)"
   ]
  },
  {
   "cell_type": "markdown",
   "metadata": {},
   "source": [
    "- 아래 코드는 **Recursive Descent Parsing** 알고리즘으로 구현하였습니다.\n",
    "    - 파싱 알고리즘 중에서는 성능이 가장 나쁘지만, 파서를 빨리 구현할 수 있다는 장점이 있습니다.\n",
    "        - 생성규칙의 왼쪽(*lhs*)에 있는 모든 *Nonterminal* 에 대해 개별 함수를 만듭니다.\n",
    "            - 생성규칙의 오른쪽(rhs)에 *Nonterminal* 이 있으면 해당 함수를 호출하면 됩니다.\n",
    "        - 생성규칙에 *terminal*이 있으면 **match()** 함수를 사용해 입력에 그런 토큰이 있는지 비교하면 됩니다.\n",
    "    - 파이썬 *class* 로 구현했으며, 강의노트(**ch2-2.pdf**) 를 잘 보면서 확인하기 바랍니다.\n",
    "        - 조금 고민되는 부분은 *Nonterminal* 함수에서 사용한 *if* 문이 왜 이런 저런 type을 조사했는지 일겁니다.\n",
    "        - 이 부분은 컴파일러 이론을 조금 더 배우면 쉽게 알 수 있습니다.\n",
    "    - 파이썬은 아무 문장도 없으면 에러가 발생합니다.\n",
    "        - 대신 *pass* 라는 문장이 있습니다. \n",
    "    - 각 함수의 print 문을 주석 처리하였습니다. \n",
    "        - print 문 주석을 없애고 실행시켜 보면 코드 이해에 도움이 될 겁니다."
   ]
  },
  {
   "cell_type": "code",
   "execution_count": 8,
   "metadata": {},
   "outputs": [],
   "source": [
    "def match(idx,token,terminal):     \n",
    "    if token.type != terminal:\n",
    "        print(\"syntax error\", terminal, token.type)\n",
    "        exit()\n",
    "    else:\n",
    "        if idx-1 < len(istream):             \n",
    "            idx += 1\n",
    "            #print('before match', .idx, .tok.type)            \n",
    "            idx,token = Scanner(idx) \n",
    "            #print('after match',.idx, .tok.type)\n",
    "        else:\n",
    "            exit()    \n",
    "        return idx,token"
   ]
  },
  {
   "cell_type": "code",
   "execution_count": 9,
   "metadata": {},
   "outputs": [],
   "source": [
    "# match(idx,tok,'FLTDCL')"
   ]
  },
  {
   "cell_type": "code",
   "execution_count": 10,
   "metadata": {},
   "outputs": [],
   "source": [
    "class Parser():\n",
    "    def __init__(self, tok, idx): # 생성자(constructor)\n",
    "        self.tok = tok\n",
    "        self.idx = idx\n",
    "        \n",
    "    def Prog(self): # member method\n",
    "        if (self.tok.type == 'FLTDCL' or self.tok.type == 'INTDCL' or self.tok.type == 'ID' \n",
    "            or self.tok.type == 'PRINT' or self.tok.type == 'EOF'):\n",
    "            self.Dcls()\n",
    "            self.Stmts()\n",
    "            self.match('EOF')\n",
    "        else:\n",
    "            print(\"expected floatdcl, intdcl, id, print, or eof\" , tok.type)            \n",
    "\n",
    "    def Dcls(self):\n",
    "        #print('Dcls', self.idx, self.tok.type, self.tok.value)        \n",
    "        \n",
    "        if (self.tok.type == 'FLTDCL' or self.tok.type == 'INTDCL'):\n",
    "            self.Dcl()\n",
    "            self.Dcls()\n",
    "            \n",
    "        elif (self.tok.type == 'ID' or self.tok.type == 'PRINT' or self.tok.type == 'EOF'):\n",
    "            #Do nothing for lambda-production\n",
    "            pass  \n",
    "        else:\n",
    "            print(\"expected floatdcl, intdcl, id, print, or eof\")\n",
    "            \n",
    "    def Dcl(self):\n",
    "        #print('Dcl', self.idx, self.tok.type, self.tok.value)        \n",
    "        \n",
    "        if self.tok.type == 'FLTDCL':\n",
    "            self.match('FLTDCL')\n",
    "            self.match('ID')           \n",
    "        elif self.tok.type == 'INTDCL':\n",
    "            self.match('INTDCL')\n",
    "            self.match('ID')     \n",
    "        else:\n",
    "            print(\"expected float or int declaration\")\n",
    "\n",
    "    def Stmts(self):\n",
    "        #print('Stmts', self.idx, self.tok.type, self.tok.value)        \n",
    "        \n",
    "        if (self.tok.type == 'ID' or self.tok.type == 'PRINT'):\n",
    "            self.Stmt()\n",
    "            self.Stmts()\n",
    "        elif self.tok.type == 'EOF':\n",
    "            #Do nothing for lambda-production\n",
    "            pass                                     \n",
    "        else:\n",
    "            print(\"expected id, print, or eof\")          \n",
    "            \n",
    "    def Stmt(self):\n",
    "        #print('Stmt', self.idx, self.tok.type, self.tok.value)        \n",
    "        \n",
    "        if self.tok.type == 'ID':\n",
    "            self.match('ID')\n",
    "            self.match('ASSIGN')\n",
    "            self.Val()\n",
    "            self.Expr()\n",
    "        elif self.tok.type == 'PRINT':\n",
    "            self.match('PRINT')\n",
    "            self.match('ID')\n",
    "        else:\n",
    "            print(\"expected id or print\")               \n",
    "\n",
    "    def Expr(self):\n",
    "        #print('Expr', self.idx, self.tok.type, self.tok.value)        \n",
    "        \n",
    "        if self.tok.type == 'PLUS':\n",
    "            self.match('PLUS')\n",
    "            self.Val()\n",
    "            self.Expr()\n",
    "        elif self.tok.type == 'MINUS':\n",
    "            self.match('MINUS')\n",
    "            self.Val()\n",
    "            self.Expr()\n",
    "        elif (self.tok.type == 'ID' or self.tok.type == 'PRINT' or self.tok.type == 'EOF'): \n",
    "            #Do nothing for lambda-production  \n",
    "            pass\n",
    "        else:\n",
    "            print(\"expected plus, minus, id, print, or eof\")              \n",
    "\n",
    "    def Val(self):\n",
    "        #print('Val', self.idx, self.tok.type, self.tok.value)        \n",
    "        if self.tok.type == 'ID':\n",
    "            self.match('ID')\n",
    "        elif self.tok.type == 'INUM':\n",
    "            self.match('INUM') \n",
    "        elif self.tok.type == 'FNUM':\n",
    "            self.match('FNUM') \n",
    "        else:            \n",
    "            print(\"expected id, inum, or fnum\")            \n",
    "            \n",
    "    def match(self, t):     \n",
    "        print('match', self.idx, self.tok.type, self.tok.value)        \n",
    "        \n",
    "        if self.tok.type != t:\n",
    "            print(\"syntax error\", t, self.tok.type)\n",
    "            exit()\n",
    "        else:\n",
    "            if self.idx-1 < len(istream):             \n",
    "                self.idx += 1\n",
    "                #print('before match', self.idx, self.tok.type)            \n",
    "                self.idx, self.tok = Scanner(self.idx) \n",
    "                #print('after match',self.idx, self.tok.type)\n",
    "            else:\n",
    "                exit()            "
   ]
  },
  {
   "cell_type": "markdown",
   "metadata": {},
   "source": [
    "- 이제 구문분석기가 입력 문장(*istream*)을 문법에 맞게 분석하는지 확인해 보겠습니다.\n",
    "    - 구문 분석을 위해 먼저 토큰 한 개(*tok*)를 읽어 옵니다.\n",
    "        - **Parser** 클래스에서 **match()** 메소드를 호출할 때마다 다음 *token* 을 가져 옵니다.\n",
    "    - **Parser** 객체 *p* 의 멤버 메소드에서 **Prog()** 메소드를 호출한 점에 주목해 주세요."
   ]
  },
  {
   "cell_type": "code",
   "execution_count": null,
   "metadata": {},
   "outputs": [],
   "source": [
    "p = Parser(tok,0)"
   ]
  },
  {
   "cell_type": "code",
   "execution_count": 11,
   "metadata": {},
   "outputs": [
    {
     "name": "stdout",
     "output_type": "stream",
     "text": [
      "0 FLTDCL None\n",
      "match 0 FLTDCL None\n",
      "match 2 ID b\n",
      "match 6 INTDCL None\n",
      "match 8 ID a\n",
      "match 12 ID a\n",
      "match 14 ASSIGN None\n",
      "match 17 INUM 5\n",
      "match 20 ID b\n",
      "match 22 ASSIGN None\n",
      "match 24 ID a\n",
      "match 26 PLUS None\n",
      "match 31 FNUM 3.2\n",
      "match 34 PRINT None\n",
      "match 36 ID b\n",
      "match 37 EOF None\n"
     ]
    }
   ],
   "source": [
    "istream = \"f b   i a   a = 5   b = a + 3.2   p b\"\n",
    "index, tok = Scanner(0)\n",
    "limit = len(istream)  \n",
    "\n",
    "idx, tok = Scanner(index) \n",
    "print(idx, tok.type, tok.value)\n",
    "p = Parser(tok, 0)\n",
    "p.Prog()"
   ]
  },
  {
   "cell_type": "code",
   "execution_count": null,
   "metadata": {},
   "outputs": [],
   "source": []
  }
 ],
 "metadata": {
  "kernelspec": {
   "display_name": "Python 3",
   "language": "python",
   "name": "python3"
  },
  "language_info": {
   "codemirror_mode": {
    "name": "ipython",
    "version": 3
   },
   "file_extension": ".py",
   "mimetype": "text/x-python",
   "name": "python",
   "nbconvert_exporter": "python",
   "pygments_lexer": "ipython3",
   "version": "3.7.1"
  }
 },
 "nbformat": 4,
 "nbformat_minor": 2
}
