{
  "nbformat": 4,
  "nbformat_minor": 0,
  "metadata": {
    "kernelspec": {
      "display_name": "Python 3",
      "language": "python",
      "name": "python3"
    },
    "language_info": {
      "codemirror_mode": {
        "name": "ipython",
        "version": 3
      },
      "file_extension": ".py",
      "mimetype": "text/x-python",
      "name": "python",
      "nbconvert_exporter": "python",
      "pygments_lexer": "ipython3",
      "version": "3.7.1"
    },
    "colab": {
      "name": "konlpy-intro(배포판).ipynb",
      "provenance": []
    }
  },
  "cells": [
    {
      "cell_type": "markdown",
      "metadata": {
        "id": "hLrbgvD5DO9o"
      },
      "source": [
        "# 한국어 형태소 분석기(konlpy) 소개"
      ]
    },
    {
      "cell_type": "markdown",
      "metadata": {
        "id": "_0mSSaNuDO9x"
      },
      "source": [
        "All rights reserved, 2021, By Youn-Sik Hong. 수업 목적으로만 활용 가능."
      ]
    },
    {
      "cell_type": "markdown",
      "metadata": {
        "id": "tt_GcIWRDO9y"
      },
      "source": [
        "- 참고 사이트: KoNLPy(Korean NLP in python) http://konlpy.org/ko/latest/\n",
        "    - 형태소 분석기 사용 예제는 참고 사이트에서 제시한 예제를 사용\n",
        "- 현재 5개의 한국어 형태소 분석기가 있습니다.\n",
        "    - Hannanum (한나눔, KAIST, 1999)\n",
        "    - Kkma (꼬꼬마, 서울대)\n",
        "    - Komoran (Shineware, 2013, 벤처기업)\n",
        "    - Mecab (일본 Kyoto 대)\n",
        "        - 일본어 형태소 분석기로 개발된 것을 한국어 형태소 분석기로 변환\n",
        "        - Window 버전은 지원하지 않고 있습니다.\n",
        "    - Okt (Open Korean Text, Will Hohyon Ryu – 개발 언어: Scala)\n",
        "        -이전 버전 이름은 Twitter"
      ]
    },
    {
      "cell_type": "markdown",
      "metadata": {
        "id": "DKMFIx51DO9y"
      },
      "source": [
        "## 한글 형태소 분석기 - Kkma \n",
        "- 참고사이트 : https://konlpy.org/en/latest/api/konlpy.tag/#module-konlpy.tag._kkma"
      ]
    },
    {
      "cell_type": "code",
      "metadata": {
        "colab": {
          "base_uri": "https://localhost:8080/"
        },
        "id": "4Bk-bVlMDWXR",
        "outputId": "ecf71e44-106e-4b7e-9f14-4e010b132fb0"
      },
      "source": [
        "!pip install konlpy"
      ],
      "execution_count": 7,
      "outputs": [
        {
          "output_type": "stream",
          "text": [
            "Requirement already satisfied: konlpy in /usr/local/lib/python3.7/dist-packages (0.5.2)\n",
            "Requirement already satisfied: tweepy>=3.7.0 in /usr/local/lib/python3.7/dist-packages (from konlpy) (3.10.0)\n",
            "Requirement already satisfied: numpy>=1.6 in /usr/local/lib/python3.7/dist-packages (from konlpy) (1.19.5)\n",
            "Requirement already satisfied: lxml>=4.1.0 in /usr/local/lib/python3.7/dist-packages (from konlpy) (4.2.6)\n",
            "Requirement already satisfied: beautifulsoup4==4.6.0 in /usr/local/lib/python3.7/dist-packages (from konlpy) (4.6.0)\n",
            "Requirement already satisfied: colorama in /usr/local/lib/python3.7/dist-packages (from konlpy) (0.4.4)\n",
            "Requirement already satisfied: JPype1>=0.7.0 in /usr/local/lib/python3.7/dist-packages (from konlpy) (1.2.1)\n",
            "Requirement already satisfied: requests[socks]>=2.11.1 in /usr/local/lib/python3.7/dist-packages (from tweepy>=3.7.0->konlpy) (2.23.0)\n",
            "Requirement already satisfied: six>=1.10.0 in /usr/local/lib/python3.7/dist-packages (from tweepy>=3.7.0->konlpy) (1.15.0)\n",
            "Requirement already satisfied: requests-oauthlib>=0.7.0 in /usr/local/lib/python3.7/dist-packages (from tweepy>=3.7.0->konlpy) (1.3.0)\n",
            "Requirement already satisfied: typing-extensions; python_version < \"3.8\" in /usr/local/lib/python3.7/dist-packages (from JPype1>=0.7.0->konlpy) (3.7.4.3)\n",
            "Requirement already satisfied: urllib3!=1.25.0,!=1.25.1,<1.26,>=1.21.1 in /usr/local/lib/python3.7/dist-packages (from requests[socks]>=2.11.1->tweepy>=3.7.0->konlpy) (1.24.3)\n",
            "Requirement already satisfied: idna<3,>=2.5 in /usr/local/lib/python3.7/dist-packages (from requests[socks]>=2.11.1->tweepy>=3.7.0->konlpy) (2.10)\n",
            "Requirement already satisfied: chardet<4,>=3.0.2 in /usr/local/lib/python3.7/dist-packages (from requests[socks]>=2.11.1->tweepy>=3.7.0->konlpy) (3.0.4)\n",
            "Requirement already satisfied: certifi>=2017.4.17 in /usr/local/lib/python3.7/dist-packages (from requests[socks]>=2.11.1->tweepy>=3.7.0->konlpy) (2020.12.5)\n",
            "Requirement already satisfied: PySocks!=1.5.7,>=1.5.6; extra == \"socks\" in /usr/local/lib/python3.7/dist-packages (from requests[socks]>=2.11.1->tweepy>=3.7.0->konlpy) (1.7.1)\n",
            "Requirement already satisfied: oauthlib>=3.0.0 in /usr/local/lib/python3.7/dist-packages (from requests-oauthlib>=0.7.0->tweepy>=3.7.0->konlpy) (3.1.0)\n"
          ],
          "name": "stdout"
        }
      ]
    },
    {
      "cell_type": "code",
      "metadata": {
        "id": "p1h06L9pDO9z"
      },
      "source": [
        "from konlpy.tag import Kkma\n",
        "from konlpy.utils import pprint"
      ],
      "execution_count": 8,
      "outputs": []
    },
    {
      "cell_type": "markdown",
      "metadata": {
        "id": "Brm81NMtDO90"
      },
      "source": [
        "아래 예는 Kkma 형태소 분석기를 사용합니다. 형태소 분석기 사용법은 거의 비슷합니다."
      ]
    },
    {
      "cell_type": "code",
      "metadata": {
        "id": "pLA8rtSlDO91"
      },
      "source": [
        "kkma = Kkma()"
      ],
      "execution_count": 9,
      "outputs": []
    },
    {
      "cell_type": "markdown",
      "metadata": {
        "id": "qJWuvel5DO92"
      },
      "source": [
        "- 한글은 영문자(ASCII 문자)에 비해 출력 공간을 더 많이 차지합니다. *jupyter notebook*의 기본 출력 공간보다 커서 한글 윗 부분이 잘 안보입니다.\n",
        "- print하기 전에 print()문을 한 번 더 실행시키면 좋겠죠. 한번 비교해 보세요."
      ]
    },
    {
      "cell_type": "code",
      "metadata": {
        "colab": {
          "base_uri": "https://localhost:8080/"
        },
        "id": "3gAkY8D2DO92",
        "outputId": "bbdfcf60-675d-40fc-93e6-693b0d01168f"
      },
      "source": [
        "#print()\n",
        "print(kkma.sentences(u'네, 안녕하세요, 반갑습니다.'))"
      ],
      "execution_count": 10,
      "outputs": [
        {
          "output_type": "stream",
          "text": [
            "['네, 안녕 하세요, 반갑습니다.']\n"
          ],
          "name": "stdout"
        }
      ]
    },
    {
      "cell_type": "markdown",
      "metadata": {
        "id": "ENmhb4T5DO93"
      },
      "source": [
        "**nouns()** 는 품사 중 명사(noun)에 해당하는 token을 찾습니다. 가장 많이 사용하게 될 메소드입니다."
      ]
    },
    {
      "cell_type": "code",
      "metadata": {
        "colab": {
          "base_uri": "https://localhost:8080/"
        },
        "id": "czD3dqpSDO93",
        "outputId": "17d8a459-9ca8-4a51-fb8e-b138b36773c5"
      },
      "source": [
        "pprint(kkma.nouns(u'질문이나 건의사항은 깃헙 이슈 트래커에 남겨주세요.'))"
      ],
      "execution_count": 11,
      "outputs": [
        {
          "output_type": "stream",
          "text": [
            "['질문', '건의', '건의사항', '사항', '깃헙', '이슈', '트래커']\n"
          ],
          "name": "stdout"
        }
      ]
    },
    {
      "cell_type": "markdown",
      "metadata": {
        "id": "oHQ6t0utDO93"
      },
      "source": [
        "POS tagging 기능도 있습니다. token과 품사를 tuple형태로 함께 출력하는 걸 말하죠. Kkma의 POS 명칭은 좀 어렵습니다."
      ]
    },
    {
      "cell_type": "code",
      "metadata": {
        "colab": {
          "base_uri": "https://localhost:8080/"
        },
        "id": "2FgpZRYYDO94",
        "outputId": "39d1550a-e15b-4531-e439-3b87b95dc56e"
      },
      "source": [
        "pprint(kkma.pos(u'오류보고는 실행환경, 에러메시지와 함께 설명을 최대한 상세히!^^'))"
      ],
      "execution_count": 12,
      "outputs": [
        {
          "output_type": "stream",
          "text": [
            "[('오류', 'NNG'),\n",
            " ('보고', 'NNG'),\n",
            " ('는', 'JX'),\n",
            " ('실행', 'NNG'),\n",
            " ('환경', 'NNG'),\n",
            " (',', 'SP'),\n",
            " ('에러', 'NNG'),\n",
            " ('메시지', 'NNG'),\n",
            " ('와', 'JKM'),\n",
            " ('함께', 'MAG'),\n",
            " ('설명', 'NNG'),\n",
            " ('을', 'JKO'),\n",
            " ('최대한', 'NNG'),\n",
            " ('상세히', 'MAG'),\n",
            " ('!', 'SF'),\n",
            " ('^^', 'EMO')]\n"
          ],
          "name": "stdout"
        }
      ]
    },
    {
      "cell_type": "markdown",
      "metadata": {
        "id": "44K5AP2sDO94"
      },
      "source": [
        "## 한글 형태소 분석기 - Okt \n",
        "- 참고사이트: https://konlpy.org/en/latest/api/konlpy.tag/#okt-class"
      ]
    },
    {
      "cell_type": "code",
      "metadata": {
        "id": "ZHi0GL83DO94"
      },
      "source": [
        "from konlpy.tag import Okt\n",
        "\n",
        "twitter = Okt()"
      ],
      "execution_count": 13,
      "outputs": []
    },
    {
      "cell_type": "markdown",
      "metadata": {
        "id": "BdM2QBODDO95"
      },
      "source": [
        "- POS tagging할 때 옵션으로 **norm** 과 **stem** 속성을 지정할 수 있습니다. 디폴트는 2개 속성 모두 *False* 입니다.\n",
        "- **stem=True**는 단어의 어근을 찾으며, **norm=True**는 단어를 정규화(normalize)합니다."
      ]
    },
    {
      "cell_type": "code",
      "metadata": {
        "colab": {
          "base_uri": "https://localhost:8080/"
        },
        "id": "OcFaF5yyDO95",
        "outputId": "218b6f50-c025-49fb-bb30-fa684a1e7c3a"
      },
      "source": [
        "pprint(twitter.pos('아버지 가방에 들어가신다.', norm=True, stem=True))\n"
      ],
      "execution_count": 14,
      "outputs": [
        {
          "output_type": "stream",
          "text": [
            "[('아버지', 'Noun'),\n",
            " ('가방', 'Noun'),\n",
            " ('에', 'Josa'),\n",
            " ('들어가다', 'Verb'),\n",
            " ('.', 'Punctuation')]\n"
          ],
          "name": "stdout"
        }
      ]
    },
    {
      "cell_type": "code",
      "metadata": {
        "colab": {
          "base_uri": "https://localhost:8080/"
        },
        "id": "ChQ4SE75GUBE",
        "outputId": "f7618200-0cc3-4c86-a9fa-4739a0c7dc00"
      },
      "source": [
        "pprint(twitter.pos('아버지 가방에 들어가신다.', norm=True))"
      ],
      "execution_count": 15,
      "outputs": [
        {
          "output_type": "stream",
          "text": [
            "[('아버지', 'Noun'),\n",
            " ('가방', 'Noun'),\n",
            " ('에', 'Josa'),\n",
            " ('들어가신다', 'Verb'),\n",
            " ('.', 'Punctuation')]\n"
          ],
          "name": "stdout"
        }
      ]
    },
    {
      "cell_type": "code",
      "metadata": {
        "colab": {
          "base_uri": "https://localhost:8080/"
        },
        "id": "AgHr4QiXGVrY",
        "outputId": "c9f7b341-3c51-47f9-a3b4-a72e4ce88de2"
      },
      "source": [
        "pprint(twitter.pos('아버지 가방에 들어가신다.'))"
      ],
      "execution_count": 16,
      "outputs": [
        {
          "output_type": "stream",
          "text": [
            "[('아버지', 'Noun'),\n",
            " ('가방', 'Noun'),\n",
            " ('에', 'Josa'),\n",
            " ('들어가신다', 'Verb'),\n",
            " ('.', 'Punctuation')]\n"
          ],
          "name": "stdout"
        }
      ]
    },
    {
      "cell_type": "code",
      "metadata": {
        "colab": {
          "base_uri": "https://localhost:8080/"
        },
        "id": "hYAzmgnIDO95",
        "outputId": "b8e5d1b5-58ab-4669-9edb-1ea0aad55757"
      },
      "source": [
        "pprint(twitter.pos('그래욬ㅋㅋ?.', norm=True, stem=True))"
      ],
      "execution_count": 17,
      "outputs": [
        {
          "output_type": "stream",
          "text": [
            "[('그렇다', 'Adjective'), ('ㅋㅋ', 'KoreanParticle'), ('?.', 'Punctuation')]\n"
          ],
          "name": "stdout"
        }
      ]
    },
    {
      "cell_type": "markdown",
      "metadata": {
        "id": "pvbQ3mp5DO96"
      },
      "source": [
        "## 한글 형태소 분석기 사용법 익히기 : Okt"
      ]
    },
    {
      "cell_type": "code",
      "metadata": {
        "id": "rfmTWcXQDO96"
      },
      "source": [
        "text = \"한글 자연어 처리는 재밌다 이제부터 열심히 해야지ㅎㅎㅎ\""
      ],
      "execution_count": 18,
      "outputs": []
    },
    {
      "cell_type": "markdown",
      "metadata": {
        "id": "BhfpkrF4DO97"
      },
      "source": [
        "**morph()** 메소드는 문장을 형태소, 즉 token으로 구분합니다."
      ]
    },
    {
      "cell_type": "code",
      "metadata": {
        "colab": {
          "base_uri": "https://localhost:8080/"
        },
        "id": "AhTsT_moDO97",
        "outputId": "1fde93dc-5185-4fa2-d271-ff8e00b04cb6"
      },
      "source": [
        "pprint(twitter.morphs(text)) "
      ],
      "execution_count": 19,
      "outputs": [
        {
          "output_type": "stream",
          "text": [
            "['한글', '자연어', '처리', '는', '재밌다', '이제', '부터', '열심히', '해야지', 'ㅎㅎㅎ']\n"
          ],
          "name": "stdout"
        }
      ]
    },
    {
      "cell_type": "markdown",
      "metadata": {
        "id": "BImMncz-DO98"
      },
      "source": [
        "형태소를 인식할 때 어근(stem)을 찾도록 옵션을 설정했습니다."
      ]
    },
    {
      "cell_type": "code",
      "metadata": {
        "colab": {
          "base_uri": "https://localhost:8080/"
        },
        "id": "GR_lwmMBDO98",
        "outputId": "21e7d4af-d003-4821-b2ed-075ca948d80b"
      },
      "source": [
        "pprint(twitter.morphs(text, stem=True)) "
      ],
      "execution_count": 20,
      "outputs": [
        {
          "output_type": "stream",
          "text": [
            "['한글', '자연어', '처리', '는', '재밌다', '이제', '부터', '열심히', '하다', 'ㅎㅎㅎ']\n"
          ],
          "name": "stdout"
        }
      ]
    },
    {
      "cell_type": "markdown",
      "metadata": {
        "id": "QlU2YP0RDO98"
      },
      "source": [
        "**noun()** 메소드는 형태소 중 품사가 명사인 형태소만을 찾습니다."
      ]
    },
    {
      "cell_type": "code",
      "metadata": {
        "colab": {
          "base_uri": "https://localhost:8080/"
        },
        "id": "HuNBXX0sDO99",
        "outputId": "c7b59c08-469a-4d27-9d53-eed7957da861"
      },
      "source": [
        "pprint(twitter.nouns(text)) "
      ],
      "execution_count": 22,
      "outputs": [
        {
          "output_type": "stream",
          "text": [
            "['한글', '자연어', '처리', '이제']\n"
          ],
          "name": "stdout"
        }
      ]
    },
    {
      "cell_type": "markdown",
      "metadata": {
        "id": "LPOkucK8DO99"
      },
      "source": [
        "**phrases()** 메소드는 문장에서 어절(구-pharse)를 찾습니다."
      ]
    },
    {
      "cell_type": "code",
      "metadata": {
        "colab": {
          "base_uri": "https://localhost:8080/"
        },
        "id": "L2w5vmXHDO9-",
        "outputId": "a7ed7d53-dd34-4938-a91c-22ef3cfd62e7"
      },
      "source": [
        "pprint(twitter.phrases(text)) "
      ],
      "execution_count": 23,
      "outputs": [
        {
          "output_type": "stream",
          "text": [
            "['한글', '한글 자연어', '한글 자연어 처리', '이제', '자연어', '처리']\n"
          ],
          "name": "stdout"
        }
      ]
    },
    {
      "cell_type": "markdown",
      "metadata": {
        "id": "oyl7MWsiDO9-"
      },
      "source": [
        "- **pos()** 메소드는 POS tagging 결과를 출력합니다.\n",
        "    - **join=True** 옵션을 설정하면 tuple을 묶어, 리스트로 출력합니다.\n",
        "    - 디폴트 옵션은 **join=False** 이다. 즉 *tuple*타입의 원소를 갖는 리스트를 출력합니다."
      ]
    },
    {
      "cell_type": "code",
      "metadata": {
        "colab": {
          "base_uri": "https://localhost:8080/"
        },
        "id": "wPDVCritDO9-",
        "outputId": "060f9f35-8701-4af7-bd07-774cdbe1a542"
      },
      "source": [
        "pprint(twitter.pos(text)) "
      ],
      "execution_count": 24,
      "outputs": [
        {
          "output_type": "stream",
          "text": [
            "[('한글', 'Noun'),\n",
            " ('자연어', 'Noun'),\n",
            " ('처리', 'Noun'),\n",
            " ('는', 'Josa'),\n",
            " ('재밌다', 'Adjective'),\n",
            " ('이제', 'Noun'),\n",
            " ('부터', 'Josa'),\n",
            " ('열심히', 'Adverb'),\n",
            " ('해야지', 'Verb'),\n",
            " ('ㅎㅎㅎ', 'KoreanParticle')]\n"
          ],
          "name": "stdout"
        }
      ]
    },
    {
      "cell_type": "code",
      "metadata": {
        "colab": {
          "base_uri": "https://localhost:8080/"
        },
        "id": "eoqtmHlfHQIy",
        "outputId": "bac667b6-bf05-4aaa-87ad-23d03dff0478"
      },
      "source": [
        "pprint(twitter.pos(text, join=True)) "
      ],
      "execution_count": 25,
      "outputs": [
        {
          "output_type": "stream",
          "text": [
            "['한글/Noun',\n",
            " '자연어/Noun',\n",
            " '처리/Noun',\n",
            " '는/Josa',\n",
            " '재밌다/Adjective',\n",
            " '이제/Noun',\n",
            " '부터/Josa',\n",
            " '열심히/Adverb',\n",
            " '해야지/Verb',\n",
            " 'ㅎㅎㅎ/KoreanParticle']\n"
          ],
          "name": "stdout"
        }
      ]
    },
    {
      "cell_type": "markdown",
      "metadata": {
        "id": "XfUTj2ggDO9_"
      },
      "source": [
        "간단한 예제를 실행해 보면서 형태소 분석기 사용법 설명을 마무리 하겠습니다."
      ]
    },
    {
      "cell_type": "code",
      "metadata": {
        "colab": {
          "base_uri": "https://localhost:8080/"
        },
        "id": "XPdkBet0DO9_",
        "outputId": "a3f55606-de32-4cd5-a200-d4ae9f1aeddc"
      },
      "source": [
        "text2 = \"이것도 되나욬ㅋㅋㅋ\"\n",
        "\n",
        "pprint(twitter.pos(text2))\n",
        "#pprint(twitter.pos(text2, norm=True))\n",
        "pprint(twitter.pos(text2, norm=True, stem=True))"
      ],
      "execution_count": 26,
      "outputs": [
        {
          "output_type": "stream",
          "text": [
            "[('이', 'Determiner'),\n",
            " ('것', 'Noun'),\n",
            " ('도', 'Josa'),\n",
            " ('되나욬', 'Noun'),\n",
            " ('ㅋㅋㅋ', 'KoreanParticle')]\n",
            "[('이', 'Determiner'),\n",
            " ('것', 'Noun'),\n",
            " ('도', 'Josa'),\n",
            " ('되다', 'Verb'),\n",
            " ('ㅋㅋㅋ', 'KoreanParticle')]\n"
          ],
          "name": "stdout"
        }
      ]
    },
    {
      "cell_type": "markdown",
      "metadata": {
        "id": "EkQr1iinDO9_"
      },
      "source": [
        "## konply에서 제공하는 한글 말뭉치: kolaw, kobill \n",
        "- 대한민국 헌법(*kolaw*)과 국회의원이 발의한 의안(*kobill*) 말뭉치 2개만 제공합니다."
      ]
    },
    {
      "cell_type": "code",
      "metadata": {
        "id": "TGc_3VpLDO9_"
      },
      "source": [
        "from konlpy.corpus import kolaw\n",
        "from konlpy.corpus import kobill"
      ],
      "execution_count": 27,
      "outputs": []
    },
    {
      "cell_type": "code",
      "metadata": {
        "colab": {
          "base_uri": "https://localhost:8080/",
          "height": 35
        },
        "id": "xmXqARPsDO-A",
        "outputId": "dc0397ec-578e-48f3-e882-e8fb89e2df57"
      },
      "source": [
        "kolaw.open('constitution.txt').read()[:50] "
      ],
      "execution_count": 28,
      "outputs": [
        {
          "output_type": "execute_result",
          "data": {
            "application/vnd.google.colaboratory.intrinsic+json": {
              "type": "string"
            },
            "text/plain": [
              "'대한민국헌법\\n\\n유구한 역사와 전통에 빛나는 우리 대한국민은 3·1운동으로 건립된 대한민국임'"
            ]
          },
          "metadata": {
            "tags": []
          },
          "execution_count": 28
        }
      ]
    },
    {
      "cell_type": "markdown",
      "metadata": {
        "id": "dfXj7yvyDO-A"
      },
      "source": [
        "대한민국 국회의안 말뭉치는 모두 10개 있습니다(1809890.txt~1809899.txt)."
      ]
    },
    {
      "cell_type": "code",
      "metadata": {
        "colab": {
          "base_uri": "https://localhost:8080/",
          "height": 35
        },
        "id": "khnTXknLDO-A",
        "outputId": "0ae5bdb5-bbc1-4afb-da64-97e1f65d8b50"
      },
      "source": [
        "kobill.open('1809890.txt').read()[:50] "
      ],
      "execution_count": 31,
      "outputs": [
        {
          "output_type": "execute_result",
          "data": {
            "application/vnd.google.colaboratory.intrinsic+json": {
              "type": "string"
            },
            "text/plain": [
              "'지방공무원법 일부개정법률안\\n\\n(정의화의원 대표발의 )\\n\\n 의 안\\n 번 호\\n\\n9890\\n\\n발의'"
            ]
          },
          "metadata": {
            "tags": []
          },
          "execution_count": 31
        }
      ]
    },
    {
      "cell_type": "code",
      "metadata": {
        "id": "uz5XWtyFDO-A"
      },
      "source": [
        ""
      ],
      "execution_count": null,
      "outputs": []
    }
  ]
}