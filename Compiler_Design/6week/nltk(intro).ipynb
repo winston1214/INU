{
 "cells": [
  {
   "cell_type": "markdown",
   "metadata": {},
   "source": [
    "# nltk 소개"
   ]
  },
  {
   "cell_type": "markdown",
   "metadata": {},
   "source": [
    "- 참고 사이트 \n",
    "    - nltk book 1. Language Processing and Python(https://www.nltk.org/book/ch01.html) 내용을 참고해서 자료를 만듦. \n",
    "    - nltk book의 1장 예제 일부 인용."
   ]
  },
  {
   "cell_type": "code",
   "execution_count": 1,
   "metadata": {},
   "outputs": [],
   "source": [
    "import nltk"
   ]
  },
  {
   "cell_type": "markdown",
   "metadata": {},
   "source": [
    "새 창(window)이 나타나면, 설치 상태를 확인하고 **Download**를 눌러 설치하세요. 설치에 시간이 조금 걸립니다."
   ]
  },
  {
   "cell_type": "code",
   "execution_count": 2,
   "metadata": {},
   "outputs": [
    {
     "name": "stdout",
     "output_type": "stream",
     "text": [
      "showing info https://raw.githubusercontent.com/nltk/nltk_data/gh-pages/index.xml\n"
     ]
    },
    {
     "data": {
      "text/plain": [
       "True"
      ]
     },
     "execution_count": 2,
     "metadata": {},
     "output_type": "execute_result"
    }
   ],
   "source": [
    "nltk.download()"
   ]
  },
  {
   "cell_type": "markdown",
   "metadata": {},
   "source": [
    "- 자연어 처리를 위해서는 다양한 유형의 말뭉치(dataset)가 필요합니다. \n",
    "- nltk.book의 9개 말뭉치 중에는 소설이 4권이나 있지만, 성경, 신문기사, 채팅, 대통령 취임 연설문 등 다양합니다."
   ]
  },
  {
   "cell_type": "code",
   "execution_count": 3,
   "metadata": {},
   "outputs": [
    {
     "name": "stdout",
     "output_type": "stream",
     "text": [
      "*** Introductory Examples for the NLTK Book ***\n",
      "Loading text1, ..., text9 and sent1, ..., sent9\n",
      "Type the name of the text or sentence to view it.\n",
      "Type: 'texts()' or 'sents()' to list the materials.\n",
      "text1: Moby Dick by Herman Melville 1851\n",
      "text2: Sense and Sensibility by Jane Austen 1811\n",
      "text3: The Book of Genesis\n",
      "text4: Inaugural Address Corpus\n",
      "text5: Chat Corpus\n",
      "text6: Monty Python and the Holy Grail\n",
      "text7: Wall Street Journal\n",
      "text8: Personals Corpus\n",
      "text9: The Man Who Was Thursday by G . K . Chesterton 1908\n"
     ]
    }
   ],
   "source": [
    "from nltk.book import *"
   ]
  },
  {
   "cell_type": "markdown",
   "metadata": {},
   "source": [
    "9권의 샘플 말뭉치는 text1, text2, ..., text9로 참조할 수 있습니다. 정해진 변수 이름이니 그대로 사용하세요~"
   ]
  },
  {
   "cell_type": "code",
   "execution_count": 5,
   "metadata": {},
   "outputs": [
    {
     "data": {
      "text/plain": [
       "<Text: Moby Dick by Herman Melville 1851>"
      ]
     },
     "execution_count": 5,
     "metadata": {},
     "output_type": "execute_result"
    }
   ],
   "source": [
    "text1  #말뭉치 제목을 알 수 있습니다.\n",
    "#text2"
   ]
  },
  {
   "cell_type": "code",
   "execution_count": 6,
   "metadata": {},
   "outputs": [
    {
     "data": {
      "text/plain": [
       "<Text: Sense and Sensibility by Jane Austen 1811>"
      ]
     },
     "execution_count": 6,
     "metadata": {},
     "output_type": "execute_result"
    }
   ],
   "source": [
    "text2"
   ]
  },
  {
   "cell_type": "markdown",
   "metadata": {},
   "source": [
    "- nltk의 기능이 어떤 것이 있는지 맛 좀 볼까요?\n",
    "    - **concordance, similar, common_contexts, dispersion_plot**"
   ]
  },
  {
   "cell_type": "markdown",
   "metadata": {},
   "source": [
    "##  **concordance** : 단어 검색. 단어가 나타난 문장까지 함께 출력합니다.\n",
    "백경(moby dick)은 포경선의 선장과 선원들이 거대한 고래를 포획하는 내용을 다룬 어드벤처 소설입니다. "
   ]
  },
  {
   "cell_type": "code",
   "execution_count": 7,
   "metadata": {},
   "outputs": [
    {
     "name": "stdout",
     "output_type": "stream",
     "text": [
      "Displaying 11 of 11 matches:\n",
      "ong the former , one was of a most monstrous size . ... This came towards us , \n",
      "ON OF THE PSALMS . \" Touching that monstrous bulk of the whale or ork we have r\n",
      "ll over with a heathenish array of monstrous clubs and spears . Some were thick\n",
      "d as you gazed , and wondered what monstrous cannibal and savage could ever hav\n",
      "that has survived the flood ; most monstrous and most mountainous ! That Himmal\n",
      "they might scout at Moby Dick as a monstrous fable , or still worse and more de\n",
      "th of Radney .'\" CHAPTER 55 Of the Monstrous Pictures of Whales . I shall ere l\n",
      "ing Scenes . In connexion with the monstrous pictures of whales , I am strongly\n",
      "ere to enter upon those still more monstrous stories of them which are to be fo\n",
      "ght have been rummaged out of this monstrous cabinet there is no telling . But \n",
      "of Whale - Bones ; for Whales of a monstrous size are oftentimes cast up dead u\n"
     ]
    }
   ],
   "source": [
    "text1.concordance('monstrous') #concordance - 일치, monstrous - 거대한, 괴이한"
   ]
  },
  {
   "cell_type": "markdown",
   "metadata": {},
   "source": [
    "- concordance : 해당되는 패턴만 찾음"
   ]
  },
  {
   "cell_type": "markdown",
   "metadata": {},
   "source": [
    "- 제인 오스틴은 오만과 편견(Pride and Prejudice)의 작가로 유명하죠. 최근 영화로도 만들어졌습니다.\n",
    "- Moby dick과 달리 Sense and Sensibility의 내용은 감성적이겠죠. "
   ]
  },
  {
   "cell_type": "code",
   "execution_count": 8,
   "metadata": {
    "scrolled": true
   },
   "outputs": [
    {
     "name": "stdout",
     "output_type": "stream",
     "text": [
      "Displaying 25 of 79 matches:\n",
      ", however , and , as a mark of his affection for the three girls , he left them\n",
      "t . It was very well known that no affection was ever supposed to exist between\n",
      "deration of politeness or maternal affection on the side of the former , the tw\n",
      "d the suspicion -- the hope of his affection for me may warrant , without impru\n",
      "hich forbade the indulgence of his affection . She knew that his mother neither\n",
      "rd she gave one with still greater affection . Though her late conversation wit\n",
      " can never hope to feel or inspire affection again , and if her home be uncomfo\n",
      "m of the sense , elegance , mutual affection , and domestic comfort of the fami\n",
      ", and which recommended him to her affection beyond every thing else . His soci\n",
      "ween the parties might forward the affection of Mr . Willoughby , an equally st\n",
      " the most pointed assurance of her affection . Elinor could not be surprised at\n",
      "he natural consequence of a strong affection in a young and ardent mind . This \n",
      " opinion . But by an appeal to her affection for her mother , by representing t\n",
      " every alteration of a place which affection had established as perfect with hi\n",
      "e will always have one claim of my affection , which no other can possibly shar\n",
      "f the evening declared at once his affection and happiness . \" Shall we see you\n",
      "ause he took leave of us with less affection than his usual behaviour has shewn\n",
      "ness .\" \" I want no proof of their affection ,\" said Elinor ; \" but of their en\n",
      "onths , without telling her of his affection ;-- that they should part without \n",
      "ould be the natural result of your affection for her . She used to be all unres\n",
      "distinguished Elinor by no mark of affection . Marianne saw and listened with i\n",
      "th no inclination for expense , no affection for strangers , no profession , an\n",
      "till distinguished her by the same affection which once she had felt no doubt o\n",
      "al of her confidence in Edward ' s affection , to the remembrance of every mark\n",
      " was made ? Had he never owned his affection to yourself ?\" \" Oh , no ; but if \n"
     ]
    }
   ],
   "source": [
    "text2.concordance('affection')  #affection - a gentle feeling of fondness or liking(좋아하는 감정, 연민)"
   ]
  },
  {
   "cell_type": "markdown",
   "metadata": {},
   "source": [
    "- 같은 단어이지만, 소설 내용에 따라 전혀 다른 의미로 사용됨을 확인할 수 있습니다.\n",
    "- Moby dick에서 monstrous는 거대한, 괴이한과 같은 의미이지만, Sense and Sensibility에서는 매우, 너무(very)의 의미로 사용되었습니다."
   ]
  },
  {
   "cell_type": "code",
   "execution_count": 9,
   "metadata": {},
   "outputs": [
    {
     "name": "stdout",
     "output_type": "stream",
     "text": [
      "Displaying 3 of 3 matches:\n",
      "oyously assented ; for besides the affection I now felt for Queequeg , he was a\n",
      "e enough , yet he had a particular affection for his own harpoon , because it w\n",
      "ing cobbling jobs . Lord ! what an affection all old women have for tinkers . I\n"
     ]
    }
   ],
   "source": [
    "text1.concordance('affection')"
   ]
  },
  {
   "cell_type": "code",
   "execution_count": 10,
   "metadata": {},
   "outputs": [
    {
     "name": "stdout",
     "output_type": "stream",
     "text": [
      "Displaying 11 of 11 matches:\n",
      ". \" Now , Palmer , you shall see a monstrous pretty girl .\" He immediately went\n",
      "your sister is to marry him . I am monstrous glad of it , for then I shall have\n",
      "ou may tell your sister . She is a monstrous lucky girl to get him , upon my ho\n",
      "k how you will like them . Lucy is monstrous pretty , and so good humoured and \n",
      " Jennings , \" I am sure I shall be monstrous glad of Miss Marianne ' s company \n",
      " usual noisy cheerfulness , \" I am monstrous glad to see you -- sorry I could n\n",
      "t however , as it turns out , I am monstrous glad there was never any thing in \n",
      "so scornfully ! for they say he is monstrous fond of her , as well he may . I s\n",
      "possible that she should .\" \" I am monstrous glad of it . Good gracious ! I hav\n",
      "thing of the kind . So then he was monstrous happy , and talked on some time ab\n",
      "e very genteel people . He makes a monstrous deal of money , and they keep thei\n"
     ]
    }
   ],
   "source": [
    "text2.concordance('monstrous')"
   ]
  },
  {
   "cell_type": "markdown",
   "metadata": {},
   "source": [
    "다른 말뭉치에서는 어떤 단어가 주로 사용되었을까 생각하면서 아래 코드를 실행시켜 보세요."
   ]
  },
  {
   "cell_type": "code",
   "execution_count": 11,
   "metadata": {
    "collapsed": true
   },
   "outputs": [
    {
     "name": "stdout",
     "output_type": "stream",
     "text": [
      "Displaying 25 of 38 matches:\n",
      "ay when they were created . And Adam lived an hundred and thirty years , and be\n",
      "ughters : And all the days that Adam lived were nine hundred and thirty yea and\n",
      "nd thirty yea and he died . And Seth lived an hundred and five years , and bega\n",
      "ve years , and begat Enos : And Seth lived after he begat Enos eight hundred an\n",
      "welve years : and he died . And Enos lived ninety years , and begat Cainan : An\n",
      " years , and begat Cainan : And Enos lived after he begat Cainan eight hundred \n",
      "ive years : and he died . And Cainan lived seventy years and begat Mahalaleel :\n",
      "rs and begat Mahalaleel : And Cainan lived after he begat Mahalaleel eight hund\n",
      "years : and he died . And Mahalaleel lived sixty and five years , and begat Jar\n",
      "s , and begat Jared : And Mahalaleel lived after he begat Jared eight hundred a\n",
      "and five yea and he died . And Jared lived an hundred sixty and two years , and\n",
      "o years , and he begat Eno And Jared lived after he begat Enoch eight hundred y\n",
      " and two yea and he died . And Enoch lived sixty and five years , and begat Met\n",
      " ; for God took him . And Methuselah lived an hundred eighty and seven years , \n",
      " , and begat Lamech . And Methuselah lived after he begat Lamech seven hundred \n",
      "nd nine yea and he died . And Lamech lived an hundred eighty and two years , an\n",
      "ch the LORD hath cursed . And Lamech lived after he begat Noah five hundred nin\n",
      "naan shall be his servant . And Noah lived after the flood three hundred and fi\n",
      "xad two years after the flo And Shem lived after he begat Arphaxad five hundred\n",
      "at sons and daughters . And Arphaxad lived five and thirty years , and begat Sa\n",
      "ars , and begat Salah : And Arphaxad lived after he begat Salah four hundred an\n",
      "begat sons and daughters . And Salah lived thirty years , and begat Eber : And \n",
      "y years , and begat Eber : And Salah lived after he begat Eber four hundred and\n",
      " begat sons and daughters . And Eber lived four and thirty years , and begat Pe\n",
      "y years , and begat Peleg : And Eber lived after he begat Peleg four hundred an\n"
     ]
    }
   ],
   "source": [
    "text3.concordance('lived')  #성경 창세기"
   ]
  },
  {
   "cell_type": "code",
   "execution_count": 12,
   "metadata": {},
   "outputs": [
    {
     "name": "stdout",
     "output_type": "stream",
     "text": [
      "Displaying 25 of 316 matches:\n",
      " to the character of an independent nation seems to have been distinguished by\n",
      "f Heaven can never be expected on a nation that disregards the eternal rules o\n",
      "first , the representatives of this nation , then consisting of little more th\n",
      ", situation , and relations of this nation and country than any which had ever\n",
      ", prosperity , and happiness of the nation I have acquired an habitual attachm\n",
      "an be no spectacle presented by any nation more pleasing , more noble , majest\n",
      "party for its own ends , not of the nation for the national good . If that sol\n",
      "tures and the people throughout the nation . On this subject it might become m\n",
      "if a personal esteem for the French nation , formed in a residence of seven ye\n",
      "f our fellow - citizens by whatever nation , and if success can not be obtaine\n",
      "y , continue His blessing upon this nation and its Government and give it all \n",
      "powers so justly inspire . A rising nation , spread over a wide and fruitful l\n",
      "ing now decided by the voice of the nation , announced according to the rules \n",
      "ars witness to the fact that a just nation is trusted on its word when recours\n",
      "e union of opinion which gives to a nation the blessing of harmony and the ben\n",
      "uil suffrage of a free and virtuous nation , would under any circumstances hav\n",
      "d spirit and united councils of the nation will be safeguards to its honor and\n",
      "iction that the war with a powerful nation , which forms so prominent a featur\n",
      "out breaking down the spirit of the nation , destroying all confidence in itse\n",
      "ed on the military resources of the nation . These resources are amply suffici\n",
      "the war to an honorable issue . Our nation is in number more than half that of\n",
      "ndividually have been happy and the nation prosperous . Under this Constitutio\n",
      "rights , and is able to protect the nation against injustice from foreign powe\n",
      " great agricultural interest of the nation prospers under its protection . Loc\n",
      "ak our Union , and demolish us as a nation . Our distance from Europe and the \n"
     ]
    }
   ],
   "source": [
    "text4.concordance('nation') #대통령 취임 연설문(1798년) - terror, god 으로 바꿔보자"
   ]
  },
  {
   "cell_type": "code",
   "execution_count": 13,
   "metadata": {},
   "outputs": [
    {
     "name": "stdout",
     "output_type": "stream",
     "text": [
      "Displaying 25 of 822 matches:\n",
      "ast PART 24 / m boo . 26 / m and sexy lol U115 boo . JOIN PART he drew a girl w\n",
      "ope he didnt draw a penis PART ewwwww lol & a head between her legs JOIN JOIN s\n",
      "a bowl i got a blunt an a bong ...... lol JOIN well , glad it worked out my cha\n",
      "e \" PART Hi U121 in ny . ACTION would lol @ U121 . . . but appearently she does\n",
      "30 make sure u buy a nice ring for U6 lol U7 Hi U115 . ACTION isnt falling for \n",
      " didnt ya hear !!!! PART JOIN geeshhh lol U6 PART hes deaf ppl here dont get it\n",
      "es nobody here i wanna misbeahve with lol JOIN so read it . thanks U7 .. Im hap\n",
      "ies want to chat can i talk to him !! lol U121 !!! forwards too lol JOIN ALL PE\n",
      "k to him !! lol U121 !!! forwards too lol JOIN ALL PErvs ... redirect to U121 '\n",
      " loves ME the most i love myself JOIN lol U44 how do u know that what ? jerkett\n",
      "ng wrong ... i can see it in his eyes lol U20 = fiance Jerketts lmao wtf yah I \n",
      "cooler by the minute what 'd I miss ? lol noo there too much work ! why not ?? \n",
      " that mean I want you ? U6 hello room lol U83 and this .. has been the grammar \n",
      " the rule he 's in PM land now though lol ah ok i wont bug em then someone wann\n",
      "flight to hell :) lmao bbl maybe PART LOL lol U7 it was me , U83 hahah U83 ! 80\n",
      "ht to hell :) lmao bbl maybe PART LOL lol U7 it was me , U83 hahah U83 ! 808265\n",
      "082653953 K-Fed got his ass kicked .. Lol . ACTION laughs . i got a first class\n",
      " . i got a first class ticket to hell lol U7 JOIN any texas girls in here ? any\n",
      " . whats up U155 i was only kidding . lol he 's a douchebag . Poor U121 i 'm bo\n",
      " ??? sits with U30 Cum to my shower . lol U121 . ACTION U1370 watches his nads \n",
      " ur nad with a stick . ca u U23 ewwww lol *sniffs* ewwwwww PART U115 ! owww spl\n",
      "ACTION is resisting . ur female right lol U115 beeeeehave Remember the LAst tim\n",
      "pm's me . charge that is 1.99 / min . lol @ innocent hahah lol .... yeah LOLOLO\n",
      " is 1.99 / min . lol @ innocent hahah lol .... yeah LOLOLOLLL U12 thats not nic\n",
      "s . lmao no U115 Check my record . :) Lol lick em U7 U23 how old r u lol Way to\n"
     ]
    }
   ],
   "source": [
    "text5.concordance('lol')  #채팅 대화 내용 - im, ur로 바꿔보자"
   ]
  },
  {
   "cell_type": "markdown",
   "metadata": {},
   "source": [
    "##  **similar** : 지정한 단어와 문맥에서 나타난 유형과 비슷한 단어를 출력합니다."
   ]
  },
  {
   "cell_type": "markdown",
   "metadata": {},
   "source": [
    "- similar란 메소드를 \"*지정한 단어(monstrous)와 의미가 비슷한 단어를 찾아주겠지*\"로 여러분이 짐작했다면 전혀 잘못 생각하고 있는 겁니다.\n",
    "- 기계학습을 자연어 처리에 적용할 때 여러분이 반드시 기억해야 할 것은 \"**AI는 단어가 무슨 뜻인지 모르고 있다**\"입니다.\n",
    "    - *그럼 monstrous와 비슷한 단어를 어떻게 찾을 수 있어요?* \n",
    "        - AI는 monstrous와 이웃(왼쪽, 오른쪽)에 있는 단어를 기억하고, 이와 비슷한 형태의 단어가 있는지를 비교해 찾습니다. \n",
    "        - 예를 들면 monstrous가 **most ___ size, the ___ picture** 에 나타났었는데, 이런 유형의 단어을 찾는 겁니다.\n",
    "- similiar 메소드는 이런 방식으로 monstrous와 비슷한 단어를 찾습니다. \n",
    "- similar의 출력 결과를 보면 '*이런 단어가 monstrous가 비슷하다고, 어이가 없네*'할 겁니다. \n",
    "    - 그렇지만 자세히 들여다 보면 비슷한 단어도 꽤 있습니다. 이게 AI가 갖고 있는 잠재력이죠."
   ]
  },
  {
   "cell_type": "code",
   "execution_count": 14,
   "metadata": {},
   "outputs": [
    {
     "name": "stdout",
     "output_type": "stream",
     "text": [
      "true contemptible christian abundant few part mean careful puzzled\n",
      "mystifying passing curious loving wise doleful gamesome singular\n",
      "delightfully perilous fearless\n"
     ]
    }
   ],
   "source": [
    "text1.similar('monstrous') # 단어가 있을 때 그 왼쪽과 오른쪽의 단어가 비슷한 것들"
   ]
  },
  {
   "cell_type": "code",
   "execution_count": 15,
   "metadata": {},
   "outputs": [
    {
     "name": "stdout",
     "output_type": "stream",
     "text": [
      "Displaying 25 of 54 matches:\n",
      " pockets , and produced at length a curious little deformed image with a hunch \n",
      "and bent upon narrowly observing so curious a creature . When , at last , his m\n",
      "pfold among the Green Mountains . A curious sight ; these bashful bears , these\n",
      "ou will see other sights still more curious , certainly more comical . There we\n",
      "ken chair , wriggling all over with curious carving ; and the bottom of which w\n",
      "nt I stood a little puzzled by this curious request , not knowing exactly how t\n",
      "ucket , though it certainly seems a curious story , that when he sailed the old\n",
      "us began ranging alongside . It was curious and not unpleasing , how Peleg and \n",
      "eens , even modern ones , a certain curious process of seasoning them for their\n",
      "g come to beg truce of a fortress . Curious to tell , this imperial negro , Aha\n",
      "ing at it . But what was still more curious , Flask -- you know how curious all\n",
      "ore curious , Flask -- you know how curious all dreams are -- through all this \n",
      "e Unicorn whale . He is certainly a curious example of the Unicornism to be fou\n",
      " , seems to feel relieved from some curious restraint ; for , tipping all sorts\n",
      "s company were assembled , and with curious and not wholly unapprehensive faces\n",
      "sh ?\" \" Does he fan - tail a little curious , sir , before he goes down ?\" said\n",
      "eader deliberately . \" And has he a curious spout , too ,\" said Daggoo , \" very\n",
      "me to time have originated the most curious and contradictory speculations rega\n",
      "ing one or two very interesting and curious particulars in the habits of sperm \n",
      "d upon gigantic Daggoo was yet more curious ; for sustaining himself with a coo\n",
      "ising lee of churches . For by some curious fatality , as it is often noted of \n",
      "ore , previously to advert to those curious imaginary portraits of him which ev\n",
      "ks you will at times meet with very curious touches at the whale , where all ma\n",
      "nt of Learning \" you will find some curious whales . But quitting all these unp\n",
      " at all . For it is one of the more curious things about this Leviathan , that \n"
     ]
    }
   ],
   "source": [
    "text1.concordance('curious')"
   ]
  },
  {
   "cell_type": "markdown",
   "metadata": {},
   "source": [
    "Sense and Sensibility에서 similar의 출력 결과는 꽤 그럴 듯 하지 않나요? "
   ]
  },
  {
   "cell_type": "code",
   "execution_count": 16,
   "metadata": {},
   "outputs": [
    {
     "name": "stdout",
     "output_type": "stream",
     "text": [
      "very so exceedingly heartily a as good great extremely remarkably\n",
      "sweet vast amazingly\n"
     ]
    }
   ],
   "source": [
    "text2.similar('monstrous') # 여기선 very랑 비슷"
   ]
  },
  {
   "cell_type": "markdown",
   "metadata": {},
   "source": [
    "##  **common_contexts** : 2개 이상의 단어가 공유하는 문맥(contexts)을 찾음."
   ]
  },
  {
   "cell_type": "markdown",
   "metadata": {},
   "source": [
    "- similar 메소드의 의미를 이해했다면, common_contexts의 기능도 이와 비슷합니다.\n",
    "- 2개 이상의 단어는 리스트 ['monstrous','very'] 로 표현합니다. \n",
    "- common_contexts 메소드를 실행하기 전에 단어 각각에 대해 concordance 메소드부터 실행해 보세요.\n",
    "    - *monstrous*는 **a ___ prettry, am ___ pretty**, ...형태로 나타나왔죠.\n",
    "    - *very*는 **a ___ advanced, is ___ true, be ___ strange**, ... 형태로 나타났습니다.\n",
    "    - 그 결과를 보면 common_contexts의 실행 결과가 왜 그렇게 나왔는지 짐작할 수 있지 않나요?"
   ]
  },
  {
   "cell_type": "code",
   "execution_count": 17,
   "metadata": {},
   "outputs": [
    {
     "name": "stdout",
     "output_type": "stream",
     "text": [
      "Displaying 11 of 11 matches:\n",
      ". \" Now , Palmer , you shall see a monstrous pretty girl .\" He immediately went\n",
      "your sister is to marry him . I am monstrous glad of it , for then I shall have\n",
      "ou may tell your sister . She is a monstrous lucky girl to get him , upon my ho\n",
      "k how you will like them . Lucy is monstrous pretty , and so good humoured and \n",
      " Jennings , \" I am sure I shall be monstrous glad of Miss Marianne ' s company \n",
      " usual noisy cheerfulness , \" I am monstrous glad to see you -- sorry I could n\n",
      "t however , as it turns out , I am monstrous glad there was never any thing in \n",
      "so scornfully ! for they say he is monstrous fond of her , as well he may . I s\n",
      "possible that she should .\" \" I am monstrous glad of it . Good gracious ! I hav\n",
      "thing of the kind . So then he was monstrous happy , and talked on some time ab\n",
      "e very genteel people . He makes a monstrous deal of money , and they keep thei\n"
     ]
    }
   ],
   "source": [
    "text2.concordance('monstrous')"
   ]
  },
  {
   "cell_type": "code",
   "execution_count": 18,
   "metadata": {},
   "outputs": [
    {
     "name": "stdout",
     "output_type": "stream",
     "text": [
      "Displaying 25 of 500 matches:\n",
      "te was a single man , who lived to a very advanced age , and who for many year\n",
      "en made amiable himself ; for he was very young when he married , and very fon\n",
      "was very young when he married , and very fond of his wife . But Mrs . John Da\n",
      "osity to so large an amount . It was very well known that no affection was eve\n",
      "y , to be sure ,\" said her husband , very gravely , \" that would make great di\n",
      "amily , for instance , it would be a very convenient addition .\" \" To be sure \n",
      "ounds on their mother ' s death -- a very comfortable fortune for any young wo\n",
      "d if they do not , they may all live very comfortably together on the interest\n",
      " of ten thousand pounds .\" \" That is very true , and , therefore , I do not kn\n",
      "annuity to be paid them ; and she is very stout and healthy , and hardly forty\n",
      ", and hardly forty . An annuity is a very serious business ; it comes over and\n",
      "ow them any thing yearly . It may be very inconvenient some years to spare a h\n",
      "thing farther ; indeed , it would be very strange and unreasonable if he did .\n",
      " some of the plate would have been a very pleasant addition to our own stock h\n",
      "nor attention to his wishes ; for we very well know that if he could , he woul\n",
      "tions . The contempt which she had , very early in their acquaintance , felt f\n",
      "lt for her daughter - in - law , was very much increased by the farther knowle\n",
      "the eldest son of a man who had died very rich ; and some might have repressed\n",
      "er it with some surprise . Edward is very amiable , and I love him tenderly . \n",
      "hough he admires Elinor ' s drawings very much , it is not the admiration of a\n",
      "arning , I think he would have drawn very well . He distrusts his own judgment\n",
      "y the drawings of other people , was very far from that rapturous delight , wh\n",
      "What say you , Marianne ?\" \" I shall very soon think him handsome , Elinor , i\n",
      " of him . She felt that Edward stood very high in her opinion . She believed t\n",
      "to deny ,\" said she , \" that I think very highly of him -- that I greatly este\n"
     ]
    }
   ],
   "source": [
    "text2.concordance('very')"
   ]
  },
  {
   "cell_type": "code",
   "execution_count": 19,
   "metadata": {},
   "outputs": [
    {
     "name": "stdout",
     "output_type": "stream",
     "text": [
      "am_glad a_pretty a_lucky is_pretty be_glad\n"
     ]
    }
   ],
   "source": [
    "text2.common_contexts(['monstrous','very'])"
   ]
  },
  {
   "cell_type": "markdown",
   "metadata": {},
   "source": [
    "##  **dispersion_plot** : 단어 발생 분포를 출력해 줍니다"
   ]
  },
  {
   "cell_type": "markdown",
   "metadata": {},
   "source": [
    "- dispersion은 분산(퍼뜨림)이란 뜻입니다.새가 씨앗을 (넓은 지역) 여기저기 퍼뜨린다고 할 때 사용합니다.\n",
    "- 단어가 발생한 지점이 x축(word offset)입니다. 원점에서 멀어질수록 문장 후반부를 가리킵니다.\n",
    "- text4는 미국 초대대통령의 취임 연설문입니다. \n",
    "    - citizen은 처음부터 끝까지 일정하게 나타나지만, \n",
    "    - America, freedom은 연설 끝부분에 집중적으로 등장함을 알 수 있습니다."
   ]
  },
  {
   "cell_type": "code",
   "execution_count": 20,
   "metadata": {},
   "outputs": [
    {
     "data": {
      "image/png": "[encoded data removed]",
      "text/plain": [
       "<Figure size 432x288 with 1 Axes>"
      ]
     },
     "metadata": {
      "needs_background": "light"
     },
     "output_type": "display_data"
    }
   ],
   "source": [
    "text4.dispersion_plot(['citizens', 'democracy', 'freedom', 'duties', 'America']) # 리스트 안의 분포도"
   ]
  },
  {
   "cell_type": "markdown",
   "metadata": {},
   "source": [
    "## 어휘 다양성"
   ]
  },
  {
   "cell_type": "markdown",
   "metadata": {},
   "source": [
    "- 이제 말뭉치에 대한 간단한 통계 분석을 해 보겠습니다.\n",
    "    - nltk의 라이브러리에 있는 메소드만 사용하니까, 패키지 관광 온 기분이죠.\n",
    "        - 내가 가고 싶은 데로 가지 못하니 답답하죠.\n",
    "    - 라이브러리에 지나치게 의존하면 종속됩니다. \n",
    "        - 스스로 코딩해 보면서 나만의 독자 메소드를 만드는 게 중요합니다."
   ]
  },
  {
   "cell_type": "code",
   "execution_count": 21,
   "metadata": {},
   "outputs": [
    {
     "name": "stdout",
     "output_type": "stream",
     "text": [
      "44764\n",
      "['In', 'the', 'beginning', 'God', 'created', 'the', 'heaven', 'and', 'the', 'earth']\n"
     ]
    }
   ],
   "source": [
    "print(len(text3)) #text3: 성서의 창세기\n",
    "print(text3[:10])"
   ]
  },
  {
   "cell_type": "code",
   "execution_count": 22,
   "metadata": {},
   "outputs": [
    {
     "name": "stdout",
     "output_type": "stream",
     "text": [
      "2789\n"
     ]
    }
   ],
   "source": [
    "print(len(set(text3)))"
   ]
  },
  {
   "cell_type": "markdown",
   "metadata": {},
   "source": [
    "- 어휘 다양성(lexical richness)이란 중복되지 않은 단어를 얼마나 많이 사용했는가 입니다.\n",
    "- 파이썬의 set(집합) 타입으로 변환하면 중복된 단어를 쉽게 없앨 수 있습니다."
   ]
  },
  {
   "cell_type": "code",
   "execution_count": 23,
   "metadata": {},
   "outputs": [
    {
     "name": "stdout",
     "output_type": "stream",
     "text": [
      "44764 2789\n",
      "lexical richness = 6.23%\n"
     ]
    }
   ],
   "source": [
    "import numpy as np\n",
    "\n",
    "tmp3 = sorted(set(text3))\n",
    "print(len(text3), len(tmp3))\n",
    "print('lexical richness = {}%'.format(np.round(len(tmp3)/len(text3)*100, 3))) # 어휘 다양성 정도"
   ]
  },
  {
   "cell_type": "code",
   "execution_count": 30,
   "metadata": {},
   "outputs": [],
   "source": [
    "punct_list = sorted(set(text3))[:13] # 구둣점 기호 13개"
   ]
  },
  {
   "cell_type": "code",
   "execution_count": 33,
   "metadata": {},
   "outputs": [
    {
     "data": {
      "text/plain": [
       "['A',\n",
       " 'Abel',\n",
       " 'Abelmizraim',\n",
       " 'Abidah',\n",
       " 'Abide',\n",
       " 'Abimael',\n",
       " 'Abimelech',\n",
       " 'Abr',\n",
       " 'Abrah',\n",
       " 'Abraham']"
      ]
     },
     "execution_count": 33,
     "metadata": {},
     "output_type": "execute_result"
    }
   ],
   "source": [
    "[i for i in sorted(set(text3)) if i not in punct_list][:10]"
   ]
  },
  {
   "cell_type": "markdown",
   "metadata": {},
   "source": [
    "- 어휘 다양성을 구할 때 구둣점(punctuation)은 제외해야 겠죠. \n",
    "- tmp3 리스트는 오름차순 정렬된 상태이므로 구둣점 기호는 앞부분에 있습니다."
   ]
  },
  {
   "cell_type": "code",
   "execution_count": 34,
   "metadata": {},
   "outputs": [
    {
     "name": "stdout",
     "output_type": "stream",
     "text": [
      "['!', \"'\", '(', ')', ',', ',)', '.', '.)', ':', ';', ';)', '?', '?)', 'A', 'Abel']\n"
     ]
    }
   ],
   "source": [
    "print(tmp3[:15]) #구둣점 기호는 모두 13개입니다.\n",
    "punct_list = tmp3[:13]"
   ]
  },
  {
   "cell_type": "code",
   "execution_count": 35,
   "metadata": {},
   "outputs": [
    {
     "name": "stdout",
     "output_type": "stream",
     "text": [
      "2789  >>> after removing punctuations >>> 2776\n"
     ]
    }
   ],
   "source": [
    "tmp32 = [x for x in tmp3 if x not in punct_list]\n",
    "print(len(tmp3), ' >>> after removing punctuations >>>', len(tmp32))"
   ]
  },
  {
   "cell_type": "code",
   "execution_count": 36,
   "metadata": {},
   "outputs": [
    {
     "name": "stdout",
     "output_type": "stream",
     "text": [
      "44764  >>> after removing punctuations >>> 38495\n"
     ]
    }
   ],
   "source": [
    "txt32 = [x for x in text3 if x not in punct_list]\n",
    "print(len(text3), ' >>> after removing punctuations >>>', len(txt32))"
   ]
  },
  {
   "cell_type": "markdown",
   "metadata": {},
   "source": [
    "구둣점 기호를 없애기 전보다 약 1% 어휘 다양성이 증가했습니다."
   ]
  },
  {
   "cell_type": "code",
   "execution_count": 37,
   "metadata": {},
   "outputs": [
    {
     "name": "stdout",
     "output_type": "stream",
     "text": [
      "lexical richness = 7.211%\n"
     ]
    }
   ],
   "source": [
    "print('lexical richness = {}%'.format(np.round(len(tmp32)/len(txt32)*100, 3)))"
   ]
  },
  {
   "cell_type": "markdown",
   "metadata": {},
   "source": [
    "- 파이썬 string에서 제공하는 **punctuation** 리스트를 사용하면 간단하지 않을까요? \n",
    "    - **punctuation** 리스트에 포함된 구둣점 기호가 더 많지만, 기호 한 개로 구성되어 있습니다.\n",
    "    - 그러나 text3의 구둣점 기호는 2개 기호로 이루어진 경우도 포함되어 있습니다.\n",
    "    - 원시 데이터(raw data)의 특성을 먼저 살펴보는 게 중요하죠...\n",
    "    - **punctuation** 리스트는 표준화된 구둣점 기호들을 묶어 놓은 겁니다. \n",
    "    - 자연어에서는 구둣점을 일정하게 표현하지 않고 자유롭게(?) 표현하기 때문에 원시 데이터를 들여다 봐야 합니다."
   ]
  },
  {
   "cell_type": "code",
   "execution_count": 38,
   "metadata": {},
   "outputs": [
    {
     "name": "stdout",
     "output_type": "stream",
     "text": [
      "!\"#$%&'()*+,-./:;<=>?@[\\]^_`{|}~\n",
      "<class 'str'>\n",
      "2789  >>> after removing punctuations >>> 2780\n"
     ]
    }
   ],
   "source": [
    "import string\n",
    "\n",
    "print(string.punctuation)\n",
    "print(type(string.punctuation))\n",
    "tmp322 = [x for x in tmp3 if x not in string.punctuation]\n",
    "print(len(tmp3), ' >>> after removing punctuations >>>', len(tmp322))"
   ]
  },
  {
   "cell_type": "markdown",
   "metadata": {},
   "source": [
    "## 단어 빈도"
   ]
  },
  {
   "cell_type": "markdown",
   "metadata": {},
   "source": [
    "count 메소드를 사용하면 어떤 단어가 몇 번 발생했는지 확인할 수 있습니다."
   ]
  },
  {
   "cell_type": "code",
   "execution_count": 40,
   "metadata": {},
   "outputs": [
    {
     "data": {
      "text/plain": [
       "18"
      ]
     },
     "execution_count": 40,
     "metadata": {},
     "output_type": "execute_result"
    }
   ],
   "source": [
    "text3.count('Adam')"
   ]
  },
  {
   "cell_type": "code",
   "execution_count": 41,
   "metadata": {},
   "outputs": [],
   "source": [
    "import numpy as np\n",
    "def lexical_diversity(txt): # 어휘 다양성 계산\n",
    "    print(txt, np.round(len(set(txt))/len(txt), 5))\n",
    "\n",
    "def percentage(w, txt):\n",
    "    count = txt.count(w)\n",
    "    total = len(txt)\n",
    "    print('문자=', w, '빈도=', np.round(100*count/total, 5))"
   ]
  },
  {
   "cell_type": "markdown",
   "metadata": {},
   "source": [
    "text6이 어휘 다양성이 가장 높고, text2가 가장 낮게 나왔군요. "
   ]
  },
  {
   "cell_type": "code",
   "execution_count": 42,
   "metadata": {},
   "outputs": [
    {
     "name": "stdout",
     "output_type": "stream",
     "text": [
      "<Text: Moby Dick by Herman Melville 1851> 0.07406\n",
      "<Text: Sense and Sensibility by Jane Austen 1811> 0.04826\n",
      "<Text: The Book of Genesis> 0.0623\n",
      "<Text: Inaugural Address Corpus> 0.06618\n",
      "<Text: Monty Python and the Holy Grail> 0.12766\n",
      "<Text: The Man Who Was Thursday by G . K . Chesterton 1908> 0.09835\n"
     ]
    }
   ],
   "source": [
    "lexical_diversity(text1)\n",
    "lexical_diversity(text2)\n",
    "lexical_diversity(text3)\n",
    "lexical_diversity(text4)\n",
    "lexical_diversity(text6)\n",
    "lexical_diversity(text9)"
   ]
  },
  {
   "cell_type": "markdown",
   "metadata": {},
   "source": [
    "- 발생 빈도가 높은 단어 중에는 관사(a, the), 구둣점 기호 등이 있습니다.\n",
    "- 자연어 처리 과정에서 이런 단어들을 불용어(stopwords)라고 부릅니다. \n",
    "- 전처리 과정에서 필수 작업 중 하나가 이런 불용어를 없애는 겁니다."
   ]
  },
  {
   "cell_type": "code",
   "execution_count": 43,
   "metadata": {},
   "outputs": [
    {
     "name": "stdout",
     "output_type": "stream",
     "text": [
      "문자= a 빈도= 1.75179\n",
      "문자= A 빈도= 0.06403\n"
     ]
    }
   ],
   "source": [
    "percentage('a', text1)\n",
    "percentage('A', text1)"
   ]
  },
  {
   "cell_type": "code",
   "execution_count": 44,
   "metadata": {},
   "outputs": [
    {
     "name": "stdout",
     "output_type": "stream",
     "text": [
      "문자= . 빈도= 2.63094\n"
     ]
    }
   ],
   "source": [
    "percentage('.', text1)"
   ]
  },
  {
   "cell_type": "code",
   "execution_count": 45,
   "metadata": {},
   "outputs": [
    {
     "name": "stdout",
     "output_type": "stream",
     "text": [
      "문자= , 빈도= 7.17471\n"
     ]
    }
   ],
   "source": [
    "percentage(',', text1)"
   ]
  }
 ],
 "metadata": {
  "kernelspec": {
   "display_name": "Python 3",
   "language": "python",
   "name": "python3"
  },
  "language_info": {
   "codemirror_mode": {
    "name": "ipython",
    "version": 3
   },
   "file_extension": ".py",
   "mimetype": "text/x-python",
   "name": "python",
   "nbconvert_exporter": "python",
   "pygments_lexer": "ipython3",
   "version": "3.7.1"
  }
 },
 "nbformat": 4,
 "nbformat_minor": 2
}
