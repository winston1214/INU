{
 "cells": [
  {
   "cell_type": "markdown",
   "metadata": {},
   "source": [
    "# nltk - 문자열 연산 기초(1)"
   ]
  },
  {
   "cell_type": "markdown",
   "metadata": {},
   "source": [
    "- 참고 사이트\n",
    "    - nltk book 1. Language Processing and Python(https://www.nltk.org/book/ch01.html) 내용을 참고해서 자료를 만듦.\n",
    "    - nltk book의 1장 예제 일부 인용."
   ]
  },
  {
   "cell_type": "markdown",
   "metadata": {},
   "source": [
    "## 문자열 타입 변수 선언 방법"
   ]
  },
  {
   "cell_type": "markdown",
   "metadata": {},
   "source": [
    "문자열(string) 타입 변수는 홑 따옴표(single quote)로 묶거나 쌍 따옴표(double quote)로 묶으면 됩니다."
   ]
  },
  {
   "cell_type": "code",
   "execution_count": 1,
   "metadata": {},
   "outputs": [],
   "source": [
    "monty = 'Monty Python'"
   ]
  },
  {
   "cell_type": "code",
   "execution_count": 2,
   "metadata": {},
   "outputs": [
    {
     "data": {
      "text/plain": [
       "str"
      ]
     },
     "execution_count": 2,
     "metadata": {},
     "output_type": "execute_result"
    }
   ],
   "source": [
    "monty = \"Monty Python\" \n",
    "type(monty)"
   ]
  },
  {
   "cell_type": "markdown",
   "metadata": {},
   "source": [
    "문자열 안에 소유격 기호(apostrophe)를 포함할 경우 쌍 따옴표로 묶어야 합니다."
   ]
  },
  {
   "cell_type": "code",
   "execution_count": 4,
   "metadata": {},
   "outputs": [
    {
     "data": {
      "text/plain": [
       "\"Monty Python's Flying Circus\""
      ]
     },
     "execution_count": 4,
     "metadata": {},
     "output_type": "execute_result"
    }
   ],
   "source": [
    "circus = \"Monty Python's Flying Circus\"   # 문장 안에 작은 따음표가 있으면 쌍따음표로 하기\n",
    "circus"
   ]
  },
  {
   "cell_type": "markdown",
   "metadata": {},
   "source": [
    "문자열 안에 apostrophe(')를 사용할 경우 escape char(\\-backslash)를 사용하면 홑 따옴표로 묶을 수 있습니다."
   ]
  },
  {
   "cell_type": "code",
   "execution_count": 5,
   "metadata": {},
   "outputs": [
    {
     "data": {
      "text/plain": [
       "\"Monty Python's Flying Circus\""
      ]
     },
     "execution_count": 5,
     "metadata": {},
     "output_type": "execute_result"
    }
   ],
   "source": [
    "circus = 'Monty Python\\'s Flying Circus' # escape 기호로도 표현 가능\n",
    "circus"
   ]
  },
  {
   "cell_type": "markdown",
   "metadata": {},
   "source": [
    "## 2개 이상 문자열 연결\n",
    "- 연결 기호(+, concatenation)를 사용하여 하나의 문자열로 합칠 수 있습니다. \n",
    "- 또는 backslash('\\\\')나 괄호를 사용하여 합칠 수 있습니다."
   ]
  },
  {
   "cell_type": "code",
   "execution_count": 7,
   "metadata": {},
   "outputs": [
    {
     "name": "stdout",
     "output_type": "stream",
     "text": [
      "39 40\n",
      "Shall I compare thee to a Summer's day?Thou are more lovely and more temperate:\n",
      "<class 'str'> 79\n"
     ]
    }
   ],
   "source": [
    "couplet =  \"Shall I compare thee to a Summer's day?\" + \"Thou are more lovely and more temperate:\"\n",
    "sen1 = \"Shall I compare thee to a Summer's day?\"\n",
    "sen2 = \"Thou are more lovely and more temperate:\"\n",
    "print(len(sen1),len(sen2))\n",
    "print(couplet)\n",
    "print(type(couplet), len(couplet))"
   ]
  },
  {
   "cell_type": "markdown",
   "metadata": {},
   "source": [
    "콤마(,) 없이 \\\\기호만 붙이고 줄을 바꿨습니다. 이렇게 해서 만들어도 타입은 **str**입니다."
   ]
  },
  {
   "cell_type": "code",
   "execution_count": 8,
   "metadata": {},
   "outputs": [
    {
     "name": "stdout",
     "output_type": "stream",
     "text": [
      "Shall I compare thee to a Summer's day?Thou are more lovely and more temperate:\n",
      "<class 'str'> 79\n"
     ]
    }
   ],
   "source": [
    "couplet = \"Shall I compare thee to a Summer's day?\"\\\n",
    "           \"Thou are more lovely and more temperate:\"\n",
    "print(couplet)\n",
    "print(type(couplet), len(couplet))"
   ]
  },
  {
   "cell_type": "markdown",
   "metadata": {},
   "source": [
    "- \\\\기호를 붙이는 대신 괄호로 2개 문자열을 묶어도 됩니다. \n",
    "- 주의할 건 콤마(,)로 문자열을 구분하면 안됩니다. 타입이 **tuple**로 바뀌기 때문이죠."
   ]
  },
  {
   "cell_type": "code",
   "execution_count": 9,
   "metadata": {},
   "outputs": [
    {
     "name": "stdout",
     "output_type": "stream",
     "text": [
      "Rough winds do shake the darling buds of May, And Summer's lease hath all too short a date:\n",
      "<class 'str'> 91\n"
     ]
    }
   ],
   "source": [
    "couplet = (\"Rough winds do shake the darling buds of May, \" \n",
    "           \"And Summer's lease hath all too short a date:\")\n",
    "print(couplet)\n",
    "print(type(couplet), len(couplet))"
   ]
  },
  {
   "cell_type": "markdown",
   "metadata": {},
   "source": [
    "- 줄 바꿈(newline)을 추가하려면, *삼중 따옴표*(triple quoted string)를 사용하면 됩니다.\n",
    "- 삼중 따옴표 안에 포함된 문자열 외에 newline char도 str 객체에 함께 저장됩니다. 길이가 늘어난 걸 확인하세요!!\n",
    "- 삼중 따옴표로 홑따옴표를 3개 사용해도 됩니다. 시작할 때와 끝낼 때 모두 홑따옴표를 사용해야 합니다."
   ]
  },
  {
   "cell_type": "code",
   "execution_count": 10,
   "metadata": {},
   "outputs": [
    {
     "name": "stdout",
     "output_type": "stream",
     "text": [
      "\n",
      "Shall I compare thee to a Summer's day?\n",
      "Thou are more lovely and more temperate:\n",
      "\n",
      "<class 'str'> 82\n"
     ]
    }
   ],
   "source": [
    "couplet = \"\"\"\n",
    "Shall I compare thee to a Summer's day?\n",
    "Thou are more lovely and more temperate:\n",
    "\"\"\"\n",
    "print(couplet)\n",
    "print(type(couplet), len(couplet))"
   ]
  },
  {
   "cell_type": "markdown",
   "metadata": {},
   "source": [
    "## 여러 개 문자열을 다룰 때는 리스트를 사용\n",
    "- 파이썬에서 list는 square bracket([...])를 사용하여 표현합니다."
   ]
  },
  {
   "cell_type": "code",
   "execution_count": 11,
   "metadata": {},
   "outputs": [
    {
     "data": {
      "text/plain": [
       "['A', 'closer', 'look', 'at', 'Python']"
      ]
     },
     "execution_count": 11,
     "metadata": {},
     "output_type": "execute_result"
    }
   ],
   "source": [
    "ex1 = ['A','closer','look','at','Python']\n",
    "ex1"
   ]
  },
  {
   "cell_type": "code",
   "execution_count": 12,
   "metadata": {},
   "outputs": [
    {
     "data": {
      "text/plain": [
       "'Texts as List of Words'"
      ]
     },
     "execution_count": 12,
     "metadata": {},
     "output_type": "execute_result"
    }
   ],
   "source": [
    "sent = 'Texts as List of Words'\n",
    "sent"
   ]
  },
  {
   "cell_type": "code",
   "execution_count": 15,
   "metadata": {},
   "outputs": [
    {
     "data": {
      "text/plain": [
       "str"
      ]
     },
     "execution_count": 15,
     "metadata": {},
     "output_type": "execute_result"
    }
   ],
   "source": [
    "type(ex1[0])"
   ]
  },
  {
   "cell_type": "markdown",
   "metadata": {},
   "source": [
    "리스트 **ex1**의 원소는 콤마로 구분된 5개이지만, 문자열(str) **sent**의 원소는 문자 갯수인 22개입니다."
   ]
  },
  {
   "cell_type": "code",
   "execution_count": 16,
   "metadata": {},
   "outputs": [
    {
     "name": "stdout",
     "output_type": "stream",
     "text": [
      "<class 'list'> <class 'str'> 5 22\n"
     ]
    }
   ],
   "source": [
    "print(type(ex1), type(sent), len(ex1), len(sent))"
   ]
  },
  {
   "cell_type": "markdown",
   "metadata": {},
   "source": [
    "## join(), split() "
   ]
  },
  {
   "cell_type": "markdown",
   "metadata": {},
   "source": [
    "- **join()**\n",
    "    - 리스트 타입을 str 타입으로 변환합니다.\n",
    "    - 리스트의 원소를 전달받아, 원소들을 구분기호(delimiter)로 모두 연결해서 하나의 str 객체를 만듭니다. \n",
    "    - 리스트의 원소와 원소 사이에 delimiter가 삽입됩니다."
   ]
  },
  {
   "cell_type": "code",
   "execution_count": 17,
   "metadata": {},
   "outputs": [
    {
     "name": "stdout",
     "output_type": "stream",
     "text": [
      "<class 'str'> ==> A;closer;look;at;Python\n"
     ]
    }
   ],
   "source": [
    "ex1join = ';'.join(ex1) #semicolon(;)을 구분기호로 사용\n",
    "print(type(ex1join), '==>', ex1join)"
   ]
  },
  {
   "cell_type": "markdown",
   "metadata": {},
   "source": [
    "- **split()**\n",
    "    - join과 반대되는 기능으로, str 타입을 리스트로 변환합니다.\n",
    "    - str 객체를 전달받아 delimiter에서 정의한 기호를 기준으로 여러 개의 str객체로 나눕니다."
   ]
  },
  {
   "cell_type": "code",
   "execution_count": 18,
   "metadata": {},
   "outputs": [
    {
     "name": "stdout",
     "output_type": "stream",
     "text": [
      "<class 'list'> ==> ['Texts', 'as', 'List', 'of', 'Words']\n"
     ]
    }
   ],
   "source": [
    "wds = sent.split(' ')\n",
    "print(type(wds), \"==>\", wds)"
   ]
  },
  {
   "cell_type": "markdown",
   "metadata": {},
   "source": [
    "간단한 응용 예제에 지금까지 배운 걸 적용해 볼까요? 아래 문장은 nltk에서 샘플로 제공하는 단문(single sentence)입니다."
   ]
  },
  {
   "cell_type": "code",
   "execution_count": 19,
   "metadata": {},
   "outputs": [],
   "source": [
    "ex_sent1 = \"Call me Ishmael .\"\n",
    "ex_sent2 = \"The family of Dashwood had long been settled in Sussex .\""
   ]
  },
  {
   "cell_type": "code",
   "execution_count": 20,
   "metadata": {},
   "outputs": [
    {
     "name": "stdout",
     "output_type": "stream",
     "text": [
      "['Call', 'me', 'Ishmael', '.']\n",
      "['The', 'family', 'of', 'Dashwood', 'had', 'long', 'been', 'settled', 'in', 'Sussex', '.']\n"
     ]
    }
   ],
   "source": [
    "new_sent1 = ex_sent1.split(' ')\n",
    "new_sent2 = ex_sent2.split(' ')\n",
    "print(new_sent1)\n",
    "print(new_sent2)"
   ]
  },
  {
   "cell_type": "markdown",
   "metadata": {},
   "source": [
    "## 문자열(리스트) 연산 : concatenation(+), append, multiplication(*)"
   ]
  },
  {
   "cell_type": "markdown",
   "metadata": {},
   "source": [
    "먼저 리스트에 원소를 추가해 보기로 하겠습니다."
   ]
  },
  {
   "cell_type": "code",
   "execution_count": 21,
   "metadata": {},
   "outputs": [
    {
     "data": {
      "text/plain": [
       "['Call', 'me', 'Ishmael', '.']"
      ]
     },
     "execution_count": 21,
     "metadata": {},
     "output_type": "execute_result"
    }
   ],
   "source": [
    "new_sent1"
   ]
  },
  {
   "cell_type": "code",
   "execution_count": 22,
   "metadata": {},
   "outputs": [
    {
     "name": "stdout",
     "output_type": "stream",
     "text": [
      "['Call', 'me', 'Ishmael', '.', 'Some']\n"
     ]
    }
   ],
   "source": [
    "new_sent1.append(\"Some\")\n",
    "print(new_sent1)"
   ]
  },
  {
   "cell_type": "markdown",
   "metadata": {},
   "source": [
    "마지막에 추가된 원소를 삭제해 보겠습니다."
   ]
  },
  {
   "cell_type": "code",
   "execution_count": 23,
   "metadata": {},
   "outputs": [
    {
     "name": "stdout",
     "output_type": "stream",
     "text": [
      "['Call', 'me', 'Ishmael', '.']\n"
     ]
    }
   ],
   "source": [
    "del new_sent1[-1]\n",
    "print(new_sent1)"
   ]
  },
  {
   "cell_type": "markdown",
   "metadata": {},
   "source": [
    "2개 리스트를 합쳐 보겠습니다."
   ]
  },
  {
   "cell_type": "code",
   "execution_count": 24,
   "metadata": {},
   "outputs": [
    {
     "name": "stdout",
     "output_type": "stream",
     "text": [
      "['Call', 'me', 'Ishmael', '.', 'The', 'family', 'of', 'Dashwood', 'had', 'long']\n",
      "4 11 15\n"
     ]
    }
   ],
   "source": [
    "new_sent12 = new_sent1 + new_sent2\n",
    "print(new_sent12[:10])\n",
    "print(len(new_sent1), len(new_sent2), len(new_sent12))"
   ]
  },
  {
   "cell_type": "markdown",
   "metadata": {},
   "source": [
    "별로 쓸모는 없지만 파이썬 책에 빠짐없이 나오는 내용이죠. 재미삼아 우리도 한 번 연습해 보겠습니다."
   ]
  },
  {
   "cell_type": "code",
   "execution_count": 25,
   "metadata": {},
   "outputs": [
    {
     "data": {
      "text/plain": [
       "'pythonpythonpython'"
      ]
     },
     "execution_count": 25,
     "metadata": {},
     "output_type": "execute_result"
    }
   ],
   "source": [
    "ex2 = 'python' + 'python' + 'python'\n",
    "ex2"
   ]
  },
  {
   "cell_type": "code",
   "execution_count": 26,
   "metadata": {},
   "outputs": [
    {
     "data": {
      "text/plain": [
       "'pythonpythonpython'"
      ]
     },
     "execution_count": 26,
     "metadata": {},
     "output_type": "execute_result"
    }
   ],
   "source": [
    "ex3 = 'python'*3\n",
    "ex3"
   ]
  },
  {
   "cell_type": "markdown",
   "metadata": {},
   "source": [
    "## 부분 문자열(substring) 추출\n",
    "- 인덱스(index)를 사용해 문자열이나 리스트에서 부분 문자열이나 리스트의 일부를 가져오는 것은 너무나 중요합니다.\n",
    "- 순방향(forward) 인덱스와 역방향(backward) 인덱스 표현에 주의를 기울여 주세요.\n",
    "- 특히, 부분 문자열의 범위를 지정할 때 마지막 인덱스는 제외된다는 사실을 기억하세요"
   ]
  },
  {
   "cell_type": "code",
   "execution_count": 27,
   "metadata": {},
   "outputs": [
    {
     "name": "stdout",
     "output_type": "stream",
     "text": [
      "y\n",
      "L\n"
     ]
    }
   ],
   "source": [
    "ex4 = 'Python NLTK'\n",
    "print(ex4[1])  #순방향 인덱싱\n",
    "print(ex4[-3]) #역방향 인덱싱"
   ]
  },
  {
   "cell_type": "markdown",
   "metadata": {},
   "source": [
    "- **순방향 인덱싱 범위** 를 지정할 때 \n",
    "    - 왼쪽 인덱스를 생략할 수 있으며, 인덱싱 범위는 **첫 번째 원소(0)** 부터 시작합니다. \n",
    "    - 오른쪽 인덱스를 생략할 수 있으며, 인덱싱 범위는 **마지막 원소** 까지 입니다.\n",
    "    - 왼쪽 인덱스를 지정한 경우, 인덱싱 범위는 **왼쪽 인덱스를 포함** 합니다. \n",
    "    - 오른쪽 인덱스를 지정한 경우, 인덱싱 범위는 **(오른쪽 인덱스-1) 까지 포함** 합니다."
   ]
  },
  {
   "cell_type": "code",
   "execution_count": 28,
   "metadata": {},
   "outputs": [
    {
     "name": "stdout",
     "output_type": "stream",
     "text": [
      "Pytho\n",
      "Python\n",
      "Python NLTK\n",
      "Python NLTK\n"
     ]
    }
   ],
   "source": [
    "ex4 = 'Python NLTK'\n",
    "print(ex4[0:5])\n",
    "print(ex4[:6])\n",
    "print(ex4[:])\n",
    "print(ex4[:len(ex4)])"
   ]
  },
  {
   "cell_type": "markdown",
   "metadata": {},
   "source": [
    "- **역방향 인덱싱 범위** 를 지정할 때(인덱싱 숫자 앞에 -(*minus*)를 붙임)\n",
    "    - 왼쪽 인덱스를 생략할 수 있으며, 인덱싱 범위는 **첫 번째 원소(0)** 까지입니다. \n",
    "    - 오른쪽 인덱스를 생략할 수 있으며, 인덱싱 범위는 **마지막 원소** 부터 시작합니다.\n",
    "    - 왼쪽 인덱스를 지정한 경우, 인덱싱 범위는 **왼쪽 인덱스를 포함** 합니다. \n",
    "    - 오른쪽 인덱스를 지정한 경우, 인덱싱 범위는 **(오른쪽 인덱스-1) 까지 포함** 합니다."
   ]
  },
  {
   "cell_type": "code",
   "execution_count": 29,
   "metadata": {},
   "outputs": [
    {
     "name": "stdout",
     "output_type": "stream",
     "text": [
      "Python NLT\n",
      "NLTK\n",
      "NLT\n",
      "Python NLTK\n",
      "Python NLTK\n"
     ]
    }
   ],
   "source": [
    "ex4 = 'Python NLTK'\n",
    "print(ex4[:-1]) #마지막 원소(K)가 빠짐.\n",
    "print(ex4[-4:]) #4개 원소.\n",
    "print(ex4[-4:-1]) #3개 원소. 마지막 원소(K)가 빠짐.\n",
    "print(ex4[:]) #전체 문자열\n",
    "print(ex4[-len(ex4):]) #전체 문자열"
   ]
  },
  {
   "cell_type": "markdown",
   "metadata": {},
   "source": [
    "인덱싱 범위 지정은 몇 번 연습하면 금방 익힐 수 있습니다. 아래 예제로 연습해 보세요."
   ]
  },
  {
   "cell_type": "code",
   "execution_count": 30,
   "metadata": {},
   "outputs": [
    {
     "data": {
      "text/plain": [
       "17"
      ]
     },
     "execution_count": 30,
     "metadata": {},
     "output_type": "execute_result"
    }
   ],
   "source": [
    "str2 = 'NLTK Dolly Python'\n",
    "len(str2)"
   ]
  },
  {
   "cell_type": "markdown",
   "metadata": {},
   "source": [
    "### **연습 1**: 문자열 str2에서 단어 *Python* 을 가져 오세요. \n",
    "순방향 인덱싱, 역방향 인덱싱 등 2가지 방식으로 모두 구현하세요."
   ]
  },
  {
   "cell_type": "code",
   "execution_count": 42,
   "metadata": {},
   "outputs": [
    {
     "data": {
      "text/plain": [
       "'NLTK Dolly Python'"
      ]
     },
     "execution_count": 42,
     "metadata": {},
     "output_type": "execute_result"
    }
   ],
   "source": [
    "str2"
   ]
  },
  {
   "cell_type": "code",
   "execution_count": 33,
   "metadata": {},
   "outputs": [
    {
     "data": {
      "text/plain": [
       "'Python'"
      ]
     },
     "execution_count": 33,
     "metadata": {},
     "output_type": "execute_result"
    }
   ],
   "source": [
    "# 순방향 인덱싱\n",
    "str2[11:]"
   ]
  },
  {
   "cell_type": "code",
   "execution_count": 34,
   "metadata": {},
   "outputs": [
    {
     "data": {
      "text/plain": [
       "'Python'"
      ]
     },
     "execution_count": 34,
     "metadata": {},
     "output_type": "execute_result"
    }
   ],
   "source": [
    "# 역방향 인덱싱\n",
    "str2[-6:]"
   ]
  },
  {
   "cell_type": "markdown",
   "metadata": {},
   "source": [
    "### **연습 2**: 문자열 str2에서 단어 *NLTK* 를 가져 오세요. \n",
    "순방향 인덱싱, 역방향 인덱싱 등 2가지 방식으로 모두 구현하세요."
   ]
  },
  {
   "cell_type": "code",
   "execution_count": 35,
   "metadata": {},
   "outputs": [
    {
     "data": {
      "text/plain": [
       "'NLTK Dolly Python'"
      ]
     },
     "execution_count": 35,
     "metadata": {},
     "output_type": "execute_result"
    }
   ],
   "source": [
    "str2"
   ]
  },
  {
   "cell_type": "code",
   "execution_count": 36,
   "metadata": {},
   "outputs": [
    {
     "data": {
      "text/plain": [
       "'NLTK'"
      ]
     },
     "execution_count": 36,
     "metadata": {},
     "output_type": "execute_result"
    }
   ],
   "source": [
    "#순방향 인덱싱으로 구현하세요\n",
    "str2[:4]"
   ]
  },
  {
   "cell_type": "markdown",
   "metadata": {},
   "source": [
    "- 혹시 뒤에서부터 -1,-2,... 이런 식으로 일일이 세면서 인덱스를 구하지 않았나요?\n",
    "- 설마... 당연히 -(len('Dolly')+len('Python')+2 로 구했겠죠. "
   ]
  },
  {
   "cell_type": "code",
   "execution_count": 40,
   "metadata": {},
   "outputs": [
    {
     "data": {
      "text/plain": [
       "'NLTK'"
      ]
     },
     "execution_count": 40,
     "metadata": {},
     "output_type": "execute_result"
    }
   ],
   "source": [
    "#역방향 인덱싱으로 구현하세요\n",
    "str2[:-13]"
   ]
  },
  {
   "cell_type": "markdown",
   "metadata": {},
   "source": [
    "### **연습 3**: 문자열 str2에서 단어 *Dolly* 를 가져 오세요. \n",
    "순방향 인덱싱, 역방향 인덱싱 등 2가지 방식으로 모두 구현하세요."
   ]
  },
  {
   "cell_type": "code",
   "execution_count": 41,
   "metadata": {},
   "outputs": [
    {
     "data": {
      "text/plain": [
       "'NLTK Dolly Python'"
      ]
     },
     "execution_count": 41,
     "metadata": {},
     "output_type": "execute_result"
    }
   ],
   "source": [
    "str2"
   ]
  },
  {
   "cell_type": "code",
   "execution_count": 45,
   "metadata": {},
   "outputs": [
    {
     "data": {
      "text/plain": [
       "'Dolly'"
      ]
     },
     "execution_count": 45,
     "metadata": {},
     "output_type": "execute_result"
    }
   ],
   "source": [
    "#순방향 인덱싱으로 구현하세요\n",
    "x = len('NLTK')+1\n",
    "str2[x:x+len('DOLLY')]"
   ]
  },
  {
   "cell_type": "code",
   "execution_count": 46,
   "metadata": {},
   "outputs": [
    {
     "data": {
      "text/plain": [
       "'Dolly'"
      ]
     },
     "execution_count": 46,
     "metadata": {},
     "output_type": "execute_result"
    }
   ],
   "source": [
    "#역방향 인덱싱으로 구현하세요\n",
    "str2[-12:-7]"
   ]
  },
  {
   "cell_type": "code",
   "execution_count": 50,
   "metadata": {},
   "outputs": [
    {
     "data": {
      "text/plain": [
       "'Dolly'"
      ]
     },
     "execution_count": 50,
     "metadata": {},
     "output_type": "execute_result"
    }
   ],
   "source": [
    "str2[-7-len('DOLLY'):-len('Python')-1]"
   ]
  }
 ],
 "metadata": {
  "kernelspec": {
   "display_name": "Python 3",
   "language": "python",
   "name": "python3"
  },
  "language_info": {
   "codemirror_mode": {
    "name": "ipython",
    "version": 3
   },
   "file_extension": ".py",
   "mimetype": "text/x-python",
   "name": "python",
   "nbconvert_exporter": "python",
   "pygments_lexer": "ipython3",
   "version": "3.7.1"
  }
 },
 "nbformat": 4,
 "nbformat_minor": 2
}
