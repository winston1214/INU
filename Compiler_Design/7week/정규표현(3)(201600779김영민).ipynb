{
 "cells": [
  {
   "cell_type": "markdown",
   "metadata": {},
   "source": [
    "# 201600779 김영민"
   ]
  },
  {
   "cell_type": "markdown",
   "metadata": {},
   "source": [
    "# Practices(1): 정규 표현 메타 기호"
   ]
  },
  {
   "cell_type": "markdown",
   "metadata": {},
   "source": [
    "All rights reserved, 2021, by *Youn-Sik Hong*. 수업 목적으로만 활용 가능."
   ]
  },
  {
   "cell_type": "markdown",
   "metadata": {},
   "source": [
    "# assignment\n",
    "- 이 handout sheet에는 마지막에 2개의 문제가 있습니다.\n",
    "    - 비어있는 셀에 문제에 대한 정답 코드를 작성하고 실행 결과를 보여야 합니다.\n",
    "- 모든 셀의 실행 결과가 포함되어 있어야 합니다. \n",
    "    - 즉, 모든 셀에는 셀 번호가 있어야 합니다."
   ]
  },
  {
   "cell_type": "code",
   "execution_count": 1,
   "metadata": {},
   "outputs": [],
   "source": [
    "import re"
   ]
  },
  {
   "cell_type": "markdown",
   "metadata": {},
   "source": [
    "정규표현 기본기(메타기호)를 제대로 익혔는지 복습해 볼까요?"
   ]
  },
  {
   "cell_type": "code",
   "execution_count": 7,
   "metadata": {},
   "outputs": [],
   "source": [
    "def text_search(patterns, text):\n",
    "    m = re.search(patterns, text)\n",
    "    if m:\n",
    "        if m.group() == '':\n",
    "            print('Empty')\n",
    "        else: print(m.group(0)) \n",
    "    else:\n",
    "        print('Not found!')"
   ]
  },
  {
   "cell_type": "markdown",
   "metadata": {},
   "source": [
    "메타기호 \\? 는 패턴이 없거나 한 번 발생(zero or one occurrence)을 의미합니다. \n",
    "- 패턴이 없다는 것(disappear)은 empty string을 의미합니다. \n",
    "- empty string은 길이가 0인 문자열입니다. \n",
    "- 문자열 연산에서 empty string은 곱셈에서 1을 곱하는 것과 같습니다. "
   ]
  },
  {
   "cell_type": "code",
   "execution_count": 8,
   "metadata": {},
   "outputs": [
    {
     "name": "stdout",
     "output_type": "stream",
     "text": [
      "a\n",
      "ab\n",
      "Not found!\n"
     ]
    }
   ],
   "source": [
    "# ab? 패턴에 해당하는 문자열: a, ab\n",
    "text_search(r\"ab?\", \"ac\") # a 찾음  a or ab\n",
    "text_search(r\"ab?\", \"abc\") \n",
    "text_search(r\"ab?\", \"bbc\") # a는 반드시 있어야함"
   ]
  },
  {
   "cell_type": "markdown",
   "metadata": {},
   "source": [
    "- 괄호로 묶으면 어떻게 될까요? \n",
    "    - **ab?** 패턴에 해당하는 문자열이 [a, ab]라는 것은 **a(b?)** 와 같습니다.\n",
    "    - 그러면 **(ab)?** 패턴에 해당하는 문자열은 [empty string, ab] 이겠죠. \n",
    "    - 실행하면서 확인해 볼까요? **(ab)?** 는 아무 것도 출력을 하지 않네요..뭔가 이상하군요."
   ]
  },
  {
   "cell_type": "code",
   "execution_count": 9,
   "metadata": {},
   "outputs": [
    {
     "name": "stdout",
     "output_type": "stream",
     "text": [
      "a\n",
      "Empty\n"
     ]
    }
   ],
   "source": [
    "text_search(r\"a(b)?\", \"ac\") # a,ab\n",
    "text_search(r\"(ab)?\", \"ac\") # ab"
   ]
  },
  {
   "cell_type": "markdown",
   "metadata": {},
   "source": [
    "- **text_search** 메소드를 조금 수정하면 금방 그 이유를 알 수 있습니다. \n",
    "    - 괄호를 사용했기 때문에 subgroup을 확인할 수 있습니다.\n",
    "    - **match** 객체가 *None*은 아닙니다. \n",
    "        - m.group(1)이 None 인 것은 empty string이기 때문입니다.\n",
    "        - empty string이니 보일 리가 없죠..."
   ]
  },
  {
   "cell_type": "code",
   "execution_count": 10,
   "metadata": {},
   "outputs": [
    {
     "name": "stdout",
     "output_type": "stream",
     "text": [
      "match is not null\n",
      "None\n"
     ]
    }
   ],
   "source": [
    "m = re.search(\"(ab)?\", \"ac\")\n",
    "if m:\n",
    "    print('match is not null'); print(m.group(1)) \n",
    "else:\n",
    "    print('Not found!')"
   ]
  },
  {
   "cell_type": "markdown",
   "metadata": {},
   "source": [
    "메타기호 \\* 는 없거나 여러 번 발생(zero or more occurrences)을 의미합니다. 패턴이 없을 수 있다는 점이 \\+와 차이점입니다."
   ]
  },
  {
   "cell_type": "code",
   "execution_count": 11,
   "metadata": {},
   "outputs": [
    {
     "name": "stdout",
     "output_type": "stream",
     "text": [
      "a\n",
      "ab\n",
      "abbbbb\n",
      "Not found!\n"
     ]
    }
   ],
   "source": [
    "#ab*=a(b)* 패턴에 해당하는 문자열: a, ab, abb, abbb, abbb....\n",
    "text_search(r\"ab*\", \"ac\")  \n",
    "text_search(r\"ab*\", \"abc\")\n",
    "text_search(r\"ab*\", \"abbbbbc\") # c는 인식 안함\n",
    "text_search(r\"ab*\", \"cbc\")"
   ]
  },
  {
   "cell_type": "markdown",
   "metadata": {},
   "source": [
    "메타기호 \\+ 는 한 번 또는 여러 번 발생(one or more occurrences)을 의미합니다. 최소한 한 번은 발생해야 합니다."
   ]
  },
  {
   "cell_type": "code",
   "execution_count": 12,
   "metadata": {},
   "outputs": [
    {
     "name": "stdout",
     "output_type": "stream",
     "text": [
      "Not found!\n",
      "ab\n",
      "abb\n"
     ]
    }
   ],
   "source": [
    "# ab+ = a(b)+ 패턴에 해당하는 문자열: {ab, abb, abbb, abbbb, ....}\n",
    "text_search(r\"ab+\", \"ac\") \n",
    "text_search(r\"ab+\", \"abc\")\n",
    "text_search(r\"ab+\", \"abbc\")"
   ]
  },
  {
   "cell_type": "markdown",
   "metadata": {},
   "source": [
    "- 메타기호 \\{ \\} 를 사용하여 패턴의 발생 횟수 또는 범위를 지정할 수 있습니다. \n",
    "    - \\{3, 5\\}는 패턴이 3번, 4번, 또는 5번 발생할 수 있다는 뜻입니다.\n",
    "    - 또, 최소 3번은 발생해야 한다는 뜻입니다."
   ]
  },
  {
   "cell_type": "code",
   "execution_count": 13,
   "metadata": {},
   "outputs": [
    {
     "name": "stdout",
     "output_type": "stream",
     "text": [
      "abb\n",
      "abbbbb\n",
      "Not found!\n",
      "Not found!\n",
      "abbb\n"
     ]
    }
   ],
   "source": [
    "text_search(r\"ab{2}\", \"abbc\") # abb\n",
    "text_search(r\"ab{3,5}\", \"aabbbbbbc\")  # abbb, abbbb, abbbbb\n",
    "text_search(r\"ab{3,5}\", \"aabbc\") \n",
    "text_search(r\"(ab){3,5}\", \"aabbc\") #ababab. abababab, ababababab\n",
    "text_search(r\"a(b{3,5})\", \"abbbc\") #abbb, abbbb, abbbbb"
   ]
  },
  {
   "cell_type": "markdown",
   "metadata": {},
   "source": [
    "- 메타기호 \\^(caret)은 텍스트의 맨 처음을 나타내는 기호입니다. \n",
    "- 메타기호 \\$(dollar)는 텍스트의 맨 마지막을 나타내는 기호입니다."
   ]
  },
  {
   "cell_type": "code",
   "execution_count": 15,
   "metadata": {},
   "outputs": [
    {
     "name": "stdout",
     "output_type": "stream",
     "text": [
      "abf-----c\n"
     ]
    }
   ],
   "source": [
    "text_search(\"^a.*c$\", \"abf-----c\", )  # a...c    "
   ]
  },
  {
   "cell_type": "markdown",
   "metadata": {},
   "source": [
    "- \\w : Any **alphanumeric** character (equivalent to [a-zA-Z0-9_]). \n",
    "- \\W : Any **non-alphanumeric** character (equivalent to  [^a-zA-Z0-9_])"
   ]
  },
  {
   "cell_type": "code",
   "execution_count": 16,
   "metadata": {
    "scrolled": true
   },
   "outputs": [
    {
     "name": "stdout",
     "output_type": "stream",
     "text": [
      "Tuffy\n",
      "['Tuffy']\n",
      "['Tuffy', 'eats', 'pie', 'Loki', 'eats', 'peas']\n",
      "[' ', ' ', ', ', ' ', ' ', '!']\n"
     ]
    }
   ],
   "source": [
    "str = \"Tuffy eats pie, Loki eats peas!\"\n",
    "text_search(\"^\\w+\", str)\n",
    "print(re.findall(r'^\\w+', str))\n",
    "print(re.findall(r'\\w+', str))\n",
    "print(re.findall(r'\\W+', str))"
   ]
  },
  {
   "cell_type": "markdown",
   "metadata": {},
   "source": [
    "- \\s : Any **whitespace character** (equivalent to [ \\t\\n\\r\\f\\v]).\n",
    "    - \\t(tab), \\n(newline), \\r(carriage return) 등은 **escape 문자** 입니다.\n",
    "        - Tab 키, Enter 키, Space 키에 해당하는 문자를 가리킵니다.\n",
    "    - [ ]기호(brackets) 의미를 정확히 이해하세요. \n",
    "        - [ ]안에 속한 기호 모음 중 **하나**를 가리킵니다. \n",
    "    - 아래 예제에서 여러 개의 whitespace 문자를 찾기 때문에, \\s대신 \\s+와 같이 메타기호 +를 추가했습니다.\n",
    "- \\S : Any non-whitespace character (equivalent to [^ \\t\\n\\r\\f\\v])\n",
    "    - 눈치빠른 학생은 지금쯤 ^(caret) 기호 의미를 파악했을 겁니다. \n",
    "    - 그리고, 소문자 메타기호와 대문자 메타기호는 정반대의 패턴을 정의한다는 것도요!!! You are so Great!"
   ]
  },
  {
   "cell_type": "code",
   "execution_count": 18,
   "metadata": {},
   "outputs": [
    {
     "name": "stdout",
     "output_type": "stream",
     "text": [
      "non-whitespace chars=Tuffy\n",
      "whitespace chars= \n"
     ]
    }
   ],
   "source": [
    "str = \"Tuffy eats pie, Loki eats peas!\"\n",
    "print('non-whitespace chars=', end='')\n",
    "text_search(r\"\\S+\", str) # white space가 아닌 것들\n",
    "\n",
    "print('whitespace chars=', end='')\n",
    "text_search(r\"\\s+\", str) # white space만"
   ]
  },
  {
   "cell_type": "markdown",
   "metadata": {},
   "source": [
    "- whitespace chars는 아무 것도 출력되지 않았어요.\n",
    "- 아래 코드를 실행시켜 보세요."
   ]
  },
  {
   "cell_type": "code",
   "execution_count": 19,
   "metadata": {},
   "outputs": [
    {
     "name": "stdout",
     "output_type": "stream",
     "text": [
      "찾은 토큰 개수 = 5, whitespace chars = [' ', ' ', ' ', ' ', ' ']\n",
      "찾은 토큰 개수 = 6, non-whitespace chars = ['Tuffy', 'eats', 'pie,', 'Loki', 'eats', 'peas!']\n"
     ]
    }
   ],
   "source": [
    "s1 = re.findall(r'\\s+', str)\n",
    "print('찾은 토큰 개수 = {}, whitespace chars = {}'.format(len(s1), s1))\n",
    "s2 = re.findall(r'\\S+', str)\n",
    "print('찾은 토큰 개수 = {}, non-whitespace chars = {}'.format(len(s2), s2))"
   ]
  },
  {
   "cell_type": "markdown",
   "metadata": {},
   "source": [
    "한 가지 아니면 2개 메타 기호를 사용한 정규표현 예제가 지루해졌죠. 이제 여러 개 메타 기호를 섞어 쓴 예제를 살펴봅시다.\n",
    "- \\w+와 \\S+ 차이점에 주목하기 바랍니다.\n",
    "- \\S+는 구둣점도 포함해서 token을 찾습니다. "
   ]
  },
  {
   "cell_type": "code",
   "execution_count": 20,
   "metadata": {},
   "outputs": [
    {
     "name": "stdout",
     "output_type": "stream",
     "text": [
      "['Tuffy?', 'eats^', 'pie#,', 'Loki+', 'eats~', 'peas!']\n",
      "['peas!']\n",
      "['Tuffy?']\n"
     ]
    }
   ],
   "source": [
    "str = \"Tuffy? eats^ pie#, Loki+ eats~ peas!\"\n",
    "\n",
    "print(re.findall(\"\\S+\", str))\n",
    "print(re.findall(\"\\S+$\", str))\n",
    "print(re.findall(\"^\\S+\", str))"
   ]
  },
  {
   "cell_type": "markdown",
   "metadata": {},
   "source": [
    "- 설명할까 그냥 넘어갈까 고민한 메타 표현이 \\b와 \\B입니다. 조금 헷갈릴 수 있기 때문입니다. 예제를 잘 보고 이해하기 바랍니다.\n",
    "- '\\B'는 단어와 단어 사이에 있는 space나 구둣점('.')과 매칭합니다.\n",
    "    - 예: \"A\" -> 0, \"AB\" -> 1, \"ABC\" -> 2, \"ABC.\" -> 3... 등"
   ]
  },
  {
   "cell_type": "markdown",
   "metadata": {},
   "source": [
    "str = \"ABC DE\"일 때 \\B 패턴은 3곳을 찾았습니다. 왜 그럴까요? 주석 처리해 놓은 str을 바꿔가며 결과를 확인하세요."
   ]
  },
  {
   "cell_type": "markdown",
   "metadata": {},
   "source": [
    "사잇값 체크"
   ]
  },
  {
   "cell_type": "code",
   "execution_count": 23,
   "metadata": {},
   "outputs": [
    {
     "name": "stdout",
     "output_type": "stream",
     "text": [
      "Found \"\" at 1:1\n",
      "Found \"\" at 2:2\n"
     ]
    }
   ],
   "source": [
    "str = \"AB\"\n",
    "str = \"ABC\"\n",
    "# str = \"ABC DE\"\n",
    "for match in re.finditer(r'\\B', str):\n",
    "    s = match.start()\n",
    "    e = match.end()\n",
    "    print('Found \"%s\" at %d:%d' % (str[s:e], s, e))"
   ]
  },
  {
   "cell_type": "markdown",
   "metadata": {},
   "source": [
    "- 패턴'\\Bu\\B'는 문자와 문자 사이에 'u'가 포함되어 있는가 입니다.\n",
    "- 주석 처리해 놓은 str을 바꿔가며 결과를 확인하세요."
   ]
  },
  {
   "cell_type": "code",
   "execution_count": 25,
   "metadata": {},
   "outputs": [
    {
     "name": "stdout",
     "output_type": "stream",
     "text": [
      "Not found!\n"
     ]
    }
   ],
   "source": [
    "str = \"Tommy eats pie, Loki eats peas!\"\n",
    "# str = \"Tuffy eats pie, Loki eats peas!\"\n",
    "text_search(r\"\\Bu\\B\", str) # 글자와 글자 사이에 u가 있냐?"
   ]
  },
  {
   "cell_type": "markdown",
   "metadata": {},
   "source": [
    "- '\\b'가 '\\B'보다 사용하기 편합니다. \n",
    "    - 왜냐하면 '\\B'는 글자와 글자 사이까지 속속들이 찾는 반면, \n",
    "    - '\\b'는 단어(word)의 시작과 끝에서만 찾기 때문이죠. \n",
    "    - '\\b'는 거의 대부분 '\\w'와 함께 사용하며, '\\w'에 해당하는 단어의 경계(boundary)를 정의할 목적으로 사용합니다. \n",
    "- 매뉴얼에서 설명한 예가 이를 잘 설명하고 있습니다. \n",
    "    - r'\\bfoo\\b' 는 'foo', 'foo.', '(foo)', 'bar foo baz' 와 매칭되지만, 'foobar', 'foo3'는 매칭되지 않습니다. \n",
    "        - 즉 단어 'foo'만을 찾을 목적으로 사용하라는 겁니다. \n",
    "        - 'foobar'나 'foo3'는 그 자체로 한 단어이기 때문에, 'foo'와는 전혀 다르죠."
   ]
  },
  {
   "cell_type": "markdown",
   "metadata": {},
   "source": [
    "위에 지루한 설명은, 아래 예로 금방 확인할 수 있습니다. 주어진 문장에서 공백과 공백 사이에 있는 단어 중에 길이가 5인 단어를 찾아보자구요."
   ]
  },
  {
   "cell_type": "code",
   "execution_count": 27,
   "metadata": {},
   "outputs": [
    {
     "name": "stdout",
     "output_type": "stream",
     "text": [
      "sweet\n",
      "['sweet', 'winds']\n"
     ]
    }
   ],
   "source": [
    "text = \"Love is like a sweet whisper, autumn winds!\"\n",
    "text_search(r\"\\b\\w{5}\\b\", text) # 길이가 5인 단어를 찾아라\n",
    "print(re.findall(r\"\\b\\w{5}\\b\", text))"
   ]
  },
  {
   "cell_type": "markdown",
   "metadata": {},
   "source": [
    "자! 이제부터 도전 과제로 넘어갑니다. 자신의 skill이 어느 정도에 도달했는지 테스트해 볼 수 있는 기회입니다."
   ]
  },
  {
   "cell_type": "markdown",
   "metadata": {},
   "source": [
    "### 문제 1(difficulty=low). 아래 단어에서 모음은 모두 몇 개일까요?"
   ]
  },
  {
   "cell_type": "code",
   "execution_count": 30,
   "metadata": {},
   "outputs": [],
   "source": [
    "word = 'supercalifragilisticexpialidocious'"
   ]
  },
  {
   "cell_type": "code",
   "execution_count": 34,
   "metadata": {},
   "outputs": [
    {
     "name": "stdout",
     "output_type": "stream",
     "text": [
      "모음의 개수는  16\n"
     ]
    }
   ],
   "source": [
    "print('모음의 개수는 ',len(re.findall('[aeiou]',word)))"
   ]
  },
  {
   "cell_type": "markdown",
   "metadata": {},
   "source": [
    "### 문제 2(difficulty=medium). 아래 url에서 년도(year), 월(month), 일(day)을 찾아 보세요."
   ]
  },
  {
   "cell_type": "code",
   "execution_count": 28,
   "metadata": {},
   "outputs": [
    {
     "data": {
      "text/plain": [
       "'http://www.telegraph.co.uk/formula-1/2017/10/28/mexican-grand-prix-2017-time-does-start-tv-channel-odds-lewis1/2017/05/12/'"
      ]
     },
     "execution_count": 28,
     "metadata": {},
     "output_type": "execute_result"
    }
   ],
   "source": [
    "url= \"http://www.telegraph.co.uk/formula-1/2017/10/28/\"\\\n",
    "     \"mexican-grand-prix-2017-time-does-start-tv-channel-odds-lewis1/2017/05/12/\"\n",
    "url"
   ]
  },
  {
   "cell_type": "code",
   "execution_count": 53,
   "metadata": {},
   "outputs": [
    {
     "name": "stdout",
     "output_type": "stream",
     "text": [
      "Year : 2017, Month : 10, Day : 28\n",
      "Year : 2017, Month : 05, Day : 12\n"
     ]
    }
   ],
   "source": [
    "date_list = re.findall('\\d{4}/\\d{2}/\\d{2}',url)\n",
    "for i in date_list:\n",
    "    date = i.split('/')\n",
    "    print('Year : {}, Month : {}, Day : {}'.format(date[0],date[1],date[2]))"
   ]
  },
  {
   "cell_type": "markdown",
   "metadata": {},
   "source": [
    "- Great! 여기까지 온 당신은 장애물을 모두 돌파할 수 있는 모든 준비를 다 갖췄습니다. \n",
    "- 이제 Practices(2)에 준비된 difficulty level=high에 도전해 봅시다."
   ]
  }
 ],
 "metadata": {
  "kernelspec": {
   "display_name": "Python 3",
   "language": "python",
   "name": "python3"
  },
  "language_info": {
   "codemirror_mode": {
    "name": "ipython",
    "version": 3
   },
   "file_extension": ".py",
   "mimetype": "text/x-python",
   "name": "python",
   "nbconvert_exporter": "python",
   "pygments_lexer": "ipython3",
   "version": "3.7.1"
  }
 },
 "nbformat": 4,
 "nbformat_minor": 2
}
