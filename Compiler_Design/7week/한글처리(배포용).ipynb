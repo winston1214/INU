{
 "cells": [
  {
   "cell_type": "markdown",
   "metadata": {},
   "source": [
    "# 파이썬에서 한글 처리 "
   ]
  },
  {
   "cell_type": "markdown",
   "metadata": {},
   "source": [
    "All rights reserved, 2021, By **Youn-Sik Hong**. 수업 목적으로만 활용 가능."
   ]
  },
  {
   "cell_type": "markdown",
   "metadata": {},
   "source": [
    "- 파이썬에서는 utf-8 코드 체계를 사용    \n",
    "    - utf-8 : unicode를 완벽하게 지원하는 코드 체계.\n",
    "    - Unicode 문자코드 차트 : http://www.unicode.org/charts/\n",
    "        - 한글은 East Asian Scripts에서 Hangul Jamo에서 찾으면 됨.\n",
    "- 파일을 읽어오거나 처리 결과를 파일로 저장할 때 해당 문자열의 인코딩 방식에 맞는 변환이 필요.\n",
    "    - decode : latin-2, utf-8 등으로 인코딩한 파일 --> 파이썬 내부로 가져올 때 unicode로 변환하는 과정.\n",
    "    - encode : 파이썬 내부에서 처리한 unicode 문자열 --> utf-8, cp949 등으로 인코딩해서 파일로 저장하는 과정."
   ]
  },
  {
   "cell_type": "markdown",
   "metadata": {},
   "source": [
    "## 한글 코드 변환 "
   ]
  },
  {
   "cell_type": "code",
   "execution_count": 1,
   "metadata": {},
   "outputs": [
    {
     "name": "stdout",
     "output_type": "stream",
     "text": [
      "utf-8\n"
     ]
    }
   ],
   "source": [
    "import sys\n",
    "\n",
    "print(sys.getdefaultencoding())"
   ]
  },
  {
   "cell_type": "markdown",
   "metadata": {},
   "source": [
    "- cp949는 완성형 코드이며, utf-8(unicode)은 조합형 코드를 사용. \n",
    "- 한글 조합코드: 초성코드+중성코드+종성코드의 조합으로 한글 음절(syllable)을 구성하는 것을 말함.\n",
    "- 아래 출력에서 b는 binary, x는 hexadecimal(16진수)을 의미."
   ]
  },
  {
   "cell_type": "code",
   "execution_count": 5,
   "metadata": {},
   "outputs": [
    {
     "name": "stdout",
     "output_type": "stream",
     "text": [
      "b'\\xc8\\xab'\n",
      "홍\n"
     ]
    }
   ],
   "source": [
    "print('홍'.encode('cp949'))\n",
    "print(b'\\xc8\\xab'.decode('cp949'))"
   ]
  },
  {
   "cell_type": "code",
   "execution_count": 8,
   "metadata": {},
   "outputs": [
    {
     "name": "stdout",
     "output_type": "stream",
     "text": [
      "b'\\xed\\x99\\x8d'\n",
      "홍\n"
     ]
    }
   ],
   "source": [
    "print(\"홍\".encode(\"utf-8\"))\n",
    "print(b'\\xed\\x99\\x8d'.decode('utf-8'))"
   ]
  },
  {
   "cell_type": "markdown",
   "metadata": {},
   "source": [
    "- **김 영랑** 시인의 시 '오매, 단풍들것네'\n",
    "    - *오매 단풍들것네 장광에 골불은 감닙 날러오아 누이는 놀란 듯이 치어다보며 오매 단풍들것네.*"
   ]
  },
  {
   "cell_type": "code",
   "execution_count": 9,
   "metadata": {},
   "outputs": [
    {
     "name": "stdout",
     "output_type": "stream",
     "text": [
      "오매 단풍들것네\n"
     ]
    }
   ],
   "source": [
    "hangul_sent = '오매 단풍들것네' \n",
    "print(hangul_sent)"
   ]
  },
  {
   "cell_type": "markdown",
   "metadata": {},
   "source": [
    "시스템 내부 또는 파일에 저장될 때 어떻게 표현될까? - \\\\uxxxx (x는 16진수)"
   ]
  },
  {
   "cell_type": "markdown",
   "metadata": {},
   "source": [
    "encode 메소드에서 **unicode_escape** 옵션을 설정하면 음절 단위로 저장. '오','매',' ','단','풍','들','것','네'"
   ]
  },
  {
   "cell_type": "code",
   "execution_count": 10,
   "metadata": {},
   "outputs": [
    {
     "name": "stdout",
     "output_type": "stream",
     "text": [
      "b'\\\\uc624\\\\ub9e4 \\\\ub2e8\\\\ud48d\\\\ub4e4\\\\uac83\\\\ub124'\n"
     ]
    }
   ],
   "source": [
    "print(hangul_sent.encode('unicode_escape'))"
   ]
  },
  {
   "cell_type": "code",
   "execution_count": 13,
   "metadata": {},
   "outputs": [
    {
     "name": "stdout",
     "output_type": "stream",
     "text": [
      "오\n",
      "설\n"
     ]
    }
   ],
   "source": [
    "print('\\uc624')\n",
    "print('\\uc124')"
   ]
  },
  {
   "cell_type": "markdown",
   "metadata": {},
   "source": [
    "- encode 메소드에서 **utf-8** 옵션을 설정하면, 한글 음절을 구성하는 **자모** (자음모음) 단위로 저장. \n",
    "- '오'는 'ㅇ'+'ㅗ'+'받침 없음'과 같이 3개 코드로 변환되어 저장.\n",
    "    - 모든 한글 음절은 각각 3개의 자모 코드로 변환. 7개 한글 음절이기 때문에 21개 코드로 바뀜.\n",
    "    - \\\\x는 16진수를 표시하는 prefix이기 때문에 다음 2자리 16진수 수가 자모 코드.\n",
    "- space 문자는 화면에 보이는 그대로 저장됨. space 문자는 ASCII(7bits)의 128개 코드에 포함되기 때문."
   ]
  },
  {
   "cell_type": "code",
   "execution_count": 14,
   "metadata": {},
   "outputs": [
    {
     "name": "stdout",
     "output_type": "stream",
     "text": [
      "b'\\xec\\x98\\xa4\\xeb\\xa7\\xa4 \\xeb\\x8b\\xa8\\xed\\x92\\x8d\\xeb\\x93\\xa4\\xea\\xb2\\x83\\xeb\\x84\\xa4'\n"
     ]
    }
   ],
   "source": [
    "print(hangul_sent.encode('utf-8')) \n",
    "#print(hangul_sent.encode()) #default는 utf-8로 인코딩"
   ]
  },
  {
   "cell_type": "code",
   "execution_count": 17,
   "metadata": {},
   "outputs": [
    {
     "name": "stdout",
     "output_type": "stream",
     "text": [
      "오\n"
     ]
    }
   ],
   "source": [
    "print(b'\\xec\\x98\\xa4'.decode('utf-8'))"
   ]
  },
  {
   "cell_type": "code",
   "execution_count": 18,
   "metadata": {},
   "outputs": [],
   "source": [
    "import unicodedata"
   ]
  },
  {
   "cell_type": "markdown",
   "metadata": {},
   "source": [
    "아래 예에서 by, Young, Rang, Kim과 space 및 dash (-)문자는 ASCII 코드에 포함되기 때문에 출력되지 않음."
   ]
  },
  {
   "cell_type": "code",
   "execution_count": 19,
   "metadata": {},
   "outputs": [
    {
     "name": "stdout",
     "output_type": "stream",
     "text": [
      "b'\\xec\\x98\\xa4' U+c624 HANGUL SYLLABLE O\n",
      "b'\\xeb\\xa7\\xa4' U+b9e4 HANGUL SYLLABLE MAE\n",
      "b'\\xeb\\x8b\\xa8' U+b2e8 HANGUL SYLLABLE DAN\n",
      "b'\\xed\\x92\\x8d' U+d48d HANGUL SYLLABLE PUNG\n",
      "b'\\xeb\\x93\\xa4' U+b4e4 HANGUL SYLLABLE DEUL\n",
      "b'\\xea\\xb2\\x83' U+ac83 HANGUL SYLLABLE GEOS\n",
      "b'\\xeb\\x84\\xa4' U+b124 HANGUL SYLLABLE NE\n"
     ]
    }
   ],
   "source": [
    "hangul_sent2 = '오매 단풍들것네 by Young-Rang Kim'\n",
    "for c in hangul_sent2: \n",
    "    if ord(c) > 127:  #ASCII 코드가 아닌 경우 unicode로 변환\n",
    "        print('{} U+{:04x} {}'.format(c.encode('utf8'), ord(c), unicodedata.name(c)))"
   ]
  },
  {
   "cell_type": "markdown",
   "metadata": {},
   "source": [
    "초성코드+중성코드+종성코드로 만들어진 한글 음절과 unicode로 정의한 한글 음절의 디코딩 결과를 확인해 보자."
   ]
  },
  {
   "cell_type": "code",
   "execution_count": 20,
   "metadata": {},
   "outputs": [
    {
     "name": "stdout",
     "output_type": "stream",
     "text": [
      "오 오\n"
     ]
    }
   ],
   "source": [
    "print(b'\\xec\\x98\\xa4'.decode('utf-8'), '\\uc624')"
   ]
  },
  {
   "cell_type": "markdown",
   "metadata": {},
   "source": [
    "## 한글 호환 자모(Hangul Compatibility Jamo)\n",
    "- 초성이나 받침이 아닌 자모(자음, 모음)만을 위한 코드이며, 자모가 정상 크기로 출력됨."
   ]
  },
  {
   "cell_type": "code",
   "execution_count": 21,
   "metadata": {},
   "outputs": [],
   "source": [
    "def show_hangulcode(s, e, f=False):\n",
    "    if f:\n",
    "        print(s, e, e-s+1, hex(s), hex(e))\n",
    "    print() #한글이 차지하는 공간이 넓어서 여유 공간(padding)을 확보\n",
    "    for i in range(s, e):\n",
    "        print(chr(i), end=' ')    "
   ]
  },
  {
   "cell_type": "code",
   "execution_count": 22,
   "metadata": {},
   "outputs": [
    {
     "name": "stdout",
     "output_type": "stream",
     "text": [
      "\n",
      "ㄱ ㄲ ㄳ ㄴ ㄵ ㄶ ㄷ ㄸ ㄹ ㄺ ㄻ ㄼ ㄽ ㄾ ㄿ ㅀ ㅁ ㅂ ㅃ ㅄ ㅅ ㅆ ㅇ ㅈ ㅉ ㅊ ㅋ ㅌ ㅍ "
     ]
    }
   ],
   "source": [
    "start = int('3131', 16) #16진수를 10진수로 변환\n",
    "end = int('314e', 16)\n",
    "show_hangulcode(start, end)"
   ]
  },
  {
   "cell_type": "code",
   "execution_count": 24,
   "metadata": {},
   "outputs": [
    {
     "name": "stdout",
     "output_type": "stream",
     "text": [
      "12623 12643 21 0x314f 0x3163\n",
      "\n",
      "ㅏ ㅐ ㅑ ㅒ ㅓ ㅔ ㅕ ㅖ ㅗ ㅘ ㅙ ㅚ ㅛ ㅜ ㅝ ㅞ ㅟ ㅠ ㅡ ㅢ "
     ]
    }
   ],
   "source": [
    "start = int('314f', 16) \n",
    "end = int('3163', 16)\n",
    "show_hangulcode(start, end,f=True)"
   ]
  },
  {
   "cell_type": "markdown",
   "metadata": {},
   "source": [
    "## unicode에서 한글 음절\n",
    "- unicode에서 한글 음절은 모두 19(초성)x21(중성)x28(종성) = 11,172자이며, 첫 음절은 '가', 마지막 음절은 '힣'.\n",
    "- 첫 음절 '가'의 코드는 44032(0xAC00), 마지막 음절 '힣'의 코드는 55203(0xD7A3).\n",
    "- 초성 시작 위치: 0x1100(4352)\n",
    "- 중성 시작 위치: 0x1161(4449)\n",
    "- 종성 시작 위치: 0x11A7(4519)"
   ]
  },
  {
   "cell_type": "code",
   "execution_count": 25,
   "metadata": {},
   "outputs": [
    {
     "data": {
      "text/plain": [
       "(4352, 4449, 4519)"
      ]
     },
     "execution_count": 25,
     "metadata": {},
     "output_type": "execute_result"
    }
   ],
   "source": [
    "a,b,c = int('1100', 16), int('1161', 16), int('11A7', 16)\n",
    "a, b, c"
   ]
  },
  {
   "cell_type": "markdown",
   "metadata": {},
   "source": [
    "unicode에서 한글 초성: 19자 = 홑자음 14자 + 쌍자음 5자"
   ]
  },
  {
   "cell_type": "code",
   "execution_count": 26,
   "metadata": {},
   "outputs": [
    {
     "name": "stdout",
     "output_type": "stream",
     "text": [
      "\n",
      "\n",
      "ᄀ ᄁ ᄂ ᄃ ᄄ ᄅ ᄆ ᄇ ᄈ ᄉ ᄊ ᄋ ᄌ ᄍ ᄎ ᄏ ᄐ ᄑ ᄒ "
     ]
    }
   ],
   "source": [
    "start = int('1100', 16) \n",
    "end = start+19\n",
    "print()\n",
    "show_hangulcode(start, end)"
   ]
  },
  {
   "cell_type": "markdown",
   "metadata": {},
   "source": [
    "unicode에서 한글 중성: 21자 = 홑모음 10자 + 겹모음 11자"
   ]
  },
  {
   "cell_type": "code",
   "execution_count": 27,
   "metadata": {},
   "outputs": [
    {
     "name": "stdout",
     "output_type": "stream",
     "text": [
      "\n",
      "\n",
      "ᅡ ᅢ ᅣ ᅤ ᅥ ᅦ ᅧ ᅨ ᅩ ᅪ ᅫ ᅬ ᅭ ᅮ ᅯ ᅰ ᅱ ᅲ ᅳ ᅴ ᅵ "
     ]
    }
   ],
   "source": [
    "start = int('1161', 16) \n",
    "end = start+21\n",
    "print()\n",
    "show_hangulcode(start, end)"
   ]
  },
  {
   "cell_type": "markdown",
   "metadata": {},
   "source": [
    "unicode에서 한글 종성: 28자 = 받침없음(1자) + 자음 14자 + 쌍자음 2자 + 겹자음 11자"
   ]
  },
  {
   "cell_type": "code",
   "execution_count": 28,
   "metadata": {},
   "outputs": [
    {
     "name": "stdout",
     "output_type": "stream",
     "text": [
      "\n",
      "\n",
      "ᆨ ᆩ ᆪ ᆫ ᆬ ᆭ ᆮ ᆯ ᆰ ᆱ ᆲ ᆳ ᆴ ᆵ ᆶ ᆷ ᆸ ᆹ ᆺ ᆻ ᆼ ᆽ ᆾ ᆿ ᇀ ᇁ ᇂ "
     ]
    }
   ],
   "source": [
    "start = int('11a7', 16) \n",
    "end = start+28\n",
    "print()\n",
    "show_hangulcode(start+1, end) #공백 문자를 출력하지 않음."
   ]
  },
  {
   "cell_type": "code",
   "execution_count": 29,
   "metadata": {},
   "outputs": [
    {
     "name": "stdout",
     "output_type": "stream",
     "text": [
      "44032 55203\n"
     ]
    }
   ],
   "source": [
    "print(ord('가'), ord('힣')) #ord: 한글 음절에 할당된 unicode를 정수로 출력"
   ]
  },
  {
   "cell_type": "code",
   "execution_count": 30,
   "metadata": {},
   "outputs": [
    {
     "name": "stdout",
     "output_type": "stream",
     "text": [
      "가 0xac00\n",
      "힣 0xd7a3\n"
     ]
    }
   ],
   "source": [
    "print(chr(44032), hex(44032)) #hex: 10진수를 16진수로 변환\n",
    "print(chr(55203), hex(55203)) #chr: 정수 코드를 문자로 변환"
   ]
  },
  {
   "cell_type": "code",
   "execution_count": 31,
   "metadata": {},
   "outputs": [
    {
     "name": "stdout",
     "output_type": "stream",
     "text": [
      "<class 'str'>\n",
      "가 힣\n"
     ]
    }
   ],
   "source": [
    "han_syllable_1 = '\\uac00' #unicode를 문자열(str)로 변환\n",
    "han_syllable_11172 = '\\ud7a3'\n",
    "print(type(han_syllable_1))\n",
    "print(han_syllable_1, han_syllable_11172)"
   ]
  },
  {
   "cell_type": "code",
   "execution_count": 32,
   "metadata": {},
   "outputs": [
    {
     "name": "stdout",
     "output_type": "stream",
     "text": [
      "b'\\xea\\xb0\\x80' b'\\xea\\xb0\\x80'\n",
      "b'\\xed\\x9e\\xa3' b'\\xed\\x9e\\xa3'\n"
     ]
    }
   ],
   "source": [
    "print(han_syllable_1.encode('utf8'), '가'.encode('utf8'))\n",
    "print(han_syllable_11172.encode('utf8'), '힣'.encode('utf8'))"
   ]
  },
  {
   "cell_type": "markdown",
   "metadata": {},
   "source": [
    "## 한글 자모를 결합하여  음절 완성"
   ]
  },
  {
   "cell_type": "code",
   "execution_count": 33,
   "metadata": {},
   "outputs": [],
   "source": [
    "# 초성: 19자\n",
    "uni_choSung = ['ㄱ', 'ㄲ', 'ㄴ', 'ㄷ', 'ㄸ', 'ㄹ', 'ㅁ', 'ㅂ', 'ㅃ', \n",
    "               'ㅅ', 'ㅆ', 'ㅇ', 'ㅈ', 'ㅉ', 'ㅊ', 'ㅋ', 'ㅌ', 'ㅍ', 'ㅎ']\n",
    "# 중성: 21자\n",
    "uni_joongSung = ['ㅏ', 'ㅐ', 'ㅑ', 'ㅒ', 'ㅓ', 'ㅔ', 'ㅕ', 'ㅖ', 'ㅗ', \n",
    "                 'ㅘ', 'ㅙ', 'ㅚ', 'ㅛ', 'ㅜ', 'ㅝ', 'ㅞ', 'ㅟ', 'ㅠ', 'ㅡ', 'ㅢ', 'ㅣ']\n",
    "# 종성: 28자(맨 앞의 공백 문자는 받침 없음)\n",
    "uni_jongSung = [' ', 'ㄱ', 'ㄲ', 'ㄳ', 'ㄴ', 'ㄵ', 'ㄶ', 'ㄷ', 'ㄹ', \n",
    "                 'ㄺ', 'ㄻ', 'ㄼ', 'ㄽ', 'ㄾ', 'ㄿ', 'ㅀ', 'ㅁ', 'ㅂ', \n",
    "                 'ㅄ', 'ㅅ', 'ㅆ', 'ㅇ', 'ㅈ', 'ㅊ', 'ㅋ', 'ㅌ', 'ㅍ', 'ㅎ']"
   ]
  },
  {
   "cell_type": "code",
   "execution_count": 34,
   "metadata": {},
   "outputs": [],
   "source": [
    "def get_index(ch_set, ch):\n",
    "    lim = len(ch_set)\n",
    "    for i in range(lim):\n",
    "        if ch == ch_set[i]:\n",
    "            return i\n",
    "    return -1 #not found"
   ]
  },
  {
   "cell_type": "code",
   "execution_count": 1,
   "metadata": {},
   "outputs": [],
   "source": [
    "def cal_uniCode10 (cho, joong, jong):\n",
    "    i = j = k = 0\n",
    "    i = get_index(uni_choSung, cho) #'초성'(cho)이 choSung 테이블에서 몇 번째 위치에 해당하는가?\n",
    "    j = get_index(uni_joongSung, joong) \n",
    "    k = get_index(uni_jongSung, jong) \n",
    "    return i*21*28 + j*28 + k + 44032"
   ]
  },
  {
   "cell_type": "code",
   "execution_count": 2,
   "metadata": {},
   "outputs": [
    {
     "ename": "NameError",
     "evalue": "name 'get_index' is not defined",
     "output_type": "error",
     "traceback": [
      "\u001b[1;31m---------------------------------------------------------------------------\u001b[0m",
      "\u001b[1;31mNameError\u001b[0m                                 Traceback (most recent call last)",
      "\u001b[1;32m<ipython-input-2-71da898de83c>\u001b[0m in \u001b[0;36m<module>\u001b[1;34m\u001b[0m\n\u001b[0;32m      3\u001b[0m \u001b[1;31m#이름 첫 글자를 초,중,종성으로 분리 후 유니코드를 구함\u001b[0m\u001b[1;33m\u001b[0m\u001b[1;33m\u001b[0m\u001b[1;33m\u001b[0m\u001b[0m\n\u001b[0;32m      4\u001b[0m \u001b[1;31m#예: 홍 -> \"ㅎ','ㅗ','ㅇ'\u001b[0m\u001b[1;33m\u001b[0m\u001b[1;33m\u001b[0m\u001b[1;33m\u001b[0m\u001b[0m\n\u001b[1;32m----> 5\u001b[1;33m \u001b[0mn_first\u001b[0m \u001b[1;33m=\u001b[0m  \u001b[0mcal_uniCode10\u001b[0m\u001b[1;33m(\u001b[0m\u001b[1;34m'ㅎ'\u001b[0m\u001b[1;33m,\u001b[0m \u001b[1;34m'ㅗ'\u001b[0m\u001b[1;33m,\u001b[0m \u001b[1;34m'ㅇ'\u001b[0m\u001b[1;33m)\u001b[0m\u001b[1;33m\u001b[0m\u001b[1;33m\u001b[0m\u001b[0m\n\u001b[0m\u001b[0;32m      6\u001b[0m \u001b[0mfull_name\u001b[0m\u001b[1;33m.\u001b[0m\u001b[0mappend\u001b[0m\u001b[1;33m(\u001b[0m\u001b[0mchr\u001b[0m\u001b[1;33m(\u001b[0m\u001b[0mn_first\u001b[0m\u001b[1;33m)\u001b[0m\u001b[1;33m)\u001b[0m\u001b[1;33m\u001b[0m\u001b[1;33m\u001b[0m\u001b[0m\n\u001b[0;32m      7\u001b[0m \u001b[1;33m\u001b[0m\u001b[0m\n",
      "\u001b[1;32m<ipython-input-1-2b01fd774f69>\u001b[0m in \u001b[0;36mcal_uniCode10\u001b[1;34m(cho, joong, jong)\u001b[0m\n\u001b[0;32m      1\u001b[0m \u001b[1;32mdef\u001b[0m \u001b[0mcal_uniCode10\u001b[0m \u001b[1;33m(\u001b[0m\u001b[0mcho\u001b[0m\u001b[1;33m,\u001b[0m \u001b[0mjoong\u001b[0m\u001b[1;33m,\u001b[0m \u001b[0mjong\u001b[0m\u001b[1;33m)\u001b[0m\u001b[1;33m:\u001b[0m\u001b[1;33m\u001b[0m\u001b[1;33m\u001b[0m\u001b[0m\n\u001b[0;32m      2\u001b[0m     \u001b[0mi\u001b[0m \u001b[1;33m=\u001b[0m \u001b[0mj\u001b[0m \u001b[1;33m=\u001b[0m \u001b[0mk\u001b[0m \u001b[1;33m=\u001b[0m \u001b[1;36m0\u001b[0m\u001b[1;33m\u001b[0m\u001b[1;33m\u001b[0m\u001b[0m\n\u001b[1;32m----> 3\u001b[1;33m     \u001b[0mi\u001b[0m \u001b[1;33m=\u001b[0m \u001b[0mget_index\u001b[0m\u001b[1;33m(\u001b[0m\u001b[0muni_choSung\u001b[0m\u001b[1;33m,\u001b[0m \u001b[0mcho\u001b[0m\u001b[1;33m)\u001b[0m \u001b[1;31m#'초성'(cho)이 choSung 테이블에서 몇 번째 위치에 해당하는가?\u001b[0m\u001b[1;33m\u001b[0m\u001b[1;33m\u001b[0m\u001b[0m\n\u001b[0m\u001b[0;32m      4\u001b[0m     \u001b[0mj\u001b[0m \u001b[1;33m=\u001b[0m \u001b[0mget_index\u001b[0m\u001b[1;33m(\u001b[0m\u001b[0muni_joongSung\u001b[0m\u001b[1;33m,\u001b[0m \u001b[0mjoong\u001b[0m\u001b[1;33m)\u001b[0m\u001b[1;33m\u001b[0m\u001b[1;33m\u001b[0m\u001b[0m\n\u001b[0;32m      5\u001b[0m     \u001b[0mk\u001b[0m \u001b[1;33m=\u001b[0m \u001b[0mget_index\u001b[0m\u001b[1;33m(\u001b[0m\u001b[0muni_jongSung\u001b[0m\u001b[1;33m,\u001b[0m \u001b[0mjong\u001b[0m\u001b[1;33m)\u001b[0m\u001b[1;33m\u001b[0m\u001b[1;33m\u001b[0m\u001b[0m\n",
      "\u001b[1;31mNameError\u001b[0m: name 'get_index' is not defined"
     ]
    }
   ],
   "source": [
    "full_name = []\n",
    "\n",
    "#이름 첫 글자를 초,중,종성으로 분리 후 유니코드를 구함 \n",
    "#예: 홍 -> \"ㅎ','ㅗ','ㅇ'\n",
    "n_first =  cal_uniCode10('ㅎ', 'ㅗ', 'ㅇ')\n",
    "full_name.append(chr(n_first))\n",
    "\n",
    "#이름 중간 글자를 초,중,종성으로 분리 후 유니코드를 구함\n",
    "n_middle = cal_uniCode10('ㅇ', 'ㅠ', 'ㄴ')\n",
    "full_name.append(chr(n_middle))\n",
    "\n",
    "#이름 끝 글자를 초,중,종성으로 분리 후 유니코드를 구함  \n",
    "n_last = cal_uniCode10('ㅅ', 'ㅣ', 'ㄱ')\n",
    "full_name.append(chr(n_last))\n",
    "\n",
    "print(full_name)"
   ]
  },
  {
   "cell_type": "markdown",
   "metadata": {},
   "source": [
    "## 한글 음절에서 자모 분리"
   ]
  },
  {
   "cell_type": "code",
   "execution_count": 3,
   "metadata": {},
   "outputs": [],
   "source": [
    "def separateJamo (name):\n",
    "    result = []\n",
    "    \n",
    "    for syllable in name:\n",
    "        code = ord(syllable)\n",
    "        if code >= 44032 and code <= 55203:          \n",
    "        #if syllable >= '가' and syllable <= '힣':        \n",
    "        #if re.match('[ㄱ-ㅎㅏ-ㅣ가-힣]', syllable) is not None:\n",
    "            #code = ord(syllable) - 44032\n",
    "            code -= 44032            \n",
    "            jong = int(code % 28)\n",
    "            \n",
    "            code = int(code / 28)\n",
    "            joong = int(code % 21)\n",
    "            \n",
    "            cho = int(code / 21)\n",
    "            result.append(uni_choSung[cho])\n",
    "            result.append(uni_joongSung[joong]) \n",
    "            result.append(uni_jongSung[jong])            \n",
    "        else:\n",
    "            result.append(syllable)\n",
    "    print(result)"
   ]
  },
  {
   "cell_type": "code",
   "execution_count": 4,
   "metadata": {},
   "outputs": [
    {
     "ename": "NameError",
     "evalue": "name 'uni_choSung' is not defined",
     "output_type": "error",
     "traceback": [
      "\u001b[1;31m---------------------------------------------------------------------------\u001b[0m",
      "\u001b[1;31mNameError\u001b[0m                                 Traceback (most recent call last)",
      "\u001b[1;32m<ipython-input-4-b985deece55e>\u001b[0m in \u001b[0;36m<module>\u001b[1;34m\u001b[0m\n\u001b[1;32m----> 1\u001b[1;33m \u001b[0mseparateJamo\u001b[0m\u001b[1;33m(\u001b[0m\u001b[1;34m'홍윤식'\u001b[0m\u001b[1;33m)\u001b[0m\u001b[1;33m\u001b[0m\u001b[1;33m\u001b[0m\u001b[0m\n\u001b[0m",
      "\u001b[1;32m<ipython-input-3-b4c5c839ec90>\u001b[0m in \u001b[0;36mseparateJamo\u001b[1;34m(name)\u001b[0m\n\u001b[0;32m     15\u001b[0m \u001b[1;33m\u001b[0m\u001b[0m\n\u001b[0;32m     16\u001b[0m             \u001b[0mcho\u001b[0m \u001b[1;33m=\u001b[0m \u001b[0mint\u001b[0m\u001b[1;33m(\u001b[0m\u001b[0mcode\u001b[0m \u001b[1;33m/\u001b[0m \u001b[1;36m21\u001b[0m\u001b[1;33m)\u001b[0m\u001b[1;33m\u001b[0m\u001b[1;33m\u001b[0m\u001b[0m\n\u001b[1;32m---> 17\u001b[1;33m             \u001b[0mresult\u001b[0m\u001b[1;33m.\u001b[0m\u001b[0mappend\u001b[0m\u001b[1;33m(\u001b[0m\u001b[0muni_choSung\u001b[0m\u001b[1;33m[\u001b[0m\u001b[0mcho\u001b[0m\u001b[1;33m]\u001b[0m\u001b[1;33m)\u001b[0m\u001b[1;33m\u001b[0m\u001b[1;33m\u001b[0m\u001b[0m\n\u001b[0m\u001b[0;32m     18\u001b[0m             \u001b[0mresult\u001b[0m\u001b[1;33m.\u001b[0m\u001b[0mappend\u001b[0m\u001b[1;33m(\u001b[0m\u001b[0muni_joongSung\u001b[0m\u001b[1;33m[\u001b[0m\u001b[0mjoong\u001b[0m\u001b[1;33m]\u001b[0m\u001b[1;33m)\u001b[0m\u001b[1;33m\u001b[0m\u001b[1;33m\u001b[0m\u001b[0m\n\u001b[0;32m     19\u001b[0m             \u001b[0mresult\u001b[0m\u001b[1;33m.\u001b[0m\u001b[0mappend\u001b[0m\u001b[1;33m(\u001b[0m\u001b[0muni_jongSung\u001b[0m\u001b[1;33m[\u001b[0m\u001b[0mjong\u001b[0m\u001b[1;33m]\u001b[0m\u001b[1;33m)\u001b[0m\u001b[1;33m\u001b[0m\u001b[1;33m\u001b[0m\u001b[0m\n",
      "\u001b[1;31mNameError\u001b[0m: name 'uni_choSung' is not defined"
     ]
    }
   ],
   "source": [
    "separateJamo('홍윤식')"
   ]
  },
  {
   "cell_type": "code",
   "execution_count": null,
   "metadata": {},
   "outputs": [],
   "source": []
  }
 ],
 "metadata": {
  "kernelspec": {
   "display_name": "Python 3",
   "language": "python",
   "name": "python3"
  },
  "language_info": {
   "codemirror_mode": {
    "name": "ipython",
    "version": 3
   },
   "file_extension": ".py",
   "mimetype": "text/x-python",
   "name": "python",
   "nbconvert_exporter": "python",
   "pygments_lexer": "ipython3",
   "version": "3.7.1"
  }
 },
 "nbformat": 4,
 "nbformat_minor": 2
}
