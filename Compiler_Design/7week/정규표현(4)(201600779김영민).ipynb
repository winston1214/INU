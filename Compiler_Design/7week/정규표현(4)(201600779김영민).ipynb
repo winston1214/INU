{
 "cells": [
  {
   "cell_type": "markdown",
   "metadata": {},
   "source": [
    "# 201600779"
   ]
  },
  {
   "cell_type": "markdown",
   "metadata": {},
   "source": [
    "# Practices(2): 자연어처리 말뭉치(corpus) 사용"
   ]
  },
  {
   "cell_type": "markdown",
   "metadata": {},
   "source": [
    "All rights reserved, 2021, by *Youn-Sik Hong*. 수업 목적으로만 활용 가능."
   ]
  },
  {
   "cell_type": "markdown",
   "metadata": {},
   "source": [
    "- 다양한 형태의 말뭉치에 대해 우리가 원하는 패턴을 찾도록 정규표현을 작성해 보는 연습을 해보는 것이 목적. \n",
    "- 여기서 사용한 예제는 Natural Language Processing with Python(Steven Bird, Ewan Klein, and Edward Loper, 1판, O'Reilly)\n",
    "    - 3.4 Regular Expressions for Detecting Word Patterns에 소개된 예제를 참고하여 강의 목적에 맞게 수정하였음\n",
    "- 참고 사이트\n",
    "    - https://www.nltk.org/book/ch03.html \n",
    "    - nltk.corpus 패키지 http://www.nltk.org/howto/corpus.html    ."
   ]
  },
  {
   "cell_type": "markdown",
   "metadata": {},
   "source": [
    "### 실습에 사용한 말뭉치(corpus) \n",
    "- nltk 말뭉치(corpus) 사용: 영어 단어 사전(210,687개), 채팅에 사용되는 단어(6,066개), treebank 말뭉치 문장(199개, 단어-12,408개) 등 3개. \n",
    "    - 말뭉치는 nltk 설치시에 C:\\Users\\사용자\\AppData\\Roaming\\nltk_data\\corpora 폴더에 저장됨. \n",
    "    - 여러 개의 corpus를 corpora라고 부름.     "
   ]
  },
  {
   "cell_type": "code",
   "execution_count": 2,
   "metadata": {},
   "outputs": [],
   "source": [
    "import re\n",
    "import nltk"
   ]
  },
  {
   "cell_type": "code",
   "execution_count": 3,
   "metadata": {},
   "outputs": [],
   "source": [
    "def show_result(lis, lim=10): #출력 제한을 지정하지 않으면 10개만 출력\n",
    "    size = len(lis)\n",
    "    print('number of elements = {0:,}'.format(size)) #천단위 컴마(,) 표시\n",
    "    if size < lim:\n",
    "        print(lis)\n",
    "    else:\n",
    "        print(lis[:lim]) #너무 많은 내용이 출력되지 않도록 출력 항목을 제한"
   ]
  },
  {
   "cell_type": "markdown",
   "metadata": {},
   "source": [
    "## 말뭉치 : 영단어 사전"
   ]
  },
  {
   "cell_type": "markdown",
   "metadata": {},
   "source": [
    "- 말뭉치 : nltk에서 제공하는 영단어 사전을 사용. \n",
    "    - nltk 설치시 C:\\Users\\사용자(your computer name)\\AppData\\Roaming\\nltk_data\\corpora\\words 폴더에 저장되어 있음. \n",
    "    - full-version(en, Unix에 설치된 영단어 사전과 동일, 21만 단어)과 basic-version(en-basic, 850단어) 2종류가 있음."
   ]
  },
  {
   "cell_type": "markdown",
   "metadata": {},
   "source": [
    "**Notice**: 영어 단어를 가져오면서 정규화(normalization)를 위해 소문자로 통일."
   ]
  },
  {
   "cell_type": "code",
   "execution_count": 4,
   "metadata": {},
   "outputs": [
    {
     "name": "stdout",
     "output_type": "stream",
     "text": [
      "number of elements = 210,687\n",
      "['a', 'aa', 'aal', 'aalii', 'aam', 'aardvark', 'aardwolf', 'aba', 'abac', 'abaca']\n"
     ]
    }
   ],
   "source": [
    "wordlist = [w for w in nltk.corpus.words.words('en') if w.islower()]\n",
    "#wordlist = [w for w in nltk.corpus.words.words('en-basic') if w.islower()]\n",
    "show_result(wordlist)"
   ]
  },
  {
   "cell_type": "markdown",
   "metadata": {},
   "source": [
    "### 문제 1: '...ed'로 끝나는 단어들을 찾아보자."
   ]
  },
  {
   "cell_type": "code",
   "execution_count": 5,
   "metadata": {},
   "outputs": [
    {
     "name": "stdout",
     "output_type": "stream",
     "text": [
      "number of elements = 9,148\n",
      "['abaissed', 'abandoned', 'abased', 'abashed', 'abatised', 'abed', 'aborted', 'abridged', 'abscessed', 'absconded']\n"
     ]
    }
   ],
   "source": [
    "lis1 = [w for w in wordlist if re.search('ed$', w)]\n",
    "show_result(lis1)"
   ]
  },
  {
   "cell_type": "markdown",
   "metadata": {},
   "source": [
    "### 문제 1-2:  '...ed'로 끝나며, 길이(=문자수)가 n 미만인 단어들을 찾아보자."
   ]
  },
  {
   "cell_type": "code",
   "execution_count": 6,
   "metadata": {},
   "outputs": [
    {
     "name": "stdout",
     "output_type": "stream",
     "text": [
      "number of elements = 9,148\n",
      "['abaissed', 'abandoned', 'abased', 'abashed', 'abatised', 'abed', 'aborted', 'abridged', 'abscessed', 'absconded']\n"
     ]
    }
   ],
   "source": [
    "lis2 = [w for w in wordlist if re.search('ed$',w) and len(w)]\n",
    "show_result(lis2)"
   ]
  },
  {
   "cell_type": "markdown",
   "metadata": {},
   "source": [
    "**잠깐** 정규표현에 해당하는 단어를 찾아 리스트에 추가하는 대신, 해당 문자가 몇 개인지만 알고 싶으면 sum 함수를 사용. \n",
    "- len() 메소드는 리스트가 다 만들어지고 난 후에 사용할 수 있음.\n",
    "- 단어를 찾을 때마다 1을 계속 더해나감. sum(1 for w in wordlist ...). "
   ]
  },
  {
   "cell_type": "code",
   "execution_count": 7,
   "metadata": {},
   "outputs": [
    {
     "data": {
      "text/plain": [
       "9148"
      ]
     },
     "execution_count": 7,
     "metadata": {},
     "output_type": "execute_result"
    }
   ],
   "source": [
    "sum(1 for w in wordlist if re.search('ed$', w))"
   ]
  },
  {
   "cell_type": "markdown",
   "metadata": {},
   "source": [
    "### 문제 1-3: 'su...'로 시작하는 단어는 모두 몇 개인지 구해보자."
   ]
  },
  {
   "cell_type": "code",
   "execution_count": 8,
   "metadata": {},
   "outputs": [
    {
     "data": {
      "text/plain": [
       "4154"
      ]
     },
     "execution_count": 8,
     "metadata": {},
     "output_type": "execute_result"
    }
   ],
   "source": [
    "sum(1 for w in wordlist if re.search('^su', w))"
   ]
  },
  {
   "cell_type": "markdown",
   "metadata": {},
   "source": [
    "### 문제 2: 단어가 모두 9개 문자이며, 이 중 3번째 문자는 'j', 5번째 문자는 't'인 단어들을 찾아보자."
   ]
  },
  {
   "cell_type": "code",
   "execution_count": 9,
   "metadata": {},
   "outputs": [
    {
     "name": "stdout",
     "output_type": "stream",
     "text": [
      "number of elements = 13\n",
      "['abjectly', 'adjuster', 'dejected', 'dejectly', 'injector', 'majestic', 'objectee']\n"
     ]
    }
   ],
   "source": [
    "lis3 = [w for w in wordlist if re.search('^..j..t..$', w)] # .은 any character\n",
    "show_result(lis3, 7)"
   ]
  },
  {
   "cell_type": "markdown",
   "metadata": {},
   "source": [
    "### 문제 3. 위 정규표현에서 2개의 meta symbol을 없애면 그 결과는 어떻게 될까? "
   ]
  },
  {
   "cell_type": "code",
   "execution_count": 13,
   "metadata": {},
   "outputs": [
    {
     "name": "stdout",
     "output_type": "stream",
     "text": [
      "number of elements = 260\n",
      "['abjectedness', 'abjection', 'abjective', 'abjectly', 'abjectness', 'adjection', 'adjectional', 'adjectival', 'adjectivally', 'adjective', 'adjectively', 'adjectivism', 'adjectivitis', 'adjustable', 'adjustably', 'adjustage', 'adjustation', 'adjuster', 'adjustive', 'adjustment', 'antejentacular', 'antiprojectivity', 'bijouterie', 'coadjustment', 'cojusticiar', 'conjective', 'conjecturable', 'conjecturably', 'conjectural', 'conjecturalist', 'conjecturality', 'conjecturally', 'conjecture', 'conjecturer', 'coprojector', 'counterobjection', 'dejected', 'dejectedly', 'dejectedness', 'dejectile', 'dejection', 'dejectly', 'dejectory', 'dejecture', 'disjection', 'guanajuatite', 'inadjustability', 'inadjustable', 'injectable', 'injection']\n"
     ]
    }
   ],
   "source": [
    "import re\n",
    "lis4 = [w for w in wordlist if re.search('..j..t..', w)] # .은 any character\n",
    "show_result(lis4,50)"
   ]
  },
  {
   "cell_type": "markdown",
   "metadata": {},
   "source": [
    "**Quiz** : 아래 3가지 패턴의 차이점은 무엇일까? "
   ]
  },
  {
   "cell_type": "markdown",
   "metadata": {},
   "source": [
    "- lis32 : 끝에서 3번째 문자가 **t** 끝에서 앞에서 3번째 문자가 **j**인 문자들(단, 맨 앞글자가 j로 시작해선 안됨)\n",
    "- lis33 : 글자가 j부터 시작해서(처음일 필욘 없음) 3번째 문자가 t이고 t 뒤에 두글자만 와야됨\n",
    "- lis34 : 앞에서 3번째 문자가 j 이고 앞에서 6번째 문자가 t인 문자들"
   ]
  },
  {
   "cell_type": "code",
   "execution_count": 25,
   "metadata": {},
   "outputs": [
    {
     "name": "stdout",
     "output_type": "stream",
     "text": [
      "number of elements = 45\n",
      "['abjectly', 'adjuster', 'coprojector', 'dejected', 'dejectly', 'ejector', 'injector', 'interjector', 'jestee', 'jester', 'jetted', 'jetter', 'jetton', 'jiltee', 'jilter', 'jitter', 'jolter', 'jostle', 'jotter', 'jowter']\n"
     ]
    }
   ],
   "source": [
    "lis32 = [w for w in wordlist if re.search('..j..t..$', w)]\n",
    "lis33 = [w for w in wordlist if re.search('j..t..$', w)]\n",
    "lis34 = [w for w in wordlist if re.search('^..j..t..', w)]\n",
    "show_result(lis33,lim=20)"
   ]
  },
  {
   "cell_type": "markdown",
   "metadata": {},
   "source": [
    "### 문제 4. 전화기의 숫자 패드 2부터 9까지 할당된 알파벳이 다음과 같을 때, 숫자패드 4-6-5-3을 순서대로 1번씩 눌렀을 때 어떤 단어가 만들어질까? \n",
    "- 2=\"ABC\", 3=\"DEF\", 4=\"GHI\", 5=\"JKL\", 6=\"MNO\", 7=\"PQRS\", 8=\"TUV\", 9=\"WXYZ\". 숫자 패드 1에는 영어알파벳이 지정되지 않음.\n",
    "- 알파벳 4개 조합이 아니라 단어 사전에 등록된 제대로 된 단어를 찾는 것이 목적이다. \n",
    "- 앞에서 단어사전(wordlist)의 단어를 모두 소문자로 변환했기 때문에 숫자 패드의 영문자도 소문자를 사용했다."
   ]
  },
  {
   "cell_type": "code",
   "execution_count": 26,
   "metadata": {},
   "outputs": [
    {
     "name": "stdout",
     "output_type": "stream",
     "text": [
      "number of elements = 4\n",
      "['gold', 'golf', 'hold', 'hole']\n"
     ]
    }
   ],
   "source": [
    "lis4 = [w for w in wordlist if re.search('^[ghi][mno][jkl][def]$', w)]\n",
    "show_result(lis4)"
   ]
  },
  {
   "cell_type": "markdown",
   "metadata": {},
   "source": [
    "### 문제 4-2. 숫자 패드 2,6,7을 순서대로 1번씩 눌렀을 때 어떤 단어가 만들어질까? "
   ]
  },
  {
   "cell_type": "code",
   "execution_count": 28,
   "metadata": {},
   "outputs": [
    {
     "name": "stdout",
     "output_type": "stream",
     "text": [
      "number of elements = 5\n",
      "['bop', 'bor', 'cop', 'cor', 'cos']\n"
     ]
    }
   ],
   "source": [
    "lis42 = [w for w in wordlist if re.search('^[abc][mno][pqrs]$', w)]\n",
    "show_result(lis42)"
   ]
  },
  {
   "cell_type": "markdown",
   "metadata": {},
   "source": [
    "### 문제 4-3. 숫자 패드 4,5,6을 임의 순서로 3번 눌렀을 때는 어떤 단어가 만들어질까?  같은 숫자 패드를 중복해서 누를 수 있음."
   ]
  },
  {
   "cell_type": "code",
   "execution_count": 31,
   "metadata": {},
   "outputs": [
    {
     "name": "stdout",
     "output_type": "stream",
     "text": [
      "number of elements = 51\n",
      "['gig', 'gim', 'gin', 'gio', 'gog', 'goi', 'gol', 'gon', 'goo', 'him']\n"
     ]
    }
   ],
   "source": [
    "lis43 = [w for w in wordlist if re.search('^[g-o]{3}$', w)]\n",
    "show_result(lis43)"
   ]
  },
  {
   "cell_type": "markdown",
   "metadata": {},
   "source": [
    "### 문제 4-4. 숫자 패드 2,3을 임의 순서로 2번, 숫자 패드 5,6을 2번 눌렀을 때 어떤 단어가 만들어질까?"
   ]
  },
  {
   "cell_type": "code",
   "execution_count": 34,
   "metadata": {},
   "outputs": [
    {
     "name": "stdout",
     "output_type": "stream",
     "text": [
      "number of elements = 51\n",
      "['gig', 'gim', 'gin', 'gio', 'gog', 'goi', 'gol', 'gon', 'goo', 'him']\n"
     ]
    }
   ],
   "source": [
    "lis44 = [w for w in wordlist if re.search('^[a-f]{2}[j-o]{2}$', w)]\n",
    "show_result(lis43)"
   ]
  },
  {
   "cell_type": "markdown",
   "metadata": {},
   "source": [
    "## 말뭉치 : 채팅 단어(nps_chat)"
   ]
  },
  {
   "cell_type": "code",
   "execution_count": 36,
   "metadata": {},
   "outputs": [
    {
     "name": "stdout",
     "output_type": "stream",
     "text": [
      "number of elements = 10\n",
      "['Aww', 'Awww', 'B', 'BAAAAALLLLLLLLIIIIIIINNNNNNNNNNN', 'BE', 'BIG', 'BLONDES', 'BOOTS', 'BOOTY', 'BOY']\n"
     ]
    }
   ],
   "source": [
    "chat_words = sorted(set(w for w in nltk.corpus.nps_chat.words()))\n",
    "show_result(chat_words[500:510])"
   ]
  },
  {
   "cell_type": "markdown",
   "metadata": {},
   "source": [
    "### 문제 5-1. m으로 시작해서 i, n이 순서대로 나오고, e로 끝나는 단어를 찾아보자. 단, m,i,n,e는 최소 1번 이상 포함해야 한다."
   ]
  },
  {
   "cell_type": "code",
   "execution_count": 39,
   "metadata": {
    "scrolled": true
   },
   "outputs": [
    {
     "name": "stdout",
     "output_type": "stream",
     "text": [
      "number of elements = 4\n",
      "['miiiiiiiiiiiiinnnnnnnnnnneeeeeeeeee', 'miiiiiinnnnnnnnnneeeeeeee', 'mine', 'mmmmmmmmiiiiiiiiinnnnnnnnneeeeeeee']\n"
     ]
    }
   ],
   "source": [
    "lis51 = [w for w in chat_words if re.search('^m+i+n+e+$',w)]\n",
    "show_result(lis51)"
   ]
  },
  {
   "cell_type": "markdown",
   "metadata": {},
   "source": [
    "### 문제 5-2. ha만 포함하는 단어를 찾아보자. 단, ha는 최소 1번 이상 포함해야 하며, ha로 시작하고 ha로 끝나야 한다."
   ]
  },
  {
   "cell_type": "code",
   "execution_count": 40,
   "metadata": {},
   "outputs": [
    {
     "name": "stdout",
     "output_type": "stream",
     "text": [
      "number of elements = 7\n",
      "['ha', 'haha', 'hahaha', 'hahahaha', 'hahahahahaha', 'hahahahahahaha', 'hahahahahahahahahahahahahahahaha']\n"
     ]
    }
   ],
   "source": [
    "lis52 = [w for w in chat_words if re.search('^(ha)+$',w)]\n",
    "show_result(lis52)"
   ]
  },
  {
   "cell_type": "markdown",
   "metadata": {},
   "source": [
    "### 문제 5-3. a, h 중 하나로 시작해서 a, h 중 하나로 끝나는 단어를 찾아보자. 단, a, h 중 어느 문자라도 최소 1번 이상 포함해야 한다."
   ]
  },
  {
   "cell_type": "code",
   "execution_count": 46,
   "metadata": {},
   "outputs": [
    {
     "name": "stdout",
     "output_type": "stream",
     "text": [
      "number of elements = 29\n",
      "['a', 'aaaaaaaaaaaaaaaaa', 'aaahhhh', 'ah', 'ahah', 'ahahah', 'ahh', 'ahhahahaha', 'ahhh', 'ahhhh']\n"
     ]
    }
   ],
   "source": [
    "lis53 = [w for w in chat_words if re.search('^[ha]+$',w)]\n",
    "show_result(lis53)"
   ]
  },
  {
   "cell_type": "markdown",
   "metadata": {},
   "source": [
    "### 문제 5-4. 모음을 한 개도 포함하지 않는 단어를 찾아보자. \n",
    "- \\<힌트\\> \\[^ \\]괄호 안의 \\^(caret)기호는 제외(exception)를 뜻한다. "
   ]
  },
  {
   "cell_type": "code",
   "execution_count": 47,
   "metadata": {},
   "outputs": [
    {
     "name": "stdout",
     "output_type": "stream",
     "text": [
      "number of elements = 686\n",
      "['!', '!!', '!!!', '!!!!', '!!!!!', '!!!!!!', '!!!!!!!', '!!!!!!!!', '!!!!!!!!!', '!!!!!!!!!!']\n"
     ]
    }
   ],
   "source": [
    "lis54 = [w for w in chat_words if re.search('^[^aeiouAEIOU]+$',w)]\n",
    "show_result(lis54)"
   ]
  },
  {
   "cell_type": "markdown",
   "metadata": {},
   "source": [
    "## 말뭉치 : penn treebank(parserd corpora)"
   ]
  },
  {
   "cell_type": "markdown",
   "metadata": {},
   "source": [
    "- treebank는 각 문장에 대해 구문 분석 트리(syntactic tree)를 제공하는 말뭉치. \n",
    "    - 즉, treebank는 샘플 문장에 대해 품사 태깅(POS tagging), 구문 주석(syntax annotation), 의미 주석(semantic annotation) 내용이 포함되어 있음.  \n",
    "- 펜실베니아(penn) 대학에서 개발한 Penn treebank(구문 주석 포함)가 대표적. \n",
    "    - nltk에는 penn treebank에서 사용한 샘플 문장의 10%만 corpus로 제공.\n",
    "    - http://www.nltk.org/howto/corpus.html#parsed-corpora     "
   ]
  },
  {
   "cell_type": "code",
   "execution_count": 48,
   "metadata": {},
   "outputs": [
    {
     "name": "stdout",
     "output_type": "stream",
     "text": [
      "199\n"
     ]
    }
   ],
   "source": [
    "from nltk.corpus import treebank #penn treebank의 10%만 사용.\n",
    "print(len(treebank.fileids()))"
   ]
  },
  {
   "cell_type": "code",
   "execution_count": 49,
   "metadata": {},
   "outputs": [
    {
     "name": "stdout",
     "output_type": "stream",
     "text": [
      "['A', 'form', 'of', 'asbestos', 'once', 'used', '*', ...]\n"
     ]
    }
   ],
   "source": [
    "print(treebank.words('wsj_0003.mrg'))"
   ]
  },
  {
   "cell_type": "markdown",
   "metadata": {},
   "source": [
    "- 문장에 사용된 단어에 대해 품사(POS)를 할당하는 것을 품사 태깅(POS tagging)이라고 함.\n",
    "- 품사 약어의 의미는 아래와 같음.\n",
    "    - DT: Determiner(관사)\n",
    "    - NN: Noun, singular or mass\n",
    "    - IN: Preposition(전치사) or subordinating conjunction\n",
    "- penn treebank에서 사용하는 품사에 대한 설명은 웹 페이지 참조    \n",
    "    - https://www.ling.upenn.edu/courses/Fall_2003/ling001/penn_treebank_pos.html"
   ]
  },
  {
   "cell_type": "code",
   "execution_count": 52,
   "metadata": {},
   "outputs": [
    {
     "name": "stdout",
     "output_type": "stream",
     "text": [
      "[('A', 'DT'), ('form', 'NN'), ('of', 'IN'), ...]\n"
     ]
    }
   ],
   "source": [
    "print(treebank.tagged_words('wsj_0003.mrg')) # 관사\n",
    "# print(treebank.parsed_sents('wsj_0003.mrg')[0])  # 전치사"
   ]
  },
  {
   "cell_type": "markdown",
   "metadata": {},
   "source": [
    "- treebank 말뭉치에서 중복되지 않은 단어만을 찾아 정렬한 결과를 리스트 wsj에 저장.\n",
    "    - 파이썬의 set(집합) 타입으로 변환하면 중복된 단어는 한 개만 포함.\n",
    "    - set으로 묶은 결과를 내림차순으로 정렬(sorted 메소드 사용)"
   ]
  },
  {
   "cell_type": "code",
   "execution_count": 53,
   "metadata": {},
   "outputs": [
    {
     "name": "stdout",
     "output_type": "stream",
     "text": [
      "number of elements = 12,408\n",
      "['!', '#', '$', '%', '&', \"'\", \"''\", \"'30s\", \"'40s\", \"'50s\"]\n"
     ]
    }
   ],
   "source": [
    "wsj = sorted(set(nltk.corpus.treebank.words()))\n",
    "show_result(wsj)"
   ]
  },
  {
   "cell_type": "markdown",
   "metadata": {},
   "source": [
    "### 문제 6-1. 리스트 wsj에서 실수(float number)를 찾아보자. 단, 소수점 이하 숫자는 생략할 수 없다. "
   ]
  },
  {
   "cell_type": "code",
   "execution_count": 54,
   "metadata": {},
   "outputs": [
    {
     "name": "stdout",
     "output_type": "stream",
     "text": [
      "number of elements = 481\n",
      "['0.0085', '0.05', '0.1', '0.16', '0.2', '0.25', '0.28', '0.3', '0.4', '0.5']\n"
     ]
    }
   ],
   "source": [
    "lis61 = [w for w in wsj if re.search('^[0-9]+\\.[0-9]+$', w)]\n",
    "show_result(lis61)"
   ]
  },
  {
   "cell_type": "markdown",
   "metadata": {},
   "source": [
    "### 문제 6-2. 알파벳 대문자로 시작하며, dollar 문자로 끝나는 단어를 찾아보자."
   ]
  },
  {
   "cell_type": "code",
   "execution_count": 57,
   "metadata": {},
   "outputs": [
    {
     "name": "stdout",
     "output_type": "stream",
     "text": [
      "number of elements = 2\n",
      "['C$', 'US$']\n"
     ]
    }
   ],
   "source": [
    "list62=[w for w in wsj if re.search('^[A-Z]+\\$$',w)]\n",
    "show_result(list62)"
   ]
  },
  {
   "cell_type": "markdown",
   "metadata": {},
   "source": [
    "### 문제 6-3. 4자리 숫자로 이루어진 정수 단어를 찾아보자."
   ]
  },
  {
   "cell_type": "code",
   "execution_count": 63,
   "metadata": {},
   "outputs": [
    {
     "name": "stdout",
     "output_type": "stream",
     "text": [
      "number of elements = 56\n",
      "['1614', '1637', '1787', '1901', '1903', '1917', '1925', '1929', '1933', '1934']\n"
     ]
    }
   ],
   "source": [
    "lis63 = [w for w in wsj if re.search('^[0-9]{4}$',w)]\n",
    "show_result(lis63)"
   ]
  },
  {
   "cell_type": "markdown",
   "metadata": {},
   "source": [
    "### 문제 6-4. 십진수 숫자(0\\-9)로 시작하며, '-'(dash) 기호 다음에 영어 소문자 3~5개로 이루어진 단어를 찾아보자. \n",
    "- 단, 십진수 숫자의 자리수는 1자리 이상이어야 한다."
   ]
  },
  {
   "cell_type": "code",
   "execution_count": 65,
   "metadata": {},
   "outputs": [
    {
     "name": "stdout",
     "output_type": "stream",
     "text": [
      "number of elements = 31\n",
      "['10-day', '10-lap', '10-year', '100-share', '12-point', '12-year', '14-hour', '15-day', '150-point', '190-point']\n"
     ]
    }
   ],
   "source": [
    "lis64 = [w for w in wsj if re.search('^[0-9]+-[a-z]{3,5}$',w)]\n",
    "show_result(lis64)"
   ]
  },
  {
   "cell_type": "markdown",
   "metadata": {},
   "source": [
    "### 문제 6-5. 알파벳 5자 이상으로 시작하며 '\\-'기호 다음에 알파벳 2~3자, 이어서  '\\-' 기호 다음에 알파벳 최대 6자 이내인 단어를 찾아보자.\n",
    "- 2개의 dash기호를 갖는 단어를 찾는 것임."
   ]
  },
  {
   "cell_type": "code",
   "execution_count": 66,
   "metadata": {},
   "outputs": [
    {
     "name": "stdout",
     "output_type": "stream",
     "text": [
      "number of elements = 5\n",
      "['black-and-white', 'bread-and-butter', 'father-in-law', 'machine-gun-toting', 'savings-and-loan']\n"
     ]
    }
   ],
   "source": [
    "lis65 = [w for w in wsj if re.search('^[a-z]{5,}-[a-z]{2,3}-[a-z]{,6}$', w)]\n",
    "show_result(lis65)"
   ]
  },
  {
   "cell_type": "markdown",
   "metadata": {},
   "source": [
    "### 문제 6-6. ed 또는 ing로 끝나며, 길이가 6 미만인 단어를 찾아보자."
   ]
  },
  {
   "cell_type": "code",
   "execution_count": 67,
   "metadata": {},
   "outputs": [
    {
     "name": "stdout",
     "output_type": "stream",
     "text": [
      "number of elements = 79\n",
      "['Asked', 'Being', 'Died', 'Fed', 'Fred', 'Named', 'Rated', 'Red', 'Reed', 'Seed']\n"
     ]
    }
   ],
   "source": [
    "lis66 = [w for w in wsj if re.search('(ed|ing)$', w) and len(w)<6]\n",
    "show_result(lis66)"
   ]
  },
  {
   "cell_type": "markdown",
   "metadata": {},
   "source": [
    "### 문제 6-7. 모음 3자 이상을 포함하는 단어들의 발생 빈도(FreqDist)를 구해보자.\n",
    "- Hint: 파이썬의 Counter 컬렉션을 사용하거나 nltk의 FreqDist 메소드를 사용하면 된다. "
   ]
  },
  {
   "cell_type": "code",
   "execution_count": 71,
   "metadata": {},
   "outputs": [
    {
     "name": "stdout",
     "output_type": "stream",
     "text": [
      "number of elements = 75\n",
      "['iai', 'eau', 'oei', 'eau', 'eau', 'eau', 'eau', 'aii', 'aiia', 'oui']\n"
     ]
    }
   ],
   "source": [
    "wd_list = [vs for w in wsj for vs in re.findall('[aeiou]{3,}',w)]\n",
    "show_result(wd_list)"
   ]
  },
  {
   "cell_type": "code",
   "execution_count": 72,
   "metadata": {},
   "outputs": [
    {
     "data": {
      "text/plain": [
       "[('iou', 27),\n",
       " ('eau', 10),\n",
       " ('oui', 6),\n",
       " ('eou', 5),\n",
       " ('uou', 5),\n",
       " ('uee', 4),\n",
       " ('ieu', 3),\n",
       " ('uie', 3),\n",
       " ('eei', 2),\n",
       " ('iai', 1)]"
      ]
     },
     "execution_count": 72,
     "metadata": {},
     "output_type": "execute_result"
    }
   ],
   "source": [
    "from collections import Counter\n",
    "counter = Counter(wd_list)\n",
    "counter.most_common(10)"
   ]
  }
 ],
 "metadata": {
  "kernelspec": {
   "display_name": "Python 3",
   "language": "python",
   "name": "python3"
  },
  "language_info": {
   "codemirror_mode": {
    "name": "ipython",
    "version": 3
   },
   "file_extension": ".py",
   "mimetype": "text/x-python",
   "name": "python",
   "nbconvert_exporter": "python",
   "pygments_lexer": "ipython3",
   "version": "3.7.1"
  }
 },
 "nbformat": 4,
 "nbformat_minor": 2
}
