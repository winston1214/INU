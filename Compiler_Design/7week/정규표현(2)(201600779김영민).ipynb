{
 "cells": [
  {
   "cell_type": "markdown",
   "metadata": {},
   "source": [
    "# 파이썬 정규표현(2)"
   ]
  },
  {
   "cell_type": "markdown",
   "metadata": {},
   "source": [
    "All rights reserved, 2021, by *Youn-Sik Hong*. 수업 목적으로만 활용 가능."
   ]
  },
  {
   "cell_type": "markdown",
   "metadata": {},
   "source": [
    "# Quiz \n",
    "- 이 handout sheet에는 2개의 Quiz가 있습니다.\n",
    "    - Q1, Q2로 표시해 놓았습니다. 잘 찾아보세요~\n",
    "    - 비어있는 셀에 퀴즈에 대한 정답 코드를 작성하고 실행 결과를 보여야 합니다.    \n",
    "- 모든 셀의 실행 결과가 포함되어 있어야 합니다. \n",
    "    - 즉, 모든 셀에는 셀 번호가 있어야 합니다."
   ]
  },
  {
   "cell_type": "markdown",
   "metadata": {},
   "source": [
    "- 정규표현을 날렵하게 사용하기 위해 익혀야 할 메타기호들. \" .  ^  $  *  +  ?  {  }  [ ]  \\  |  (  )\". \n",
    "- 메타(meta)기호란 원래 기호가 갖고 있던 의미 대신 새로운 의미를 부여한 기호를 말합니다. \n",
    "    - 예를 들면, \\*(asterisk)는 일반적으로 곱셈 기호로 사용되지만, 정규표현에서 \\*는 해당하는 단어가 없거나 여러 번 반복 발생(zero or more occurrences)하는 패턴을 정의하는 메타기호로 사용됩니다. \n",
    "    - 정규표현에서 \\*의 공식 이름은 Kleene closure(또는 Kleene star)입니다. Kleene는 이 기호를 제안한 미국의 수학자 이름에서 따왔습니다. \n",
    "    - 친구가 \\*를 asterisk 나 star 대신 Kleene star로 읽으면, '이 친구 정규표현 좀 사용해봤네' 라고 감을 잡을 수 있겠죠."
   ]
  },
  {
   "cell_type": "markdown",
   "metadata": {},
   "source": [
    "참고 사이트 \n",
    "- 파이썬 re 모듈에 관한 튜토리얼: https://docs.python.org/3/howto/regex.html#regex-howto\n",
    "- 파이썬 re 라이브러리(메타심볼, 상수, 메소드 등) 상세 설명: https://docs.python.org/3/library/re.html#module-re"
   ]
  },
  {
   "cell_type": "code",
   "execution_count": 1,
   "metadata": {},
   "outputs": [],
   "source": [
    "import re "
   ]
  },
  {
   "cell_type": "markdown",
   "metadata": {},
   "source": [
    "자..슬슬 몸을 풀어 보자구요. 정규표현 메타기호 중 꼭 알아야 할 4가지 기호부터 시작합시다.\n",
    "- [ - ]는 문자 범위(range)를 나타냄. [0-9]는 0,1,2,...,9 중 하나의 숫자를 나타냄. \n",
    "- +는 최소 1번 이상 발생. 정규표현 ab+ 는 ab, abb, abbb, ... \n",
    "- \\*는 0번 이상 발생. 즉 생략된 경우도 가능. 정규표현 ab* 는 a, ab, abb, ...\n",
    "- ?는 0번 또는 1번. 정규표현 ab? 는 a, ab"
   ]
  },
  {
   "cell_type": "code",
   "execution_count": 2,
   "metadata": {},
   "outputs": [
    {
     "data": {
      "text/plain": [
       "'12345'"
      ]
     },
     "execution_count": 2,
     "metadata": {},
     "output_type": "execute_result"
    }
   ],
   "source": [
    "p = re.compile(\"[0-9]+\") #문자열은 패턴을 정의\n",
    "m = p.match(\"12345\") #문자열'12345'는 패턴을 찾고자 하는 문장\n",
    "m.group(0)"
   ]
  },
  {
   "cell_type": "code",
   "execution_count": 8,
   "metadata": {},
   "outputs": [
    {
     "data": {
      "text/plain": [
       "'12345'"
      ]
     },
     "execution_count": 8,
     "metadata": {},
     "output_type": "execute_result"
    }
   ],
   "source": [
    "m2 = re.match(\"[0-9]+\", \"12345\")\n",
    "#m2 = re.match(r\"[0-9]+\", \"12345\") #패턴과 문자열을 구분하기 위해 r을 붙임(생략 가능)\n",
    "m2.group(0)"
   ]
  },
  {
   "cell_type": "code",
   "execution_count": 9,
   "metadata": {},
   "outputs": [
    {
     "data": {
      "text/plain": [
       "'12345'"
      ]
     },
     "execution_count": 9,
     "metadata": {},
     "output_type": "execute_result"
    }
   ],
   "source": [
    "m2 = re.match(r\"[0-9]+\", \"12345abc\") #패턴과 문자열을 구분하기 위해 r을 붙임(생략 가능)\n",
    "m2.group(0)"
   ]
  },
  {
   "cell_type": "markdown",
   "metadata": {},
   "source": [
    "- \\\\(backslah) 다음에 오는 영문자(소문자 또는 대문자)는 특수한 문자열을 의미. \n",
    "    - \\d는 [0-9]와 같은 의미. d는 0부터 9까지 10개의 숫자 중 하나. d는 decimal(십진수 숫자).\n",
    "    - \\D는 \\d와 반대 의미. 즉 숫자를 제외한 모든 문자가 해당됨.\n",
    "        - [^0-9]와 같은 의미. ^(caret)이 \\[ \\]에서 맨 앞에 사용되면 제외(exception)를 의미."
   ]
  },
  {
   "cell_type": "code",
   "execution_count": 10,
   "metadata": {},
   "outputs": [
    {
     "data": {
      "text/plain": [
       "'12345'"
      ]
     },
     "execution_count": 10,
     "metadata": {},
     "output_type": "execute_result"
    }
   ],
   "source": [
    "m3 = re.match(\"\\d+\", \"12345\") # [0-9]+ 랑 동일\n",
    "m3.group(0)"
   ]
  },
  {
   "cell_type": "code",
   "execution_count": 12,
   "metadata": {},
   "outputs": [
    {
     "name": "stdout",
     "output_type": "stream",
     "text": [
      "Hello, python! \n"
     ]
    }
   ],
   "source": [
    "m4 = re.match(\"\\D+\", \"Hello, python! 12345\") #12345는 \\D+의 패턴이 아님\n",
    "print(m4.group(0)) # [^0-9] 랑 동일"
   ]
  },
  {
   "cell_type": "code",
   "execution_count": 13,
   "metadata": {},
   "outputs": [
    {
     "name": "stdout",
     "output_type": "stream",
     "text": [
      "15 (0, 15)\n",
      "15\n"
     ]
    }
   ],
   "source": [
    "print(len(m4.group(0)), m4.span(0)) #'...python! '와 같이 공백 문자 1개도 포함해 모두 15개.\n",
    "print(len(\"Hello, python! \"))"
   ]
  },
  {
   "cell_type": "markdown",
   "metadata": {},
   "source": [
    "- 기본기를 익혔으니, 이제 실수를 인식하는 정규표현을 정의해 보겠습니다. \n",
    "    - 실수는 소수점을 나타내는 '.'(dot)를 포함하는 데, \n",
    "        - 정규표현에서 '.'는 newline 문자를 제외한 임의의 문자를 가리키는 메타기호로 사용되고 있음. \n",
    "    - 우리가 찾으려는 '.'는 메타 기호가 아닌 실수에 포함된 소수점이기 때문에 \n",
    "        - escape 문자인 \\\\(backslash)를 사용하여 \\\\.로 표현해야 함."
   ]
  },
  {
   "cell_type": "code",
   "execution_count": 16,
   "metadata": {},
   "outputs": [
    {
     "name": "stdout",
     "output_type": "stream",
     "text": [
      "3.141592\n"
     ]
    }
   ],
   "source": [
    "m5 = re.match(r\"\\d+\\.\\d+\", \"3.141592\")\n",
    "print(m5.group(0))"
   ]
  },
  {
   "cell_type": "markdown",
   "metadata": {},
   "source": [
    "그런데, 실수는 3.0과 같이 소수점 이하 숫자가 없을 때 3. 으로 나타내기도 하죠. 이런 표현을 제대로 인식하려면 어떻게 하면 될까요?"
   ]
  },
  {
   "cell_type": "code",
   "execution_count": 17,
   "metadata": {},
   "outputs": [],
   "source": [
    "def check_none(m):\n",
    "    if m:\n",
    "        print(m.group(0))\n",
    "    else:\n",
    "        print('not found')"
   ]
  },
  {
   "cell_type": "markdown",
   "metadata": {},
   "source": [
    "Ooooops!!! 애써 만든 정규 표현으론 제대로 찾지 못하네요 -_-"
   ]
  },
  {
   "cell_type": "code",
   "execution_count": 18,
   "metadata": {},
   "outputs": [
    {
     "name": "stdout",
     "output_type": "stream",
     "text": [
      "not found\n"
     ]
    }
   ],
   "source": [
    "m5 = re.match(r\"\\d+\\.\\d+\", \"3.\")\n",
    "check_none(m5)"
   ]
  },
  {
   "cell_type": "markdown",
   "metadata": {},
   "source": [
    "- 아니 이렇게 간단한 방법이... 뭐가 달라진 거죠? 그렇죠!! meta 기호를 +에서 \\*로 바꿨습니다. \n",
    "    - 메타 기호 +는 소수점 이하 숫자를 절대 생략해선 안돼!라고 했지만,\n",
    "    - 메타 기호 \\*는 소수점 이하 숫자를 생략해도 좋아...물론 있어도 좋고 라는 의미로 바꾼거죠."
   ]
  },
  {
   "cell_type": "code",
   "execution_count": 19,
   "metadata": {},
   "outputs": [
    {
     "name": "stdout",
     "output_type": "stream",
     "text": [
      "3.\n",
      "3.14\n"
     ]
    }
   ],
   "source": [
    "m52 = re.match(r\"\\d+\\.\\d*\", \"3.\")\n",
    "check_none(m52)\n",
    "m53 = re.match(r\"\\d+\\.\\d*\", \"3.14\")\n",
    "check_none(m53)"
   ]
  },
  {
   "cell_type": "markdown",
   "metadata": {},
   "source": [
    "잠시만요. 한 가지 더 확인하고 갈께요... 이제껏 만든 정규표현을 ()로 묶으면 어떻게 될까요?"
   ]
  },
  {
   "cell_type": "code",
   "execution_count": 20,
   "metadata": {},
   "outputs": [
    {
     "name": "stdout",
     "output_type": "stream",
     "text": [
      "3.141592\n",
      "3.141592\n"
     ]
    }
   ],
   "source": [
    "m6 = re.match(r\"(\\d+)\\.(\\d+)\", \"3.141592\") # 정수부와 실수부 나눔\n",
    "print(m6.group())\n",
    "print(m6.group(0))"
   ]
  },
  {
   "cell_type": "markdown",
   "metadata": {},
   "source": [
    "달라진게 없는데요... 정말 그럴까요? group() 대신 groups()로 바꿔볼까요... \n",
    "- 이제껏 group(0)만 출력했는데, group(0), group(1), group(2), ... 까지 출력할 수 있습니다. \n",
    "    - 어떻게 이게 가능해졌죠? 괄호로 묶으면서, 패턴매칭의 부분 결과를 갖게 되었기 때문이죠. \n",
    "- group(0)는 패턴 매칭된 전체 문자열이고, \n",
    "    - group(1), group(2)는 매칭된 부분 문자열을 순서대로 출력하는 거죠."
   ]
  },
  {
   "cell_type": "code",
   "execution_count": 21,
   "metadata": {},
   "outputs": [
    {
     "name": "stdout",
     "output_type": "stream",
     "text": [
      "('3', '141592')\n",
      "3.141592 3 141592\n"
     ]
    }
   ],
   "source": [
    "print(m6.groups())\n",
    "print(m6.group(0), m6.group(1), m6.group(2))"
   ]
  },
  {
   "cell_type": "markdown",
   "metadata": {},
   "source": [
    "- 그렇다면 아래처럼 소수점 기호도 괄호로 묶으면 3개의 부분 문자열 그룹으로 늘어나겠군요... \n",
    "    - That's correct! You are really really smart."
   ]
  },
  {
   "cell_type": "code",
   "execution_count": 22,
   "metadata": {},
   "outputs": [
    {
     "name": "stdout",
     "output_type": "stream",
     "text": [
      "('3', '.', '141592')\n",
      "3.141592 3 . 141592\n"
     ]
    }
   ],
   "source": [
    "m62 = re.match(r\"(\\d+)(\\.)(\\d+)\", \"3.141592\")\n",
    "print(m62.groups())\n",
    "print(m62.group(0), m62.group(1), m62.group(2), m62.group(3))"
   ]
  },
  {
   "cell_type": "markdown",
   "metadata": {},
   "source": [
    "기본기는 마스터 했으니, 좀 더 다양한 정규표현 예제를 알아보도록 하죠."
   ]
  },
  {
   "cell_type": "markdown",
   "metadata": {},
   "source": [
    "- \\\\w는 word(토큰)에 속한 문자 중 하나를 의미. [a-zA-Z0-9_]와 같은 의미.\n",
    "- \\\\W는 word(토큰)에 속하지 않는 문자를 의미. [^a-zA-Z0-9_]와 같은 의미."
   ]
  },
  {
   "cell_type": "code",
   "execution_count": 27,
   "metadata": {},
   "outputs": [],
   "source": [
    "text1 = \"My rank is the 128_th. ?!!\"\n",
    "pattern = \"\\w+\"\n",
    "pattern = \"\\W+\""
   ]
  },
  {
   "cell_type": "markdown",
   "metadata": {},
   "source": [
    "- 잠깐, **findall()** 과 **finditer()** 복습하고 가실께요... \n",
    "    - **findall()** 메소드는 리스트(원소가 문자열인)를 리턴합니다. \n",
    "    - 반면, **finditer()** 메소드는 **iteraror 객체** 를 리턴하며, *iterator* 객체의 원소는 *match* 객체입니다. 꼭!! 기억하세요.\n",
    "- \\\\w+는 형식언어와 자연어처리에서 자주 사용하는 정규표현 중 하나입니다. 바로 token을 찾아주기 때문이죠."
   ]
  },
  {
   "cell_type": "code",
   "execution_count": 30,
   "metadata": {},
   "outputs": [
    {
     "name": "stdout",
     "output_type": "stream",
     "text": [
      "<class 'list'> 5\n",
      "blank\n",
      "blank\n",
      "blank\n",
      "blank\n",
      ". ?!! "
     ]
    }
   ],
   "source": [
    "ml = re.findall(pattern, text1)\n",
    "print(type(ml), len(ml))\n",
    "for m in ml:\n",
    "    if m == ' ':\n",
    "        print('blank')\n",
    "    else:print(m, end=' ')"
   ]
  },
  {
   "cell_type": "code",
   "execution_count": 31,
   "metadata": {},
   "outputs": [
    {
     "name": "stdout",
     "output_type": "stream",
     "text": [
      "<class 'callable_iterator'>\n",
      "Found ' ' at 2:3\n",
      "Found ' ' at 7:8\n",
      "Found ' ' at 10:11\n",
      "Found ' ' at 14:15\n",
      "Found '. ?!!' at 21:26\n"
     ]
    }
   ],
   "source": [
    "mr = re.finditer(pattern, text1)\n",
    "print(type(mr))\n",
    "for m in mr:\n",
    "    s = m.start()\n",
    "    e = m.end()\n",
    "    print(\"Found '%s' at %d:%d\" % (text1[s:e], s, e))"
   ]
  },
  {
   "cell_type": "markdown",
   "metadata": {},
   "source": [
    "### re.sub() 메소드 \n",
    "- re.sub() 메소드는 5개 파라미터가 있음. \n",
    "    - pattern.sub(pattern, repl, string, count=0)는 파라미터가 4개.\n",
    "- re.sub(pattern, repl, string, count=0, flags=0) 에서 \n",
    "    - *pattern*=정규표현, *repl*=교체할 문자열, *string*=적용하려는 텍스트. \n",
    "    - 마지막으로 *count*는 교체 횟수를 지정할 수 있음\n",
    "        - 지정하지 않으면(0), 패턴에 해당하는 모든 문자열을 바꿈."
   ]
  },
  {
   "cell_type": "code",
   "execution_count": 32,
   "metadata": {},
   "outputs": [
    {
     "name": "stdout",
     "output_type": "stream",
     "text": [
      "<class 'str'> 1, Uisadang-daero, Yeongdeungpo-Gu, Seoul\n"
     ]
    }
   ],
   "source": [
    "street = '1, Uisadang-daero, Yeongdeungpo-gu, Seoul' #국회(National Assembly) 주소\n",
    "t = re.sub('gu', 'Gu', street)\n",
    "print(type(t), t)"
   ]
  },
  {
   "cell_type": "markdown",
   "metadata": {},
   "source": [
    "- 간단한 응용 예제로 주민등록번호 마지막 7자리 숫자 중 성별을 나타내는 1,2를 제외한 나머지 6자리 숫자를 \\*(asterisk)기호로 바꿔봅시다. \n",
    "    - 중괄호(curly brackes) \\{, \\}를 사용하여 패턴의 발생 횟수 또는 범위를 지정할 수 있음. \n",
    "    - 패턴 'a{3}'에 해당하는 문자열은 1개, 즉 'aaa'이다. 패턴 a{1,3}에 해당하는 문자열은 3개, 즉 'a, aa, aaa'."
   ]
  },
  {
   "cell_type": "code",
   "execution_count": 33,
   "metadata": {},
   "outputs": [
    {
     "data": {
      "text/plain": [
       "'123456-1******'"
      ]
     },
     "execution_count": 33,
     "metadata": {},
     "output_type": "execute_result"
    }
   ],
   "source": [
    "re.sub('-[0-9]{7}', '-1******', '123456-1234567') # 중괄호 : 발생횟수 지정"
   ]
  },
  {
   "cell_type": "markdown",
   "metadata": {},
   "source": [
    "- 주민등록번호 마지막 7자리 숫자가 '-'로 시작하는 특징을 찾아 잘 바꿨지만, 점수는 100점 만점에 50점. \n",
    "    - 여성인 경우에도 결과는 1\\*\\*\\*\\*\\*\\*로 출력되기 때문. 반쪽만 맞췄기 때문에 50점.\n",
    "    - 메타 기호 '\\\\$'를 사용하면 쉽게 해결. \n",
    "    - 메타기호 \\\\$(dollar)는 텍스트의 맨 끝을 가리킴. 반대로 메타기호 \\^(caret)은 텍스트의 맨 앞을 가리킴.\n",
    "    - 메타기호 \\$를 사용해 주민등록번호 맨 끝에서 6자리 숫자만 \\*(asterisk)로 변경하면 됨."
   ]
  },
  {
   "cell_type": "markdown",
   "metadata": {},
   "source": [
    "Q1: 남성 주민번호 '123456-1234567', 여성 주민번호 '123456-2234567'가 있을 때\n",
    "- 뒷자리 6자리를 \\*로 출력하도록 위 코드를 수정하세요."
   ]
  },
  {
   "cell_type": "code",
   "execution_count": 35,
   "metadata": {},
   "outputs": [
    {
     "name": "stdout",
     "output_type": "stream",
     "text": [
      "123456-1******\n",
      "123456-2******\n"
     ]
    }
   ],
   "source": [
    "print(re.sub('[0-9]{6}$','******','123456-1234567'))\n",
    "print(re.sub('[0-9]{6}$','******','123456-2234567'))"
   ]
  },
  {
   "cell_type": "markdown",
   "metadata": {},
   "source": [
    "Q2 : 위 예제를 간단하게 응용해 휴대폰 번호 마지막 4자리만 \\*로 바꿔봅시다."
   ]
  },
  {
   "cell_type": "code",
   "execution_count": 39,
   "metadata": {},
   "outputs": [
    {
     "data": {
      "text/plain": [
       "'010-1234-****'"
      ]
     },
     "execution_count": 39,
     "metadata": {},
     "output_type": "execute_result"
    }
   ],
   "source": [
    "re.sub('[0-9]{4}$','****','010-1234-5678')"
   ]
  },
  {
   "cell_type": "markdown",
   "metadata": {},
   "source": [
    "텍스트의 맨 앞을 가리키는 \\^ 메타 기호는 아래 예제를 참고!"
   ]
  },
  {
   "cell_type": "code",
   "execution_count": 40,
   "metadata": {},
   "outputs": [
    {
     "name": "stdout",
     "output_type": "stream",
     "text": [
      "['North']\n",
      "['North', 'Korea', 'has', 'insisted', 'that', 'it', 'has', 'no', 'confirmed', 'Covid', 'cases', 'in', 'its', 'territory']\n"
     ]
    }
   ],
   "source": [
    "text2 = \"North Korea has insisted that it has no confirmed Covid-19 cases in its territory.\"\n",
    "print(re.findall('^[A-Za-z]+', text2))\n",
    "print(re.findall('[A-Za-z]+', text2))"
   ]
  },
  {
   "cell_type": "markdown",
   "metadata": {},
   "source": [
    "- unicode 체계에서 한글 음절은 11,172자이며, 훈민정음 창제 원리에 따라 초성, 중성, 종성 순으로 음절을 배치(문자열처리연산.ipynb의 1.2절 참조)\n",
    "    - 첫 음절은 '가'(종성 없음)이며, 마지막 음절은 '힣'.\n",
    "    - 아래 예제는 한글 음절과 공백(space)을 포함하는 토큰을 찾는 예. "
   ]
  },
  {
   "cell_type": "code",
   "execution_count": null,
   "metadata": {},
   "outputs": [],
   "source": [
    "text3 = '류 현진, He is a great baseball pitcher.'\n",
    "print(re.match('[가-힣 ]+', text3))"
   ]
  },
  {
   "cell_type": "code",
   "execution_count": null,
   "metadata": {},
   "outputs": [],
   "source": []
  }
 ],
 "metadata": {
  "kernelspec": {
   "display_name": "Python 3",
   "language": "python",
   "name": "python3"
  },
  "language_info": {
   "codemirror_mode": {
    "name": "ipython",
    "version": 3
   },
   "file_extension": ".py",
   "mimetype": "text/x-python",
   "name": "python",
   "nbconvert_exporter": "python",
   "pygments_lexer": "ipython3",
   "version": "3.7.1"
  }
 },
 "nbformat": 4,
 "nbformat_minor": 2
}
