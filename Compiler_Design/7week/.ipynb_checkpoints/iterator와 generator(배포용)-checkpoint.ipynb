{
 "cells": [
  {
   "cell_type": "markdown",
   "metadata": {},
   "source": [
    "# iterator와 generator "
   ]
  },
  {
   "cell_type": "markdown",
   "metadata": {},
   "source": [
    "All rights reserved, 2021, By Youn-Sik Hong. 수업 목적으로만 활용 가능."
   ]
  },
  {
   "cell_type": "markdown",
   "metadata": {},
   "source": [
    "이 2가지가 왜 필요한가요?\n",
    "- iterator: 모든 루프 sequence에 대해 자원(resource)을 할당하지 않고 현재 실행 중인 루프 index에 대해서만 자원을 할당 --> 자원을 절약. 깔끔한(?) 코드.\n",
    "- generator : 한 번에 하나만 처리. 메모리는 더 필요하지만, CPU는 효과적으로 활용. 코드 길이가 짧고 이해하기 쉬움. \n",
    "\n",
    "**iterator** 와 **generator** 함수와의 차이점(*generator* 표현식은 제외)\n",
    "- 클래스 구현 : iterator - **__iter__** 메소드와 **__next__** 메소드를 모두 구현. generator - **yield** 문을 반드시 포함(*return* 문은 없음)\n",
    "- 값 반환 형태 : iterator - **__next__** 메소드 안의 *return* 문에서 값을 반환. generator - **yield** 문에서 값을 반환.\n",
    "- 예외(exception) 발생 : iterator - **raise** 문에서 *StopIteration* 예외 발생. generator - 함수의 끝에 도달하면 *StopIteration* 예외가 자동 발생."
   ]
  },
  {
   "cell_type": "markdown",
   "metadata": {},
   "source": [
    "## 반복 실행 가능한(**iterable**) 객체와 iterator\n",
    "- tupe, list, dictionary, set, 문자열(str) 등 여러 개 원소를 갖는 객체가 **iterable** 객체. \n",
    "- 루프를 반복할 때마다 여러 개 원소에서 순서대로 하나를 선택해 뭔가를 실행할 수 있기 때문.\n",
    "- *iterator* 객체로 쉽게 변환 가능.\n",
    "    - **__iter__()** 와 **__next__()** 메소드를 갖고 있음. "
   ]
  },
  {
   "cell_type": "code",
   "execution_count": 1,
   "metadata": {},
   "outputs": [
    {
     "name": "stdout",
     "output_type": "stream",
     "text": [
      "<class 'set'>\n",
      "<class 'set_iterator'>\n"
     ]
    }
   ],
   "source": [
    "a_set = {1, 2, 3} #파이썬 set 객체 --> iterable 객체\n",
    "print(type(a_set))\n",
    "\n",
    "b_iterator = a_set.__iter__() #iterator 객체로 변환\n",
    "#b_iterator = iter(a_set) \n",
    "print(type(b_iterator))"
   ]
  },
  {
   "cell_type": "code",
   "execution_count": 2,
   "metadata": {},
   "outputs": [
    {
     "name": "stdout",
     "output_type": "stream",
     "text": [
      "1 2 3 "
     ]
    }
   ],
   "source": [
    "for i in range(len(a_set)):\n",
    "    print(b_iterator.__next__(), end=' ')"
   ]
  },
  {
   "cell_type": "markdown",
   "metadata": {},
   "source": [
    "b_iterator 객체가 마지막 원소까지 루프를 돌았기 때문에 재실행을 위해서는 초기화가 필요."
   ]
  },
  {
   "cell_type": "code",
   "execution_count": null,
   "metadata": {},
   "outputs": [],
   "source": [
    "b_iterator = iter(a_set) \n",
    "for i in range(len(a_set)):\n",
    "    print(next(b_iterator), end=' ')"
   ]
  },
  {
   "cell_type": "markdown",
   "metadata": {},
   "source": [
    "앞에 설명에서 *iterator* 객체는 **__iter__** 메소드와 **__next__** 메소드를 모두 구현한다고 하는 데 확인해 보자!"
   ]
  },
  {
   "cell_type": "code",
   "execution_count": null,
   "metadata": {},
   "outputs": [],
   "source": [
    "print('__iter__' in dir(b_iterator))\n",
    "print('__next__' in dir(b_iterator))"
   ]
  },
  {
   "cell_type": "markdown",
   "metadata": {},
   "source": [
    "반복 실행이 가능한 객체인지 여부는 dir() 메소드를 사용해 확인할 수 있다.\n",
    "- dir() 메소드는 해당 객체의 속성(attribute) 리스트를 리턴한다.\n",
    "- 속성 리스트에 '__iter__'가 포함되어 있으면 해당 객체는 반복 실행 가능한 객체이다."
   ]
  },
  {
   "cell_type": "code",
   "execution_count": null,
   "metadata": {},
   "outputs": [],
   "source": [
    "lis = ['a', 'b', 'c']\n",
    "'__iter__' in dir(lis)"
   ]
  },
  {
   "cell_type": "markdown",
   "metadata": {},
   "source": [
    "직접 나만의 iterator 객체를 만들어 보자\n",
    "- iterator 객체를 반환하는 __iter__() 메소드와 \n",
    "- 호출할 때마다 다음 원소를 전달하는 __next__() 메소드를 구현해야 함."
   ]
  },
  {
   "cell_type": "code",
   "execution_count": null,
   "metadata": {},
   "outputs": [],
   "source": [
    "class MyIterator:\n",
    "    def __init__(self, begin, end):\n",
    "        self.current = 0 #0부터 시작\n",
    "        self.end = end    \n",
    " \n",
    "    def __iter__(self):\n",
    "        return self         \n",
    "    \n",
    "    def __next__(self):\n",
    "        if self.current > self.end:\n",
    "            raise StopIteration  #exception 발생\n",
    "        else:\n",
    "            self.current += 1\n",
    "            return self.current - 1                        "
   ]
  },
  {
   "cell_type": "code",
   "execution_count": null,
   "metadata": {},
   "outputs": [],
   "source": [
    "for i in MyIterator(0, 10):\n",
    "    print(i, end=' ')"
   ]
  },
  {
   "cell_type": "markdown",
   "metadata": {},
   "source": [
    "## generator   \n",
    "- **yield** 문을 포함. 키워드 *yield* 뒤에 값은 반환할 값.\n",
    "- **generator** 객체의 **next** 메소드를 호출하면 *yield* 문까지 코드를 실행한 후 값을 생성(generate). \n",
    "- 이렇게 생성된 값을 **generator** 메소드 바깥으로 전달함과 동시에 실행을 잠시 멈춤. \n",
    "- *yield*는 실행을 양보하고 (*next* 메소드를 호출할 때까지) 기다린다는 뜻으로 해석할 수 있음."
   ]
  },
  {
   "cell_type": "code",
   "execution_count": null,
   "metadata": {},
   "outputs": [],
   "source": [
    "def my_generator(cur, end):\n",
    "    while cur <= end:\n",
    "        yield cur\n",
    "        cur += 1"
   ]
  },
  {
   "cell_type": "code",
   "execution_count": null,
   "metadata": {},
   "outputs": [],
   "source": [
    "for num in my_generator(1,10):\n",
    "    print(num, end=' ')"
   ]
  },
  {
   "cell_type": "code",
   "execution_count": null,
   "metadata": {},
   "outputs": [],
   "source": [
    "g = my_generator(1,10)\n",
    "print(type(g))\n",
    "g.__next__()"
   ]
  },
  {
   "cell_type": "code",
   "execution_count": null,
   "metadata": {},
   "outputs": [],
   "source": [
    "print(next(g))"
   ]
  },
  {
   "cell_type": "markdown",
   "metadata": {},
   "source": [
    "파이썬에서 *generator*는 **generator 메소드** 또는 **generator 표현식** 처럼 2가지 형태로 사용된다. \n",
    "- **generator 메소드** 는 키워드 *yield*를 포함하는 형태이다. \n",
    "- 반면, **generator 표현식** 은 리스트를 생성하는 코딩 스타일의 형태이다. **generator 표현식**도 *generator 객체* 를 반환한다. \n",
    "- 리스트를 만들 때는 \\[ \\](bracket)를 사용하지만, **generator 표현식** 은 ( )(parenthesis)로 묶는다. "
   ]
  },
  {
   "cell_type": "code",
   "execution_count": null,
   "metadata": {},
   "outputs": [],
   "source": [
    "squares = [x * x for x in range(1,10)]\n",
    "print(type(squares), squares)"
   ]
  },
  {
   "cell_type": "code",
   "execution_count": null,
   "metadata": {},
   "outputs": [],
   "source": [
    "squares_g = (x * x for x in range(1,10))\n",
    "print(type(squares_g), list(squares_g))"
   ]
  },
  {
   "cell_type": "markdown",
   "metadata": {},
   "source": [
    "**itertools** 모듈: 파이썬에 내장되어 있는 **iterator 객체**를 생성하는 라이브러리"
   ]
  },
  {
   "cell_type": "code",
   "execution_count": null,
   "metadata": {},
   "outputs": [],
   "source": [
    "from itertools import count\n",
    "\n",
    "odd_number = count(start=1, step=2)\n",
    "#even_number = count(start=0, step=2)\n",
    "\n",
    "k = next(odd_number)\n",
    "while (k <= 10):\n",
    "    print(k, end=' ')\n",
    "    k = next(odd_number)"
   ]
  },
  {
   "cell_type": "markdown",
   "metadata": {},
   "source": [
    "- **itertools** 라이브러리에 **cycle** 모듈을 사용하여 간단한 응용 코드를 만들어보자. \n",
    "    - *cycle*은 단어 의미 그대로 끝까지 가면 다시 처음으로 되돌아오는 **iterator 객체** 를 말함 \n",
    "    - 2021년도 프로야구 정규시즌 1위팀을 예측해 보자. 몇 개 팀이 빠졌지만 간단한 응용 예제일 뿐!!"
   ]
  },
  {
   "cell_type": "code",
   "execution_count": null,
   "metadata": {},
   "outputs": [],
   "source": [
    "from itertools import cycle\n",
    "import random\n",
    "\n",
    "teams = cycle(['LG Twins','Doosan Bears', 'NC Dinos', 'Kiwoom Heroes'])\n",
    "lim = random.randint(0, 4)\n",
    "for i in range(lim):\n",
    "    tn = next(teams)\n",
    "    \n",
    "print('Q. Which team will win the KBO series? A: ' + tn)    "
   ]
  },
  {
   "cell_type": "code",
   "execution_count": null,
   "metadata": {},
   "outputs": [],
   "source": []
  }
 ],
 "metadata": {
  "kernelspec": {
   "display_name": "Python 3",
   "language": "python",
   "name": "python3"
  },
  "language_info": {
   "codemirror_mode": {
    "name": "ipython",
    "version": 3
   },
   "file_extension": ".py",
   "mimetype": "text/x-python",
   "name": "python",
   "nbconvert_exporter": "python",
   "pygments_lexer": "ipython3",
   "version": "3.7.1"
  }
 },
 "nbformat": 4,
 "nbformat_minor": 2
}
