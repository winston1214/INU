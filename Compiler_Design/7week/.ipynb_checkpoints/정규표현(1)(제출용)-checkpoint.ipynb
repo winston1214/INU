{
 "cells": [
  {
   "cell_type": "markdown",
   "metadata": {},
   "source": [
    "# 201600779 김영민"
   ]
  },
  {
   "cell_type": "markdown",
   "metadata": {},
   "source": [
    "# 파이썬 정규표현(1)"
   ]
  },
  {
   "cell_type": "markdown",
   "metadata": {},
   "source": [
    "All rights reserved, 2021, By Youn-Sik Hong. 수업 목적으로만 활용 가능."
   ]
  },
  {
   "cell_type": "markdown",
   "metadata": {},
   "source": [
    "# Quiz \n",
    "- 이 handout sheet에는 2개의 Quiz가 있습니다.\n",
    "    - Q1, Q2로 표시해 놓았습니다. 잘 찾아보세요~\n",
    "    - 비어있는 셀에 퀴즈에 대한 정답 코드를 작성하고 실행 결과를 보여야 합니다.    \n",
    "- 모든 셀의 실행 결과가 포함되어 있어야 합니다. \n",
    "    - 즉, 모든 셀에는 셀 번호가 있어야 합니다."
   ]
  },
  {
   "cell_type": "markdown",
   "metadata": {},
   "source": [
    "정규표현(regular expression)은 메타 기호(meta symbol)들을 사용하여 패턴을 정의합니다. 찾고 싶은 문자열의 특징(즉 패턴)을 메타 기호를 사용해 정규표현으로 표현합니다. 내부적으로 정규표현은 유한오토마타로 변환되어 코드로 구현됩니다. 정규표현을 유한오토마타로 변환하고, 이 오토마트를 프로그래밍 언어로 변환하는 일련의 과정은 더 이상 건드릴 게 없을 만큼 완벽한 도구(예, flex, javaCC 등)가 마련되어 있습니다. 기억해야 할 것은 정규표현만으로 원하는 모든 패턴을 다 찾지 못한다는 점입니다. 정규표현은 단어(토큰) 패턴을 정의하고 단어를 찾는 데에만 유용합니다. 조금 더 복잡한 형태의 패턴은 문맥자유문법(context free grammar)으로 나타낼 수 있습니다. Chomsky 분류가 등장하게 된 이유이기도 합니다."
   ]
  },
  {
   "cell_type": "markdown",
   "metadata": {},
   "source": [
    "참고 사이트 \n",
    "- 파이썬 re 모듈에 관한 튜토리얼: https://docs.python.org/3/howto/regex.html#regex-howto\n",
    "- 파이썬 re 라이브러리(메타심볼, 상수, 메소드 등) 상세 설명: https://docs.python.org/3/library/re.html#module-re"
   ]
  },
  {
   "cell_type": "markdown",
   "metadata": {},
   "source": [
    "제일 먼저 해야 할 일은 re 모듈을 가져오는(import) 것입니다. \n",
    "- 정규표현을 사용할 때 3개의 객체를 기억합시다. \n",
    "- re 모듈 객체, pattern 객체 및 match 객체입니다. "
   ]
  },
  {
   "cell_type": "code",
   "execution_count": 1,
   "metadata": {},
   "outputs": [],
   "source": [
    "import re "
   ]
  },
  {
   "cell_type": "markdown",
   "metadata": {},
   "source": [
    "원하는 문자열의 특징을 정규표현을 사용하여 패턴으로 정의하고, 찾는 방법은 2가지가 있습니다. "
   ]
  },
  {
   "cell_type": "markdown",
   "metadata": {},
   "source": [
    "첫 번째 방법은 패턴 객체를 생성하고, 패턴 객체의 메소드인 **match** 나 **search** 를 사용하여 문자열(token)을 찾는 것입니다.\n",
    "- 패턴 객체 생성: **re.compile(pattern, flags=0)**. \n",
    "    - *flags*는 **re.IGNORECASE, re.DEBUG** 처럼 re 모듈에서 미리 정의해 놓은 상수. \n",
    "    - 여러 개 상수를 정의하려면 '|'(vertical bar)를 사용."
   ]
  },
  {
   "cell_type": "markdown",
   "metadata": {},
   "source": [
    "패턴 객체 p가 찾으려는 패턴은 'python'"
   ]
  },
  {
   "cell_type": "code",
   "execution_count": 3,
   "metadata": {},
   "outputs": [
    {
     "name": "stdout",
     "output_type": "stream",
     "text": [
      "<class 're.Pattern'>\n",
      "re.compile('python')\n"
     ]
    }
   ],
   "source": [
    "p = re.compile('python') # 찾고자 하는 패턴\n",
    "print(type(p))\n",
    "print(p)"
   ]
  },
  {
   "cell_type": "markdown",
   "metadata": {},
   "source": [
    "### pattern.match(string[, pos[, endpos]]) \n",
    "- **pos**는 탐색 시작 위치이며, **endpos**는 탐색 끝 위치. \n",
    "    - 실제 탐색은 *endpos-1*에서 끝남. \n",
    "- 아래 코드에서 **p.match()** 와 같이 패턴 객체 p의 메소드를 호출. \n",
    "    - 문자열의 첫 번째 문자가 패턴의 첫 번째 문자와 일치해야만 함. \n",
    "    - 패턴과 일치하는 문자열을 찾으면 시작위치, 끝위치(span=(0,6)) 등 정보를 출력. 못찾으면 None을 출력."
   ]
  },
  {
   "cell_type": "code",
   "execution_count": 4,
   "metadata": {},
   "outputs": [
    {
     "name": "stdout",
     "output_type": "stream",
     "text": [
      "<re.Match object; span=(0, 6), match='python'>\n"
     ]
    }
   ],
   "source": [
    "print(p.match(\"python!!\"))"
   ]
  },
  {
   "cell_type": "markdown",
   "metadata": {},
   "source": [
    "Q1: 아래 예에서 처음에는 왜 못찾고, 다음에는 찾았을까요? **A1: (답을 작성하세요)**"
   ]
  },
  {
   "cell_type": "code",
   "execution_count": 6,
   "metadata": {},
   "outputs": [
    {
     "name": "stdout",
     "output_type": "stream",
     "text": [
      "None\n",
      "<re.Match object; span=(7, 13), match='python'>\n",
      "None\n"
     ]
    }
   ],
   "source": [
    "print(p.match(\"Hello, python!!\"))\n",
    "print(p.match(\"Hello, python!!\", 7))\n",
    "print(p.match(\"Hello, python!!\", 6))"
   ]
  },
  {
   "cell_type": "markdown",
   "metadata": {},
   "source": [
    "**A1 : 첫번째 코드는 패턴이 시작되는 위치가 0으로 설정되어 있기 때문에 찾지 못한다. 그러나 두번째 코드는 시작 위치가 \"python\"과 동일 패턴이기 때문에 찾을 수 있다.**"
   ]
  },
  {
   "cell_type": "markdown",
   "metadata": {},
   "source": [
    "**compile()** 메소드의 2번째 인자인 *flags* 옵션을 지정하고 테스트 해 봅시다."
   ]
  },
  {
   "cell_type": "code",
   "execution_count": 7,
   "metadata": {},
   "outputs": [
    {
     "name": "stdout",
     "output_type": "stream",
     "text": [
      "<re.Match object; span=(0, 6), match='Python'>\n"
     ]
    }
   ],
   "source": [
    "p = re.compile('python', re.IGNORECASE) # 대소문자 구별 X\n",
    "print(p.match(\"Python!!\"))"
   ]
  },
  {
   "cell_type": "markdown",
   "metadata": {},
   "source": [
    "두 번째 방법은 패턴 객체를 생성하지 않고, **re** 모듈의 **match()** 메소드를 직접 호출하는 것입니다. "
   ]
  },
  {
   "cell_type": "markdown",
   "metadata": {},
   "source": [
    "### re.match(pattern, string, flags=0)\n",
    "- 패턴(pattern)과 문자열(string)을 함께 파라미터로 포함.\n",
    "    - pattern과 string 구분을 위해 pattern 앞에 r을 붙임(생략 가능).\n",
    "- *match* 객체를 리턴.\n",
    "- 마지막 파라미터 *flags*는 앞에서 설명한 것처럼 re 모듈에서 정의한 상수.  "
   ]
  },
  {
   "cell_type": "code",
   "execution_count": 10,
   "metadata": {},
   "outputs": [
    {
     "name": "stdout",
     "output_type": "stream",
     "text": [
      "<class 're.Match'>\n",
      "<class 're.Match'>\n"
     ]
    }
   ],
   "source": [
    "m = re.match(r\"python\", \"python\")  #정규표현 앞에 r을 붙임\n",
    "m2 = re.match(\"python\", \"python\")  #r을 생략\n",
    "print(type(m))\n",
    "print(type(m2)) # r을 쓰건 안쓰건 상관 없다"
   ]
  },
  {
   "cell_type": "markdown",
   "metadata": {},
   "source": [
    "### match 객체\n",
    "- match 객체에 저장된 검색 내용은 **group(), start(), end(), span()** 등의 메소드로 확인할 수 있습니다. \n",
    "    - **group(0)** 은 정규표현의 패턴과 일치하는 전체 문자열(entire string). \n",
    "    - 전체 문자열 중 첫번째 부분 문자열, 두번째 부분 문자열 등을 찾고 싶으면 **group(1), group(2)** 와 같이 지정. \n",
    "    - **m.group(0)** 대신 **m[0]** 처럼 인덱스를 사용해도 됨."
   ]
  },
  {
   "cell_type": "code",
   "execution_count": 36,
   "metadata": {},
   "outputs": [
    {
     "name": "stdout",
     "output_type": "stream",
     "text": [
      "python python 0 6 (0, 6)\n"
     ]
    }
   ],
   "source": [
    "m = re.match(r\"python\", \"python is one of the most popular language\",0)\n",
    "print(m[0], m.group(0), m.start(0), m.end(0), m.span(0))"
   ]
  },
  {
   "cell_type": "code",
   "execution_count": 15,
   "metadata": {},
   "outputs": [
    {
     "name": "stdout",
     "output_type": "stream",
     "text": [
      "python python 0 6 (0, 6)\n"
     ]
    }
   ],
   "source": [
    "print(m[0], m.group(), m.start(), m.end(), m.span()) # 0 생략 가능"
   ]
  },
  {
   "cell_type": "markdown",
   "metadata": {},
   "source": [
    "- 지금까지 정규표현을 사용한 문자열 탐색 코딩 기본을 익혔습니다. \n",
    "    - **match()** 메소드만 사용했지만, 이번에는 **search()** 메소드를 사용해 2가지 스타일로 구현해 봅시다. \n",
    "    - **match()** 와 **search()** 가 비슷할 거 같지만 엄청난 차이가 있습니다.\n",
    "    - 아래 예에서 이제껏 **match()** 실행 결과는 *None*이었지만, 놀랍게도 **search()** 는 찾습니다!!!"
   ]
  },
  {
   "cell_type": "code",
   "execution_count": 19,
   "metadata": {},
   "outputs": [
    {
     "name": "stdout",
     "output_type": "stream",
     "text": [
      "match 메소드 적용 =  None\n",
      "search 메소드 적용 =  <re.Match object; span=(7, 13), match='python'>\n"
     ]
    }
   ],
   "source": [
    "p = re.compile('python') \n",
    "print('match 메소드 적용 = ', p.match(\"Hello, python!!\")) # 시작 위치부터 일치\n",
    "print('search 메소드 적용 = ', p.search(\"Hello, python!!\")) # 시작 위치 상관 X"
   ]
  },
  {
   "cell_type": "markdown",
   "metadata": {},
   "source": [
    "- **match** 객체가 *None*인지 체크하지 않으면 runtime error가 발생합니다. \n",
    "    - 아래 코드에서 주석을 없애고 실행시켜 보세요!\n",
    "- 당연한 얘기지만, **match** 객체가 None이 아니어야 **match[0]** 과 같은 인덱싱 연산을 할 수 있기 때문이죠."
   ]
  },
  {
   "cell_type": "code",
   "execution_count": 20,
   "metadata": {},
   "outputs": [
    {
     "name": "stdout",
     "output_type": "stream",
     "text": [
      "<class 're.Match'>\n"
     ]
    },
    {
     "ename": "TypeError",
     "evalue": "'NoneType' object is not subscriptable",
     "output_type": "error",
     "traceback": [
      "\u001b[1;31m---------------------------------------------------------------------------\u001b[0m",
      "\u001b[1;31mTypeError\u001b[0m                                 Traceback (most recent call last)",
      "\u001b[1;32m<ipython-input-20-5f66515fde0a>\u001b[0m in \u001b[0;36m<module>\u001b[1;34m\u001b[0m\n\u001b[0;32m      2\u001b[0m \u001b[0mm_search\u001b[0m \u001b[1;33m=\u001b[0m \u001b[0mre\u001b[0m\u001b[1;33m.\u001b[0m\u001b[0msearch\u001b[0m\u001b[1;33m(\u001b[0m\u001b[1;34m\"python\"\u001b[0m\u001b[1;33m,\u001b[0m \u001b[1;34m\"Hello, python!!\"\u001b[0m\u001b[1;33m)\u001b[0m\u001b[1;33m\u001b[0m\u001b[1;33m\u001b[0m\u001b[0m\n\u001b[0;32m      3\u001b[0m \u001b[0mprint\u001b[0m\u001b[1;33m(\u001b[0m\u001b[0mtype\u001b[0m\u001b[1;33m(\u001b[0m\u001b[0mm_search\u001b[0m\u001b[1;33m)\u001b[0m\u001b[1;33m)\u001b[0m\u001b[1;33m\u001b[0m\u001b[1;33m\u001b[0m\u001b[0m\n\u001b[1;32m----> 4\u001b[1;33m \u001b[0mprint\u001b[0m\u001b[1;33m(\u001b[0m\u001b[1;34m'match 메소드 적용 = '\u001b[0m\u001b[1;33m,\u001b[0m \u001b[0mm_match\u001b[0m\u001b[1;33m[\u001b[0m\u001b[1;36m0\u001b[0m\u001b[1;33m]\u001b[0m\u001b[1;33m)\u001b[0m\u001b[1;33m\u001b[0m\u001b[1;33m\u001b[0m\u001b[0m\n\u001b[0m",
      "\u001b[1;31mTypeError\u001b[0m: 'NoneType' object is not subscriptable"
     ]
    }
   ],
   "source": [
    "m_match = re.match(\"python\", \"Hello, python!!\")\n",
    "m_search = re.search(\"python\", \"Hello, python!!\")\n",
    "print(type(m_search))\n",
    "print('match 메소드 적용 = ', m_match[0]) # Nonetype으로 뜸"
   ]
  },
  {
   "cell_type": "markdown",
   "metadata": {},
   "source": [
    "- **match()** 메소드는 (문자열의) 첫 문자부터 패턴과 일치해야 하지만,\n",
    "- **search()** 메소드는 문자열 어딘가에라도 있으면 찾습니다. 이것이 가장 큰 차이점입니다.\n",
    "- 위의 코드는 아래처럼 코딩해야 합니다. "
   ]
  },
  {
   "cell_type": "code",
   "execution_count": 21,
   "metadata": {},
   "outputs": [
    {
     "name": "stdout",
     "output_type": "stream",
     "text": [
      "run match() = Not found\n",
      "run search() =  python found\n"
     ]
    }
   ],
   "source": [
    "if m_match: # match object is not null\n",
    "    print('run match() = ', m_match[0], 'found')\n",
    "else:\n",
    "    print('run match() = Not found')\n",
    "\n",
    "if m_search: \n",
    "    print('run search() = ', m_search[0], 'found')\n",
    "else:\n",
    "    print('run search() = Not found')"
   ]
  },
  {
   "cell_type": "markdown",
   "metadata": {},
   "source": [
    "정규표현 메타기호를 설명하기 전에 마지막으로 **findall(), finditer()** 메소드를 사용해 보면서 코딩 스타일을 복습해 봅시다.\n",
    "- 이 예에서는 두 번째 방식, 즉 re 모듈을 사용해서 구현합니다. \n",
    "- **Q2: 첫 번째 방식은 여러분이 직접 구현한 셀을 추가하세요.**\n",
    "    - 아래 코드를 보면서 **findall()** 과 **finditer()** 2가지 방법으로 다 구현하세요.\n",
    "- **findall()** 메소드는 **리스트** *m*을 리턴하며, **finditer()** 메소드는 **iterator** 객체 *m2*를 리턴합니다. \n",
    "- 리스트 객체 *m*의 원소는 str 객체이지만, iterator 객체 *m2*의 원소는 *match* 객체입니다. \n",
    "- 분명히 다르죠! 그래서 똑같이 for 루프를 돌며 출력하지만 결과가 다릅니다."
   ]
  },
  {
   "cell_type": "code",
   "execution_count": 22,
   "metadata": {},
   "outputs": [],
   "source": [
    "#python은 비단뱀과 동음이의어 입니다.\n",
    "sample_text = \"Hi, python. Do you know that python is synonymous with the meaning of python?\"\n",
    "re_pattern = \"python\""
   ]
  },
  {
   "cell_type": "markdown",
   "metadata": {},
   "source": [
    "-----"
   ]
  },
  {
   "cell_type": "markdown",
   "metadata": {},
   "source": [
    "- My Code\n",
    "    - findall"
   ]
  },
  {
   "cell_type": "code",
   "execution_count": 56,
   "metadata": {},
   "outputs": [
    {
     "name": "stdout",
     "output_type": "stream",
     "text": [
      "<class 'str'> python\n",
      "<class 'str'> python\n",
      "<class 'str'> python\n"
     ]
    }
   ],
   "source": [
    "# findall\n",
    "p = re.compile(re_pattern)\n",
    "m=p.match(sample_text,len(sample_text)-1)\n",
    "for i in range(len(sample_text)-1):\n",
    "    m=p.match(sample_text,i)\n",
    "    if m:\n",
    "        print(type(m[0]),m[0])"
   ]
  },
  {
   "cell_type": "markdown",
   "metadata": {},
   "source": [
    "- finditer"
   ]
  },
  {
   "cell_type": "code",
   "execution_count": 74,
   "metadata": {},
   "outputs": [
    {
     "name": "stdout",
     "output_type": "stream",
     "text": [
      "<re.Match object; span=(4, 10), match='python'>\n",
      "<re.Match object; span=(29, 35), match='python'>\n",
      "<re.Match object; span=(70, 76), match='python'>\n"
     ]
    }
   ],
   "source": [
    "# finditer\n",
    "p = re.compile(re_pattern)\n",
    "ls = []\n",
    "for i in range(len(sample_text)-1):\n",
    "    m = p.match(sample_text,i)\n",
    "    if m:\n",
    "        ls.append(m)\n",
    "iteration = ls.__iter__()\n",
    "for i in range(len(ls)):\n",
    "    print(iteration.__next__())"
   ]
  },
  {
   "cell_type": "markdown",
   "metadata": {},
   "source": [
    "--------"
   ]
  },
  {
   "cell_type": "code",
   "execution_count": 26,
   "metadata": {},
   "outputs": [
    {
     "name": "stdout",
     "output_type": "stream",
     "text": [
      "<class 'list'>\n",
      "<class 'str'> python\n",
      "<class 'str'> python\n",
      "<class 'str'> python\n"
     ]
    }
   ],
   "source": [
    "m = re.findall(re_pattern, sample_text)\n",
    "\n",
    "if m:\n",
    "    print(type(m))\n",
    "    for r in m:\n",
    "        print(type(r), r)\n",
    "else:\n",
    "    print('Not found')"
   ]
  },
  {
   "cell_type": "code",
   "execution_count": 28,
   "metadata": {},
   "outputs": [
    {
     "name": "stdout",
     "output_type": "stream",
     "text": [
      "<class 'callable_iterator'>\n",
      "Found \"python\" at 4:10\n",
      "Found \"python\" at 29:35\n",
      "Found \"python\" at 70:76\n"
     ]
    }
   ],
   "source": [
    "m2 = re.finditer(re_pattern, sample_text)\n",
    "if m2:    \n",
    "    print(type(m2))\n",
    "    for r2 in m2:\n",
    "        s = r2.start()\n",
    "        e = r2.end()\n",
    "        print('Found \"%s\" at %d:%d' % (sample_text[s:e], s, e))\n",
    "else:\n",
    "    print('Not found')     "
   ]
  },
  {
   "cell_type": "markdown",
   "metadata": {},
   "source": [
    "- 일방적으로 **finditer()**에게 유리하게 의도적으로 코딩한 것처럼 느낄 수 있겠군요... \n",
    "    - **finditer()** 메소드 실행 결과 리스트가 아닌 *match* 객체를 리턴하기 때문이죠. \n",
    "    - *iterator*에 대해 잘 모르는 사람은 **iterator와 generator.ipynb** 를 보며 실습해 보기 바랍니다. \n",
    "- 풀 죽어 있는 **findall()** 메소드를 달래기 위해 조금 수정한 코드를 실행시켜 보는 걸로 이 실습을 마칩니다."
   ]
  },
  {
   "cell_type": "code",
   "execution_count": 29,
   "metadata": {},
   "outputs": [
    {
     "name": "stdout",
     "output_type": "stream",
     "text": [
      "Searching for \"python\" in \"Hi, python...\" -> Found!\n",
      "Searching for \"synonymous\" in \"Hi, python...\" -> Found!\n",
      "Searching for \"meaning\" in \"Hi, python...\" -> Found!\n",
      "Searching for \"snake\" in \"Hi, python...\" -> Not Found!\n"
     ]
    }
   ],
   "source": [
    "sample_text = \"Hi, python. Do you know that python is synonymous with the meaning of python?\"\n",
    "pattern_list = [\"python\", \"synonymous\", \"meaning\", \"snake\"]\n",
    "\n",
    "for pat in pattern_list:\n",
    "    print('Searching for \"%s\" in \"%s...\" ->' % (pat, sample_text[:10]), end=' ')\n",
    "    if re.findall(pat, sample_text):\n",
    "        print('Found!')\n",
    "    else:\n",
    "        print('Not Found!')    "
   ]
  },
  {
   "cell_type": "markdown",
   "metadata": {},
   "source": [
    "- 제목이 정규표현인데 아직 정규표현의 '정'자도 못했죠.\n",
    "- 걱정마세요, 기본기를 다졌으니 이제부터 지루한 meta 기호를 사용하여 패턴을 정의하는 실습을 시작하겠습니다. \n",
    "- meta 기호에 따라 찾는 패턴이 달라지기 때문에 meta 기호의 의미를 정확히 아는 것이 중요, 또 중요합니다."
   ]
  },
  {
   "cell_type": "code",
   "execution_count": null,
   "metadata": {},
   "outputs": [],
   "source": []
  }
 ],
 "metadata": {
  "kernelspec": {
   "display_name": "Python 3",
   "language": "python",
   "name": "python3"
  },
  "language_info": {
   "codemirror_mode": {
    "name": "ipython",
    "version": 3
   },
   "file_extension": ".py",
   "mimetype": "text/x-python",
   "name": "python",
   "nbconvert_exporter": "python",
   "pygments_lexer": "ipython3",
   "version": "3.7.1"
  }
 },
 "nbformat": 4,
 "nbformat_minor": 2
}
